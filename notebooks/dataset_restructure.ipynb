{
 "cells": [
  {
   "cell_type": "markdown",
   "id": "4c6cd253",
   "metadata": {},
   "source": [
    "# Data folder creation from downloaded dataset"
   ]
  },
  {
   "cell_type": "code",
   "execution_count": null,
   "id": "51787913",
   "metadata": {},
   "outputs": [],
   "source": [
    "import os\n",
    "import shutil\n",
    "import random"
   ]
  },
  {
   "cell_type": "code",
   "execution_count": 4,
   "id": "c3a0e9f5",
   "metadata": {},
   "outputs": [
    {
     "name": "stdout",
     "output_type": "stream",
     "text": [
      "dew: 698 files\n",
      "fogsmog: 851 files\n",
      "frost: 475 files\n",
      "glaze: 639 files\n",
      "hail: 591 files\n",
      "lightning: 377 files\n",
      "rain: 526 files\n",
      "rainbow: 232 files\n",
      "rime: 1160 files\n",
      "sandstorm: 692 files\n",
      "snow: 621 files\n"
     ]
    }
   ],
   "source": [
    "def count_files_in_subfolders(folder_path):\n",
    "    results = {}\n",
    "    # Loop through items in the main folder\n",
    "    for entry in os.scandir(folder_path):\n",
    "        if entry.is_dir():\n",
    "            # Count files inside each subfolder\n",
    "            file_count = sum(1 for item in os.scandir(entry.path) if item.is_file())\n",
    "            results[entry.name] = file_count\n",
    "    return results\n",
    "\n",
    "# Example usage:\n",
    "folder_path = \"../dataset\"  # change this to your folder\n",
    "counts = count_files_in_subfolders(folder_path)\n",
    "\n",
    "for subfolder, count in counts.items():\n",
    "    print(f\"{subfolder}: {count} files\")"
   ]
  },
  {
   "cell_type": "code",
   "execution_count": 8,
   "id": "a7c85bc7",
   "metadata": {},
   "outputs": [
    {
     "name": "stdout",
     "output_type": "stream",
     "text": [
      "Dataset split completed!\n"
     ]
    }
   ],
   "source": [
    "def split_dataset(source_folder, dest_folder, train_ratio=0.8, val_ratio=0.1, test_ratio=0.1):\n",
    "    # Create destination folders\n",
    "    for split in ['train', 'val', 'test']:\n",
    "        split_path = os.path.join(dest_folder, split)\n",
    "        os.makedirs(split_path, exist_ok=True)\n",
    "\n",
    "    # Loop over each class/subfolder in the source\n",
    "    for class_name in os.listdir(source_folder):\n",
    "        class_path = os.path.join(source_folder, class_name)\n",
    "        if not os.path.isdir(class_path):\n",
    "            continue  # skip files\n",
    "\n",
    "        # Get all files in this class\n",
    "        files = [f for f in os.listdir(class_path) if os.path.isfile(os.path.join(class_path, f))]\n",
    "        random.shuffle(files)\n",
    "\n",
    "        n_total = len(files)\n",
    "        n_train = int(n_total * train_ratio)\n",
    "        n_val = int(n_total * val_ratio)\n",
    "        n_test = n_total - n_train - n_val\n",
    "\n",
    "        splits = {\n",
    "            'train': files[:n_train],\n",
    "            'val': files[n_train:n_train+n_val],\n",
    "            'test': files[n_train+n_val:]\n",
    "        }\n",
    "\n",
    "        # Copy files to the new structure\n",
    "        for split_name, split_files in splits.items():\n",
    "            split_class_folder = os.path.join(dest_folder, split_name, class_name)\n",
    "            os.makedirs(split_class_folder, exist_ok=True)\n",
    "            for f in split_files:\n",
    "                src_file = os.path.join(class_path, f)\n",
    "                dst_file = os.path.join(split_class_folder, f)\n",
    "                shutil.copy2(src_file, dst_file)\n",
    "\n",
    "    print(\"Dataset split completed!\")\n",
    "\n",
    "# Example usage:\n",
    "source_folder = \"../dataset\"\n",
    "dest_folder = \"../data\"\n",
    "split_dataset(source_folder, dest_folder)\n"
   ]
  },
  {
   "cell_type": "code",
   "execution_count": 10,
   "id": "d34f3428",
   "metadata": {},
   "outputs": [
    {
     "name": "stdout",
     "output_type": "stream",
     "text": [
      "----In ../data/train we have----\n",
      "dew: 558 files\n",
      "fogsmog: 680 files\n",
      "frost: 380 files\n",
      "glaze: 511 files\n",
      "hail: 472 files\n",
      "lightning: 301 files\n",
      "rain: 420 files\n",
      "rainbow: 185 files\n",
      "rime: 928 files\n",
      "sandstorm: 553 files\n",
      "snow: 496 files\n",
      "----In ../data/val we have----\n",
      "dew: 69 files\n",
      "fogsmog: 85 files\n",
      "frost: 47 files\n",
      "glaze: 63 files\n",
      "hail: 59 files\n",
      "lightning: 37 files\n",
      "rain: 52 files\n",
      "rainbow: 23 files\n",
      "rime: 116 files\n",
      "sandstorm: 69 files\n",
      "snow: 62 files\n",
      "----In ../data/test we have----\n",
      "dew: 71 files\n",
      "fogsmog: 86 files\n",
      "frost: 48 files\n",
      "glaze: 65 files\n",
      "hail: 60 files\n",
      "lightning: 39 files\n",
      "rain: 54 files\n",
      "rainbow: 24 files\n",
      "rime: 116 files\n",
      "sandstorm: 70 files\n",
      "snow: 63 files\n"
     ]
    }
   ],
   "source": [
    "folders = [\"../data/train\", \"../data/val\", \"../data/test\"]\n",
    "\n",
    "for folder in folders:\n",
    "    print(f'----In {folder} we have----')\n",
    "    counts = count_files_in_subfolders(folder)\n",
    "    for subfolder, count in counts.items():\n",
    "        print(f\"{subfolder}: {count} files\")"
   ]
  }
 ],
 "metadata": {
  "kernelspec": {
   "display_name": "py311ml",
   "language": "python",
   "name": "python3"
  },
  "language_info": {
   "codemirror_mode": {
    "name": "ipython",
    "version": 3
   },
   "file_extension": ".py",
   "mimetype": "text/x-python",
   "name": "python",
   "nbconvert_exporter": "python",
   "pygments_lexer": "ipython3",
   "version": "3.11.13"
  }
 },
 "nbformat": 4,
 "nbformat_minor": 5
}
