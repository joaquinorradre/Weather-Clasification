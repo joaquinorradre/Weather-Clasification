{
 "cells": [
  {
   "cell_type": "code",
   "execution_count": 1,
   "id": "d2bc7a26",
   "metadata": {},
   "outputs": [],
   "source": [
    "import sys\n",
    "import os\n",
    "\n",
    "# Add the root folder of your project\n",
    "root_path = os.path.abspath(os.path.join(\"..\", \"..\"))  # two levels up from experiments\n",
    "sys.path.append(root_path)\n",
    "\n",
    "from weather_classification.modeling.mlp import MLPClassifier\n",
    "from weather_classification.weather_dataset import WeatherDataset\n",
    "from weather_classification.train import train_model\n",
    "\n",
    "import torch"
   ]
  },
  {
   "cell_type": "code",
   "execution_count": 2,
   "id": "4596f311",
   "metadata": {},
   "outputs": [
    {
     "name": "stderr",
     "output_type": "stream",
     "text": [
      "Epoch 1/5 [Train]: 100%|██████████| 86/86 [00:25<00:00,  3.32it/s]\n",
      "Epoch 1/5 [Val]: 100%|██████████| 11/11 [00:02<00:00,  4.45it/s]\n"
     ]
    },
    {
     "name": "stdout",
     "output_type": "stream",
     "text": [
      "Epoch 1/5: Train Loss=2.1951, Train Acc=0.2387, Val Loss=1.8511, Val Acc=0.3666\n",
      "Best model saved in c:\\Users\\joaqu\\Desktop\\MASTER\\Foundations\\Entrega CNN\\Weather-Clasification\\models\\best_model_MLPClassifier.pth (val_acc=0.3666)\n"
     ]
    },
    {
     "name": "stderr",
     "output_type": "stream",
     "text": [
      "Epoch 2/5 [Train]: 100%|██████████| 86/86 [00:25<00:00,  3.40it/s]\n",
      "Epoch 2/5 [Val]: 100%|██████████| 11/11 [00:02<00:00,  4.39it/s]\n"
     ]
    },
    {
     "name": "stdout",
     "output_type": "stream",
     "text": [
      "Epoch 2/5: Train Loss=1.8244, Train Acc=0.3729, Val Loss=1.7711, Val Acc=0.4047\n",
      "Best model saved in c:\\Users\\joaqu\\Desktop\\MASTER\\Foundations\\Entrega CNN\\Weather-Clasification\\models\\best_model_MLPClassifier.pth (val_acc=0.4047)\n"
     ]
    },
    {
     "name": "stderr",
     "output_type": "stream",
     "text": [
      "Epoch 3/5 [Train]: 100%|██████████| 86/86 [00:25<00:00,  3.38it/s]\n",
      "Epoch 3/5 [Val]: 100%|██████████| 11/11 [00:02<00:00,  4.38it/s]\n"
     ]
    },
    {
     "name": "stdout",
     "output_type": "stream",
     "text": [
      "Epoch 3/5: Train Loss=1.7972, Train Acc=0.3975, Val Loss=1.6747, Val Acc=0.4663\n",
      "Best model saved in c:\\Users\\joaqu\\Desktop\\MASTER\\Foundations\\Entrega CNN\\Weather-Clasification\\models\\best_model_MLPClassifier.pth (val_acc=0.4663)\n"
     ]
    },
    {
     "name": "stderr",
     "output_type": "stream",
     "text": [
      "Epoch 4/5 [Train]: 100%|██████████| 86/86 [00:25<00:00,  3.40it/s]\n",
      "Epoch 4/5 [Val]: 100%|██████████| 11/11 [00:02<00:00,  4.31it/s]\n"
     ]
    },
    {
     "name": "stdout",
     "output_type": "stream",
     "text": [
      "Epoch 4/5: Train Loss=1.7175, Train Acc=0.4358, Val Loss=1.6168, Val Acc=0.4883\n",
      "Best model saved in c:\\Users\\joaqu\\Desktop\\MASTER\\Foundations\\Entrega CNN\\Weather-Clasification\\models\\best_model_MLPClassifier.pth (val_acc=0.4883)\n"
     ]
    },
    {
     "name": "stderr",
     "output_type": "stream",
     "text": [
      "Epoch 5/5 [Train]: 100%|██████████| 86/86 [00:25<00:00,  3.36it/s]\n",
      "Epoch 5/5 [Val]: 100%|██████████| 11/11 [00:02<00:00,  4.45it/s]\n"
     ]
    },
    {
     "name": "stdout",
     "output_type": "stream",
     "text": [
      "Epoch 5/5: Train Loss=1.6907, Train Acc=0.4378, Val Loss=1.6048, Val Acc=0.4985\n",
      "Best model saved in c:\\Users\\joaqu\\Desktop\\MASTER\\Foundations\\Entrega CNN\\Weather-Clasification\\models\\best_model_MLPClassifier.pth (val_acc=0.4985)\n",
      "Training complete. Best val_acc=0.4985\n",
      "MMetrics saved in c:\\Users\\joaqu\\Desktop\\MASTER\\Foundations\\Entrega CNN\\Weather-Clasification\\reports\\metrics\\metrics_MLPClassifier.pkl\n"
     ]
    }
   ],
   "source": [
    "input_dim = 64*64*3  # matches the Resize transform\n",
    "model = train_model(MLPClassifier, \n",
    "                    train_dir=\"../../data/train\", \n",
    "                    val_dir=\"../../data/val\", \n",
    "                    input_dim=input_dim,\n",
    "                    num_classes=11,\n",
    "                    batch_size=64,\n",
    "                    epochs=5,\n",
    "                    lr=1e-3,\n",
    "                    device=\"cuda\" if torch.cuda.is_available() else \"cpu\")\n"
   ]
  }
 ],
 "metadata": {
  "kernelspec": {
   "display_name": "Python 3",
   "language": "python",
   "name": "python3"
  },
  "language_info": {
   "codemirror_mode": {
    "name": "ipython",
    "version": 3
   },
   "file_extension": ".py",
   "mimetype": "text/x-python",
   "name": "python",
   "nbconvert_exporter": "python",
   "pygments_lexer": "ipython3",
   "version": "3.12.0"
  }
 },
 "nbformat": 4,
 "nbformat_minor": 5
}
