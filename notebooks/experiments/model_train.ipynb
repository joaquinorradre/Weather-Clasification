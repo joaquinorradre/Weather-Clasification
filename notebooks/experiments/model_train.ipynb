{
 "cells": [
  {
   "cell_type": "code",
   "execution_count": 1,
   "id": "d2bc7a26",
   "metadata": {},
   "outputs": [],
   "source": [
    "import sys\n",
    "import os\n",
    "\n",
    "# Add the root folder of your project\n",
    "root_path = os.path.abspath(os.path.join(\"..\", \"..\"))  # two levels up from experiments\n",
    "sys.path.append(root_path)\n",
    "\n",
    "from weather_classification.modeling.mlp import MLPClassifier\n",
    "from weather_classification.weather_dataset import WeatherDataset\n",
    "from weather_classification.train import train_model\n",
    "from weather_classification.modeling.modern_lenet import LeNetModern\n",
    "from weather_classification.modeling.cnn import CNN_V1, CNN_V1_reg, CNN_V2, CNN_V2_reg, CNN_V3, CNN_V3_reg\n",
    "\n",
    "import torch"
   ]
  },
  {
   "cell_type": "code",
   "execution_count": 2,
   "id": "4596f311",
   "metadata": {},
   "outputs": [
    {
     "name": "stderr",
     "output_type": "stream",
     "text": [
      "Epoch 1/35 [Train]: 100%|██████████| 86/86 [00:26<00:00,  3.29it/s]\n",
      "Epoch 1/35 [Val]: 100%|██████████| 11/11 [00:02<00:00,  3.97it/s]\n"
     ]
    },
    {
     "name": "stdout",
     "output_type": "stream",
     "text": [
      "Epoch 1/35: Train Loss=2.2008, Train Acc=0.2356, Val Loss=1.7514, Val Acc=0.4062\n",
      "Best model saved in d:\\Uni\\Master\\1 Bimestre\\Foundations\\Assignments\\Weather-Clasification\\models\\best_model_MLPClassifier.pth (val_acc=0.4062)\n"
     ]
    },
    {
     "name": "stderr",
     "output_type": "stream",
     "text": [
      "Epoch 2/35 [Train]: 100%|██████████| 86/86 [00:22<00:00,  3.88it/s]\n",
      "Epoch 2/35 [Val]: 100%|██████████| 11/11 [00:02<00:00,  4.26it/s]\n"
     ]
    },
    {
     "name": "stdout",
     "output_type": "stream",
     "text": [
      "Epoch 2/35: Train Loss=1.8246, Train Acc=0.3811, Val Loss=1.6637, Val Acc=0.4457\n",
      "Best model saved in d:\\Uni\\Master\\1 Bimestre\\Foundations\\Assignments\\Weather-Clasification\\models\\best_model_MLPClassifier.pth (val_acc=0.4457)\n"
     ]
    },
    {
     "name": "stderr",
     "output_type": "stream",
     "text": [
      "Epoch 3/35 [Train]: 100%|██████████| 86/86 [00:21<00:00,  3.92it/s]\n",
      "Epoch 3/35 [Val]: 100%|██████████| 11/11 [00:02<00:00,  3.77it/s]\n"
     ]
    },
    {
     "name": "stdout",
     "output_type": "stream",
     "text": [
      "Epoch 3/35: Train Loss=1.7360, Train Acc=0.4214, Val Loss=1.6535, Val Acc=0.4575\n",
      "Best model saved in d:\\Uni\\Master\\1 Bimestre\\Foundations\\Assignments\\Weather-Clasification\\models\\best_model_MLPClassifier.pth (val_acc=0.4575)\n"
     ]
    },
    {
     "name": "stderr",
     "output_type": "stream",
     "text": [
      "Epoch 4/35 [Train]: 100%|██████████| 86/86 [00:21<00:00,  3.92it/s]\n",
      "Epoch 4/35 [Val]: 100%|██████████| 11/11 [00:02<00:00,  4.09it/s]\n"
     ]
    },
    {
     "name": "stdout",
     "output_type": "stream",
     "text": [
      "Epoch 4/35: Train Loss=1.7174, Train Acc=0.4249, Val Loss=1.5746, Val Acc=0.4677\n",
      "Best model saved in d:\\Uni\\Master\\1 Bimestre\\Foundations\\Assignments\\Weather-Clasification\\models\\best_model_MLPClassifier.pth (val_acc=0.4677)\n"
     ]
    },
    {
     "name": "stderr",
     "output_type": "stream",
     "text": [
      "Epoch 5/35 [Train]: 100%|██████████| 86/86 [00:22<00:00,  3.87it/s]\n",
      "Epoch 5/35 [Val]: 100%|██████████| 11/11 [00:02<00:00,  3.82it/s]\n"
     ]
    },
    {
     "name": "stdout",
     "output_type": "stream",
     "text": [
      "Epoch 5/35: Train Loss=1.6868, Train Acc=0.4396, Val Loss=1.5709, Val Acc=0.5000\n",
      "Best model saved in d:\\Uni\\Master\\1 Bimestre\\Foundations\\Assignments\\Weather-Clasification\\models\\best_model_MLPClassifier.pth (val_acc=0.5000)\n"
     ]
    },
    {
     "name": "stderr",
     "output_type": "stream",
     "text": [
      "Epoch 6/35 [Train]: 100%|██████████| 86/86 [00:22<00:00,  3.84it/s]\n",
      "Epoch 6/35 [Val]: 100%|██████████| 11/11 [00:02<00:00,  4.06it/s]\n"
     ]
    },
    {
     "name": "stdout",
     "output_type": "stream",
     "text": [
      "Epoch 6/35: Train Loss=1.6763, Train Acc=0.4482, Val Loss=1.5908, Val Acc=0.4897\n"
     ]
    },
    {
     "name": "stderr",
     "output_type": "stream",
     "text": [
      "Epoch 7/35 [Train]: 100%|██████████| 86/86 [00:22<00:00,  3.87it/s]\n",
      "Epoch 7/35 [Val]: 100%|██████████| 11/11 [00:02<00:00,  3.96it/s]\n"
     ]
    },
    {
     "name": "stdout",
     "output_type": "stream",
     "text": [
      "Epoch 7/35: Train Loss=1.6463, Train Acc=0.4488, Val Loss=1.5649, Val Acc=0.4912\n"
     ]
    },
    {
     "name": "stderr",
     "output_type": "stream",
     "text": [
      "Epoch 8/35 [Train]: 100%|██████████| 86/86 [00:22<00:00,  3.84it/s]\n",
      "Epoch 8/35 [Val]: 100%|██████████| 11/11 [00:02<00:00,  4.05it/s]\n"
     ]
    },
    {
     "name": "stdout",
     "output_type": "stream",
     "text": [
      "Epoch 8/35: Train Loss=1.6212, Train Acc=0.4664, Val Loss=1.5855, Val Acc=0.4839\n"
     ]
    },
    {
     "name": "stderr",
     "output_type": "stream",
     "text": [
      "Epoch 9/35 [Train]: 100%|██████████| 86/86 [00:23<00:00,  3.73it/s]\n",
      "Epoch 9/35 [Val]: 100%|██████████| 11/11 [00:02<00:00,  3.85it/s]\n"
     ]
    },
    {
     "name": "stdout",
     "output_type": "stream",
     "text": [
      "Epoch 9/35: Train Loss=1.6438, Train Acc=0.4597, Val Loss=1.5619, Val Acc=0.4883\n"
     ]
    },
    {
     "name": "stderr",
     "output_type": "stream",
     "text": [
      "Epoch 10/35 [Train]: 100%|██████████| 86/86 [00:22<00:00,  3.81it/s]\n",
      "Epoch 10/35 [Val]: 100%|██████████| 11/11 [00:02<00:00,  3.84it/s]\n"
     ]
    },
    {
     "name": "stdout",
     "output_type": "stream",
     "text": [
      "Epoch 10/35: Train Loss=1.6224, Train Acc=0.4679, Val Loss=1.5680, Val Acc=0.4868\n"
     ]
    },
    {
     "name": "stderr",
     "output_type": "stream",
     "text": [
      "Epoch 11/35 [Train]: 100%|██████████| 86/86 [00:22<00:00,  3.84it/s]\n",
      "Epoch 11/35 [Val]: 100%|██████████| 11/11 [00:02<00:00,  4.06it/s]\n"
     ]
    },
    {
     "name": "stdout",
     "output_type": "stream",
     "text": [
      "Epoch 11/35: Train Loss=1.5959, Train Acc=0.4725, Val Loss=1.5663, Val Acc=0.4985\n"
     ]
    },
    {
     "name": "stderr",
     "output_type": "stream",
     "text": [
      "Epoch 12/35 [Train]: 100%|██████████| 86/86 [00:22<00:00,  3.83it/s]\n",
      "Epoch 12/35 [Val]: 100%|██████████| 11/11 [00:02<00:00,  3.83it/s]\n"
     ]
    },
    {
     "name": "stdout",
     "output_type": "stream",
     "text": [
      "Epoch 12/35: Train Loss=1.5982, Train Acc=0.4723, Val Loss=1.5816, Val Acc=0.5059\n",
      "Best model saved in d:\\Uni\\Master\\1 Bimestre\\Foundations\\Assignments\\Weather-Clasification\\models\\best_model_MLPClassifier.pth (val_acc=0.5059)\n"
     ]
    },
    {
     "name": "stderr",
     "output_type": "stream",
     "text": [
      "Epoch 13/35 [Train]: 100%|██████████| 86/86 [00:22<00:00,  3.86it/s]\n",
      "Epoch 13/35 [Val]: 100%|██████████| 11/11 [00:02<00:00,  3.69it/s]\n"
     ]
    },
    {
     "name": "stdout",
     "output_type": "stream",
     "text": [
      "Epoch 13/35: Train Loss=1.5964, Train Acc=0.4714, Val Loss=1.5540, Val Acc=0.5161\n",
      "Best model saved in d:\\Uni\\Master\\1 Bimestre\\Foundations\\Assignments\\Weather-Clasification\\models\\best_model_MLPClassifier.pth (val_acc=0.5161)\n"
     ]
    },
    {
     "name": "stderr",
     "output_type": "stream",
     "text": [
      "Epoch 14/35 [Train]: 100%|██████████| 86/86 [00:22<00:00,  3.87it/s]\n",
      "Epoch 14/35 [Val]: 100%|██████████| 11/11 [00:02<00:00,  3.94it/s]\n"
     ]
    },
    {
     "name": "stdout",
     "output_type": "stream",
     "text": [
      "Epoch 14/35: Train Loss=1.5717, Train Acc=0.4765, Val Loss=1.5583, Val Acc=0.5015\n"
     ]
    },
    {
     "name": "stderr",
     "output_type": "stream",
     "text": [
      "Epoch 15/35 [Train]: 100%|██████████| 86/86 [00:22<00:00,  3.80it/s]\n",
      "Epoch 15/35 [Val]: 100%|██████████| 11/11 [00:02<00:00,  3.84it/s]\n"
     ]
    },
    {
     "name": "stdout",
     "output_type": "stream",
     "text": [
      "Epoch 15/35: Train Loss=1.5820, Train Acc=0.4816, Val Loss=1.5427, Val Acc=0.5117\n"
     ]
    },
    {
     "name": "stderr",
     "output_type": "stream",
     "text": [
      "Epoch 16/35 [Train]: 100%|██████████| 86/86 [00:22<00:00,  3.88it/s]\n",
      "Epoch 16/35 [Val]: 100%|██████████| 11/11 [00:03<00:00,  3.55it/s]\n"
     ]
    },
    {
     "name": "stdout",
     "output_type": "stream",
     "text": [
      "Epoch 16/35: Train Loss=1.5569, Train Acc=0.4929, Val Loss=1.5839, Val Acc=0.5103\n"
     ]
    },
    {
     "name": "stderr",
     "output_type": "stream",
     "text": [
      "Epoch 17/35 [Train]: 100%|██████████| 86/86 [00:22<00:00,  3.81it/s]\n",
      "Epoch 17/35 [Val]: 100%|██████████| 11/11 [00:02<00:00,  3.91it/s]\n"
     ]
    },
    {
     "name": "stdout",
     "output_type": "stream",
     "text": [
      "Epoch 17/35: Train Loss=1.5766, Train Acc=0.4856, Val Loss=1.5387, Val Acc=0.5337\n",
      "Best model saved in d:\\Uni\\Master\\1 Bimestre\\Foundations\\Assignments\\Weather-Clasification\\models\\best_model_MLPClassifier.pth (val_acc=0.5337)\n"
     ]
    },
    {
     "name": "stderr",
     "output_type": "stream",
     "text": [
      "Epoch 18/35 [Train]: 100%|██████████| 86/86 [00:22<00:00,  3.79it/s]\n",
      "Epoch 18/35 [Val]: 100%|██████████| 11/11 [00:02<00:00,  3.96it/s]\n"
     ]
    },
    {
     "name": "stdout",
     "output_type": "stream",
     "text": [
      "Epoch 18/35: Train Loss=1.5519, Train Acc=0.4832, Val Loss=1.6143, Val Acc=0.4809\n"
     ]
    },
    {
     "name": "stderr",
     "output_type": "stream",
     "text": [
      "Epoch 19/35 [Train]: 100%|██████████| 86/86 [00:22<00:00,  3.78it/s]\n",
      "Epoch 19/35 [Val]: 100%|██████████| 11/11 [00:02<00:00,  4.13it/s]\n"
     ]
    },
    {
     "name": "stdout",
     "output_type": "stream",
     "text": [
      "Epoch 19/35: Train Loss=1.5431, Train Acc=0.4903, Val Loss=1.5018, Val Acc=0.5323\n"
     ]
    },
    {
     "name": "stderr",
     "output_type": "stream",
     "text": [
      "Epoch 20/35 [Train]: 100%|██████████| 86/86 [00:21<00:00,  3.98it/s]\n",
      "Epoch 20/35 [Val]: 100%|██████████| 11/11 [00:02<00:00,  4.10it/s]\n"
     ]
    },
    {
     "name": "stdout",
     "output_type": "stream",
     "text": [
      "Epoch 20/35: Train Loss=1.5232, Train Acc=0.5015, Val Loss=1.5129, Val Acc=0.5367\n",
      "Best model saved in d:\\Uni\\Master\\1 Bimestre\\Foundations\\Assignments\\Weather-Clasification\\models\\best_model_MLPClassifier.pth (val_acc=0.5367)\n"
     ]
    },
    {
     "name": "stderr",
     "output_type": "stream",
     "text": [
      "Epoch 21/35 [Train]: 100%|██████████| 86/86 [00:22<00:00,  3.87it/s]\n",
      "Epoch 21/35 [Val]: 100%|██████████| 11/11 [00:03<00:00,  3.19it/s]\n"
     ]
    },
    {
     "name": "stdout",
     "output_type": "stream",
     "text": [
      "Epoch 21/35: Train Loss=1.5148, Train Acc=0.5009, Val Loss=1.5665, Val Acc=0.5161\n"
     ]
    },
    {
     "name": "stderr",
     "output_type": "stream",
     "text": [
      "Epoch 22/35 [Train]: 100%|██████████| 86/86 [00:26<00:00,  3.24it/s]\n",
      "Epoch 22/35 [Val]: 100%|██████████| 11/11 [00:03<00:00,  3.50it/s]\n"
     ]
    },
    {
     "name": "stdout",
     "output_type": "stream",
     "text": [
      "Epoch 22/35: Train Loss=1.5470, Train Acc=0.4931, Val Loss=1.4975, Val Acc=0.5220\n"
     ]
    },
    {
     "name": "stderr",
     "output_type": "stream",
     "text": [
      "Epoch 23/35 [Train]: 100%|██████████| 86/86 [00:24<00:00,  3.57it/s]\n",
      "Epoch 23/35 [Val]: 100%|██████████| 11/11 [00:03<00:00,  3.42it/s]\n"
     ]
    },
    {
     "name": "stdout",
     "output_type": "stream",
     "text": [
      "Epoch 23/35: Train Loss=1.5279, Train Acc=0.4909, Val Loss=1.5215, Val Acc=0.5088\n"
     ]
    },
    {
     "name": "stderr",
     "output_type": "stream",
     "text": [
      "Epoch 24/35 [Train]: 100%|██████████| 86/86 [00:23<00:00,  3.74it/s]\n",
      "Epoch 24/35 [Val]: 100%|██████████| 11/11 [00:02<00:00,  3.75it/s]\n"
     ]
    },
    {
     "name": "stdout",
     "output_type": "stream",
     "text": [
      "Epoch 24/35: Train Loss=1.5256, Train Acc=0.4958, Val Loss=1.5391, Val Acc=0.5176\n"
     ]
    },
    {
     "name": "stderr",
     "output_type": "stream",
     "text": [
      "Epoch 25/35 [Train]: 100%|██████████| 86/86 [00:21<00:00,  3.94it/s]\n",
      "Epoch 25/35 [Val]: 100%|██████████| 11/11 [00:02<00:00,  4.23it/s]\n"
     ]
    },
    {
     "name": "stdout",
     "output_type": "stream",
     "text": [
      "Epoch 25/35: Train Loss=1.5028, Train Acc=0.5057, Val Loss=1.5318, Val Acc=0.5367\n"
     ]
    },
    {
     "name": "stderr",
     "output_type": "stream",
     "text": [
      "Epoch 26/35 [Train]: 100%|██████████| 86/86 [00:23<00:00,  3.68it/s]\n",
      "Epoch 26/35 [Val]: 100%|██████████| 11/11 [00:02<00:00,  4.28it/s]\n"
     ]
    },
    {
     "name": "stdout",
     "output_type": "stream",
     "text": [
      "Epoch 26/35: Train Loss=1.5368, Train Acc=0.4902, Val Loss=1.5038, Val Acc=0.5381\n",
      "Best model saved in d:\\Uni\\Master\\1 Bimestre\\Foundations\\Assignments\\Weather-Clasification\\models\\best_model_MLPClassifier.pth (val_acc=0.5381)\n"
     ]
    },
    {
     "name": "stderr",
     "output_type": "stream",
     "text": [
      "Epoch 27/35 [Train]: 100%|██████████| 86/86 [00:20<00:00,  4.11it/s]\n",
      "Epoch 27/35 [Val]: 100%|██████████| 11/11 [00:02<00:00,  4.21it/s]\n"
     ]
    },
    {
     "name": "stdout",
     "output_type": "stream",
     "text": [
      "Epoch 27/35: Train Loss=1.5161, Train Acc=0.5051, Val Loss=1.4902, Val Acc=0.5279\n"
     ]
    },
    {
     "name": "stderr",
     "output_type": "stream",
     "text": [
      "Epoch 28/35 [Train]: 100%|██████████| 86/86 [00:20<00:00,  4.11it/s]\n",
      "Epoch 28/35 [Val]: 100%|██████████| 11/11 [00:02<00:00,  4.30it/s]\n"
     ]
    },
    {
     "name": "stdout",
     "output_type": "stream",
     "text": [
      "Epoch 28/35: Train Loss=1.4806, Train Acc=0.5150, Val Loss=1.5191, Val Acc=0.5205\n"
     ]
    },
    {
     "name": "stderr",
     "output_type": "stream",
     "text": [
      "Epoch 29/35 [Train]: 100%|██████████| 86/86 [00:20<00:00,  4.25it/s]\n",
      "Epoch 29/35 [Val]: 100%|██████████| 11/11 [00:02<00:00,  3.90it/s]\n"
     ]
    },
    {
     "name": "stdout",
     "output_type": "stream",
     "text": [
      "Epoch 29/35: Train Loss=1.4941, Train Acc=0.5051, Val Loss=1.5358, Val Acc=0.5132\n"
     ]
    },
    {
     "name": "stderr",
     "output_type": "stream",
     "text": [
      "Epoch 30/35 [Train]: 100%|██████████| 86/86 [00:20<00:00,  4.19it/s]\n",
      "Epoch 30/35 [Val]: 100%|██████████| 11/11 [00:02<00:00,  4.30it/s]\n"
     ]
    },
    {
     "name": "stdout",
     "output_type": "stream",
     "text": [
      "Epoch 30/35: Train Loss=1.5082, Train Acc=0.5022, Val Loss=1.4990, Val Acc=0.5220\n"
     ]
    },
    {
     "name": "stderr",
     "output_type": "stream",
     "text": [
      "Epoch 31/35 [Train]: 100%|██████████| 86/86 [00:20<00:00,  4.12it/s]\n",
      "Epoch 31/35 [Val]: 100%|██████████| 11/11 [00:02<00:00,  4.34it/s]\n"
     ]
    },
    {
     "name": "stdout",
     "output_type": "stream",
     "text": [
      "Epoch 31/35: Train Loss=1.5065, Train Acc=0.5005, Val Loss=1.5322, Val Acc=0.5352\n"
     ]
    },
    {
     "name": "stderr",
     "output_type": "stream",
     "text": [
      "Epoch 32/35 [Train]: 100%|██████████| 86/86 [00:20<00:00,  4.10it/s]\n",
      "Epoch 32/35 [Val]: 100%|██████████| 11/11 [00:02<00:00,  4.35it/s]\n"
     ]
    },
    {
     "name": "stdout",
     "output_type": "stream",
     "text": [
      "Epoch 32/35: Train Loss=1.5305, Train Acc=0.4881, Val Loss=1.5153, Val Acc=0.5176\n"
     ]
    },
    {
     "name": "stderr",
     "output_type": "stream",
     "text": [
      "Epoch 33/35 [Train]: 100%|██████████| 86/86 [00:20<00:00,  4.16it/s]\n",
      "Epoch 33/35 [Val]: 100%|██████████| 11/11 [00:02<00:00,  3.91it/s]\n"
     ]
    },
    {
     "name": "stdout",
     "output_type": "stream",
     "text": [
      "Epoch 33/35: Train Loss=1.4891, Train Acc=0.5115, Val Loss=1.5274, Val Acc=0.5381\n"
     ]
    },
    {
     "name": "stderr",
     "output_type": "stream",
     "text": [
      "Epoch 34/35 [Train]: 100%|██████████| 86/86 [00:20<00:00,  4.18it/s]\n",
      "Epoch 34/35 [Val]: 100%|██████████| 11/11 [00:02<00:00,  4.19it/s]\n"
     ]
    },
    {
     "name": "stdout",
     "output_type": "stream",
     "text": [
      "Epoch 34/35: Train Loss=1.5055, Train Acc=0.5066, Val Loss=1.5380, Val Acc=0.5117\n"
     ]
    },
    {
     "name": "stderr",
     "output_type": "stream",
     "text": [
      "Epoch 35/35 [Train]: 100%|██████████| 86/86 [00:20<00:00,  4.10it/s]\n",
      "Epoch 35/35 [Val]: 100%|██████████| 11/11 [00:02<00:00,  4.26it/s]"
     ]
    },
    {
     "name": "stdout",
     "output_type": "stream",
     "text": [
      "Epoch 35/35: Train Loss=1.5050, Train Acc=0.4980, Val Loss=1.4707, Val Acc=0.5352\n",
      "Training complete. Best val_acc=0.5381\n",
      "MMetrics saved in d:\\Uni\\Master\\1 Bimestre\\Foundations\\Assignments\\Weather-Clasification\\reports\\metrics\\metrics_MLPClassifier.pkl\n"
     ]
    },
    {
     "name": "stderr",
     "output_type": "stream",
     "text": [
      "\n"
     ]
    }
   ],
   "source": [
    "input_dim = 64*64*3  # matches the Resize transform\n",
    "model = train_model(MLPClassifier, \n",
    "                    train_dir=\"../../data/train\", \n",
    "                    val_dir=\"../../data/val\", \n",
    "                    input_dim=input_dim,\n",
    "                    num_classes=11,\n",
    "                    batch_size=64,\n",
    "                    epochs=35,\n",
    "                    lr=1e-3,\n",
    "                    device=\"cuda\" if torch.cuda.is_available() else \"cpu\")\n"
   ]
  },
  {
   "cell_type": "code",
   "execution_count": 3,
   "id": "0fc75620",
   "metadata": {},
   "outputs": [
    {
     "name": "stderr",
     "output_type": "stream",
     "text": [
      "Epoch 1/35 [Train]: 100%|██████████| 86/86 [00:21<00:00,  4.03it/s]\n",
      "Epoch 1/35 [Val]: 100%|██████████| 11/11 [00:02<00:00,  4.09it/s]\n"
     ]
    },
    {
     "name": "stdout",
     "output_type": "stream",
     "text": [
      "Epoch 1/35: Train Loss=2.1489, Train Acc=0.2341, Val Loss=1.7806, Val Acc=0.4062\n",
      "Best model saved in d:\\Uni\\Master\\1 Bimestre\\Foundations\\Assignments\\Weather-Clasification\\models\\best_model_LeNetModern.pth (val_acc=0.4062)\n"
     ]
    },
    {
     "name": "stderr",
     "output_type": "stream",
     "text": [
      "Epoch 2/35 [Train]: 100%|██████████| 86/86 [00:20<00:00,  4.13it/s]\n",
      "Epoch 2/35 [Val]: 100%|██████████| 11/11 [00:02<00:00,  4.42it/s]\n"
     ]
    },
    {
     "name": "stdout",
     "output_type": "stream",
     "text": [
      "Epoch 2/35: Train Loss=1.7763, Train Acc=0.3941, Val Loss=1.4743, Val Acc=0.5044\n",
      "Best model saved in d:\\Uni\\Master\\1 Bimestre\\Foundations\\Assignments\\Weather-Clasification\\models\\best_model_LeNetModern.pth (val_acc=0.5044)\n"
     ]
    },
    {
     "name": "stderr",
     "output_type": "stream",
     "text": [
      "Epoch 3/35 [Train]: 100%|██████████| 86/86 [00:20<00:00,  4.27it/s]\n",
      "Epoch 3/35 [Val]: 100%|██████████| 11/11 [00:02<00:00,  3.93it/s]\n"
     ]
    },
    {
     "name": "stdout",
     "output_type": "stream",
     "text": [
      "Epoch 3/35: Train Loss=1.5217, Train Acc=0.4805, Val Loss=1.3979, Val Acc=0.5367\n",
      "Best model saved in d:\\Uni\\Master\\1 Bimestre\\Foundations\\Assignments\\Weather-Clasification\\models\\best_model_LeNetModern.pth (val_acc=0.5367)\n"
     ]
    },
    {
     "name": "stderr",
     "output_type": "stream",
     "text": [
      "Epoch 4/35 [Train]: 100%|██████████| 86/86 [00:20<00:00,  4.26it/s]\n",
      "Epoch 4/35 [Val]: 100%|██████████| 11/11 [00:02<00:00,  4.38it/s]\n"
     ]
    },
    {
     "name": "stdout",
     "output_type": "stream",
     "text": [
      "Epoch 4/35: Train Loss=1.3879, Train Acc=0.5243, Val Loss=1.4386, Val Acc=0.4941\n"
     ]
    },
    {
     "name": "stderr",
     "output_type": "stream",
     "text": [
      "Epoch 5/35 [Train]: 100%|██████████| 86/86 [00:20<00:00,  4.11it/s]\n",
      "Epoch 5/35 [Val]: 100%|██████████| 11/11 [00:02<00:00,  4.19it/s]\n"
     ]
    },
    {
     "name": "stdout",
     "output_type": "stream",
     "text": [
      "Epoch 5/35: Train Loss=1.3885, Train Acc=0.5312, Val Loss=1.3292, Val Acc=0.5293\n"
     ]
    },
    {
     "name": "stderr",
     "output_type": "stream",
     "text": [
      "Epoch 6/35 [Train]: 100%|██████████| 86/86 [00:20<00:00,  4.20it/s]\n",
      "Epoch 6/35 [Val]: 100%|██████████| 11/11 [00:02<00:00,  4.37it/s]\n"
     ]
    },
    {
     "name": "stdout",
     "output_type": "stream",
     "text": [
      "Epoch 6/35: Train Loss=1.2930, Train Acc=0.5622, Val Loss=1.2352, Val Acc=0.5748\n",
      "Best model saved in d:\\Uni\\Master\\1 Bimestre\\Foundations\\Assignments\\Weather-Clasification\\models\\best_model_LeNetModern.pth (val_acc=0.5748)\n"
     ]
    },
    {
     "name": "stderr",
     "output_type": "stream",
     "text": [
      "Epoch 7/35 [Train]: 100%|██████████| 86/86 [00:20<00:00,  4.22it/s]\n",
      "Epoch 7/35 [Val]: 100%|██████████| 11/11 [00:02<00:00,  4.13it/s]\n"
     ]
    },
    {
     "name": "stdout",
     "output_type": "stream",
     "text": [
      "Epoch 7/35: Train Loss=1.2370, Train Acc=0.5768, Val Loss=1.2277, Val Acc=0.5924\n",
      "Best model saved in d:\\Uni\\Master\\1 Bimestre\\Foundations\\Assignments\\Weather-Clasification\\models\\best_model_LeNetModern.pth (val_acc=0.5924)\n"
     ]
    },
    {
     "name": "stderr",
     "output_type": "stream",
     "text": [
      "Epoch 8/35 [Train]: 100%|██████████| 86/86 [00:20<00:00,  4.27it/s]\n",
      "Epoch 8/35 [Val]: 100%|██████████| 11/11 [00:02<00:00,  4.34it/s]\n"
     ]
    },
    {
     "name": "stdout",
     "output_type": "stream",
     "text": [
      "Epoch 8/35: Train Loss=1.1932, Train Acc=0.5990, Val Loss=1.1274, Val Acc=0.6070\n",
      "Best model saved in d:\\Uni\\Master\\1 Bimestre\\Foundations\\Assignments\\Weather-Clasification\\models\\best_model_LeNetModern.pth (val_acc=0.6070)\n"
     ]
    },
    {
     "name": "stderr",
     "output_type": "stream",
     "text": [
      "Epoch 9/35 [Train]: 100%|██████████| 86/86 [00:20<00:00,  4.12it/s]\n",
      "Epoch 9/35 [Val]: 100%|██████████| 11/11 [00:02<00:00,  4.34it/s]\n"
     ]
    },
    {
     "name": "stdout",
     "output_type": "stream",
     "text": [
      "Epoch 9/35: Train Loss=1.1787, Train Acc=0.5956, Val Loss=1.2496, Val Acc=0.5953\n"
     ]
    },
    {
     "name": "stderr",
     "output_type": "stream",
     "text": [
      "Epoch 10/35 [Train]: 100%|██████████| 86/86 [00:20<00:00,  4.15it/s]\n",
      "Epoch 10/35 [Val]: 100%|██████████| 11/11 [00:02<00:00,  4.35it/s]\n"
     ]
    },
    {
     "name": "stdout",
     "output_type": "stream",
     "text": [
      "Epoch 10/35: Train Loss=1.1646, Train Acc=0.6039, Val Loss=1.1075, Val Acc=0.6276\n",
      "Best model saved in d:\\Uni\\Master\\1 Bimestre\\Foundations\\Assignments\\Weather-Clasification\\models\\best_model_LeNetModern.pth (val_acc=0.6276)\n"
     ]
    },
    {
     "name": "stderr",
     "output_type": "stream",
     "text": [
      "Epoch 11/35 [Train]: 100%|██████████| 86/86 [00:20<00:00,  4.17it/s]\n",
      "Epoch 11/35 [Val]: 100%|██████████| 11/11 [00:02<00:00,  4.35it/s]\n"
     ]
    },
    {
     "name": "stdout",
     "output_type": "stream",
     "text": [
      "Epoch 11/35: Train Loss=1.1155, Train Acc=0.6202, Val Loss=1.2045, Val Acc=0.6202\n"
     ]
    },
    {
     "name": "stderr",
     "output_type": "stream",
     "text": [
      "Epoch 12/35 [Train]: 100%|██████████| 86/86 [00:20<00:00,  4.17it/s]\n",
      "Epoch 12/35 [Val]: 100%|██████████| 11/11 [00:02<00:00,  4.00it/s]\n"
     ]
    },
    {
     "name": "stdout",
     "output_type": "stream",
     "text": [
      "Epoch 12/35: Train Loss=1.0989, Train Acc=0.6264, Val Loss=1.1042, Val Acc=0.6422\n",
      "Best model saved in d:\\Uni\\Master\\1 Bimestre\\Foundations\\Assignments\\Weather-Clasification\\models\\best_model_LeNetModern.pth (val_acc=0.6422)\n"
     ]
    },
    {
     "name": "stderr",
     "output_type": "stream",
     "text": [
      "Epoch 13/35 [Train]: 100%|██████████| 86/86 [00:20<00:00,  4.19it/s]\n",
      "Epoch 13/35 [Val]: 100%|██████████| 11/11 [00:02<00:00,  4.32it/s]\n"
     ]
    },
    {
     "name": "stdout",
     "output_type": "stream",
     "text": [
      "Epoch 13/35: Train Loss=1.0926, Train Acc=0.6207, Val Loss=1.1035, Val Acc=0.6334\n"
     ]
    },
    {
     "name": "stderr",
     "output_type": "stream",
     "text": [
      "Epoch 14/35 [Train]: 100%|██████████| 86/86 [00:20<00:00,  4.18it/s]\n",
      "Epoch 14/35 [Val]: 100%|██████████| 11/11 [00:02<00:00,  4.28it/s]\n"
     ]
    },
    {
     "name": "stdout",
     "output_type": "stream",
     "text": [
      "Epoch 14/35: Train Loss=1.0681, Train Acc=0.6435, Val Loss=1.1182, Val Acc=0.6334\n"
     ]
    },
    {
     "name": "stderr",
     "output_type": "stream",
     "text": [
      "Epoch 15/35 [Train]: 100%|██████████| 86/86 [00:20<00:00,  4.18it/s]\n",
      "Epoch 15/35 [Val]: 100%|██████████| 11/11 [00:02<00:00,  4.32it/s]\n"
     ]
    },
    {
     "name": "stdout",
     "output_type": "stream",
     "text": [
      "Epoch 15/35: Train Loss=1.0550, Train Acc=0.6382, Val Loss=1.0177, Val Acc=0.6569\n",
      "Best model saved in d:\\Uni\\Master\\1 Bimestre\\Foundations\\Assignments\\Weather-Clasification\\models\\best_model_LeNetModern.pth (val_acc=0.6569)\n"
     ]
    },
    {
     "name": "stderr",
     "output_type": "stream",
     "text": [
      "Epoch 16/35 [Train]: 100%|██████████| 86/86 [00:21<00:00,  4.06it/s]\n",
      "Epoch 16/35 [Val]: 100%|██████████| 11/11 [00:02<00:00,  3.73it/s]\n"
     ]
    },
    {
     "name": "stdout",
     "output_type": "stream",
     "text": [
      "Epoch 16/35: Train Loss=0.9965, Train Acc=0.6590, Val Loss=1.0179, Val Acc=0.6804\n",
      "Best model saved in d:\\Uni\\Master\\1 Bimestre\\Foundations\\Assignments\\Weather-Clasification\\models\\best_model_LeNetModern.pth (val_acc=0.6804)\n"
     ]
    },
    {
     "name": "stderr",
     "output_type": "stream",
     "text": [
      "Epoch 17/35 [Train]: 100%|██████████| 86/86 [00:21<00:00,  3.94it/s]\n",
      "Epoch 17/35 [Val]: 100%|██████████| 11/11 [00:02<00:00,  4.21it/s]\n"
     ]
    },
    {
     "name": "stdout",
     "output_type": "stream",
     "text": [
      "Epoch 17/35: Train Loss=1.0013, Train Acc=0.6596, Val Loss=1.0498, Val Acc=0.6554\n"
     ]
    },
    {
     "name": "stderr",
     "output_type": "stream",
     "text": [
      "Epoch 18/35 [Train]: 100%|██████████| 86/86 [00:20<00:00,  4.11it/s]\n",
      "Epoch 18/35 [Val]: 100%|██████████| 11/11 [00:02<00:00,  4.15it/s]\n"
     ]
    },
    {
     "name": "stdout",
     "output_type": "stream",
     "text": [
      "Epoch 18/35: Train Loss=0.9847, Train Acc=0.6698, Val Loss=1.0420, Val Acc=0.6525\n"
     ]
    },
    {
     "name": "stderr",
     "output_type": "stream",
     "text": [
      "Epoch 19/35 [Train]: 100%|██████████| 86/86 [00:23<00:00,  3.71it/s]\n",
      "Epoch 19/35 [Val]: 100%|██████████| 11/11 [00:02<00:00,  3.93it/s]\n"
     ]
    },
    {
     "name": "stdout",
     "output_type": "stream",
     "text": [
      "Epoch 19/35: Train Loss=0.9643, Train Acc=0.6667, Val Loss=1.0297, Val Acc=0.6598\n"
     ]
    },
    {
     "name": "stderr",
     "output_type": "stream",
     "text": [
      "Epoch 20/35 [Train]: 100%|██████████| 86/86 [00:23<00:00,  3.61it/s]\n",
      "Epoch 20/35 [Val]: 100%|██████████| 11/11 [00:02<00:00,  4.10it/s]\n"
     ]
    },
    {
     "name": "stdout",
     "output_type": "stream",
     "text": [
      "Epoch 20/35: Train Loss=0.9691, Train Acc=0.6685, Val Loss=1.0192, Val Acc=0.6598\n"
     ]
    },
    {
     "name": "stderr",
     "output_type": "stream",
     "text": [
      "Epoch 21/35 [Train]: 100%|██████████| 86/86 [00:20<00:00,  4.13it/s]\n",
      "Epoch 21/35 [Val]: 100%|██████████| 11/11 [00:02<00:00,  4.16it/s]\n"
     ]
    },
    {
     "name": "stdout",
     "output_type": "stream",
     "text": [
      "Epoch 21/35: Train Loss=0.9361, Train Acc=0.6794, Val Loss=0.9964, Val Acc=0.6642\n"
     ]
    },
    {
     "name": "stderr",
     "output_type": "stream",
     "text": [
      "Epoch 22/35 [Train]: 100%|██████████| 86/86 [00:20<00:00,  4.22it/s]\n",
      "Epoch 22/35 [Val]: 100%|██████████| 11/11 [00:02<00:00,  4.32it/s]\n"
     ]
    },
    {
     "name": "stdout",
     "output_type": "stream",
     "text": [
      "Epoch 22/35: Train Loss=0.8974, Train Acc=0.6962, Val Loss=1.0036, Val Acc=0.6774\n"
     ]
    },
    {
     "name": "stderr",
     "output_type": "stream",
     "text": [
      "Epoch 23/35 [Train]: 100%|██████████| 86/86 [00:19<00:00,  4.42it/s]\n",
      "Epoch 23/35 [Val]: 100%|██████████| 11/11 [00:02<00:00,  4.44it/s]\n"
     ]
    },
    {
     "name": "stdout",
     "output_type": "stream",
     "text": [
      "Epoch 23/35: Train Loss=0.8890, Train Acc=0.6988, Val Loss=1.0095, Val Acc=0.6569\n"
     ]
    },
    {
     "name": "stderr",
     "output_type": "stream",
     "text": [
      "Epoch 24/35 [Train]: 100%|██████████| 86/86 [00:20<00:00,  4.29it/s]\n",
      "Epoch 24/35 [Val]: 100%|██████████| 11/11 [00:02<00:00,  4.47it/s]\n"
     ]
    },
    {
     "name": "stdout",
     "output_type": "stream",
     "text": [
      "Epoch 24/35: Train Loss=0.8894, Train Acc=0.6971, Val Loss=1.0063, Val Acc=0.6672\n"
     ]
    },
    {
     "name": "stderr",
     "output_type": "stream",
     "text": [
      "Epoch 25/35 [Train]: 100%|██████████| 86/86 [00:19<00:00,  4.36it/s]\n",
      "Epoch 25/35 [Val]: 100%|██████████| 11/11 [00:02<00:00,  4.03it/s]\n"
     ]
    },
    {
     "name": "stdout",
     "output_type": "stream",
     "text": [
      "Epoch 25/35: Train Loss=0.8741, Train Acc=0.7020, Val Loss=0.9588, Val Acc=0.6935\n",
      "Best model saved in d:\\Uni\\Master\\1 Bimestre\\Foundations\\Assignments\\Weather-Clasification\\models\\best_model_LeNetModern.pth (val_acc=0.6935)\n"
     ]
    },
    {
     "name": "stderr",
     "output_type": "stream",
     "text": [
      "Epoch 26/35 [Train]: 100%|██████████| 86/86 [00:19<00:00,  4.39it/s]\n",
      "Epoch 26/35 [Val]: 100%|██████████| 11/11 [00:02<00:00,  4.47it/s]\n"
     ]
    },
    {
     "name": "stdout",
     "output_type": "stream",
     "text": [
      "Epoch 26/35: Train Loss=0.8734, Train Acc=0.7046, Val Loss=0.9107, Val Acc=0.6994\n",
      "Best model saved in d:\\Uni\\Master\\1 Bimestre\\Foundations\\Assignments\\Weather-Clasification\\models\\best_model_LeNetModern.pth (val_acc=0.6994)\n"
     ]
    },
    {
     "name": "stderr",
     "output_type": "stream",
     "text": [
      "Epoch 27/35 [Train]: 100%|██████████| 86/86 [00:19<00:00,  4.47it/s]\n",
      "Epoch 27/35 [Val]: 100%|██████████| 11/11 [00:02<00:00,  4.48it/s]\n"
     ]
    },
    {
     "name": "stdout",
     "output_type": "stream",
     "text": [
      "Epoch 27/35: Train Loss=0.8484, Train Acc=0.7161, Val Loss=1.0078, Val Acc=0.6686\n"
     ]
    },
    {
     "name": "stderr",
     "output_type": "stream",
     "text": [
      "Epoch 28/35 [Train]: 100%|██████████| 86/86 [00:19<00:00,  4.33it/s]\n",
      "Epoch 28/35 [Val]: 100%|██████████| 11/11 [00:02<00:00,  4.35it/s]\n"
     ]
    },
    {
     "name": "stdout",
     "output_type": "stream",
     "text": [
      "Epoch 28/35: Train Loss=0.8341, Train Acc=0.7194, Val Loss=1.0132, Val Acc=0.6672\n"
     ]
    },
    {
     "name": "stderr",
     "output_type": "stream",
     "text": [
      "Epoch 29/35 [Train]: 100%|██████████| 86/86 [00:20<00:00,  4.28it/s]\n",
      "Epoch 29/35 [Val]: 100%|██████████| 11/11 [00:02<00:00,  4.21it/s]\n"
     ]
    },
    {
     "name": "stdout",
     "output_type": "stream",
     "text": [
      "Epoch 29/35: Train Loss=0.7933, Train Acc=0.7252, Val Loss=0.9501, Val Acc=0.6950\n"
     ]
    },
    {
     "name": "stderr",
     "output_type": "stream",
     "text": [
      "Epoch 30/35 [Train]: 100%|██████████| 86/86 [00:20<00:00,  4.21it/s]\n",
      "Epoch 30/35 [Val]: 100%|██████████| 11/11 [00:03<00:00,  3.49it/s]\n"
     ]
    },
    {
     "name": "stdout",
     "output_type": "stream",
     "text": [
      "Epoch 30/35: Train Loss=0.7936, Train Acc=0.7278, Val Loss=0.9211, Val Acc=0.6994\n"
     ]
    },
    {
     "name": "stderr",
     "output_type": "stream",
     "text": [
      "Epoch 31/35 [Train]: 100%|██████████| 86/86 [00:23<00:00,  3.70it/s]\n",
      "Epoch 31/35 [Val]: 100%|██████████| 11/11 [00:02<00:00,  4.08it/s]\n"
     ]
    },
    {
     "name": "stdout",
     "output_type": "stream",
     "text": [
      "Epoch 31/35: Train Loss=0.7672, Train Acc=0.7349, Val Loss=0.9680, Val Acc=0.6935\n"
     ]
    },
    {
     "name": "stderr",
     "output_type": "stream",
     "text": [
      "Epoch 32/35 [Train]: 100%|██████████| 86/86 [00:22<00:00,  3.86it/s]\n",
      "Epoch 32/35 [Val]: 100%|██████████| 11/11 [00:03<00:00,  3.64it/s]\n"
     ]
    },
    {
     "name": "stdout",
     "output_type": "stream",
     "text": [
      "Epoch 32/35: Train Loss=0.7302, Train Acc=0.7482, Val Loss=0.9064, Val Acc=0.7038\n",
      "Best model saved in d:\\Uni\\Master\\1 Bimestre\\Foundations\\Assignments\\Weather-Clasification\\models\\best_model_LeNetModern.pth (val_acc=0.7038)\n"
     ]
    },
    {
     "name": "stderr",
     "output_type": "stream",
     "text": [
      "Epoch 33/35 [Train]: 100%|██████████| 86/86 [00:22<00:00,  3.83it/s]\n",
      "Epoch 33/35 [Val]: 100%|██████████| 11/11 [00:02<00:00,  4.43it/s]\n"
     ]
    },
    {
     "name": "stdout",
     "output_type": "stream",
     "text": [
      "Epoch 33/35: Train Loss=0.7559, Train Acc=0.7433, Val Loss=0.9371, Val Acc=0.6979\n"
     ]
    },
    {
     "name": "stderr",
     "output_type": "stream",
     "text": [
      "Epoch 34/35 [Train]: 100%|██████████| 86/86 [00:19<00:00,  4.47it/s]\n",
      "Epoch 34/35 [Val]: 100%|██████████| 11/11 [00:02<00:00,  4.53it/s]\n"
     ]
    },
    {
     "name": "stdout",
     "output_type": "stream",
     "text": [
      "Epoch 34/35: Train Loss=0.7135, Train Acc=0.7533, Val Loss=1.0505, Val Acc=0.6745\n"
     ]
    },
    {
     "name": "stderr",
     "output_type": "stream",
     "text": [
      "Epoch 35/35 [Train]: 100%|██████████| 86/86 [00:20<00:00,  4.25it/s]\n",
      "Epoch 35/35 [Val]: 100%|██████████| 11/11 [00:02<00:00,  4.19it/s]"
     ]
    },
    {
     "name": "stdout",
     "output_type": "stream",
     "text": [
      "Epoch 35/35: Train Loss=0.7164, Train Acc=0.7569, Val Loss=0.9519, Val Acc=0.7053\n",
      "Best model saved in d:\\Uni\\Master\\1 Bimestre\\Foundations\\Assignments\\Weather-Clasification\\models\\best_model_LeNetModern.pth (val_acc=0.7053)\n",
      "Training complete. Best val_acc=0.7053\n",
      "MMetrics saved in d:\\Uni\\Master\\1 Bimestre\\Foundations\\Assignments\\Weather-Clasification\\reports\\metrics\\metrics_LeNetModern.pkl\n"
     ]
    },
    {
     "name": "stderr",
     "output_type": "stream",
     "text": [
      "\n"
     ]
    }
   ],
   "source": [
    "input_dim = 64*64*3  # matches the Resize transform\n",
    "model = train_model(LeNetModern, \n",
    "                    train_dir=\"../../data/train\", \n",
    "                    val_dir=\"../../data/val\", \n",
    "                    input_dim=input_dim,\n",
    "                    num_classes=11,\n",
    "                    batch_size=64,\n",
    "                    epochs=35,\n",
    "                    lr=1e-3,\n",
    "                    device=\"cuda\" if torch.cuda.is_available() else \"cpu\")"
   ]
  },
  {
   "cell_type": "code",
   "execution_count": 4,
   "id": "7cdf593c",
   "metadata": {},
   "outputs": [
    {
     "name": "stderr",
     "output_type": "stream",
     "text": [
      "Epoch 1/35 [Train]: 100%|██████████| 86/86 [00:24<00:00,  3.55it/s]\n",
      "Epoch 1/35 [Val]: 100%|██████████| 11/11 [00:03<00:00,  3.52it/s]\n"
     ]
    },
    {
     "name": "stdout",
     "output_type": "stream",
     "text": [
      "Epoch 1/35: Train Loss=2.0641, Train Acc=0.2845, Val Loss=1.7881, Val Acc=0.3944\n",
      "Best model saved in d:\\Uni\\Master\\1 Bimestre\\Foundations\\Assignments\\Weather-Clasification\\models\\best_model_CNN_V1.pth (val_acc=0.3944)\n"
     ]
    },
    {
     "name": "stderr",
     "output_type": "stream",
     "text": [
      "Epoch 2/35 [Train]: 100%|██████████| 86/86 [00:23<00:00,  3.67it/s]\n",
      "Epoch 2/35 [Val]: 100%|██████████| 11/11 [00:02<00:00,  3.99it/s]\n"
     ]
    },
    {
     "name": "stdout",
     "output_type": "stream",
     "text": [
      "Epoch 2/35: Train Loss=1.6705, Train Acc=0.4433, Val Loss=1.5627, Val Acc=0.4663\n",
      "Best model saved in d:\\Uni\\Master\\1 Bimestre\\Foundations\\Assignments\\Weather-Clasification\\models\\best_model_CNN_V1.pth (val_acc=0.4663)\n"
     ]
    },
    {
     "name": "stderr",
     "output_type": "stream",
     "text": [
      "Epoch 3/35 [Train]: 100%|██████████| 86/86 [00:22<00:00,  3.83it/s]\n",
      "Epoch 3/35 [Val]: 100%|██████████| 11/11 [00:02<00:00,  3.81it/s]\n"
     ]
    },
    {
     "name": "stdout",
     "output_type": "stream",
     "text": [
      "Epoch 3/35: Train Loss=1.4360, Train Acc=0.5155, Val Loss=1.4168, Val Acc=0.5352\n",
      "Best model saved in d:\\Uni\\Master\\1 Bimestre\\Foundations\\Assignments\\Weather-Clasification\\models\\best_model_CNN_V1.pth (val_acc=0.5352)\n"
     ]
    },
    {
     "name": "stderr",
     "output_type": "stream",
     "text": [
      "Epoch 4/35 [Train]: 100%|██████████| 86/86 [00:23<00:00,  3.60it/s]\n",
      "Epoch 4/35 [Val]: 100%|██████████| 11/11 [00:02<00:00,  4.02it/s]\n"
     ]
    },
    {
     "name": "stdout",
     "output_type": "stream",
     "text": [
      "Epoch 4/35: Train Loss=1.2786, Train Acc=0.5635, Val Loss=1.4722, Val Acc=0.5059\n"
     ]
    },
    {
     "name": "stderr",
     "output_type": "stream",
     "text": [
      "Epoch 5/35 [Train]: 100%|██████████| 86/86 [00:23<00:00,  3.64it/s]\n",
      "Epoch 5/35 [Val]: 100%|██████████| 11/11 [00:02<00:00,  3.88it/s]\n"
     ]
    },
    {
     "name": "stdout",
     "output_type": "stream",
     "text": [
      "Epoch 5/35: Train Loss=1.1762, Train Acc=0.6090, Val Loss=1.3427, Val Acc=0.5543\n",
      "Best model saved in d:\\Uni\\Master\\1 Bimestre\\Foundations\\Assignments\\Weather-Clasification\\models\\best_model_CNN_V1.pth (val_acc=0.5543)\n"
     ]
    },
    {
     "name": "stderr",
     "output_type": "stream",
     "text": [
      "Epoch 6/35 [Train]: 100%|██████████| 86/86 [00:23<00:00,  3.59it/s]\n",
      "Epoch 6/35 [Val]: 100%|██████████| 11/11 [00:03<00:00,  2.95it/s]\n"
     ]
    },
    {
     "name": "stdout",
     "output_type": "stream",
     "text": [
      "Epoch 6/35: Train Loss=1.0809, Train Acc=0.6431, Val Loss=1.2550, Val Acc=0.6188\n",
      "Best model saved in d:\\Uni\\Master\\1 Bimestre\\Foundations\\Assignments\\Weather-Clasification\\models\\best_model_CNN_V1.pth (val_acc=0.6188)\n"
     ]
    },
    {
     "name": "stderr",
     "output_type": "stream",
     "text": [
      "Epoch 7/35 [Train]: 100%|██████████| 86/86 [00:32<00:00,  2.61it/s]\n",
      "Epoch 7/35 [Val]: 100%|██████████| 11/11 [00:02<00:00,  3.91it/s]\n"
     ]
    },
    {
     "name": "stdout",
     "output_type": "stream",
     "text": [
      "Epoch 7/35: Train Loss=0.9881, Train Acc=0.6637, Val Loss=1.1212, Val Acc=0.6598\n",
      "Best model saved in d:\\Uni\\Master\\1 Bimestre\\Foundations\\Assignments\\Weather-Clasification\\models\\best_model_CNN_V1.pth (val_acc=0.6598)\n"
     ]
    },
    {
     "name": "stderr",
     "output_type": "stream",
     "text": [
      "Epoch 8/35 [Train]: 100%|██████████| 86/86 [00:25<00:00,  3.36it/s]\n",
      "Epoch 8/35 [Val]: 100%|██████████| 11/11 [00:02<00:00,  3.77it/s]\n"
     ]
    },
    {
     "name": "stdout",
     "output_type": "stream",
     "text": [
      "Epoch 8/35: Train Loss=0.8956, Train Acc=0.6922, Val Loss=1.1967, Val Acc=0.6173\n"
     ]
    },
    {
     "name": "stderr",
     "output_type": "stream",
     "text": [
      "Epoch 9/35 [Train]: 100%|██████████| 86/86 [00:24<00:00,  3.53it/s]\n",
      "Epoch 9/35 [Val]: 100%|██████████| 11/11 [00:02<00:00,  3.73it/s]\n"
     ]
    },
    {
     "name": "stdout",
     "output_type": "stream",
     "text": [
      "Epoch 9/35: Train Loss=0.8199, Train Acc=0.7217, Val Loss=1.1940, Val Acc=0.6408\n"
     ]
    },
    {
     "name": "stderr",
     "output_type": "stream",
     "text": [
      "Epoch 10/35 [Train]: 100%|██████████| 86/86 [00:24<00:00,  3.58it/s]\n",
      "Epoch 10/35 [Val]: 100%|██████████| 11/11 [00:02<00:00,  3.97it/s]\n"
     ]
    },
    {
     "name": "stdout",
     "output_type": "stream",
     "text": [
      "Epoch 10/35: Train Loss=0.7253, Train Acc=0.7527, Val Loss=1.1297, Val Acc=0.6613\n",
      "Best model saved in d:\\Uni\\Master\\1 Bimestre\\Foundations\\Assignments\\Weather-Clasification\\models\\best_model_CNN_V1.pth (val_acc=0.6613)\n"
     ]
    },
    {
     "name": "stderr",
     "output_type": "stream",
     "text": [
      "Epoch 11/35 [Train]: 100%|██████████| 86/86 [00:25<00:00,  3.38it/s]\n",
      "Epoch 11/35 [Val]: 100%|██████████| 11/11 [00:03<00:00,  3.39it/s]\n"
     ]
    },
    {
     "name": "stdout",
     "output_type": "stream",
     "text": [
      "Epoch 11/35: Train Loss=0.6576, Train Acc=0.7821, Val Loss=1.1499, Val Acc=0.6642\n",
      "Best model saved in d:\\Uni\\Master\\1 Bimestre\\Foundations\\Assignments\\Weather-Clasification\\models\\best_model_CNN_V1.pth (val_acc=0.6642)\n"
     ]
    },
    {
     "name": "stderr",
     "output_type": "stream",
     "text": [
      "Epoch 12/35 [Train]: 100%|██████████| 86/86 [00:23<00:00,  3.60it/s]\n",
      "Epoch 12/35 [Val]: 100%|██████████| 11/11 [00:02<00:00,  4.08it/s]\n"
     ]
    },
    {
     "name": "stdout",
     "output_type": "stream",
     "text": [
      "Epoch 12/35: Train Loss=0.5569, Train Acc=0.8133, Val Loss=1.1666, Val Acc=0.6833\n",
      "Best model saved in d:\\Uni\\Master\\1 Bimestre\\Foundations\\Assignments\\Weather-Clasification\\models\\best_model_CNN_V1.pth (val_acc=0.6833)\n"
     ]
    },
    {
     "name": "stderr",
     "output_type": "stream",
     "text": [
      "Epoch 13/35 [Train]: 100%|██████████| 86/86 [00:24<00:00,  3.50it/s]\n",
      "Epoch 13/35 [Val]: 100%|██████████| 11/11 [00:02<00:00,  3.90it/s]\n"
     ]
    },
    {
     "name": "stdout",
     "output_type": "stream",
     "text": [
      "Epoch 13/35: Train Loss=0.4132, Train Acc=0.8601, Val Loss=1.3142, Val Acc=0.6848\n",
      "Best model saved in d:\\Uni\\Master\\1 Bimestre\\Foundations\\Assignments\\Weather-Clasification\\models\\best_model_CNN_V1.pth (val_acc=0.6848)\n"
     ]
    },
    {
     "name": "stderr",
     "output_type": "stream",
     "text": [
      "Epoch 14/35 [Train]: 100%|██████████| 86/86 [00:24<00:00,  3.44it/s]\n",
      "Epoch 14/35 [Val]: 100%|██████████| 11/11 [00:03<00:00,  3.49it/s]\n"
     ]
    },
    {
     "name": "stdout",
     "output_type": "stream",
     "text": [
      "Epoch 14/35: Train Loss=0.3631, Train Acc=0.8846, Val Loss=1.4430, Val Acc=0.6979\n",
      "Best model saved in d:\\Uni\\Master\\1 Bimestre\\Foundations\\Assignments\\Weather-Clasification\\models\\best_model_CNN_V1.pth (val_acc=0.6979)\n"
     ]
    },
    {
     "name": "stderr",
     "output_type": "stream",
     "text": [
      "Epoch 15/35 [Train]: 100%|██████████| 86/86 [00:24<00:00,  3.49it/s]\n",
      "Epoch 15/35 [Val]: 100%|██████████| 11/11 [00:02<00:00,  4.15it/s]\n"
     ]
    },
    {
     "name": "stdout",
     "output_type": "stream",
     "text": [
      "Epoch 15/35: Train Loss=0.3178, Train Acc=0.8970, Val Loss=1.5582, Val Acc=0.6642\n"
     ]
    },
    {
     "name": "stderr",
     "output_type": "stream",
     "text": [
      "Epoch 16/35 [Train]: 100%|██████████| 86/86 [00:22<00:00,  3.76it/s]\n",
      "Epoch 16/35 [Val]: 100%|██████████| 11/11 [00:02<00:00,  3.67it/s]\n"
     ]
    },
    {
     "name": "stdout",
     "output_type": "stream",
     "text": [
      "Epoch 16/35: Train Loss=0.2272, Train Acc=0.9263, Val Loss=1.6386, Val Acc=0.6657\n"
     ]
    },
    {
     "name": "stderr",
     "output_type": "stream",
     "text": [
      "Epoch 17/35 [Train]: 100%|██████████| 86/86 [00:24<00:00,  3.48it/s]\n",
      "Epoch 17/35 [Val]: 100%|██████████| 11/11 [00:02<00:00,  3.82it/s]\n"
     ]
    },
    {
     "name": "stdout",
     "output_type": "stream",
     "text": [
      "Epoch 17/35: Train Loss=0.2052, Train Acc=0.9314, Val Loss=1.9941, Val Acc=0.6642\n"
     ]
    },
    {
     "name": "stderr",
     "output_type": "stream",
     "text": [
      "Epoch 18/35 [Train]: 100%|██████████| 86/86 [00:24<00:00,  3.54it/s]\n",
      "Epoch 18/35 [Val]: 100%|██████████| 11/11 [00:02<00:00,  3.88it/s]\n"
     ]
    },
    {
     "name": "stdout",
     "output_type": "stream",
     "text": [
      "Epoch 18/35: Train Loss=0.1565, Train Acc=0.9491, Val Loss=2.2778, Val Acc=0.6745\n"
     ]
    },
    {
     "name": "stderr",
     "output_type": "stream",
     "text": [
      "Epoch 19/35 [Train]: 100%|██████████| 86/86 [00:24<00:00,  3.53it/s]\n",
      "Epoch 19/35 [Val]: 100%|██████████| 11/11 [00:02<00:00,  4.08it/s]\n"
     ]
    },
    {
     "name": "stdout",
     "output_type": "stream",
     "text": [
      "Epoch 19/35: Train Loss=0.1642, Train Acc=0.9458, Val Loss=2.4154, Val Acc=0.6554\n"
     ]
    },
    {
     "name": "stderr",
     "output_type": "stream",
     "text": [
      "Epoch 20/35 [Train]: 100%|██████████| 86/86 [00:24<00:00,  3.46it/s]\n",
      "Epoch 20/35 [Val]: 100%|██████████| 11/11 [00:02<00:00,  3.70it/s]\n"
     ]
    },
    {
     "name": "stdout",
     "output_type": "stream",
     "text": [
      "Epoch 20/35: Train Loss=0.0992, Train Acc=0.9685, Val Loss=2.3197, Val Acc=0.6862\n"
     ]
    },
    {
     "name": "stderr",
     "output_type": "stream",
     "text": [
      "Epoch 21/35 [Train]: 100%|██████████| 86/86 [00:23<00:00,  3.70it/s]\n",
      "Epoch 21/35 [Val]: 100%|██████████| 11/11 [00:03<00:00,  3.28it/s]\n"
     ]
    },
    {
     "name": "stdout",
     "output_type": "stream",
     "text": [
      "Epoch 21/35: Train Loss=0.1050, Train Acc=0.9668, Val Loss=2.2627, Val Acc=0.6862\n"
     ]
    },
    {
     "name": "stderr",
     "output_type": "stream",
     "text": [
      "Epoch 22/35 [Train]: 100%|██████████| 86/86 [00:23<00:00,  3.58it/s]\n",
      "Epoch 22/35 [Val]: 100%|██████████| 11/11 [00:03<00:00,  3.52it/s]\n"
     ]
    },
    {
     "name": "stdout",
     "output_type": "stream",
     "text": [
      "Epoch 22/35: Train Loss=0.0891, Train Acc=0.9732, Val Loss=2.5550, Val Acc=0.6730\n"
     ]
    },
    {
     "name": "stderr",
     "output_type": "stream",
     "text": [
      "Epoch 23/35 [Train]: 100%|██████████| 86/86 [00:24<00:00,  3.49it/s]\n",
      "Epoch 23/35 [Val]: 100%|██████████| 11/11 [00:02<00:00,  4.12it/s]\n"
     ]
    },
    {
     "name": "stdout",
     "output_type": "stream",
     "text": [
      "Epoch 23/35: Train Loss=0.0847, Train Acc=0.9732, Val Loss=2.3778, Val Acc=0.6833\n"
     ]
    },
    {
     "name": "stderr",
     "output_type": "stream",
     "text": [
      "Epoch 24/35 [Train]: 100%|██████████| 86/86 [00:24<00:00,  3.51it/s]\n",
      "Epoch 24/35 [Val]: 100%|██████████| 11/11 [00:03<00:00,  3.39it/s]\n"
     ]
    },
    {
     "name": "stdout",
     "output_type": "stream",
     "text": [
      "Epoch 24/35: Train Loss=0.1732, Train Acc=0.9486, Val Loss=2.2682, Val Acc=0.6848\n"
     ]
    },
    {
     "name": "stderr",
     "output_type": "stream",
     "text": [
      "Epoch 25/35 [Train]: 100%|██████████| 86/86 [00:23<00:00,  3.61it/s]\n",
      "Epoch 25/35 [Val]: 100%|██████████| 11/11 [00:02<00:00,  4.01it/s]\n"
     ]
    },
    {
     "name": "stdout",
     "output_type": "stream",
     "text": [
      "Epoch 25/35: Train Loss=0.0549, Train Acc=0.9836, Val Loss=2.5432, Val Acc=0.6437\n"
     ]
    },
    {
     "name": "stderr",
     "output_type": "stream",
     "text": [
      "Epoch 26/35 [Train]: 100%|██████████| 86/86 [00:24<00:00,  3.45it/s]\n",
      "Epoch 26/35 [Val]: 100%|██████████| 11/11 [00:02<00:00,  3.72it/s]\n"
     ]
    },
    {
     "name": "stdout",
     "output_type": "stream",
     "text": [
      "Epoch 26/35: Train Loss=0.0564, Train Acc=0.9812, Val Loss=2.4767, Val Acc=0.6716\n"
     ]
    },
    {
     "name": "stderr",
     "output_type": "stream",
     "text": [
      "Epoch 27/35 [Train]: 100%|██████████| 86/86 [00:23<00:00,  3.60it/s]\n",
      "Epoch 27/35 [Val]: 100%|██████████| 11/11 [00:02<00:00,  4.15it/s]\n"
     ]
    },
    {
     "name": "stdout",
     "output_type": "stream",
     "text": [
      "Epoch 27/35: Train Loss=0.0461, Train Acc=0.9836, Val Loss=2.8143, Val Acc=0.6642\n"
     ]
    },
    {
     "name": "stderr",
     "output_type": "stream",
     "text": [
      "Epoch 28/35 [Train]: 100%|██████████| 86/86 [00:23<00:00,  3.67it/s]\n",
      "Epoch 28/35 [Val]: 100%|██████████| 11/11 [00:02<00:00,  3.83it/s]\n"
     ]
    },
    {
     "name": "stdout",
     "output_type": "stream",
     "text": [
      "Epoch 28/35: Train Loss=0.0521, Train Acc=0.9841, Val Loss=2.6476, Val Acc=0.6789\n"
     ]
    },
    {
     "name": "stderr",
     "output_type": "stream",
     "text": [
      "Epoch 29/35 [Train]: 100%|██████████| 86/86 [00:24<00:00,  3.56it/s]\n",
      "Epoch 29/35 [Val]: 100%|██████████| 11/11 [00:02<00:00,  3.89it/s]\n"
     ]
    },
    {
     "name": "stdout",
     "output_type": "stream",
     "text": [
      "Epoch 29/35: Train Loss=0.0540, Train Acc=0.9823, Val Loss=2.5034, Val Acc=0.6833\n"
     ]
    },
    {
     "name": "stderr",
     "output_type": "stream",
     "text": [
      "Epoch 30/35 [Train]: 100%|██████████| 86/86 [00:22<00:00,  3.77it/s]\n",
      "Epoch 30/35 [Val]: 100%|██████████| 11/11 [00:02<00:00,  3.82it/s]\n"
     ]
    },
    {
     "name": "stdout",
     "output_type": "stream",
     "text": [
      "Epoch 30/35: Train Loss=0.0935, Train Acc=0.9736, Val Loss=2.6683, Val Acc=0.6672\n"
     ]
    },
    {
     "name": "stderr",
     "output_type": "stream",
     "text": [
      "Epoch 31/35 [Train]: 100%|██████████| 86/86 [00:23<00:00,  3.62it/s]\n",
      "Epoch 31/35 [Val]: 100%|██████████| 11/11 [00:02<00:00,  3.99it/s]\n"
     ]
    },
    {
     "name": "stdout",
     "output_type": "stream",
     "text": [
      "Epoch 31/35: Train Loss=0.0734, Train Acc=0.9763, Val Loss=2.6772, Val Acc=0.6804\n"
     ]
    },
    {
     "name": "stderr",
     "output_type": "stream",
     "text": [
      "Epoch 32/35 [Train]: 100%|██████████| 86/86 [00:24<00:00,  3.57it/s]\n",
      "Epoch 32/35 [Val]: 100%|██████████| 11/11 [00:02<00:00,  4.05it/s]\n"
     ]
    },
    {
     "name": "stdout",
     "output_type": "stream",
     "text": [
      "Epoch 32/35: Train Loss=0.0425, Train Acc=0.9871, Val Loss=2.8834, Val Acc=0.6774\n"
     ]
    },
    {
     "name": "stderr",
     "output_type": "stream",
     "text": [
      "Epoch 33/35 [Train]: 100%|██████████| 86/86 [00:25<00:00,  3.31it/s]\n",
      "Epoch 33/35 [Val]: 100%|██████████| 11/11 [00:02<00:00,  4.08it/s]\n"
     ]
    },
    {
     "name": "stdout",
     "output_type": "stream",
     "text": [
      "Epoch 33/35: Train Loss=0.0474, Train Acc=0.9858, Val Loss=2.9548, Val Acc=0.6481\n"
     ]
    },
    {
     "name": "stderr",
     "output_type": "stream",
     "text": [
      "Epoch 34/35 [Train]: 100%|██████████| 86/86 [00:23<00:00,  3.67it/s]\n",
      "Epoch 34/35 [Val]: 100%|██████████| 11/11 [00:03<00:00,  3.66it/s]\n"
     ]
    },
    {
     "name": "stdout",
     "output_type": "stream",
     "text": [
      "Epoch 34/35: Train Loss=0.0493, Train Acc=0.9871, Val Loss=2.7536, Val Acc=0.6657\n"
     ]
    },
    {
     "name": "stderr",
     "output_type": "stream",
     "text": [
      "Epoch 35/35 [Train]: 100%|██████████| 86/86 [00:24<00:00,  3.58it/s]\n",
      "Epoch 35/35 [Val]: 100%|██████████| 11/11 [00:02<00:00,  4.04it/s]"
     ]
    },
    {
     "name": "stdout",
     "output_type": "stream",
     "text": [
      "Epoch 35/35: Train Loss=0.0258, Train Acc=0.9922, Val Loss=2.9291, Val Acc=0.6613\n",
      "Training complete. Best val_acc=0.6979\n",
      "MMetrics saved in d:\\Uni\\Master\\1 Bimestre\\Foundations\\Assignments\\Weather-Clasification\\reports\\metrics\\metrics_CNN_V1.pkl\n"
     ]
    },
    {
     "name": "stderr",
     "output_type": "stream",
     "text": [
      "\n"
     ]
    }
   ],
   "source": [
    "input_dim = 64*64*3  # matches the Resize transform\n",
    "model = train_model(CNN_V1, \n",
    "                    train_dir=\"../../data/train\", \n",
    "                    val_dir=\"../../data/val\", \n",
    "                    input_dim=input_dim,\n",
    "                    num_classes=11,\n",
    "                    batch_size=64,\n",
    "                    epochs=35,\n",
    "                    lr=1e-3,\n",
    "                    device=\"cuda\" if torch.cuda.is_available() else \"cpu\")"
   ]
  },
  {
   "cell_type": "code",
   "execution_count": 5,
   "id": "64f6d733",
   "metadata": {},
   "outputs": [
    {
     "name": "stderr",
     "output_type": "stream",
     "text": [
      "Epoch 1/35 [Train]: 100%|██████████| 86/86 [00:25<00:00,  3.39it/s]\n",
      "Epoch 1/35 [Val]: 100%|██████████| 11/11 [00:03<00:00,  3.63it/s]\n"
     ]
    },
    {
     "name": "stdout",
     "output_type": "stream",
     "text": [
      "Epoch 1/35: Train Loss=2.2211, Train Acc=0.2055, Val Loss=2.2511, Val Acc=0.2786\n",
      "Best model saved in d:\\Uni\\Master\\1 Bimestre\\Foundations\\Assignments\\Weather-Clasification\\models\\best_model_CNN_V1_reg.pth (val_acc=0.2786)\n"
     ]
    },
    {
     "name": "stderr",
     "output_type": "stream",
     "text": [
      "Epoch 2/35 [Train]: 100%|██████████| 86/86 [00:24<00:00,  3.47it/s]\n",
      "Epoch 2/35 [Val]: 100%|██████████| 11/11 [00:02<00:00,  3.77it/s]\n"
     ]
    },
    {
     "name": "stdout",
     "output_type": "stream",
     "text": [
      "Epoch 2/35: Train Loss=1.8681, Train Acc=0.3702, Val Loss=1.9817, Val Acc=0.4252\n",
      "Best model saved in d:\\Uni\\Master\\1 Bimestre\\Foundations\\Assignments\\Weather-Clasification\\models\\best_model_CNN_V1_reg.pth (val_acc=0.4252)\n"
     ]
    },
    {
     "name": "stderr",
     "output_type": "stream",
     "text": [
      "Epoch 3/35 [Train]: 100%|██████████| 86/86 [00:25<00:00,  3.44it/s]\n",
      "Epoch 3/35 [Val]: 100%|██████████| 11/11 [00:02<00:00,  3.83it/s]\n"
     ]
    },
    {
     "name": "stdout",
     "output_type": "stream",
     "text": [
      "Epoch 3/35: Train Loss=1.7045, Train Acc=0.4305, Val Loss=1.7636, Val Acc=0.4692\n",
      "Best model saved in d:\\Uni\\Master\\1 Bimestre\\Foundations\\Assignments\\Weather-Clasification\\models\\best_model_CNN_V1_reg.pth (val_acc=0.4692)\n"
     ]
    },
    {
     "name": "stderr",
     "output_type": "stream",
     "text": [
      "Epoch 4/35 [Train]: 100%|██████████| 86/86 [00:24<00:00,  3.46it/s]\n",
      "Epoch 4/35 [Val]: 100%|██████████| 11/11 [00:02<00:00,  3.92it/s]\n"
     ]
    },
    {
     "name": "stdout",
     "output_type": "stream",
     "text": [
      "Epoch 4/35: Train Loss=1.5794, Train Acc=0.4737, Val Loss=1.7669, Val Acc=0.4941\n",
      "Best model saved in d:\\Uni\\Master\\1 Bimestre\\Foundations\\Assignments\\Weather-Clasification\\models\\best_model_CNN_V1_reg.pth (val_acc=0.4941)\n"
     ]
    },
    {
     "name": "stderr",
     "output_type": "stream",
     "text": [
      "Epoch 5/35 [Train]: 100%|██████████| 86/86 [00:25<00:00,  3.39it/s]\n",
      "Epoch 5/35 [Val]: 100%|██████████| 11/11 [00:02<00:00,  3.78it/s]\n"
     ]
    },
    {
     "name": "stdout",
     "output_type": "stream",
     "text": [
      "Epoch 5/35: Train Loss=1.4632, Train Acc=0.5113, Val Loss=1.6281, Val Acc=0.4839\n"
     ]
    },
    {
     "name": "stderr",
     "output_type": "stream",
     "text": [
      "Epoch 6/35 [Train]: 100%|██████████| 86/86 [00:25<00:00,  3.39it/s]\n",
      "Epoch 6/35 [Val]: 100%|██████████| 11/11 [00:02<00:00,  3.80it/s]\n"
     ]
    },
    {
     "name": "stdout",
     "output_type": "stream",
     "text": [
      "Epoch 6/35: Train Loss=1.3294, Train Acc=0.5604, Val Loss=1.5231, Val Acc=0.4868\n"
     ]
    },
    {
     "name": "stderr",
     "output_type": "stream",
     "text": [
      "Epoch 7/35 [Train]: 100%|██████████| 86/86 [00:25<00:00,  3.44it/s]\n",
      "Epoch 7/35 [Val]: 100%|██████████| 11/11 [00:02<00:00,  4.11it/s]\n"
     ]
    },
    {
     "name": "stdout",
     "output_type": "stream",
     "text": [
      "Epoch 7/35: Train Loss=1.2871, Train Acc=0.5842, Val Loss=1.4903, Val Acc=0.5308\n",
      "Best model saved in d:\\Uni\\Master\\1 Bimestre\\Foundations\\Assignments\\Weather-Clasification\\models\\best_model_CNN_V1_reg.pth (val_acc=0.5308)\n"
     ]
    },
    {
     "name": "stderr",
     "output_type": "stream",
     "text": [
      "Epoch 8/35 [Train]: 100%|██████████| 86/86 [00:24<00:00,  3.49it/s]\n",
      "Epoch 8/35 [Val]: 100%|██████████| 11/11 [00:03<00:00,  3.56it/s]\n"
     ]
    },
    {
     "name": "stdout",
     "output_type": "stream",
     "text": [
      "Epoch 8/35: Train Loss=1.1961, Train Acc=0.6039, Val Loss=1.2969, Val Acc=0.6085\n",
      "Best model saved in d:\\Uni\\Master\\1 Bimestre\\Foundations\\Assignments\\Weather-Clasification\\models\\best_model_CNN_V1_reg.pth (val_acc=0.6085)\n"
     ]
    },
    {
     "name": "stderr",
     "output_type": "stream",
     "text": [
      "Epoch 9/35 [Train]: 100%|██████████| 86/86 [00:27<00:00,  3.15it/s]\n",
      "Epoch 9/35 [Val]: 100%|██████████| 11/11 [00:02<00:00,  3.71it/s]\n"
     ]
    },
    {
     "name": "stdout",
     "output_type": "stream",
     "text": [
      "Epoch 9/35: Train Loss=1.1194, Train Acc=0.6306, Val Loss=1.2647, Val Acc=0.5704\n"
     ]
    },
    {
     "name": "stderr",
     "output_type": "stream",
     "text": [
      "Epoch 10/35 [Train]: 100%|██████████| 86/86 [00:24<00:00,  3.47it/s]\n",
      "Epoch 10/35 [Val]: 100%|██████████| 11/11 [00:02<00:00,  4.12it/s]\n"
     ]
    },
    {
     "name": "stdout",
     "output_type": "stream",
     "text": [
      "Epoch 10/35: Train Loss=1.0683, Train Acc=0.6512, Val Loss=1.2725, Val Acc=0.6276\n",
      "Best model saved in d:\\Uni\\Master\\1 Bimestre\\Foundations\\Assignments\\Weather-Clasification\\models\\best_model_CNN_V1_reg.pth (val_acc=0.6276)\n"
     ]
    },
    {
     "name": "stderr",
     "output_type": "stream",
     "text": [
      "Epoch 11/35 [Train]: 100%|██████████| 86/86 [00:24<00:00,  3.44it/s]\n",
      "Epoch 11/35 [Val]: 100%|██████████| 11/11 [00:02<00:00,  3.70it/s]\n"
     ]
    },
    {
     "name": "stdout",
     "output_type": "stream",
     "text": [
      "Epoch 11/35: Train Loss=1.0086, Train Acc=0.6725, Val Loss=1.3175, Val Acc=0.5499\n"
     ]
    },
    {
     "name": "stderr",
     "output_type": "stream",
     "text": [
      "Epoch 12/35 [Train]: 100%|██████████| 86/86 [00:25<00:00,  3.39it/s]\n",
      "Epoch 12/35 [Val]: 100%|██████████| 11/11 [00:02<00:00,  4.02it/s]\n"
     ]
    },
    {
     "name": "stdout",
     "output_type": "stream",
     "text": [
      "Epoch 12/35: Train Loss=0.9909, Train Acc=0.6787, Val Loss=1.4892, Val Acc=0.4692\n"
     ]
    },
    {
     "name": "stderr",
     "output_type": "stream",
     "text": [
      "Epoch 13/35 [Train]: 100%|██████████| 86/86 [00:24<00:00,  3.53it/s]\n",
      "Epoch 13/35 [Val]: 100%|██████████| 11/11 [00:02<00:00,  3.87it/s]\n"
     ]
    },
    {
     "name": "stdout",
     "output_type": "stream",
     "text": [
      "Epoch 13/35: Train Loss=0.9049, Train Acc=0.7040, Val Loss=1.1555, Val Acc=0.6173\n"
     ]
    },
    {
     "name": "stderr",
     "output_type": "stream",
     "text": [
      "Epoch 14/35 [Train]: 100%|██████████| 86/86 [00:24<00:00,  3.45it/s]\n",
      "Epoch 14/35 [Val]: 100%|██████████| 11/11 [00:02<00:00,  4.01it/s]\n"
     ]
    },
    {
     "name": "stdout",
     "output_type": "stream",
     "text": [
      "Epoch 14/35: Train Loss=0.8334, Train Acc=0.7272, Val Loss=1.0955, Val Acc=0.6481\n",
      "Best model saved in d:\\Uni\\Master\\1 Bimestre\\Foundations\\Assignments\\Weather-Clasification\\models\\best_model_CNN_V1_reg.pth (val_acc=0.6481)\n"
     ]
    },
    {
     "name": "stderr",
     "output_type": "stream",
     "text": [
      "Epoch 15/35 [Train]: 100%|██████████| 86/86 [00:24<00:00,  3.58it/s]\n",
      "Epoch 15/35 [Val]: 100%|██████████| 11/11 [00:02<00:00,  4.13it/s]\n"
     ]
    },
    {
     "name": "stdout",
     "output_type": "stream",
     "text": [
      "Epoch 15/35: Train Loss=0.7796, Train Acc=0.7462, Val Loss=1.1818, Val Acc=0.6246\n"
     ]
    },
    {
     "name": "stderr",
     "output_type": "stream",
     "text": [
      "Epoch 16/35 [Train]: 100%|██████████| 86/86 [00:22<00:00,  3.75it/s]\n",
      "Epoch 16/35 [Val]: 100%|██████████| 11/11 [00:02<00:00,  3.76it/s]\n"
     ]
    },
    {
     "name": "stdout",
     "output_type": "stream",
     "text": [
      "Epoch 16/35: Train Loss=0.7567, Train Acc=0.7573, Val Loss=1.1291, Val Acc=0.6290\n"
     ]
    },
    {
     "name": "stderr",
     "output_type": "stream",
     "text": [
      "Epoch 17/35 [Train]: 100%|██████████| 86/86 [00:25<00:00,  3.41it/s]\n",
      "Epoch 17/35 [Val]: 100%|██████████| 11/11 [00:02<00:00,  3.73it/s]\n"
     ]
    },
    {
     "name": "stdout",
     "output_type": "stream",
     "text": [
      "Epoch 17/35: Train Loss=0.6958, Train Acc=0.7750, Val Loss=1.1445, Val Acc=0.6525\n",
      "Best model saved in d:\\Uni\\Master\\1 Bimestre\\Foundations\\Assignments\\Weather-Clasification\\models\\best_model_CNN_V1_reg.pth (val_acc=0.6525)\n"
     ]
    },
    {
     "name": "stderr",
     "output_type": "stream",
     "text": [
      "Epoch 18/35 [Train]: 100%|██████████| 86/86 [00:24<00:00,  3.52it/s]\n",
      "Epoch 18/35 [Val]: 100%|██████████| 11/11 [00:02<00:00,  3.92it/s]\n"
     ]
    },
    {
     "name": "stdout",
     "output_type": "stream",
     "text": [
      "Epoch 18/35: Train Loss=0.6540, Train Acc=0.7885, Val Loss=1.1691, Val Acc=0.6173\n"
     ]
    },
    {
     "name": "stderr",
     "output_type": "stream",
     "text": [
      "Epoch 19/35 [Train]: 100%|██████████| 86/86 [00:24<00:00,  3.46it/s]\n",
      "Epoch 19/35 [Val]: 100%|██████████| 11/11 [00:02<00:00,  3.82it/s]\n"
     ]
    },
    {
     "name": "stdout",
     "output_type": "stream",
     "text": [
      "Epoch 19/35: Train Loss=0.5974, Train Acc=0.8076, Val Loss=1.0826, Val Acc=0.6730\n",
      "Best model saved in d:\\Uni\\Master\\1 Bimestre\\Foundations\\Assignments\\Weather-Clasification\\models\\best_model_CNN_V1_reg.pth (val_acc=0.6730)\n"
     ]
    },
    {
     "name": "stderr",
     "output_type": "stream",
     "text": [
      "Epoch 20/35 [Train]: 100%|██████████| 86/86 [00:24<00:00,  3.55it/s]\n",
      "Epoch 20/35 [Val]: 100%|██████████| 11/11 [00:02<00:00,  4.27it/s]\n"
     ]
    },
    {
     "name": "stdout",
     "output_type": "stream",
     "text": [
      "Epoch 20/35: Train Loss=0.5674, Train Acc=0.8149, Val Loss=1.2377, Val Acc=0.6070\n"
     ]
    },
    {
     "name": "stderr",
     "output_type": "stream",
     "text": [
      "Epoch 21/35 [Train]: 100%|██████████| 86/86 [00:22<00:00,  3.84it/s]\n",
      "Epoch 21/35 [Val]: 100%|██████████| 11/11 [00:02<00:00,  3.80it/s]\n"
     ]
    },
    {
     "name": "stdout",
     "output_type": "stream",
     "text": [
      "Epoch 21/35: Train Loss=0.5790, Train Acc=0.8129, Val Loss=1.0559, Val Acc=0.6745\n",
      "Best model saved in d:\\Uni\\Master\\1 Bimestre\\Foundations\\Assignments\\Weather-Clasification\\models\\best_model_CNN_V1_reg.pth (val_acc=0.6745)\n"
     ]
    },
    {
     "name": "stderr",
     "output_type": "stream",
     "text": [
      "Epoch 22/35 [Train]: 100%|██████████| 86/86 [00:24<00:00,  3.54it/s]\n",
      "Epoch 22/35 [Val]: 100%|██████████| 11/11 [00:02<00:00,  4.23it/s]\n"
     ]
    },
    {
     "name": "stdout",
     "output_type": "stream",
     "text": [
      "Epoch 22/35: Train Loss=0.5081, Train Acc=0.8379, Val Loss=1.0162, Val Acc=0.6774\n",
      "Best model saved in d:\\Uni\\Master\\1 Bimestre\\Foundations\\Assignments\\Weather-Clasification\\models\\best_model_CNN_V1_reg.pth (val_acc=0.6774)\n"
     ]
    },
    {
     "name": "stderr",
     "output_type": "stream",
     "text": [
      "Epoch 23/35 [Train]: 100%|██████████| 86/86 [00:26<00:00,  3.25it/s]\n",
      "Epoch 23/35 [Val]: 100%|██████████| 11/11 [00:02<00:00,  3.68it/s]\n"
     ]
    },
    {
     "name": "stdout",
     "output_type": "stream",
     "text": [
      "Epoch 23/35: Train Loss=0.4481, Train Acc=0.8581, Val Loss=1.0900, Val Acc=0.6789\n",
      "Best model saved in d:\\Uni\\Master\\1 Bimestre\\Foundations\\Assignments\\Weather-Clasification\\models\\best_model_CNN_V1_reg.pth (val_acc=0.6789)\n"
     ]
    },
    {
     "name": "stderr",
     "output_type": "stream",
     "text": [
      "Epoch 24/35 [Train]: 100%|██████████| 86/86 [00:27<00:00,  3.17it/s]\n",
      "Epoch 24/35 [Val]: 100%|██████████| 11/11 [00:02<00:00,  3.97it/s]\n"
     ]
    },
    {
     "name": "stdout",
     "output_type": "stream",
     "text": [
      "Epoch 24/35: Train Loss=0.4329, Train Acc=0.8603, Val Loss=0.9842, Val Acc=0.6921\n",
      "Best model saved in d:\\Uni\\Master\\1 Bimestre\\Foundations\\Assignments\\Weather-Clasification\\models\\best_model_CNN_V1_reg.pth (val_acc=0.6921)\n"
     ]
    },
    {
     "name": "stderr",
     "output_type": "stream",
     "text": [
      "Epoch 25/35 [Train]: 100%|██████████| 86/86 [00:25<00:00,  3.41it/s]\n",
      "Epoch 25/35 [Val]: 100%|██████████| 11/11 [00:02<00:00,  3.68it/s]\n"
     ]
    },
    {
     "name": "stdout",
     "output_type": "stream",
     "text": [
      "Epoch 25/35: Train Loss=0.4444, Train Acc=0.8642, Val Loss=1.0309, Val Acc=0.6906\n"
     ]
    },
    {
     "name": "stderr",
     "output_type": "stream",
     "text": [
      "Epoch 26/35 [Train]: 100%|██████████| 86/86 [00:24<00:00,  3.56it/s]\n",
      "Epoch 26/35 [Val]: 100%|██████████| 11/11 [00:02<00:00,  4.22it/s]\n"
     ]
    },
    {
     "name": "stdout",
     "output_type": "stream",
     "text": [
      "Epoch 26/35: Train Loss=0.4246, Train Acc=0.8605, Val Loss=1.0600, Val Acc=0.6730\n"
     ]
    },
    {
     "name": "stderr",
     "output_type": "stream",
     "text": [
      "Epoch 27/35 [Train]: 100%|██████████| 86/86 [00:22<00:00,  3.77it/s]\n",
      "Epoch 27/35 [Val]: 100%|██████████| 11/11 [00:02<00:00,  4.33it/s]\n"
     ]
    },
    {
     "name": "stdout",
     "output_type": "stream",
     "text": [
      "Epoch 27/35: Train Loss=0.3645, Train Acc=0.8838, Val Loss=1.0336, Val Acc=0.6848\n"
     ]
    },
    {
     "name": "stderr",
     "output_type": "stream",
     "text": [
      "Epoch 28/35 [Train]: 100%|██████████| 86/86 [00:22<00:00,  3.91it/s]\n",
      "Epoch 28/35 [Val]: 100%|██████████| 11/11 [00:02<00:00,  4.29it/s]\n"
     ]
    },
    {
     "name": "stdout",
     "output_type": "stream",
     "text": [
      "Epoch 28/35: Train Loss=0.3854, Train Acc=0.8749, Val Loss=1.0675, Val Acc=0.6569\n"
     ]
    },
    {
     "name": "stderr",
     "output_type": "stream",
     "text": [
      "Epoch 29/35 [Train]: 100%|██████████| 86/86 [00:22<00:00,  3.82it/s]\n",
      "Epoch 29/35 [Val]: 100%|██████████| 11/11 [00:02<00:00,  3.83it/s]\n"
     ]
    },
    {
     "name": "stdout",
     "output_type": "stream",
     "text": [
      "Epoch 29/35: Train Loss=0.3503, Train Acc=0.8897, Val Loss=1.1006, Val Acc=0.6598\n"
     ]
    },
    {
     "name": "stderr",
     "output_type": "stream",
     "text": [
      "Epoch 30/35 [Train]: 100%|██████████| 86/86 [00:22<00:00,  3.78it/s]\n",
      "Epoch 30/35 [Val]: 100%|██████████| 11/11 [00:02<00:00,  3.79it/s]\n"
     ]
    },
    {
     "name": "stdout",
     "output_type": "stream",
     "text": [
      "Epoch 30/35: Train Loss=0.3401, Train Acc=0.8933, Val Loss=1.0732, Val Acc=0.6657\n"
     ]
    },
    {
     "name": "stderr",
     "output_type": "stream",
     "text": [
      "Epoch 31/35 [Train]: 100%|██████████| 86/86 [00:24<00:00,  3.55it/s]\n",
      "Epoch 31/35 [Val]: 100%|██████████| 11/11 [00:02<00:00,  4.05it/s]\n"
     ]
    },
    {
     "name": "stdout",
     "output_type": "stream",
     "text": [
      "Epoch 31/35: Train Loss=0.3596, Train Acc=0.8868, Val Loss=1.1298, Val Acc=0.6716\n"
     ]
    },
    {
     "name": "stderr",
     "output_type": "stream",
     "text": [
      "Epoch 32/35 [Train]: 100%|██████████| 86/86 [00:22<00:00,  3.81it/s]\n",
      "Epoch 32/35 [Val]: 100%|██████████| 11/11 [00:02<00:00,  4.27it/s]\n"
     ]
    },
    {
     "name": "stdout",
     "output_type": "stream",
     "text": [
      "Epoch 32/35: Train Loss=0.2872, Train Acc=0.9134, Val Loss=1.1205, Val Acc=0.6701\n"
     ]
    },
    {
     "name": "stderr",
     "output_type": "stream",
     "text": [
      "Epoch 33/35 [Train]: 100%|██████████| 86/86 [00:21<00:00,  3.92it/s]\n",
      "Epoch 33/35 [Val]: 100%|██████████| 11/11 [00:03<00:00,  3.67it/s]\n"
     ]
    },
    {
     "name": "stdout",
     "output_type": "stream",
     "text": [
      "Epoch 33/35: Train Loss=0.3633, Train Acc=0.8895, Val Loss=1.0550, Val Acc=0.6833\n"
     ]
    },
    {
     "name": "stderr",
     "output_type": "stream",
     "text": [
      "Epoch 34/35 [Train]: 100%|██████████| 86/86 [00:22<00:00,  3.83it/s]\n",
      "Epoch 34/35 [Val]: 100%|██████████| 11/11 [00:02<00:00,  4.03it/s]\n"
     ]
    },
    {
     "name": "stdout",
     "output_type": "stream",
     "text": [
      "Epoch 34/35: Train Loss=0.2943, Train Acc=0.9083, Val Loss=1.0339, Val Acc=0.6906\n"
     ]
    },
    {
     "name": "stderr",
     "output_type": "stream",
     "text": [
      "Epoch 35/35 [Train]: 100%|██████████| 86/86 [00:22<00:00,  3.86it/s]\n",
      "Epoch 35/35 [Val]: 100%|██████████| 11/11 [00:02<00:00,  4.23it/s]"
     ]
    },
    {
     "name": "stdout",
     "output_type": "stream",
     "text": [
      "Epoch 35/35: Train Loss=0.2730, Train Acc=0.9130, Val Loss=1.0888, Val Acc=0.6848\n",
      "Training complete. Best val_acc=0.6921\n",
      "MMetrics saved in d:\\Uni\\Master\\1 Bimestre\\Foundations\\Assignments\\Weather-Clasification\\reports\\metrics\\metrics_CNN_V1_reg.pkl\n"
     ]
    },
    {
     "name": "stderr",
     "output_type": "stream",
     "text": [
      "\n"
     ]
    }
   ],
   "source": [
    "input_dim = 64*64*3  # matches the Resize transform\n",
    "model = train_model(CNN_V1_reg, \n",
    "                    train_dir=\"../../data/train\", \n",
    "                    val_dir=\"../../data/val\", \n",
    "                    input_dim=input_dim,\n",
    "                    num_classes=11,\n",
    "                    batch_size=64,\n",
    "                    epochs=35,\n",
    "                    lr=1e-3,\n",
    "                    device=\"cuda\" if torch.cuda.is_available() else \"cpu\")"
   ]
  },
  {
   "cell_type": "code",
   "execution_count": 6,
   "id": "004dd488",
   "metadata": {},
   "outputs": [
    {
     "name": "stderr",
     "output_type": "stream",
     "text": [
      "Epoch 1/35 [Train]: 100%|██████████| 86/86 [00:48<00:00,  1.78it/s]\n",
      "Epoch 1/35 [Val]: 100%|██████████| 11/11 [00:04<00:00,  2.62it/s]\n"
     ]
    },
    {
     "name": "stdout",
     "output_type": "stream",
     "text": [
      "Epoch 1/35: Train Loss=2.1818, Train Acc=0.2350, Val Loss=1.8508, Val Acc=0.3490\n",
      "Best model saved in d:\\Uni\\Master\\1 Bimestre\\Foundations\\Assignments\\Weather-Clasification\\models\\best_model_CNN_V2.pth (val_acc=0.3490)\n"
     ]
    },
    {
     "name": "stderr",
     "output_type": "stream",
     "text": [
      "Epoch 2/35 [Train]: 100%|██████████| 86/86 [00:48<00:00,  1.76it/s]\n",
      "Epoch 2/35 [Val]: 100%|██████████| 11/11 [00:04<00:00,  2.65it/s]\n"
     ]
    },
    {
     "name": "stdout",
     "output_type": "stream",
     "text": [
      "Epoch 2/35: Train Loss=1.7517, Train Acc=0.3944, Val Loss=1.8377, Val Acc=0.4208\n",
      "Best model saved in d:\\Uni\\Master\\1 Bimestre\\Foundations\\Assignments\\Weather-Clasification\\models\\best_model_CNN_V2.pth (val_acc=0.4208)\n"
     ]
    },
    {
     "name": "stderr",
     "output_type": "stream",
     "text": [
      "Epoch 3/35 [Train]: 100%|██████████| 86/86 [00:53<00:00,  1.62it/s]\n",
      "Epoch 3/35 [Val]: 100%|██████████| 11/11 [00:05<00:00,  2.20it/s]\n"
     ]
    },
    {
     "name": "stdout",
     "output_type": "stream",
     "text": [
      "Epoch 3/35: Train Loss=1.5629, Train Acc=0.4664, Val Loss=1.4538, Val Acc=0.5220\n",
      "Best model saved in d:\\Uni\\Master\\1 Bimestre\\Foundations\\Assignments\\Weather-Clasification\\models\\best_model_CNN_V2.pth (val_acc=0.5220)\n"
     ]
    },
    {
     "name": "stderr",
     "output_type": "stream",
     "text": [
      "Epoch 4/35 [Train]: 100%|██████████| 86/86 [00:58<00:00,  1.47it/s]\n",
      "Epoch 4/35 [Val]: 100%|██████████| 11/11 [00:04<00:00,  2.33it/s]\n"
     ]
    },
    {
     "name": "stdout",
     "output_type": "stream",
     "text": [
      "Epoch 4/35: Train Loss=1.3702, Train Acc=0.5323, Val Loss=1.4025, Val Acc=0.5073\n"
     ]
    },
    {
     "name": "stderr",
     "output_type": "stream",
     "text": [
      "Epoch 5/35 [Train]: 100%|██████████| 86/86 [00:55<00:00,  1.54it/s]\n",
      "Epoch 5/35 [Val]: 100%|██████████| 11/11 [00:04<00:00,  2.51it/s]\n"
     ]
    },
    {
     "name": "stdout",
     "output_type": "stream",
     "text": [
      "Epoch 5/35: Train Loss=1.2359, Train Acc=0.5708, Val Loss=1.2663, Val Acc=0.5645\n",
      "Best model saved in d:\\Uni\\Master\\1 Bimestre\\Foundations\\Assignments\\Weather-Clasification\\models\\best_model_CNN_V2.pth (val_acc=0.5645)\n"
     ]
    },
    {
     "name": "stderr",
     "output_type": "stream",
     "text": [
      "Epoch 6/35 [Train]: 100%|██████████| 86/86 [00:55<00:00,  1.55it/s]\n",
      "Epoch 6/35 [Val]: 100%|██████████| 11/11 [00:04<00:00,  2.43it/s]\n"
     ]
    },
    {
     "name": "stdout",
     "output_type": "stream",
     "text": [
      "Epoch 6/35: Train Loss=1.1537, Train Acc=0.6107, Val Loss=1.1256, Val Acc=0.6100\n",
      "Best model saved in d:\\Uni\\Master\\1 Bimestre\\Foundations\\Assignments\\Weather-Clasification\\models\\best_model_CNN_V2.pth (val_acc=0.6100)\n"
     ]
    },
    {
     "name": "stderr",
     "output_type": "stream",
     "text": [
      "Epoch 7/35 [Train]: 100%|██████████| 86/86 [00:54<00:00,  1.58it/s]\n",
      "Epoch 7/35 [Val]: 100%|██████████| 11/11 [00:04<00:00,  2.43it/s]\n"
     ]
    },
    {
     "name": "stdout",
     "output_type": "stream",
     "text": [
      "Epoch 7/35: Train Loss=1.0423, Train Acc=0.6391, Val Loss=1.0597, Val Acc=0.6188\n",
      "Best model saved in d:\\Uni\\Master\\1 Bimestre\\Foundations\\Assignments\\Weather-Clasification\\models\\best_model_CNN_V2.pth (val_acc=0.6188)\n"
     ]
    },
    {
     "name": "stderr",
     "output_type": "stream",
     "text": [
      "Epoch 8/35 [Train]: 100%|██████████| 86/86 [00:55<00:00,  1.55it/s]\n",
      "Epoch 8/35 [Val]: 100%|██████████| 11/11 [00:04<00:00,  2.38it/s]\n"
     ]
    },
    {
     "name": "stdout",
     "output_type": "stream",
     "text": [
      "Epoch 8/35: Train Loss=0.9854, Train Acc=0.6645, Val Loss=1.1046, Val Acc=0.6158\n"
     ]
    },
    {
     "name": "stderr",
     "output_type": "stream",
     "text": [
      "Epoch 9/35 [Train]: 100%|██████████| 86/86 [00:52<00:00,  1.63it/s]\n",
      "Epoch 9/35 [Val]: 100%|██████████| 11/11 [00:04<00:00,  2.50it/s]\n"
     ]
    },
    {
     "name": "stdout",
     "output_type": "stream",
     "text": [
      "Epoch 9/35: Train Loss=0.9348, Train Acc=0.6740, Val Loss=1.0304, Val Acc=0.6584\n",
      "Best model saved in d:\\Uni\\Master\\1 Bimestre\\Foundations\\Assignments\\Weather-Clasification\\models\\best_model_CNN_V2.pth (val_acc=0.6584)\n"
     ]
    },
    {
     "name": "stderr",
     "output_type": "stream",
     "text": [
      "Epoch 10/35 [Train]: 100%|██████████| 86/86 [00:51<00:00,  1.67it/s]\n",
      "Epoch 10/35 [Val]: 100%|██████████| 11/11 [00:04<00:00,  2.49it/s]\n"
     ]
    },
    {
     "name": "stdout",
     "output_type": "stream",
     "text": [
      "Epoch 10/35: Train Loss=0.8728, Train Acc=0.7000, Val Loss=0.9958, Val Acc=0.6686\n",
      "Best model saved in d:\\Uni\\Master\\1 Bimestre\\Foundations\\Assignments\\Weather-Clasification\\models\\best_model_CNN_V2.pth (val_acc=0.6686)\n"
     ]
    },
    {
     "name": "stderr",
     "output_type": "stream",
     "text": [
      "Epoch 11/35 [Train]: 100%|██████████| 86/86 [00:50<00:00,  1.69it/s]\n",
      "Epoch 11/35 [Val]: 100%|██████████| 11/11 [00:04<00:00,  2.49it/s]\n"
     ]
    },
    {
     "name": "stdout",
     "output_type": "stream",
     "text": [
      "Epoch 11/35: Train Loss=0.7740, Train Acc=0.7372, Val Loss=0.9647, Val Acc=0.6848\n",
      "Best model saved in d:\\Uni\\Master\\1 Bimestre\\Foundations\\Assignments\\Weather-Clasification\\models\\best_model_CNN_V2.pth (val_acc=0.6848)\n"
     ]
    },
    {
     "name": "stderr",
     "output_type": "stream",
     "text": [
      "Epoch 12/35 [Train]: 100%|██████████| 86/86 [00:52<00:00,  1.65it/s]\n",
      "Epoch 12/35 [Val]: 100%|██████████| 11/11 [00:04<00:00,  2.65it/s]\n"
     ]
    },
    {
     "name": "stdout",
     "output_type": "stream",
     "text": [
      "Epoch 12/35: Train Loss=0.7138, Train Acc=0.7620, Val Loss=0.9938, Val Acc=0.6569\n"
     ]
    },
    {
     "name": "stderr",
     "output_type": "stream",
     "text": [
      "Epoch 13/35 [Train]: 100%|██████████| 86/86 [00:47<00:00,  1.79it/s]\n",
      "Epoch 13/35 [Val]: 100%|██████████| 11/11 [00:04<00:00,  2.68it/s]\n"
     ]
    },
    {
     "name": "stdout",
     "output_type": "stream",
     "text": [
      "Epoch 13/35: Train Loss=0.6389, Train Acc=0.7821, Val Loss=1.0874, Val Acc=0.6613\n"
     ]
    },
    {
     "name": "stderr",
     "output_type": "stream",
     "text": [
      "Epoch 14/35 [Train]: 100%|██████████| 86/86 [00:47<00:00,  1.79it/s]\n",
      "Epoch 14/35 [Val]: 100%|██████████| 11/11 [00:04<00:00,  2.59it/s]\n"
     ]
    },
    {
     "name": "stdout",
     "output_type": "stream",
     "text": [
      "Epoch 14/35: Train Loss=0.5599, Train Acc=0.8109, Val Loss=1.0789, Val Acc=0.6657\n"
     ]
    },
    {
     "name": "stderr",
     "output_type": "stream",
     "text": [
      "Epoch 15/35 [Train]: 100%|██████████| 86/86 [00:47<00:00,  1.79it/s]\n",
      "Epoch 15/35 [Val]: 100%|██████████| 11/11 [00:04<00:00,  2.64it/s]\n"
     ]
    },
    {
     "name": "stdout",
     "output_type": "stream",
     "text": [
      "Epoch 15/35: Train Loss=0.4905, Train Acc=0.8337, Val Loss=1.1113, Val Acc=0.6657\n"
     ]
    },
    {
     "name": "stderr",
     "output_type": "stream",
     "text": [
      "Epoch 16/35 [Train]: 100%|██████████| 86/86 [00:48<00:00,  1.78it/s]\n",
      "Epoch 16/35 [Val]: 100%|██████████| 11/11 [00:04<00:00,  2.62it/s]\n"
     ]
    },
    {
     "name": "stdout",
     "output_type": "stream",
     "text": [
      "Epoch 16/35: Train Loss=0.4240, Train Acc=0.8594, Val Loss=1.1875, Val Acc=0.6745\n"
     ]
    },
    {
     "name": "stderr",
     "output_type": "stream",
     "text": [
      "Epoch 17/35 [Train]: 100%|██████████| 86/86 [00:48<00:00,  1.77it/s]\n",
      "Epoch 17/35 [Val]: 100%|██████████| 11/11 [00:04<00:00,  2.67it/s]\n"
     ]
    },
    {
     "name": "stdout",
     "output_type": "stream",
     "text": [
      "Epoch 17/35: Train Loss=0.3419, Train Acc=0.8849, Val Loss=1.2776, Val Acc=0.6935\n",
      "Best model saved in d:\\Uni\\Master\\1 Bimestre\\Foundations\\Assignments\\Weather-Clasification\\models\\best_model_CNN_V2.pth (val_acc=0.6935)\n"
     ]
    },
    {
     "name": "stderr",
     "output_type": "stream",
     "text": [
      "Epoch 18/35 [Train]: 100%|██████████| 86/86 [00:48<00:00,  1.77it/s]\n",
      "Epoch 18/35 [Val]: 100%|██████████| 11/11 [00:04<00:00,  2.65it/s]\n"
     ]
    },
    {
     "name": "stdout",
     "output_type": "stream",
     "text": [
      "Epoch 18/35: Train Loss=0.2850, Train Acc=0.9032, Val Loss=1.4855, Val Acc=0.6789\n"
     ]
    },
    {
     "name": "stderr",
     "output_type": "stream",
     "text": [
      "Epoch 19/35 [Train]: 100%|██████████| 86/86 [00:47<00:00,  1.80it/s]\n",
      "Epoch 19/35 [Val]: 100%|██████████| 11/11 [00:04<00:00,  2.64it/s]\n"
     ]
    },
    {
     "name": "stdout",
     "output_type": "stream",
     "text": [
      "Epoch 19/35: Train Loss=0.1933, Train Acc=0.9354, Val Loss=1.4272, Val Acc=0.6833\n"
     ]
    },
    {
     "name": "stderr",
     "output_type": "stream",
     "text": [
      "Epoch 20/35 [Train]: 100%|██████████| 86/86 [00:47<00:00,  1.80it/s]\n",
      "Epoch 20/35 [Val]: 100%|██████████| 11/11 [00:04<00:00,  2.67it/s]\n"
     ]
    },
    {
     "name": "stdout",
     "output_type": "stream",
     "text": [
      "Epoch 20/35: Train Loss=0.2020, Train Acc=0.9336, Val Loss=1.6349, Val Acc=0.6789\n"
     ]
    },
    {
     "name": "stderr",
     "output_type": "stream",
     "text": [
      "Epoch 21/35 [Train]: 100%|██████████| 86/86 [00:48<00:00,  1.77it/s]\n",
      "Epoch 21/35 [Val]: 100%|██████████| 11/11 [00:04<00:00,  2.66it/s]\n"
     ]
    },
    {
     "name": "stdout",
     "output_type": "stream",
     "text": [
      "Epoch 21/35: Train Loss=0.1555, Train Acc=0.9484, Val Loss=2.1056, Val Acc=0.6701\n"
     ]
    },
    {
     "name": "stderr",
     "output_type": "stream",
     "text": [
      "Epoch 22/35 [Train]: 100%|██████████| 86/86 [00:47<00:00,  1.80it/s]\n",
      "Epoch 22/35 [Val]: 100%|██████████| 11/11 [00:04<00:00,  2.69it/s]\n"
     ]
    },
    {
     "name": "stdout",
     "output_type": "stream",
     "text": [
      "Epoch 22/35: Train Loss=0.1661, Train Acc=0.9515, Val Loss=2.1148, Val Acc=0.6701\n"
     ]
    },
    {
     "name": "stderr",
     "output_type": "stream",
     "text": [
      "Epoch 23/35 [Train]: 100%|██████████| 86/86 [00:48<00:00,  1.78it/s]\n",
      "Epoch 23/35 [Val]: 100%|██████████| 11/11 [00:04<00:00,  2.43it/s]\n"
     ]
    },
    {
     "name": "stdout",
     "output_type": "stream",
     "text": [
      "Epoch 23/35: Train Loss=0.1399, Train Acc=0.9522, Val Loss=1.9713, Val Acc=0.6921\n"
     ]
    },
    {
     "name": "stderr",
     "output_type": "stream",
     "text": [
      "Epoch 24/35 [Train]: 100%|██████████| 86/86 [00:48<00:00,  1.78it/s]\n",
      "Epoch 24/35 [Val]: 100%|██████████| 11/11 [00:04<00:00,  2.64it/s]\n"
     ]
    },
    {
     "name": "stdout",
     "output_type": "stream",
     "text": [
      "Epoch 24/35: Train Loss=0.1073, Train Acc=0.9652, Val Loss=2.1218, Val Acc=0.6730\n"
     ]
    },
    {
     "name": "stderr",
     "output_type": "stream",
     "text": [
      "Epoch 25/35 [Train]: 100%|██████████| 86/86 [00:48<00:00,  1.78it/s]\n",
      "Epoch 25/35 [Val]: 100%|██████████| 11/11 [00:04<00:00,  2.63it/s]\n"
     ]
    },
    {
     "name": "stdout",
     "output_type": "stream",
     "text": [
      "Epoch 25/35: Train Loss=0.1040, Train Acc=0.9683, Val Loss=1.8848, Val Acc=0.6950\n",
      "Best model saved in d:\\Uni\\Master\\1 Bimestre\\Foundations\\Assignments\\Weather-Clasification\\models\\best_model_CNN_V2.pth (val_acc=0.6950)\n"
     ]
    },
    {
     "name": "stderr",
     "output_type": "stream",
     "text": [
      "Epoch 26/35 [Train]: 100%|██████████| 86/86 [00:48<00:00,  1.78it/s]\n",
      "Epoch 26/35 [Val]: 100%|██████████| 11/11 [00:04<00:00,  2.62it/s]\n"
     ]
    },
    {
     "name": "stdout",
     "output_type": "stream",
     "text": [
      "Epoch 26/35: Train Loss=0.0994, Train Acc=0.9703, Val Loss=2.0954, Val Acc=0.6774\n"
     ]
    },
    {
     "name": "stderr",
     "output_type": "stream",
     "text": [
      "Epoch 27/35 [Train]: 100%|██████████| 86/86 [00:48<00:00,  1.78it/s]\n",
      "Epoch 27/35 [Val]: 100%|██████████| 11/11 [00:04<00:00,  2.62it/s]\n"
     ]
    },
    {
     "name": "stdout",
     "output_type": "stream",
     "text": [
      "Epoch 27/35: Train Loss=0.0974, Train Acc=0.9699, Val Loss=2.1648, Val Acc=0.6730\n"
     ]
    },
    {
     "name": "stderr",
     "output_type": "stream",
     "text": [
      "Epoch 28/35 [Train]: 100%|██████████| 86/86 [00:48<00:00,  1.79it/s]\n",
      "Epoch 28/35 [Val]: 100%|██████████| 11/11 [00:04<00:00,  2.67it/s]\n"
     ]
    },
    {
     "name": "stdout",
     "output_type": "stream",
     "text": [
      "Epoch 28/35: Train Loss=0.0842, Train Acc=0.9701, Val Loss=2.2610, Val Acc=0.7009\n",
      "Best model saved in d:\\Uni\\Master\\1 Bimestre\\Foundations\\Assignments\\Weather-Clasification\\models\\best_model_CNN_V2.pth (val_acc=0.7009)\n"
     ]
    },
    {
     "name": "stderr",
     "output_type": "stream",
     "text": [
      "Epoch 29/35 [Train]: 100%|██████████| 86/86 [00:48<00:00,  1.79it/s]\n",
      "Epoch 29/35 [Val]: 100%|██████████| 11/11 [00:04<00:00,  2.68it/s]\n"
     ]
    },
    {
     "name": "stdout",
     "output_type": "stream",
     "text": [
      "Epoch 29/35: Train Loss=0.0926, Train Acc=0.9716, Val Loss=2.3093, Val Acc=0.6686\n"
     ]
    },
    {
     "name": "stderr",
     "output_type": "stream",
     "text": [
      "Epoch 30/35 [Train]: 100%|██████████| 86/86 [00:47<00:00,  1.80it/s]\n",
      "Epoch 30/35 [Val]: 100%|██████████| 11/11 [00:04<00:00,  2.70it/s]\n"
     ]
    },
    {
     "name": "stdout",
     "output_type": "stream",
     "text": [
      "Epoch 30/35: Train Loss=0.0703, Train Acc=0.9801, Val Loss=2.4484, Val Acc=0.6760\n"
     ]
    },
    {
     "name": "stderr",
     "output_type": "stream",
     "text": [
      "Epoch 31/35 [Train]: 100%|██████████| 86/86 [00:47<00:00,  1.80it/s]\n",
      "Epoch 31/35 [Val]: 100%|██████████| 11/11 [00:04<00:00,  2.66it/s]\n"
     ]
    },
    {
     "name": "stdout",
     "output_type": "stream",
     "text": [
      "Epoch 31/35: Train Loss=0.0472, Train Acc=0.9869, Val Loss=2.5418, Val Acc=0.6774\n"
     ]
    },
    {
     "name": "stderr",
     "output_type": "stream",
     "text": [
      "Epoch 32/35 [Train]: 100%|██████████| 86/86 [00:50<00:00,  1.69it/s]\n",
      "Epoch 32/35 [Val]: 100%|██████████| 11/11 [00:04<00:00,  2.62it/s]\n"
     ]
    },
    {
     "name": "stdout",
     "output_type": "stream",
     "text": [
      "Epoch 32/35: Train Loss=0.0471, Train Acc=0.9863, Val Loss=2.6761, Val Acc=0.6657\n"
     ]
    },
    {
     "name": "stderr",
     "output_type": "stream",
     "text": [
      "Epoch 33/35 [Train]: 100%|██████████| 86/86 [00:48<00:00,  1.77it/s]\n",
      "Epoch 33/35 [Val]: 100%|██████████| 11/11 [00:04<00:00,  2.67it/s]\n"
     ]
    },
    {
     "name": "stdout",
     "output_type": "stream",
     "text": [
      "Epoch 33/35: Train Loss=0.0589, Train Acc=0.9834, Val Loss=2.4584, Val Acc=0.6818\n"
     ]
    },
    {
     "name": "stderr",
     "output_type": "stream",
     "text": [
      "Epoch 34/35 [Train]: 100%|██████████| 86/86 [00:48<00:00,  1.78it/s]\n",
      "Epoch 34/35 [Val]: 100%|██████████| 11/11 [00:04<00:00,  2.64it/s]\n"
     ]
    },
    {
     "name": "stdout",
     "output_type": "stream",
     "text": [
      "Epoch 34/35: Train Loss=0.0337, Train Acc=0.9894, Val Loss=2.7902, Val Acc=0.6716\n"
     ]
    },
    {
     "name": "stderr",
     "output_type": "stream",
     "text": [
      "Epoch 35/35 [Train]: 100%|██████████| 86/86 [00:48<00:00,  1.78it/s]\n",
      "Epoch 35/35 [Val]: 100%|██████████| 11/11 [00:04<00:00,  2.66it/s]"
     ]
    },
    {
     "name": "stdout",
     "output_type": "stream",
     "text": [
      "Epoch 35/35: Train Loss=0.0405, Train Acc=0.9871, Val Loss=2.4561, Val Acc=0.6891\n",
      "Training complete. Best val_acc=0.7009\n",
      "MMetrics saved in d:\\Uni\\Master\\1 Bimestre\\Foundations\\Assignments\\Weather-Clasification\\reports\\metrics\\metrics_CNN_V2.pkl\n"
     ]
    },
    {
     "name": "stderr",
     "output_type": "stream",
     "text": [
      "\n"
     ]
    }
   ],
   "source": [
    "input_dim = 128*128*3  # matches the Resize transform\n",
    "model = train_model(CNN_V2, \n",
    "                    train_dir=\"../../data/train\", \n",
    "                    val_dir=\"../../data/val\", \n",
    "                    input_dim=input_dim,\n",
    "                    num_classes=11,\n",
    "                    batch_size=64,\n",
    "                    epochs=35,\n",
    "                    lr=1e-3,\n",
    "                    device=\"cuda\" if torch.cuda.is_available() else \"cpu\")"
   ]
  },
  {
   "cell_type": "code",
   "execution_count": 7,
   "id": "047debac",
   "metadata": {},
   "outputs": [
    {
     "name": "stderr",
     "output_type": "stream",
     "text": [
      "Epoch 1/35 [Train]: 100%|██████████| 86/86 [00:49<00:00,  1.75it/s]\n",
      "Epoch 1/35 [Val]: 100%|██████████| 11/11 [00:04<00:00,  2.63it/s]\n"
     ]
    },
    {
     "name": "stdout",
     "output_type": "stream",
     "text": [
      "Epoch 1/35: Train Loss=2.3530, Train Acc=0.1616, Val Loss=2.3426, Val Acc=0.1701\n",
      "Best model saved in d:\\Uni\\Master\\1 Bimestre\\Foundations\\Assignments\\Weather-Clasification\\models\\best_model_CNN_V2_reg.pth (val_acc=0.1701)\n"
     ]
    },
    {
     "name": "stderr",
     "output_type": "stream",
     "text": [
      "Epoch 2/35 [Train]: 100%|██████████| 86/86 [00:48<00:00,  1.77it/s]\n",
      "Epoch 2/35 [Val]: 100%|██████████| 11/11 [00:04<00:00,  2.70it/s]\n"
     ]
    },
    {
     "name": "stdout",
     "output_type": "stream",
     "text": [
      "Epoch 2/35: Train Loss=2.1309, Train Acc=0.2484, Val Loss=2.1713, Val Acc=0.3255\n",
      "Best model saved in d:\\Uni\\Master\\1 Bimestre\\Foundations\\Assignments\\Weather-Clasification\\models\\best_model_CNN_V2_reg.pth (val_acc=0.3255)\n"
     ]
    },
    {
     "name": "stderr",
     "output_type": "stream",
     "text": [
      "Epoch 3/35 [Train]: 100%|██████████| 86/86 [00:48<00:00,  1.76it/s]\n",
      "Epoch 3/35 [Val]: 100%|██████████| 11/11 [00:04<00:00,  2.58it/s]\n"
     ]
    },
    {
     "name": "stdout",
     "output_type": "stream",
     "text": [
      "Epoch 3/35: Train Loss=1.8668, Train Acc=0.3714, Val Loss=2.0444, Val Acc=0.4311\n",
      "Best model saved in d:\\Uni\\Master\\1 Bimestre\\Foundations\\Assignments\\Weather-Clasification\\models\\best_model_CNN_V2_reg.pth (val_acc=0.4311)\n"
     ]
    },
    {
     "name": "stderr",
     "output_type": "stream",
     "text": [
      "Epoch 4/35 [Train]: 100%|██████████| 86/86 [00:48<00:00,  1.77it/s]\n",
      "Epoch 4/35 [Val]: 100%|██████████| 11/11 [00:04<00:00,  2.74it/s]\n"
     ]
    },
    {
     "name": "stdout",
     "output_type": "stream",
     "text": [
      "Epoch 4/35: Train Loss=1.7010, Train Acc=0.4387, Val Loss=1.8472, Val Acc=0.4897\n",
      "Best model saved in d:\\Uni\\Master\\1 Bimestre\\Foundations\\Assignments\\Weather-Clasification\\models\\best_model_CNN_V2_reg.pth (val_acc=0.4897)\n"
     ]
    },
    {
     "name": "stderr",
     "output_type": "stream",
     "text": [
      "Epoch 5/35 [Train]: 100%|██████████| 86/86 [00:48<00:00,  1.77it/s]\n",
      "Epoch 5/35 [Val]: 100%|██████████| 11/11 [00:04<00:00,  2.64it/s]\n"
     ]
    },
    {
     "name": "stdout",
     "output_type": "stream",
     "text": [
      "Epoch 5/35: Train Loss=1.5347, Train Acc=0.4900, Val Loss=1.7141, Val Acc=0.4883\n"
     ]
    },
    {
     "name": "stderr",
     "output_type": "stream",
     "text": [
      "Epoch 6/35 [Train]: 100%|██████████| 86/86 [00:48<00:00,  1.76it/s]\n",
      "Epoch 6/35 [Val]: 100%|██████████| 11/11 [00:04<00:00,  2.69it/s]\n"
     ]
    },
    {
     "name": "stdout",
     "output_type": "stream",
     "text": [
      "Epoch 6/35: Train Loss=1.4200, Train Acc=0.5201, Val Loss=1.6716, Val Acc=0.5279\n",
      "Best model saved in d:\\Uni\\Master\\1 Bimestre\\Foundations\\Assignments\\Weather-Clasification\\models\\best_model_CNN_V2_reg.pth (val_acc=0.5279)\n"
     ]
    },
    {
     "name": "stderr",
     "output_type": "stream",
     "text": [
      "Epoch 7/35 [Train]: 100%|██████████| 86/86 [00:48<00:00,  1.77it/s]\n",
      "Epoch 7/35 [Val]: 100%|██████████| 11/11 [00:04<00:00,  2.69it/s]\n"
     ]
    },
    {
     "name": "stdout",
     "output_type": "stream",
     "text": [
      "Epoch 7/35: Train Loss=1.3266, Train Acc=0.5525, Val Loss=1.6099, Val Acc=0.4941\n"
     ]
    },
    {
     "name": "stderr",
     "output_type": "stream",
     "text": [
      "Epoch 8/35 [Train]: 100%|██████████| 86/86 [00:48<00:00,  1.77it/s]\n",
      "Epoch 8/35 [Val]: 100%|██████████| 11/11 [00:04<00:00,  2.74it/s]\n"
     ]
    },
    {
     "name": "stdout",
     "output_type": "stream",
     "text": [
      "Epoch 8/35: Train Loss=1.2575, Train Acc=0.5731, Val Loss=1.5750, Val Acc=0.5088\n"
     ]
    },
    {
     "name": "stderr",
     "output_type": "stream",
     "text": [
      "Epoch 9/35 [Train]: 100%|██████████| 86/86 [00:50<00:00,  1.70it/s]\n",
      "Epoch 9/35 [Val]: 100%|██████████| 11/11 [00:04<00:00,  2.71it/s]\n"
     ]
    },
    {
     "name": "stdout",
     "output_type": "stream",
     "text": [
      "Epoch 9/35: Train Loss=1.1917, Train Acc=0.5968, Val Loss=1.6933, Val Acc=0.4912\n"
     ]
    },
    {
     "name": "stderr",
     "output_type": "stream",
     "text": [
      "Epoch 10/35 [Train]: 100%|██████████| 86/86 [00:48<00:00,  1.76it/s]\n",
      "Epoch 10/35 [Val]: 100%|██████████| 11/11 [00:03<00:00,  2.75it/s]\n"
     ]
    },
    {
     "name": "stdout",
     "output_type": "stream",
     "text": [
      "Epoch 10/35: Train Loss=1.1608, Train Acc=0.6127, Val Loss=1.4768, Val Acc=0.5396\n",
      "Best model saved in d:\\Uni\\Master\\1 Bimestre\\Foundations\\Assignments\\Weather-Clasification\\models\\best_model_CNN_V2_reg.pth (val_acc=0.5396)\n"
     ]
    },
    {
     "name": "stderr",
     "output_type": "stream",
     "text": [
      "Epoch 11/35 [Train]: 100%|██████████| 86/86 [00:49<00:00,  1.75it/s]\n",
      "Epoch 11/35 [Val]: 100%|██████████| 11/11 [00:04<00:00,  2.65it/s]\n"
     ]
    },
    {
     "name": "stdout",
     "output_type": "stream",
     "text": [
      "Epoch 11/35: Train Loss=1.1023, Train Acc=0.6302, Val Loss=1.3940, Val Acc=0.5630\n",
      "Best model saved in d:\\Uni\\Master\\1 Bimestre\\Foundations\\Assignments\\Weather-Clasification\\models\\best_model_CNN_V2_reg.pth (val_acc=0.5630)\n"
     ]
    },
    {
     "name": "stderr",
     "output_type": "stream",
     "text": [
      "Epoch 12/35 [Train]: 100%|██████████| 86/86 [00:48<00:00,  1.76it/s]\n",
      "Epoch 12/35 [Val]: 100%|██████████| 11/11 [00:03<00:00,  2.75it/s]\n"
     ]
    },
    {
     "name": "stdout",
     "output_type": "stream",
     "text": [
      "Epoch 12/35: Train Loss=1.0619, Train Acc=0.6411, Val Loss=1.4615, Val Acc=0.5484\n"
     ]
    },
    {
     "name": "stderr",
     "output_type": "stream",
     "text": [
      "Epoch 13/35 [Train]: 100%|██████████| 86/86 [00:48<00:00,  1.77it/s]\n",
      "Epoch 13/35 [Val]: 100%|██████████| 11/11 [00:03<00:00,  2.76it/s]\n"
     ]
    },
    {
     "name": "stdout",
     "output_type": "stream",
     "text": [
      "Epoch 13/35: Train Loss=1.0444, Train Acc=0.6577, Val Loss=1.3654, Val Acc=0.5792\n",
      "Best model saved in d:\\Uni\\Master\\1 Bimestre\\Foundations\\Assignments\\Weather-Clasification\\models\\best_model_CNN_V2_reg.pth (val_acc=0.5792)\n"
     ]
    },
    {
     "name": "stderr",
     "output_type": "stream",
     "text": [
      "Epoch 14/35 [Train]: 100%|██████████| 86/86 [00:48<00:00,  1.76it/s]\n",
      "Epoch 14/35 [Val]: 100%|██████████| 11/11 [00:04<00:00,  2.63it/s]\n"
     ]
    },
    {
     "name": "stdout",
     "output_type": "stream",
     "text": [
      "Epoch 14/35: Train Loss=0.9940, Train Acc=0.6765, Val Loss=1.3961, Val Acc=0.5630\n"
     ]
    },
    {
     "name": "stderr",
     "output_type": "stream",
     "text": [
      "Epoch 15/35 [Train]: 100%|██████████| 86/86 [00:48<00:00,  1.76it/s]\n",
      "Epoch 15/35 [Val]: 100%|██████████| 11/11 [00:04<00:00,  2.68it/s]\n"
     ]
    },
    {
     "name": "stdout",
     "output_type": "stream",
     "text": [
      "Epoch 15/35: Train Loss=0.9283, Train Acc=0.6937, Val Loss=1.4108, Val Acc=0.5352\n"
     ]
    },
    {
     "name": "stderr",
     "output_type": "stream",
     "text": [
      "Epoch 16/35 [Train]: 100%|██████████| 86/86 [00:49<00:00,  1.75it/s]\n",
      "Epoch 16/35 [Val]: 100%|██████████| 11/11 [00:03<00:00,  2.75it/s]\n"
     ]
    },
    {
     "name": "stdout",
     "output_type": "stream",
     "text": [
      "Epoch 16/35: Train Loss=0.9318, Train Acc=0.6904, Val Loss=1.3904, Val Acc=0.5455\n"
     ]
    },
    {
     "name": "stderr",
     "output_type": "stream",
     "text": [
      "Epoch 17/35 [Train]: 100%|██████████| 86/86 [00:48<00:00,  1.77it/s]\n",
      "Epoch 17/35 [Val]: 100%|██████████| 11/11 [00:04<00:00,  2.68it/s]\n"
     ]
    },
    {
     "name": "stdout",
     "output_type": "stream",
     "text": [
      "Epoch 17/35: Train Loss=0.9100, Train Acc=0.6942, Val Loss=1.4333, Val Acc=0.5264\n"
     ]
    },
    {
     "name": "stderr",
     "output_type": "stream",
     "text": [
      "Epoch 18/35 [Train]: 100%|██████████| 86/86 [00:52<00:00,  1.64it/s]\n",
      "Epoch 18/35 [Val]: 100%|██████████| 11/11 [00:04<00:00,  2.62it/s]\n"
     ]
    },
    {
     "name": "stdout",
     "output_type": "stream",
     "text": [
      "Epoch 18/35: Train Loss=0.8959, Train Acc=0.7073, Val Loss=1.2636, Val Acc=0.5792\n"
     ]
    },
    {
     "name": "stderr",
     "output_type": "stream",
     "text": [
      "Epoch 19/35 [Train]: 100%|██████████| 86/86 [00:49<00:00,  1.74it/s]\n",
      "Epoch 19/35 [Val]: 100%|██████████| 11/11 [00:04<00:00,  2.45it/s]\n"
     ]
    },
    {
     "name": "stdout",
     "output_type": "stream",
     "text": [
      "Epoch 19/35: Train Loss=0.8285, Train Acc=0.7265, Val Loss=1.3107, Val Acc=0.5748\n"
     ]
    },
    {
     "name": "stderr",
     "output_type": "stream",
     "text": [
      "Epoch 20/35 [Train]: 100%|██████████| 86/86 [00:49<00:00,  1.73it/s]\n",
      "Epoch 20/35 [Val]: 100%|██████████| 11/11 [00:04<00:00,  2.63it/s]\n"
     ]
    },
    {
     "name": "stdout",
     "output_type": "stream",
     "text": [
      "Epoch 20/35: Train Loss=0.8172, Train Acc=0.7263, Val Loss=1.1573, Val Acc=0.6334\n",
      "Best model saved in d:\\Uni\\Master\\1 Bimestre\\Foundations\\Assignments\\Weather-Clasification\\models\\best_model_CNN_V2_reg.pth (val_acc=0.6334)\n"
     ]
    },
    {
     "name": "stderr",
     "output_type": "stream",
     "text": [
      "Epoch 21/35 [Train]: 100%|██████████| 86/86 [00:49<00:00,  1.74it/s]\n",
      "Epoch 21/35 [Val]: 100%|██████████| 11/11 [00:04<00:00,  2.59it/s]\n"
     ]
    },
    {
     "name": "stdout",
     "output_type": "stream",
     "text": [
      "Epoch 21/35: Train Loss=0.7782, Train Acc=0.7471, Val Loss=1.2206, Val Acc=0.5850\n"
     ]
    },
    {
     "name": "stderr",
     "output_type": "stream",
     "text": [
      "Epoch 22/35 [Train]: 100%|██████████| 86/86 [00:49<00:00,  1.75it/s]\n",
      "Epoch 22/35 [Val]: 100%|██████████| 11/11 [00:04<00:00,  2.56it/s]\n"
     ]
    },
    {
     "name": "stdout",
     "output_type": "stream",
     "text": [
      "Epoch 22/35: Train Loss=0.7827, Train Acc=0.7391, Val Loss=1.2398, Val Acc=0.5792\n"
     ]
    },
    {
     "name": "stderr",
     "output_type": "stream",
     "text": [
      "Epoch 23/35 [Train]: 100%|██████████| 86/86 [00:49<00:00,  1.74it/s]\n",
      "Epoch 23/35 [Val]: 100%|██████████| 11/11 [00:04<00:00,  2.62it/s]\n"
     ]
    },
    {
     "name": "stdout",
     "output_type": "stream",
     "text": [
      "Epoch 23/35: Train Loss=0.7505, Train Acc=0.7553, Val Loss=1.1275, Val Acc=0.6349\n",
      "Best model saved in d:\\Uni\\Master\\1 Bimestre\\Foundations\\Assignments\\Weather-Clasification\\models\\best_model_CNN_V2_reg.pth (val_acc=0.6349)\n"
     ]
    },
    {
     "name": "stderr",
     "output_type": "stream",
     "text": [
      "Epoch 24/35 [Train]: 100%|██████████| 86/86 [00:49<00:00,  1.73it/s]\n",
      "Epoch 24/35 [Val]: 100%|██████████| 11/11 [00:04<00:00,  2.59it/s]\n"
     ]
    },
    {
     "name": "stdout",
     "output_type": "stream",
     "text": [
      "Epoch 24/35: Train Loss=0.6850, Train Acc=0.7784, Val Loss=1.1550, Val Acc=0.6349\n"
     ]
    },
    {
     "name": "stderr",
     "output_type": "stream",
     "text": [
      "Epoch 25/35 [Train]: 100%|██████████| 86/86 [00:49<00:00,  1.74it/s]\n",
      "Epoch 25/35 [Val]: 100%|██████████| 11/11 [00:04<00:00,  2.62it/s]\n"
     ]
    },
    {
     "name": "stdout",
     "output_type": "stream",
     "text": [
      "Epoch 25/35: Train Loss=0.7122, Train Acc=0.7639, Val Loss=1.1288, Val Acc=0.6129\n"
     ]
    },
    {
     "name": "stderr",
     "output_type": "stream",
     "text": [
      "Epoch 26/35 [Train]: 100%|██████████| 86/86 [00:49<00:00,  1.73it/s]\n",
      "Epoch 26/35 [Val]: 100%|██████████| 11/11 [00:04<00:00,  2.64it/s]\n"
     ]
    },
    {
     "name": "stdout",
     "output_type": "stream",
     "text": [
      "Epoch 26/35: Train Loss=0.6628, Train Acc=0.7830, Val Loss=1.1654, Val Acc=0.6129\n"
     ]
    },
    {
     "name": "stderr",
     "output_type": "stream",
     "text": [
      "Epoch 27/35 [Train]: 100%|██████████| 86/86 [00:49<00:00,  1.74it/s]\n",
      "Epoch 27/35 [Val]: 100%|██████████| 11/11 [00:04<00:00,  2.62it/s]\n"
     ]
    },
    {
     "name": "stdout",
     "output_type": "stream",
     "text": [
      "Epoch 27/35: Train Loss=0.6338, Train Acc=0.7863, Val Loss=1.1395, Val Acc=0.6026\n"
     ]
    },
    {
     "name": "stderr",
     "output_type": "stream",
     "text": [
      "Epoch 28/35 [Train]: 100%|██████████| 86/86 [00:49<00:00,  1.75it/s]\n",
      "Epoch 28/35 [Val]: 100%|██████████| 11/11 [00:04<00:00,  2.54it/s]\n"
     ]
    },
    {
     "name": "stdout",
     "output_type": "stream",
     "text": [
      "Epoch 28/35: Train Loss=0.6369, Train Acc=0.7888, Val Loss=1.2837, Val Acc=0.5499\n"
     ]
    },
    {
     "name": "stderr",
     "output_type": "stream",
     "text": [
      "Epoch 29/35 [Train]: 100%|██████████| 86/86 [00:49<00:00,  1.75it/s]\n",
      "Epoch 29/35 [Val]: 100%|██████████| 11/11 [00:04<00:00,  2.61it/s]\n"
     ]
    },
    {
     "name": "stdout",
     "output_type": "stream",
     "text": [
      "Epoch 29/35: Train Loss=0.6264, Train Acc=0.7945, Val Loss=1.2261, Val Acc=0.5894\n"
     ]
    },
    {
     "name": "stderr",
     "output_type": "stream",
     "text": [
      "Epoch 30/35 [Train]: 100%|██████████| 86/86 [00:50<00:00,  1.71it/s]\n",
      "Epoch 30/35 [Val]: 100%|██████████| 11/11 [00:04<00:00,  2.57it/s]\n"
     ]
    },
    {
     "name": "stdout",
     "output_type": "stream",
     "text": [
      "Epoch 30/35: Train Loss=0.5633, Train Acc=0.8169, Val Loss=1.1163, Val Acc=0.6276\n"
     ]
    },
    {
     "name": "stderr",
     "output_type": "stream",
     "text": [
      "Epoch 31/35 [Train]: 100%|██████████| 86/86 [00:51<00:00,  1.67it/s]\n",
      "Epoch 31/35 [Val]: 100%|██████████| 11/11 [00:04<00:00,  2.57it/s]\n"
     ]
    },
    {
     "name": "stdout",
     "output_type": "stream",
     "text": [
      "Epoch 31/35: Train Loss=0.6189, Train Acc=0.7947, Val Loss=1.3693, Val Acc=0.5396\n"
     ]
    },
    {
     "name": "stderr",
     "output_type": "stream",
     "text": [
      "Epoch 32/35 [Train]: 100%|██████████| 86/86 [00:49<00:00,  1.73it/s]\n",
      "Epoch 32/35 [Val]: 100%|██████████| 11/11 [00:04<00:00,  2.62it/s]\n"
     ]
    },
    {
     "name": "stdout",
     "output_type": "stream",
     "text": [
      "Epoch 32/35: Train Loss=0.5741, Train Acc=0.8144, Val Loss=1.0645, Val Acc=0.6261\n"
     ]
    },
    {
     "name": "stderr",
     "output_type": "stream",
     "text": [
      "Epoch 33/35 [Train]: 100%|██████████| 86/86 [00:49<00:00,  1.72it/s]\n",
      "Epoch 33/35 [Val]: 100%|██████████| 11/11 [00:04<00:00,  2.60it/s]\n"
     ]
    },
    {
     "name": "stdout",
     "output_type": "stream",
     "text": [
      "Epoch 33/35: Train Loss=0.5567, Train Acc=0.8153, Val Loss=1.0610, Val Acc=0.6584\n",
      "Best model saved in d:\\Uni\\Master\\1 Bimestre\\Foundations\\Assignments\\Weather-Clasification\\models\\best_model_CNN_V2_reg.pth (val_acc=0.6584)\n"
     ]
    },
    {
     "name": "stderr",
     "output_type": "stream",
     "text": [
      "Epoch 34/35 [Train]: 100%|██████████| 86/86 [00:49<00:00,  1.73it/s]\n",
      "Epoch 34/35 [Val]: 100%|██████████| 11/11 [00:04<00:00,  2.64it/s]\n"
     ]
    },
    {
     "name": "stdout",
     "output_type": "stream",
     "text": [
      "Epoch 34/35: Train Loss=0.5465, Train Acc=0.8226, Val Loss=1.1847, Val Acc=0.6144\n"
     ]
    },
    {
     "name": "stderr",
     "output_type": "stream",
     "text": [
      "Epoch 35/35 [Train]: 100%|██████████| 86/86 [00:49<00:00,  1.74it/s]\n",
      "Epoch 35/35 [Val]: 100%|██████████| 11/11 [00:04<00:00,  2.58it/s]"
     ]
    },
    {
     "name": "stdout",
     "output_type": "stream",
     "text": [
      "Epoch 35/35: Train Loss=0.5398, Train Acc=0.8242, Val Loss=1.1918, Val Acc=0.5938\n",
      "Training complete. Best val_acc=0.6584\n",
      "MMetrics saved in d:\\Uni\\Master\\1 Bimestre\\Foundations\\Assignments\\Weather-Clasification\\reports\\metrics\\metrics_CNN_V2_reg.pkl\n"
     ]
    },
    {
     "name": "stderr",
     "output_type": "stream",
     "text": [
      "\n"
     ]
    }
   ],
   "source": [
    "input_dim = 128*128*3  # matches the Resize transform\n",
    "model = train_model(CNN_V2_reg, \n",
    "                    train_dir=\"../../data/train\", \n",
    "                    val_dir=\"../../data/val\", \n",
    "                    input_dim=input_dim,\n",
    "                    num_classes=11,\n",
    "                    batch_size=64,\n",
    "                    epochs=35,\n",
    "                    lr=1e-3,\n",
    "                    device=\"cuda\" if torch.cuda.is_available() else \"cpu\")"
   ]
  },
  {
   "cell_type": "code",
   "execution_count": 8,
   "id": "927fbfeb",
   "metadata": {},
   "outputs": [
    {
     "name": "stderr",
     "output_type": "stream",
     "text": [
      "Epoch 1/35 [Train]: 100%|██████████| 86/86 [00:36<00:00,  2.37it/s]\n",
      "Epoch 1/35 [Val]: 100%|██████████| 11/11 [00:04<00:00,  2.56it/s]\n"
     ]
    },
    {
     "name": "stdout",
     "output_type": "stream",
     "text": [
      "Epoch 1/35: Train Loss=2.1542, Train Acc=0.2345, Val Loss=1.8643, Val Acc=0.3783\n",
      "Best model saved in d:\\Uni\\Master\\1 Bimestre\\Foundations\\Assignments\\Weather-Clasification\\models\\best_model_CNN_V3.pth (val_acc=0.3783)\n"
     ]
    },
    {
     "name": "stderr",
     "output_type": "stream",
     "text": [
      "Epoch 2/35 [Train]: 100%|██████████| 86/86 [00:35<00:00,  2.42it/s]\n",
      "Epoch 2/35 [Val]: 100%|██████████| 11/11 [00:04<00:00,  2.61it/s]\n"
     ]
    },
    {
     "name": "stdout",
     "output_type": "stream",
     "text": [
      "Epoch 2/35: Train Loss=1.6828, Train Acc=0.4283, Val Loss=1.5215, Val Acc=0.4883\n",
      "Best model saved in d:\\Uni\\Master\\1 Bimestre\\Foundations\\Assignments\\Weather-Clasification\\models\\best_model_CNN_V3.pth (val_acc=0.4883)\n"
     ]
    },
    {
     "name": "stderr",
     "output_type": "stream",
     "text": [
      "Epoch 3/35 [Train]: 100%|██████████| 86/86 [00:35<00:00,  2.40it/s]\n",
      "Epoch 3/35 [Val]: 100%|██████████| 11/11 [00:04<00:00,  2.62it/s]\n"
     ]
    },
    {
     "name": "stdout",
     "output_type": "stream",
     "text": [
      "Epoch 3/35: Train Loss=1.4382, Train Acc=0.5075, Val Loss=1.4369, Val Acc=0.5103\n",
      "Best model saved in d:\\Uni\\Master\\1 Bimestre\\Foundations\\Assignments\\Weather-Clasification\\models\\best_model_CNN_V3.pth (val_acc=0.5103)\n"
     ]
    },
    {
     "name": "stderr",
     "output_type": "stream",
     "text": [
      "Epoch 4/35 [Train]: 100%|██████████| 86/86 [00:35<00:00,  2.43it/s]\n",
      "Epoch 4/35 [Val]: 100%|██████████| 11/11 [00:04<00:00,  2.69it/s]\n"
     ]
    },
    {
     "name": "stdout",
     "output_type": "stream",
     "text": [
      "Epoch 4/35: Train Loss=1.2441, Train Acc=0.5662, Val Loss=1.1844, Val Acc=0.5968\n",
      "Best model saved in d:\\Uni\\Master\\1 Bimestre\\Foundations\\Assignments\\Weather-Clasification\\models\\best_model_CNN_V3.pth (val_acc=0.5968)\n"
     ]
    },
    {
     "name": "stderr",
     "output_type": "stream",
     "text": [
      "Epoch 5/35 [Train]: 100%|██████████| 86/86 [00:34<00:00,  2.46it/s]\n",
      "Epoch 5/35 [Val]: 100%|██████████| 11/11 [00:04<00:00,  2.62it/s]\n"
     ]
    },
    {
     "name": "stdout",
     "output_type": "stream",
     "text": [
      "Epoch 5/35: Train Loss=1.1517, Train Acc=0.5974, Val Loss=1.1781, Val Acc=0.6085\n",
      "Best model saved in d:\\Uni\\Master\\1 Bimestre\\Foundations\\Assignments\\Weather-Clasification\\models\\best_model_CNN_V3.pth (val_acc=0.6085)\n"
     ]
    },
    {
     "name": "stderr",
     "output_type": "stream",
     "text": [
      "Epoch 6/35 [Train]: 100%|██████████| 86/86 [00:34<00:00,  2.50it/s]\n",
      "Epoch 6/35 [Val]: 100%|██████████| 11/11 [00:04<00:00,  2.69it/s]\n"
     ]
    },
    {
     "name": "stdout",
     "output_type": "stream",
     "text": [
      "Epoch 6/35: Train Loss=1.0707, Train Acc=0.6348, Val Loss=1.3070, Val Acc=0.5587\n"
     ]
    },
    {
     "name": "stderr",
     "output_type": "stream",
     "text": [
      "Epoch 7/35 [Train]: 100%|██████████| 86/86 [00:34<00:00,  2.50it/s]\n",
      "Epoch 7/35 [Val]: 100%|██████████| 11/11 [00:04<00:00,  2.64it/s]\n"
     ]
    },
    {
     "name": "stdout",
     "output_type": "stream",
     "text": [
      "Epoch 7/35: Train Loss=1.0501, Train Acc=0.6371, Val Loss=1.0590, Val Acc=0.6334\n",
      "Best model saved in d:\\Uni\\Master\\1 Bimestre\\Foundations\\Assignments\\Weather-Clasification\\models\\best_model_CNN_V3.pth (val_acc=0.6334)\n"
     ]
    },
    {
     "name": "stderr",
     "output_type": "stream",
     "text": [
      "Epoch 8/35 [Train]: 100%|██████████| 86/86 [00:54<00:00,  1.59it/s]\n",
      "Epoch 8/35 [Val]: 100%|██████████| 11/11 [00:06<00:00,  1.66it/s]\n"
     ]
    },
    {
     "name": "stdout",
     "output_type": "stream",
     "text": [
      "Epoch 8/35: Train Loss=0.9834, Train Acc=0.6625, Val Loss=1.1684, Val Acc=0.5997\n"
     ]
    },
    {
     "name": "stderr",
     "output_type": "stream",
     "text": [
      "Epoch 9/35 [Train]: 100%|██████████| 86/86 [00:36<00:00,  2.35it/s]\n",
      "Epoch 9/35 [Val]: 100%|██████████| 11/11 [00:04<00:00,  2.50it/s]\n"
     ]
    },
    {
     "name": "stdout",
     "output_type": "stream",
     "text": [
      "Epoch 9/35: Train Loss=0.9410, Train Acc=0.6751, Val Loss=1.0758, Val Acc=0.6408\n",
      "Best model saved in d:\\Uni\\Master\\1 Bimestre\\Foundations\\Assignments\\Weather-Clasification\\models\\best_model_CNN_V3.pth (val_acc=0.6408)\n"
     ]
    },
    {
     "name": "stderr",
     "output_type": "stream",
     "text": [
      "Epoch 10/35 [Train]: 100%|██████████| 86/86 [00:34<00:00,  2.48it/s]\n",
      "Epoch 10/35 [Val]: 100%|██████████| 11/11 [00:04<00:00,  2.70it/s]\n"
     ]
    },
    {
     "name": "stdout",
     "output_type": "stream",
     "text": [
      "Epoch 10/35: Train Loss=0.9041, Train Acc=0.6907, Val Loss=1.0485, Val Acc=0.6349\n"
     ]
    },
    {
     "name": "stderr",
     "output_type": "stream",
     "text": [
      "Epoch 11/35 [Train]: 100%|██████████| 86/86 [00:35<00:00,  2.42it/s]\n",
      "Epoch 11/35 [Val]: 100%|██████████| 11/11 [00:04<00:00,  2.69it/s]\n"
     ]
    },
    {
     "name": "stdout",
     "output_type": "stream",
     "text": [
      "Epoch 11/35: Train Loss=0.8429, Train Acc=0.7119, Val Loss=1.0047, Val Acc=0.6584\n",
      "Best model saved in d:\\Uni\\Master\\1 Bimestre\\Foundations\\Assignments\\Weather-Clasification\\models\\best_model_CNN_V3.pth (val_acc=0.6584)\n"
     ]
    },
    {
     "name": "stderr",
     "output_type": "stream",
     "text": [
      "Epoch 12/35 [Train]: 100%|██████████| 86/86 [00:35<00:00,  2.44it/s]\n",
      "Epoch 12/35 [Val]: 100%|██████████| 11/11 [00:04<00:00,  2.66it/s]\n"
     ]
    },
    {
     "name": "stdout",
     "output_type": "stream",
     "text": [
      "Epoch 12/35: Train Loss=0.8301, Train Acc=0.7141, Val Loss=1.0109, Val Acc=0.6628\n",
      "Best model saved in d:\\Uni\\Master\\1 Bimestre\\Foundations\\Assignments\\Weather-Clasification\\models\\best_model_CNN_V3.pth (val_acc=0.6628)\n"
     ]
    },
    {
     "name": "stderr",
     "output_type": "stream",
     "text": [
      "Epoch 13/35 [Train]: 100%|██████████| 86/86 [00:34<00:00,  2.49it/s]\n",
      "Epoch 13/35 [Val]: 100%|██████████| 11/11 [00:04<00:00,  2.65it/s]\n"
     ]
    },
    {
     "name": "stdout",
     "output_type": "stream",
     "text": [
      "Epoch 13/35: Train Loss=0.7834, Train Acc=0.7301, Val Loss=1.0184, Val Acc=0.6935\n",
      "Best model saved in d:\\Uni\\Master\\1 Bimestre\\Foundations\\Assignments\\Weather-Clasification\\models\\best_model_CNN_V3.pth (val_acc=0.6935)\n"
     ]
    },
    {
     "name": "stderr",
     "output_type": "stream",
     "text": [
      "Epoch 14/35 [Train]: 100%|██████████| 86/86 [00:34<00:00,  2.51it/s]\n",
      "Epoch 14/35 [Val]: 100%|██████████| 11/11 [00:04<00:00,  2.69it/s]\n"
     ]
    },
    {
     "name": "stdout",
     "output_type": "stream",
     "text": [
      "Epoch 14/35: Train Loss=0.7309, Train Acc=0.7429, Val Loss=0.9814, Val Acc=0.6760\n"
     ]
    },
    {
     "name": "stderr",
     "output_type": "stream",
     "text": [
      "Epoch 15/35 [Train]: 100%|██████████| 86/86 [00:33<00:00,  2.54it/s]\n",
      "Epoch 15/35 [Val]: 100%|██████████| 11/11 [00:04<00:00,  2.65it/s]\n"
     ]
    },
    {
     "name": "stdout",
     "output_type": "stream",
     "text": [
      "Epoch 15/35: Train Loss=0.6726, Train Acc=0.7701, Val Loss=0.9913, Val Acc=0.7009\n",
      "Best model saved in d:\\Uni\\Master\\1 Bimestre\\Foundations\\Assignments\\Weather-Clasification\\models\\best_model_CNN_V3.pth (val_acc=0.7009)\n"
     ]
    },
    {
     "name": "stderr",
     "output_type": "stream",
     "text": [
      "Epoch 16/35 [Train]: 100%|██████████| 86/86 [00:34<00:00,  2.47it/s]\n",
      "Epoch 16/35 [Val]: 100%|██████████| 11/11 [00:04<00:00,  2.60it/s]\n"
     ]
    },
    {
     "name": "stdout",
     "output_type": "stream",
     "text": [
      "Epoch 16/35: Train Loss=0.6568, Train Acc=0.7712, Val Loss=1.1076, Val Acc=0.6804\n"
     ]
    },
    {
     "name": "stderr",
     "output_type": "stream",
     "text": [
      "Epoch 17/35 [Train]: 100%|██████████| 86/86 [00:33<00:00,  2.53it/s]\n",
      "Epoch 17/35 [Val]: 100%|██████████| 11/11 [00:04<00:00,  2.70it/s]\n"
     ]
    },
    {
     "name": "stdout",
     "output_type": "stream",
     "text": [
      "Epoch 17/35: Train Loss=0.5838, Train Acc=0.7952, Val Loss=1.0748, Val Acc=0.6979\n"
     ]
    },
    {
     "name": "stderr",
     "output_type": "stream",
     "text": [
      "Epoch 18/35 [Train]: 100%|██████████| 86/86 [00:34<00:00,  2.52it/s]\n",
      "Epoch 18/35 [Val]: 100%|██████████| 11/11 [00:04<00:00,  2.72it/s]\n"
     ]
    },
    {
     "name": "stdout",
     "output_type": "stream",
     "text": [
      "Epoch 18/35: Train Loss=0.5353, Train Acc=0.8178, Val Loss=1.0630, Val Acc=0.6994\n"
     ]
    },
    {
     "name": "stderr",
     "output_type": "stream",
     "text": [
      "Epoch 19/35 [Train]: 100%|██████████| 86/86 [00:33<00:00,  2.53it/s]\n",
      "Epoch 19/35 [Val]: 100%|██████████| 11/11 [00:04<00:00,  2.58it/s]\n"
     ]
    },
    {
     "name": "stdout",
     "output_type": "stream",
     "text": [
      "Epoch 19/35: Train Loss=0.5349, Train Acc=0.8155, Val Loss=1.1566, Val Acc=0.6906\n"
     ]
    },
    {
     "name": "stderr",
     "output_type": "stream",
     "text": [
      "Epoch 20/35 [Train]: 100%|██████████| 86/86 [00:34<00:00,  2.51it/s]\n",
      "Epoch 20/35 [Val]: 100%|██████████| 11/11 [00:04<00:00,  2.37it/s]\n"
     ]
    },
    {
     "name": "stdout",
     "output_type": "stream",
     "text": [
      "Epoch 20/35: Train Loss=0.4599, Train Acc=0.8404, Val Loss=1.2494, Val Acc=0.6965\n"
     ]
    },
    {
     "name": "stderr",
     "output_type": "stream",
     "text": [
      "Epoch 21/35 [Train]: 100%|██████████| 86/86 [00:34<00:00,  2.50it/s]\n",
      "Epoch 21/35 [Val]: 100%|██████████| 11/11 [00:04<00:00,  2.70it/s]\n"
     ]
    },
    {
     "name": "stdout",
     "output_type": "stream",
     "text": [
      "Epoch 21/35: Train Loss=0.4265, Train Acc=0.8512, Val Loss=1.2563, Val Acc=0.6686\n"
     ]
    },
    {
     "name": "stderr",
     "output_type": "stream",
     "text": [
      "Epoch 22/35 [Train]: 100%|██████████| 86/86 [00:34<00:00,  2.51it/s]\n",
      "Epoch 22/35 [Val]: 100%|██████████| 11/11 [00:04<00:00,  2.62it/s]\n"
     ]
    },
    {
     "name": "stdout",
     "output_type": "stream",
     "text": [
      "Epoch 22/35: Train Loss=0.4083, Train Acc=0.8583, Val Loss=1.1311, Val Acc=0.7067\n",
      "Best model saved in d:\\Uni\\Master\\1 Bimestre\\Foundations\\Assignments\\Weather-Clasification\\models\\best_model_CNN_V3.pth (val_acc=0.7067)\n"
     ]
    },
    {
     "name": "stderr",
     "output_type": "stream",
     "text": [
      "Epoch 23/35 [Train]: 100%|██████████| 86/86 [00:34<00:00,  2.52it/s]\n",
      "Epoch 23/35 [Val]: 100%|██████████| 11/11 [00:04<00:00,  2.54it/s]\n"
     ]
    },
    {
     "name": "stdout",
     "output_type": "stream",
     "text": [
      "Epoch 23/35: Train Loss=0.3658, Train Acc=0.8755, Val Loss=1.1721, Val Acc=0.7111\n",
      "Best model saved in d:\\Uni\\Master\\1 Bimestre\\Foundations\\Assignments\\Weather-Clasification\\models\\best_model_CNN_V3.pth (val_acc=0.7111)\n"
     ]
    },
    {
     "name": "stderr",
     "output_type": "stream",
     "text": [
      "Epoch 24/35 [Train]: 100%|██████████| 86/86 [00:34<00:00,  2.52it/s]\n",
      "Epoch 24/35 [Val]: 100%|██████████| 11/11 [00:04<00:00,  2.65it/s]\n"
     ]
    },
    {
     "name": "stdout",
     "output_type": "stream",
     "text": [
      "Epoch 24/35: Train Loss=0.3133, Train Acc=0.8902, Val Loss=1.4597, Val Acc=0.7009\n"
     ]
    },
    {
     "name": "stderr",
     "output_type": "stream",
     "text": [
      "Epoch 25/35 [Train]: 100%|██████████| 86/86 [00:34<00:00,  2.47it/s]\n",
      "Epoch 25/35 [Val]: 100%|██████████| 11/11 [00:04<00:00,  2.45it/s]\n"
     ]
    },
    {
     "name": "stdout",
     "output_type": "stream",
     "text": [
      "Epoch 25/35: Train Loss=0.2767, Train Acc=0.9085, Val Loss=1.5022, Val Acc=0.6789\n"
     ]
    },
    {
     "name": "stderr",
     "output_type": "stream",
     "text": [
      "Epoch 26/35 [Train]: 100%|██████████| 86/86 [00:34<00:00,  2.52it/s]\n",
      "Epoch 26/35 [Val]: 100%|██████████| 11/11 [00:04<00:00,  2.59it/s]\n"
     ]
    },
    {
     "name": "stdout",
     "output_type": "stream",
     "text": [
      "Epoch 26/35: Train Loss=0.2207, Train Acc=0.9223, Val Loss=1.6462, Val Acc=0.7097\n"
     ]
    },
    {
     "name": "stderr",
     "output_type": "stream",
     "text": [
      "Epoch 27/35 [Train]: 100%|██████████| 86/86 [00:34<00:00,  2.52it/s]\n",
      "Epoch 27/35 [Val]: 100%|██████████| 11/11 [00:04<00:00,  2.62it/s]\n"
     ]
    },
    {
     "name": "stdout",
     "output_type": "stream",
     "text": [
      "Epoch 27/35: Train Loss=0.2003, Train Acc=0.9333, Val Loss=1.8906, Val Acc=0.6833\n"
     ]
    },
    {
     "name": "stderr",
     "output_type": "stream",
     "text": [
      "Epoch 28/35 [Train]: 100%|██████████| 86/86 [00:34<00:00,  2.46it/s]\n",
      "Epoch 28/35 [Val]: 100%|██████████| 11/11 [00:04<00:00,  2.58it/s]\n"
     ]
    },
    {
     "name": "stdout",
     "output_type": "stream",
     "text": [
      "Epoch 28/35: Train Loss=0.2121, Train Acc=0.9276, Val Loss=1.7434, Val Acc=0.6950\n"
     ]
    },
    {
     "name": "stderr",
     "output_type": "stream",
     "text": [
      "Epoch 29/35 [Train]: 100%|██████████| 86/86 [00:34<00:00,  2.52it/s]\n",
      "Epoch 29/35 [Val]: 100%|██████████| 11/11 [00:04<00:00,  2.69it/s]\n"
     ]
    },
    {
     "name": "stdout",
     "output_type": "stream",
     "text": [
      "Epoch 29/35: Train Loss=0.2101, Train Acc=0.9320, Val Loss=1.9582, Val Acc=0.7053\n"
     ]
    },
    {
     "name": "stderr",
     "output_type": "stream",
     "text": [
      "Epoch 30/35 [Train]: 100%|██████████| 86/86 [00:34<00:00,  2.53it/s]\n",
      "Epoch 30/35 [Val]: 100%|██████████| 11/11 [00:04<00:00,  2.63it/s]\n"
     ]
    },
    {
     "name": "stdout",
     "output_type": "stream",
     "text": [
      "Epoch 30/35: Train Loss=0.1387, Train Acc=0.9542, Val Loss=1.8908, Val Acc=0.6789\n"
     ]
    },
    {
     "name": "stderr",
     "output_type": "stream",
     "text": [
      "Epoch 31/35 [Train]: 100%|██████████| 86/86 [00:34<00:00,  2.51it/s]\n",
      "Epoch 31/35 [Val]: 100%|██████████| 11/11 [00:04<00:00,  2.73it/s]\n"
     ]
    },
    {
     "name": "stdout",
     "output_type": "stream",
     "text": [
      "Epoch 31/35: Train Loss=0.1490, Train Acc=0.9506, Val Loss=1.9410, Val Acc=0.6760\n"
     ]
    },
    {
     "name": "stderr",
     "output_type": "stream",
     "text": [
      "Epoch 32/35 [Train]: 100%|██████████| 86/86 [00:33<00:00,  2.55it/s]\n",
      "Epoch 32/35 [Val]: 100%|██████████| 11/11 [00:04<00:00,  2.63it/s]\n"
     ]
    },
    {
     "name": "stdout",
     "output_type": "stream",
     "text": [
      "Epoch 32/35: Train Loss=0.0944, Train Acc=0.9701, Val Loss=2.2191, Val Acc=0.6848\n"
     ]
    },
    {
     "name": "stderr",
     "output_type": "stream",
     "text": [
      "Epoch 33/35 [Train]: 100%|██████████| 86/86 [00:34<00:00,  2.50it/s]\n",
      "Epoch 33/35 [Val]: 100%|██████████| 11/11 [00:04<00:00,  2.72it/s]\n"
     ]
    },
    {
     "name": "stdout",
     "output_type": "stream",
     "text": [
      "Epoch 33/35: Train Loss=0.1312, Train Acc=0.9577, Val Loss=1.9270, Val Acc=0.7243\n",
      "Best model saved in d:\\Uni\\Master\\1 Bimestre\\Foundations\\Assignments\\Weather-Clasification\\models\\best_model_CNN_V3.pth (val_acc=0.7243)\n"
     ]
    },
    {
     "name": "stderr",
     "output_type": "stream",
     "text": [
      "Epoch 34/35 [Train]: 100%|██████████| 86/86 [00:34<00:00,  2.52it/s]\n",
      "Epoch 34/35 [Val]: 100%|██████████| 11/11 [00:04<00:00,  2.56it/s]\n"
     ]
    },
    {
     "name": "stdout",
     "output_type": "stream",
     "text": [
      "Epoch 34/35: Train Loss=0.0905, Train Acc=0.9717, Val Loss=2.2750, Val Acc=0.6950\n"
     ]
    },
    {
     "name": "stderr",
     "output_type": "stream",
     "text": [
      "Epoch 35/35 [Train]: 100%|██████████| 86/86 [00:34<00:00,  2.53it/s]\n",
      "Epoch 35/35 [Val]: 100%|██████████| 11/11 [00:04<00:00,  2.71it/s]"
     ]
    },
    {
     "name": "stdout",
     "output_type": "stream",
     "text": [
      "Epoch 35/35: Train Loss=0.1208, Train Acc=0.9566, Val Loss=2.3609, Val Acc=0.6774\n",
      "Training complete. Best val_acc=0.7243\n",
      "MMetrics saved in d:\\Uni\\Master\\1 Bimestre\\Foundations\\Assignments\\Weather-Clasification\\reports\\metrics\\metrics_CNN_V3.pkl\n"
     ]
    },
    {
     "name": "stderr",
     "output_type": "stream",
     "text": [
      "\n"
     ]
    }
   ],
   "source": [
    "input_dim = 224*224*3  # matches the Resize transform\n",
    "model = train_model(CNN_V3, \n",
    "                    train_dir=\"../../data/train\", \n",
    "                    val_dir=\"../../data/val\", \n",
    "                    input_dim=input_dim,\n",
    "                    num_classes=11,\n",
    "                    batch_size=64,\n",
    "                    epochs=35,\n",
    "                    lr=1e-3,\n",
    "                    device=\"cuda\" if torch.cuda.is_available() else \"cpu\")"
   ]
  },
  {
   "cell_type": "code",
   "execution_count": 3,
   "id": "17834fb8",
   "metadata": {},
   "outputs": [
    {
     "name": "stderr",
     "output_type": "stream",
     "text": [
      "Epoch 1/35 [Train]: 100%|██████████| 86/86 [00:39<00:00,  2.17it/s]\n",
      "Epoch 1/35 [Val]: 100%|██████████| 11/11 [00:04<00:00,  2.53it/s]\n"
     ]
    },
    {
     "name": "stdout",
     "output_type": "stream",
     "text": [
      "Epoch 1/35: Train Loss=2.1149, Train Acc=0.2394, Val Loss=2.1382, Val Acc=0.3416\n",
      "Best model saved in d:\\Uni\\Master\\1 Bimestre\\Foundations\\Assignments\\Weather-Clasification\\models\\best_model_CNN_V3_reg.pth (val_acc=0.3416)\n"
     ]
    },
    {
     "name": "stderr",
     "output_type": "stream",
     "text": [
      "Epoch 2/35 [Train]: 100%|██████████| 86/86 [00:38<00:00,  2.25it/s]\n",
      "Epoch 2/35 [Val]: 100%|██████████| 11/11 [00:04<00:00,  2.54it/s]\n"
     ]
    },
    {
     "name": "stdout",
     "output_type": "stream",
     "text": [
      "Epoch 2/35: Train Loss=1.8294, Train Acc=0.3707, Val Loss=1.9495, Val Acc=0.4648\n",
      "Best model saved in d:\\Uni\\Master\\1 Bimestre\\Foundations\\Assignments\\Weather-Clasification\\models\\best_model_CNN_V3_reg.pth (val_acc=0.4648)\n"
     ]
    },
    {
     "name": "stderr",
     "output_type": "stream",
     "text": [
      "Epoch 3/35 [Train]: 100%|██████████| 86/86 [00:38<00:00,  2.24it/s]\n",
      "Epoch 3/35 [Val]: 100%|██████████| 11/11 [00:04<00:00,  2.49it/s]\n"
     ]
    },
    {
     "name": "stdout",
     "output_type": "stream",
     "text": [
      "Epoch 3/35: Train Loss=1.4973, Train Acc=0.5160, Val Loss=1.7827, Val Acc=0.4472\n"
     ]
    },
    {
     "name": "stderr",
     "output_type": "stream",
     "text": [
      "Epoch 4/35 [Train]: 100%|██████████| 86/86 [00:38<00:00,  2.23it/s]\n",
      "Epoch 4/35 [Val]: 100%|██████████| 11/11 [00:04<00:00,  2.47it/s]\n"
     ]
    },
    {
     "name": "stdout",
     "output_type": "stream",
     "text": [
      "Epoch 4/35: Train Loss=1.2956, Train Acc=0.5687, Val Loss=1.7203, Val Acc=0.4971\n",
      "Best model saved in d:\\Uni\\Master\\1 Bimestre\\Foundations\\Assignments\\Weather-Clasification\\models\\best_model_CNN_V3_reg.pth (val_acc=0.4971)\n"
     ]
    },
    {
     "name": "stderr",
     "output_type": "stream",
     "text": [
      "Epoch 5/35 [Train]: 100%|██████████| 86/86 [00:38<00:00,  2.22it/s]\n",
      "Epoch 5/35 [Val]: 100%|██████████| 11/11 [00:04<00:00,  2.43it/s]\n"
     ]
    },
    {
     "name": "stdout",
     "output_type": "stream",
     "text": [
      "Epoch 5/35: Train Loss=1.2125, Train Acc=0.6018, Val Loss=1.5240, Val Acc=0.5894\n",
      "Best model saved in d:\\Uni\\Master\\1 Bimestre\\Foundations\\Assignments\\Weather-Clasification\\models\\best_model_CNN_V3_reg.pth (val_acc=0.5894)\n"
     ]
    },
    {
     "name": "stderr",
     "output_type": "stream",
     "text": [
      "Epoch 6/35 [Train]: 100%|██████████| 86/86 [00:38<00:00,  2.22it/s]\n",
      "Epoch 6/35 [Val]: 100%|██████████| 11/11 [00:04<00:00,  2.47it/s]\n"
     ]
    },
    {
     "name": "stdout",
     "output_type": "stream",
     "text": [
      "Epoch 6/35: Train Loss=1.1343, Train Acc=0.6240, Val Loss=1.6106, Val Acc=0.4663\n"
     ]
    },
    {
     "name": "stderr",
     "output_type": "stream",
     "text": [
      "Epoch 7/35 [Train]: 100%|██████████| 86/86 [00:39<00:00,  2.19it/s]\n",
      "Epoch 7/35 [Val]: 100%|██████████| 11/11 [00:04<00:00,  2.48it/s]\n"
     ]
    },
    {
     "name": "stdout",
     "output_type": "stream",
     "text": [
      "Epoch 7/35: Train Loss=1.0905, Train Acc=0.6428, Val Loss=1.6758, Val Acc=0.4487\n"
     ]
    },
    {
     "name": "stderr",
     "output_type": "stream",
     "text": [
      "Epoch 8/35 [Train]: 100%|██████████| 86/86 [00:40<00:00,  2.12it/s]\n",
      "Epoch 8/35 [Val]: 100%|██████████| 11/11 [00:04<00:00,  2.46it/s]\n"
     ]
    },
    {
     "name": "stdout",
     "output_type": "stream",
     "text": [
      "Epoch 8/35: Train Loss=1.0675, Train Acc=0.6472, Val Loss=1.4444, Val Acc=0.5777\n"
     ]
    },
    {
     "name": "stderr",
     "output_type": "stream",
     "text": [
      "Epoch 9/35 [Train]: 100%|██████████| 86/86 [00:39<00:00,  2.19it/s]\n",
      "Epoch 9/35 [Val]: 100%|██████████| 11/11 [00:04<00:00,  2.45it/s]\n"
     ]
    },
    {
     "name": "stdout",
     "output_type": "stream",
     "text": [
      "Epoch 9/35: Train Loss=0.9843, Train Acc=0.6701, Val Loss=1.4578, Val Acc=0.5205\n"
     ]
    },
    {
     "name": "stderr",
     "output_type": "stream",
     "text": [
      "Epoch 10/35 [Train]: 100%|██████████| 86/86 [00:38<00:00,  2.21it/s]\n",
      "Epoch 10/35 [Val]: 100%|██████████| 11/11 [00:04<00:00,  2.46it/s]\n"
     ]
    },
    {
     "name": "stdout",
     "output_type": "stream",
     "text": [
      "Epoch 10/35: Train Loss=0.9117, Train Acc=0.6916, Val Loss=1.3141, Val Acc=0.6041\n",
      "Best model saved in d:\\Uni\\Master\\1 Bimestre\\Foundations\\Assignments\\Weather-Clasification\\models\\best_model_CNN_V3_reg.pth (val_acc=0.6041)\n"
     ]
    },
    {
     "name": "stderr",
     "output_type": "stream",
     "text": [
      "Epoch 11/35 [Train]: 100%|██████████| 86/86 [00:39<00:00,  2.20it/s]\n",
      "Epoch 11/35 [Val]: 100%|██████████| 11/11 [00:04<00:00,  2.45it/s]\n"
     ]
    },
    {
     "name": "stdout",
     "output_type": "stream",
     "text": [
      "Epoch 11/35: Train Loss=0.8749, Train Acc=0.7079, Val Loss=1.4759, Val Acc=0.4927\n"
     ]
    },
    {
     "name": "stderr",
     "output_type": "stream",
     "text": [
      "Epoch 12/35 [Train]: 100%|██████████| 86/86 [00:39<00:00,  2.20it/s]\n",
      "Epoch 12/35 [Val]: 100%|██████████| 11/11 [00:04<00:00,  2.48it/s]\n"
     ]
    },
    {
     "name": "stdout",
     "output_type": "stream",
     "text": [
      "Epoch 12/35: Train Loss=0.8259, Train Acc=0.7206, Val Loss=1.2489, Val Acc=0.5924\n"
     ]
    },
    {
     "name": "stderr",
     "output_type": "stream",
     "text": [
      "Epoch 13/35 [Train]: 100%|██████████| 86/86 [00:39<00:00,  2.19it/s]\n",
      "Epoch 13/35 [Val]: 100%|██████████| 11/11 [00:04<00:00,  2.40it/s]\n"
     ]
    },
    {
     "name": "stdout",
     "output_type": "stream",
     "text": [
      "Epoch 13/35: Train Loss=0.7765, Train Acc=0.7371, Val Loss=1.1789, Val Acc=0.6364\n",
      "Best model saved in d:\\Uni\\Master\\1 Bimestre\\Foundations\\Assignments\\Weather-Clasification\\models\\best_model_CNN_V3_reg.pth (val_acc=0.6364)\n"
     ]
    },
    {
     "name": "stderr",
     "output_type": "stream",
     "text": [
      "Epoch 14/35 [Train]: 100%|██████████| 86/86 [00:39<00:00,  2.18it/s]\n",
      "Epoch 14/35 [Val]: 100%|██████████| 11/11 [00:04<00:00,  2.46it/s]\n"
     ]
    },
    {
     "name": "stdout",
     "output_type": "stream",
     "text": [
      "Epoch 14/35: Train Loss=0.7533, Train Acc=0.7502, Val Loss=1.1921, Val Acc=0.6056\n"
     ]
    },
    {
     "name": "stderr",
     "output_type": "stream",
     "text": [
      "Epoch 15/35 [Train]: 100%|██████████| 86/86 [00:44<00:00,  1.92it/s]\n",
      "Epoch 15/35 [Val]: 100%|██████████| 11/11 [00:05<00:00,  2.07it/s]\n"
     ]
    },
    {
     "name": "stdout",
     "output_type": "stream",
     "text": [
      "Epoch 15/35: Train Loss=0.7180, Train Acc=0.7619, Val Loss=1.2142, Val Acc=0.6217\n"
     ]
    },
    {
     "name": "stderr",
     "output_type": "stream",
     "text": [
      "Epoch 16/35 [Train]: 100%|██████████| 86/86 [00:37<00:00,  2.27it/s]\n",
      "Epoch 16/35 [Val]: 100%|██████████| 11/11 [00:04<00:00,  2.55it/s]\n"
     ]
    },
    {
     "name": "stdout",
     "output_type": "stream",
     "text": [
      "Epoch 16/35: Train Loss=0.6702, Train Acc=0.7763, Val Loss=1.1854, Val Acc=0.6085\n"
     ]
    },
    {
     "name": "stderr",
     "output_type": "stream",
     "text": [
      "Epoch 17/35 [Train]: 100%|██████████| 86/86 [00:36<00:00,  2.33it/s]\n",
      "Epoch 17/35 [Val]: 100%|██████████| 11/11 [00:04<00:00,  2.63it/s]\n"
     ]
    },
    {
     "name": "stdout",
     "output_type": "stream",
     "text": [
      "Epoch 17/35: Train Loss=0.6094, Train Acc=0.7954, Val Loss=1.1932, Val Acc=0.6276\n"
     ]
    },
    {
     "name": "stderr",
     "output_type": "stream",
     "text": [
      "Epoch 18/35 [Train]: 100%|██████████| 86/86 [00:36<00:00,  2.37it/s]\n",
      "Epoch 18/35 [Val]: 100%|██████████| 11/11 [00:04<00:00,  2.66it/s]\n"
     ]
    },
    {
     "name": "stdout",
     "output_type": "stream",
     "text": [
      "Epoch 18/35: Train Loss=0.5844, Train Acc=0.8067, Val Loss=1.1829, Val Acc=0.6217\n"
     ]
    },
    {
     "name": "stderr",
     "output_type": "stream",
     "text": [
      "Epoch 19/35 [Train]: 100%|██████████| 86/86 [00:38<00:00,  2.25it/s]\n",
      "Epoch 19/35 [Val]: 100%|██████████| 11/11 [00:04<00:00,  2.65it/s]\n"
     ]
    },
    {
     "name": "stdout",
     "output_type": "stream",
     "text": [
      "Epoch 19/35: Train Loss=0.5405, Train Acc=0.8233, Val Loss=1.1639, Val Acc=0.6290\n"
     ]
    },
    {
     "name": "stderr",
     "output_type": "stream",
     "text": [
      "Epoch 20/35 [Train]: 100%|██████████| 86/86 [00:36<00:00,  2.36it/s]\n",
      "Epoch 20/35 [Val]: 100%|██████████| 11/11 [00:04<00:00,  2.64it/s]\n"
     ]
    },
    {
     "name": "stdout",
     "output_type": "stream",
     "text": [
      "Epoch 20/35: Train Loss=0.4882, Train Acc=0.8384, Val Loss=1.2158, Val Acc=0.6026\n"
     ]
    },
    {
     "name": "stderr",
     "output_type": "stream",
     "text": [
      "Epoch 21/35 [Train]: 100%|██████████| 86/86 [00:36<00:00,  2.37it/s]\n",
      "Epoch 21/35 [Val]: 100%|██████████| 11/11 [00:04<00:00,  2.57it/s]\n"
     ]
    },
    {
     "name": "stdout",
     "output_type": "stream",
     "text": [
      "Epoch 21/35: Train Loss=0.4532, Train Acc=0.8567, Val Loss=1.1264, Val Acc=0.6540\n",
      "Best model saved in d:\\Uni\\Master\\1 Bimestre\\Foundations\\Assignments\\Weather-Clasification\\models\\best_model_CNN_V3_reg.pth (val_acc=0.6540)\n"
     ]
    },
    {
     "name": "stderr",
     "output_type": "stream",
     "text": [
      "Epoch 22/35 [Train]: 100%|██████████| 86/86 [00:36<00:00,  2.35it/s]\n",
      "Epoch 22/35 [Val]: 100%|██████████| 11/11 [00:04<00:00,  2.52it/s]\n"
     ]
    },
    {
     "name": "stdout",
     "output_type": "stream",
     "text": [
      "Epoch 22/35: Train Loss=0.4457, Train Acc=0.8528, Val Loss=1.2174, Val Acc=0.6188\n"
     ]
    },
    {
     "name": "stderr",
     "output_type": "stream",
     "text": [
      "Epoch 23/35 [Train]: 100%|██████████| 86/86 [00:36<00:00,  2.37it/s]\n",
      "Epoch 23/35 [Val]: 100%|██████████| 11/11 [00:04<00:00,  2.65it/s]\n"
     ]
    },
    {
     "name": "stdout",
     "output_type": "stream",
     "text": [
      "Epoch 23/35: Train Loss=0.3815, Train Acc=0.8749, Val Loss=1.0722, Val Acc=0.6686\n",
      "Best model saved in d:\\Uni\\Master\\1 Bimestre\\Foundations\\Assignments\\Weather-Clasification\\models\\best_model_CNN_V3_reg.pth (val_acc=0.6686)\n"
     ]
    },
    {
     "name": "stderr",
     "output_type": "stream",
     "text": [
      "Epoch 24/35 [Train]: 100%|██████████| 86/86 [00:36<00:00,  2.38it/s]\n",
      "Epoch 24/35 [Val]: 100%|██████████| 11/11 [00:04<00:00,  2.65it/s]\n"
     ]
    },
    {
     "name": "stdout",
     "output_type": "stream",
     "text": [
      "Epoch 24/35: Train Loss=0.3722, Train Acc=0.8833, Val Loss=1.1574, Val Acc=0.6202\n"
     ]
    },
    {
     "name": "stderr",
     "output_type": "stream",
     "text": [
      "Epoch 25/35 [Train]: 100%|██████████| 86/86 [00:36<00:00,  2.38it/s]\n",
      "Epoch 25/35 [Val]: 100%|██████████| 11/11 [00:04<00:00,  2.34it/s]\n"
     ]
    },
    {
     "name": "stdout",
     "output_type": "stream",
     "text": [
      "Epoch 25/35: Train Loss=0.3739, Train Acc=0.8776, Val Loss=1.0423, Val Acc=0.6730\n",
      "Best model saved in d:\\Uni\\Master\\1 Bimestre\\Foundations\\Assignments\\Weather-Clasification\\models\\best_model_CNN_V3_reg.pth (val_acc=0.6730)\n"
     ]
    },
    {
     "name": "stderr",
     "output_type": "stream",
     "text": [
      "Epoch 26/35 [Train]: 100%|██████████| 86/86 [00:41<00:00,  2.06it/s]\n",
      "Epoch 26/35 [Val]: 100%|██████████| 11/11 [00:04<00:00,  2.36it/s]\n"
     ]
    },
    {
     "name": "stdout",
     "output_type": "stream",
     "text": [
      "Epoch 26/35: Train Loss=0.3151, Train Acc=0.8982, Val Loss=1.0327, Val Acc=0.6774\n",
      "Best model saved in d:\\Uni\\Master\\1 Bimestre\\Foundations\\Assignments\\Weather-Clasification\\models\\best_model_CNN_V3_reg.pth (val_acc=0.6774)\n"
     ]
    },
    {
     "name": "stderr",
     "output_type": "stream",
     "text": [
      "Epoch 27/35 [Train]: 100%|██████████| 86/86 [00:41<00:00,  2.07it/s]\n",
      "Epoch 27/35 [Val]: 100%|██████████| 11/11 [00:05<00:00,  1.98it/s]\n"
     ]
    },
    {
     "name": "stdout",
     "output_type": "stream",
     "text": [
      "Epoch 27/35: Train Loss=0.3070, Train Acc=0.9008, Val Loss=1.0711, Val Acc=0.6628\n"
     ]
    },
    {
     "name": "stderr",
     "output_type": "stream",
     "text": [
      "Epoch 28/35 [Train]: 100%|██████████| 86/86 [00:40<00:00,  2.10it/s]\n",
      "Epoch 28/35 [Val]: 100%|██████████| 11/11 [00:05<00:00,  2.12it/s]\n"
     ]
    },
    {
     "name": "stdout",
     "output_type": "stream",
     "text": [
      "Epoch 28/35: Train Loss=0.3048, Train Acc=0.9055, Val Loss=1.1883, Val Acc=0.6012\n"
     ]
    },
    {
     "name": "stderr",
     "output_type": "stream",
     "text": [
      "Epoch 29/35 [Train]: 100%|██████████| 86/86 [00:40<00:00,  2.12it/s]\n",
      "Epoch 29/35 [Val]: 100%|██████████| 11/11 [00:03<00:00,  2.93it/s]\n"
     ]
    },
    {
     "name": "stdout",
     "output_type": "stream",
     "text": [
      "Epoch 29/35: Train Loss=0.2946, Train Acc=0.9083, Val Loss=1.0062, Val Acc=0.6862\n",
      "Best model saved in d:\\Uni\\Master\\1 Bimestre\\Foundations\\Assignments\\Weather-Clasification\\models\\best_model_CNN_V3_reg.pth (val_acc=0.6862)\n"
     ]
    },
    {
     "name": "stderr",
     "output_type": "stream",
     "text": [
      "Epoch 30/35 [Train]: 100%|██████████| 86/86 [00:36<00:00,  2.39it/s]\n",
      "Epoch 30/35 [Val]: 100%|██████████| 11/11 [00:03<00:00,  2.78it/s]\n"
     ]
    },
    {
     "name": "stdout",
     "output_type": "stream",
     "text": [
      "Epoch 30/35: Train Loss=0.2834, Train Acc=0.9108, Val Loss=1.1417, Val Acc=0.6320\n"
     ]
    },
    {
     "name": "stderr",
     "output_type": "stream",
     "text": [
      "Epoch 31/35 [Train]: 100%|██████████| 86/86 [00:34<00:00,  2.47it/s]\n",
      "Epoch 31/35 [Val]: 100%|██████████| 11/11 [00:03<00:00,  2.88it/s]\n"
     ]
    },
    {
     "name": "stdout",
     "output_type": "stream",
     "text": [
      "Epoch 31/35: Train Loss=0.2304, Train Acc=0.9252, Val Loss=1.1001, Val Acc=0.6730\n"
     ]
    },
    {
     "name": "stderr",
     "output_type": "stream",
     "text": [
      "Epoch 32/35 [Train]: 100%|██████████| 86/86 [00:35<00:00,  2.42it/s]\n",
      "Epoch 32/35 [Val]: 100%|██████████| 11/11 [00:04<00:00,  2.48it/s]\n"
     ]
    },
    {
     "name": "stdout",
     "output_type": "stream",
     "text": [
      "Epoch 32/35: Train Loss=0.2087, Train Acc=0.9329, Val Loss=1.1258, Val Acc=0.6173\n"
     ]
    },
    {
     "name": "stderr",
     "output_type": "stream",
     "text": [
      "Epoch 33/35 [Train]: 100%|██████████| 86/86 [00:35<00:00,  2.45it/s]\n",
      "Epoch 33/35 [Val]: 100%|██████████| 11/11 [00:03<00:00,  2.94it/s]\n"
     ]
    },
    {
     "name": "stdout",
     "output_type": "stream",
     "text": [
      "Epoch 33/35: Train Loss=0.2100, Train Acc=0.9318, Val Loss=1.0092, Val Acc=0.6965\n",
      "Best model saved in d:\\Uni\\Master\\1 Bimestre\\Foundations\\Assignments\\Weather-Clasification\\models\\best_model_CNN_V3_reg.pth (val_acc=0.6965)\n"
     ]
    },
    {
     "name": "stderr",
     "output_type": "stream",
     "text": [
      "Epoch 34/35 [Train]: 100%|██████████| 86/86 [00:34<00:00,  2.49it/s]\n",
      "Epoch 34/35 [Val]: 100%|██████████| 11/11 [00:04<00:00,  2.55it/s]\n"
     ]
    },
    {
     "name": "stdout",
     "output_type": "stream",
     "text": [
      "Epoch 34/35: Train Loss=0.2710, Train Acc=0.9167, Val Loss=1.0864, Val Acc=0.6584\n"
     ]
    },
    {
     "name": "stderr",
     "output_type": "stream",
     "text": [
      "Epoch 35/35 [Train]: 100%|██████████| 86/86 [00:34<00:00,  2.53it/s]\n",
      "Epoch 35/35 [Val]: 100%|██████████| 11/11 [00:03<00:00,  2.93it/s]"
     ]
    },
    {
     "name": "stdout",
     "output_type": "stream",
     "text": [
      "Epoch 35/35: Train Loss=0.2699, Train Acc=0.9181, Val Loss=1.0567, Val Acc=0.6760\n",
      "Training complete. Best val_acc=0.6965\n",
      "MMetrics saved in d:\\Uni\\Master\\1 Bimestre\\Foundations\\Assignments\\Weather-Clasification\\reports\\metrics\\metrics_CNN_V3_reg.pkl\n"
     ]
    },
    {
     "name": "stderr",
     "output_type": "stream",
     "text": [
      "\n"
     ]
    }
   ],
   "source": [
    "input_dim = 224*224*3  # matches the Resize transform\n",
    "model = train_model(CNN_V3_reg, \n",
    "                    train_dir=\"../../data/train\", \n",
    "                    val_dir=\"../../data/val\", \n",
    "                    input_dim=input_dim,\n",
    "                    num_classes=11,\n",
    "                    batch_size=64,\n",
    "                    epochs=35,\n",
    "                    lr=1e-3,\n",
    "                    device=\"cuda\" if torch.cuda.is_available() else \"cpu\")"
   ]
  }
 ],
 "metadata": {
  "kernelspec": {
   "display_name": "py311ml",
   "language": "python",
   "name": "python3"
  },
  "language_info": {
   "codemirror_mode": {
    "name": "ipython",
    "version": 3
   },
   "file_extension": ".py",
   "mimetype": "text/x-python",
   "name": "python",
   "nbconvert_exporter": "python",
   "pygments_lexer": "ipython3",
   "version": "3.11.13"
  }
 },
 "nbformat": 4,
 "nbformat_minor": 5
}
