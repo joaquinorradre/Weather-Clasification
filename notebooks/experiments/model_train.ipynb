{
 "cells": [
  {
   "cell_type": "code",
   "execution_count": 1,
   "id": "d2bc7a26",
   "metadata": {},
   "outputs": [],
   "source": [
    "import sys\n",
    "import os\n",
    "\n",
    "# Add the root folder of your project\n",
    "root_path = os.path.abspath(os.path.join(\"..\", \"..\"))  # two levels up from experiments\n",
    "sys.path.append(root_path)\n",
    "\n",
    "from weather_classification.modeling.mlp import MLPClassifier\n",
    "from weather_classification.weather_dataset import WeatherDataset\n",
    "from weather_classification.train import train_model\n",
    "from weather_classification.modeling.modern_lenet import LeNetModern\n",
    "from weather_classification.modeling.cnn import CNN_V1, CNN_V1_reg, CNN_V2\n",
    "\n",
    "import torch"
   ]
  },
  {
   "cell_type": "code",
   "execution_count": 2,
   "id": "4596f311",
   "metadata": {},
   "outputs": [
    {
     "name": "stderr",
     "output_type": "stream",
     "text": [
      "Epoch 1/5 [Train]: 100%|██████████| 86/86 [00:22<00:00,  3.89it/s]\n",
      "Epoch 1/5 [Val]: 100%|██████████| 11/11 [00:02<00:00,  4.20it/s]\n"
     ]
    },
    {
     "name": "stdout",
     "output_type": "stream",
     "text": [
      "Epoch 1/5: Train Loss=2.2210, Train Acc=0.2239, Val Loss=1.7429, Val Acc=0.4208\n",
      "Best model saved (val_acc=0.4208)\n",
      "Best model saved in d:\\Uni\\Master\\1 Bimestre\\Foundations\\Assignments\\Weather-Clasification\\models\\best_model_MLPClassifier.pth (val_acc=0.4208)\n"
     ]
    },
    {
     "name": "stderr",
     "output_type": "stream",
     "text": [
      "Epoch 2/5 [Train]: 100%|██████████| 86/86 [00:22<00:00,  3.76it/s]\n",
      "Epoch 2/5 [Val]: 100%|██████████| 11/11 [00:02<00:00,  4.44it/s]\n"
     ]
    },
    {
     "name": "stdout",
     "output_type": "stream",
     "text": [
      "Epoch 2/5: Train Loss=1.8275, Train Acc=0.3822, Val Loss=1.6435, Val Acc=0.4575\n",
      "Best model saved (val_acc=0.4575)\n",
      "Best model saved in d:\\Uni\\Master\\1 Bimestre\\Foundations\\Assignments\\Weather-Clasification\\models\\best_model_MLPClassifier.pth (val_acc=0.4575)\n"
     ]
    },
    {
     "name": "stderr",
     "output_type": "stream",
     "text": [
      "Epoch 3/5 [Train]: 100%|██████████| 86/86 [00:23<00:00,  3.71it/s]\n",
      "Epoch 3/5 [Val]: 100%|██████████| 11/11 [00:02<00:00,  4.55it/s]\n"
     ]
    },
    {
     "name": "stdout",
     "output_type": "stream",
     "text": [
      "Epoch 3/5: Train Loss=1.7398, Train Acc=0.4130, Val Loss=1.6324, Val Acc=0.4531\n"
     ]
    },
    {
     "name": "stderr",
     "output_type": "stream",
     "text": [
      "Epoch 4/5 [Train]: 100%|██████████| 86/86 [00:22<00:00,  3.87it/s]\n",
      "Epoch 4/5 [Val]: 100%|██████████| 11/11 [00:02<00:00,  4.47it/s]\n"
     ]
    },
    {
     "name": "stdout",
     "output_type": "stream",
     "text": [
      "Epoch 4/5: Train Loss=1.7220, Train Acc=0.4283, Val Loss=1.6175, Val Acc=0.4751\n",
      "Best model saved (val_acc=0.4751)\n",
      "Best model saved in d:\\Uni\\Master\\1 Bimestre\\Foundations\\Assignments\\Weather-Clasification\\models\\best_model_MLPClassifier.pth (val_acc=0.4751)\n"
     ]
    },
    {
     "name": "stderr",
     "output_type": "stream",
     "text": [
      "Epoch 5/5 [Train]: 100%|██████████| 86/86 [00:22<00:00,  3.82it/s]\n",
      "Epoch 5/5 [Val]: 100%|██████████| 11/11 [00:02<00:00,  4.57it/s]\n"
     ]
    },
    {
     "name": "stdout",
     "output_type": "stream",
     "text": [
      "Epoch 5/5: Train Loss=1.7099, Train Acc=0.4342, Val Loss=1.6064, Val Acc=0.4824\n",
      "Best model saved (val_acc=0.4824)\n",
      "Best model saved in d:\\Uni\\Master\\1 Bimestre\\Foundations\\Assignments\\Weather-Clasification\\models\\best_model_MLPClassifier.pth (val_acc=0.4824)\n",
      "Training complete. Best val_acc=0.4824\n",
      "MMetrics saved in d:\\Uni\\Master\\1 Bimestre\\Foundations\\Assignments\\Weather-Clasification\\reports\\metrics\\metrics_MLPClassifier.pkl\n"
     ]
    }
   ],
   "source": [
    "input_dim = 64*64*3  # matches the Resize transform\n",
    "model = train_model(MLPClassifier, \n",
    "                    train_dir=\"../../data/train\", \n",
    "                    val_dir=\"../../data/val\", \n",
    "                    input_dim=input_dim,\n",
    "                    num_classes=11,\n",
    "                    batch_size=64,\n",
    "                    epochs=5,\n",
    "                    lr=1e-3,\n",
    "                    device=\"cuda\" if torch.cuda.is_available() else \"cpu\")\n"
   ]
  },
  {
   "cell_type": "code",
   "execution_count": 4,
   "id": "0fc75620",
   "metadata": {},
   "outputs": [
    {
     "name": "stderr",
     "output_type": "stream",
     "text": [
      "Epoch 1/5 [Train]: 100%|██████████| 86/86 [00:23<00:00,  3.72it/s]\n",
      "Epoch 1/5 [Val]: 100%|██████████| 11/11 [00:02<00:00,  4.31it/s]\n"
     ]
    },
    {
     "name": "stdout",
     "output_type": "stream",
     "text": [
      "Epoch 1/5: Train Loss=2.1214, Train Acc=0.2569, Val Loss=1.8486, Val Acc=0.3959\n",
      "Best model saved (val_acc=0.3959)\n",
      "Best model saved in d:\\Uni\\Master\\1 Bimestre\\Foundations\\Assignments\\Weather-Clasification\\models\\best_model_LeNetModern.pth (val_acc=0.3959)\n"
     ]
    },
    {
     "name": "stderr",
     "output_type": "stream",
     "text": [
      "Epoch 2/5 [Train]: 100%|██████████| 86/86 [00:22<00:00,  3.84it/s]\n",
      "Epoch 2/5 [Val]: 100%|██████████| 11/11 [00:02<00:00,  4.00it/s]\n"
     ]
    },
    {
     "name": "stdout",
     "output_type": "stream",
     "text": [
      "Epoch 2/5: Train Loss=1.7254, Train Acc=0.4152, Val Loss=1.5942, Val Acc=0.4853\n",
      "Best model saved (val_acc=0.4853)\n",
      "Best model saved in d:\\Uni\\Master\\1 Bimestre\\Foundations\\Assignments\\Weather-Clasification\\models\\best_model_LeNetModern.pth (val_acc=0.4853)\n"
     ]
    },
    {
     "name": "stderr",
     "output_type": "stream",
     "text": [
      "Epoch 3/5 [Train]: 100%|██████████| 86/86 [00:21<00:00,  3.96it/s]\n",
      "Epoch 3/5 [Val]: 100%|██████████| 11/11 [00:02<00:00,  4.07it/s]\n"
     ]
    },
    {
     "name": "stdout",
     "output_type": "stream",
     "text": [
      "Epoch 3/5: Train Loss=1.5257, Train Acc=0.4943, Val Loss=1.3749, Val Acc=0.5323\n",
      "Best model saved (val_acc=0.5323)\n",
      "Best model saved in d:\\Uni\\Master\\1 Bimestre\\Foundations\\Assignments\\Weather-Clasification\\models\\best_model_LeNetModern.pth (val_acc=0.5323)\n"
     ]
    },
    {
     "name": "stderr",
     "output_type": "stream",
     "text": [
      "Epoch 4/5 [Train]: 100%|██████████| 86/86 [00:22<00:00,  3.87it/s]\n",
      "Epoch 4/5 [Val]: 100%|██████████| 11/11 [00:02<00:00,  4.41it/s]\n"
     ]
    },
    {
     "name": "stdout",
     "output_type": "stream",
     "text": [
      "Epoch 4/5: Train Loss=1.3988, Train Acc=0.5361, Val Loss=1.2962, Val Acc=0.5484\n",
      "Best model saved (val_acc=0.5484)\n",
      "Best model saved in d:\\Uni\\Master\\1 Bimestre\\Foundations\\Assignments\\Weather-Clasification\\models\\best_model_LeNetModern.pth (val_acc=0.5484)\n"
     ]
    },
    {
     "name": "stderr",
     "output_type": "stream",
     "text": [
      "Epoch 5/5 [Train]: 100%|██████████| 86/86 [00:22<00:00,  3.86it/s]\n",
      "Epoch 5/5 [Val]: 100%|██████████| 11/11 [00:02<00:00,  4.09it/s]"
     ]
    },
    {
     "name": "stdout",
     "output_type": "stream",
     "text": [
      "Epoch 5/5: Train Loss=1.3049, Train Acc=0.5593, Val Loss=1.2322, Val Acc=0.5660\n",
      "Best model saved (val_acc=0.5660)\n",
      "Best model saved in d:\\Uni\\Master\\1 Bimestre\\Foundations\\Assignments\\Weather-Clasification\\models\\best_model_LeNetModern.pth (val_acc=0.5660)\n",
      "Training complete. Best val_acc=0.5660\n",
      "MMetrics saved in d:\\Uni\\Master\\1 Bimestre\\Foundations\\Assignments\\Weather-Clasification\\reports\\metrics\\metrics_LeNetModern.pkl\n"
     ]
    },
    {
     "name": "stderr",
     "output_type": "stream",
     "text": [
      "\n"
     ]
    }
   ],
   "source": [
    "input_dim = 64*64*3  # matches the Resize transform\n",
    "model = train_model(LeNetModern, \n",
    "                    train_dir=\"../../data/train\", \n",
    "                    val_dir=\"../../data/val\", \n",
    "                    input_dim=input_dim,\n",
    "                    num_classes=11,\n",
    "                    batch_size=64,\n",
    "                    epochs=5,\n",
    "                    lr=1e-3,\n",
    "                    device=\"cuda\" if torch.cuda.is_available() else \"cpu\")"
   ]
  },
  {
   "cell_type": "code",
   "execution_count": 3,
   "id": "7cdf593c",
   "metadata": {},
   "outputs": [
    {
     "name": "stderr",
     "output_type": "stream",
     "text": [
      "Epoch 1/15 [Train]: 100%|██████████| 86/86 [00:23<00:00,  3.68it/s]\n",
      "Epoch 1/15 [Val]: 100%|██████████| 11/11 [00:02<00:00,  3.76it/s]\n"
     ]
    },
    {
     "name": "stdout",
     "output_type": "stream",
     "text": [
      "Epoch 1/15: Train Loss=2.0192, Train Acc=0.3022, Val Loss=1.6374, Val Acc=0.4751\n",
      "Best model saved in d:\\Uni\\Master\\1 Bimestre\\Foundations\\Assignments\\Weather-Clasification\\models\\best_model_CNN_V1.pth (val_acc=0.4751)\n"
     ]
    },
    {
     "name": "stderr",
     "output_type": "stream",
     "text": [
      "Epoch 2/15 [Train]: 100%|██████████| 86/86 [00:22<00:00,  3.80it/s]\n",
      "Epoch 2/15 [Val]: 100%|██████████| 11/11 [00:02<00:00,  4.21it/s]\n"
     ]
    },
    {
     "name": "stdout",
     "output_type": "stream",
     "text": [
      "Epoch 2/15: Train Loss=1.4974, Train Acc=0.5027, Val Loss=1.3499, Val Acc=0.5455\n",
      "Best model saved in d:\\Uni\\Master\\1 Bimestre\\Foundations\\Assignments\\Weather-Clasification\\models\\best_model_CNN_V1.pth (val_acc=0.5455)\n"
     ]
    },
    {
     "name": "stderr",
     "output_type": "stream",
     "text": [
      "Epoch 3/15 [Train]: 100%|██████████| 86/86 [00:23<00:00,  3.74it/s]\n",
      "Epoch 3/15 [Val]: 100%|██████████| 11/11 [00:02<00:00,  4.32it/s]\n"
     ]
    },
    {
     "name": "stdout",
     "output_type": "stream",
     "text": [
      "Epoch 3/15: Train Loss=1.2822, Train Acc=0.5764, Val Loss=1.2706, Val Acc=0.5689\n",
      "Best model saved in d:\\Uni\\Master\\1 Bimestre\\Foundations\\Assignments\\Weather-Clasification\\models\\best_model_CNN_V1.pth (val_acc=0.5689)\n"
     ]
    },
    {
     "name": "stderr",
     "output_type": "stream",
     "text": [
      "Epoch 4/15 [Train]: 100%|██████████| 86/86 [00:22<00:00,  3.84it/s]\n",
      "Epoch 4/15 [Val]: 100%|██████████| 11/11 [00:02<00:00,  4.05it/s]\n"
     ]
    },
    {
     "name": "stdout",
     "output_type": "stream",
     "text": [
      "Epoch 4/15: Train Loss=1.1817, Train Acc=0.6065, Val Loss=1.2239, Val Acc=0.6085\n",
      "Best model saved in d:\\Uni\\Master\\1 Bimestre\\Foundations\\Assignments\\Weather-Clasification\\models\\best_model_CNN_V1.pth (val_acc=0.6085)\n"
     ]
    },
    {
     "name": "stderr",
     "output_type": "stream",
     "text": [
      "Epoch 5/15 [Train]: 100%|██████████| 86/86 [00:22<00:00,  3.80it/s]\n",
      "Epoch 5/15 [Val]: 100%|██████████| 11/11 [00:02<00:00,  4.19it/s]\n"
     ]
    },
    {
     "name": "stdout",
     "output_type": "stream",
     "text": [
      "Epoch 5/15: Train Loss=1.1031, Train Acc=0.6249, Val Loss=1.1351, Val Acc=0.6100\n",
      "Best model saved in d:\\Uni\\Master\\1 Bimestre\\Foundations\\Assignments\\Weather-Clasification\\models\\best_model_CNN_V1.pth (val_acc=0.6100)\n"
     ]
    },
    {
     "name": "stderr",
     "output_type": "stream",
     "text": [
      "Epoch 6/15 [Train]: 100%|██████████| 86/86 [00:23<00:00,  3.71it/s]\n",
      "Epoch 6/15 [Val]: 100%|██████████| 11/11 [00:02<00:00,  4.04it/s]\n"
     ]
    },
    {
     "name": "stdout",
     "output_type": "stream",
     "text": [
      "Epoch 6/15: Train Loss=1.0437, Train Acc=0.6450, Val Loss=1.0885, Val Acc=0.6188\n",
      "Best model saved in d:\\Uni\\Master\\1 Bimestre\\Foundations\\Assignments\\Weather-Clasification\\models\\best_model_CNN_V1.pth (val_acc=0.6188)\n"
     ]
    },
    {
     "name": "stderr",
     "output_type": "stream",
     "text": [
      "Epoch 7/15 [Train]: 100%|██████████| 86/86 [00:22<00:00,  3.76it/s]\n",
      "Epoch 7/15 [Val]: 100%|██████████| 11/11 [00:02<00:00,  3.84it/s]\n"
     ]
    },
    {
     "name": "stdout",
     "output_type": "stream",
     "text": [
      "Epoch 7/15: Train Loss=0.9767, Train Acc=0.6685, Val Loss=1.0825, Val Acc=0.6496\n",
      "Best model saved in d:\\Uni\\Master\\1 Bimestre\\Foundations\\Assignments\\Weather-Clasification\\models\\best_model_CNN_V1.pth (val_acc=0.6496)\n"
     ]
    },
    {
     "name": "stderr",
     "output_type": "stream",
     "text": [
      "Epoch 8/15 [Train]: 100%|██████████| 86/86 [00:22<00:00,  3.89it/s]\n",
      "Epoch 8/15 [Val]: 100%|██████████| 11/11 [00:02<00:00,  4.09it/s]\n"
     ]
    },
    {
     "name": "stdout",
     "output_type": "stream",
     "text": [
      "Epoch 8/15: Train Loss=0.9696, Train Acc=0.6723, Val Loss=1.0886, Val Acc=0.6422\n"
     ]
    },
    {
     "name": "stderr",
     "output_type": "stream",
     "text": [
      "Epoch 9/15 [Train]: 100%|██████████| 86/86 [00:23<00:00,  3.69it/s]\n",
      "Epoch 9/15 [Val]: 100%|██████████| 11/11 [00:02<00:00,  3.81it/s]\n"
     ]
    },
    {
     "name": "stdout",
     "output_type": "stream",
     "text": [
      "Epoch 9/15: Train Loss=0.8880, Train Acc=0.6949, Val Loss=1.0465, Val Acc=0.6437\n"
     ]
    },
    {
     "name": "stderr",
     "output_type": "stream",
     "text": [
      "Epoch 10/15 [Train]: 100%|██████████| 86/86 [00:23<00:00,  3.66it/s]\n",
      "Epoch 10/15 [Val]: 100%|██████████| 11/11 [00:02<00:00,  3.92it/s]\n"
     ]
    },
    {
     "name": "stdout",
     "output_type": "stream",
     "text": [
      "Epoch 10/15: Train Loss=0.8393, Train Acc=0.7150, Val Loss=1.1175, Val Acc=0.6422\n"
     ]
    },
    {
     "name": "stderr",
     "output_type": "stream",
     "text": [
      "Epoch 11/15 [Train]: 100%|██████████| 86/86 [00:23<00:00,  3.64it/s]\n",
      "Epoch 11/15 [Val]: 100%|██████████| 11/11 [00:03<00:00,  3.57it/s]\n"
     ]
    },
    {
     "name": "stdout",
     "output_type": "stream",
     "text": [
      "Epoch 11/15: Train Loss=0.7665, Train Acc=0.7436, Val Loss=1.0843, Val Acc=0.6569\n",
      "Best model saved in d:\\Uni\\Master\\1 Bimestre\\Foundations\\Assignments\\Weather-Clasification\\models\\best_model_CNN_V1.pth (val_acc=0.6569)\n"
     ]
    },
    {
     "name": "stderr",
     "output_type": "stream",
     "text": [
      "Epoch 12/15 [Train]: 100%|██████████| 86/86 [00:23<00:00,  3.72it/s]\n",
      "Epoch 12/15 [Val]: 100%|██████████| 11/11 [00:02<00:00,  3.81it/s]\n"
     ]
    },
    {
     "name": "stdout",
     "output_type": "stream",
     "text": [
      "Epoch 12/15: Train Loss=0.7420, Train Acc=0.7500, Val Loss=1.0286, Val Acc=0.6804\n",
      "Best model saved in d:\\Uni\\Master\\1 Bimestre\\Foundations\\Assignments\\Weather-Clasification\\models\\best_model_CNN_V1.pth (val_acc=0.6804)\n"
     ]
    },
    {
     "name": "stderr",
     "output_type": "stream",
     "text": [
      "Epoch 13/15 [Train]: 100%|██████████| 86/86 [00:23<00:00,  3.70it/s]\n",
      "Epoch 13/15 [Val]: 100%|██████████| 11/11 [00:02<00:00,  4.24it/s]\n"
     ]
    },
    {
     "name": "stdout",
     "output_type": "stream",
     "text": [
      "Epoch 13/15: Train Loss=0.6466, Train Acc=0.7795, Val Loss=1.0525, Val Acc=0.6745\n"
     ]
    },
    {
     "name": "stderr",
     "output_type": "stream",
     "text": [
      "Epoch 14/15 [Train]: 100%|██████████| 86/86 [00:23<00:00,  3.70it/s]\n",
      "Epoch 14/15 [Val]: 100%|██████████| 11/11 [00:02<00:00,  3.84it/s]\n"
     ]
    },
    {
     "name": "stdout",
     "output_type": "stream",
     "text": [
      "Epoch 14/15: Train Loss=0.5932, Train Acc=0.8058, Val Loss=1.1303, Val Acc=0.6613\n"
     ]
    },
    {
     "name": "stderr",
     "output_type": "stream",
     "text": [
      "Epoch 15/15 [Train]: 100%|██████████| 86/86 [00:24<00:00,  3.55it/s]\n",
      "Epoch 15/15 [Val]: 100%|██████████| 11/11 [00:02<00:00,  3.72it/s]"
     ]
    },
    {
     "name": "stdout",
     "output_type": "stream",
     "text": [
      "Epoch 15/15: Train Loss=0.5078, Train Acc=0.8306, Val Loss=1.1367, Val Acc=0.6701\n",
      "Training complete. Best val_acc=0.6804\n",
      "MMetrics saved in d:\\Uni\\Master\\1 Bimestre\\Foundations\\Assignments\\Weather-Clasification\\reports\\metrics\\metrics_CNN_V1.pkl\n"
     ]
    },
    {
     "name": "stderr",
     "output_type": "stream",
     "text": [
      "\n"
     ]
    }
   ],
   "source": [
    "input_dim = 64*64*3  # matches the Resize transform\n",
    "model = train_model(CNN_V1, \n",
    "                    train_dir=\"../../data/train\", \n",
    "                    val_dir=\"../../data/val\", \n",
    "                    input_dim=input_dim,\n",
    "                    num_classes=11,\n",
    "                    batch_size=64,\n",
    "                    epochs=15,\n",
    "                    lr=1e-3,\n",
    "                    device=\"cuda\" if torch.cuda.is_available() else \"cpu\")"
   ]
  },
  {
   "cell_type": "code",
   "execution_count": 5,
   "id": "64f6d733",
   "metadata": {},
   "outputs": [
    {
     "name": "stderr",
     "output_type": "stream",
     "text": [
      "Epoch 1/20 [Train]: 100%|██████████| 86/86 [00:23<00:00,  3.67it/s]\n",
      "Epoch 1/20 [Val]: 100%|██████████| 11/11 [00:02<00:00,  3.83it/s]\n"
     ]
    },
    {
     "name": "stdout",
     "output_type": "stream",
     "text": [
      "Epoch 1/20: Train Loss=2.2175, Train Acc=0.2170, Val Loss=2.1525, Val Acc=0.2962\n",
      "Best model saved in d:\\Uni\\Master\\1 Bimestre\\Foundations\\Assignments\\Weather-Clasification\\models\\best_model_CNN_V1_reg.pth (val_acc=0.2962)\n"
     ]
    },
    {
     "name": "stderr",
     "output_type": "stream",
     "text": [
      "Epoch 2/20 [Train]: 100%|██████████| 86/86 [00:24<00:00,  3.49it/s]\n",
      "Epoch 2/20 [Val]: 100%|██████████| 11/11 [00:03<00:00,  3.34it/s]\n"
     ]
    },
    {
     "name": "stdout",
     "output_type": "stream",
     "text": [
      "Epoch 2/20: Train Loss=1.9277, Train Acc=0.3288, Val Loss=2.0490, Val Acc=0.3695\n",
      "Best model saved in d:\\Uni\\Master\\1 Bimestre\\Foundations\\Assignments\\Weather-Clasification\\models\\best_model_CNN_V1_reg.pth (val_acc=0.3695)\n"
     ]
    },
    {
     "name": "stderr",
     "output_type": "stream",
     "text": [
      "Epoch 3/20 [Train]: 100%|██████████| 86/86 [00:23<00:00,  3.64it/s]\n",
      "Epoch 3/20 [Val]: 100%|██████████| 11/11 [00:02<00:00,  4.14it/s]\n"
     ]
    },
    {
     "name": "stdout",
     "output_type": "stream",
     "text": [
      "Epoch 3/20: Train Loss=1.7121, Train Acc=0.4276, Val Loss=1.8583, Val Acc=0.3944\n",
      "Best model saved in d:\\Uni\\Master\\1 Bimestre\\Foundations\\Assignments\\Weather-Clasification\\models\\best_model_CNN_V1_reg.pth (val_acc=0.3944)\n"
     ]
    },
    {
     "name": "stderr",
     "output_type": "stream",
     "text": [
      "Epoch 4/20 [Train]: 100%|██████████| 86/86 [00:22<00:00,  3.85it/s]\n",
      "Epoch 4/20 [Val]: 100%|██████████| 11/11 [00:02<00:00,  4.30it/s]\n"
     ]
    },
    {
     "name": "stdout",
     "output_type": "stream",
     "text": [
      "Epoch 4/20: Train Loss=1.5240, Train Acc=0.5024, Val Loss=1.6958, Val Acc=0.4545\n",
      "Best model saved in d:\\Uni\\Master\\1 Bimestre\\Foundations\\Assignments\\Weather-Clasification\\models\\best_model_CNN_V1_reg.pth (val_acc=0.4545)\n"
     ]
    },
    {
     "name": "stderr",
     "output_type": "stream",
     "text": [
      "Epoch 5/20 [Train]: 100%|██████████| 86/86 [00:22<00:00,  3.90it/s]\n",
      "Epoch 5/20 [Val]: 100%|██████████| 11/11 [00:02<00:00,  4.29it/s]\n"
     ]
    },
    {
     "name": "stdout",
     "output_type": "stream",
     "text": [
      "Epoch 5/20: Train Loss=1.4275, Train Acc=0.5321, Val Loss=1.6500, Val Acc=0.4589\n",
      "Best model saved in d:\\Uni\\Master\\1 Bimestre\\Foundations\\Assignments\\Weather-Clasification\\models\\best_model_CNN_V1_reg.pth (val_acc=0.4589)\n"
     ]
    },
    {
     "name": "stderr",
     "output_type": "stream",
     "text": [
      "Epoch 6/20 [Train]: 100%|██████████| 86/86 [00:22<00:00,  3.77it/s]\n",
      "Epoch 6/20 [Val]: 100%|██████████| 11/11 [00:02<00:00,  4.42it/s]\n"
     ]
    },
    {
     "name": "stdout",
     "output_type": "stream",
     "text": [
      "Epoch 6/20: Train Loss=1.3547, Train Acc=0.5503, Val Loss=1.5195, Val Acc=0.5073\n",
      "Best model saved in d:\\Uni\\Master\\1 Bimestre\\Foundations\\Assignments\\Weather-Clasification\\models\\best_model_CNN_V1_reg.pth (val_acc=0.5073)\n"
     ]
    },
    {
     "name": "stderr",
     "output_type": "stream",
     "text": [
      "Epoch 7/20 [Train]: 100%|██████████| 86/86 [00:22<00:00,  3.88it/s]\n",
      "Epoch 7/20 [Val]: 100%|██████████| 11/11 [00:02<00:00,  3.89it/s]\n"
     ]
    },
    {
     "name": "stdout",
     "output_type": "stream",
     "text": [
      "Epoch 7/20: Train Loss=1.3116, Train Acc=0.5717, Val Loss=1.5602, Val Acc=0.4985\n"
     ]
    },
    {
     "name": "stderr",
     "output_type": "stream",
     "text": [
      "Epoch 8/20 [Train]: 100%|██████████| 86/86 [00:22<00:00,  3.79it/s]\n",
      "Epoch 8/20 [Val]: 100%|██████████| 11/11 [00:02<00:00,  4.14it/s]\n"
     ]
    },
    {
     "name": "stdout",
     "output_type": "stream",
     "text": [
      "Epoch 8/20: Train Loss=1.2592, Train Acc=0.5868, Val Loss=1.3467, Val Acc=0.5762\n",
      "Best model saved in d:\\Uni\\Master\\1 Bimestre\\Foundations\\Assignments\\Weather-Clasification\\models\\best_model_CNN_V1_reg.pth (val_acc=0.5762)\n"
     ]
    },
    {
     "name": "stderr",
     "output_type": "stream",
     "text": [
      "Epoch 9/20 [Train]: 100%|██████████| 86/86 [00:23<00:00,  3.73it/s]\n",
      "Epoch 9/20 [Val]: 100%|██████████| 11/11 [00:02<00:00,  4.01it/s]\n"
     ]
    },
    {
     "name": "stdout",
     "output_type": "stream",
     "text": [
      "Epoch 9/20: Train Loss=1.1975, Train Acc=0.5985, Val Loss=1.5063, Val Acc=0.5117\n"
     ]
    },
    {
     "name": "stderr",
     "output_type": "stream",
     "text": [
      "Epoch 10/20 [Train]: 100%|██████████| 86/86 [00:22<00:00,  3.83it/s]\n",
      "Epoch 10/20 [Val]: 100%|██████████| 11/11 [00:02<00:00,  4.26it/s]\n"
     ]
    },
    {
     "name": "stdout",
     "output_type": "stream",
     "text": [
      "Epoch 10/20: Train Loss=1.1748, Train Acc=0.6087, Val Loss=1.4084, Val Acc=0.5469\n"
     ]
    },
    {
     "name": "stderr",
     "output_type": "stream",
     "text": [
      "Epoch 11/20 [Train]: 100%|██████████| 86/86 [00:22<00:00,  3.84it/s]\n",
      "Epoch 11/20 [Val]: 100%|██████████| 11/11 [00:02<00:00,  4.25it/s]\n"
     ]
    },
    {
     "name": "stdout",
     "output_type": "stream",
     "text": [
      "Epoch 11/20: Train Loss=1.0911, Train Acc=0.6315, Val Loss=1.3277, Val Acc=0.5777\n",
      "Best model saved in d:\\Uni\\Master\\1 Bimestre\\Foundations\\Assignments\\Weather-Clasification\\models\\best_model_CNN_V1_reg.pth (val_acc=0.5777)\n"
     ]
    },
    {
     "name": "stderr",
     "output_type": "stream",
     "text": [
      "Epoch 12/20 [Train]: 100%|██████████| 86/86 [00:23<00:00,  3.70it/s]\n",
      "Epoch 12/20 [Val]: 100%|██████████| 11/11 [00:02<00:00,  3.73it/s]\n"
     ]
    },
    {
     "name": "stdout",
     "output_type": "stream",
     "text": [
      "Epoch 12/20: Train Loss=1.0698, Train Acc=0.6451, Val Loss=1.2948, Val Acc=0.5704\n"
     ]
    },
    {
     "name": "stderr",
     "output_type": "stream",
     "text": [
      "Epoch 13/20 [Train]: 100%|██████████| 86/86 [00:23<00:00,  3.70it/s]\n",
      "Epoch 13/20 [Val]: 100%|██████████| 11/11 [00:02<00:00,  4.11it/s]\n"
     ]
    },
    {
     "name": "stdout",
     "output_type": "stream",
     "text": [
      "Epoch 13/20: Train Loss=0.9987, Train Acc=0.6736, Val Loss=1.2578, Val Acc=0.5777\n"
     ]
    },
    {
     "name": "stderr",
     "output_type": "stream",
     "text": [
      "Epoch 14/20 [Train]: 100%|██████████| 86/86 [00:23<00:00,  3.60it/s]\n",
      "Epoch 14/20 [Val]: 100%|██████████| 11/11 [00:02<00:00,  3.81it/s]\n"
     ]
    },
    {
     "name": "stdout",
     "output_type": "stream",
     "text": [
      "Epoch 14/20: Train Loss=0.9608, Train Acc=0.6840, Val Loss=1.2711, Val Acc=0.5850\n",
      "Best model saved in d:\\Uni\\Master\\1 Bimestre\\Foundations\\Assignments\\Weather-Clasification\\models\\best_model_CNN_V1_reg.pth (val_acc=0.5850)\n"
     ]
    },
    {
     "name": "stderr",
     "output_type": "stream",
     "text": [
      "Epoch 15/20 [Train]: 100%|██████████| 86/86 [00:22<00:00,  3.76it/s]\n",
      "Epoch 15/20 [Val]: 100%|██████████| 11/11 [00:02<00:00,  4.29it/s]\n"
     ]
    },
    {
     "name": "stdout",
     "output_type": "stream",
     "text": [
      "Epoch 15/20: Train Loss=0.9134, Train Acc=0.7013, Val Loss=1.2379, Val Acc=0.6085\n",
      "Best model saved in d:\\Uni\\Master\\1 Bimestre\\Foundations\\Assignments\\Weather-Clasification\\models\\best_model_CNN_V1_reg.pth (val_acc=0.6085)\n"
     ]
    },
    {
     "name": "stderr",
     "output_type": "stream",
     "text": [
      "Epoch 16/20 [Train]: 100%|██████████| 86/86 [00:23<00:00,  3.71it/s]\n",
      "Epoch 16/20 [Val]: 100%|██████████| 11/11 [00:02<00:00,  4.38it/s]\n"
     ]
    },
    {
     "name": "stdout",
     "output_type": "stream",
     "text": [
      "Epoch 16/20: Train Loss=0.8288, Train Acc=0.7181, Val Loss=1.2816, Val Acc=0.5909\n"
     ]
    },
    {
     "name": "stderr",
     "output_type": "stream",
     "text": [
      "Epoch 17/20 [Train]: 100%|██████████| 86/86 [00:23<00:00,  3.66it/s]\n",
      "Epoch 17/20 [Val]: 100%|██████████| 11/11 [00:02<00:00,  3.89it/s]\n"
     ]
    },
    {
     "name": "stdout",
     "output_type": "stream",
     "text": [
      "Epoch 17/20: Train Loss=0.7883, Train Acc=0.7403, Val Loss=1.2429, Val Acc=0.5821\n"
     ]
    },
    {
     "name": "stderr",
     "output_type": "stream",
     "text": [
      "Epoch 18/20 [Train]: 100%|██████████| 86/86 [00:23<00:00,  3.71it/s]\n",
      "Epoch 18/20 [Val]: 100%|██████████| 11/11 [00:02<00:00,  3.95it/s]\n"
     ]
    },
    {
     "name": "stdout",
     "output_type": "stream",
     "text": [
      "Epoch 18/20: Train Loss=0.7640, Train Acc=0.7526, Val Loss=1.2909, Val Acc=0.5880\n"
     ]
    },
    {
     "name": "stderr",
     "output_type": "stream",
     "text": [
      "Epoch 19/20 [Train]: 100%|██████████| 86/86 [00:23<00:00,  3.71it/s]\n",
      "Epoch 19/20 [Val]: 100%|██████████| 11/11 [00:02<00:00,  3.85it/s]\n"
     ]
    },
    {
     "name": "stdout",
     "output_type": "stream",
     "text": [
      "Epoch 19/20: Train Loss=0.7177, Train Acc=0.7704, Val Loss=1.1094, Val Acc=0.6540\n",
      "Best model saved in d:\\Uni\\Master\\1 Bimestre\\Foundations\\Assignments\\Weather-Clasification\\models\\best_model_CNN_V1_reg.pth (val_acc=0.6540)\n"
     ]
    },
    {
     "name": "stderr",
     "output_type": "stream",
     "text": [
      "Epoch 20/20 [Train]: 100%|██████████| 86/86 [00:23<00:00,  3.69it/s]\n",
      "Epoch 20/20 [Val]: 100%|██████████| 11/11 [00:02<00:00,  4.12it/s]"
     ]
    },
    {
     "name": "stdout",
     "output_type": "stream",
     "text": [
      "Epoch 20/20: Train Loss=0.7101, Train Acc=0.7653, Val Loss=1.1514, Val Acc=0.6466\n",
      "Training complete. Best val_acc=0.6540\n",
      "MMetrics saved in d:\\Uni\\Master\\1 Bimestre\\Foundations\\Assignments\\Weather-Clasification\\reports\\metrics\\metrics_CNN_V1_reg.pkl\n"
     ]
    },
    {
     "name": "stderr",
     "output_type": "stream",
     "text": [
      "\n"
     ]
    }
   ],
   "source": [
    "input_dim = 64*64*3  # matches the Resize transform\n",
    "model = train_model(CNN_V1_reg, \n",
    "                    train_dir=\"../../data/train\", \n",
    "                    val_dir=\"../../data/val\", \n",
    "                    input_dim=input_dim,\n",
    "                    num_classes=11,\n",
    "                    batch_size=64,\n",
    "                    epochs=20,\n",
    "                    lr=1e-3,\n",
    "                    device=\"cuda\" if torch.cuda.is_available() else \"cpu\")"
   ]
  },
  {
   "cell_type": "code",
   "execution_count": 2,
   "id": "004dd488",
   "metadata": {},
   "outputs": [
    {
     "name": "stderr",
     "output_type": "stream",
     "text": [
      "Epoch 1/15 [Train]: 100%|██████████| 86/86 [00:25<00:00,  3.39it/s]\n",
      "Epoch 1/15 [Val]: 100%|██████████| 11/11 [00:02<00:00,  4.16it/s]\n"
     ]
    },
    {
     "name": "stdout",
     "output_type": "stream",
     "text": [
      "Epoch 1/15: Train Loss=1.9769, Train Acc=0.3060, Val Loss=1.6962, Val Acc=0.4282\n",
      "Best model saved in d:\\Uni\\Master\\1 Bimestre\\Foundations\\Assignments\\Weather-Clasification\\models\\best_model_CNN_V2.pth (val_acc=0.4282)\n"
     ]
    },
    {
     "name": "stderr",
     "output_type": "stream",
     "text": [
      "Epoch 2/15 [Train]: 100%|██████████| 86/86 [00:28<00:00,  2.99it/s]\n",
      "Epoch 2/15 [Val]: 100%|██████████| 11/11 [00:02<00:00,  4.05it/s]\n"
     ]
    },
    {
     "name": "stdout",
     "output_type": "stream",
     "text": [
      "Epoch 2/15: Train Loss=1.5314, Train Acc=0.4933, Val Loss=1.4232, Val Acc=0.5176\n",
      "Best model saved in d:\\Uni\\Master\\1 Bimestre\\Foundations\\Assignments\\Weather-Clasification\\models\\best_model_CNN_V2.pth (val_acc=0.5176)\n"
     ]
    },
    {
     "name": "stderr",
     "output_type": "stream",
     "text": [
      "Epoch 3/15 [Train]: 100%|██████████| 86/86 [00:26<00:00,  3.20it/s]\n",
      "Epoch 3/15 [Val]: 100%|██████████| 11/11 [00:02<00:00,  4.26it/s]\n"
     ]
    },
    {
     "name": "stdout",
     "output_type": "stream",
     "text": [
      "Epoch 3/15: Train Loss=1.3235, Train Acc=0.5512, Val Loss=1.2807, Val Acc=0.5718\n",
      "Best model saved in d:\\Uni\\Master\\1 Bimestre\\Foundations\\Assignments\\Weather-Clasification\\models\\best_model_CNN_V2.pth (val_acc=0.5718)\n"
     ]
    },
    {
     "name": "stderr",
     "output_type": "stream",
     "text": [
      "Epoch 4/15 [Train]: 100%|██████████| 86/86 [00:26<00:00,  3.24it/s]\n",
      "Epoch 4/15 [Val]: 100%|██████████| 11/11 [00:02<00:00,  4.13it/s]\n"
     ]
    },
    {
     "name": "stdout",
     "output_type": "stream",
     "text": [
      "Epoch 4/15: Train Loss=1.2030, Train Acc=0.5917, Val Loss=1.2013, Val Acc=0.5894\n",
      "Best model saved in d:\\Uni\\Master\\1 Bimestre\\Foundations\\Assignments\\Weather-Clasification\\models\\best_model_CNN_V2.pth (val_acc=0.5894)\n"
     ]
    },
    {
     "name": "stderr",
     "output_type": "stream",
     "text": [
      "Epoch 5/15 [Train]: 100%|██████████| 86/86 [00:28<00:00,  2.99it/s]\n",
      "Epoch 5/15 [Val]: 100%|██████████| 11/11 [00:02<00:00,  4.08it/s]\n"
     ]
    },
    {
     "name": "stdout",
     "output_type": "stream",
     "text": [
      "Epoch 5/15: Train Loss=1.1179, Train Acc=0.6200, Val Loss=1.1042, Val Acc=0.6510\n",
      "Best model saved in d:\\Uni\\Master\\1 Bimestre\\Foundations\\Assignments\\Weather-Clasification\\models\\best_model_CNN_V2.pth (val_acc=0.6510)\n"
     ]
    },
    {
     "name": "stderr",
     "output_type": "stream",
     "text": [
      "Epoch 6/15 [Train]: 100%|██████████| 86/86 [00:28<00:00,  3.00it/s]\n",
      "Epoch 6/15 [Val]: 100%|██████████| 11/11 [00:02<00:00,  4.09it/s]\n"
     ]
    },
    {
     "name": "stdout",
     "output_type": "stream",
     "text": [
      "Epoch 6/15: Train Loss=1.0411, Train Acc=0.6470, Val Loss=1.1433, Val Acc=0.6305\n"
     ]
    },
    {
     "name": "stderr",
     "output_type": "stream",
     "text": [
      "Epoch 7/15 [Train]: 100%|██████████| 86/86 [00:28<00:00,  3.02it/s]\n",
      "Epoch 7/15 [Val]: 100%|██████████| 11/11 [00:02<00:00,  4.04it/s]\n"
     ]
    },
    {
     "name": "stdout",
     "output_type": "stream",
     "text": [
      "Epoch 7/15: Train Loss=0.9743, Train Acc=0.6747, Val Loss=1.1137, Val Acc=0.6144\n"
     ]
    },
    {
     "name": "stderr",
     "output_type": "stream",
     "text": [
      "Epoch 8/15 [Train]: 100%|██████████| 86/86 [00:28<00:00,  3.03it/s]\n",
      "Epoch 8/15 [Val]: 100%|██████████| 11/11 [00:02<00:00,  4.11it/s]\n"
     ]
    },
    {
     "name": "stdout",
     "output_type": "stream",
     "text": [
      "Epoch 8/15: Train Loss=0.9172, Train Acc=0.6813, Val Loss=1.1082, Val Acc=0.6364\n"
     ]
    },
    {
     "name": "stderr",
     "output_type": "stream",
     "text": [
      "Epoch 9/15 [Train]: 100%|██████████| 86/86 [00:28<00:00,  3.03it/s]\n",
      "Epoch 9/15 [Val]: 100%|██████████| 11/11 [00:02<00:00,  4.05it/s]\n"
     ]
    },
    {
     "name": "stdout",
     "output_type": "stream",
     "text": [
      "Epoch 9/15: Train Loss=0.8647, Train Acc=0.6991, Val Loss=1.1135, Val Acc=0.6144\n"
     ]
    },
    {
     "name": "stderr",
     "output_type": "stream",
     "text": [
      "Epoch 10/15 [Train]: 100%|██████████| 86/86 [00:28<00:00,  3.03it/s]\n",
      "Epoch 10/15 [Val]: 100%|██████████| 11/11 [00:02<00:00,  4.17it/s]\n"
     ]
    },
    {
     "name": "stdout",
     "output_type": "stream",
     "text": [
      "Epoch 10/15: Train Loss=0.8008, Train Acc=0.7285, Val Loss=1.1863, Val Acc=0.6129\n"
     ]
    },
    {
     "name": "stderr",
     "output_type": "stream",
     "text": [
      "Epoch 11/15 [Train]: 100%|██████████| 86/86 [00:28<00:00,  2.99it/s]\n",
      "Epoch 11/15 [Val]: 100%|██████████| 11/11 [00:02<00:00,  4.08it/s]\n"
     ]
    },
    {
     "name": "stdout",
     "output_type": "stream",
     "text": [
      "Epoch 11/15: Train Loss=0.7409, Train Acc=0.7456, Val Loss=1.1316, Val Acc=0.6569\n",
      "Best model saved in d:\\Uni\\Master\\1 Bimestre\\Foundations\\Assignments\\Weather-Clasification\\models\\best_model_CNN_V2.pth (val_acc=0.6569)\n"
     ]
    },
    {
     "name": "stderr",
     "output_type": "stream",
     "text": [
      "Epoch 12/15 [Train]: 100%|██████████| 86/86 [00:27<00:00,  3.14it/s]\n",
      "Epoch 12/15 [Val]: 100%|██████████| 11/11 [00:02<00:00,  4.22it/s]\n"
     ]
    },
    {
     "name": "stdout",
     "output_type": "stream",
     "text": [
      "Epoch 12/15: Train Loss=0.6806, Train Acc=0.7657, Val Loss=1.1196, Val Acc=0.6554\n"
     ]
    },
    {
     "name": "stderr",
     "output_type": "stream",
     "text": [
      "Epoch 13/15 [Train]: 100%|██████████| 86/86 [00:25<00:00,  3.43it/s]\n",
      "Epoch 13/15 [Val]: 100%|██████████| 11/11 [00:02<00:00,  4.14it/s]\n"
     ]
    },
    {
     "name": "stdout",
     "output_type": "stream",
     "text": [
      "Epoch 13/15: Train Loss=0.6327, Train Acc=0.7834, Val Loss=1.1181, Val Acc=0.6716\n",
      "Best model saved in d:\\Uni\\Master\\1 Bimestre\\Foundations\\Assignments\\Weather-Clasification\\models\\best_model_CNN_V2.pth (val_acc=0.6716)\n"
     ]
    },
    {
     "name": "stderr",
     "output_type": "stream",
     "text": [
      "Epoch 14/15 [Train]: 100%|██████████| 86/86 [00:24<00:00,  3.44it/s]\n",
      "Epoch 14/15 [Val]: 100%|██████████| 11/11 [00:02<00:00,  4.17it/s]\n"
     ]
    },
    {
     "name": "stdout",
     "output_type": "stream",
     "text": [
      "Epoch 14/15: Train Loss=0.5587, Train Acc=0.8076, Val Loss=1.2008, Val Acc=0.6686\n"
     ]
    },
    {
     "name": "stderr",
     "output_type": "stream",
     "text": [
      "Epoch 15/15 [Train]: 100%|██████████| 86/86 [00:24<00:00,  3.45it/s]\n",
      "Epoch 15/15 [Val]: 100%|██████████| 11/11 [00:02<00:00,  4.19it/s]\n"
     ]
    },
    {
     "name": "stdout",
     "output_type": "stream",
     "text": [
      "Epoch 15/15: Train Loss=0.5371, Train Acc=0.8166, Val Loss=1.2155, Val Acc=0.6921\n",
      "Best model saved in d:\\Uni\\Master\\1 Bimestre\\Foundations\\Assignments\\Weather-Clasification\\models\\best_model_CNN_V2.pth (val_acc=0.6921)\n",
      "Training complete. Best val_acc=0.6921\n",
      "MMetrics saved in d:\\Uni\\Master\\1 Bimestre\\Foundations\\Assignments\\Weather-Clasification\\reports\\metrics\\metrics_CNN_V2.pkl\n"
     ]
    }
   ],
   "source": [
    "input_dim = 128*128*3  # matches the Resize transform\n",
    "model = train_model(CNN_V2, \n",
    "                    train_dir=\"../../data/train\", \n",
    "                    val_dir=\"../../data/val\", \n",
    "                    input_dim=input_dim,\n",
    "                    num_classes=11,\n",
    "                    batch_size=64,\n",
    "                    epochs=15,\n",
    "                    lr=1e-3,\n",
    "                    device=\"cuda\" if torch.cuda.is_available() else \"cpu\")"
   ]
  }
 ],
 "metadata": {
  "kernelspec": {
   "display_name": "Python 3",
   "language": "python",
   "name": "python3"
  },
  "language_info": {
   "codemirror_mode": {
    "name": "ipython",
    "version": 3
   },
   "file_extension": ".py",
   "mimetype": "text/x-python",
   "name": "python",
   "nbconvert_exporter": "python",
   "pygments_lexer": "ipython3",
   "version": "3.12.0"
  }
 },
 "nbformat": 4,
 "nbformat_minor": 5
}
