{
 "cells": [
  {
   "cell_type": "code",
   "execution_count": 1,
   "id": "d2bc7a26",
   "metadata": {},
   "outputs": [],
   "source": [
    "import sys\n",
    "import os\n",
    "\n",
    "# Add the root folder of your project\n",
    "root_path = os.path.abspath(os.path.join(\"..\", \"..\"))  # two levels up from experiments\n",
    "sys.path.append(root_path)\n",
    "\n",
    "from weather_classification.models.mlp import MLPClassifier\n",
    "from weather_classification.weather_dataset import WeatherDataset\n",
    "from weather_classification.train import train_model\n",
    "from weather_classification.models.modern_lenet import LeNetModern\n",
    "\n",
    "import torch"
   ]
  },
  {
   "cell_type": "code",
   "execution_count": 4,
   "id": "4596f311",
   "metadata": {},
   "outputs": [
    {
     "name": "stderr",
     "output_type": "stream",
     "text": [
      "Epoch 1/30 [Train]: 100%|██████████| 86/86 [00:24<00:00,  3.46it/s]\n",
      "Epoch 1/30 [Val]: 100%|██████████| 11/11 [00:02<00:00,  4.14it/s]\n"
     ]
    },
    {
     "name": "stdout",
     "output_type": "stream",
     "text": [
      "Epoch 1/30: Train Loss=2.1685, Train Acc=0.2505, Val Loss=1.8282, Val Acc=0.3959\n",
      "Best model saved (val_acc=0.3959)\n"
     ]
    },
    {
     "name": "stderr",
     "output_type": "stream",
     "text": [
      "Epoch 2/30 [Train]: 100%|██████████| 86/86 [00:22<00:00,  3.87it/s]\n",
      "Epoch 2/30 [Val]: 100%|██████████| 11/11 [00:02<00:00,  4.29it/s]\n"
     ]
    },
    {
     "name": "stdout",
     "output_type": "stream",
     "text": [
      "Epoch 2/30: Train Loss=1.8152, Train Acc=0.3882, Val Loss=1.6182, Val Acc=0.4707\n",
      "Best model saved (val_acc=0.4707)\n"
     ]
    },
    {
     "name": "stderr",
     "output_type": "stream",
     "text": [
      "Epoch 3/30 [Train]: 100%|██████████| 86/86 [00:23<00:00,  3.67it/s]\n",
      "Epoch 3/30 [Val]: 100%|██████████| 11/11 [00:02<00:00,  3.73it/s]\n"
     ]
    },
    {
     "name": "stdout",
     "output_type": "stream",
     "text": [
      "Epoch 3/30: Train Loss=1.7463, Train Acc=0.4198, Val Loss=1.5869, Val Acc=0.4780\n",
      "Best model saved (val_acc=0.4780)\n"
     ]
    },
    {
     "name": "stderr",
     "output_type": "stream",
     "text": [
      "Epoch 4/30 [Train]: 100%|██████████| 86/86 [00:23<00:00,  3.70it/s]\n",
      "Epoch 4/30 [Val]: 100%|██████████| 11/11 [00:02<00:00,  4.00it/s]\n"
     ]
    },
    {
     "name": "stdout",
     "output_type": "stream",
     "text": [
      "Epoch 4/30: Train Loss=1.6978, Train Acc=0.4347, Val Loss=1.6756, Val Acc=0.4736\n"
     ]
    },
    {
     "name": "stderr",
     "output_type": "stream",
     "text": [
      "Epoch 5/30 [Train]: 100%|██████████| 86/86 [00:23<00:00,  3.72it/s]\n",
      "Epoch 5/30 [Val]: 100%|██████████| 11/11 [00:02<00:00,  4.03it/s]\n"
     ]
    },
    {
     "name": "stdout",
     "output_type": "stream",
     "text": [
      "Epoch 5/30: Train Loss=1.6863, Train Acc=0.4385, Val Loss=1.6077, Val Acc=0.4780\n"
     ]
    },
    {
     "name": "stderr",
     "output_type": "stream",
     "text": [
      "Epoch 6/30 [Train]: 100%|██████████| 86/86 [00:23<00:00,  3.73it/s]\n",
      "Epoch 6/30 [Val]: 100%|██████████| 11/11 [00:02<00:00,  3.89it/s]\n"
     ]
    },
    {
     "name": "stdout",
     "output_type": "stream",
     "text": [
      "Epoch 6/30: Train Loss=1.6831, Train Acc=0.4380, Val Loss=1.5659, Val Acc=0.4824\n",
      "Best model saved (val_acc=0.4824)\n"
     ]
    },
    {
     "name": "stderr",
     "output_type": "stream",
     "text": [
      "Epoch 7/30 [Train]: 100%|██████████| 86/86 [00:22<00:00,  3.75it/s]\n",
      "Epoch 7/30 [Val]: 100%|██████████| 11/11 [00:02<00:00,  3.75it/s]\n"
     ]
    },
    {
     "name": "stdout",
     "output_type": "stream",
     "text": [
      "Epoch 7/30: Train Loss=1.6567, Train Acc=0.4551, Val Loss=1.5738, Val Acc=0.5000\n",
      "Best model saved (val_acc=0.5000)\n"
     ]
    },
    {
     "name": "stderr",
     "output_type": "stream",
     "text": [
      "Epoch 8/30 [Train]: 100%|██████████| 86/86 [00:22<00:00,  3.74it/s]\n",
      "Epoch 8/30 [Val]: 100%|██████████| 11/11 [00:02<00:00,  3.78it/s]\n"
     ]
    },
    {
     "name": "stdout",
     "output_type": "stream",
     "text": [
      "Epoch 8/30: Train Loss=1.6381, Train Acc=0.4561, Val Loss=1.5674, Val Acc=0.5029\n",
      "Best model saved (val_acc=0.5029)\n"
     ]
    },
    {
     "name": "stderr",
     "output_type": "stream",
     "text": [
      "Epoch 9/30 [Train]: 100%|██████████| 86/86 [00:23<00:00,  3.70it/s]\n",
      "Epoch 9/30 [Val]: 100%|██████████| 11/11 [00:02<00:00,  4.38it/s]\n"
     ]
    },
    {
     "name": "stdout",
     "output_type": "stream",
     "text": [
      "Epoch 9/30: Train Loss=1.6627, Train Acc=0.4420, Val Loss=1.6087, Val Acc=0.4751\n"
     ]
    },
    {
     "name": "stderr",
     "output_type": "stream",
     "text": [
      "Epoch 10/30 [Train]: 100%|██████████| 86/86 [00:22<00:00,  3.85it/s]\n",
      "Epoch 10/30 [Val]: 100%|██████████| 11/11 [00:02<00:00,  4.43it/s]\n"
     ]
    },
    {
     "name": "stdout",
     "output_type": "stream",
     "text": [
      "Epoch 10/30: Train Loss=1.6171, Train Acc=0.4668, Val Loss=1.5606, Val Acc=0.5029\n"
     ]
    },
    {
     "name": "stderr",
     "output_type": "stream",
     "text": [
      "Epoch 11/30 [Train]: 100%|██████████| 86/86 [00:21<00:00,  3.96it/s]\n",
      "Epoch 11/30 [Val]: 100%|██████████| 11/11 [00:02<00:00,  3.84it/s]\n"
     ]
    },
    {
     "name": "stdout",
     "output_type": "stream",
     "text": [
      "Epoch 11/30: Train Loss=1.6000, Train Acc=0.4679, Val Loss=1.5423, Val Acc=0.5117\n",
      "Best model saved (val_acc=0.5117)\n"
     ]
    },
    {
     "name": "stderr",
     "output_type": "stream",
     "text": [
      "Epoch 12/30 [Train]: 100%|██████████| 86/86 [00:22<00:00,  3.90it/s]\n",
      "Epoch 12/30 [Val]: 100%|██████████| 11/11 [00:03<00:00,  3.47it/s]\n"
     ]
    },
    {
     "name": "stdout",
     "output_type": "stream",
     "text": [
      "Epoch 12/30: Train Loss=1.5990, Train Acc=0.4628, Val Loss=1.5953, Val Acc=0.5088\n"
     ]
    },
    {
     "name": "stderr",
     "output_type": "stream",
     "text": [
      "Epoch 13/30 [Train]: 100%|██████████| 86/86 [00:23<00:00,  3.67it/s]\n",
      "Epoch 13/30 [Val]: 100%|██████████| 11/11 [00:02<00:00,  3.95it/s]\n"
     ]
    },
    {
     "name": "stdout",
     "output_type": "stream",
     "text": [
      "Epoch 13/30: Train Loss=1.5874, Train Acc=0.4697, Val Loss=1.5801, Val Acc=0.4809\n"
     ]
    },
    {
     "name": "stderr",
     "output_type": "stream",
     "text": [
      "Epoch 14/30 [Train]: 100%|██████████| 86/86 [00:23<00:00,  3.73it/s]\n",
      "Epoch 14/30 [Val]: 100%|██████████| 11/11 [00:02<00:00,  3.69it/s]\n"
     ]
    },
    {
     "name": "stdout",
     "output_type": "stream",
     "text": [
      "Epoch 14/30: Train Loss=1.5964, Train Acc=0.4739, Val Loss=1.5757, Val Acc=0.5029\n"
     ]
    },
    {
     "name": "stderr",
     "output_type": "stream",
     "text": [
      "Epoch 15/30 [Train]: 100%|██████████| 86/86 [00:22<00:00,  3.82it/s]\n",
      "Epoch 15/30 [Val]: 100%|██████████| 11/11 [00:02<00:00,  3.87it/s]\n"
     ]
    },
    {
     "name": "stdout",
     "output_type": "stream",
     "text": [
      "Epoch 15/30: Train Loss=1.5846, Train Acc=0.4778, Val Loss=1.5312, Val Acc=0.4971\n"
     ]
    },
    {
     "name": "stderr",
     "output_type": "stream",
     "text": [
      "Epoch 16/30 [Train]: 100%|██████████| 86/86 [00:22<00:00,  3.76it/s]\n",
      "Epoch 16/30 [Val]: 100%|██████████| 11/11 [00:02<00:00,  4.07it/s]\n"
     ]
    },
    {
     "name": "stdout",
     "output_type": "stream",
     "text": [
      "Epoch 16/30: Train Loss=1.5797, Train Acc=0.4759, Val Loss=1.5749, Val Acc=0.5103\n"
     ]
    },
    {
     "name": "stderr",
     "output_type": "stream",
     "text": [
      "Epoch 17/30 [Train]: 100%|██████████| 86/86 [00:22<00:00,  3.75it/s]\n",
      "Epoch 17/30 [Val]: 100%|██████████| 11/11 [00:02<00:00,  3.71it/s]\n"
     ]
    },
    {
     "name": "stdout",
     "output_type": "stream",
     "text": [
      "Epoch 17/30: Train Loss=1.5656, Train Acc=0.4861, Val Loss=1.6068, Val Acc=0.5161\n",
      "Best model saved (val_acc=0.5161)\n"
     ]
    },
    {
     "name": "stderr",
     "output_type": "stream",
     "text": [
      "Epoch 18/30 [Train]: 100%|██████████| 86/86 [00:22<00:00,  3.80it/s]\n",
      "Epoch 18/30 [Val]: 100%|██████████| 11/11 [00:02<00:00,  4.05it/s]\n"
     ]
    },
    {
     "name": "stdout",
     "output_type": "stream",
     "text": [
      "Epoch 18/30: Train Loss=1.5368, Train Acc=0.4951, Val Loss=1.5349, Val Acc=0.5191\n",
      "Best model saved (val_acc=0.5191)\n"
     ]
    },
    {
     "name": "stderr",
     "output_type": "stream",
     "text": [
      "Epoch 19/30 [Train]: 100%|██████████| 86/86 [00:23<00:00,  3.71it/s]\n",
      "Epoch 19/30 [Val]: 100%|██████████| 11/11 [00:02<00:00,  4.03it/s]\n"
     ]
    },
    {
     "name": "stdout",
     "output_type": "stream",
     "text": [
      "Epoch 19/30: Train Loss=1.5598, Train Acc=0.4801, Val Loss=1.5340, Val Acc=0.5176\n"
     ]
    },
    {
     "name": "stderr",
     "output_type": "stream",
     "text": [
      "Epoch 20/30 [Train]: 100%|██████████| 86/86 [00:22<00:00,  3.77it/s]\n",
      "Epoch 20/30 [Val]: 100%|██████████| 11/11 [00:02<00:00,  4.00it/s]\n"
     ]
    },
    {
     "name": "stdout",
     "output_type": "stream",
     "text": [
      "Epoch 20/30: Train Loss=1.5531, Train Acc=0.4874, Val Loss=1.5499, Val Acc=0.5117\n"
     ]
    },
    {
     "name": "stderr",
     "output_type": "stream",
     "text": [
      "Epoch 21/30 [Train]: 100%|██████████| 86/86 [00:22<00:00,  3.81it/s]\n",
      "Epoch 21/30 [Val]: 100%|██████████| 11/11 [00:02<00:00,  3.92it/s]\n"
     ]
    },
    {
     "name": "stdout",
     "output_type": "stream",
     "text": [
      "Epoch 21/30: Train Loss=1.5252, Train Acc=0.5022, Val Loss=1.5108, Val Acc=0.5205\n",
      "Best model saved (val_acc=0.5205)\n"
     ]
    },
    {
     "name": "stderr",
     "output_type": "stream",
     "text": [
      "Epoch 22/30 [Train]: 100%|██████████| 86/86 [00:23<00:00,  3.71it/s]\n",
      "Epoch 22/30 [Val]: 100%|██████████| 11/11 [00:02<00:00,  4.03it/s]\n"
     ]
    },
    {
     "name": "stdout",
     "output_type": "stream",
     "text": [
      "Epoch 22/30: Train Loss=1.5119, Train Acc=0.4985, Val Loss=1.5294, Val Acc=0.5308\n",
      "Best model saved (val_acc=0.5308)\n"
     ]
    },
    {
     "name": "stderr",
     "output_type": "stream",
     "text": [
      "Epoch 23/30 [Train]: 100%|██████████| 86/86 [00:23<00:00,  3.65it/s]\n",
      "Epoch 23/30 [Val]: 100%|██████████| 11/11 [00:02<00:00,  4.10it/s]\n"
     ]
    },
    {
     "name": "stdout",
     "output_type": "stream",
     "text": [
      "Epoch 23/30: Train Loss=1.5725, Train Acc=0.4907, Val Loss=1.5489, Val Acc=0.5088\n"
     ]
    },
    {
     "name": "stderr",
     "output_type": "stream",
     "text": [
      "Epoch 24/30 [Train]: 100%|██████████| 86/86 [00:21<00:00,  4.09it/s]\n",
      "Epoch 24/30 [Val]: 100%|██████████| 11/11 [00:02<00:00,  4.18it/s]\n"
     ]
    },
    {
     "name": "stdout",
     "output_type": "stream",
     "text": [
      "Epoch 24/30: Train Loss=1.5361, Train Acc=0.4892, Val Loss=1.5355, Val Acc=0.5381\n",
      "Best model saved (val_acc=0.5381)\n"
     ]
    },
    {
     "name": "stderr",
     "output_type": "stream",
     "text": [
      "Epoch 25/30 [Train]: 100%|██████████| 86/86 [00:20<00:00,  4.10it/s]\n",
      "Epoch 25/30 [Val]: 100%|██████████| 11/11 [00:02<00:00,  3.79it/s]\n"
     ]
    },
    {
     "name": "stdout",
     "output_type": "stream",
     "text": [
      "Epoch 25/30: Train Loss=1.5248, Train Acc=0.4934, Val Loss=1.4974, Val Acc=0.5367\n"
     ]
    },
    {
     "name": "stderr",
     "output_type": "stream",
     "text": [
      "Epoch 26/30 [Train]: 100%|██████████| 86/86 [00:21<00:00,  4.02it/s]\n",
      "Epoch 26/30 [Val]: 100%|██████████| 11/11 [00:02<00:00,  4.15it/s]\n"
     ]
    },
    {
     "name": "stdout",
     "output_type": "stream",
     "text": [
      "Epoch 26/30: Train Loss=1.5798, Train Acc=0.4772, Val Loss=1.5180, Val Acc=0.5044\n"
     ]
    },
    {
     "name": "stderr",
     "output_type": "stream",
     "text": [
      "Epoch 27/30 [Train]: 100%|██████████| 86/86 [00:20<00:00,  4.14it/s]\n",
      "Epoch 27/30 [Val]: 100%|██████████| 11/11 [00:02<00:00,  4.23it/s]\n"
     ]
    },
    {
     "name": "stdout",
     "output_type": "stream",
     "text": [
      "Epoch 27/30: Train Loss=1.5336, Train Acc=0.5000, Val Loss=1.5164, Val Acc=0.5337\n"
     ]
    },
    {
     "name": "stderr",
     "output_type": "stream",
     "text": [
      "Epoch 28/30 [Train]: 100%|██████████| 86/86 [00:20<00:00,  4.23it/s]\n",
      "Epoch 28/30 [Val]: 100%|██████████| 11/11 [00:02<00:00,  4.26it/s]\n"
     ]
    },
    {
     "name": "stdout",
     "output_type": "stream",
     "text": [
      "Epoch 28/30: Train Loss=1.5373, Train Acc=0.4876, Val Loss=1.4752, Val Acc=0.4985\n"
     ]
    },
    {
     "name": "stderr",
     "output_type": "stream",
     "text": [
      "Epoch 29/30 [Train]: 100%|██████████| 86/86 [00:20<00:00,  4.20it/s]\n",
      "Epoch 29/30 [Val]: 100%|██████████| 11/11 [00:02<00:00,  4.23it/s]\n"
     ]
    },
    {
     "name": "stdout",
     "output_type": "stream",
     "text": [
      "Epoch 29/30: Train Loss=1.5134, Train Acc=0.5004, Val Loss=1.4824, Val Acc=0.5323\n"
     ]
    },
    {
     "name": "stderr",
     "output_type": "stream",
     "text": [
      "Epoch 30/30 [Train]: 100%|██████████| 86/86 [00:20<00:00,  4.19it/s]\n",
      "Epoch 30/30 [Val]: 100%|██████████| 11/11 [00:02<00:00,  4.29it/s]"
     ]
    },
    {
     "name": "stdout",
     "output_type": "stream",
     "text": [
      "Epoch 30/30: Train Loss=1.5027, Train Acc=0.5049, Val Loss=1.4856, Val Acc=0.5352\n",
      "Training complete. Best val_acc=0.5381\n"
     ]
    },
    {
     "name": "stderr",
     "output_type": "stream",
     "text": [
      "\n"
     ]
    }
   ],
   "source": [
    "input_dim = 64*64*3  # matches the Resize transform\n",
    "model = train_model(MLPClassifier, \n",
    "                    train_dir=\"../../data/train\", \n",
    "                    val_dir=\"../../data/val\", \n",
    "                    input_dim=input_dim,\n",
    "                    num_classes=11,\n",
    "                    batch_size=64,\n",
    "                    epochs=30,\n",
    "                    lr=1e-3,\n",
    "                    device=\"cuda\" if torch.cuda.is_available() else \"cpu\")\n"
   ]
  },
  {
   "cell_type": "code",
   "execution_count": 2,
   "id": "0fc75620",
   "metadata": {},
   "outputs": [
    {
     "name": "stderr",
     "output_type": "stream",
     "text": [
      "Epoch 1/15 [Train]: 100%|██████████| 86/86 [00:22<00:00,  3.85it/s]\n",
      "Epoch 1/15 [Val]: 100%|██████████| 11/11 [00:02<00:00,  4.28it/s]\n"
     ]
    },
    {
     "name": "stdout",
     "output_type": "stream",
     "text": [
      "Epoch 1/15: Train Loss=2.1569, Train Acc=0.2438, Val Loss=1.9039, Val Acc=0.3314\n",
      "Best model saved (val_acc=0.3314)\n"
     ]
    },
    {
     "name": "stderr",
     "output_type": "stream",
     "text": [
      "Epoch 2/15 [Train]: 100%|██████████| 86/86 [00:22<00:00,  3.88it/s]\n",
      "Epoch 2/15 [Val]: 100%|██████████| 11/11 [00:02<00:00,  4.34it/s]\n"
     ]
    },
    {
     "name": "stdout",
     "output_type": "stream",
     "text": [
      "Epoch 2/15: Train Loss=1.7933, Train Acc=0.3873, Val Loss=1.5520, Val Acc=0.4501\n",
      "Best model saved (val_acc=0.4501)\n"
     ]
    },
    {
     "name": "stderr",
     "output_type": "stream",
     "text": [
      "Epoch 3/15 [Train]: 100%|██████████| 86/86 [00:22<00:00,  3.77it/s]\n",
      "Epoch 3/15 [Val]: 100%|██████████| 11/11 [00:02<00:00,  4.08it/s]\n"
     ]
    },
    {
     "name": "stdout",
     "output_type": "stream",
     "text": [
      "Epoch 3/15: Train Loss=1.5666, Train Acc=0.4632, Val Loss=1.4117, Val Acc=0.5103\n",
      "Best model saved (val_acc=0.5103)\n"
     ]
    },
    {
     "name": "stderr",
     "output_type": "stream",
     "text": [
      "Epoch 4/15 [Train]: 100%|██████████| 86/86 [00:23<00:00,  3.71it/s]\n",
      "Epoch 4/15 [Val]: 100%|██████████| 11/11 [00:02<00:00,  4.28it/s]\n"
     ]
    },
    {
     "name": "stdout",
     "output_type": "stream",
     "text": [
      "Epoch 4/15: Train Loss=1.4766, Train Acc=0.4914, Val Loss=1.3649, Val Acc=0.5484\n",
      "Best model saved (val_acc=0.5484)\n"
     ]
    },
    {
     "name": "stderr",
     "output_type": "stream",
     "text": [
      "Epoch 5/15 [Train]: 100%|██████████| 86/86 [00:23<00:00,  3.70it/s]\n",
      "Epoch 5/15 [Val]: 100%|██████████| 11/11 [00:02<00:00,  4.31it/s]\n"
     ]
    },
    {
     "name": "stdout",
     "output_type": "stream",
     "text": [
      "Epoch 5/15: Train Loss=1.3373, Train Acc=0.5469, Val Loss=1.2006, Val Acc=0.6012\n",
      "Best model saved (val_acc=0.6012)\n"
     ]
    },
    {
     "name": "stderr",
     "output_type": "stream",
     "text": [
      "Epoch 6/15 [Train]: 100%|██████████| 86/86 [00:22<00:00,  3.86it/s]\n",
      "Epoch 6/15 [Val]: 100%|██████████| 11/11 [00:02<00:00,  4.04it/s]\n"
     ]
    },
    {
     "name": "stdout",
     "output_type": "stream",
     "text": [
      "Epoch 6/15: Train Loss=1.2666, Train Acc=0.5744, Val Loss=1.1623, Val Acc=0.6085\n",
      "Best model saved (val_acc=0.6085)\n"
     ]
    },
    {
     "name": "stderr",
     "output_type": "stream",
     "text": [
      "Epoch 7/15 [Train]: 100%|██████████| 86/86 [00:22<00:00,  3.91it/s]\n",
      "Epoch 7/15 [Val]: 100%|██████████| 11/11 [00:02<00:00,  4.55it/s]\n"
     ]
    },
    {
     "name": "stdout",
     "output_type": "stream",
     "text": [
      "Epoch 7/15: Train Loss=1.1952, Train Acc=0.5981, Val Loss=1.1353, Val Acc=0.6158\n",
      "Best model saved (val_acc=0.6158)\n"
     ]
    },
    {
     "name": "stderr",
     "output_type": "stream",
     "text": [
      "Epoch 8/15 [Train]: 100%|██████████| 86/86 [00:22<00:00,  3.85it/s]\n",
      "Epoch 8/15 [Val]: 100%|██████████| 11/11 [00:02<00:00,  3.91it/s]\n"
     ]
    },
    {
     "name": "stdout",
     "output_type": "stream",
     "text": [
      "Epoch 8/15: Train Loss=1.1466, Train Acc=0.6202, Val Loss=1.1066, Val Acc=0.6452\n",
      "Best model saved (val_acc=0.6452)\n"
     ]
    },
    {
     "name": "stderr",
     "output_type": "stream",
     "text": [
      "Epoch 9/15 [Train]: 100%|██████████| 86/86 [00:21<00:00,  3.94it/s]\n",
      "Epoch 9/15 [Val]: 100%|██████████| 11/11 [00:02<00:00,  3.99it/s]\n"
     ]
    },
    {
     "name": "stdout",
     "output_type": "stream",
     "text": [
      "Epoch 9/15: Train Loss=1.1011, Train Acc=0.6329, Val Loss=1.0521, Val Acc=0.6554\n",
      "Best model saved (val_acc=0.6554)\n"
     ]
    },
    {
     "name": "stderr",
     "output_type": "stream",
     "text": [
      "Epoch 10/15 [Train]: 100%|██████████| 86/86 [00:21<00:00,  3.99it/s]\n",
      "Epoch 10/15 [Val]: 100%|██████████| 11/11 [00:02<00:00,  4.10it/s]\n"
     ]
    },
    {
     "name": "stdout",
     "output_type": "stream",
     "text": [
      "Epoch 10/15: Train Loss=1.0781, Train Acc=0.6346, Val Loss=1.0787, Val Acc=0.6393\n"
     ]
    },
    {
     "name": "stderr",
     "output_type": "stream",
     "text": [
      "Epoch 11/15 [Train]: 100%|██████████| 86/86 [00:22<00:00,  3.89it/s]\n",
      "Epoch 11/15 [Val]: 100%|██████████| 11/11 [00:02<00:00,  4.08it/s]\n"
     ]
    },
    {
     "name": "stdout",
     "output_type": "stream",
     "text": [
      "Epoch 11/15: Train Loss=1.0664, Train Acc=0.6475, Val Loss=1.0981, Val Acc=0.6437\n"
     ]
    },
    {
     "name": "stderr",
     "output_type": "stream",
     "text": [
      "Epoch 12/15 [Train]: 100%|██████████| 86/86 [00:22<00:00,  3.87it/s]\n",
      "Epoch 12/15 [Val]: 100%|██████████| 11/11 [00:02<00:00,  4.31it/s]\n"
     ]
    },
    {
     "name": "stdout",
     "output_type": "stream",
     "text": [
      "Epoch 12/15: Train Loss=1.0391, Train Acc=0.6493, Val Loss=1.0473, Val Acc=0.6452\n"
     ]
    },
    {
     "name": "stderr",
     "output_type": "stream",
     "text": [
      "Epoch 13/15 [Train]: 100%|██████████| 86/86 [00:22<00:00,  3.75it/s]\n",
      "Epoch 13/15 [Val]: 100%|██████████| 11/11 [00:02<00:00,  4.25it/s]\n"
     ]
    },
    {
     "name": "stdout",
     "output_type": "stream",
     "text": [
      "Epoch 13/15: Train Loss=1.0038, Train Acc=0.6614, Val Loss=1.1124, Val Acc=0.6276\n"
     ]
    },
    {
     "name": "stderr",
     "output_type": "stream",
     "text": [
      "Epoch 14/15 [Train]: 100%|██████████| 86/86 [00:23<00:00,  3.68it/s]\n",
      "Epoch 14/15 [Val]: 100%|██████████| 11/11 [00:02<00:00,  4.24it/s]\n"
     ]
    },
    {
     "name": "stdout",
     "output_type": "stream",
     "text": [
      "Epoch 14/15: Train Loss=0.9861, Train Acc=0.6630, Val Loss=1.0389, Val Acc=0.6554\n"
     ]
    },
    {
     "name": "stderr",
     "output_type": "stream",
     "text": [
      "Epoch 15/15 [Train]: 100%|██████████| 86/86 [00:23<00:00,  3.73it/s]\n",
      "Epoch 15/15 [Val]: 100%|██████████| 11/11 [00:02<00:00,  4.24it/s]"
     ]
    },
    {
     "name": "stdout",
     "output_type": "stream",
     "text": [
      "Epoch 15/15: Train Loss=0.9923, Train Acc=0.6570, Val Loss=1.0228, Val Acc=0.6657\n",
      "Best model saved (val_acc=0.6657)\n",
      "Training complete. Best val_acc=0.6657\n"
     ]
    },
    {
     "name": "stderr",
     "output_type": "stream",
     "text": [
      "\n"
     ]
    }
   ],
   "source": [
    "input_dim = 64*64*3  # matches the Resize transform\n",
    "model = train_model(LeNetModern, \n",
    "                    train_dir=\"../../data/train\", \n",
    "                    val_dir=\"../../data/val\", \n",
    "                    input_dim=input_dim,\n",
    "                    num_classes=11,\n",
    "                    batch_size=64,\n",
    "                    epochs=15,\n",
    "                    lr=1e-3,\n",
    "                    device=\"cuda\" if torch.cuda.is_available() else \"cpu\")"
   ]
  }
 ],
 "metadata": {
  "kernelspec": {
   "display_name": "py311ml",
   "language": "python",
   "name": "python3"
  },
  "language_info": {
   "codemirror_mode": {
    "name": "ipython",
    "version": 3
   },
   "file_extension": ".py",
   "mimetype": "text/x-python",
   "name": "python",
   "nbconvert_exporter": "python",
   "pygments_lexer": "ipython3",
   "version": "3.11.13"
  }
 },
 "nbformat": 4,
 "nbformat_minor": 5
}
