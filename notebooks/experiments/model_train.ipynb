{
 "cells": [
  {
   "cell_type": "code",
   "execution_count": 4,
   "id": "d2bc7a26",
   "metadata": {},
   "outputs": [],
   "source": [
    "import sys\n",
    "import os\n",
    "\n",
    "# Add the root folder of your project\n",
    "root_path = os.path.abspath(os.path.join(\"..\", \"..\"))  # two levels up from experiments\n",
    "sys.path.append(root_path)\n",
    "\n",
    "from weather_classification.modeling.mlp import MLPClassifier\n",
    "from weather_classification.weather_dataset import WeatherDataset\n",
    "from weather_classification.train import train_model, train_model_improved\n",
    "from weather_classification.modeling.modern_lenet import LeNetModern\n",
    "from weather_classification.modeling.cnn import CNN_V1, CNN_V1_reg, CNN_V2, CNN_V2_reg, CNN_V3, CNN_V3_reg, CNN_V3_Improved\n",
    "from weather_classification.seed_utils import set_seed\n",
    "set_seed(1234)\n",
    "\n",
    "import torch"
   ]
  },
  {
   "cell_type": "code",
   "execution_count": 5,
   "id": "4596f311",
   "metadata": {},
   "outputs": [
    {
     "name": "stdout",
     "output_type": "stream",
     "text": [
      "Class counts: Counter({8: 928, 1: 680, 0: 558, 9: 553, 3: 511, 10: 496, 4: 472, 6: 420, 2: 380, 5: 301, 7: 185})\n",
      "Class weights: {0: '9.828', 1: '8.065', 2: '14.432', 3: '10.732', 4: '11.619', 5: '18.219', 6: '13.057', 7: '29.643', 8: '5.909', 9: '9.917', 10: '11.056'}\n",
      "\n",
      "Model: MLPClassifier\n",
      "Total parameters: 13,242,891\n",
      "Trainable parameters: 13,242,891\n",
      "\n"
     ]
    },
    {
     "name": "stderr",
     "output_type": "stream",
     "text": [
      "Epoch 1/50 [Train]:  28%|██▊       | 24/86 [00:24<01:03,  1.02s/it]\n"
     ]
    },
    {
     "ename": "KeyboardInterrupt",
     "evalue": "",
     "output_type": "error",
     "traceback": [
      "\u001b[31m---------------------------------------------------------------------------\u001b[39m",
      "\u001b[31mKeyboardInterrupt\u001b[39m                         Traceback (most recent call last)",
      "\u001b[36mCell\u001b[39m\u001b[36m \u001b[39m\u001b[32mIn[5]\u001b[39m\u001b[32m, line 2\u001b[39m\n\u001b[32m      1\u001b[39m input_dim = \u001b[32m64\u001b[39m*\u001b[32m64\u001b[39m*\u001b[32m3\u001b[39m  \u001b[38;5;66;03m# matches the Resize transform\u001b[39;00m\n\u001b[32m----> \u001b[39m\u001b[32m2\u001b[39m model = \u001b[43mtrain_model_improved\u001b[49m\u001b[43m(\u001b[49m\u001b[43mMLPClassifier\u001b[49m\u001b[43m,\u001b[49m\u001b[43m \u001b[49m\n\u001b[32m      3\u001b[39m \u001b[43m                    \u001b[49m\u001b[43mtrain_dir\u001b[49m\u001b[43m=\u001b[49m\u001b[33;43m\"\u001b[39;49m\u001b[33;43m../../data/train\u001b[39;49m\u001b[33;43m\"\u001b[39;49m\u001b[43m,\u001b[49m\u001b[43m \u001b[49m\n\u001b[32m      4\u001b[39m \u001b[43m                    \u001b[49m\u001b[43mval_dir\u001b[49m\u001b[43m=\u001b[49m\u001b[33;43m\"\u001b[39;49m\u001b[33;43m../../data/val\u001b[39;49m\u001b[33;43m\"\u001b[39;49m\u001b[43m,\u001b[49m\u001b[43m \u001b[49m\n\u001b[32m      5\u001b[39m \u001b[43m                    \u001b[49m\u001b[43minput_dim\u001b[49m\u001b[43m=\u001b[49m\u001b[43minput_dim\u001b[49m\u001b[43m,\u001b[49m\n\u001b[32m      6\u001b[39m \u001b[43m                    \u001b[49m\u001b[43mnum_classes\u001b[49m\u001b[43m=\u001b[49m\u001b[32;43m11\u001b[39;49m\u001b[43m,\u001b[49m\n\u001b[32m      7\u001b[39m \u001b[43m                    \u001b[49m\u001b[43mbatch_size\u001b[49m\u001b[43m=\u001b[49m\u001b[32;43m64\u001b[39;49m\u001b[43m,\u001b[49m\n\u001b[32m      8\u001b[39m \u001b[43m                    \u001b[49m\u001b[43mepochs\u001b[49m\u001b[43m=\u001b[49m\u001b[32;43m50\u001b[39;49m\u001b[43m,\u001b[49m\n\u001b[32m      9\u001b[39m \u001b[43m                    \u001b[49m\u001b[43mlr\u001b[49m\u001b[43m=\u001b[49m\u001b[32;43m1e-3\u001b[39;49m\u001b[43m,\u001b[49m\n\u001b[32m     10\u001b[39m \u001b[43m                    \u001b[49m\u001b[43mdevice\u001b[49m\u001b[43m=\u001b[49m\u001b[33;43m\"\u001b[39;49m\u001b[33;43mcuda\u001b[39;49m\u001b[33;43m\"\u001b[39;49m\u001b[43m \u001b[49m\u001b[38;5;28;43;01mif\u001b[39;49;00m\u001b[43m \u001b[49m\u001b[43mtorch\u001b[49m\u001b[43m.\u001b[49m\u001b[43mcuda\u001b[49m\u001b[43m.\u001b[49m\u001b[43mis_available\u001b[49m\u001b[43m(\u001b[49m\u001b[43m)\u001b[49m\u001b[43m \u001b[49m\u001b[38;5;28;43;01melse\u001b[39;49;00m\u001b[43m \u001b[49m\u001b[33;43m\"\u001b[39;49m\u001b[33;43mcpu\u001b[39;49m\u001b[33;43m\"\u001b[39;49m\u001b[43m)\u001b[49m\n",
      "\u001b[36mFile \u001b[39m\u001b[32md:\\Uni\\Master\\1 Bimestre\\Foundations\\Assignments\\Weather-Clasification\\weather_classification\\train.py:293\u001b[39m, in \u001b[36mtrain_model_improved\u001b[39m\u001b[34m(model_class, train_dir, val_dir, input_dim, num_classes, batch_size, epochs, lr, device, use_scheduler, label_smoothing)\u001b[39m\n\u001b[32m    290\u001b[39m model.train()\n\u001b[32m    291\u001b[39m running_loss, running_corrects = \u001b[32m0.0\u001b[39m, \u001b[32m0\u001b[39m\n\u001b[32m--> \u001b[39m\u001b[32m293\u001b[39m \u001b[43m\u001b[49m\u001b[38;5;28;43;01mfor\u001b[39;49;00m\u001b[43m \u001b[49m\u001b[43mimgs\u001b[49m\u001b[43m,\u001b[49m\u001b[43m \u001b[49m\u001b[43mlabels\u001b[49m\u001b[43m \u001b[49m\u001b[38;5;129;43;01min\u001b[39;49;00m\u001b[43m \u001b[49m\u001b[43mtqdm\u001b[49m\u001b[43m(\u001b[49m\u001b[43mtrain_loader\u001b[49m\u001b[43m,\u001b[49m\u001b[43m \u001b[49m\u001b[43mdesc\u001b[49m\u001b[43m=\u001b[49m\u001b[33;43mf\u001b[39;49m\u001b[33;43m\"\u001b[39;49m\u001b[33;43mEpoch \u001b[39;49m\u001b[38;5;132;43;01m{\u001b[39;49;00m\u001b[43mepoch\u001b[49m\u001b[43m+\u001b[49m\u001b[32;43m1\u001b[39;49m\u001b[38;5;132;43;01m}\u001b[39;49;00m\u001b[33;43m/\u001b[39;49m\u001b[38;5;132;43;01m{\u001b[39;49;00m\u001b[43mepochs\u001b[49m\u001b[38;5;132;43;01m}\u001b[39;49;00m\u001b[33;43m [Train]\u001b[39;49m\u001b[33;43m\"\u001b[39;49m\u001b[43m)\u001b[49m\u001b[43m:\u001b[49m\n\u001b[32m    294\u001b[39m \u001b[43m    \u001b[49m\u001b[43mimgs\u001b[49m\u001b[43m,\u001b[49m\u001b[43m \u001b[49m\u001b[43mlabels\u001b[49m\u001b[43m \u001b[49m\u001b[43m=\u001b[49m\u001b[43m \u001b[49m\u001b[43mimgs\u001b[49m\u001b[43m.\u001b[49m\u001b[43mto\u001b[49m\u001b[43m(\u001b[49m\u001b[43mdevice\u001b[49m\u001b[43m)\u001b[49m\u001b[43m,\u001b[49m\u001b[43m \u001b[49m\u001b[43mlabels\u001b[49m\u001b[43m.\u001b[49m\u001b[43mto\u001b[49m\u001b[43m(\u001b[49m\u001b[43mdevice\u001b[49m\u001b[43m)\u001b[49m\n\u001b[32m    296\u001b[39m \u001b[43m    \u001b[49m\u001b[43moptimizer\u001b[49m\u001b[43m.\u001b[49m\u001b[43mzero_grad\u001b[49m\u001b[43m(\u001b[49m\u001b[43m)\u001b[49m\n",
      "\u001b[36mFile \u001b[39m\u001b[32mc:\\Users\\maria\\anaconda3\\envs\\py311ml\\Lib\\site-packages\\tqdm\\std.py:1181\u001b[39m, in \u001b[36mtqdm.__iter__\u001b[39m\u001b[34m(self)\u001b[39m\n\u001b[32m   1178\u001b[39m time = \u001b[38;5;28mself\u001b[39m._time\n\u001b[32m   1180\u001b[39m \u001b[38;5;28;01mtry\u001b[39;00m:\n\u001b[32m-> \u001b[39m\u001b[32m1181\u001b[39m \u001b[43m    \u001b[49m\u001b[38;5;28;43;01mfor\u001b[39;49;00m\u001b[43m \u001b[49m\u001b[43mobj\u001b[49m\u001b[43m \u001b[49m\u001b[38;5;129;43;01min\u001b[39;49;00m\u001b[43m \u001b[49m\u001b[43miterable\u001b[49m\u001b[43m:\u001b[49m\n\u001b[32m   1182\u001b[39m \u001b[43m        \u001b[49m\u001b[38;5;28;43;01myield\u001b[39;49;00m\u001b[43m \u001b[49m\u001b[43mobj\u001b[49m\n\u001b[32m   1183\u001b[39m \u001b[43m        \u001b[49m\u001b[38;5;66;43;03m# Update and possibly print the progressbar.\u001b[39;49;00m\n\u001b[32m   1184\u001b[39m \u001b[43m        \u001b[49m\u001b[38;5;66;43;03m# Note: does not call self.update(1) for speed optimisation.\u001b[39;49;00m\n",
      "\u001b[36mFile \u001b[39m\u001b[32mc:\\Users\\maria\\anaconda3\\envs\\py311ml\\Lib\\site-packages\\torch\\utils\\data\\dataloader.py:734\u001b[39m, in \u001b[36m_BaseDataLoaderIter.__next__\u001b[39m\u001b[34m(self)\u001b[39m\n\u001b[32m    731\u001b[39m \u001b[38;5;28;01mif\u001b[39;00m \u001b[38;5;28mself\u001b[39m._sampler_iter \u001b[38;5;129;01mis\u001b[39;00m \u001b[38;5;28;01mNone\u001b[39;00m:\n\u001b[32m    732\u001b[39m     \u001b[38;5;66;03m# TODO(https://github.com/pytorch/pytorch/issues/76750)\u001b[39;00m\n\u001b[32m    733\u001b[39m     \u001b[38;5;28mself\u001b[39m._reset()  \u001b[38;5;66;03m# type: ignore[call-arg]\u001b[39;00m\n\u001b[32m--> \u001b[39m\u001b[32m734\u001b[39m data = \u001b[38;5;28;43mself\u001b[39;49m\u001b[43m.\u001b[49m\u001b[43m_next_data\u001b[49m\u001b[43m(\u001b[49m\u001b[43m)\u001b[49m\n\u001b[32m    735\u001b[39m \u001b[38;5;28mself\u001b[39m._num_yielded += \u001b[32m1\u001b[39m\n\u001b[32m    736\u001b[39m \u001b[38;5;28;01mif\u001b[39;00m (\n\u001b[32m    737\u001b[39m     \u001b[38;5;28mself\u001b[39m._dataset_kind == _DatasetKind.Iterable\n\u001b[32m    738\u001b[39m     \u001b[38;5;129;01mand\u001b[39;00m \u001b[38;5;28mself\u001b[39m._IterableDataset_len_called \u001b[38;5;129;01mis\u001b[39;00m \u001b[38;5;129;01mnot\u001b[39;00m \u001b[38;5;28;01mNone\u001b[39;00m\n\u001b[32m    739\u001b[39m     \u001b[38;5;129;01mand\u001b[39;00m \u001b[38;5;28mself\u001b[39m._num_yielded > \u001b[38;5;28mself\u001b[39m._IterableDataset_len_called\n\u001b[32m    740\u001b[39m ):\n",
      "\u001b[36mFile \u001b[39m\u001b[32mc:\\Users\\maria\\anaconda3\\envs\\py311ml\\Lib\\site-packages\\torch\\utils\\data\\dataloader.py:1492\u001b[39m, in \u001b[36m_MultiProcessingDataLoaderIter._next_data\u001b[39m\u001b[34m(self)\u001b[39m\n\u001b[32m   1489\u001b[39m     \u001b[38;5;28;01mreturn\u001b[39;00m \u001b[38;5;28mself\u001b[39m._process_data(data, worker_id)\n\u001b[32m   1491\u001b[39m \u001b[38;5;28;01massert\u001b[39;00m \u001b[38;5;129;01mnot\u001b[39;00m \u001b[38;5;28mself\u001b[39m._shutdown \u001b[38;5;129;01mand\u001b[39;00m \u001b[38;5;28mself\u001b[39m._tasks_outstanding > \u001b[32m0\u001b[39m\n\u001b[32m-> \u001b[39m\u001b[32m1492\u001b[39m idx, data = \u001b[38;5;28;43mself\u001b[39;49m\u001b[43m.\u001b[49m\u001b[43m_get_data\u001b[49m\u001b[43m(\u001b[49m\u001b[43m)\u001b[49m\n\u001b[32m   1493\u001b[39m \u001b[38;5;28mself\u001b[39m._tasks_outstanding -= \u001b[32m1\u001b[39m\n\u001b[32m   1494\u001b[39m \u001b[38;5;28;01mif\u001b[39;00m \u001b[38;5;28mself\u001b[39m._dataset_kind == _DatasetKind.Iterable:\n\u001b[32m   1495\u001b[39m     \u001b[38;5;66;03m# Check for _IterableDatasetStopIteration\u001b[39;00m\n",
      "\u001b[36mFile \u001b[39m\u001b[32mc:\\Users\\maria\\anaconda3\\envs\\py311ml\\Lib\\site-packages\\torch\\utils\\data\\dataloader.py:1444\u001b[39m, in \u001b[36m_MultiProcessingDataLoaderIter._get_data\u001b[39m\u001b[34m(self)\u001b[39m\n\u001b[32m   1442\u001b[39m \u001b[38;5;28;01melif\u001b[39;00m \u001b[38;5;28mself\u001b[39m._pin_memory:\n\u001b[32m   1443\u001b[39m     \u001b[38;5;28;01mwhile\u001b[39;00m \u001b[38;5;28mself\u001b[39m._pin_memory_thread.is_alive():\n\u001b[32m-> \u001b[39m\u001b[32m1444\u001b[39m         success, data = \u001b[38;5;28;43mself\u001b[39;49m\u001b[43m.\u001b[49m\u001b[43m_try_get_data\u001b[49m\u001b[43m(\u001b[49m\u001b[43m)\u001b[49m\n\u001b[32m   1445\u001b[39m         \u001b[38;5;28;01mif\u001b[39;00m success:\n\u001b[32m   1446\u001b[39m             \u001b[38;5;28;01mreturn\u001b[39;00m data\n",
      "\u001b[36mFile \u001b[39m\u001b[32mc:\\Users\\maria\\anaconda3\\envs\\py311ml\\Lib\\site-packages\\torch\\utils\\data\\dataloader.py:1285\u001b[39m, in \u001b[36m_MultiProcessingDataLoaderIter._try_get_data\u001b[39m\u001b[34m(self, timeout)\u001b[39m\n\u001b[32m   1272\u001b[39m \u001b[38;5;28;01mdef\u001b[39;00m\u001b[38;5;250m \u001b[39m\u001b[34m_try_get_data\u001b[39m(\u001b[38;5;28mself\u001b[39m, timeout=_utils.MP_STATUS_CHECK_INTERVAL):\n\u001b[32m   1273\u001b[39m     \u001b[38;5;66;03m# Tries to fetch data from `self._data_queue` once for a given timeout.\u001b[39;00m\n\u001b[32m   1274\u001b[39m     \u001b[38;5;66;03m# This can also be used as inner loop of fetching without timeout, with\u001b[39;00m\n\u001b[32m   (...)\u001b[39m\u001b[32m   1282\u001b[39m     \u001b[38;5;66;03m# Returns a 2-tuple:\u001b[39;00m\n\u001b[32m   1283\u001b[39m     \u001b[38;5;66;03m#   (bool: whether successfully get data, any: data if successful else None)\u001b[39;00m\n\u001b[32m   1284\u001b[39m     \u001b[38;5;28;01mtry\u001b[39;00m:\n\u001b[32m-> \u001b[39m\u001b[32m1285\u001b[39m         data = \u001b[38;5;28;43mself\u001b[39;49m\u001b[43m.\u001b[49m\u001b[43m_data_queue\u001b[49m\u001b[43m.\u001b[49m\u001b[43mget\u001b[49m\u001b[43m(\u001b[49m\u001b[43mtimeout\u001b[49m\u001b[43m=\u001b[49m\u001b[43mtimeout\u001b[49m\u001b[43m)\u001b[49m\n\u001b[32m   1286\u001b[39m         \u001b[38;5;28;01mreturn\u001b[39;00m (\u001b[38;5;28;01mTrue\u001b[39;00m, data)\n\u001b[32m   1287\u001b[39m     \u001b[38;5;28;01mexcept\u001b[39;00m \u001b[38;5;167;01mException\u001b[39;00m \u001b[38;5;28;01mas\u001b[39;00m e:\n\u001b[32m   1288\u001b[39m         \u001b[38;5;66;03m# At timeout and error, we manually check whether any worker has\u001b[39;00m\n\u001b[32m   1289\u001b[39m         \u001b[38;5;66;03m# failed. Note that this is the only mechanism for Windows to detect\u001b[39;00m\n\u001b[32m   1290\u001b[39m         \u001b[38;5;66;03m# worker failures.\u001b[39;00m\n",
      "\u001b[36mFile \u001b[39m\u001b[32mc:\\Users\\maria\\anaconda3\\envs\\py311ml\\Lib\\queue.py:180\u001b[39m, in \u001b[36mQueue.get\u001b[39m\u001b[34m(self, block, timeout)\u001b[39m\n\u001b[32m    178\u001b[39m         \u001b[38;5;28;01mif\u001b[39;00m remaining <= \u001b[32m0.0\u001b[39m:\n\u001b[32m    179\u001b[39m             \u001b[38;5;28;01mraise\u001b[39;00m Empty\n\u001b[32m--> \u001b[39m\u001b[32m180\u001b[39m         \u001b[38;5;28;43mself\u001b[39;49m\u001b[43m.\u001b[49m\u001b[43mnot_empty\u001b[49m\u001b[43m.\u001b[49m\u001b[43mwait\u001b[49m\u001b[43m(\u001b[49m\u001b[43mremaining\u001b[49m\u001b[43m)\u001b[49m\n\u001b[32m    181\u001b[39m item = \u001b[38;5;28mself\u001b[39m._get()\n\u001b[32m    182\u001b[39m \u001b[38;5;28mself\u001b[39m.not_full.notify()\n",
      "\u001b[36mFile \u001b[39m\u001b[32mc:\\Users\\maria\\anaconda3\\envs\\py311ml\\Lib\\threading.py:331\u001b[39m, in \u001b[36mCondition.wait\u001b[39m\u001b[34m(self, timeout)\u001b[39m\n\u001b[32m    329\u001b[39m \u001b[38;5;28;01melse\u001b[39;00m:\n\u001b[32m    330\u001b[39m     \u001b[38;5;28;01mif\u001b[39;00m timeout > \u001b[32m0\u001b[39m:\n\u001b[32m--> \u001b[39m\u001b[32m331\u001b[39m         gotit = \u001b[43mwaiter\u001b[49m\u001b[43m.\u001b[49m\u001b[43macquire\u001b[49m\u001b[43m(\u001b[49m\u001b[38;5;28;43;01mTrue\u001b[39;49;00m\u001b[43m,\u001b[49m\u001b[43m \u001b[49m\u001b[43mtimeout\u001b[49m\u001b[43m)\u001b[49m\n\u001b[32m    332\u001b[39m     \u001b[38;5;28;01melse\u001b[39;00m:\n\u001b[32m    333\u001b[39m         gotit = waiter.acquire(\u001b[38;5;28;01mFalse\u001b[39;00m)\n",
      "\u001b[31mKeyboardInterrupt\u001b[39m: "
     ]
    }
   ],
   "source": [
    "input_dim = 64*64*3  # matches the Resize transform\n",
    "model = train_model_improved(MLPClassifier, \n",
    "                    train_dir=\"../../data/train\", \n",
    "                    val_dir=\"../../data/val\", \n",
    "                    input_dim=input_dim,\n",
    "                    num_classes=11,\n",
    "                    batch_size=64,\n",
    "                    epochs=50,\n",
    "                    lr=1e-3,\n",
    "                    device=\"cuda\" if torch.cuda.is_available() else \"cpu\")\n"
   ]
  },
  {
   "cell_type": "code",
   "execution_count": null,
   "id": "0fc75620",
   "metadata": {},
   "outputs": [
    {
     "name": "stdout",
     "output_type": "stream",
     "text": [
      "Class counts: Counter({8: 928, 1: 680, 0: 558, 9: 553, 3: 511, 10: 496, 4: 472, 6: 420, 2: 380, 5: 301, 7: 185})\n",
      "Class weights: {0: '9.828', 1: '8.065', 2: '14.432', 3: '10.732', 4: '11.619', 5: '18.219', 6: '13.057', 7: '29.643', 8: '5.909', 9: '9.917', 10: '11.056'}\n",
      "\n",
      "Model: LeNetModern\n",
      "Total parameters: 475,947\n",
      "Trainable parameters: 475,947\n",
      "\n"
     ]
    },
    {
     "name": "stderr",
     "output_type": "stream",
     "text": [
      "Epoch 1/50 [Train]: 100%|██████████| 86/86 [00:30<00:00,  2.83it/s]\n",
      "Epoch 1/50 [Val]: 100%|██████████| 11/11 [00:08<00:00,  1.25it/s]\n"
     ]
    },
    {
     "name": "stdout",
     "output_type": "stream",
     "text": [
      "Epoch 1/50: Train Loss=2.1069, Train Acc=0.3056, Val Loss=1.7925, Val Acc=0.5191, LR=0.001000\n",
      "✓ Best model saved in d:\\Uni\\Master\\1 Bimestre\\Foundations\\Assignments\\Weather-Clasification\\models\\best_model_LeNetModern.pth (val_acc=0.5191)\n"
     ]
    },
    {
     "name": "stderr",
     "output_type": "stream",
     "text": [
      "Epoch 2/50 [Train]: 100%|██████████| 86/86 [00:31<00:00,  2.72it/s]\n",
      "Epoch 2/50 [Val]: 100%|██████████| 11/11 [00:08<00:00,  1.32it/s]\n"
     ]
    },
    {
     "name": "stdout",
     "output_type": "stream",
     "text": [
      "Epoch 2/50: Train Loss=1.7622, Train Acc=0.4796, Val Loss=1.5926, Val Acc=0.5718, LR=0.001000\n",
      "✓ Best model saved in d:\\Uni\\Master\\1 Bimestre\\Foundations\\Assignments\\Weather-Clasification\\models\\best_model_LeNetModern.pth (val_acc=0.5718)\n"
     ]
    },
    {
     "name": "stderr",
     "output_type": "stream",
     "text": [
      "Epoch 3/50 [Train]: 100%|██████████| 86/86 [00:29<00:00,  2.96it/s]\n",
      "Epoch 3/50 [Val]: 100%|██████████| 11/11 [00:08<00:00,  1.32it/s]\n"
     ]
    },
    {
     "name": "stdout",
     "output_type": "stream",
     "text": [
      "Epoch 3/50: Train Loss=1.6286, Train Acc=0.5509, Val Loss=1.5347, Val Acc=0.6070, LR=0.001000\n",
      "✓ Best model saved in d:\\Uni\\Master\\1 Bimestre\\Foundations\\Assignments\\Weather-Clasification\\models\\best_model_LeNetModern.pth (val_acc=0.6070)\n"
     ]
    },
    {
     "name": "stderr",
     "output_type": "stream",
     "text": [
      "Epoch 4/50 [Train]: 100%|██████████| 86/86 [00:28<00:00,  3.00it/s]\n",
      "Epoch 4/50 [Val]: 100%|██████████| 11/11 [00:08<00:00,  1.23it/s]\n"
     ]
    },
    {
     "name": "stdout",
     "output_type": "stream",
     "text": [
      "Epoch 4/50: Train Loss=1.5808, Train Acc=0.5762, Val Loss=1.4599, Val Acc=0.6422, LR=0.001000\n",
      "✓ Best model saved in d:\\Uni\\Master\\1 Bimestre\\Foundations\\Assignments\\Weather-Clasification\\models\\best_model_LeNetModern.pth (val_acc=0.6422)\n"
     ]
    },
    {
     "name": "stderr",
     "output_type": "stream",
     "text": [
      "Epoch 5/50 [Train]: 100%|██████████| 86/86 [00:28<00:00,  2.98it/s]\n",
      "Epoch 5/50 [Val]: 100%|██████████| 11/11 [00:08<00:00,  1.30it/s]\n"
     ]
    },
    {
     "name": "stdout",
     "output_type": "stream",
     "text": [
      "Epoch 5/50: Train Loss=1.5072, Train Acc=0.6194, Val Loss=1.4285, Val Acc=0.6510, LR=0.001000\n",
      "✓ Best model saved in d:\\Uni\\Master\\1 Bimestre\\Foundations\\Assignments\\Weather-Clasification\\models\\best_model_LeNetModern.pth (val_acc=0.6510)\n"
     ]
    },
    {
     "name": "stderr",
     "output_type": "stream",
     "text": [
      "Epoch 6/50 [Train]: 100%|██████████| 86/86 [00:28<00:00,  2.97it/s]\n",
      "Epoch 6/50 [Val]: 100%|██████████| 11/11 [00:08<00:00,  1.30it/s]\n"
     ]
    },
    {
     "name": "stdout",
     "output_type": "stream",
     "text": [
      "Epoch 6/50: Train Loss=1.4689, Train Acc=0.6284, Val Loss=1.4138, Val Acc=0.6628, LR=0.001000\n",
      "✓ Best model saved in d:\\Uni\\Master\\1 Bimestre\\Foundations\\Assignments\\Weather-Clasification\\models\\best_model_LeNetModern.pth (val_acc=0.6628)\n"
     ]
    },
    {
     "name": "stderr",
     "output_type": "stream",
     "text": [
      "Epoch 7/50 [Train]: 100%|██████████| 86/86 [00:28<00:00,  3.02it/s]\n",
      "Epoch 7/50 [Val]: 100%|██████████| 11/11 [00:08<00:00,  1.30it/s]\n"
     ]
    },
    {
     "name": "stdout",
     "output_type": "stream",
     "text": [
      "Epoch 7/50: Train Loss=1.4281, Train Acc=0.6481, Val Loss=1.3840, Val Acc=0.6569, LR=0.001000\n"
     ]
    },
    {
     "name": "stderr",
     "output_type": "stream",
     "text": [
      "Epoch 8/50 [Train]: 100%|██████████| 86/86 [00:29<00:00,  2.88it/s]\n",
      "Epoch 8/50 [Val]: 100%|██████████| 11/11 [00:08<00:00,  1.30it/s]\n"
     ]
    },
    {
     "name": "stdout",
     "output_type": "stream",
     "text": [
      "Epoch 8/50: Train Loss=1.4130, Train Acc=0.6546, Val Loss=1.3945, Val Acc=0.6848, LR=0.001000\n",
      "✓ Best model saved in d:\\Uni\\Master\\1 Bimestre\\Foundations\\Assignments\\Weather-Clasification\\models\\best_model_LeNetModern.pth (val_acc=0.6848)\n"
     ]
    },
    {
     "name": "stderr",
     "output_type": "stream",
     "text": [
      "Epoch 9/50 [Train]: 100%|██████████| 86/86 [00:28<00:00,  3.04it/s]\n",
      "Epoch 9/50 [Val]: 100%|██████████| 11/11 [00:08<00:00,  1.23it/s]\n"
     ]
    },
    {
     "name": "stdout",
     "output_type": "stream",
     "text": [
      "Epoch 9/50: Train Loss=1.3864, Train Acc=0.6661, Val Loss=1.3847, Val Acc=0.6716, LR=0.001000\n"
     ]
    },
    {
     "name": "stderr",
     "output_type": "stream",
     "text": [
      "Epoch 10/50 [Train]: 100%|██████████| 86/86 [00:29<00:00,  2.91it/s]\n",
      "Epoch 10/50 [Val]: 100%|██████████| 11/11 [00:09<00:00,  1.21it/s]\n"
     ]
    },
    {
     "name": "stdout",
     "output_type": "stream",
     "text": [
      "Epoch 10/50: Train Loss=1.3518, Train Acc=0.6789, Val Loss=1.3292, Val Acc=0.7023, LR=0.001000\n",
      "✓ Best model saved in d:\\Uni\\Master\\1 Bimestre\\Foundations\\Assignments\\Weather-Clasification\\models\\best_model_LeNetModern.pth (val_acc=0.7023)\n"
     ]
    },
    {
     "name": "stderr",
     "output_type": "stream",
     "text": [
      "Epoch 11/50 [Train]: 100%|██████████| 86/86 [00:29<00:00,  2.88it/s]\n",
      "Epoch 11/50 [Val]: 100%|██████████| 11/11 [00:09<00:00,  1.22it/s]\n"
     ]
    },
    {
     "name": "stdout",
     "output_type": "stream",
     "text": [
      "Epoch 11/50: Train Loss=1.3426, Train Acc=0.6845, Val Loss=1.3190, Val Acc=0.6994, LR=0.001000\n"
     ]
    },
    {
     "name": "stderr",
     "output_type": "stream",
     "text": [
      "Epoch 12/50 [Train]: 100%|██████████| 86/86 [00:28<00:00,  3.05it/s]\n",
      "Epoch 12/50 [Val]: 100%|██████████| 11/11 [00:08<00:00,  1.31it/s]\n"
     ]
    },
    {
     "name": "stdout",
     "output_type": "stream",
     "text": [
      "Epoch 12/50: Train Loss=1.3195, Train Acc=0.6931, Val Loss=1.3173, Val Acc=0.7053, LR=0.001000\n",
      "✓ Best model saved in d:\\Uni\\Master\\1 Bimestre\\Foundations\\Assignments\\Weather-Clasification\\models\\best_model_LeNetModern.pth (val_acc=0.7053)\n"
     ]
    },
    {
     "name": "stderr",
     "output_type": "stream",
     "text": [
      "Epoch 13/50 [Train]: 100%|██████████| 86/86 [00:29<00:00,  2.93it/s]\n",
      "Epoch 13/50 [Val]: 100%|██████████| 11/11 [00:08<00:00,  1.26it/s]\n"
     ]
    },
    {
     "name": "stdout",
     "output_type": "stream",
     "text": [
      "Epoch 13/50: Train Loss=1.2959, Train Acc=0.7051, Val Loss=1.3082, Val Acc=0.7141, LR=0.001000\n",
      "✓ Best model saved in d:\\Uni\\Master\\1 Bimestre\\Foundations\\Assignments\\Weather-Clasification\\models\\best_model_LeNetModern.pth (val_acc=0.7141)\n"
     ]
    },
    {
     "name": "stderr",
     "output_type": "stream",
     "text": [
      "Epoch 14/50 [Train]: 100%|██████████| 86/86 [00:28<00:00,  3.00it/s]\n",
      "Epoch 14/50 [Val]: 100%|██████████| 11/11 [00:08<00:00,  1.31it/s]\n"
     ]
    },
    {
     "name": "stdout",
     "output_type": "stream",
     "text": [
      "Epoch 14/50: Train Loss=1.2789, Train Acc=0.7150, Val Loss=1.2708, Val Acc=0.7097, LR=0.001000\n"
     ]
    },
    {
     "name": "stderr",
     "output_type": "stream",
     "text": [
      "Epoch 15/50 [Train]: 100%|██████████| 86/86 [00:28<00:00,  3.03it/s]\n",
      "Epoch 15/50 [Val]: 100%|██████████| 11/11 [00:08<00:00,  1.32it/s]\n"
     ]
    },
    {
     "name": "stdout",
     "output_type": "stream",
     "text": [
      "Epoch 15/50: Train Loss=1.2531, Train Acc=0.7230, Val Loss=1.3222, Val Acc=0.7082, LR=0.001000\n"
     ]
    },
    {
     "name": "stderr",
     "output_type": "stream",
     "text": [
      "Epoch 16/50 [Train]: 100%|██████████| 86/86 [00:28<00:00,  3.01it/s]\n",
      "Epoch 16/50 [Val]: 100%|██████████| 11/11 [00:08<00:00,  1.30it/s]\n"
     ]
    },
    {
     "name": "stdout",
     "output_type": "stream",
     "text": [
      "Epoch 16/50: Train Loss=1.2425, Train Acc=0.7299, Val Loss=1.2876, Val Acc=0.7214, LR=0.001000\n",
      "✓ Best model saved in d:\\Uni\\Master\\1 Bimestre\\Foundations\\Assignments\\Weather-Clasification\\models\\best_model_LeNetModern.pth (val_acc=0.7214)\n"
     ]
    },
    {
     "name": "stderr",
     "output_type": "stream",
     "text": [
      "Epoch 17/50 [Train]: 100%|██████████| 86/86 [00:28<00:00,  3.05it/s]\n",
      "Epoch 17/50 [Val]: 100%|██████████| 11/11 [00:09<00:00,  1.21it/s]\n"
     ]
    },
    {
     "name": "stdout",
     "output_type": "stream",
     "text": [
      "Epoch 17/50: Train Loss=1.2319, Train Acc=0.7327, Val Loss=1.2878, Val Acc=0.7155, LR=0.001000\n"
     ]
    },
    {
     "name": "stderr",
     "output_type": "stream",
     "text": [
      "Epoch 18/50 [Train]: 100%|██████████| 86/86 [00:28<00:00,  3.03it/s]\n",
      "Epoch 18/50 [Val]: 100%|██████████| 11/11 [00:08<00:00,  1.33it/s]\n"
     ]
    },
    {
     "name": "stdout",
     "output_type": "stream",
     "text": [
      "Epoch 18/50: Train Loss=1.1998, Train Acc=0.7449, Val Loss=1.2424, Val Acc=0.7419, LR=0.001000\n",
      "✓ Best model saved in d:\\Uni\\Master\\1 Bimestre\\Foundations\\Assignments\\Weather-Clasification\\models\\best_model_LeNetModern.pth (val_acc=0.7419)\n"
     ]
    },
    {
     "name": "stderr",
     "output_type": "stream",
     "text": [
      "Epoch 19/50 [Train]: 100%|██████████| 86/86 [00:28<00:00,  2.99it/s]\n",
      "Epoch 19/50 [Val]: 100%|██████████| 11/11 [00:08<00:00,  1.28it/s]\n"
     ]
    },
    {
     "name": "stdout",
     "output_type": "stream",
     "text": [
      "Epoch 19/50: Train Loss=1.1870, Train Acc=0.7542, Val Loss=1.2631, Val Acc=0.7170, LR=0.001000\n"
     ]
    },
    {
     "name": "stderr",
     "output_type": "stream",
     "text": [
      "Epoch 20/50 [Train]: 100%|██████████| 86/86 [00:30<00:00,  2.83it/s]\n",
      "Epoch 20/50 [Val]: 100%|██████████| 11/11 [00:11<00:00,  1.09s/it]\n"
     ]
    },
    {
     "name": "stdout",
     "output_type": "stream",
     "text": [
      "Epoch 20/50: Train Loss=1.1760, Train Acc=0.7604, Val Loss=1.2702, Val Acc=0.7214, LR=0.001000\n"
     ]
    },
    {
     "name": "stderr",
     "output_type": "stream",
     "text": [
      "Epoch 21/50 [Train]: 100%|██████████| 86/86 [00:28<00:00,  3.04it/s]\n",
      "Epoch 21/50 [Val]: 100%|██████████| 11/11 [00:09<00:00,  1.18it/s]\n"
     ]
    },
    {
     "name": "stdout",
     "output_type": "stream",
     "text": [
      "Epoch 21/50: Train Loss=1.1536, Train Acc=0.7668, Val Loss=1.2797, Val Acc=0.7302, LR=0.001000\n"
     ]
    },
    {
     "name": "stderr",
     "output_type": "stream",
     "text": [
      "Epoch 22/50 [Train]: 100%|██████████| 86/86 [00:28<00:00,  2.97it/s]\n",
      "Epoch 22/50 [Val]: 100%|██████████| 11/11 [00:08<00:00,  1.24it/s]\n"
     ]
    },
    {
     "name": "stdout",
     "output_type": "stream",
     "text": [
      "Epoch 22/50: Train Loss=1.1407, Train Acc=0.7759, Val Loss=1.2898, Val Acc=0.7287, LR=0.001000\n"
     ]
    },
    {
     "name": "stderr",
     "output_type": "stream",
     "text": [
      "Epoch 23/50 [Train]: 100%|██████████| 86/86 [00:28<00:00,  3.01it/s]\n",
      "Epoch 23/50 [Val]: 100%|██████████| 11/11 [00:08<00:00,  1.32it/s]\n"
     ]
    },
    {
     "name": "stdout",
     "output_type": "stream",
     "text": [
      "Epoch 23/50: Train Loss=1.1279, Train Acc=0.7761, Val Loss=1.2379, Val Acc=0.7449, LR=0.001000\n",
      "✓ Best model saved in d:\\Uni\\Master\\1 Bimestre\\Foundations\\Assignments\\Weather-Clasification\\models\\best_model_LeNetModern.pth (val_acc=0.7449)\n"
     ]
    },
    {
     "name": "stderr",
     "output_type": "stream",
     "text": [
      "Epoch 24/50 [Train]: 100%|██████████| 86/86 [00:28<00:00,  2.98it/s]\n",
      "Epoch 24/50 [Val]: 100%|██████████| 11/11 [00:08<00:00,  1.30it/s]\n"
     ]
    },
    {
     "name": "stdout",
     "output_type": "stream",
     "text": [
      "Epoch 24/50: Train Loss=1.1049, Train Acc=0.7945, Val Loss=1.2339, Val Acc=0.7405, LR=0.001000\n"
     ]
    },
    {
     "name": "stderr",
     "output_type": "stream",
     "text": [
      "Epoch 25/50 [Train]: 100%|██████████| 86/86 [00:28<00:00,  3.01it/s]\n",
      "Epoch 25/50 [Val]: 100%|██████████| 11/11 [00:08<00:00,  1.24it/s]\n"
     ]
    },
    {
     "name": "stdout",
     "output_type": "stream",
     "text": [
      "Epoch 25/50: Train Loss=1.0984, Train Acc=0.7918, Val Loss=1.2332, Val Acc=0.7537, LR=0.001000\n",
      "✓ Best model saved in d:\\Uni\\Master\\1 Bimestre\\Foundations\\Assignments\\Weather-Clasification\\models\\best_model_LeNetModern.pth (val_acc=0.7537)\n"
     ]
    },
    {
     "name": "stderr",
     "output_type": "stream",
     "text": [
      "Epoch 26/50 [Train]: 100%|██████████| 86/86 [00:28<00:00,  3.02it/s]\n",
      "Epoch 26/50 [Val]: 100%|██████████| 11/11 [00:09<00:00,  1.22it/s]\n"
     ]
    },
    {
     "name": "stdout",
     "output_type": "stream",
     "text": [
      "Epoch 26/50: Train Loss=1.0720, Train Acc=0.8073, Val Loss=1.2628, Val Acc=0.7507, LR=0.001000\n"
     ]
    },
    {
     "name": "stderr",
     "output_type": "stream",
     "text": [
      "Epoch 27/50 [Train]: 100%|██████████| 86/86 [00:28<00:00,  3.01it/s]\n",
      "Epoch 27/50 [Val]: 100%|██████████| 11/11 [00:08<00:00,  1.28it/s]\n"
     ]
    },
    {
     "name": "stdout",
     "output_type": "stream",
     "text": [
      "Epoch 27/50: Train Loss=1.0657, Train Acc=0.8056, Val Loss=1.2478, Val Acc=0.7537, LR=0.001000\n"
     ]
    },
    {
     "name": "stderr",
     "output_type": "stream",
     "text": [
      "Epoch 28/50 [Train]: 100%|██████████| 86/86 [00:27<00:00,  3.07it/s]\n",
      "Epoch 28/50 [Val]: 100%|██████████| 11/11 [00:08<00:00,  1.33it/s]\n"
     ]
    },
    {
     "name": "stdout",
     "output_type": "stream",
     "text": [
      "Epoch 28/50: Train Loss=1.0494, Train Acc=0.8136, Val Loss=1.2576, Val Acc=0.7331, LR=0.001000\n"
     ]
    },
    {
     "name": "stderr",
     "output_type": "stream",
     "text": [
      "Epoch 29/50 [Train]: 100%|██████████| 86/86 [00:28<00:00,  2.99it/s]\n",
      "Epoch 29/50 [Val]: 100%|██████████| 11/11 [00:08<00:00,  1.25it/s]\n"
     ]
    },
    {
     "name": "stdout",
     "output_type": "stream",
     "text": [
      "Epoch 29/50: Train Loss=1.0373, Train Acc=0.8215, Val Loss=1.2757, Val Acc=0.7317, LR=0.001000\n"
     ]
    },
    {
     "name": "stderr",
     "output_type": "stream",
     "text": [
      "Epoch 30/50 [Train]: 100%|██████████| 86/86 [00:29<00:00,  2.95it/s]\n",
      "Epoch 30/50 [Val]: 100%|██████████| 11/11 [00:08<00:00,  1.24it/s]\n"
     ]
    },
    {
     "name": "stdout",
     "output_type": "stream",
     "text": [
      "Epoch 30/50: Train Loss=1.0272, Train Acc=0.8220, Val Loss=1.2647, Val Acc=0.7258, LR=0.001000\n"
     ]
    },
    {
     "name": "stderr",
     "output_type": "stream",
     "text": [
      "Epoch 31/50 [Train]: 100%|██████████| 86/86 [00:28<00:00,  3.01it/s]\n",
      "Epoch 31/50 [Val]: 100%|██████████| 11/11 [00:08<00:00,  1.32it/s]\n"
     ]
    },
    {
     "name": "stdout",
     "output_type": "stream",
     "text": [
      "Epoch 31/50: Train Loss=1.0038, Train Acc=0.8375, Val Loss=1.2209, Val Acc=0.7537, LR=0.001000\n"
     ]
    },
    {
     "name": "stderr",
     "output_type": "stream",
     "text": [
      "Epoch 32/50 [Train]: 100%|██████████| 86/86 [00:28<00:00,  2.98it/s]\n",
      "Epoch 32/50 [Val]: 100%|██████████| 11/11 [00:08<00:00,  1.32it/s]\n"
     ]
    },
    {
     "name": "stdout",
     "output_type": "stream",
     "text": [
      "Epoch 32/50: Train Loss=1.0042, Train Acc=0.8434, Val Loss=1.2260, Val Acc=0.7625, LR=0.001000\n",
      "✓ Best model saved in d:\\Uni\\Master\\1 Bimestre\\Foundations\\Assignments\\Weather-Clasification\\models\\best_model_LeNetModern.pth (val_acc=0.7625)\n"
     ]
    },
    {
     "name": "stderr",
     "output_type": "stream",
     "text": [
      "Epoch 33/50 [Train]: 100%|██████████| 86/86 [00:28<00:00,  3.02it/s]\n",
      "Epoch 33/50 [Val]: 100%|██████████| 11/11 [00:09<00:00,  1.20it/s]\n"
     ]
    },
    {
     "name": "stdout",
     "output_type": "stream",
     "text": [
      "Epoch 33/50: Train Loss=0.9685, Train Acc=0.8483, Val Loss=1.3504, Val Acc=0.7258, LR=0.001000\n"
     ]
    },
    {
     "name": "stderr",
     "output_type": "stream",
     "text": [
      "Epoch 34/50 [Train]: 100%|██████████| 86/86 [00:29<00:00,  2.94it/s]\n",
      "Epoch 34/50 [Val]: 100%|██████████| 11/11 [00:08<00:00,  1.31it/s]\n"
     ]
    },
    {
     "name": "stdout",
     "output_type": "stream",
     "text": [
      "Epoch 34/50: Train Loss=0.9657, Train Acc=0.8505, Val Loss=1.2711, Val Acc=0.7331, LR=0.001000\n"
     ]
    },
    {
     "name": "stderr",
     "output_type": "stream",
     "text": [
      "Epoch 35/50 [Train]: 100%|██████████| 86/86 [00:28<00:00,  3.02it/s]\n",
      "Epoch 35/50 [Val]: 100%|██████████| 11/11 [00:09<00:00,  1.15it/s]\n"
     ]
    },
    {
     "name": "stdout",
     "output_type": "stream",
     "text": [
      "Epoch 35/50: Train Loss=0.9404, Train Acc=0.8643, Val Loss=1.2483, Val Acc=0.7375, LR=0.001000\n"
     ]
    },
    {
     "name": "stderr",
     "output_type": "stream",
     "text": [
      "Epoch 36/50 [Train]: 100%|██████████| 86/86 [00:32<00:00,  2.66it/s]\n",
      "Epoch 36/50 [Val]: 100%|██████████| 11/11 [00:10<00:00,  1.03it/s]\n"
     ]
    },
    {
     "name": "stdout",
     "output_type": "stream",
     "text": [
      "Epoch 36/50: Train Loss=0.9438, Train Acc=0.8663, Val Loss=1.2359, Val Acc=0.7654, LR=0.001000\n",
      "✓ Best model saved in d:\\Uni\\Master\\1 Bimestre\\Foundations\\Assignments\\Weather-Clasification\\models\\best_model_LeNetModern.pth (val_acc=0.7654)\n"
     ]
    },
    {
     "name": "stderr",
     "output_type": "stream",
     "text": [
      "Epoch 37/50 [Train]: 100%|██████████| 86/86 [00:31<00:00,  2.70it/s]\n",
      "Epoch 37/50 [Val]: 100%|██████████| 11/11 [00:08<00:00,  1.30it/s]\n"
     ]
    },
    {
     "name": "stdout",
     "output_type": "stream",
     "text": [
      "Epoch 37/50: Train Loss=0.9239, Train Acc=0.8775, Val Loss=1.2482, Val Acc=0.7537, LR=0.001000\n"
     ]
    },
    {
     "name": "stderr",
     "output_type": "stream",
     "text": [
      "Epoch 38/50 [Train]:  64%|██████▍   | 55/86 [00:27<00:02, 11.54it/s]"
     ]
    }
   ],
   "source": [
    "input_dim = 64*64*3  # matches the Resize transform\n",
    "model = train_model_improved(LeNetModern, \n",
    "                    train_dir=\"../../data/train\", \n",
    "                    val_dir=\"../../data/val\", \n",
    "                    input_dim=input_dim,\n",
    "                    num_classes=11,\n",
    "                    batch_size=64,\n",
    "                    epochs=50,\n",
    "                    lr=1e-3,\n",
    "                    device=\"cuda\" if torch.cuda.is_available() else \"cpu\")"
   ]
  },
  {
   "cell_type": "code",
   "execution_count": null,
   "id": "7cdf593c",
   "metadata": {},
   "outputs": [
    {
     "name": "stderr",
     "output_type": "stream",
     "text": [
      "Epoch 1/35 [Train]: 100%|██████████| 86/86 [00:23<00:00,  3.65it/s]\n",
      "Epoch 1/35 [Val]: 100%|██████████| 11/11 [00:02<00:00,  3.77it/s]\n"
     ]
    },
    {
     "name": "stdout",
     "output_type": "stream",
     "text": [
      "Epoch 1/35: Train Loss=1.9849, Train Acc=0.3009, Val Loss=1.5285, Val Acc=0.4751\n",
      "Best model saved in d:\\Uni\\Master\\1 Bimestre\\Foundations\\Assignments\\Weather-Clasification\\models\\best_model_CNN_V1.pth (val_acc=0.4751)\n"
     ]
    },
    {
     "name": "stderr",
     "output_type": "stream",
     "text": [
      "Epoch 2/35 [Train]: 100%|██████████| 86/86 [00:22<00:00,  3.84it/s]\n",
      "Epoch 2/35 [Val]: 100%|██████████| 11/11 [00:02<00:00,  4.04it/s]\n"
     ]
    },
    {
     "name": "stdout",
     "output_type": "stream",
     "text": [
      "Epoch 2/35: Train Loss=1.4658, Train Acc=0.4956, Val Loss=1.5069, Val Acc=0.4868\n",
      "Best model saved in d:\\Uni\\Master\\1 Bimestre\\Foundations\\Assignments\\Weather-Clasification\\models\\best_model_CNN_V1.pth (val_acc=0.4868)\n"
     ]
    },
    {
     "name": "stderr",
     "output_type": "stream",
     "text": [
      "Epoch 3/35 [Train]: 100%|██████████| 86/86 [00:22<00:00,  3.83it/s]\n",
      "Epoch 3/35 [Val]: 100%|██████████| 11/11 [00:02<00:00,  3.89it/s]\n"
     ]
    },
    {
     "name": "stdout",
     "output_type": "stream",
     "text": [
      "Epoch 3/35: Train Loss=1.3279, Train Acc=0.5507, Val Loss=1.2837, Val Acc=0.5469\n",
      "Best model saved in d:\\Uni\\Master\\1 Bimestre\\Foundations\\Assignments\\Weather-Clasification\\models\\best_model_CNN_V1.pth (val_acc=0.5469)\n"
     ]
    },
    {
     "name": "stderr",
     "output_type": "stream",
     "text": [
      "Epoch 4/35 [Train]: 100%|██████████| 86/86 [00:22<00:00,  3.88it/s]\n",
      "Epoch 4/35 [Val]: 100%|██████████| 11/11 [00:02<00:00,  4.26it/s]\n"
     ]
    },
    {
     "name": "stdout",
     "output_type": "stream",
     "text": [
      "Epoch 4/35: Train Loss=1.1716, Train Acc=0.6047, Val Loss=1.2473, Val Acc=0.5718\n",
      "Best model saved in d:\\Uni\\Master\\1 Bimestre\\Foundations\\Assignments\\Weather-Clasification\\models\\best_model_CNN_V1.pth (val_acc=0.5718)\n"
     ]
    },
    {
     "name": "stderr",
     "output_type": "stream",
     "text": [
      "Epoch 5/35 [Train]: 100%|██████████| 86/86 [00:22<00:00,  3.82it/s]\n",
      "Epoch 5/35 [Val]: 100%|██████████| 11/11 [00:02<00:00,  4.02it/s]\n"
     ]
    },
    {
     "name": "stdout",
     "output_type": "stream",
     "text": [
      "Epoch 5/35: Train Loss=1.0514, Train Acc=0.6375, Val Loss=1.1369, Val Acc=0.5938\n",
      "Best model saved in d:\\Uni\\Master\\1 Bimestre\\Foundations\\Assignments\\Weather-Clasification\\models\\best_model_CNN_V1.pth (val_acc=0.5938)\n"
     ]
    },
    {
     "name": "stderr",
     "output_type": "stream",
     "text": [
      "Epoch 6/35 [Train]: 100%|██████████| 86/86 [00:22<00:00,  3.77it/s]\n",
      "Epoch 6/35 [Val]: 100%|██████████| 11/11 [00:02<00:00,  4.33it/s]\n"
     ]
    },
    {
     "name": "stdout",
     "output_type": "stream",
     "text": [
      "Epoch 6/35: Train Loss=1.0061, Train Acc=0.6552, Val Loss=1.1722, Val Acc=0.6026\n",
      "Best model saved in d:\\Uni\\Master\\1 Bimestre\\Foundations\\Assignments\\Weather-Clasification\\models\\best_model_CNN_V1.pth (val_acc=0.6026)\n"
     ]
    },
    {
     "name": "stderr",
     "output_type": "stream",
     "text": [
      "Epoch 7/35 [Train]: 100%|██████████| 86/86 [00:22<00:00,  3.83it/s]\n",
      "Epoch 7/35 [Val]: 100%|██████████| 11/11 [00:02<00:00,  4.08it/s]\n"
     ]
    },
    {
     "name": "stdout",
     "output_type": "stream",
     "text": [
      "Epoch 7/35: Train Loss=0.9907, Train Acc=0.6568, Val Loss=1.1119, Val Acc=0.6217\n",
      "Best model saved in d:\\Uni\\Master\\1 Bimestre\\Foundations\\Assignments\\Weather-Clasification\\models\\best_model_CNN_V1.pth (val_acc=0.6217)\n"
     ]
    },
    {
     "name": "stderr",
     "output_type": "stream",
     "text": [
      "Epoch 8/35 [Train]: 100%|██████████| 86/86 [00:23<00:00,  3.68it/s]\n",
      "Epoch 8/35 [Val]: 100%|██████████| 11/11 [00:02<00:00,  4.33it/s]\n"
     ]
    },
    {
     "name": "stdout",
     "output_type": "stream",
     "text": [
      "Epoch 8/35: Train Loss=0.9065, Train Acc=0.6875, Val Loss=1.0363, Val Acc=0.6525\n",
      "Best model saved in d:\\Uni\\Master\\1 Bimestre\\Foundations\\Assignments\\Weather-Clasification\\models\\best_model_CNN_V1.pth (val_acc=0.6525)\n"
     ]
    },
    {
     "name": "stderr",
     "output_type": "stream",
     "text": [
      "Epoch 9/35 [Train]: 100%|██████████| 86/86 [00:22<00:00,  3.79it/s]\n",
      "Epoch 9/35 [Val]: 100%|██████████| 11/11 [00:02<00:00,  3.94it/s]\n"
     ]
    },
    {
     "name": "stdout",
     "output_type": "stream",
     "text": [
      "Epoch 9/35: Train Loss=0.8665, Train Acc=0.7039, Val Loss=1.0833, Val Acc=0.6510\n"
     ]
    },
    {
     "name": "stderr",
     "output_type": "stream",
     "text": [
      "Epoch 10/35 [Train]: 100%|██████████| 86/86 [00:22<00:00,  3.80it/s]\n",
      "Epoch 10/35 [Val]: 100%|██████████| 11/11 [00:02<00:00,  4.34it/s]\n"
     ]
    },
    {
     "name": "stdout",
     "output_type": "stream",
     "text": [
      "Epoch 10/35: Train Loss=0.8008, Train Acc=0.7199, Val Loss=1.2208, Val Acc=0.6129\n"
     ]
    },
    {
     "name": "stderr",
     "output_type": "stream",
     "text": [
      "Epoch 11/35 [Train]: 100%|██████████| 86/86 [00:22<00:00,  3.77it/s]\n",
      "Epoch 11/35 [Val]: 100%|██████████| 11/11 [00:02<00:00,  3.80it/s]\n"
     ]
    },
    {
     "name": "stdout",
     "output_type": "stream",
     "text": [
      "Epoch 11/35: Train Loss=0.7771, Train Acc=0.7316, Val Loss=1.1939, Val Acc=0.6012\n"
     ]
    },
    {
     "name": "stderr",
     "output_type": "stream",
     "text": [
      "Epoch 12/35 [Train]: 100%|██████████| 86/86 [00:22<00:00,  3.90it/s]\n",
      "Epoch 12/35 [Val]: 100%|██████████| 11/11 [00:02<00:00,  4.13it/s]\n"
     ]
    },
    {
     "name": "stdout",
     "output_type": "stream",
     "text": [
      "Epoch 12/35: Train Loss=0.7052, Train Acc=0.7602, Val Loss=1.0559, Val Acc=0.6657\n",
      "Best model saved in d:\\Uni\\Master\\1 Bimestre\\Foundations\\Assignments\\Weather-Clasification\\models\\best_model_CNN_V1.pth (val_acc=0.6657)\n"
     ]
    },
    {
     "name": "stderr",
     "output_type": "stream",
     "text": [
      "Epoch 13/35 [Train]: 100%|██████████| 86/86 [00:22<00:00,  3.81it/s]\n",
      "Epoch 13/35 [Val]: 100%|██████████| 11/11 [00:02<00:00,  4.30it/s]\n"
     ]
    },
    {
     "name": "stdout",
     "output_type": "stream",
     "text": [
      "Epoch 13/35: Train Loss=0.6342, Train Acc=0.7797, Val Loss=1.1767, Val Acc=0.6804\n",
      "Best model saved in d:\\Uni\\Master\\1 Bimestre\\Foundations\\Assignments\\Weather-Clasification\\models\\best_model_CNN_V1.pth (val_acc=0.6804)\n"
     ]
    },
    {
     "name": "stderr",
     "output_type": "stream",
     "text": [
      "Epoch 14/35 [Train]: 100%|██████████| 86/86 [00:22<00:00,  3.76it/s]\n",
      "Epoch 14/35 [Val]: 100%|██████████| 11/11 [00:02<00:00,  3.89it/s]\n"
     ]
    },
    {
     "name": "stdout",
     "output_type": "stream",
     "text": [
      "Epoch 14/35: Train Loss=0.5575, Train Acc=0.8115, Val Loss=1.1022, Val Acc=0.6789\n"
     ]
    },
    {
     "name": "stderr",
     "output_type": "stream",
     "text": [
      "Epoch 15/35 [Train]: 100%|██████████| 86/86 [00:22<00:00,  3.82it/s]\n",
      "Epoch 15/35 [Val]: 100%|██████████| 11/11 [00:02<00:00,  3.93it/s]\n"
     ]
    },
    {
     "name": "stdout",
     "output_type": "stream",
     "text": [
      "Epoch 15/35: Train Loss=0.4862, Train Acc=0.8357, Val Loss=1.2182, Val Acc=0.6774\n"
     ]
    },
    {
     "name": "stderr",
     "output_type": "stream",
     "text": [
      "Epoch 16/35 [Train]: 100%|██████████| 86/86 [00:22<00:00,  3.78it/s]\n",
      "Epoch 16/35 [Val]: 100%|██████████| 11/11 [00:02<00:00,  4.25it/s]\n"
     ]
    },
    {
     "name": "stdout",
     "output_type": "stream",
     "text": [
      "Epoch 16/35: Train Loss=0.4347, Train Acc=0.8528, Val Loss=1.2963, Val Acc=0.6789\n"
     ]
    },
    {
     "name": "stderr",
     "output_type": "stream",
     "text": [
      "Epoch 17/35 [Train]: 100%|██████████| 86/86 [00:22<00:00,  3.81it/s]\n",
      "Epoch 17/35 [Val]: 100%|██████████| 11/11 [00:02<00:00,  4.11it/s]\n"
     ]
    },
    {
     "name": "stdout",
     "output_type": "stream",
     "text": [
      "Epoch 17/35: Train Loss=0.3331, Train Acc=0.8882, Val Loss=1.3352, Val Acc=0.6760\n"
     ]
    },
    {
     "name": "stderr",
     "output_type": "stream",
     "text": [
      "Epoch 18/35 [Train]: 100%|██████████| 86/86 [00:22<00:00,  3.80it/s]\n",
      "Epoch 18/35 [Val]: 100%|██████████| 11/11 [00:02<00:00,  4.10it/s]\n"
     ]
    },
    {
     "name": "stdout",
     "output_type": "stream",
     "text": [
      "Epoch 18/35: Train Loss=0.2741, Train Acc=0.9088, Val Loss=1.5331, Val Acc=0.6862\n",
      "Best model saved in d:\\Uni\\Master\\1 Bimestre\\Foundations\\Assignments\\Weather-Clasification\\models\\best_model_CNN_V1.pth (val_acc=0.6862)\n"
     ]
    },
    {
     "name": "stderr",
     "output_type": "stream",
     "text": [
      "Epoch 19/35 [Train]: 100%|██████████| 86/86 [00:22<00:00,  3.82it/s]\n",
      "Epoch 19/35 [Val]: 100%|██████████| 11/11 [00:02<00:00,  4.14it/s]\n"
     ]
    },
    {
     "name": "stdout",
     "output_type": "stream",
     "text": [
      "Epoch 19/35: Train Loss=0.2641, Train Acc=0.9101, Val Loss=1.7244, Val Acc=0.6745\n"
     ]
    },
    {
     "name": "stderr",
     "output_type": "stream",
     "text": [
      "Epoch 20/35 [Train]: 100%|██████████| 86/86 [00:22<00:00,  3.83it/s]\n",
      "Epoch 20/35 [Val]: 100%|██████████| 11/11 [00:02<00:00,  4.29it/s]\n"
     ]
    },
    {
     "name": "stdout",
     "output_type": "stream",
     "text": [
      "Epoch 20/35: Train Loss=0.2351, Train Acc=0.9209, Val Loss=1.7588, Val Acc=0.6862\n"
     ]
    },
    {
     "name": "stderr",
     "output_type": "stream",
     "text": [
      "Epoch 21/35 [Train]: 100%|██████████| 86/86 [00:22<00:00,  3.78it/s]\n",
      "Epoch 21/35 [Val]: 100%|██████████| 11/11 [00:02<00:00,  4.05it/s]\n"
     ]
    },
    {
     "name": "stdout",
     "output_type": "stream",
     "text": [
      "Epoch 21/35: Train Loss=0.1920, Train Acc=0.9416, Val Loss=1.8379, Val Acc=0.6686\n"
     ]
    },
    {
     "name": "stderr",
     "output_type": "stream",
     "text": [
      "Epoch 22/35 [Train]: 100%|██████████| 86/86 [00:22<00:00,  3.75it/s]\n",
      "Epoch 22/35 [Val]: 100%|██████████| 11/11 [00:02<00:00,  4.13it/s]\n"
     ]
    },
    {
     "name": "stdout",
     "output_type": "stream",
     "text": [
      "Epoch 22/35: Train Loss=0.1503, Train Acc=0.9561, Val Loss=1.9585, Val Acc=0.6833\n"
     ]
    },
    {
     "name": "stderr",
     "output_type": "stream",
     "text": [
      "Epoch 23/35 [Train]: 100%|██████████| 86/86 [00:22<00:00,  3.82it/s]\n",
      "Epoch 23/35 [Val]: 100%|██████████| 11/11 [00:02<00:00,  4.15it/s]\n"
     ]
    },
    {
     "name": "stdout",
     "output_type": "stream",
     "text": [
      "Epoch 23/35: Train Loss=0.1822, Train Acc=0.9402, Val Loss=1.7796, Val Acc=0.6804\n"
     ]
    },
    {
     "name": "stderr",
     "output_type": "stream",
     "text": [
      "Epoch 24/35 [Train]: 100%|██████████| 86/86 [00:22<00:00,  3.83it/s]\n",
      "Epoch 24/35 [Val]: 100%|██████████| 11/11 [00:02<00:00,  4.07it/s]\n"
     ]
    },
    {
     "name": "stdout",
     "output_type": "stream",
     "text": [
      "Epoch 24/35: Train Loss=0.1185, Train Acc=0.9635, Val Loss=2.1114, Val Acc=0.6979\n",
      "Best model saved in d:\\Uni\\Master\\1 Bimestre\\Foundations\\Assignments\\Weather-Clasification\\models\\best_model_CNN_V1.pth (val_acc=0.6979)\n"
     ]
    },
    {
     "name": "stderr",
     "output_type": "stream",
     "text": [
      "Epoch 25/35 [Train]: 100%|██████████| 86/86 [00:22<00:00,  3.74it/s]\n",
      "Epoch 25/35 [Val]: 100%|██████████| 11/11 [00:02<00:00,  4.11it/s]\n"
     ]
    },
    {
     "name": "stdout",
     "output_type": "stream",
     "text": [
      "Epoch 25/35: Train Loss=0.0967, Train Acc=0.9681, Val Loss=2.1158, Val Acc=0.6906\n"
     ]
    },
    {
     "name": "stderr",
     "output_type": "stream",
     "text": [
      "Epoch 26/35 [Train]: 100%|██████████| 86/86 [00:22<00:00,  3.77it/s]\n",
      "Epoch 26/35 [Val]: 100%|██████████| 11/11 [00:02<00:00,  4.12it/s]\n"
     ]
    },
    {
     "name": "stdout",
     "output_type": "stream",
     "text": [
      "Epoch 26/35: Train Loss=0.1054, Train Acc=0.9641, Val Loss=2.1501, Val Acc=0.6760\n"
     ]
    },
    {
     "name": "stderr",
     "output_type": "stream",
     "text": [
      "Epoch 27/35 [Train]: 100%|██████████| 86/86 [00:22<00:00,  3.80it/s]\n",
      "Epoch 27/35 [Val]: 100%|██████████| 11/11 [00:02<00:00,  3.96it/s]\n"
     ]
    },
    {
     "name": "stdout",
     "output_type": "stream",
     "text": [
      "Epoch 27/35: Train Loss=0.1236, Train Acc=0.9624, Val Loss=2.1006, Val Acc=0.6862\n"
     ]
    },
    {
     "name": "stderr",
     "output_type": "stream",
     "text": [
      "Epoch 28/35 [Train]: 100%|██████████| 86/86 [00:22<00:00,  3.83it/s]\n",
      "Epoch 28/35 [Val]: 100%|██████████| 11/11 [00:02<00:00,  4.15it/s]\n"
     ]
    },
    {
     "name": "stdout",
     "output_type": "stream",
     "text": [
      "Epoch 28/35: Train Loss=0.0873, Train Acc=0.9717, Val Loss=2.3260, Val Acc=0.6833\n"
     ]
    },
    {
     "name": "stderr",
     "output_type": "stream",
     "text": [
      "Epoch 29/35 [Train]: 100%|██████████| 86/86 [00:22<00:00,  3.80it/s]\n",
      "Epoch 29/35 [Val]: 100%|██████████| 11/11 [00:02<00:00,  4.14it/s]\n"
     ]
    },
    {
     "name": "stdout",
     "output_type": "stream",
     "text": [
      "Epoch 29/35: Train Loss=0.0680, Train Acc=0.9807, Val Loss=2.2627, Val Acc=0.6979\n"
     ]
    },
    {
     "name": "stderr",
     "output_type": "stream",
     "text": [
      "Epoch 30/35 [Train]: 100%|██████████| 86/86 [00:22<00:00,  3.81it/s]\n",
      "Epoch 30/35 [Val]: 100%|██████████| 11/11 [00:02<00:00,  4.10it/s]\n"
     ]
    },
    {
     "name": "stdout",
     "output_type": "stream",
     "text": [
      "Epoch 30/35: Train Loss=0.0929, Train Acc=0.9716, Val Loss=2.0858, Val Acc=0.6760\n"
     ]
    },
    {
     "name": "stderr",
     "output_type": "stream",
     "text": [
      "Epoch 31/35 [Train]: 100%|██████████| 86/86 [00:22<00:00,  3.83it/s]\n",
      "Epoch 31/35 [Val]: 100%|██████████| 11/11 [00:02<00:00,  4.06it/s]\n"
     ]
    },
    {
     "name": "stdout",
     "output_type": "stream",
     "text": [
      "Epoch 31/35: Train Loss=0.0859, Train Acc=0.9737, Val Loss=2.3744, Val Acc=0.6848\n"
     ]
    },
    {
     "name": "stderr",
     "output_type": "stream",
     "text": [
      "Epoch 32/35 [Train]: 100%|██████████| 86/86 [00:23<00:00,  3.73it/s]\n",
      "Epoch 32/35 [Val]: 100%|██████████| 11/11 [00:02<00:00,  4.21it/s]\n"
     ]
    },
    {
     "name": "stdout",
     "output_type": "stream",
     "text": [
      "Epoch 32/35: Train Loss=0.0627, Train Acc=0.9801, Val Loss=2.4768, Val Acc=0.6950\n"
     ]
    },
    {
     "name": "stderr",
     "output_type": "stream",
     "text": [
      "Epoch 33/35 [Train]: 100%|██████████| 86/86 [00:22<00:00,  3.83it/s]\n",
      "Epoch 33/35 [Val]: 100%|██████████| 11/11 [00:02<00:00,  4.14it/s]\n"
     ]
    },
    {
     "name": "stdout",
     "output_type": "stream",
     "text": [
      "Epoch 33/35: Train Loss=0.0700, Train Acc=0.9779, Val Loss=2.7234, Val Acc=0.6657\n"
     ]
    },
    {
     "name": "stderr",
     "output_type": "stream",
     "text": [
      "Epoch 34/35 [Train]: 100%|██████████| 86/86 [00:22<00:00,  3.84it/s]\n",
      "Epoch 34/35 [Val]: 100%|██████████| 11/11 [00:02<00:00,  4.21it/s]\n"
     ]
    },
    {
     "name": "stdout",
     "output_type": "stream",
     "text": [
      "Epoch 34/35: Train Loss=0.0960, Train Acc=0.9679, Val Loss=2.4306, Val Acc=0.6906\n"
     ]
    },
    {
     "name": "stderr",
     "output_type": "stream",
     "text": [
      "Epoch 35/35 [Train]: 100%|██████████| 86/86 [00:22<00:00,  3.87it/s]\n",
      "Epoch 35/35 [Val]: 100%|██████████| 11/11 [00:02<00:00,  4.11it/s]"
     ]
    },
    {
     "name": "stdout",
     "output_type": "stream",
     "text": [
      "Epoch 35/35: Train Loss=0.0528, Train Acc=0.9819, Val Loss=2.8914, Val Acc=0.6613\n",
      "Training complete. Best val_acc=0.6979\n",
      "MMetrics saved in d:\\Uni\\Master\\1 Bimestre\\Foundations\\Assignments\\Weather-Clasification\\reports\\metrics\\metrics_CNN_V1.pkl\n"
     ]
    },
    {
     "name": "stderr",
     "output_type": "stream",
     "text": [
      "\n"
     ]
    }
   ],
   "source": [
    "input_dim = 64*64*3  # matches the Resize transform\n",
    "model = train_model_improved(CNN_V1, \n",
    "                    train_dir=\"../../data/train\", \n",
    "                    val_dir=\"../../data/val\", \n",
    "                    input_dim=input_dim,\n",
    "                    num_classes=11,\n",
    "                    batch_size=64,\n",
    "                    epochs=50,\n",
    "                    lr=1e-3,\n",
    "                    device=\"cuda\" if torch.cuda.is_available() else \"cpu\")"
   ]
  },
  {
   "cell_type": "code",
   "execution_count": null,
   "id": "64f6d733",
   "metadata": {},
   "outputs": [
    {
     "name": "stderr",
     "output_type": "stream",
     "text": [
      "Epoch 1/35 [Train]: 100%|██████████| 86/86 [00:23<00:00,  3.64it/s]\n",
      "Epoch 1/35 [Val]: 100%|██████████| 11/11 [00:02<00:00,  4.17it/s]\n"
     ]
    },
    {
     "name": "stdout",
     "output_type": "stream",
     "text": [
      "Epoch 1/35: Train Loss=2.2486, Train Acc=0.1986, Val Loss=2.2328, Val Acc=0.2302\n",
      "Best model saved in d:\\Uni\\Master\\1 Bimestre\\Foundations\\Assignments\\Weather-Clasification\\models\\best_model_CNN_V1_reg.pth (val_acc=0.2302)\n"
     ]
    },
    {
     "name": "stderr",
     "output_type": "stream",
     "text": [
      "Epoch 2/35 [Train]: 100%|██████████| 86/86 [00:23<00:00,  3.73it/s]\n",
      "Epoch 2/35 [Val]: 100%|██████████| 11/11 [00:02<00:00,  4.10it/s]\n"
     ]
    },
    {
     "name": "stdout",
     "output_type": "stream",
     "text": [
      "Epoch 2/35: Train Loss=1.9995, Train Acc=0.2764, Val Loss=2.0453, Val Acc=0.3475\n",
      "Best model saved in d:\\Uni\\Master\\1 Bimestre\\Foundations\\Assignments\\Weather-Clasification\\models\\best_model_CNN_V1_reg.pth (val_acc=0.3475)\n"
     ]
    },
    {
     "name": "stderr",
     "output_type": "stream",
     "text": [
      "Epoch 3/35 [Train]: 100%|██████████| 86/86 [00:22<00:00,  3.77it/s]\n",
      "Epoch 3/35 [Val]: 100%|██████████| 11/11 [00:02<00:00,  4.19it/s]\n"
     ]
    },
    {
     "name": "stdout",
     "output_type": "stream",
     "text": [
      "Epoch 3/35: Train Loss=1.8571, Train Acc=0.3601, Val Loss=1.8732, Val Acc=0.4575\n",
      "Best model saved in d:\\Uni\\Master\\1 Bimestre\\Foundations\\Assignments\\Weather-Clasification\\models\\best_model_CNN_V1_reg.pth (val_acc=0.4575)\n"
     ]
    },
    {
     "name": "stderr",
     "output_type": "stream",
     "text": [
      "Epoch 4/35 [Train]: 100%|██████████| 86/86 [00:23<00:00,  3.69it/s]\n",
      "Epoch 4/35 [Val]: 100%|██████████| 11/11 [00:02<00:00,  4.22it/s]\n"
     ]
    },
    {
     "name": "stdout",
     "output_type": "stream",
     "text": [
      "Epoch 4/35: Train Loss=1.6703, Train Acc=0.4426, Val Loss=1.7240, Val Acc=0.4971\n",
      "Best model saved in d:\\Uni\\Master\\1 Bimestre\\Foundations\\Assignments\\Weather-Clasification\\models\\best_model_CNN_V1_reg.pth (val_acc=0.4971)\n"
     ]
    },
    {
     "name": "stderr",
     "output_type": "stream",
     "text": [
      "Epoch 5/35 [Train]: 100%|██████████| 86/86 [00:22<00:00,  3.80it/s]\n",
      "Epoch 5/35 [Val]: 100%|██████████| 11/11 [00:02<00:00,  4.02it/s]\n"
     ]
    },
    {
     "name": "stdout",
     "output_type": "stream",
     "text": [
      "Epoch 5/35: Train Loss=1.5232, Train Acc=0.4991, Val Loss=1.5842, Val Acc=0.5235\n",
      "Best model saved in d:\\Uni\\Master\\1 Bimestre\\Foundations\\Assignments\\Weather-Clasification\\models\\best_model_CNN_V1_reg.pth (val_acc=0.5235)\n"
     ]
    },
    {
     "name": "stderr",
     "output_type": "stream",
     "text": [
      "Epoch 6/35 [Train]: 100%|██████████| 86/86 [00:22<00:00,  3.76it/s]\n",
      "Epoch 6/35 [Val]: 100%|██████████| 11/11 [00:02<00:00,  4.25it/s]\n"
     ]
    },
    {
     "name": "stdout",
     "output_type": "stream",
     "text": [
      "Epoch 6/35: Train Loss=1.4086, Train Acc=0.5421, Val Loss=1.5549, Val Acc=0.5264\n",
      "Best model saved in d:\\Uni\\Master\\1 Bimestre\\Foundations\\Assignments\\Weather-Clasification\\models\\best_model_CNN_V1_reg.pth (val_acc=0.5264)\n"
     ]
    },
    {
     "name": "stderr",
     "output_type": "stream",
     "text": [
      "Epoch 7/35 [Train]: 100%|██████████| 86/86 [00:22<00:00,  3.76it/s]\n",
      "Epoch 7/35 [Val]: 100%|██████████| 11/11 [00:02<00:00,  4.09it/s]\n"
     ]
    },
    {
     "name": "stdout",
     "output_type": "stream",
     "text": [
      "Epoch 7/35: Train Loss=1.3963, Train Acc=0.5370, Val Loss=1.4648, Val Acc=0.5352\n",
      "Best model saved in d:\\Uni\\Master\\1 Bimestre\\Foundations\\Assignments\\Weather-Clasification\\models\\best_model_CNN_V1_reg.pth (val_acc=0.5352)\n"
     ]
    },
    {
     "name": "stderr",
     "output_type": "stream",
     "text": [
      "Epoch 8/35 [Train]: 100%|██████████| 86/86 [00:23<00:00,  3.72it/s]\n",
      "Epoch 8/35 [Val]: 100%|██████████| 11/11 [00:02<00:00,  4.16it/s]\n"
     ]
    },
    {
     "name": "stdout",
     "output_type": "stream",
     "text": [
      "Epoch 8/35: Train Loss=1.3348, Train Acc=0.5605, Val Loss=1.4383, Val Acc=0.5205\n"
     ]
    },
    {
     "name": "stderr",
     "output_type": "stream",
     "text": [
      "Epoch 9/35 [Train]: 100%|██████████| 86/86 [00:22<00:00,  3.78it/s]\n",
      "Epoch 9/35 [Val]: 100%|██████████| 11/11 [00:02<00:00,  4.11it/s]\n"
     ]
    },
    {
     "name": "stdout",
     "output_type": "stream",
     "text": [
      "Epoch 9/35: Train Loss=1.2102, Train Acc=0.6014, Val Loss=1.3144, Val Acc=0.5733\n",
      "Best model saved in d:\\Uni\\Master\\1 Bimestre\\Foundations\\Assignments\\Weather-Clasification\\models\\best_model_CNN_V1_reg.pth (val_acc=0.5733)\n"
     ]
    },
    {
     "name": "stderr",
     "output_type": "stream",
     "text": [
      "Epoch 10/35 [Train]: 100%|██████████| 86/86 [00:23<00:00,  3.71it/s]\n",
      "Epoch 10/35 [Val]: 100%|██████████| 11/11 [00:02<00:00,  4.30it/s]\n"
     ]
    },
    {
     "name": "stdout",
     "output_type": "stream",
     "text": [
      "Epoch 10/35: Train Loss=1.1576, Train Acc=0.6209, Val Loss=1.2630, Val Acc=0.6070\n",
      "Best model saved in d:\\Uni\\Master\\1 Bimestre\\Foundations\\Assignments\\Weather-Clasification\\models\\best_model_CNN_V1_reg.pth (val_acc=0.6070)\n"
     ]
    },
    {
     "name": "stderr",
     "output_type": "stream",
     "text": [
      "Epoch 11/35 [Train]: 100%|██████████| 86/86 [00:23<00:00,  3.72it/s]\n",
      "Epoch 11/35 [Val]: 100%|██████████| 11/11 [00:02<00:00,  4.06it/s]\n"
     ]
    },
    {
     "name": "stdout",
     "output_type": "stream",
     "text": [
      "Epoch 11/35: Train Loss=1.0849, Train Acc=0.6519, Val Loss=1.2595, Val Acc=0.5865\n"
     ]
    },
    {
     "name": "stderr",
     "output_type": "stream",
     "text": [
      "Epoch 12/35 [Train]: 100%|██████████| 86/86 [00:22<00:00,  3.74it/s]\n",
      "Epoch 12/35 [Val]: 100%|██████████| 11/11 [00:02<00:00,  4.37it/s]\n"
     ]
    },
    {
     "name": "stdout",
     "output_type": "stream",
     "text": [
      "Epoch 12/35: Train Loss=1.0909, Train Acc=0.6441, Val Loss=1.3150, Val Acc=0.5630\n"
     ]
    },
    {
     "name": "stderr",
     "output_type": "stream",
     "text": [
      "Epoch 13/35 [Train]: 100%|██████████| 86/86 [00:22<00:00,  3.78it/s]\n",
      "Epoch 13/35 [Val]: 100%|██████████| 11/11 [00:02<00:00,  4.26it/s]\n"
     ]
    },
    {
     "name": "stdout",
     "output_type": "stream",
     "text": [
      "Epoch 13/35: Train Loss=1.0368, Train Acc=0.6546, Val Loss=1.3650, Val Acc=0.5381\n"
     ]
    },
    {
     "name": "stderr",
     "output_type": "stream",
     "text": [
      "Epoch 14/35 [Train]: 100%|██████████| 86/86 [00:22<00:00,  3.75it/s]\n",
      "Epoch 14/35 [Val]: 100%|██████████| 11/11 [00:02<00:00,  4.11it/s]\n"
     ]
    },
    {
     "name": "stdout",
     "output_type": "stream",
     "text": [
      "Epoch 14/35: Train Loss=0.9702, Train Acc=0.6818, Val Loss=1.1861, Val Acc=0.6041\n"
     ]
    },
    {
     "name": "stderr",
     "output_type": "stream",
     "text": [
      "Epoch 15/35 [Train]: 100%|██████████| 86/86 [00:22<00:00,  3.76it/s]\n",
      "Epoch 15/35 [Val]: 100%|██████████| 11/11 [00:02<00:00,  4.05it/s]\n"
     ]
    },
    {
     "name": "stdout",
     "output_type": "stream",
     "text": [
      "Epoch 15/35: Train Loss=0.9083, Train Acc=0.7068, Val Loss=1.1731, Val Acc=0.6246\n",
      "Best model saved in d:\\Uni\\Master\\1 Bimestre\\Foundations\\Assignments\\Weather-Clasification\\models\\best_model_CNN_V1_reg.pth (val_acc=0.6246)\n"
     ]
    },
    {
     "name": "stderr",
     "output_type": "stream",
     "text": [
      "Epoch 16/35 [Train]: 100%|██████████| 86/86 [00:22<00:00,  3.75it/s]\n",
      "Epoch 16/35 [Val]: 100%|██████████| 11/11 [00:02<00:00,  4.06it/s]\n"
     ]
    },
    {
     "name": "stdout",
     "output_type": "stream",
     "text": [
      "Epoch 16/35: Train Loss=0.8675, Train Acc=0.7172, Val Loss=1.1538, Val Acc=0.6173\n"
     ]
    },
    {
     "name": "stderr",
     "output_type": "stream",
     "text": [
      "Epoch 17/35 [Train]: 100%|██████████| 86/86 [00:23<00:00,  3.71it/s]\n",
      "Epoch 17/35 [Val]: 100%|██████████| 11/11 [00:02<00:00,  3.85it/s]\n"
     ]
    },
    {
     "name": "stdout",
     "output_type": "stream",
     "text": [
      "Epoch 17/35: Train Loss=0.8218, Train Acc=0.7294, Val Loss=1.2201, Val Acc=0.6085\n"
     ]
    },
    {
     "name": "stderr",
     "output_type": "stream",
     "text": [
      "Epoch 18/35 [Train]: 100%|██████████| 86/86 [00:22<00:00,  3.77it/s]\n",
      "Epoch 18/35 [Val]: 100%|██████████| 11/11 [00:02<00:00,  4.01it/s]\n"
     ]
    },
    {
     "name": "stdout",
     "output_type": "stream",
     "text": [
      "Epoch 18/35: Train Loss=0.8144, Train Acc=0.7310, Val Loss=1.2125, Val Acc=0.5953\n"
     ]
    },
    {
     "name": "stderr",
     "output_type": "stream",
     "text": [
      "Epoch 19/35 [Train]: 100%|██████████| 86/86 [00:22<00:00,  3.78it/s]\n",
      "Epoch 19/35 [Val]: 100%|██████████| 11/11 [00:02<00:00,  4.10it/s]\n"
     ]
    },
    {
     "name": "stdout",
     "output_type": "stream",
     "text": [
      "Epoch 19/35: Train Loss=0.7346, Train Acc=0.7598, Val Loss=1.1459, Val Acc=0.6349\n",
      "Best model saved in d:\\Uni\\Master\\1 Bimestre\\Foundations\\Assignments\\Weather-Clasification\\models\\best_model_CNN_V1_reg.pth (val_acc=0.6349)\n"
     ]
    },
    {
     "name": "stderr",
     "output_type": "stream",
     "text": [
      "Epoch 20/35 [Train]: 100%|██████████| 86/86 [00:23<00:00,  3.73it/s]\n",
      "Epoch 20/35 [Val]: 100%|██████████| 11/11 [00:02<00:00,  4.08it/s]\n"
     ]
    },
    {
     "name": "stdout",
     "output_type": "stream",
     "text": [
      "Epoch 20/35: Train Loss=0.7005, Train Acc=0.7715, Val Loss=1.2503, Val Acc=0.6114\n"
     ]
    },
    {
     "name": "stderr",
     "output_type": "stream",
     "text": [
      "Epoch 21/35 [Train]: 100%|██████████| 86/86 [00:23<00:00,  3.73it/s]\n",
      "Epoch 21/35 [Val]: 100%|██████████| 11/11 [00:02<00:00,  3.84it/s]\n"
     ]
    },
    {
     "name": "stdout",
     "output_type": "stream",
     "text": [
      "Epoch 21/35: Train Loss=0.6885, Train Acc=0.7757, Val Loss=1.3311, Val Acc=0.5762\n"
     ]
    },
    {
     "name": "stderr",
     "output_type": "stream",
     "text": [
      "Epoch 22/35 [Train]: 100%|██████████| 86/86 [00:22<00:00,  3.80it/s]\n",
      "Epoch 22/35 [Val]: 100%|██████████| 11/11 [00:02<00:00,  4.10it/s]\n"
     ]
    },
    {
     "name": "stdout",
     "output_type": "stream",
     "text": [
      "Epoch 22/35: Train Loss=0.6449, Train Acc=0.7883, Val Loss=1.1392, Val Acc=0.6188\n"
     ]
    },
    {
     "name": "stderr",
     "output_type": "stream",
     "text": [
      "Epoch 23/35 [Train]: 100%|██████████| 86/86 [00:22<00:00,  3.74it/s]\n",
      "Epoch 23/35 [Val]: 100%|██████████| 11/11 [00:02<00:00,  4.04it/s]\n"
     ]
    },
    {
     "name": "stdout",
     "output_type": "stream",
     "text": [
      "Epoch 23/35: Train Loss=0.5896, Train Acc=0.8085, Val Loss=1.1575, Val Acc=0.6408\n",
      "Best model saved in d:\\Uni\\Master\\1 Bimestre\\Foundations\\Assignments\\Weather-Clasification\\models\\best_model_CNN_V1_reg.pth (val_acc=0.6408)\n"
     ]
    },
    {
     "name": "stderr",
     "output_type": "stream",
     "text": [
      "Epoch 24/35 [Train]: 100%|██████████| 86/86 [00:22<00:00,  3.75it/s]\n",
      "Epoch 24/35 [Val]: 100%|██████████| 11/11 [00:02<00:00,  4.29it/s]\n"
     ]
    },
    {
     "name": "stdout",
     "output_type": "stream",
     "text": [
      "Epoch 24/35: Train Loss=0.5866, Train Acc=0.8136, Val Loss=1.1755, Val Acc=0.6056\n"
     ]
    },
    {
     "name": "stderr",
     "output_type": "stream",
     "text": [
      "Epoch 25/35 [Train]: 100%|██████████| 86/86 [00:23<00:00,  3.71it/s]\n",
      "Epoch 25/35 [Val]: 100%|██████████| 11/11 [00:02<00:00,  4.34it/s]\n"
     ]
    },
    {
     "name": "stdout",
     "output_type": "stream",
     "text": [
      "Epoch 25/35: Train Loss=0.5458, Train Acc=0.8273, Val Loss=1.1762, Val Acc=0.6320\n"
     ]
    },
    {
     "name": "stderr",
     "output_type": "stream",
     "text": [
      "Epoch 26/35 [Train]: 100%|██████████| 86/86 [00:23<00:00,  3.73it/s]\n",
      "Epoch 26/35 [Val]: 100%|██████████| 11/11 [00:02<00:00,  4.19it/s]\n"
     ]
    },
    {
     "name": "stdout",
     "output_type": "stream",
     "text": [
      "Epoch 26/35: Train Loss=0.5262, Train Acc=0.8299, Val Loss=1.0778, Val Acc=0.6642\n",
      "Best model saved in d:\\Uni\\Master\\1 Bimestre\\Foundations\\Assignments\\Weather-Clasification\\models\\best_model_CNN_V1_reg.pth (val_acc=0.6642)\n"
     ]
    },
    {
     "name": "stderr",
     "output_type": "stream",
     "text": [
      "Epoch 27/35 [Train]: 100%|██████████| 86/86 [00:22<00:00,  3.74it/s]\n",
      "Epoch 27/35 [Val]: 100%|██████████| 11/11 [00:02<00:00,  4.19it/s]\n"
     ]
    },
    {
     "name": "stdout",
     "output_type": "stream",
     "text": [
      "Epoch 27/35: Train Loss=0.4920, Train Acc=0.8377, Val Loss=1.1742, Val Acc=0.6290\n"
     ]
    },
    {
     "name": "stderr",
     "output_type": "stream",
     "text": [
      "Epoch 28/35 [Train]: 100%|██████████| 86/86 [00:22<00:00,  3.76it/s]\n",
      "Epoch 28/35 [Val]: 100%|██████████| 11/11 [00:02<00:00,  4.38it/s]\n"
     ]
    },
    {
     "name": "stdout",
     "output_type": "stream",
     "text": [
      "Epoch 28/35: Train Loss=0.4565, Train Acc=0.8552, Val Loss=1.2052, Val Acc=0.6202\n"
     ]
    },
    {
     "name": "stderr",
     "output_type": "stream",
     "text": [
      "Epoch 29/35 [Train]: 100%|██████████| 86/86 [00:22<00:00,  3.78it/s]\n",
      "Epoch 29/35 [Val]: 100%|██████████| 11/11 [00:02<00:00,  4.08it/s]\n"
     ]
    },
    {
     "name": "stdout",
     "output_type": "stream",
     "text": [
      "Epoch 29/35: Train Loss=0.4587, Train Acc=0.8508, Val Loss=1.1908, Val Acc=0.6525\n"
     ]
    },
    {
     "name": "stderr",
     "output_type": "stream",
     "text": [
      "Epoch 30/35 [Train]: 100%|██████████| 86/86 [00:22<00:00,  3.75it/s]\n",
      "Epoch 30/35 [Val]: 100%|██████████| 11/11 [00:02<00:00,  4.08it/s]\n"
     ]
    },
    {
     "name": "stdout",
     "output_type": "stream",
     "text": [
      "Epoch 30/35: Train Loss=0.4283, Train Acc=0.8629, Val Loss=1.1231, Val Acc=0.6584\n"
     ]
    },
    {
     "name": "stderr",
     "output_type": "stream",
     "text": [
      "Epoch 31/35 [Train]: 100%|██████████| 86/86 [00:22<00:00,  3.79it/s]\n",
      "Epoch 31/35 [Val]: 100%|██████████| 11/11 [00:02<00:00,  4.17it/s]\n"
     ]
    },
    {
     "name": "stdout",
     "output_type": "stream",
     "text": [
      "Epoch 31/35: Train Loss=0.4369, Train Acc=0.8642, Val Loss=1.1689, Val Acc=0.6716\n",
      "Best model saved in d:\\Uni\\Master\\1 Bimestre\\Foundations\\Assignments\\Weather-Clasification\\models\\best_model_CNN_V1_reg.pth (val_acc=0.6716)\n"
     ]
    },
    {
     "name": "stderr",
     "output_type": "stream",
     "text": [
      "Epoch 32/35 [Train]: 100%|██████████| 86/86 [00:22<00:00,  3.77it/s]\n",
      "Epoch 32/35 [Val]: 100%|██████████| 11/11 [00:02<00:00,  4.07it/s]\n"
     ]
    },
    {
     "name": "stdout",
     "output_type": "stream",
     "text": [
      "Epoch 32/35: Train Loss=0.4147, Train Acc=0.8680, Val Loss=1.2935, Val Acc=0.6173\n"
     ]
    },
    {
     "name": "stderr",
     "output_type": "stream",
     "text": [
      "Epoch 33/35 [Train]: 100%|██████████| 86/86 [00:22<00:00,  3.78it/s]\n",
      "Epoch 33/35 [Val]: 100%|██████████| 11/11 [00:02<00:00,  4.11it/s]\n"
     ]
    },
    {
     "name": "stdout",
     "output_type": "stream",
     "text": [
      "Epoch 33/35: Train Loss=0.3997, Train Acc=0.8771, Val Loss=1.1108, Val Acc=0.6686\n"
     ]
    },
    {
     "name": "stderr",
     "output_type": "stream",
     "text": [
      "Epoch 34/35 [Train]: 100%|██████████| 86/86 [00:22<00:00,  3.80it/s]\n",
      "Epoch 34/35 [Val]: 100%|██████████| 11/11 [00:02<00:00,  3.90it/s]\n"
     ]
    },
    {
     "name": "stdout",
     "output_type": "stream",
     "text": [
      "Epoch 34/35: Train Loss=0.3715, Train Acc=0.8822, Val Loss=1.1335, Val Acc=0.6672\n"
     ]
    },
    {
     "name": "stderr",
     "output_type": "stream",
     "text": [
      "Epoch 35/35 [Train]: 100%|██████████| 86/86 [00:22<00:00,  3.78it/s]\n",
      "Epoch 35/35 [Val]: 100%|██████████| 11/11 [00:02<00:00,  4.16it/s]"
     ]
    },
    {
     "name": "stdout",
     "output_type": "stream",
     "text": [
      "Epoch 35/35: Train Loss=0.3621, Train Acc=0.8869, Val Loss=1.2490, Val Acc=0.6481\n",
      "Training complete. Best val_acc=0.6716\n",
      "MMetrics saved in d:\\Uni\\Master\\1 Bimestre\\Foundations\\Assignments\\Weather-Clasification\\reports\\metrics\\metrics_CNN_V1_reg.pkl\n"
     ]
    },
    {
     "name": "stderr",
     "output_type": "stream",
     "text": [
      "\n"
     ]
    }
   ],
   "source": [
    "input_dim = 64*64*3  # matches the Resize transform\n",
    "model = train_model_improved(CNN_V1_reg, \n",
    "                    train_dir=\"../../data/train\", \n",
    "                    val_dir=\"../../data/val\", \n",
    "                    input_dim=input_dim,\n",
    "                    num_classes=11,\n",
    "                    batch_size=64,\n",
    "                    epochs=50,\n",
    "                    lr=1e-3,\n",
    "                    device=\"cuda\" if torch.cuda.is_available() else \"cpu\")"
   ]
  },
  {
   "cell_type": "code",
   "execution_count": null,
   "id": "004dd488",
   "metadata": {},
   "outputs": [
    {
     "name": "stderr",
     "output_type": "stream",
     "text": [
      "Epoch 1/35 [Train]: 100%|██████████| 86/86 [00:45<00:00,  1.91it/s]\n",
      "Epoch 1/35 [Val]: 100%|██████████| 11/11 [00:03<00:00,  2.97it/s]\n"
     ]
    },
    {
     "name": "stdout",
     "output_type": "stream",
     "text": [
      "Epoch 1/35: Train Loss=2.1900, Train Acc=0.2230, Val Loss=1.8335, Val Acc=0.3798\n",
      "Best model saved in d:\\Uni\\Master\\1 Bimestre\\Foundations\\Assignments\\Weather-Clasification\\models\\best_model_CNN_V2.pth (val_acc=0.3798)\n"
     ]
    },
    {
     "name": "stderr",
     "output_type": "stream",
     "text": [
      "Epoch 2/35 [Train]: 100%|██████████| 86/86 [00:45<00:00,  1.90it/s]\n",
      "Epoch 2/35 [Val]: 100%|██████████| 11/11 [00:03<00:00,  2.94it/s]\n"
     ]
    },
    {
     "name": "stdout",
     "output_type": "stream",
     "text": [
      "Epoch 2/35: Train Loss=1.7725, Train Acc=0.3979, Val Loss=1.7113, Val Acc=0.4135\n",
      "Best model saved in d:\\Uni\\Master\\1 Bimestre\\Foundations\\Assignments\\Weather-Clasification\\models\\best_model_CNN_V2.pth (val_acc=0.4135)\n"
     ]
    },
    {
     "name": "stderr",
     "output_type": "stream",
     "text": [
      "Epoch 3/35 [Train]: 100%|██████████| 86/86 [00:45<00:00,  1.89it/s]\n",
      "Epoch 3/35 [Val]: 100%|██████████| 11/11 [00:03<00:00,  2.85it/s]\n"
     ]
    },
    {
     "name": "stdout",
     "output_type": "stream",
     "text": [
      "Epoch 3/35: Train Loss=1.5099, Train Acc=0.4909, Val Loss=1.5451, Val Acc=0.4853\n",
      "Best model saved in d:\\Uni\\Master\\1 Bimestre\\Foundations\\Assignments\\Weather-Clasification\\models\\best_model_CNN_V2.pth (val_acc=0.4853)\n"
     ]
    },
    {
     "name": "stderr",
     "output_type": "stream",
     "text": [
      "Epoch 4/35 [Train]: 100%|██████████| 86/86 [00:45<00:00,  1.88it/s]\n",
      "Epoch 4/35 [Val]: 100%|██████████| 11/11 [00:03<00:00,  2.87it/s]\n"
     ]
    },
    {
     "name": "stdout",
     "output_type": "stream",
     "text": [
      "Epoch 4/35: Train Loss=1.3220, Train Acc=0.5553, Val Loss=1.4002, Val Acc=0.5411\n",
      "Best model saved in d:\\Uni\\Master\\1 Bimestre\\Foundations\\Assignments\\Weather-Clasification\\models\\best_model_CNN_V2.pth (val_acc=0.5411)\n"
     ]
    },
    {
     "name": "stderr",
     "output_type": "stream",
     "text": [
      "Epoch 5/35 [Train]: 100%|██████████| 86/86 [00:47<00:00,  1.83it/s]\n",
      "Epoch 5/35 [Val]: 100%|██████████| 11/11 [00:03<00:00,  2.85it/s]\n"
     ]
    },
    {
     "name": "stdout",
     "output_type": "stream",
     "text": [
      "Epoch 5/35: Train Loss=1.2212, Train Acc=0.5872, Val Loss=1.2500, Val Acc=0.5748\n",
      "Best model saved in d:\\Uni\\Master\\1 Bimestre\\Foundations\\Assignments\\Weather-Clasification\\models\\best_model_CNN_V2.pth (val_acc=0.5748)\n"
     ]
    },
    {
     "name": "stderr",
     "output_type": "stream",
     "text": [
      "Epoch 6/35 [Train]: 100%|██████████| 86/86 [00:46<00:00,  1.86it/s]\n",
      "Epoch 6/35 [Val]: 100%|██████████| 11/11 [00:03<00:00,  2.80it/s]\n"
     ]
    },
    {
     "name": "stdout",
     "output_type": "stream",
     "text": [
      "Epoch 6/35: Train Loss=1.1092, Train Acc=0.6194, Val Loss=1.2419, Val Acc=0.5865\n",
      "Best model saved in d:\\Uni\\Master\\1 Bimestre\\Foundations\\Assignments\\Weather-Clasification\\models\\best_model_CNN_V2.pth (val_acc=0.5865)\n"
     ]
    },
    {
     "name": "stderr",
     "output_type": "stream",
     "text": [
      "Epoch 7/35 [Train]: 100%|██████████| 86/86 [00:46<00:00,  1.85it/s]\n",
      "Epoch 7/35 [Val]: 100%|██████████| 11/11 [00:03<00:00,  2.83it/s]\n"
     ]
    },
    {
     "name": "stdout",
     "output_type": "stream",
     "text": [
      "Epoch 7/35: Train Loss=1.0471, Train Acc=0.6437, Val Loss=1.2219, Val Acc=0.5469\n"
     ]
    },
    {
     "name": "stderr",
     "output_type": "stream",
     "text": [
      "Epoch 8/35 [Train]: 100%|██████████| 86/86 [00:46<00:00,  1.86it/s]\n",
      "Epoch 8/35 [Val]: 100%|██████████| 11/11 [00:03<00:00,  2.85it/s]\n"
     ]
    },
    {
     "name": "stdout",
     "output_type": "stream",
     "text": [
      "Epoch 8/35: Train Loss=0.9969, Train Acc=0.6592, Val Loss=1.1095, Val Acc=0.6202\n",
      "Best model saved in d:\\Uni\\Master\\1 Bimestre\\Foundations\\Assignments\\Weather-Clasification\\models\\best_model_CNN_V2.pth (val_acc=0.6202)\n"
     ]
    },
    {
     "name": "stderr",
     "output_type": "stream",
     "text": [
      "Epoch 9/35 [Train]: 100%|██████████| 86/86 [00:46<00:00,  1.86it/s]\n",
      "Epoch 9/35 [Val]: 100%|██████████| 11/11 [00:03<00:00,  2.75it/s]\n"
     ]
    },
    {
     "name": "stdout",
     "output_type": "stream",
     "text": [
      "Epoch 9/35: Train Loss=0.9289, Train Acc=0.6782, Val Loss=1.0987, Val Acc=0.6496\n",
      "Best model saved in d:\\Uni\\Master\\1 Bimestre\\Foundations\\Assignments\\Weather-Clasification\\models\\best_model_CNN_V2.pth (val_acc=0.6496)\n"
     ]
    },
    {
     "name": "stderr",
     "output_type": "stream",
     "text": [
      "Epoch 10/35 [Train]: 100%|██████████| 86/86 [00:46<00:00,  1.85it/s]\n",
      "Epoch 10/35 [Val]: 100%|██████████| 11/11 [00:03<00:00,  2.80it/s]\n"
     ]
    },
    {
     "name": "stdout",
     "output_type": "stream",
     "text": [
      "Epoch 10/35: Train Loss=0.8859, Train Acc=0.6975, Val Loss=1.0685, Val Acc=0.6496\n"
     ]
    },
    {
     "name": "stderr",
     "output_type": "stream",
     "text": [
      "Epoch 11/35 [Train]: 100%|██████████| 86/86 [00:46<00:00,  1.86it/s]\n",
      "Epoch 11/35 [Val]: 100%|██████████| 11/11 [00:03<00:00,  2.81it/s]\n"
     ]
    },
    {
     "name": "stdout",
     "output_type": "stream",
     "text": [
      "Epoch 11/35: Train Loss=0.8172, Train Acc=0.7245, Val Loss=1.0588, Val Acc=0.6701\n",
      "Best model saved in d:\\Uni\\Master\\1 Bimestre\\Foundations\\Assignments\\Weather-Clasification\\models\\best_model_CNN_V2.pth (val_acc=0.6701)\n"
     ]
    },
    {
     "name": "stderr",
     "output_type": "stream",
     "text": [
      "Epoch 12/35 [Train]: 100%|██████████| 86/86 [00:46<00:00,  1.86it/s]\n",
      "Epoch 12/35 [Val]: 100%|██████████| 11/11 [00:03<00:00,  2.84it/s]\n"
     ]
    },
    {
     "name": "stdout",
     "output_type": "stream",
     "text": [
      "Epoch 12/35: Train Loss=0.7426, Train Acc=0.7484, Val Loss=1.0537, Val Acc=0.6657\n"
     ]
    },
    {
     "name": "stderr",
     "output_type": "stream",
     "text": [
      "Epoch 13/35 [Train]: 100%|██████████| 86/86 [00:46<00:00,  1.85it/s]\n",
      "Epoch 13/35 [Val]: 100%|██████████| 11/11 [00:03<00:00,  2.77it/s]\n"
     ]
    },
    {
     "name": "stdout",
     "output_type": "stream",
     "text": [
      "Epoch 13/35: Train Loss=0.6613, Train Acc=0.7757, Val Loss=1.0831, Val Acc=0.6657\n"
     ]
    },
    {
     "name": "stderr",
     "output_type": "stream",
     "text": [
      "Epoch 14/35 [Train]: 100%|██████████| 86/86 [00:46<00:00,  1.84it/s]\n",
      "Epoch 14/35 [Val]: 100%|██████████| 11/11 [00:03<00:00,  2.75it/s]\n"
     ]
    },
    {
     "name": "stdout",
     "output_type": "stream",
     "text": [
      "Epoch 14/35: Train Loss=0.6089, Train Acc=0.7887, Val Loss=1.1883, Val Acc=0.6730\n",
      "Best model saved in d:\\Uni\\Master\\1 Bimestre\\Foundations\\Assignments\\Weather-Clasification\\models\\best_model_CNN_V2.pth (val_acc=0.6730)\n"
     ]
    },
    {
     "name": "stderr",
     "output_type": "stream",
     "text": [
      "Epoch 15/35 [Train]: 100%|██████████| 86/86 [00:47<00:00,  1.83it/s]\n",
      "Epoch 15/35 [Val]: 100%|██████████| 11/11 [00:04<00:00,  2.60it/s]\n"
     ]
    },
    {
     "name": "stdout",
     "output_type": "stream",
     "text": [
      "Epoch 15/35: Train Loss=0.4912, Train Acc=0.8364, Val Loss=1.2650, Val Acc=0.6891\n",
      "Best model saved in d:\\Uni\\Master\\1 Bimestre\\Foundations\\Assignments\\Weather-Clasification\\models\\best_model_CNN_V2.pth (val_acc=0.6891)\n"
     ]
    },
    {
     "name": "stderr",
     "output_type": "stream",
     "text": [
      "Epoch 16/35 [Train]: 100%|██████████| 86/86 [00:46<00:00,  1.84it/s]\n",
      "Epoch 16/35 [Val]: 100%|██████████| 11/11 [00:04<00:00,  2.42it/s]\n"
     ]
    },
    {
     "name": "stdout",
     "output_type": "stream",
     "text": [
      "Epoch 16/35: Train Loss=0.4061, Train Acc=0.8658, Val Loss=1.2465, Val Acc=0.6760\n"
     ]
    },
    {
     "name": "stderr",
     "output_type": "stream",
     "text": [
      "Epoch 17/35 [Train]: 100%|██████████| 86/86 [00:46<00:00,  1.84it/s]\n",
      "Epoch 17/35 [Val]: 100%|██████████| 11/11 [00:03<00:00,  2.80it/s]\n"
     ]
    },
    {
     "name": "stdout",
     "output_type": "stream",
     "text": [
      "Epoch 17/35: Train Loss=0.3166, Train Acc=0.8944, Val Loss=1.5449, Val Acc=0.6789\n"
     ]
    },
    {
     "name": "stderr",
     "output_type": "stream",
     "text": [
      "Epoch 18/35 [Train]: 100%|██████████| 86/86 [00:50<00:00,  1.71it/s]\n",
      "Epoch 18/35 [Val]: 100%|██████████| 11/11 [00:05<00:00,  2.20it/s]\n"
     ]
    },
    {
     "name": "stdout",
     "output_type": "stream",
     "text": [
      "Epoch 18/35: Train Loss=0.2516, Train Acc=0.9183, Val Loss=1.6849, Val Acc=0.6730\n"
     ]
    },
    {
     "name": "stderr",
     "output_type": "stream",
     "text": [
      "Epoch 19/35 [Train]: 100%|██████████| 86/86 [00:49<00:00,  1.75it/s]\n",
      "Epoch 19/35 [Val]: 100%|██████████| 11/11 [00:04<00:00,  2.74it/s]\n"
     ]
    },
    {
     "name": "stdout",
     "output_type": "stream",
     "text": [
      "Epoch 19/35: Train Loss=0.2011, Train Acc=0.9342, Val Loss=1.9648, Val Acc=0.6745\n"
     ]
    },
    {
     "name": "stderr",
     "output_type": "stream",
     "text": [
      "Epoch 20/35 [Train]: 100%|██████████| 86/86 [00:48<00:00,  1.76it/s]\n",
      "Epoch 20/35 [Val]: 100%|██████████| 11/11 [00:04<00:00,  2.72it/s]\n"
     ]
    },
    {
     "name": "stdout",
     "output_type": "stream",
     "text": [
      "Epoch 20/35: Train Loss=0.1942, Train Acc=0.9415, Val Loss=1.9242, Val Acc=0.6481\n"
     ]
    },
    {
     "name": "stderr",
     "output_type": "stream",
     "text": [
      "Epoch 21/35 [Train]: 100%|██████████| 86/86 [00:50<00:00,  1.71it/s]\n",
      "Epoch 21/35 [Val]: 100%|██████████| 11/11 [00:04<00:00,  2.58it/s]\n"
     ]
    },
    {
     "name": "stdout",
     "output_type": "stream",
     "text": [
      "Epoch 21/35: Train Loss=0.1739, Train Acc=0.9447, Val Loss=1.8995, Val Acc=0.6906\n",
      "Best model saved in d:\\Uni\\Master\\1 Bimestre\\Foundations\\Assignments\\Weather-Clasification\\models\\best_model_CNN_V2.pth (val_acc=0.6906)\n"
     ]
    },
    {
     "name": "stderr",
     "output_type": "stream",
     "text": [
      "Epoch 22/35 [Train]: 100%|██████████| 86/86 [00:48<00:00,  1.79it/s]\n",
      "Epoch 22/35 [Val]: 100%|██████████| 11/11 [00:04<00:00,  2.69it/s]\n"
     ]
    },
    {
     "name": "stdout",
     "output_type": "stream",
     "text": [
      "Epoch 22/35: Train Loss=0.1634, Train Acc=0.9508, Val Loss=2.1053, Val Acc=0.6848\n"
     ]
    },
    {
     "name": "stderr",
     "output_type": "stream",
     "text": [
      "Epoch 23/35 [Train]: 100%|██████████| 86/86 [00:47<00:00,  1.83it/s]\n",
      "Epoch 23/35 [Val]: 100%|██████████| 11/11 [00:04<00:00,  2.68it/s]\n"
     ]
    },
    {
     "name": "stdout",
     "output_type": "stream",
     "text": [
      "Epoch 23/35: Train Loss=0.1308, Train Acc=0.9561, Val Loss=2.0641, Val Acc=0.6760\n"
     ]
    },
    {
     "name": "stderr",
     "output_type": "stream",
     "text": [
      "Epoch 24/35 [Train]: 100%|██████████| 86/86 [00:46<00:00,  1.83it/s]\n",
      "Epoch 24/35 [Val]: 100%|██████████| 11/11 [00:04<00:00,  2.57it/s]\n"
     ]
    },
    {
     "name": "stdout",
     "output_type": "stream",
     "text": [
      "Epoch 24/35: Train Loss=0.0661, Train Acc=0.9787, Val Loss=2.3796, Val Acc=0.6716\n"
     ]
    },
    {
     "name": "stderr",
     "output_type": "stream",
     "text": [
      "Epoch 25/35 [Train]: 100%|██████████| 86/86 [00:47<00:00,  1.81it/s]\n",
      "Epoch 25/35 [Val]: 100%|██████████| 11/11 [00:04<00:00,  2.69it/s]\n"
     ]
    },
    {
     "name": "stdout",
     "output_type": "stream",
     "text": [
      "Epoch 25/35: Train Loss=0.0823, Train Acc=0.9723, Val Loss=2.7551, Val Acc=0.6833\n"
     ]
    },
    {
     "name": "stderr",
     "output_type": "stream",
     "text": [
      "Epoch 26/35 [Train]: 100%|██████████| 86/86 [00:47<00:00,  1.82it/s]\n",
      "Epoch 26/35 [Val]: 100%|██████████| 11/11 [00:04<00:00,  2.69it/s]\n"
     ]
    },
    {
     "name": "stdout",
     "output_type": "stream",
     "text": [
      "Epoch 26/35: Train Loss=0.0588, Train Acc=0.9798, Val Loss=2.5079, Val Acc=0.6672\n"
     ]
    },
    {
     "name": "stderr",
     "output_type": "stream",
     "text": [
      "Epoch 27/35 [Train]: 100%|██████████| 86/86 [00:47<00:00,  1.81it/s]\n",
      "Epoch 27/35 [Val]: 100%|██████████| 11/11 [00:04<00:00,  2.74it/s]\n"
     ]
    },
    {
     "name": "stdout",
     "output_type": "stream",
     "text": [
      "Epoch 27/35: Train Loss=0.1174, Train Acc=0.9646, Val Loss=2.2181, Val Acc=0.6686\n"
     ]
    },
    {
     "name": "stderr",
     "output_type": "stream",
     "text": [
      "Epoch 28/35 [Train]: 100%|██████████| 86/86 [00:47<00:00,  1.80it/s]\n",
      "Epoch 28/35 [Val]: 100%|██████████| 11/11 [00:04<00:00,  2.33it/s]\n"
     ]
    },
    {
     "name": "stdout",
     "output_type": "stream",
     "text": [
      "Epoch 28/35: Train Loss=0.0791, Train Acc=0.9745, Val Loss=2.4522, Val Acc=0.6760\n"
     ]
    },
    {
     "name": "stderr",
     "output_type": "stream",
     "text": [
      "Epoch 29/35 [Train]: 100%|██████████| 86/86 [00:55<00:00,  1.54it/s]\n",
      "Epoch 29/35 [Val]: 100%|██████████| 11/11 [00:04<00:00,  2.36it/s]\n"
     ]
    },
    {
     "name": "stdout",
     "output_type": "stream",
     "text": [
      "Epoch 29/35: Train Loss=0.0896, Train Acc=0.9739, Val Loss=2.4995, Val Acc=0.6877\n"
     ]
    },
    {
     "name": "stderr",
     "output_type": "stream",
     "text": [
      "Epoch 30/35 [Train]: 100%|██████████| 86/86 [00:52<00:00,  1.62it/s]\n",
      "Epoch 30/35 [Val]: 100%|██████████| 11/11 [00:04<00:00,  2.26it/s]\n"
     ]
    },
    {
     "name": "stdout",
     "output_type": "stream",
     "text": [
      "Epoch 30/35: Train Loss=0.0609, Train Acc=0.9814, Val Loss=2.7127, Val Acc=0.6774\n"
     ]
    },
    {
     "name": "stderr",
     "output_type": "stream",
     "text": [
      "Epoch 31/35 [Train]: 100%|██████████| 86/86 [00:53<00:00,  1.60it/s]\n",
      "Epoch 31/35 [Val]: 100%|██████████| 11/11 [00:04<00:00,  2.42it/s]\n"
     ]
    },
    {
     "name": "stdout",
     "output_type": "stream",
     "text": [
      "Epoch 31/35: Train Loss=0.0310, Train Acc=0.9920, Val Loss=2.9696, Val Acc=0.6745\n"
     ]
    },
    {
     "name": "stderr",
     "output_type": "stream",
     "text": [
      "Epoch 32/35 [Train]: 100%|██████████| 86/86 [00:52<00:00,  1.65it/s]\n",
      "Epoch 32/35 [Val]: 100%|██████████| 11/11 [00:04<00:00,  2.24it/s]\n"
     ]
    },
    {
     "name": "stdout",
     "output_type": "stream",
     "text": [
      "Epoch 32/35: Train Loss=0.0659, Train Acc=0.9781, Val Loss=2.6309, Val Acc=0.6642\n"
     ]
    },
    {
     "name": "stderr",
     "output_type": "stream",
     "text": [
      "Epoch 33/35 [Train]: 100%|██████████| 86/86 [00:52<00:00,  1.64it/s]\n",
      "Epoch 33/35 [Val]: 100%|██████████| 11/11 [00:04<00:00,  2.47it/s]\n"
     ]
    },
    {
     "name": "stdout",
     "output_type": "stream",
     "text": [
      "Epoch 33/35: Train Loss=0.0534, Train Acc=0.9818, Val Loss=2.4380, Val Acc=0.6789\n"
     ]
    },
    {
     "name": "stderr",
     "output_type": "stream",
     "text": [
      "Epoch 34/35 [Train]: 100%|██████████| 86/86 [00:52<00:00,  1.65it/s]\n",
      "Epoch 34/35 [Val]: 100%|██████████| 11/11 [00:04<00:00,  2.45it/s]\n"
     ]
    },
    {
     "name": "stdout",
     "output_type": "stream",
     "text": [
      "Epoch 34/35: Train Loss=0.0385, Train Acc=0.9871, Val Loss=2.6092, Val Acc=0.6598\n"
     ]
    },
    {
     "name": "stderr",
     "output_type": "stream",
     "text": [
      "Epoch 35/35 [Train]: 100%|██████████| 86/86 [00:57<00:00,  1.49it/s]\n",
      "Epoch 35/35 [Val]: 100%|██████████| 11/11 [00:04<00:00,  2.37it/s]"
     ]
    },
    {
     "name": "stdout",
     "output_type": "stream",
     "text": [
      "Epoch 35/35: Train Loss=0.0660, Train Acc=0.9809, Val Loss=2.5967, Val Acc=0.6569\n",
      "Training complete. Best val_acc=0.6906\n",
      "MMetrics saved in d:\\Uni\\Master\\1 Bimestre\\Foundations\\Assignments\\Weather-Clasification\\reports\\metrics\\metrics_CNN_V2.pkl\n"
     ]
    },
    {
     "name": "stderr",
     "output_type": "stream",
     "text": [
      "\n"
     ]
    }
   ],
   "source": [
    "input_dim = 128*128*3  # matches the Resize transform\n",
    "model = train_model_improved(CNN_V2, \n",
    "                    train_dir=\"../../data/train\", \n",
    "                    val_dir=\"../../data/val\", \n",
    "                    input_dim=input_dim,\n",
    "                    num_classes=11,\n",
    "                    batch_size=64,\n",
    "                    epochs=50,\n",
    "                    lr=1e-3,\n",
    "                    device=\"cuda\" if torch.cuda.is_available() else \"cpu\")"
   ]
  },
  {
   "cell_type": "code",
   "execution_count": null,
   "id": "047debac",
   "metadata": {},
   "outputs": [
    {
     "name": "stdout",
     "output_type": "stream",
     "text": [
      "Class counts: Counter({8: 928, 1: 680, 0: 558, 9: 553, 3: 511, 10: 496, 4: 472, 6: 420, 2: 380, 5: 301, 7: 185})\n",
      "Class weights: tensor([ 9.8280,  8.0647, 14.4316, 10.7319, 11.6186, 18.2193, 13.0571, 29.6432,\n",
      "         5.9095,  9.9168, 11.0565], device='cuda:0')\n"
     ]
    },
    {
     "name": "stderr",
     "output_type": "stream",
     "text": [
      "Epoch 1/35 [Train]: 100%|██████████| 86/86 [00:50<00:00,  1.72it/s]\n",
      "Epoch 1/35 [Val]: 100%|██████████| 11/11 [00:03<00:00,  2.86it/s]\n"
     ]
    },
    {
     "name": "stdout",
     "output_type": "stream",
     "text": [
      "Epoch 1/35: Train Loss=2.4028, Train Acc=0.1178, Val Loss=2.3879, Val Acc=0.2463\n",
      "Best model saved in d:\\Uni\\Master\\1 Bimestre\\Foundations\\Assignments\\Weather-Clasification\\models\\best_model_CNN_V2_reg.pth (val_acc=0.2463)\n"
     ]
    },
    {
     "name": "stderr",
     "output_type": "stream",
     "text": [
      "Epoch 2/35 [Train]: 100%|██████████| 86/86 [00:51<00:00,  1.66it/s]\n",
      "Epoch 2/35 [Val]: 100%|██████████| 11/11 [00:04<00:00,  2.43it/s]\n"
     ]
    },
    {
     "name": "stdout",
     "output_type": "stream",
     "text": [
      "Epoch 2/35: Train Loss=2.1689, Train Acc=0.2606, Val Loss=2.1739, Val Acc=0.2625\n",
      "Best model saved in d:\\Uni\\Master\\1 Bimestre\\Foundations\\Assignments\\Weather-Clasification\\models\\best_model_CNN_V2_reg.pth (val_acc=0.2625)\n"
     ]
    },
    {
     "name": "stderr",
     "output_type": "stream",
     "text": [
      "Epoch 3/35 [Train]: 100%|██████████| 86/86 [00:51<00:00,  1.65it/s]\n",
      "Epoch 3/35 [Val]: 100%|██████████| 11/11 [00:04<00:00,  2.67it/s]\n"
     ]
    },
    {
     "name": "stdout",
     "output_type": "stream",
     "text": [
      "Epoch 3/35: Train Loss=1.8548, Train Acc=0.3995, Val Loss=1.9893, Val Acc=0.4370\n",
      "Best model saved in d:\\Uni\\Master\\1 Bimestre\\Foundations\\Assignments\\Weather-Clasification\\models\\best_model_CNN_V2_reg.pth (val_acc=0.4370)\n"
     ]
    },
    {
     "name": "stderr",
     "output_type": "stream",
     "text": [
      "Epoch 4/35 [Train]: 100%|██████████| 86/86 [00:55<00:00,  1.55it/s]\n",
      "Epoch 4/35 [Val]: 100%|██████████| 11/11 [00:05<00:00,  2.18it/s]\n"
     ]
    },
    {
     "name": "stdout",
     "output_type": "stream",
     "text": [
      "Epoch 4/35: Train Loss=1.6001, Train Acc=0.4619, Val Loss=1.9707, Val Acc=0.4765\n",
      "Best model saved in d:\\Uni\\Master\\1 Bimestre\\Foundations\\Assignments\\Weather-Clasification\\models\\best_model_CNN_V2_reg.pth (val_acc=0.4765)\n"
     ]
    },
    {
     "name": "stderr",
     "output_type": "stream",
     "text": [
      "Epoch 5/35 [Train]: 100%|██████████| 86/86 [00:56<00:00,  1.54it/s]\n",
      "Epoch 5/35 [Val]: 100%|██████████| 11/11 [00:05<00:00,  2.20it/s]\n"
     ]
    },
    {
     "name": "stdout",
     "output_type": "stream",
     "text": [
      "Epoch 5/35: Train Loss=1.4963, Train Acc=0.5066, Val Loss=1.7804, Val Acc=0.4971\n",
      "Best model saved in d:\\Uni\\Master\\1 Bimestre\\Foundations\\Assignments\\Weather-Clasification\\models\\best_model_CNN_V2_reg.pth (val_acc=0.4971)\n"
     ]
    },
    {
     "name": "stderr",
     "output_type": "stream",
     "text": [
      "Epoch 6/35 [Train]: 100%|██████████| 86/86 [00:53<00:00,  1.59it/s]\n",
      "Epoch 6/35 [Val]: 100%|██████████| 11/11 [00:04<00:00,  2.70it/s]\n"
     ]
    },
    {
     "name": "stdout",
     "output_type": "stream",
     "text": [
      "Epoch 6/35: Train Loss=1.3731, Train Acc=0.5297, Val Loss=1.7191, Val Acc=0.5323\n",
      "Best model saved in d:\\Uni\\Master\\1 Bimestre\\Foundations\\Assignments\\Weather-Clasification\\models\\best_model_CNN_V2_reg.pth (val_acc=0.5323)\n"
     ]
    },
    {
     "name": "stderr",
     "output_type": "stream",
     "text": [
      "Epoch 7/35 [Train]: 100%|██████████| 86/86 [00:49<00:00,  1.74it/s]\n",
      "Epoch 7/35 [Val]: 100%|██████████| 11/11 [00:03<00:00,  2.79it/s]\n"
     ]
    },
    {
     "name": "stdout",
     "output_type": "stream",
     "text": [
      "Epoch 7/35: Train Loss=1.3208, Train Acc=0.5660, Val Loss=1.5997, Val Acc=0.5440\n",
      "Best model saved in d:\\Uni\\Master\\1 Bimestre\\Foundations\\Assignments\\Weather-Clasification\\models\\best_model_CNN_V2_reg.pth (val_acc=0.5440)\n"
     ]
    },
    {
     "name": "stderr",
     "output_type": "stream",
     "text": [
      "Epoch 8/35 [Train]: 100%|██████████| 86/86 [00:51<00:00,  1.69it/s]\n",
      "Epoch 8/35 [Val]: 100%|██████████| 11/11 [00:04<00:00,  2.51it/s]\n"
     ]
    },
    {
     "name": "stdout",
     "output_type": "stream",
     "text": [
      "Epoch 8/35: Train Loss=1.2085, Train Acc=0.6056, Val Loss=1.5664, Val Acc=0.5968\n",
      "Best model saved in d:\\Uni\\Master\\1 Bimestre\\Foundations\\Assignments\\Weather-Clasification\\models\\best_model_CNN_V2_reg.pth (val_acc=0.5968)\n"
     ]
    },
    {
     "name": "stderr",
     "output_type": "stream",
     "text": [
      "Epoch 9/35 [Train]: 100%|██████████| 86/86 [00:52<00:00,  1.64it/s]\n",
      "Epoch 9/35 [Val]: 100%|██████████| 11/11 [00:05<00:00,  1.84it/s]\n"
     ]
    },
    {
     "name": "stdout",
     "output_type": "stream",
     "text": [
      "Epoch 9/35: Train Loss=1.1541, Train Acc=0.6198, Val Loss=1.4992, Val Acc=0.5792\n"
     ]
    },
    {
     "name": "stderr",
     "output_type": "stream",
     "text": [
      "Epoch 10/35 [Train]: 100%|██████████| 86/86 [00:59<00:00,  1.44it/s]\n",
      "Epoch 10/35 [Val]: 100%|██████████| 11/11 [00:04<00:00,  2.43it/s]\n"
     ]
    },
    {
     "name": "stdout",
     "output_type": "stream",
     "text": [
      "Epoch 10/35: Train Loss=1.1262, Train Acc=0.6273, Val Loss=1.4979, Val Acc=0.5689\n"
     ]
    },
    {
     "name": "stderr",
     "output_type": "stream",
     "text": [
      "Epoch 11/35 [Train]: 100%|██████████| 86/86 [00:47<00:00,  1.83it/s]\n",
      "Epoch 11/35 [Val]: 100%|██████████| 11/11 [00:03<00:00,  3.00it/s]\n"
     ]
    },
    {
     "name": "stdout",
     "output_type": "stream",
     "text": [
      "Epoch 11/35: Train Loss=1.1097, Train Acc=0.6306, Val Loss=1.4980, Val Acc=0.5440\n"
     ]
    },
    {
     "name": "stderr",
     "output_type": "stream",
     "text": [
      "Epoch 12/35 [Train]: 100%|██████████| 86/86 [00:47<00:00,  1.83it/s]\n",
      "Epoch 12/35 [Val]: 100%|██████████| 11/11 [00:03<00:00,  2.95it/s]\n"
     ]
    },
    {
     "name": "stdout",
     "output_type": "stream",
     "text": [
      "Epoch 12/35: Train Loss=1.0659, Train Acc=0.6444, Val Loss=1.3916, Val Acc=0.6173\n",
      "Best model saved in d:\\Uni\\Master\\1 Bimestre\\Foundations\\Assignments\\Weather-Clasification\\models\\best_model_CNN_V2_reg.pth (val_acc=0.6173)\n"
     ]
    },
    {
     "name": "stderr",
     "output_type": "stream",
     "text": [
      "Epoch 13/35 [Train]: 100%|██████████| 86/86 [00:45<00:00,  1.90it/s]\n",
      "Epoch 13/35 [Val]: 100%|██████████| 11/11 [00:03<00:00,  3.00it/s]\n"
     ]
    },
    {
     "name": "stdout",
     "output_type": "stream",
     "text": [
      "Epoch 13/35: Train Loss=1.0326, Train Acc=0.6546, Val Loss=1.3643, Val Acc=0.6056\n"
     ]
    },
    {
     "name": "stderr",
     "output_type": "stream",
     "text": [
      "Epoch 14/35 [Train]: 100%|██████████| 86/86 [00:47<00:00,  1.80it/s]\n",
      "Epoch 14/35 [Val]: 100%|██████████| 11/11 [00:03<00:00,  2.95it/s]\n"
     ]
    },
    {
     "name": "stdout",
     "output_type": "stream",
     "text": [
      "Epoch 14/35: Train Loss=0.9782, Train Acc=0.6803, Val Loss=1.2772, Val Acc=0.6408\n",
      "Best model saved in d:\\Uni\\Master\\1 Bimestre\\Foundations\\Assignments\\Weather-Clasification\\models\\best_model_CNN_V2_reg.pth (val_acc=0.6408)\n"
     ]
    },
    {
     "name": "stderr",
     "output_type": "stream",
     "text": [
      "Epoch 15/35 [Train]: 100%|██████████| 86/86 [00:47<00:00,  1.82it/s]\n",
      "Epoch 15/35 [Val]: 100%|██████████| 11/11 [00:03<00:00,  2.80it/s]\n"
     ]
    },
    {
     "name": "stdout",
     "output_type": "stream",
     "text": [
      "Epoch 15/35: Train Loss=0.9304, Train Acc=0.6856, Val Loss=1.2910, Val Acc=0.6510\n",
      "Best model saved in d:\\Uni\\Master\\1 Bimestre\\Foundations\\Assignments\\Weather-Clasification\\models\\best_model_CNN_V2_reg.pth (val_acc=0.6510)\n"
     ]
    },
    {
     "name": "stderr",
     "output_type": "stream",
     "text": [
      "Epoch 16/35 [Train]: 100%|██████████| 86/86 [00:48<00:00,  1.76it/s]\n",
      "Epoch 16/35 [Val]: 100%|██████████| 11/11 [00:03<00:00,  2.97it/s]\n"
     ]
    },
    {
     "name": "stdout",
     "output_type": "stream",
     "text": [
      "Epoch 16/35: Train Loss=0.8986, Train Acc=0.6966, Val Loss=1.2633, Val Acc=0.6408\n"
     ]
    },
    {
     "name": "stderr",
     "output_type": "stream",
     "text": [
      "Epoch 17/35 [Train]: 100%|██████████| 86/86 [00:48<00:00,  1.76it/s]\n",
      "Epoch 17/35 [Val]: 100%|██████████| 11/11 [00:03<00:00,  2.99it/s]\n"
     ]
    },
    {
     "name": "stdout",
     "output_type": "stream",
     "text": [
      "Epoch 17/35: Train Loss=0.8757, Train Acc=0.7024, Val Loss=1.2506, Val Acc=0.6408\n"
     ]
    },
    {
     "name": "stderr",
     "output_type": "stream",
     "text": [
      "Epoch 18/35 [Train]: 100%|██████████| 86/86 [00:45<00:00,  1.88it/s]\n",
      "Epoch 18/35 [Val]: 100%|██████████| 11/11 [00:03<00:00,  3.02it/s]\n"
     ]
    },
    {
     "name": "stdout",
     "output_type": "stream",
     "text": [
      "Epoch 18/35: Train Loss=0.8748, Train Acc=0.7073, Val Loss=1.2054, Val Acc=0.6378\n"
     ]
    },
    {
     "name": "stderr",
     "output_type": "stream",
     "text": [
      "Epoch 19/35 [Train]: 100%|██████████| 86/86 [00:45<00:00,  1.90it/s]\n",
      "Epoch 19/35 [Val]: 100%|██████████| 11/11 [00:03<00:00,  2.82it/s]\n"
     ]
    },
    {
     "name": "stdout",
     "output_type": "stream",
     "text": [
      "Epoch 19/35: Train Loss=0.8512, Train Acc=0.7009, Val Loss=1.3438, Val Acc=0.5909\n"
     ]
    },
    {
     "name": "stderr",
     "output_type": "stream",
     "text": [
      "Epoch 20/35 [Train]: 100%|██████████| 86/86 [00:45<00:00,  1.88it/s]\n",
      "Epoch 20/35 [Val]: 100%|██████████| 11/11 [00:04<00:00,  2.61it/s]\n"
     ]
    },
    {
     "name": "stdout",
     "output_type": "stream",
     "text": [
      "Epoch 20/35: Train Loss=0.8019, Train Acc=0.7299, Val Loss=1.1643, Val Acc=0.6540\n",
      "Best model saved in d:\\Uni\\Master\\1 Bimestre\\Foundations\\Assignments\\Weather-Clasification\\models\\best_model_CNN_V2_reg.pth (val_acc=0.6540)\n"
     ]
    },
    {
     "name": "stderr",
     "output_type": "stream",
     "text": [
      "Epoch 21/35 [Train]: 100%|██████████| 86/86 [00:47<00:00,  1.79it/s]\n",
      "Epoch 21/35 [Val]: 100%|██████████| 11/11 [00:03<00:00,  2.87it/s]\n"
     ]
    },
    {
     "name": "stdout",
     "output_type": "stream",
     "text": [
      "Epoch 21/35: Train Loss=0.7580, Train Acc=0.7361, Val Loss=1.1358, Val Acc=0.6422\n"
     ]
    },
    {
     "name": "stderr",
     "output_type": "stream",
     "text": [
      "Epoch 22/35 [Train]: 100%|██████████| 86/86 [00:46<00:00,  1.85it/s]\n",
      "Epoch 22/35 [Val]: 100%|██████████| 11/11 [00:03<00:00,  2.98it/s]\n"
     ]
    },
    {
     "name": "stdout",
     "output_type": "stream",
     "text": [
      "Epoch 22/35: Train Loss=0.7489, Train Acc=0.7391, Val Loss=1.1308, Val Acc=0.6525\n"
     ]
    },
    {
     "name": "stderr",
     "output_type": "stream",
     "text": [
      "Epoch 23/35 [Train]: 100%|██████████| 86/86 [00:52<00:00,  1.63it/s]\n",
      "Epoch 23/35 [Val]: 100%|██████████| 11/11 [00:04<00:00,  2.64it/s]\n"
     ]
    },
    {
     "name": "stdout",
     "output_type": "stream",
     "text": [
      "Epoch 23/35: Train Loss=0.7297, Train Acc=0.7547, Val Loss=1.1114, Val Acc=0.6598\n",
      "Best model saved in d:\\Uni\\Master\\1 Bimestre\\Foundations\\Assignments\\Weather-Clasification\\models\\best_model_CNN_V2_reg.pth (val_acc=0.6598)\n"
     ]
    },
    {
     "name": "stderr",
     "output_type": "stream",
     "text": [
      "Epoch 24/35 [Train]: 100%|██████████| 86/86 [00:49<00:00,  1.72it/s]\n",
      "Epoch 24/35 [Val]: 100%|██████████| 11/11 [00:04<00:00,  2.69it/s]\n"
     ]
    },
    {
     "name": "stdout",
     "output_type": "stream",
     "text": [
      "Epoch 24/35: Train Loss=0.7538, Train Acc=0.7500, Val Loss=1.1274, Val Acc=0.6305\n"
     ]
    },
    {
     "name": "stderr",
     "output_type": "stream",
     "text": [
      "Epoch 25/35 [Train]: 100%|██████████| 86/86 [00:48<00:00,  1.78it/s]\n",
      "Epoch 25/35 [Val]: 100%|██████████| 11/11 [00:03<00:00,  2.85it/s]\n"
     ]
    },
    {
     "name": "stdout",
     "output_type": "stream",
     "text": [
      "Epoch 25/35: Train Loss=0.6698, Train Acc=0.7774, Val Loss=1.2163, Val Acc=0.6320\n"
     ]
    },
    {
     "name": "stderr",
     "output_type": "stream",
     "text": [
      "Epoch 26/35 [Train]: 100%|██████████| 86/86 [00:48<00:00,  1.76it/s]\n",
      "Epoch 26/35 [Val]: 100%|██████████| 11/11 [00:05<00:00,  2.00it/s]\n"
     ]
    },
    {
     "name": "stdout",
     "output_type": "stream",
     "text": [
      "Epoch 26/35: Train Loss=0.6864, Train Acc=0.7701, Val Loss=1.1487, Val Acc=0.6466\n"
     ]
    },
    {
     "name": "stderr",
     "output_type": "stream",
     "text": [
      "Epoch 27/35 [Train]: 100%|██████████| 86/86 [00:50<00:00,  1.71it/s]\n",
      "Epoch 27/35 [Val]: 100%|██████████| 11/11 [00:04<00:00,  2.58it/s]\n"
     ]
    },
    {
     "name": "stdout",
     "output_type": "stream",
     "text": [
      "Epoch 27/35: Train Loss=0.6661, Train Acc=0.7708, Val Loss=1.0527, Val Acc=0.6701\n",
      "Best model saved in d:\\Uni\\Master\\1 Bimestre\\Foundations\\Assignments\\Weather-Clasification\\models\\best_model_CNN_V2_reg.pth (val_acc=0.6701)\n"
     ]
    },
    {
     "name": "stderr",
     "output_type": "stream",
     "text": [
      "Epoch 28/35 [Train]: 100%|██████████| 86/86 [00:49<00:00,  1.75it/s]\n",
      "Epoch 28/35 [Val]: 100%|██████████| 11/11 [00:04<00:00,  2.62it/s]\n"
     ]
    },
    {
     "name": "stdout",
     "output_type": "stream",
     "text": [
      "Epoch 28/35: Train Loss=0.6768, Train Acc=0.7695, Val Loss=1.1917, Val Acc=0.6202\n"
     ]
    },
    {
     "name": "stderr",
     "output_type": "stream",
     "text": [
      "Epoch 29/35 [Train]: 100%|██████████| 86/86 [00:48<00:00,  1.76it/s]\n",
      "Epoch 29/35 [Val]: 100%|██████████| 11/11 [00:04<00:00,  2.62it/s]\n"
     ]
    },
    {
     "name": "stdout",
     "output_type": "stream",
     "text": [
      "Epoch 29/35: Train Loss=0.6485, Train Acc=0.7748, Val Loss=1.0915, Val Acc=0.6584\n"
     ]
    },
    {
     "name": "stderr",
     "output_type": "stream",
     "text": [
      "Epoch 30/35 [Train]: 100%|██████████| 86/86 [00:49<00:00,  1.75it/s]\n",
      "Epoch 30/35 [Val]: 100%|██████████| 11/11 [00:04<00:00,  2.50it/s]\n"
     ]
    },
    {
     "name": "stdout",
     "output_type": "stream",
     "text": [
      "Epoch 30/35: Train Loss=0.6030, Train Acc=0.7901, Val Loss=1.0772, Val Acc=0.6496\n"
     ]
    },
    {
     "name": "stderr",
     "output_type": "stream",
     "text": [
      "Epoch 31/35 [Train]: 100%|██████████| 86/86 [00:52<00:00,  1.63it/s]\n",
      "Epoch 31/35 [Val]: 100%|██████████| 11/11 [00:04<00:00,  2.50it/s]\n"
     ]
    },
    {
     "name": "stdout",
     "output_type": "stream",
     "text": [
      "Epoch 31/35: Train Loss=0.5410, Train Acc=0.8158, Val Loss=1.0932, Val Acc=0.6437\n"
     ]
    },
    {
     "name": "stderr",
     "output_type": "stream",
     "text": [
      "Epoch 32/35 [Train]: 100%|██████████| 86/86 [00:55<00:00,  1.55it/s]\n",
      "Epoch 32/35 [Val]: 100%|██████████| 11/11 [00:04<00:00,  2.48it/s]\n"
     ]
    },
    {
     "name": "stdout",
     "output_type": "stream",
     "text": [
      "Epoch 32/35: Train Loss=0.5505, Train Acc=0.8189, Val Loss=1.0767, Val Acc=0.6672\n"
     ]
    },
    {
     "name": "stderr",
     "output_type": "stream",
     "text": [
      "Epoch 33/35 [Train]: 100%|██████████| 86/86 [00:54<00:00,  1.57it/s]\n",
      "Epoch 33/35 [Val]: 100%|██████████| 11/11 [00:04<00:00,  2.22it/s]\n"
     ]
    },
    {
     "name": "stdout",
     "output_type": "stream",
     "text": [
      "Epoch 33/35: Train Loss=0.5391, Train Acc=0.8171, Val Loss=1.0955, Val Acc=0.6657\n"
     ]
    },
    {
     "name": "stderr",
     "output_type": "stream",
     "text": [
      "Epoch 34/35 [Train]: 100%|██████████| 86/86 [00:51<00:00,  1.68it/s]\n",
      "Epoch 34/35 [Val]: 100%|██████████| 11/11 [00:04<00:00,  2.27it/s]\n"
     ]
    },
    {
     "name": "stdout",
     "output_type": "stream",
     "text": [
      "Epoch 34/35: Train Loss=0.5125, Train Acc=0.8260, Val Loss=1.0219, Val Acc=0.6672\n"
     ]
    },
    {
     "name": "stderr",
     "output_type": "stream",
     "text": [
      "Epoch 35/35 [Train]: 100%|██████████| 86/86 [00:53<00:00,  1.62it/s]\n",
      "Epoch 35/35 [Val]: 100%|██████████| 11/11 [00:05<00:00,  2.20it/s]\n"
     ]
    },
    {
     "name": "stdout",
     "output_type": "stream",
     "text": [
      "Epoch 35/35: Train Loss=0.5006, Train Acc=0.8341, Val Loss=1.1052, Val Acc=0.6848\n",
      "Best model saved in d:\\Uni\\Master\\1 Bimestre\\Foundations\\Assignments\\Weather-Clasification\\models\\best_model_CNN_V2_reg.pth (val_acc=0.6848)\n",
      "Training complete. Best val_acc=0.6848\n",
      "MMetrics saved in d:\\Uni\\Master\\1 Bimestre\\Foundations\\Assignments\\Weather-Clasification\\reports\\metrics\\metrics_CNN_V2_reg.pkl\n"
     ]
    }
   ],
   "source": [
    "input_dim = 128*128*3  # matches the Resize transform\n",
    "model = train_model_improved(CNN_V2_reg, \n",
    "                    train_dir=\"../../data/train\", \n",
    "                    val_dir=\"../../data/val\", \n",
    "                    input_dim=input_dim,\n",
    "                    num_classes=11,\n",
    "                    batch_size=64,\n",
    "                    epochs=50,\n",
    "                    lr=1e-3,\n",
    "                    device=\"cuda\" if torch.cuda.is_available() else \"cpu\")"
   ]
  },
  {
   "cell_type": "code",
   "execution_count": null,
   "id": "927fbfeb",
   "metadata": {},
   "outputs": [
    {
     "name": "stdout",
     "output_type": "stream",
     "text": [
      "Class counts: Counter({8: 928, 1: 680, 0: 558, 9: 553, 3: 511, 10: 496, 4: 472, 6: 420, 2: 380, 5: 301, 7: 185})\n",
      "Class weights: tensor([ 9.8280,  8.0647, 14.4316, 10.7319, 11.6186, 18.2193, 13.0571, 29.6432,\n",
      "         5.9095,  9.9168, 11.0565], device='cuda:0')\n"
     ]
    },
    {
     "name": "stderr",
     "output_type": "stream",
     "text": [
      "Epoch 1/35 [Train]: 100%|██████████| 86/86 [00:40<00:00,  2.13it/s]\n",
      "Epoch 1/35 [Val]: 100%|██████████| 11/11 [00:05<00:00,  2.16it/s]\n"
     ]
    },
    {
     "name": "stdout",
     "output_type": "stream",
     "text": [
      "Epoch 1/35: Train Loss=2.1549, Train Acc=0.2175, Val Loss=1.8832, Val Acc=0.3079\n",
      "Best model saved in d:\\Uni\\Master\\1 Bimestre\\Foundations\\Assignments\\Weather-Clasification\\models\\best_model_CNN_V3.pth (val_acc=0.3079)\n"
     ]
    },
    {
     "name": "stderr",
     "output_type": "stream",
     "text": [
      "Epoch 2/35 [Train]: 100%|██████████| 86/86 [00:41<00:00,  2.07it/s]\n",
      "Epoch 2/35 [Val]: 100%|██████████| 11/11 [00:05<00:00,  2.16it/s]\n"
     ]
    },
    {
     "name": "stdout",
     "output_type": "stream",
     "text": [
      "Epoch 2/35: Train Loss=1.7375, Train Acc=0.3501, Val Loss=1.5820, Val Acc=0.4355\n",
      "Best model saved in d:\\Uni\\Master\\1 Bimestre\\Foundations\\Assignments\\Weather-Clasification\\models\\best_model_CNN_V3.pth (val_acc=0.4355)\n"
     ]
    },
    {
     "name": "stderr",
     "output_type": "stream",
     "text": [
      "Epoch 3/35 [Train]: 100%|██████████| 86/86 [00:40<00:00,  2.10it/s]\n",
      "Epoch 3/35 [Val]: 100%|██████████| 11/11 [00:04<00:00,  2.32it/s]\n"
     ]
    },
    {
     "name": "stdout",
     "output_type": "stream",
     "text": [
      "Epoch 3/35: Train Loss=1.5235, Train Acc=0.4373, Val Loss=1.4345, Val Acc=0.4765\n",
      "Best model saved in d:\\Uni\\Master\\1 Bimestre\\Foundations\\Assignments\\Weather-Clasification\\models\\best_model_CNN_V3.pth (val_acc=0.4765)\n"
     ]
    },
    {
     "name": "stderr",
     "output_type": "stream",
     "text": [
      "Epoch 4/35 [Train]: 100%|██████████| 86/86 [00:37<00:00,  2.30it/s]\n",
      "Epoch 4/35 [Val]: 100%|██████████| 11/11 [00:04<00:00,  2.46it/s]\n"
     ]
    },
    {
     "name": "stdout",
     "output_type": "stream",
     "text": [
      "Epoch 4/35: Train Loss=1.3950, Train Acc=0.4905, Val Loss=1.3724, Val Acc=0.4765\n"
     ]
    },
    {
     "name": "stderr",
     "output_type": "stream",
     "text": [
      "Epoch 5/35 [Train]: 100%|██████████| 86/86 [00:36<00:00,  2.36it/s]\n",
      "Epoch 5/35 [Val]: 100%|██████████| 11/11 [00:04<00:00,  2.57it/s]\n"
     ]
    },
    {
     "name": "stdout",
     "output_type": "stream",
     "text": [
      "Epoch 5/35: Train Loss=1.2559, Train Acc=0.5605, Val Loss=1.6180, Val Acc=0.4736\n"
     ]
    },
    {
     "name": "stderr",
     "output_type": "stream",
     "text": [
      "Epoch 6/35 [Train]: 100%|██████████| 86/86 [00:36<00:00,  2.38it/s]\n",
      "Epoch 6/35 [Val]: 100%|██████████| 11/11 [00:04<00:00,  2.60it/s]\n"
     ]
    },
    {
     "name": "stdout",
     "output_type": "stream",
     "text": [
      "Epoch 6/35: Train Loss=1.1836, Train Acc=0.5950, Val Loss=1.3024, Val Acc=0.5191\n",
      "Best model saved in d:\\Uni\\Master\\1 Bimestre\\Foundations\\Assignments\\Weather-Clasification\\models\\best_model_CNN_V3.pth (val_acc=0.5191)\n"
     ]
    },
    {
     "name": "stderr",
     "output_type": "stream",
     "text": [
      "Epoch 7/35 [Train]: 100%|██████████| 86/86 [00:35<00:00,  2.40it/s]\n",
      "Epoch 7/35 [Val]: 100%|██████████| 11/11 [00:04<00:00,  2.50it/s]\n"
     ]
    },
    {
     "name": "stdout",
     "output_type": "stream",
     "text": [
      "Epoch 7/35: Train Loss=1.1100, Train Acc=0.6209, Val Loss=1.1703, Val Acc=0.5909\n",
      "Best model saved in d:\\Uni\\Master\\1 Bimestre\\Foundations\\Assignments\\Weather-Clasification\\models\\best_model_CNN_V3.pth (val_acc=0.5909)\n"
     ]
    },
    {
     "name": "stderr",
     "output_type": "stream",
     "text": [
      "Epoch 8/35 [Train]: 100%|██████████| 86/86 [00:36<00:00,  2.37it/s]\n",
      "Epoch 8/35 [Val]: 100%|██████████| 11/11 [00:04<00:00,  2.49it/s]\n"
     ]
    },
    {
     "name": "stdout",
     "output_type": "stream",
     "text": [
      "Epoch 8/35: Train Loss=1.0281, Train Acc=0.6479, Val Loss=1.0841, Val Acc=0.6349\n",
      "Best model saved in d:\\Uni\\Master\\1 Bimestre\\Foundations\\Assignments\\Weather-Clasification\\models\\best_model_CNN_V3.pth (val_acc=0.6349)\n"
     ]
    },
    {
     "name": "stderr",
     "output_type": "stream",
     "text": [
      "Epoch 9/35 [Train]: 100%|██████████| 86/86 [00:35<00:00,  2.40it/s]\n",
      "Epoch 9/35 [Val]: 100%|██████████| 11/11 [00:04<00:00,  2.51it/s]\n"
     ]
    },
    {
     "name": "stdout",
     "output_type": "stream",
     "text": [
      "Epoch 9/35: Train Loss=0.9845, Train Acc=0.6586, Val Loss=1.0356, Val Acc=0.6584\n",
      "Best model saved in d:\\Uni\\Master\\1 Bimestre\\Foundations\\Assignments\\Weather-Clasification\\models\\best_model_CNN_V3.pth (val_acc=0.6584)\n"
     ]
    },
    {
     "name": "stderr",
     "output_type": "stream",
     "text": [
      "Epoch 10/35 [Train]: 100%|██████████| 86/86 [00:36<00:00,  2.37it/s]\n",
      "Epoch 10/35 [Val]: 100%|██████████| 11/11 [00:04<00:00,  2.66it/s]\n"
     ]
    },
    {
     "name": "stdout",
     "output_type": "stream",
     "text": [
      "Epoch 10/35: Train Loss=0.9484, Train Acc=0.6709, Val Loss=1.0653, Val Acc=0.6305\n"
     ]
    },
    {
     "name": "stderr",
     "output_type": "stream",
     "text": [
      "Epoch 11/35 [Train]: 100%|██████████| 86/86 [00:35<00:00,  2.43it/s]\n",
      "Epoch 11/35 [Val]: 100%|██████████| 11/11 [00:04<00:00,  2.55it/s]\n"
     ]
    },
    {
     "name": "stdout",
     "output_type": "stream",
     "text": [
      "Epoch 11/35: Train Loss=0.8879, Train Acc=0.6918, Val Loss=1.0984, Val Acc=0.6246\n"
     ]
    },
    {
     "name": "stderr",
     "output_type": "stream",
     "text": [
      "Epoch 12/35 [Train]: 100%|██████████| 86/86 [00:40<00:00,  2.15it/s]\n",
      "Epoch 12/35 [Val]: 100%|██████████| 11/11 [00:05<00:00,  2.20it/s]\n"
     ]
    },
    {
     "name": "stdout",
     "output_type": "stream",
     "text": [
      "Epoch 12/35: Train Loss=0.8795, Train Acc=0.6878, Val Loss=0.9512, Val Acc=0.6716\n",
      "Best model saved in d:\\Uni\\Master\\1 Bimestre\\Foundations\\Assignments\\Weather-Clasification\\models\\best_model_CNN_V3.pth (val_acc=0.6716)\n"
     ]
    },
    {
     "name": "stderr",
     "output_type": "stream",
     "text": [
      "Epoch 13/35 [Train]: 100%|██████████| 86/86 [00:40<00:00,  2.11it/s]\n",
      "Epoch 13/35 [Val]: 100%|██████████| 11/11 [00:04<00:00,  2.36it/s]\n"
     ]
    },
    {
     "name": "stdout",
     "output_type": "stream",
     "text": [
      "Epoch 13/35: Train Loss=0.8302, Train Acc=0.7035, Val Loss=1.0312, Val Acc=0.6642\n"
     ]
    },
    {
     "name": "stderr",
     "output_type": "stream",
     "text": [
      "Epoch 14/35 [Train]: 100%|██████████| 86/86 [00:37<00:00,  2.32it/s]\n",
      "Epoch 14/35 [Val]: 100%|██████████| 11/11 [00:04<00:00,  2.58it/s]\n"
     ]
    },
    {
     "name": "stdout",
     "output_type": "stream",
     "text": [
      "Epoch 14/35: Train Loss=0.7969, Train Acc=0.7154, Val Loss=0.9780, Val Acc=0.6422\n"
     ]
    },
    {
     "name": "stderr",
     "output_type": "stream",
     "text": [
      "Epoch 15/35 [Train]: 100%|██████████| 86/86 [00:35<00:00,  2.41it/s]\n",
      "Epoch 15/35 [Val]: 100%|██████████| 11/11 [00:04<00:00,  2.57it/s]\n"
     ]
    },
    {
     "name": "stdout",
     "output_type": "stream",
     "text": [
      "Epoch 15/35: Train Loss=0.7602, Train Acc=0.7248, Val Loss=1.0431, Val Acc=0.6510\n"
     ]
    },
    {
     "name": "stderr",
     "output_type": "stream",
     "text": [
      "Epoch 16/35 [Train]: 100%|██████████| 86/86 [00:35<00:00,  2.43it/s]\n",
      "Epoch 16/35 [Val]: 100%|██████████| 11/11 [00:04<00:00,  2.40it/s]\n"
     ]
    },
    {
     "name": "stdout",
     "output_type": "stream",
     "text": [
      "Epoch 16/35: Train Loss=0.7243, Train Acc=0.7445, Val Loss=0.9701, Val Acc=0.6730\n",
      "Best model saved in d:\\Uni\\Master\\1 Bimestre\\Foundations\\Assignments\\Weather-Clasification\\models\\best_model_CNN_V3.pth (val_acc=0.6730)\n"
     ]
    },
    {
     "name": "stderr",
     "output_type": "stream",
     "text": [
      "Epoch 17/35 [Train]: 100%|██████████| 86/86 [00:35<00:00,  2.40it/s]\n",
      "Epoch 17/35 [Val]: 100%|██████████| 11/11 [00:04<00:00,  2.48it/s]\n"
     ]
    },
    {
     "name": "stdout",
     "output_type": "stream",
     "text": [
      "Epoch 17/35: Train Loss=0.6514, Train Acc=0.7617, Val Loss=1.0174, Val Acc=0.6877\n",
      "Best model saved in d:\\Uni\\Master\\1 Bimestre\\Foundations\\Assignments\\Weather-Clasification\\models\\best_model_CNN_V3.pth (val_acc=0.6877)\n"
     ]
    },
    {
     "name": "stderr",
     "output_type": "stream",
     "text": [
      "Epoch 18/35 [Train]: 100%|██████████| 86/86 [00:35<00:00,  2.41it/s]\n",
      "Epoch 18/35 [Val]: 100%|██████████| 11/11 [00:04<00:00,  2.46it/s]\n"
     ]
    },
    {
     "name": "stdout",
     "output_type": "stream",
     "text": [
      "Epoch 18/35: Train Loss=0.6074, Train Acc=0.7826, Val Loss=1.0786, Val Acc=0.6642\n"
     ]
    },
    {
     "name": "stderr",
     "output_type": "stream",
     "text": [
      "Epoch 19/35 [Train]: 100%|██████████| 86/86 [00:36<00:00,  2.38it/s]\n",
      "Epoch 19/35 [Val]: 100%|██████████| 11/11 [00:04<00:00,  2.30it/s]\n"
     ]
    },
    {
     "name": "stdout",
     "output_type": "stream",
     "text": [
      "Epoch 19/35: Train Loss=0.5626, Train Acc=0.7918, Val Loss=1.2261, Val Acc=0.6804\n"
     ]
    },
    {
     "name": "stderr",
     "output_type": "stream",
     "text": [
      "Epoch 20/35 [Train]: 100%|██████████| 86/86 [00:38<00:00,  2.25it/s]\n",
      "Epoch 20/35 [Val]: 100%|██████████| 11/11 [00:05<00:00,  2.18it/s]\n"
     ]
    },
    {
     "name": "stdout",
     "output_type": "stream",
     "text": [
      "Epoch 20/35: Train Loss=0.5601, Train Acc=0.7896, Val Loss=1.1123, Val Acc=0.7038\n",
      "Best model saved in d:\\Uni\\Master\\1 Bimestre\\Foundations\\Assignments\\Weather-Clasification\\models\\best_model_CNN_V3.pth (val_acc=0.7038)\n"
     ]
    },
    {
     "name": "stderr",
     "output_type": "stream",
     "text": [
      "Epoch 21/35 [Train]: 100%|██████████| 86/86 [00:39<00:00,  2.18it/s]\n",
      "Epoch 21/35 [Val]: 100%|██████████| 11/11 [00:04<00:00,  2.25it/s]\n"
     ]
    },
    {
     "name": "stdout",
     "output_type": "stream",
     "text": [
      "Epoch 21/35: Train Loss=0.4875, Train Acc=0.8200, Val Loss=1.1053, Val Acc=0.6891\n"
     ]
    },
    {
     "name": "stderr",
     "output_type": "stream",
     "text": [
      "Epoch 22/35 [Train]: 100%|██████████| 86/86 [00:37<00:00,  2.29it/s]\n",
      "Epoch 22/35 [Val]: 100%|██████████| 11/11 [00:04<00:00,  2.24it/s]\n"
     ]
    },
    {
     "name": "stdout",
     "output_type": "stream",
     "text": [
      "Epoch 22/35: Train Loss=0.4449, Train Acc=0.8350, Val Loss=1.2635, Val Acc=0.6862\n"
     ]
    },
    {
     "name": "stderr",
     "output_type": "stream",
     "text": [
      "Epoch 23/35 [Train]: 100%|██████████| 86/86 [00:41<00:00,  2.05it/s]\n",
      "Epoch 23/35 [Val]: 100%|██████████| 11/11 [00:05<00:00,  2.00it/s]\n"
     ]
    },
    {
     "name": "stdout",
     "output_type": "stream",
     "text": [
      "Epoch 23/35: Train Loss=0.4091, Train Acc=0.8476, Val Loss=1.2019, Val Acc=0.6818\n"
     ]
    },
    {
     "name": "stderr",
     "output_type": "stream",
     "text": [
      "Epoch 24/35 [Train]: 100%|██████████| 86/86 [00:40<00:00,  2.14it/s]\n",
      "Epoch 24/35 [Val]: 100%|██████████| 11/11 [00:05<00:00,  2.15it/s]\n"
     ]
    },
    {
     "name": "stdout",
     "output_type": "stream",
     "text": [
      "Epoch 24/35: Train Loss=0.3658, Train Acc=0.8636, Val Loss=1.3816, Val Acc=0.6935\n"
     ]
    },
    {
     "name": "stderr",
     "output_type": "stream",
     "text": [
      "Epoch 25/35 [Train]: 100%|██████████| 86/86 [00:39<00:00,  2.15it/s]\n",
      "Epoch 25/35 [Val]: 100%|██████████| 11/11 [00:04<00:00,  2.52it/s]\n"
     ]
    },
    {
     "name": "stdout",
     "output_type": "stream",
     "text": [
      "Epoch 25/35: Train Loss=0.3861, Train Acc=0.8589, Val Loss=1.3724, Val Acc=0.7141\n",
      "Best model saved in d:\\Uni\\Master\\1 Bimestre\\Foundations\\Assignments\\Weather-Clasification\\models\\best_model_CNN_V3.pth (val_acc=0.7141)\n"
     ]
    },
    {
     "name": "stderr",
     "output_type": "stream",
     "text": [
      "Epoch 26/35 [Train]: 100%|██████████| 86/86 [00:37<00:00,  2.32it/s]\n",
      "Epoch 26/35 [Val]: 100%|██████████| 11/11 [00:04<00:00,  2.42it/s]\n"
     ]
    },
    {
     "name": "stdout",
     "output_type": "stream",
     "text": [
      "Epoch 26/35: Train Loss=0.2868, Train Acc=0.8919, Val Loss=1.5863, Val Acc=0.6994\n"
     ]
    },
    {
     "name": "stderr",
     "output_type": "stream",
     "text": [
      "Epoch 27/35 [Train]: 100%|██████████| 86/86 [00:36<00:00,  2.35it/s]\n",
      "Epoch 27/35 [Val]: 100%|██████████| 11/11 [00:04<00:00,  2.48it/s]\n"
     ]
    },
    {
     "name": "stdout",
     "output_type": "stream",
     "text": [
      "Epoch 27/35: Train Loss=0.2654, Train Acc=0.8999, Val Loss=1.5773, Val Acc=0.7009\n"
     ]
    },
    {
     "name": "stderr",
     "output_type": "stream",
     "text": [
      "Epoch 28/35 [Train]: 100%|██████████| 86/86 [00:36<00:00,  2.34it/s]\n",
      "Epoch 28/35 [Val]: 100%|██████████| 11/11 [00:04<00:00,  2.45it/s]\n"
     ]
    },
    {
     "name": "stdout",
     "output_type": "stream",
     "text": [
      "Epoch 28/35: Train Loss=0.2364, Train Acc=0.9079, Val Loss=1.6216, Val Acc=0.7023\n"
     ]
    },
    {
     "name": "stderr",
     "output_type": "stream",
     "text": [
      "Epoch 29/35 [Train]: 100%|██████████| 86/86 [00:36<00:00,  2.34it/s]\n",
      "Epoch 29/35 [Val]: 100%|██████████| 11/11 [00:04<00:00,  2.41it/s]\n"
     ]
    },
    {
     "name": "stdout",
     "output_type": "stream",
     "text": [
      "Epoch 29/35: Train Loss=0.2046, Train Acc=0.9210, Val Loss=1.6499, Val Acc=0.6950\n"
     ]
    },
    {
     "name": "stderr",
     "output_type": "stream",
     "text": [
      "Epoch 30/35 [Train]: 100%|██████████| 86/86 [00:36<00:00,  2.34it/s]\n",
      "Epoch 30/35 [Val]: 100%|██████████| 11/11 [00:04<00:00,  2.51it/s]\n"
     ]
    },
    {
     "name": "stdout",
     "output_type": "stream",
     "text": [
      "Epoch 30/35: Train Loss=0.2241, Train Acc=0.9137, Val Loss=1.8038, Val Acc=0.6833\n"
     ]
    },
    {
     "name": "stderr",
     "output_type": "stream",
     "text": [
      "Epoch 31/35 [Train]: 100%|██████████| 86/86 [00:36<00:00,  2.33it/s]\n",
      "Epoch 31/35 [Val]: 100%|██████████| 11/11 [00:04<00:00,  2.46it/s]\n"
     ]
    },
    {
     "name": "stdout",
     "output_type": "stream",
     "text": [
      "Epoch 31/35: Train Loss=0.1908, Train Acc=0.9305, Val Loss=1.9970, Val Acc=0.6906\n"
     ]
    },
    {
     "name": "stderr",
     "output_type": "stream",
     "text": [
      "Epoch 32/35 [Train]: 100%|██████████| 86/86 [00:38<00:00,  2.25it/s]\n",
      "Epoch 32/35 [Val]: 100%|██████████| 11/11 [00:04<00:00,  2.39it/s]\n"
     ]
    },
    {
     "name": "stdout",
     "output_type": "stream",
     "text": [
      "Epoch 32/35: Train Loss=0.1471, Train Acc=0.9457, Val Loss=2.4646, Val Acc=0.6891\n"
     ]
    },
    {
     "name": "stderr",
     "output_type": "stream",
     "text": [
      "Epoch 33/35 [Train]: 100%|██████████| 86/86 [00:38<00:00,  2.25it/s]\n",
      "Epoch 33/35 [Val]: 100%|██████████| 11/11 [00:04<00:00,  2.35it/s]\n"
     ]
    },
    {
     "name": "stdout",
     "output_type": "stream",
     "text": [
      "Epoch 33/35: Train Loss=0.1099, Train Acc=0.9570, Val Loss=2.1896, Val Acc=0.6906\n"
     ]
    },
    {
     "name": "stderr",
     "output_type": "stream",
     "text": [
      "Epoch 34/35 [Train]: 100%|██████████| 86/86 [00:38<00:00,  2.24it/s]\n",
      "Epoch 34/35 [Val]: 100%|██████████| 11/11 [00:04<00:00,  2.23it/s]\n"
     ]
    },
    {
     "name": "stdout",
     "output_type": "stream",
     "text": [
      "Epoch 34/35: Train Loss=0.0938, Train Acc=0.9633, Val Loss=2.2884, Val Acc=0.6921\n"
     ]
    },
    {
     "name": "stderr",
     "output_type": "stream",
     "text": [
      "Epoch 35/35 [Train]: 100%|██████████| 86/86 [00:38<00:00,  2.22it/s]\n",
      "Epoch 35/35 [Val]: 100%|██████████| 11/11 [00:05<00:00,  1.86it/s]"
     ]
    },
    {
     "name": "stdout",
     "output_type": "stream",
     "text": [
      "Epoch 35/35: Train Loss=0.1406, Train Acc=0.9499, Val Loss=1.8578, Val Acc=0.6818\n",
      "Training complete. Best val_acc=0.7141\n",
      "MMetrics saved in d:\\Uni\\Master\\1 Bimestre\\Foundations\\Assignments\\Weather-Clasification\\reports\\metrics\\metrics_CNN_V3.pkl\n"
     ]
    },
    {
     "name": "stderr",
     "output_type": "stream",
     "text": [
      "\n"
     ]
    }
   ],
   "source": [
    "input_dim = 224*224*3  # matches the Resize transform\n",
    "model = train_model_improved(CNN_V3, \n",
    "                    train_dir=\"../../data/train\", \n",
    "                    val_dir=\"../../data/val\", \n",
    "                    input_dim=input_dim,\n",
    "                    num_classes=11,\n",
    "                    batch_size=64,\n",
    "                    epochs=50,\n",
    "                    lr=1e-3,\n",
    "                    device=\"cuda\" if torch.cuda.is_available() else \"cpu\")"
   ]
  },
  {
   "cell_type": "code",
   "execution_count": null,
   "id": "17834fb8",
   "metadata": {},
   "outputs": [
    {
     "name": "stdout",
     "output_type": "stream",
     "text": [
      "Class counts: Counter({8: 928, 1: 680, 0: 558, 9: 553, 3: 511, 10: 496, 4: 472, 6: 420, 2: 380, 5: 301, 7: 185})\n",
      "Class weights: tensor([ 9.8280,  8.0647, 14.4316, 10.7319, 11.6186, 18.2193, 13.0571, 29.6432,\n",
      "         5.9095,  9.9168, 11.0565], device='cuda:0')\n"
     ]
    },
    {
     "name": "stderr",
     "output_type": "stream",
     "text": [
      "Epoch 1/35 [Train]: 100%|██████████| 86/86 [00:42<00:00,  2.04it/s]\n",
      "Epoch 1/35 [Val]: 100%|██████████| 11/11 [00:04<00:00,  2.40it/s]\n"
     ]
    },
    {
     "name": "stdout",
     "output_type": "stream",
     "text": [
      "Epoch 1/35: Train Loss=2.3274, Train Acc=0.1532, Val Loss=2.2990, Val Acc=0.2009\n",
      "Best model saved in d:\\Uni\\Master\\1 Bimestre\\Foundations\\Assignments\\Weather-Clasification\\models\\best_model_CNN_V3_reg.pth (val_acc=0.2009)\n"
     ]
    },
    {
     "name": "stderr",
     "output_type": "stream",
     "text": [
      "Epoch 2/35 [Train]: 100%|██████████| 86/86 [00:37<00:00,  2.27it/s]\n",
      "Epoch 2/35 [Val]: 100%|██████████| 11/11 [00:04<00:00,  2.39it/s]\n"
     ]
    },
    {
     "name": "stdout",
     "output_type": "stream",
     "text": [
      "Epoch 2/35: Train Loss=2.0671, Train Acc=0.3007, Val Loss=2.2798, Val Acc=0.1642\n"
     ]
    },
    {
     "name": "stderr",
     "output_type": "stream",
     "text": [
      "Epoch 3/35 [Train]: 100%|██████████| 86/86 [00:38<00:00,  2.25it/s]\n",
      "Epoch 3/35 [Val]: 100%|██████████| 11/11 [00:04<00:00,  2.46it/s]\n"
     ]
    },
    {
     "name": "stdout",
     "output_type": "stream",
     "text": [
      "Epoch 3/35: Train Loss=1.8173, Train Acc=0.4088, Val Loss=1.9434, Val Acc=0.4839\n",
      "Best model saved in d:\\Uni\\Master\\1 Bimestre\\Foundations\\Assignments\\Weather-Clasification\\models\\best_model_CNN_V3_reg.pth (val_acc=0.4839)\n"
     ]
    },
    {
     "name": "stderr",
     "output_type": "stream",
     "text": [
      "Epoch 4/35 [Train]: 100%|██████████| 86/86 [00:36<00:00,  2.33it/s]\n",
      "Epoch 4/35 [Val]: 100%|██████████| 11/11 [00:04<00:00,  2.49it/s]\n"
     ]
    },
    {
     "name": "stdout",
     "output_type": "stream",
     "text": [
      "Epoch 4/35: Train Loss=1.5668, Train Acc=0.4757, Val Loss=1.7585, Val Acc=0.4443\n"
     ]
    },
    {
     "name": "stderr",
     "output_type": "stream",
     "text": [
      "Epoch 5/35 [Train]: 100%|██████████| 86/86 [00:36<00:00,  2.33it/s]\n",
      "Epoch 5/35 [Val]: 100%|██████████| 11/11 [00:04<00:00,  2.57it/s]\n"
     ]
    },
    {
     "name": "stdout",
     "output_type": "stream",
     "text": [
      "Epoch 5/35: Train Loss=1.4328, Train Acc=0.5181, Val Loss=1.7292, Val Acc=0.4619\n"
     ]
    },
    {
     "name": "stderr",
     "output_type": "stream",
     "text": [
      "Epoch 6/35 [Train]: 100%|██████████| 86/86 [00:36<00:00,  2.35it/s]\n",
      "Epoch 6/35 [Val]: 100%|██████████| 11/11 [00:04<00:00,  2.59it/s]\n"
     ]
    },
    {
     "name": "stdout",
     "output_type": "stream",
     "text": [
      "Epoch 6/35: Train Loss=1.3170, Train Acc=0.5514, Val Loss=1.6945, Val Acc=0.4516\n"
     ]
    },
    {
     "name": "stderr",
     "output_type": "stream",
     "text": [
      "Epoch 7/35 [Train]: 100%|██████████| 86/86 [00:36<00:00,  2.36it/s]\n",
      "Epoch 7/35 [Val]: 100%|██████████| 11/11 [00:04<00:00,  2.40it/s]\n"
     ]
    },
    {
     "name": "stdout",
     "output_type": "stream",
     "text": [
      "Epoch 7/35: Train Loss=1.2398, Train Acc=0.5793, Val Loss=1.6886, Val Acc=0.4985\n",
      "Best model saved in d:\\Uni\\Master\\1 Bimestre\\Foundations\\Assignments\\Weather-Clasification\\models\\best_model_CNN_V3_reg.pth (val_acc=0.4985)\n"
     ]
    },
    {
     "name": "stderr",
     "output_type": "stream",
     "text": [
      "Epoch 8/35 [Train]: 100%|██████████| 86/86 [00:36<00:00,  2.36it/s]\n",
      "Epoch 8/35 [Val]: 100%|██████████| 11/11 [00:04<00:00,  2.51it/s]\n"
     ]
    },
    {
     "name": "stdout",
     "output_type": "stream",
     "text": [
      "Epoch 8/35: Train Loss=1.1525, Train Acc=0.6080, Val Loss=1.4676, Val Acc=0.5601\n",
      "Best model saved in d:\\Uni\\Master\\1 Bimestre\\Foundations\\Assignments\\Weather-Clasification\\models\\best_model_CNN_V3_reg.pth (val_acc=0.5601)\n"
     ]
    },
    {
     "name": "stderr",
     "output_type": "stream",
     "text": [
      "Epoch 9/35 [Train]: 100%|██████████| 86/86 [00:36<00:00,  2.37it/s]\n",
      "Epoch 9/35 [Val]: 100%|██████████| 11/11 [00:04<00:00,  2.49it/s]\n"
     ]
    },
    {
     "name": "stdout",
     "output_type": "stream",
     "text": [
      "Epoch 9/35: Train Loss=1.1066, Train Acc=0.6311, Val Loss=1.6423, Val Acc=0.4721\n"
     ]
    },
    {
     "name": "stderr",
     "output_type": "stream",
     "text": [
      "Epoch 10/35 [Train]: 100%|██████████| 86/86 [00:36<00:00,  2.35it/s]\n",
      "Epoch 10/35 [Val]: 100%|██████████| 11/11 [00:04<00:00,  2.40it/s]\n"
     ]
    },
    {
     "name": "stdout",
     "output_type": "stream",
     "text": [
      "Epoch 10/35: Train Loss=1.0529, Train Acc=0.6386, Val Loss=1.4503, Val Acc=0.5806\n",
      "Best model saved in d:\\Uni\\Master\\1 Bimestre\\Foundations\\Assignments\\Weather-Clasification\\models\\best_model_CNN_V3_reg.pth (val_acc=0.5806)\n"
     ]
    },
    {
     "name": "stderr",
     "output_type": "stream",
     "text": [
      "Epoch 11/35 [Train]: 100%|██████████| 86/86 [00:36<00:00,  2.38it/s]\n",
      "Epoch 11/35 [Val]: 100%|██████████| 11/11 [00:04<00:00,  2.54it/s]\n"
     ]
    },
    {
     "name": "stdout",
     "output_type": "stream",
     "text": [
      "Epoch 11/35: Train Loss=1.0562, Train Acc=0.6510, Val Loss=1.4097, Val Acc=0.6012\n",
      "Best model saved in d:\\Uni\\Master\\1 Bimestre\\Foundations\\Assignments\\Weather-Clasification\\models\\best_model_CNN_V3_reg.pth (val_acc=0.6012)\n"
     ]
    },
    {
     "name": "stderr",
     "output_type": "stream",
     "text": [
      "Epoch 12/35 [Train]: 100%|██████████| 86/86 [00:36<00:00,  2.33it/s]\n",
      "Epoch 12/35 [Val]: 100%|██████████| 11/11 [00:04<00:00,  2.52it/s]\n"
     ]
    },
    {
     "name": "stdout",
     "output_type": "stream",
     "text": [
      "Epoch 12/35: Train Loss=0.9932, Train Acc=0.6636, Val Loss=1.4635, Val Acc=0.5293\n"
     ]
    },
    {
     "name": "stderr",
     "output_type": "stream",
     "text": [
      "Epoch 13/35 [Train]: 100%|██████████| 86/86 [00:36<00:00,  2.37it/s]\n",
      "Epoch 13/35 [Val]: 100%|██████████| 11/11 [00:04<00:00,  2.53it/s]\n"
     ]
    },
    {
     "name": "stdout",
     "output_type": "stream",
     "text": [
      "Epoch 13/35: Train Loss=0.9529, Train Acc=0.6789, Val Loss=1.5612, Val Acc=0.4941\n"
     ]
    },
    {
     "name": "stderr",
     "output_type": "stream",
     "text": [
      "Epoch 14/35 [Train]: 100%|██████████| 86/86 [00:36<00:00,  2.37it/s]\n",
      "Epoch 14/35 [Val]: 100%|██████████| 11/11 [00:04<00:00,  2.63it/s]\n"
     ]
    },
    {
     "name": "stdout",
     "output_type": "stream",
     "text": [
      "Epoch 14/35: Train Loss=0.8875, Train Acc=0.6955, Val Loss=1.3580, Val Acc=0.5513\n"
     ]
    },
    {
     "name": "stderr",
     "output_type": "stream",
     "text": [
      "Epoch 15/35 [Train]: 100%|██████████| 86/86 [00:39<00:00,  2.17it/s]\n",
      "Epoch 15/35 [Val]: 100%|██████████| 11/11 [00:04<00:00,  2.64it/s]\n"
     ]
    },
    {
     "name": "stdout",
     "output_type": "stream",
     "text": [
      "Epoch 15/35: Train Loss=0.8710, Train Acc=0.7008, Val Loss=1.3659, Val Acc=0.5396\n"
     ]
    },
    {
     "name": "stderr",
     "output_type": "stream",
     "text": [
      "Epoch 16/35 [Train]: 100%|██████████| 86/86 [00:37<00:00,  2.30it/s]\n",
      "Epoch 16/35 [Val]: 100%|██████████| 11/11 [00:04<00:00,  2.60it/s]\n"
     ]
    },
    {
     "name": "stdout",
     "output_type": "stream",
     "text": [
      "Epoch 16/35: Train Loss=0.8321, Train Acc=0.7179, Val Loss=1.3898, Val Acc=0.5762\n"
     ]
    },
    {
     "name": "stderr",
     "output_type": "stream",
     "text": [
      "Epoch 17/35 [Train]: 100%|██████████| 86/86 [00:36<00:00,  2.37it/s]\n",
      "Epoch 17/35 [Val]: 100%|██████████| 11/11 [00:04<00:00,  2.51it/s]\n"
     ]
    },
    {
     "name": "stdout",
     "output_type": "stream",
     "text": [
      "Epoch 17/35: Train Loss=0.7965, Train Acc=0.7299, Val Loss=1.3952, Val Acc=0.5455\n"
     ]
    },
    {
     "name": "stderr",
     "output_type": "stream",
     "text": [
      "Epoch 18/35 [Train]: 100%|██████████| 86/86 [00:36<00:00,  2.35it/s]\n",
      "Epoch 18/35 [Val]: 100%|██████████| 11/11 [00:04<00:00,  2.45it/s]\n"
     ]
    },
    {
     "name": "stdout",
     "output_type": "stream",
     "text": [
      "Epoch 18/35: Train Loss=0.7413, Train Acc=0.7405, Val Loss=1.3087, Val Acc=0.5572\n"
     ]
    },
    {
     "name": "stderr",
     "output_type": "stream",
     "text": [
      "Epoch 19/35 [Train]: 100%|██████████| 86/86 [00:36<00:00,  2.34it/s]\n",
      "Epoch 19/35 [Val]: 100%|██████████| 11/11 [00:04<00:00,  2.52it/s]\n"
     ]
    },
    {
     "name": "stdout",
     "output_type": "stream",
     "text": [
      "Epoch 19/35: Train Loss=0.7086, Train Acc=0.7485, Val Loss=1.2616, Val Acc=0.5850\n"
     ]
    },
    {
     "name": "stderr",
     "output_type": "stream",
     "text": [
      "Epoch 20/35 [Train]: 100%|██████████| 86/86 [00:36<00:00,  2.33it/s]\n",
      "Epoch 20/35 [Val]: 100%|██████████| 11/11 [00:04<00:00,  2.56it/s]\n"
     ]
    },
    {
     "name": "stdout",
     "output_type": "stream",
     "text": [
      "Epoch 20/35: Train Loss=0.6571, Train Acc=0.7651, Val Loss=1.3757, Val Acc=0.5528\n"
     ]
    },
    {
     "name": "stderr",
     "output_type": "stream",
     "text": [
      "Epoch 21/35 [Train]: 100%|██████████| 86/86 [00:35<00:00,  2.43it/s]\n",
      "Epoch 21/35 [Val]: 100%|██████████| 11/11 [00:04<00:00,  2.56it/s]\n"
     ]
    },
    {
     "name": "stdout",
     "output_type": "stream",
     "text": [
      "Epoch 21/35: Train Loss=0.6661, Train Acc=0.7704, Val Loss=1.4972, Val Acc=0.5191\n"
     ]
    },
    {
     "name": "stderr",
     "output_type": "stream",
     "text": [
      "Epoch 22/35 [Train]: 100%|██████████| 86/86 [00:35<00:00,  2.39it/s]\n",
      "Epoch 22/35 [Val]: 100%|██████████| 11/11 [00:04<00:00,  2.71it/s]\n"
     ]
    },
    {
     "name": "stdout",
     "output_type": "stream",
     "text": [
      "Epoch 22/35: Train Loss=0.6273, Train Acc=0.7819, Val Loss=1.1972, Val Acc=0.6173\n",
      "Best model saved in d:\\Uni\\Master\\1 Bimestre\\Foundations\\Assignments\\Weather-Clasification\\models\\best_model_CNN_V3_reg.pth (val_acc=0.6173)\n"
     ]
    },
    {
     "name": "stderr",
     "output_type": "stream",
     "text": [
      "Epoch 23/35 [Train]: 100%|██████████| 86/86 [00:35<00:00,  2.39it/s]\n",
      "Epoch 23/35 [Val]: 100%|██████████| 11/11 [00:04<00:00,  2.68it/s]\n"
     ]
    },
    {
     "name": "stdout",
     "output_type": "stream",
     "text": [
      "Epoch 23/35: Train Loss=0.5979, Train Acc=0.7945, Val Loss=1.2722, Val Acc=0.5469\n"
     ]
    },
    {
     "name": "stderr",
     "output_type": "stream",
     "text": [
      "Epoch 24/35 [Train]: 100%|██████████| 86/86 [00:35<00:00,  2.40it/s]\n",
      "Epoch 24/35 [Val]: 100%|██████████| 11/11 [00:04<00:00,  2.42it/s]\n"
     ]
    },
    {
     "name": "stdout",
     "output_type": "stream",
     "text": [
      "Epoch 24/35: Train Loss=0.5590, Train Acc=0.8011, Val Loss=1.3373, Val Acc=0.5630\n"
     ]
    },
    {
     "name": "stderr",
     "output_type": "stream",
     "text": [
      "Epoch 25/35 [Train]: 100%|██████████| 86/86 [00:35<00:00,  2.43it/s]\n",
      "Epoch 25/35 [Val]: 100%|██████████| 11/11 [00:04<00:00,  2.60it/s]\n"
     ]
    },
    {
     "name": "stdout",
     "output_type": "stream",
     "text": [
      "Epoch 25/35: Train Loss=0.5213, Train Acc=0.8164, Val Loss=1.2530, Val Acc=0.5894\n"
     ]
    },
    {
     "name": "stderr",
     "output_type": "stream",
     "text": [
      "Epoch 26/35 [Train]: 100%|██████████| 86/86 [00:35<00:00,  2.41it/s]\n",
      "Epoch 26/35 [Val]: 100%|██████████| 11/11 [00:04<00:00,  2.68it/s]\n"
     ]
    },
    {
     "name": "stdout",
     "output_type": "stream",
     "text": [
      "Epoch 26/35: Train Loss=0.4971, Train Acc=0.8249, Val Loss=1.2670, Val Acc=0.5909\n"
     ]
    },
    {
     "name": "stderr",
     "output_type": "stream",
     "text": [
      "Epoch 27/35 [Train]: 100%|██████████| 86/86 [00:35<00:00,  2.41it/s]\n",
      "Epoch 27/35 [Val]: 100%|██████████| 11/11 [00:04<00:00,  2.69it/s]\n"
     ]
    },
    {
     "name": "stdout",
     "output_type": "stream",
     "text": [
      "Epoch 27/35: Train Loss=0.4687, Train Acc=0.8333, Val Loss=1.2022, Val Acc=0.6290\n",
      "Best model saved in d:\\Uni\\Master\\1 Bimestre\\Foundations\\Assignments\\Weather-Clasification\\models\\best_model_CNN_V3_reg.pth (val_acc=0.6290)\n"
     ]
    },
    {
     "name": "stderr",
     "output_type": "stream",
     "text": [
      "Epoch 28/35 [Train]: 100%|██████████| 86/86 [00:36<00:00,  2.39it/s]\n",
      "Epoch 28/35 [Val]: 100%|██████████| 11/11 [00:04<00:00,  2.69it/s]\n"
     ]
    },
    {
     "name": "stdout",
     "output_type": "stream",
     "text": [
      "Epoch 28/35: Train Loss=0.4838, Train Acc=0.8266, Val Loss=1.2402, Val Acc=0.5924\n"
     ]
    },
    {
     "name": "stderr",
     "output_type": "stream",
     "text": [
      "Epoch 29/35 [Train]: 100%|██████████| 86/86 [00:35<00:00,  2.42it/s]\n",
      "Epoch 29/35 [Val]: 100%|██████████| 11/11 [00:04<00:00,  2.69it/s]\n"
     ]
    },
    {
     "name": "stdout",
     "output_type": "stream",
     "text": [
      "Epoch 29/35: Train Loss=0.4299, Train Acc=0.8468, Val Loss=1.2163, Val Acc=0.6188\n"
     ]
    },
    {
     "name": "stderr",
     "output_type": "stream",
     "text": [
      "Epoch 30/35 [Train]: 100%|██████████| 86/86 [00:35<00:00,  2.43it/s]\n",
      "Epoch 30/35 [Val]: 100%|██████████| 11/11 [00:04<00:00,  2.73it/s]\n"
     ]
    },
    {
     "name": "stdout",
     "output_type": "stream",
     "text": [
      "Epoch 30/35: Train Loss=0.4251, Train Acc=0.8439, Val Loss=1.5514, Val Acc=0.5059\n"
     ]
    },
    {
     "name": "stderr",
     "output_type": "stream",
     "text": [
      "Epoch 31/35 [Train]: 100%|██████████| 86/86 [00:36<00:00,  2.36it/s]\n",
      "Epoch 31/35 [Val]: 100%|██████████| 11/11 [00:04<00:00,  2.37it/s]\n"
     ]
    },
    {
     "name": "stdout",
     "output_type": "stream",
     "text": [
      "Epoch 31/35: Train Loss=0.4449, Train Acc=0.8518, Val Loss=1.4015, Val Acc=0.5587\n"
     ]
    },
    {
     "name": "stderr",
     "output_type": "stream",
     "text": [
      "Epoch 32/35 [Train]: 100%|██████████| 86/86 [00:40<00:00,  2.10it/s]\n",
      "Epoch 32/35 [Val]: 100%|██████████| 11/11 [00:04<00:00,  2.62it/s]\n"
     ]
    },
    {
     "name": "stdout",
     "output_type": "stream",
     "text": [
      "Epoch 32/35: Train Loss=0.4374, Train Acc=0.8397, Val Loss=1.2974, Val Acc=0.6026\n"
     ]
    },
    {
     "name": "stderr",
     "output_type": "stream",
     "text": [
      "Epoch 33/35 [Train]: 100%|██████████| 86/86 [00:38<00:00,  2.26it/s]\n",
      "Epoch 33/35 [Val]: 100%|██████████| 11/11 [00:04<00:00,  2.24it/s]\n"
     ]
    },
    {
     "name": "stdout",
     "output_type": "stream",
     "text": [
      "Epoch 33/35: Train Loss=0.4156, Train Acc=0.8578, Val Loss=1.2359, Val Acc=0.6100\n"
     ]
    },
    {
     "name": "stderr",
     "output_type": "stream",
     "text": [
      "Epoch 34/35 [Train]: 100%|██████████| 86/86 [00:36<00:00,  2.36it/s]\n",
      "Epoch 34/35 [Val]: 100%|██████████| 11/11 [00:04<00:00,  2.67it/s]\n"
     ]
    },
    {
     "name": "stdout",
     "output_type": "stream",
     "text": [
      "Epoch 34/35: Train Loss=0.3512, Train Acc=0.8736, Val Loss=1.2481, Val Acc=0.6041\n"
     ]
    },
    {
     "name": "stderr",
     "output_type": "stream",
     "text": [
      "Epoch 35/35 [Train]: 100%|██████████| 86/86 [00:36<00:00,  2.38it/s]\n",
      "Epoch 35/35 [Val]: 100%|██████████| 11/11 [00:04<00:00,  2.71it/s]"
     ]
    },
    {
     "name": "stdout",
     "output_type": "stream",
     "text": [
      "Epoch 35/35: Train Loss=0.3245, Train Acc=0.8818, Val Loss=1.2616, Val Acc=0.6085\n",
      "Training complete. Best val_acc=0.6290\n",
      "MMetrics saved in d:\\Uni\\Master\\1 Bimestre\\Foundations\\Assignments\\Weather-Clasification\\reports\\metrics\\metrics_CNN_V3_reg.pkl\n"
     ]
    },
    {
     "name": "stderr",
     "output_type": "stream",
     "text": [
      "\n"
     ]
    }
   ],
   "source": [
    "input_dim = 224*224*3  # matches the Resize transform\n",
    "model = train_model_improved(CNN_V3_reg, \n",
    "                    train_dir=\"../../data/train\", \n",
    "                    val_dir=\"../../data/val\", \n",
    "                    input_dim=input_dim,\n",
    "                    num_classes=11,\n",
    "                    batch_size=64,\n",
    "                    epochs=50,\n",
    "                    lr=1e-3,\n",
    "                    device=\"cuda\" if torch.cuda.is_available() else \"cpu\")"
   ]
  },
  {
   "cell_type": "code",
   "execution_count": null,
   "id": "bc61895a",
   "metadata": {},
   "outputs": [
    {
     "name": "stdout",
     "output_type": "stream",
     "text": [
      "Class counts: Counter({8: 928, 1: 680, 0: 558, 9: 553, 3: 511, 10: 496, 4: 472, 6: 420, 2: 380, 5: 301, 7: 185})\n",
      "Class weights: {0: '9.828', 1: '8.065', 2: '14.432', 3: '10.732', 4: '11.619', 5: '18.219', 6: '13.057', 7: '29.643', 8: '5.909', 9: '9.917', 10: '11.056'}\n",
      "\n",
      "Model: CNN_V3_Improved\n",
      "Total parameters: 28,574,027\n",
      "Trainable parameters: 28,574,027\n",
      "\n"
     ]
    },
    {
     "name": "stderr",
     "output_type": "stream",
     "text": [
      "Epoch 1/50 [Train]: 100%|██████████| 86/86 [00:45<00:00,  1.91it/s]\n",
      "Epoch 1/50 [Val]: 100%|██████████| 11/11 [00:11<00:00,  1.06s/it]\n"
     ]
    },
    {
     "name": "stdout",
     "output_type": "stream",
     "text": [
      "Epoch 1/50: Train Loss=2.3144, Train Acc=0.2183, Val Loss=2.0832, Val Acc=0.2947, LR=0.001000\n",
      "✓ Best model saved (val_acc=0.2947)\n"
     ]
    },
    {
     "name": "stderr",
     "output_type": "stream",
     "text": [
      "Epoch 2/50 [Train]: 100%|██████████| 86/86 [00:45<00:00,  1.90it/s]\n",
      "Epoch 2/50 [Val]: 100%|██████████| 11/11 [00:10<00:00,  1.06it/s]\n"
     ]
    },
    {
     "name": "stdout",
     "output_type": "stream",
     "text": [
      "Epoch 2/50: Train Loss=1.9754, Train Acc=0.3937, Val Loss=1.7201, Val Acc=0.5587, LR=0.001000\n",
      "✓ Best model saved (val_acc=0.5587)\n"
     ]
    },
    {
     "name": "stderr",
     "output_type": "stream",
     "text": [
      "Epoch 3/50 [Train]: 100%|██████████| 86/86 [00:44<00:00,  1.93it/s]\n",
      "Epoch 3/50 [Val]: 100%|██████████| 11/11 [00:10<00:00,  1.06it/s]\n"
     ]
    },
    {
     "name": "stdout",
     "output_type": "stream",
     "text": [
      "Epoch 3/50: Train Loss=1.7968, Train Acc=0.4863, Val Loss=1.5806, Val Acc=0.5777, LR=0.001000\n",
      "✓ Best model saved (val_acc=0.5777)\n"
     ]
    },
    {
     "name": "stderr",
     "output_type": "stream",
     "text": [
      "Epoch 4/50 [Train]: 100%|██████████| 86/86 [00:44<00:00,  1.95it/s]\n",
      "Epoch 4/50 [Val]: 100%|██████████| 11/11 [00:10<00:00,  1.06it/s]\n"
     ]
    },
    {
     "name": "stdout",
     "output_type": "stream",
     "text": [
      "Epoch 4/50: Train Loss=1.7023, Train Acc=0.5328, Val Loss=1.5142, Val Acc=0.5938, LR=0.001000\n",
      "✓ Best model saved (val_acc=0.5938)\n"
     ]
    },
    {
     "name": "stderr",
     "output_type": "stream",
     "text": [
      "Epoch 5/50 [Train]: 100%|██████████| 86/86 [00:44<00:00,  1.93it/s]\n",
      "Epoch 5/50 [Val]: 100%|██████████| 11/11 [00:11<00:00,  1.07s/it]\n"
     ]
    },
    {
     "name": "stdout",
     "output_type": "stream",
     "text": [
      "Epoch 5/50: Train Loss=1.6662, Train Acc=0.5633, Val Loss=1.5118, Val Acc=0.6276, LR=0.001000\n",
      "✓ Best model saved (val_acc=0.6276)\n"
     ]
    },
    {
     "name": "stderr",
     "output_type": "stream",
     "text": [
      "Epoch 6/50 [Train]: 100%|██████████| 86/86 [00:45<00:00,  1.90it/s]\n",
      "Epoch 6/50 [Val]: 100%|██████████| 11/11 [00:11<00:00,  1.02s/it]\n"
     ]
    },
    {
     "name": "stdout",
     "output_type": "stream",
     "text": [
      "Epoch 6/50: Train Loss=1.6062, Train Acc=0.5744, Val Loss=1.4585, Val Acc=0.6422, LR=0.001000\n",
      "✓ Best model saved (val_acc=0.6422)\n"
     ]
    },
    {
     "name": "stderr",
     "output_type": "stream",
     "text": [
      "Epoch 7/50 [Train]: 100%|██████████| 86/86 [01:12<00:00,  1.19it/s]\n",
      "Epoch 7/50 [Val]: 100%|██████████| 11/11 [00:10<00:00,  1.03it/s]\n"
     ]
    },
    {
     "name": "stdout",
     "output_type": "stream",
     "text": [
      "Epoch 7/50: Train Loss=1.5770, Train Acc=0.5928, Val Loss=1.4655, Val Acc=0.6510, LR=0.001000\n",
      "✓ Best model saved (val_acc=0.6510)\n"
     ]
    },
    {
     "name": "stderr",
     "output_type": "stream",
     "text": [
      "Epoch 8/50 [Train]: 100%|██████████| 86/86 [00:39<00:00,  2.16it/s]\n",
      "Epoch 8/50 [Val]: 100%|██████████| 11/11 [00:09<00:00,  1.18it/s]\n"
     ]
    },
    {
     "name": "stdout",
     "output_type": "stream",
     "text": [
      "Epoch 8/50: Train Loss=1.5325, Train Acc=0.6145, Val Loss=1.4827, Val Acc=0.6276, LR=0.001000\n"
     ]
    },
    {
     "name": "stderr",
     "output_type": "stream",
     "text": [
      "Epoch 9/50 [Train]: 100%|██████████| 86/86 [00:39<00:00,  2.17it/s]\n",
      "Epoch 9/50 [Val]: 100%|██████████| 11/11 [00:09<00:00,  1.12it/s]\n"
     ]
    },
    {
     "name": "stdout",
     "output_type": "stream",
     "text": [
      "Epoch 9/50: Train Loss=1.5064, Train Acc=0.6313, Val Loss=1.4131, Val Acc=0.6554, LR=0.001000\n",
      "✓ Best model saved (val_acc=0.6554)\n"
     ]
    },
    {
     "name": "stderr",
     "output_type": "stream",
     "text": [
      "Epoch 10/50 [Train]: 100%|██████████| 86/86 [00:38<00:00,  2.21it/s]\n",
      "Epoch 10/50 [Val]: 100%|██████████| 11/11 [00:09<00:00,  1.15it/s]\n"
     ]
    },
    {
     "name": "stdout",
     "output_type": "stream",
     "text": [
      "Epoch 10/50: Train Loss=1.4741, Train Acc=0.6442, Val Loss=1.3929, Val Acc=0.6584, LR=0.001000\n",
      "✓ Best model saved (val_acc=0.6584)\n"
     ]
    },
    {
     "name": "stderr",
     "output_type": "stream",
     "text": [
      "Epoch 11/50 [Train]: 100%|██████████| 86/86 [00:43<00:00,  1.97it/s]\n",
      "Epoch 11/50 [Val]: 100%|██████████| 11/11 [00:10<00:00,  1.04it/s]\n"
     ]
    },
    {
     "name": "stdout",
     "output_type": "stream",
     "text": [
      "Epoch 11/50: Train Loss=1.4271, Train Acc=0.6583, Val Loss=1.3833, Val Acc=0.6554, LR=0.001000\n"
     ]
    },
    {
     "name": "stderr",
     "output_type": "stream",
     "text": [
      "Epoch 12/50 [Train]: 100%|██████████| 86/86 [00:40<00:00,  2.14it/s]\n",
      "Epoch 12/50 [Val]: 100%|██████████| 11/11 [00:09<00:00,  1.14it/s]\n"
     ]
    },
    {
     "name": "stdout",
     "output_type": "stream",
     "text": [
      "Epoch 12/50: Train Loss=1.4253, Train Acc=0.6617, Val Loss=1.3717, Val Acc=0.6657, LR=0.001000\n",
      "✓ Best model saved (val_acc=0.6657)\n"
     ]
    },
    {
     "name": "stderr",
     "output_type": "stream",
     "text": [
      "Epoch 13/50 [Train]: 100%|██████████| 86/86 [00:40<00:00,  2.11it/s]\n",
      "Epoch 13/50 [Val]: 100%|██████████| 11/11 [00:09<00:00,  1.16it/s]\n"
     ]
    },
    {
     "name": "stdout",
     "output_type": "stream",
     "text": [
      "Epoch 13/50: Train Loss=1.4204, Train Acc=0.6637, Val Loss=1.3514, Val Acc=0.6862, LR=0.001000\n",
      "✓ Best model saved (val_acc=0.6862)\n"
     ]
    },
    {
     "name": "stderr",
     "output_type": "stream",
     "text": [
      "Epoch 14/50 [Train]: 100%|██████████| 86/86 [00:38<00:00,  2.21it/s]\n",
      "Epoch 14/50 [Val]: 100%|██████████| 11/11 [00:09<00:00,  1.17it/s]\n"
     ]
    },
    {
     "name": "stdout",
     "output_type": "stream",
     "text": [
      "Epoch 14/50: Train Loss=1.3885, Train Acc=0.6765, Val Loss=1.3500, Val Acc=0.6789, LR=0.001000\n"
     ]
    },
    {
     "name": "stderr",
     "output_type": "stream",
     "text": [
      "Epoch 15/50 [Train]: 100%|██████████| 86/86 [00:38<00:00,  2.21it/s]\n",
      "Epoch 15/50 [Val]: 100%|██████████| 11/11 [00:09<00:00,  1.15it/s]\n"
     ]
    },
    {
     "name": "stdout",
     "output_type": "stream",
     "text": [
      "Epoch 15/50: Train Loss=1.3936, Train Acc=0.6698, Val Loss=1.3411, Val Acc=0.6979, LR=0.001000\n",
      "✓ Best model saved (val_acc=0.6979)\n"
     ]
    },
    {
     "name": "stderr",
     "output_type": "stream",
     "text": [
      "Epoch 16/50 [Train]: 100%|██████████| 86/86 [00:38<00:00,  2.21it/s]\n",
      "Epoch 16/50 [Val]: 100%|██████████| 11/11 [00:09<00:00,  1.16it/s]\n"
     ]
    },
    {
     "name": "stdout",
     "output_type": "stream",
     "text": [
      "Epoch 16/50: Train Loss=1.3472, Train Acc=0.6940, Val Loss=1.3389, Val Acc=0.6979, LR=0.001000\n"
     ]
    },
    {
     "name": "stderr",
     "output_type": "stream",
     "text": [
      "Epoch 17/50 [Train]: 100%|██████████| 86/86 [00:38<00:00,  2.22it/s]\n",
      "Epoch 17/50 [Val]: 100%|██████████| 11/11 [00:09<00:00,  1.18it/s]\n"
     ]
    },
    {
     "name": "stdout",
     "output_type": "stream",
     "text": [
      "Epoch 17/50: Train Loss=1.3543, Train Acc=0.6887, Val Loss=1.3006, Val Acc=0.7111, LR=0.001000\n",
      "✓ Best model saved (val_acc=0.7111)\n"
     ]
    },
    {
     "name": "stderr",
     "output_type": "stream",
     "text": [
      "Epoch 18/50 [Train]: 100%|██████████| 86/86 [00:39<00:00,  2.18it/s]\n",
      "Epoch 18/50 [Val]: 100%|██████████| 11/11 [00:09<00:00,  1.11it/s]\n"
     ]
    },
    {
     "name": "stdout",
     "output_type": "stream",
     "text": [
      "Epoch 18/50: Train Loss=1.3044, Train Acc=0.7059, Val Loss=1.3062, Val Acc=0.7199, LR=0.001000\n",
      "✓ Best model saved (val_acc=0.7199)\n"
     ]
    },
    {
     "name": "stderr",
     "output_type": "stream",
     "text": [
      "Epoch 19/50 [Train]: 100%|██████████| 86/86 [00:40<00:00,  2.12it/s]\n",
      "Epoch 19/50 [Val]: 100%|██████████| 11/11 [00:09<00:00,  1.18it/s]\n"
     ]
    },
    {
     "name": "stdout",
     "output_type": "stream",
     "text": [
      "Epoch 19/50: Train Loss=1.2898, Train Acc=0.7128, Val Loss=1.2978, Val Acc=0.7170, LR=0.001000\n"
     ]
    },
    {
     "name": "stderr",
     "output_type": "stream",
     "text": [
      "Epoch 20/50 [Train]: 100%|██████████| 86/86 [00:38<00:00,  2.23it/s]\n",
      "Epoch 20/50 [Val]: 100%|██████████| 11/11 [00:09<00:00,  1.18it/s]\n"
     ]
    },
    {
     "name": "stdout",
     "output_type": "stream",
     "text": [
      "Epoch 20/50: Train Loss=1.2733, Train Acc=0.7256, Val Loss=1.2757, Val Acc=0.7273, LR=0.001000\n",
      "✓ Best model saved (val_acc=0.7273)\n"
     ]
    },
    {
     "name": "stderr",
     "output_type": "stream",
     "text": [
      "Epoch 21/50 [Train]: 100%|██████████| 86/86 [00:38<00:00,  2.22it/s]\n",
      "Epoch 21/50 [Val]: 100%|██████████| 11/11 [00:09<00:00,  1.16it/s]\n"
     ]
    },
    {
     "name": "stdout",
     "output_type": "stream",
     "text": [
      "Epoch 21/50: Train Loss=1.2545, Train Acc=0.7248, Val Loss=1.2726, Val Acc=0.7302, LR=0.001000\n",
      "✓ Best model saved (val_acc=0.7302)\n"
     ]
    },
    {
     "name": "stderr",
     "output_type": "stream",
     "text": [
      "Epoch 22/50 [Train]: 100%|██████████| 86/86 [00:38<00:00,  2.22it/s]\n",
      "Epoch 22/50 [Val]: 100%|██████████| 11/11 [00:09<00:00,  1.18it/s]\n"
     ]
    },
    {
     "name": "stdout",
     "output_type": "stream",
     "text": [
      "Epoch 22/50: Train Loss=1.2400, Train Acc=0.7319, Val Loss=1.2797, Val Acc=0.7405, LR=0.001000\n",
      "✓ Best model saved (val_acc=0.7405)\n"
     ]
    },
    {
     "name": "stderr",
     "output_type": "stream",
     "text": [
      "Epoch 23/50 [Train]: 100%|██████████| 86/86 [00:38<00:00,  2.22it/s]\n",
      "Epoch 23/50 [Val]: 100%|██████████| 11/11 [00:09<00:00,  1.17it/s]\n"
     ]
    },
    {
     "name": "stdout",
     "output_type": "stream",
     "text": [
      "Epoch 23/50: Train Loss=1.2335, Train Acc=0.7449, Val Loss=1.2719, Val Acc=0.7390, LR=0.001000\n"
     ]
    },
    {
     "name": "stderr",
     "output_type": "stream",
     "text": [
      "Epoch 24/50 [Train]: 100%|██████████| 86/86 [00:39<00:00,  2.16it/s]\n",
      "Epoch 24/50 [Val]: 100%|██████████| 11/11 [00:09<00:00,  1.16it/s]\n"
     ]
    },
    {
     "name": "stdout",
     "output_type": "stream",
     "text": [
      "Epoch 24/50: Train Loss=1.2032, Train Acc=0.7482, Val Loss=1.2336, Val Acc=0.7273, LR=0.001000\n"
     ]
    },
    {
     "name": "stderr",
     "output_type": "stream",
     "text": [
      "Epoch 25/50 [Train]: 100%|██████████| 86/86 [00:38<00:00,  2.23it/s]\n",
      "Epoch 25/50 [Val]: 100%|██████████| 11/11 [00:09<00:00,  1.18it/s]\n"
     ]
    },
    {
     "name": "stdout",
     "output_type": "stream",
     "text": [
      "Epoch 25/50: Train Loss=1.1927, Train Acc=0.7526, Val Loss=1.2415, Val Acc=0.7449, LR=0.001000\n",
      "✓ Best model saved (val_acc=0.7449)\n"
     ]
    },
    {
     "name": "stderr",
     "output_type": "stream",
     "text": [
      "Epoch 26/50 [Train]: 100%|██████████| 86/86 [00:39<00:00,  2.18it/s]\n",
      "Epoch 26/50 [Val]: 100%|██████████| 11/11 [00:09<00:00,  1.18it/s]\n"
     ]
    },
    {
     "name": "stdout",
     "output_type": "stream",
     "text": [
      "Epoch 26/50: Train Loss=1.1759, Train Acc=0.7619, Val Loss=1.2579, Val Acc=0.7331, LR=0.001000\n"
     ]
    },
    {
     "name": "stderr",
     "output_type": "stream",
     "text": [
      "Epoch 27/50 [Train]: 100%|██████████| 86/86 [00:38<00:00,  2.21it/s]\n",
      "Epoch 27/50 [Val]: 100%|██████████| 11/11 [00:09<00:00,  1.19it/s]\n"
     ]
    },
    {
     "name": "stdout",
     "output_type": "stream",
     "text": [
      "Epoch 27/50: Train Loss=1.1600, Train Acc=0.7695, Val Loss=1.2405, Val Acc=0.7507, LR=0.001000\n",
      "✓ Best model saved (val_acc=0.7507)\n"
     ]
    },
    {
     "name": "stderr",
     "output_type": "stream",
     "text": [
      "Epoch 28/50 [Train]: 100%|██████████| 86/86 [00:39<00:00,  2.20it/s]\n",
      "Epoch 28/50 [Val]: 100%|██████████| 11/11 [00:09<00:00,  1.18it/s]\n"
     ]
    },
    {
     "name": "stdout",
     "output_type": "stream",
     "text": [
      "Epoch 28/50: Train Loss=1.1475, Train Acc=0.7733, Val Loss=1.2567, Val Acc=0.7287, LR=0.001000\n"
     ]
    },
    {
     "name": "stderr",
     "output_type": "stream",
     "text": [
      "Epoch 29/50 [Train]: 100%|██████████| 86/86 [00:38<00:00,  2.22it/s]\n",
      "Epoch 29/50 [Val]: 100%|██████████| 11/11 [00:09<00:00,  1.19it/s]\n"
     ]
    },
    {
     "name": "stdout",
     "output_type": "stream",
     "text": [
      "Epoch 29/50: Train Loss=1.1197, Train Acc=0.7803, Val Loss=1.2410, Val Acc=0.7375, LR=0.001000\n"
     ]
    },
    {
     "name": "stderr",
     "output_type": "stream",
     "text": [
      "Epoch 30/50 [Train]: 100%|██████████| 86/86 [00:38<00:00,  2.23it/s]\n",
      "Epoch 30/50 [Val]: 100%|██████████| 11/11 [00:09<00:00,  1.18it/s]\n"
     ]
    },
    {
     "name": "stdout",
     "output_type": "stream",
     "text": [
      "Epoch 30/50: Train Loss=1.1082, Train Acc=0.7883, Val Loss=1.2611, Val Acc=0.7331, LR=0.001000\n"
     ]
    },
    {
     "name": "stderr",
     "output_type": "stream",
     "text": [
      "Epoch 31/50 [Train]: 100%|██████████| 86/86 [00:38<00:00,  2.21it/s]\n",
      "Epoch 31/50 [Val]: 100%|██████████| 11/11 [00:09<00:00,  1.12it/s]\n"
     ]
    },
    {
     "name": "stdout",
     "output_type": "stream",
     "text": [
      "Epoch 31/50: Train Loss=1.0623, Train Acc=0.8155, Val Loss=1.2047, Val Acc=0.7551, LR=0.000500\n",
      "✓ Best model saved (val_acc=0.7551)\n"
     ]
    },
    {
     "name": "stderr",
     "output_type": "stream",
     "text": [
      "Epoch 32/50 [Train]: 100%|██████████| 86/86 [00:38<00:00,  2.21it/s]\n",
      "Epoch 32/50 [Val]: 100%|██████████| 11/11 [00:09<00:00,  1.18it/s]\n"
     ]
    },
    {
     "name": "stdout",
     "output_type": "stream",
     "text": [
      "Epoch 32/50: Train Loss=1.0278, Train Acc=0.8240, Val Loss=1.2009, Val Acc=0.7522, LR=0.000500\n"
     ]
    },
    {
     "name": "stderr",
     "output_type": "stream",
     "text": [
      "Epoch 33/50 [Train]: 100%|██████████| 86/86 [00:38<00:00,  2.22it/s]\n",
      "Epoch 33/50 [Val]: 100%|██████████| 11/11 [00:09<00:00,  1.18it/s]\n"
     ]
    },
    {
     "name": "stdout",
     "output_type": "stream",
     "text": [
      "Epoch 33/50: Train Loss=1.0022, Train Acc=0.8260, Val Loss=1.1940, Val Acc=0.7669, LR=0.000500\n",
      "✓ Best model saved (val_acc=0.7669)\n"
     ]
    },
    {
     "name": "stderr",
     "output_type": "stream",
     "text": [
      "Epoch 34/50 [Train]: 100%|██████████| 86/86 [00:38<00:00,  2.21it/s]\n",
      "Epoch 34/50 [Val]: 100%|██████████| 11/11 [00:09<00:00,  1.20it/s]\n"
     ]
    },
    {
     "name": "stdout",
     "output_type": "stream",
     "text": [
      "Epoch 34/50: Train Loss=0.9940, Train Acc=0.8366, Val Loss=1.1865, Val Acc=0.7581, LR=0.000500\n"
     ]
    },
    {
     "name": "stderr",
     "output_type": "stream",
     "text": [
      "Epoch 35/50 [Train]: 100%|██████████| 86/86 [00:38<00:00,  2.22it/s]\n",
      "Epoch 35/50 [Val]: 100%|██████████| 11/11 [00:09<00:00,  1.18it/s]\n"
     ]
    },
    {
     "name": "stdout",
     "output_type": "stream",
     "text": [
      "Epoch 35/50: Train Loss=0.9844, Train Acc=0.8381, Val Loss=1.2066, Val Acc=0.7610, LR=0.000500\n"
     ]
    },
    {
     "name": "stderr",
     "output_type": "stream",
     "text": [
      "Epoch 36/50 [Train]: 100%|██████████| 86/86 [00:38<00:00,  2.22it/s]\n",
      "Epoch 36/50 [Val]: 100%|██████████| 11/11 [00:09<00:00,  1.18it/s]\n"
     ]
    },
    {
     "name": "stdout",
     "output_type": "stream",
     "text": [
      "Epoch 36/50: Train Loss=0.9735, Train Acc=0.8454, Val Loss=1.1695, Val Acc=0.7669, LR=0.000500\n"
     ]
    },
    {
     "name": "stderr",
     "output_type": "stream",
     "text": [
      "Epoch 37/50 [Train]: 100%|██████████| 86/86 [00:38<00:00,  2.22it/s]\n",
      "Epoch 37/50 [Val]: 100%|██████████| 11/11 [00:09<00:00,  1.20it/s]\n"
     ]
    },
    {
     "name": "stdout",
     "output_type": "stream",
     "text": [
      "Epoch 37/50: Train Loss=0.9574, Train Acc=0.8505, Val Loss=1.1877, Val Acc=0.7727, LR=0.000500\n",
      "✓ Best model saved (val_acc=0.7727)\n"
     ]
    },
    {
     "name": "stderr",
     "output_type": "stream",
     "text": [
      "Epoch 38/50 [Train]: 100%|██████████| 86/86 [00:39<00:00,  2.20it/s]\n",
      "Epoch 38/50 [Val]: 100%|██████████| 11/11 [00:09<00:00,  1.15it/s]\n"
     ]
    },
    {
     "name": "stdout",
     "output_type": "stream",
     "text": [
      "Epoch 38/50: Train Loss=0.9585, Train Acc=0.8465, Val Loss=1.1954, Val Acc=0.7742, LR=0.000500\n",
      "✓ Best model saved (val_acc=0.7742)\n"
     ]
    },
    {
     "name": "stderr",
     "output_type": "stream",
     "text": [
      "Epoch 39/50 [Train]: 100%|██████████| 86/86 [00:39<00:00,  2.20it/s]\n",
      "Epoch 39/50 [Val]: 100%|██████████| 11/11 [00:09<00:00,  1.20it/s]\n"
     ]
    },
    {
     "name": "stdout",
     "output_type": "stream",
     "text": [
      "Epoch 39/50: Train Loss=0.9347, Train Acc=0.8587, Val Loss=1.1862, Val Acc=0.7742, LR=0.000500\n"
     ]
    },
    {
     "name": "stderr",
     "output_type": "stream",
     "text": [
      "Epoch 40/50 [Train]: 100%|██████████| 86/86 [00:38<00:00,  2.21it/s]\n",
      "Epoch 40/50 [Val]: 100%|██████████| 11/11 [00:09<00:00,  1.20it/s]\n"
     ]
    },
    {
     "name": "stdout",
     "output_type": "stream",
     "text": [
      "Epoch 40/50: Train Loss=0.9374, Train Acc=0.8567, Val Loss=1.1878, Val Acc=0.7801, LR=0.000500\n",
      "✓ Best model saved (val_acc=0.7801)\n"
     ]
    },
    {
     "name": "stderr",
     "output_type": "stream",
     "text": [
      "Epoch 41/50 [Train]: 100%|██████████| 86/86 [40:32<00:00, 28.28s/it]    \n",
      "Epoch 41/50 [Val]: 100%|██████████| 11/11 [00:16<00:00,  1.49s/it]\n"
     ]
    },
    {
     "name": "stdout",
     "output_type": "stream",
     "text": [
      "Epoch 41/50: Train Loss=0.9366, Train Acc=0.8583, Val Loss=1.1605, Val Acc=0.7815, LR=0.000500\n",
      "✓ Best model saved (val_acc=0.7815)\n"
     ]
    },
    {
     "name": "stderr",
     "output_type": "stream",
     "text": [
      "Epoch 42/50 [Train]: 100%|██████████| 86/86 [00:46<00:00,  1.85it/s]\n",
      "Epoch 42/50 [Val]: 100%|██████████| 11/11 [00:19<00:00,  1.74s/it]\n"
     ]
    },
    {
     "name": "stdout",
     "output_type": "stream",
     "text": [
      "Epoch 42/50: Train Loss=0.9237, Train Acc=0.8634, Val Loss=1.1717, Val Acc=0.7683, LR=0.000500\n"
     ]
    },
    {
     "name": "stderr",
     "output_type": "stream",
     "text": [
      "Epoch 43/50 [Train]: 100%|██████████| 86/86 [00:44<00:00,  1.93it/s]\n",
      "Epoch 43/50 [Val]: 100%|██████████| 11/11 [00:09<00:00,  1.12it/s]\n"
     ]
    },
    {
     "name": "stdout",
     "output_type": "stream",
     "text": [
      "Epoch 43/50: Train Loss=0.9185, Train Acc=0.8663, Val Loss=1.1778, Val Acc=0.7757, LR=0.000500\n"
     ]
    },
    {
     "name": "stderr",
     "output_type": "stream",
     "text": [
      "Epoch 44/50 [Train]: 100%|██████████| 86/86 [00:45<00:00,  1.91it/s]\n",
      "Epoch 44/50 [Val]: 100%|██████████| 11/11 [00:09<00:00,  1.11it/s]\n"
     ]
    },
    {
     "name": "stdout",
     "output_type": "stream",
     "text": [
      "Epoch 44/50: Train Loss=0.9010, Train Acc=0.8693, Val Loss=1.1883, Val Acc=0.7698, LR=0.000500\n"
     ]
    },
    {
     "name": "stderr",
     "output_type": "stream",
     "text": [
      "Epoch 45/50 [Train]: 100%|██████████| 86/86 [00:43<00:00,  1.98it/s]\n",
      "Epoch 45/50 [Val]: 100%|██████████| 11/11 [00:10<00:00,  1.09it/s]\n"
     ]
    },
    {
     "name": "stdout",
     "output_type": "stream",
     "text": [
      "Epoch 45/50: Train Loss=0.8970, Train Acc=0.8724, Val Loss=1.1941, Val Acc=0.7742, LR=0.000500\n"
     ]
    },
    {
     "name": "stderr",
     "output_type": "stream",
     "text": [
      "Epoch 46/50 [Train]: 100%|██████████| 86/86 [00:43<00:00,  1.96it/s]\n",
      "Epoch 46/50 [Val]: 100%|██████████| 11/11 [00:11<00:00,  1.01s/it]\n"
     ]
    },
    {
     "name": "stdout",
     "output_type": "stream",
     "text": [
      "Epoch 46/50: Train Loss=0.8915, Train Acc=0.8722, Val Loss=1.1854, Val Acc=0.7815, LR=0.000500\n"
     ]
    },
    {
     "name": "stderr",
     "output_type": "stream",
     "text": [
      "Epoch 47/50 [Train]: 100%|██████████| 86/86 [00:44<00:00,  1.95it/s]\n",
      "Epoch 47/50 [Val]: 100%|██████████| 11/11 [00:10<00:00,  1.07it/s]\n"
     ]
    },
    {
     "name": "stdout",
     "output_type": "stream",
     "text": [
      "Epoch 47/50: Train Loss=0.8754, Train Acc=0.8793, Val Loss=1.1897, Val Acc=0.7683, LR=0.000500\n"
     ]
    },
    {
     "name": "stderr",
     "output_type": "stream",
     "text": [
      "Epoch 48/50 [Train]: 100%|██████████| 86/86 [00:45<00:00,  1.90it/s]\n",
      "Epoch 48/50 [Val]: 100%|██████████| 11/11 [00:10<00:00,  1.08it/s]\n"
     ]
    },
    {
     "name": "stdout",
     "output_type": "stream",
     "text": [
      "Epoch 48/50: Train Loss=0.8610, Train Acc=0.8899, Val Loss=1.1881, Val Acc=0.7669, LR=0.000250\n"
     ]
    },
    {
     "name": "stderr",
     "output_type": "stream",
     "text": [
      "Epoch 49/50 [Train]: 100%|██████████| 86/86 [00:44<00:00,  1.95it/s]\n",
      "Epoch 49/50 [Val]: 100%|██████████| 11/11 [00:10<00:00,  1.07it/s]\n"
     ]
    },
    {
     "name": "stdout",
     "output_type": "stream",
     "text": [
      "Epoch 49/50: Train Loss=0.8439, Train Acc=0.8926, Val Loss=1.1834, Val Acc=0.7859, LR=0.000250\n",
      "✓ Best model saved (val_acc=0.7859)\n"
     ]
    },
    {
     "name": "stderr",
     "output_type": "stream",
     "text": [
      "Epoch 50/50 [Train]: 100%|██████████| 86/86 [00:44<00:00,  1.94it/s]\n",
      "Epoch 50/50 [Val]: 100%|██████████| 11/11 [00:11<00:00,  1.02s/it]"
     ]
    },
    {
     "name": "stdout",
     "output_type": "stream",
     "text": [
      "Epoch 50/50: Train Loss=0.8340, Train Acc=0.8977, Val Loss=1.1785, Val Acc=0.7742, LR=0.000250\n",
      "\n",
      "Training complete!\n",
      "Best val_acc: 0.7859\n",
      "Best val_loss: 1.1834\n",
      "Metrics saved in d:\\Uni\\Master\\1 Bimestre\\Foundations\\Assignments\\Weather-Clasification\\reports\\metrics\\metrics_CNN_V3_Improved.pkl\n",
      "Model saved in d:\\Uni\\Master\\1 Bimestre\\Foundations\\Assignments\\Weather-Clasification\\models\\best_model_CNN_V3_Improved.pth\n"
     ]
    },
    {
     "name": "stderr",
     "output_type": "stream",
     "text": [
      "\n"
     ]
    }
   ],
   "source": [
    "input_dim = 224*224*3  # matches the Resize transform\n",
    "model = train_model_improved(CNN_V3_Improved, \n",
    "                    train_dir=\"../../data/train\", \n",
    "                    val_dir=\"../../data/val\", \n",
    "                    input_dim=input_dim,\n",
    "                    num_classes=11,\n",
    "                    batch_size=64,\n",
    "                    epochs=50,\n",
    "                    lr=1e-3,\n",
    "                    device=\"cuda\" if torch.cuda.is_available() else \"cpu\")"
   ]
  }
 ],
 "metadata": {
  "kernelspec": {
   "display_name": "py311ml",
   "language": "python",
   "name": "python3"
  },
  "language_info": {
   "codemirror_mode": {
    "name": "ipython",
    "version": 3
   },
   "file_extension": ".py",
   "mimetype": "text/x-python",
   "name": "python",
   "nbconvert_exporter": "python",
   "pygments_lexer": "ipython3",
   "version": "3.11.13"
  }
 },
 "nbformat": 4,
 "nbformat_minor": 5
}
