{
 "cells": [
  {
   "cell_type": "code",
   "execution_count": null,
   "id": "d2bc7a26",
   "metadata": {},
   "outputs": [],
   "source": [
    "import sys\n",
    "import os\n",
    "\n",
    "# Add the root folder of your project\n",
    "root_path = os.path.abspath(os.path.join(\"..\", \"..\"))  # two levels up from experiments\n",
    "sys.path.append(root_path)\n",
    "\n",
    "from weather_classification.modeling.mlp import MLPClassifier\n",
    "from weather_classification.weather_dataset import WeatherDataset\n",
    "from weather_classification.train import train_model\n",
    "from weather_classification.modeling.modern_lenet import LeNetModern\n",
    "\n",
    "import torch"
   ]
  },
  {
   "cell_type": "code",
   "execution_count": 2,
   "id": "4596f311",
   "metadata": {},
   "outputs": [
    {
     "name": "stderr",
     "output_type": "stream",
     "text": [
      "Epoch 1/5 [Train]: 100%|██████████| 86/86 [00:25<00:00,  3.32it/s]\n",
      "Epoch 1/5 [Val]: 100%|██████████| 11/11 [00:02<00:00,  4.45it/s]\n"
     ]
    },
    {
     "name": "stdout",
     "output_type": "stream",
     "text": [
      "Epoch 1/5: Train Loss=2.1951, Train Acc=0.2387, Val Loss=1.8511, Val Acc=0.3666\n",
      "Best model saved in c:\\Users\\joaqu\\Desktop\\MASTER\\Foundations\\Entrega CNN\\Weather-Clasification\\models\\best_model_MLPClassifier.pth (val_acc=0.3666)\n"
     ]
    },
    {
     "name": "stderr",
     "output_type": "stream",
     "text": [
      "Epoch 2/5 [Train]: 100%|██████████| 86/86 [00:25<00:00,  3.40it/s]\n",
      "Epoch 2/5 [Val]: 100%|██████████| 11/11 [00:02<00:00,  4.39it/s]\n"
     ]
    },
    {
     "name": "stdout",
     "output_type": "stream",
     "text": [
      "Epoch 2/5: Train Loss=1.8244, Train Acc=0.3729, Val Loss=1.7711, Val Acc=0.4047\n",
      "Best model saved in c:\\Users\\joaqu\\Desktop\\MASTER\\Foundations\\Entrega CNN\\Weather-Clasification\\models\\best_model_MLPClassifier.pth (val_acc=0.4047)\n"
     ]
    },
    {
     "name": "stderr",
     "output_type": "stream",
     "text": [
      "Epoch 3/5 [Train]: 100%|██████████| 86/86 [00:25<00:00,  3.38it/s]\n",
      "Epoch 3/5 [Val]: 100%|██████████| 11/11 [00:02<00:00,  4.38it/s]\n"
     ]
    },
    {
     "name": "stdout",
     "output_type": "stream",
     "text": [
      "Epoch 3/5: Train Loss=1.7972, Train Acc=0.3975, Val Loss=1.6747, Val Acc=0.4663\n",
      "Best model saved in c:\\Users\\joaqu\\Desktop\\MASTER\\Foundations\\Entrega CNN\\Weather-Clasification\\models\\best_model_MLPClassifier.pth (val_acc=0.4663)\n"
     ]
    },
    {
     "name": "stderr",
     "output_type": "stream",
     "text": [
      "Epoch 4/5 [Train]: 100%|██████████| 86/86 [00:25<00:00,  3.40it/s]\n",
      "Epoch 4/5 [Val]: 100%|██████████| 11/11 [00:02<00:00,  4.31it/s]\n"
     ]
    },
    {
     "name": "stdout",
     "output_type": "stream",
     "text": [
      "Epoch 4/5: Train Loss=1.7175, Train Acc=0.4358, Val Loss=1.6168, Val Acc=0.4883\n",
      "Best model saved in c:\\Users\\joaqu\\Desktop\\MASTER\\Foundations\\Entrega CNN\\Weather-Clasification\\models\\best_model_MLPClassifier.pth (val_acc=0.4883)\n"
     ]
    },
    {
     "name": "stderr",
     "output_type": "stream",
     "text": [
      "Epoch 5/5 [Train]: 100%|██████████| 86/86 [00:25<00:00,  3.36it/s]\n",
      "Epoch 5/5 [Val]: 100%|██████████| 11/11 [00:02<00:00,  4.45it/s]\n"
     ]
    },
    {
     "name": "stdout",
     "output_type": "stream",
     "text": [
      "Epoch 5/5: Train Loss=1.6907, Train Acc=0.4378, Val Loss=1.6048, Val Acc=0.4985\n",
      "Best model saved in c:\\Users\\joaqu\\Desktop\\MASTER\\Foundations\\Entrega CNN\\Weather-Clasification\\models\\best_model_MLPClassifier.pth (val_acc=0.4985)\n",
      "Training complete. Best val_acc=0.4985\n",
      "MMetrics saved in c:\\Users\\joaqu\\Desktop\\MASTER\\Foundations\\Entrega CNN\\Weather-Clasification\\reports\\metrics\\metrics_MLPClassifier.pkl\n"
     ]
    }
   ],
   "source": [
    "input_dim = 64*64*3  # matches the Resize transform\n",
    "model = train_model(MLPClassifier, \n",
    "                    train_dir=\"../../data/train\", \n",
    "                    val_dir=\"../../data/val\", \n",
    "                    input_dim=input_dim,\n",
    "                    num_classes=11,\n",
    "                    batch_size=64,\n",
    "                    epochs=5,\n",
    "                    lr=1e-3,\n",
    "                    device=\"cuda\" if torch.cuda.is_available() else \"cpu\")\n"
   ]
  },
  {
   "cell_type": "code",
   "execution_count": 2,
   "id": "0fc75620",
   "metadata": {},
   "outputs": [
    {
     "name": "stderr",
     "output_type": "stream",
     "text": [
      "Epoch 1/15 [Train]: 100%|██████████| 86/86 [00:22<00:00,  3.85it/s]\n",
      "Epoch 1/15 [Val]: 100%|██████████| 11/11 [00:02<00:00,  4.28it/s]\n"
     ]
    },
    {
     "name": "stdout",
     "output_type": "stream",
     "text": [
      "Epoch 1/15: Train Loss=2.1569, Train Acc=0.2438, Val Loss=1.9039, Val Acc=0.3314\n",
      "Best model saved (val_acc=0.3314)\n"
     ]
    },
    {
     "name": "stderr",
     "output_type": "stream",
     "text": [
      "Epoch 2/15 [Train]: 100%|██████████| 86/86 [00:22<00:00,  3.88it/s]\n",
      "Epoch 2/15 [Val]: 100%|██████████| 11/11 [00:02<00:00,  4.34it/s]\n"
     ]
    },
    {
     "name": "stdout",
     "output_type": "stream",
     "text": [
      "Epoch 2/15: Train Loss=1.7933, Train Acc=0.3873, Val Loss=1.5520, Val Acc=0.4501\n",
      "Best model saved (val_acc=0.4501)\n"
     ]
    },
    {
     "name": "stderr",
     "output_type": "stream",
     "text": [
      "Epoch 3/15 [Train]: 100%|██████████| 86/86 [00:22<00:00,  3.77it/s]\n",
      "Epoch 3/15 [Val]: 100%|██████████| 11/11 [00:02<00:00,  4.08it/s]\n"
     ]
    },
    {
     "name": "stdout",
     "output_type": "stream",
     "text": [
      "Epoch 3/15: Train Loss=1.5666, Train Acc=0.4632, Val Loss=1.4117, Val Acc=0.5103\n",
      "Best model saved (val_acc=0.5103)\n"
     ]
    },
    {
     "name": "stderr",
     "output_type": "stream",
     "text": [
      "Epoch 4/15 [Train]: 100%|██████████| 86/86 [00:23<00:00,  3.71it/s]\n",
      "Epoch 4/15 [Val]: 100%|██████████| 11/11 [00:02<00:00,  4.28it/s]\n"
     ]
    },
    {
     "name": "stdout",
     "output_type": "stream",
     "text": [
      "Epoch 4/15: Train Loss=1.4766, Train Acc=0.4914, Val Loss=1.3649, Val Acc=0.5484\n",
      "Best model saved (val_acc=0.5484)\n"
     ]
    },
    {
     "name": "stderr",
     "output_type": "stream",
     "text": [
      "Epoch 5/15 [Train]: 100%|██████████| 86/86 [00:23<00:00,  3.70it/s]\n",
      "Epoch 5/15 [Val]: 100%|██████████| 11/11 [00:02<00:00,  4.31it/s]\n"
     ]
    },
    {
     "name": "stdout",
     "output_type": "stream",
     "text": [
      "Epoch 5/15: Train Loss=1.3373, Train Acc=0.5469, Val Loss=1.2006, Val Acc=0.6012\n",
      "Best model saved (val_acc=0.6012)\n"
     ]
    },
    {
     "name": "stderr",
     "output_type": "stream",
     "text": [
      "Epoch 6/15 [Train]: 100%|██████████| 86/86 [00:22<00:00,  3.86it/s]\n",
      "Epoch 6/15 [Val]: 100%|██████████| 11/11 [00:02<00:00,  4.04it/s]\n"
     ]
    },
    {
     "name": "stdout",
     "output_type": "stream",
     "text": [
      "Epoch 6/15: Train Loss=1.2666, Train Acc=0.5744, Val Loss=1.1623, Val Acc=0.6085\n",
      "Best model saved (val_acc=0.6085)\n"
     ]
    },
    {
     "name": "stderr",
     "output_type": "stream",
     "text": [
      "Epoch 7/15 [Train]: 100%|██████████| 86/86 [00:22<00:00,  3.91it/s]\n",
      "Epoch 7/15 [Val]: 100%|██████████| 11/11 [00:02<00:00,  4.55it/s]\n"
     ]
    },
    {
     "name": "stdout",
     "output_type": "stream",
     "text": [
      "Epoch 7/15: Train Loss=1.1952, Train Acc=0.5981, Val Loss=1.1353, Val Acc=0.6158\n",
      "Best model saved (val_acc=0.6158)\n"
     ]
    },
    {
     "name": "stderr",
     "output_type": "stream",
     "text": [
      "Epoch 8/15 [Train]: 100%|██████████| 86/86 [00:22<00:00,  3.85it/s]\n",
      "Epoch 8/15 [Val]: 100%|██████████| 11/11 [00:02<00:00,  3.91it/s]\n"
     ]
    },
    {
     "name": "stdout",
     "output_type": "stream",
     "text": [
      "Epoch 8/15: Train Loss=1.1466, Train Acc=0.6202, Val Loss=1.1066, Val Acc=0.6452\n",
      "Best model saved (val_acc=0.6452)\n"
     ]
    },
    {
     "name": "stderr",
     "output_type": "stream",
     "text": [
      "Epoch 9/15 [Train]: 100%|██████████| 86/86 [00:21<00:00,  3.94it/s]\n",
      "Epoch 9/15 [Val]: 100%|██████████| 11/11 [00:02<00:00,  3.99it/s]\n"
     ]
    },
    {
     "name": "stdout",
     "output_type": "stream",
     "text": [
      "Epoch 9/15: Train Loss=1.1011, Train Acc=0.6329, Val Loss=1.0521, Val Acc=0.6554\n",
      "Best model saved (val_acc=0.6554)\n"
     ]
    },
    {
     "name": "stderr",
     "output_type": "stream",
     "text": [
      "Epoch 10/15 [Train]: 100%|██████████| 86/86 [00:21<00:00,  3.99it/s]\n",
      "Epoch 10/15 [Val]: 100%|██████████| 11/11 [00:02<00:00,  4.10it/s]\n"
     ]
    },
    {
     "name": "stdout",
     "output_type": "stream",
     "text": [
      "Epoch 10/15: Train Loss=1.0781, Train Acc=0.6346, Val Loss=1.0787, Val Acc=0.6393\n"
     ]
    },
    {
     "name": "stderr",
     "output_type": "stream",
     "text": [
      "Epoch 11/15 [Train]: 100%|██████████| 86/86 [00:22<00:00,  3.89it/s]\n",
      "Epoch 11/15 [Val]: 100%|██████████| 11/11 [00:02<00:00,  4.08it/s]\n"
     ]
    },
    {
     "name": "stdout",
     "output_type": "stream",
     "text": [
      "Epoch 11/15: Train Loss=1.0664, Train Acc=0.6475, Val Loss=1.0981, Val Acc=0.6437\n"
     ]
    },
    {
     "name": "stderr",
     "output_type": "stream",
     "text": [
      "Epoch 12/15 [Train]: 100%|██████████| 86/86 [00:22<00:00,  3.87it/s]\n",
      "Epoch 12/15 [Val]: 100%|██████████| 11/11 [00:02<00:00,  4.31it/s]\n"
     ]
    },
    {
     "name": "stdout",
     "output_type": "stream",
     "text": [
      "Epoch 12/15: Train Loss=1.0391, Train Acc=0.6493, Val Loss=1.0473, Val Acc=0.6452\n"
     ]
    },
    {
     "name": "stderr",
     "output_type": "stream",
     "text": [
      "Epoch 13/15 [Train]: 100%|██████████| 86/86 [00:22<00:00,  3.75it/s]\n",
      "Epoch 13/15 [Val]: 100%|██████████| 11/11 [00:02<00:00,  4.25it/s]\n"
     ]
    },
    {
     "name": "stdout",
     "output_type": "stream",
     "text": [
      "Epoch 13/15: Train Loss=1.0038, Train Acc=0.6614, Val Loss=1.1124, Val Acc=0.6276\n"
     ]
    },
    {
     "name": "stderr",
     "output_type": "stream",
     "text": [
      "Epoch 14/15 [Train]: 100%|██████████| 86/86 [00:23<00:00,  3.68it/s]\n",
      "Epoch 14/15 [Val]: 100%|██████████| 11/11 [00:02<00:00,  4.24it/s]\n"
     ]
    },
    {
     "name": "stdout",
     "output_type": "stream",
     "text": [
      "Epoch 14/15: Train Loss=0.9861, Train Acc=0.6630, Val Loss=1.0389, Val Acc=0.6554\n"
     ]
    },
    {
     "name": "stderr",
     "output_type": "stream",
     "text": [
      "Epoch 15/15 [Train]: 100%|██████████| 86/86 [00:23<00:00,  3.73it/s]\n",
      "Epoch 15/15 [Val]: 100%|██████████| 11/11 [00:02<00:00,  4.24it/s]"
     ]
    },
    {
     "name": "stdout",
     "output_type": "stream",
     "text": [
      "Epoch 15/15: Train Loss=0.9923, Train Acc=0.6570, Val Loss=1.0228, Val Acc=0.6657\n",
      "Best model saved (val_acc=0.6657)\n",
      "Training complete. Best val_acc=0.6657\n"
     ]
    },
    {
     "name": "stderr",
     "output_type": "stream",
     "text": [
      "\n"
     ]
    }
   ],
   "source": [
    "input_dim = 64*64*3  # matches the Resize transform\n",
    "model = train_model(LeNetModern, \n",
    "                    train_dir=\"../../data/train\", \n",
    "                    val_dir=\"../../data/val\", \n",
    "                    input_dim=input_dim,\n",
    "                    num_classes=11,\n",
    "                    batch_size=64,\n",
    "                    epochs=15,\n",
    "                    lr=1e-3,\n",
    "                    device=\"cuda\" if torch.cuda.is_available() else \"cpu\")"
   ]
  }
 ],
 "metadata": {
  "kernelspec": {
   "display_name": "Python 3",
   "language": "python",
   "name": "python3"
  },
  "language_info": {
   "codemirror_mode": {
    "name": "ipython",
    "version": 3
   },
   "file_extension": ".py",
   "mimetype": "text/x-python",
   "name": "python",
   "nbconvert_exporter": "python",
   "pygments_lexer": "ipython3",
   "version": "3.12.0"
  }
 },
 "nbformat": 4,
 "nbformat_minor": 5
}
