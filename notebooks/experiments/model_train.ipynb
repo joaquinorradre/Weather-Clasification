{
 "cells": [
  {
   "cell_type": "code",
   "execution_count": 1,
   "id": "d2bc7a26",
   "metadata": {},
   "outputs": [],
   "source": [
    "import sys\n",
    "import os\n",
    "\n",
    "# Add the root folder of your project\n",
    "root_path = os.path.abspath(os.path.join(\"..\", \"..\"))  # two levels up from experiments\n",
    "sys.path.append(root_path)\n",
    "\n",
    "from weather_classification.modeling.mlp import MLPClassifier\n",
    "from weather_classification.weather_dataset import WeatherDataset\n",
    "from weather_classification.train import train_model, train_model_improved\n",
    "from weather_classification.modeling.modern_lenet import LeNetModern\n",
    "from weather_classification.modeling.cnn import CNN_V1, CNN_V1_reg, CNN_V2, CNN_V2_reg, CNN_V3, CNN_V3_reg, CNN_V3_Improved\n",
    "from weather_classification.seed_utils import set_seed\n",
    "set_seed(1234)\n",
    "\n",
    "import torch"
   ]
  },
  {
   "cell_type": "code",
   "execution_count": 2,
   "id": "4596f311",
   "metadata": {},
   "outputs": [
    {
     "name": "stdout",
     "output_type": "stream",
     "text": [
      "Class counts: Counter({8: 928, 1: 680, 0: 558, 9: 553, 3: 511, 10: 496, 4: 472, 6: 420, 2: 380, 5: 301, 7: 185})\n",
      "Class weights: {0: '9.828', 1: '8.065', 2: '14.432', 3: '10.732', 4: '11.619', 5: '18.219', 6: '13.057', 7: '29.643', 8: '5.909', 9: '9.917', 10: '11.056'}\n",
      "\n",
      "Model: MLPClassifier\n",
      "Total parameters: 13,242,891\n",
      "Trainable parameters: 13,242,891\n",
      "\n"
     ]
    },
    {
     "name": "stderr",
     "output_type": "stream",
     "text": [
      "Epoch 1/50 [Train]: 100%|██████████| 86/86 [00:25<00:00,  3.39it/s]\n",
      "Epoch 1/50 [Val]: 100%|██████████| 11/11 [00:07<00:00,  1.53it/s]\n"
     ]
    },
    {
     "name": "stdout",
     "output_type": "stream",
     "text": [
      "Epoch 1/50: Train Loss=2.4924, Train Acc=0.1382, Val Loss=2.2605, Val Acc=0.2346, LR=0.001000\n",
      "✓ Best model saved in d:\\Uni\\Master\\1 Bimestre\\Foundations\\Assignments\\Weather-Clasification\\models\\best_model_MLPClassifier.pth (val_acc=0.2346)\n"
     ]
    },
    {
     "name": "stderr",
     "output_type": "stream",
     "text": [
      "Epoch 2/50 [Train]: 100%|██████████| 86/86 [00:24<00:00,  3.48it/s]\n",
      "Epoch 2/50 [Val]: 100%|██████████| 11/11 [00:08<00:00,  1.30it/s]\n"
     ]
    },
    {
     "name": "stdout",
     "output_type": "stream",
     "text": [
      "Epoch 2/50: Train Loss=2.1236, Train Acc=0.3105, Val Loss=2.0444, Val Acc=0.4428, LR=0.001000\n",
      "✓ Best model saved in d:\\Uni\\Master\\1 Bimestre\\Foundations\\Assignments\\Weather-Clasification\\models\\best_model_MLPClassifier.pth (val_acc=0.4428)\n"
     ]
    },
    {
     "name": "stderr",
     "output_type": "stream",
     "text": [
      "Epoch 3/50 [Train]: 100%|██████████| 86/86 [00:30<00:00,  2.79it/s]\n",
      "Epoch 3/50 [Val]: 100%|██████████| 11/11 [00:06<00:00,  1.57it/s]\n"
     ]
    },
    {
     "name": "stdout",
     "output_type": "stream",
     "text": [
      "Epoch 3/50: Train Loss=2.0622, Train Acc=0.3623, Val Loss=1.9702, Val Acc=0.4839, LR=0.001000\n",
      "✓ Best model saved in d:\\Uni\\Master\\1 Bimestre\\Foundations\\Assignments\\Weather-Clasification\\models\\best_model_MLPClassifier.pth (val_acc=0.4839)\n"
     ]
    },
    {
     "name": "stderr",
     "output_type": "stream",
     "text": [
      "Epoch 4/50 [Train]: 100%|██████████| 86/86 [00:24<00:00,  3.50it/s]\n",
      "Epoch 4/50 [Val]: 100%|██████████| 11/11 [00:07<00:00,  1.50it/s]\n"
     ]
    },
    {
     "name": "stdout",
     "output_type": "stream",
     "text": [
      "Epoch 4/50: Train Loss=2.0349, Train Acc=0.3787, Val Loss=2.0292, Val Acc=0.4076, LR=0.001000\n"
     ]
    },
    {
     "name": "stderr",
     "output_type": "stream",
     "text": [
      "Epoch 5/50 [Train]: 100%|██████████| 86/86 [00:24<00:00,  3.50it/s]\n",
      "Epoch 5/50 [Val]: 100%|██████████| 11/11 [00:07<00:00,  1.57it/s]\n"
     ]
    },
    {
     "name": "stdout",
     "output_type": "stream",
     "text": [
      "Epoch 5/50: Train Loss=2.0127, Train Acc=0.3897, Val Loss=2.0280, Val Acc=0.3827, LR=0.001000\n"
     ]
    },
    {
     "name": "stderr",
     "output_type": "stream",
     "text": [
      "Epoch 6/50 [Train]: 100%|██████████| 86/86 [00:24<00:00,  3.53it/s]\n",
      "Epoch 6/50 [Val]: 100%|██████████| 11/11 [00:06<00:00,  1.58it/s]\n"
     ]
    },
    {
     "name": "stdout",
     "output_type": "stream",
     "text": [
      "Epoch 6/50: Train Loss=2.0091, Train Acc=0.3902, Val Loss=1.9690, Val Acc=0.4589, LR=0.001000\n"
     ]
    },
    {
     "name": "stderr",
     "output_type": "stream",
     "text": [
      "Epoch 7/50 [Train]: 100%|██████████| 86/86 [00:24<00:00,  3.52it/s]\n",
      "Epoch 7/50 [Val]: 100%|██████████| 11/11 [00:07<00:00,  1.55it/s]\n"
     ]
    },
    {
     "name": "stdout",
     "output_type": "stream",
     "text": [
      "Epoch 7/50: Train Loss=1.9823, Train Acc=0.4203, Val Loss=1.9704, Val Acc=0.4780, LR=0.001000\n"
     ]
    },
    {
     "name": "stderr",
     "output_type": "stream",
     "text": [
      "Epoch 8/50 [Train]: 100%|██████████| 86/86 [00:25<00:00,  3.37it/s]\n",
      "Epoch 8/50 [Val]: 100%|██████████| 11/11 [00:07<00:00,  1.49it/s]\n"
     ]
    },
    {
     "name": "stdout",
     "output_type": "stream",
     "text": [
      "Epoch 8/50: Train Loss=1.9756, Train Acc=0.4019, Val Loss=1.9873, Val Acc=0.4692, LR=0.001000\n"
     ]
    },
    {
     "name": "stderr",
     "output_type": "stream",
     "text": [
      "Epoch 9/50 [Train]: 100%|██████████| 86/86 [00:24<00:00,  3.47it/s]\n",
      "Epoch 9/50 [Val]: 100%|██████████| 11/11 [00:08<00:00,  1.34it/s]\n"
     ]
    },
    {
     "name": "stdout",
     "output_type": "stream",
     "text": [
      "Epoch 9/50: Train Loss=1.9700, Train Acc=0.4167, Val Loss=1.9732, Val Acc=0.4428, LR=0.001000\n"
     ]
    },
    {
     "name": "stderr",
     "output_type": "stream",
     "text": [
      "Epoch 10/50 [Train]: 100%|██████████| 86/86 [00:26<00:00,  3.23it/s]\n",
      "Epoch 10/50 [Val]: 100%|██████████| 11/11 [00:06<00:00,  1.63it/s]\n"
     ]
    },
    {
     "name": "stdout",
     "output_type": "stream",
     "text": [
      "Epoch 10/50: Train Loss=1.9440, Train Acc=0.4136, Val Loss=1.9635, Val Acc=0.4751, LR=0.001000\n"
     ]
    },
    {
     "name": "stderr",
     "output_type": "stream",
     "text": [
      "Epoch 11/50 [Train]: 100%|██████████| 86/86 [00:26<00:00,  3.21it/s]\n",
      "Epoch 11/50 [Val]: 100%|██████████| 11/11 [00:07<00:00,  1.47it/s]\n"
     ]
    },
    {
     "name": "stdout",
     "output_type": "stream",
     "text": [
      "Epoch 11/50: Train Loss=1.9404, Train Acc=0.4232, Val Loss=1.9267, Val Acc=0.4956, LR=0.001000\n",
      "✓ Best model saved in d:\\Uni\\Master\\1 Bimestre\\Foundations\\Assignments\\Weather-Clasification\\models\\best_model_MLPClassifier.pth (val_acc=0.4956)\n"
     ]
    },
    {
     "name": "stderr",
     "output_type": "stream",
     "text": [
      "Epoch 12/50 [Train]: 100%|██████████| 86/86 [00:24<00:00,  3.47it/s]\n",
      "Epoch 12/50 [Val]: 100%|██████████| 11/11 [00:07<00:00,  1.54it/s]\n"
     ]
    },
    {
     "name": "stdout",
     "output_type": "stream",
     "text": [
      "Epoch 12/50: Train Loss=1.9313, Train Acc=0.4207, Val Loss=1.9851, Val Acc=0.4311, LR=0.001000\n"
     ]
    },
    {
     "name": "stderr",
     "output_type": "stream",
     "text": [
      "Epoch 13/50 [Train]: 100%|██████████| 86/86 [00:24<00:00,  3.54it/s]\n",
      "Epoch 13/50 [Val]: 100%|██████████| 11/11 [00:07<00:00,  1.57it/s]\n"
     ]
    },
    {
     "name": "stdout",
     "output_type": "stream",
     "text": [
      "Epoch 13/50: Train Loss=1.9195, Train Acc=0.4336, Val Loss=1.9857, Val Acc=0.4604, LR=0.001000\n"
     ]
    },
    {
     "name": "stderr",
     "output_type": "stream",
     "text": [
      "Epoch 14/50 [Train]: 100%|██████████| 86/86 [00:24<00:00,  3.54it/s]\n",
      "Epoch 14/50 [Val]: 100%|██████████| 11/11 [00:07<00:00,  1.54it/s]\n"
     ]
    },
    {
     "name": "stdout",
     "output_type": "stream",
     "text": [
      "Epoch 14/50: Train Loss=1.9366, Train Acc=0.4256, Val Loss=1.9628, Val Acc=0.4516, LR=0.001000\n"
     ]
    },
    {
     "name": "stderr",
     "output_type": "stream",
     "text": [
      "Epoch 15/50 [Train]: 100%|██████████| 86/86 [00:26<00:00,  3.22it/s]\n",
      "Epoch 15/50 [Val]: 100%|██████████| 11/11 [00:06<00:00,  1.66it/s]\n"
     ]
    },
    {
     "name": "stdout",
     "output_type": "stream",
     "text": [
      "Epoch 15/50: Train Loss=1.9094, Train Acc=0.4292, Val Loss=1.9125, Val Acc=0.4956, LR=0.001000\n"
     ]
    },
    {
     "name": "stderr",
     "output_type": "stream",
     "text": [
      "Epoch 16/50 [Train]: 100%|██████████| 86/86 [00:23<00:00,  3.65it/s]\n",
      "Epoch 16/50 [Val]: 100%|██████████| 11/11 [00:06<00:00,  1.66it/s]\n"
     ]
    },
    {
     "name": "stdout",
     "output_type": "stream",
     "text": [
      "Epoch 16/50: Train Loss=1.8934, Train Acc=0.4438, Val Loss=1.9290, Val Acc=0.4971, LR=0.001000\n",
      "✓ Best model saved in d:\\Uni\\Master\\1 Bimestre\\Foundations\\Assignments\\Weather-Clasification\\models\\best_model_MLPClassifier.pth (val_acc=0.4971)\n"
     ]
    },
    {
     "name": "stderr",
     "output_type": "stream",
     "text": [
      "Epoch 17/50 [Train]: 100%|██████████| 86/86 [00:23<00:00,  3.61it/s]\n",
      "Epoch 17/50 [Val]: 100%|██████████| 11/11 [00:06<00:00,  1.67it/s]\n"
     ]
    },
    {
     "name": "stdout",
     "output_type": "stream",
     "text": [
      "Epoch 17/50: Train Loss=1.8943, Train Acc=0.4354, Val Loss=1.9134, Val Acc=0.4501, LR=0.001000\n"
     ]
    },
    {
     "name": "stderr",
     "output_type": "stream",
     "text": [
      "Epoch 18/50 [Train]: 100%|██████████| 86/86 [00:23<00:00,  3.65it/s]\n",
      "Epoch 18/50 [Val]: 100%|██████████| 11/11 [00:06<00:00,  1.68it/s]\n"
     ]
    },
    {
     "name": "stdout",
     "output_type": "stream",
     "text": [
      "Epoch 18/50: Train Loss=1.9041, Train Acc=0.4460, Val Loss=1.9440, Val Acc=0.4956, LR=0.001000\n"
     ]
    },
    {
     "name": "stderr",
     "output_type": "stream",
     "text": [
      "Epoch 19/50 [Train]: 100%|██████████| 86/86 [00:23<00:00,  3.69it/s]\n",
      "Epoch 19/50 [Val]: 100%|██████████| 11/11 [00:06<00:00,  1.66it/s]\n"
     ]
    },
    {
     "name": "stdout",
     "output_type": "stream",
     "text": [
      "Epoch 19/50: Train Loss=1.8871, Train Acc=0.4484, Val Loss=1.9564, Val Acc=0.4692, LR=0.001000\n"
     ]
    },
    {
     "name": "stderr",
     "output_type": "stream",
     "text": [
      "Epoch 20/50 [Train]: 100%|██████████| 86/86 [00:23<00:00,  3.62it/s]\n",
      "Epoch 20/50 [Val]: 100%|██████████| 11/11 [00:07<00:00,  1.56it/s]\n"
     ]
    },
    {
     "name": "stdout",
     "output_type": "stream",
     "text": [
      "Epoch 20/50: Train Loss=1.8777, Train Acc=0.4557, Val Loss=1.9142, Val Acc=0.5029, LR=0.001000\n",
      "✓ Best model saved in d:\\Uni\\Master\\1 Bimestre\\Foundations\\Assignments\\Weather-Clasification\\models\\best_model_MLPClassifier.pth (val_acc=0.5029)\n"
     ]
    },
    {
     "name": "stderr",
     "output_type": "stream",
     "text": [
      "Epoch 21/50 [Train]: 100%|██████████| 86/86 [00:25<00:00,  3.41it/s]\n",
      "Epoch 21/50 [Val]: 100%|██████████| 11/11 [00:06<00:00,  1.59it/s]\n"
     ]
    },
    {
     "name": "stdout",
     "output_type": "stream",
     "text": [
      "Epoch 21/50: Train Loss=1.8732, Train Acc=0.4613, Val Loss=1.8684, Val Acc=0.5088, LR=0.001000\n",
      "✓ Best model saved in d:\\Uni\\Master\\1 Bimestre\\Foundations\\Assignments\\Weather-Clasification\\models\\best_model_MLPClassifier.pth (val_acc=0.5088)\n"
     ]
    },
    {
     "name": "stderr",
     "output_type": "stream",
     "text": [
      "Epoch 22/50 [Train]: 100%|██████████| 86/86 [00:24<00:00,  3.51it/s]\n",
      "Epoch 22/50 [Val]: 100%|██████████| 11/11 [00:06<00:00,  1.62it/s]\n"
     ]
    },
    {
     "name": "stdout",
     "output_type": "stream",
     "text": [
      "Epoch 22/50: Train Loss=1.8779, Train Acc=0.4464, Val Loss=1.9268, Val Acc=0.4531, LR=0.001000\n"
     ]
    },
    {
     "name": "stderr",
     "output_type": "stream",
     "text": [
      "Epoch 23/50 [Train]: 100%|██████████| 86/86 [00:23<00:00,  3.62it/s]\n",
      "Epoch 23/50 [Val]: 100%|██████████| 11/11 [00:06<00:00,  1.63it/s]\n"
     ]
    },
    {
     "name": "stdout",
     "output_type": "stream",
     "text": [
      "Epoch 23/50: Train Loss=1.8799, Train Acc=0.4464, Val Loss=1.9441, Val Acc=0.4501, LR=0.001000\n"
     ]
    },
    {
     "name": "stderr",
     "output_type": "stream",
     "text": [
      "Epoch 24/50 [Train]: 100%|██████████| 86/86 [00:24<00:00,  3.45it/s]\n",
      "Epoch 24/50 [Val]: 100%|██████████| 11/11 [00:07<00:00,  1.48it/s]\n"
     ]
    },
    {
     "name": "stdout",
     "output_type": "stream",
     "text": [
      "Epoch 24/50: Train Loss=1.8760, Train Acc=0.4354, Val Loss=1.9276, Val Acc=0.4604, LR=0.001000\n"
     ]
    },
    {
     "name": "stderr",
     "output_type": "stream",
     "text": [
      "Epoch 25/50 [Train]: 100%|██████████| 86/86 [00:25<00:00,  3.44it/s]\n",
      "Epoch 25/50 [Val]: 100%|██████████| 11/11 [00:07<00:00,  1.53it/s]\n"
     ]
    },
    {
     "name": "stdout",
     "output_type": "stream",
     "text": [
      "Epoch 25/50: Train Loss=1.8597, Train Acc=0.4579, Val Loss=1.9601, Val Acc=0.4296, LR=0.001000\n"
     ]
    },
    {
     "name": "stderr",
     "output_type": "stream",
     "text": [
      "Epoch 26/50 [Train]: 100%|██████████| 86/86 [00:26<00:00,  3.24it/s]\n",
      "Epoch 26/50 [Val]: 100%|██████████| 11/11 [00:07<00:00,  1.38it/s]\n"
     ]
    },
    {
     "name": "stdout",
     "output_type": "stream",
     "text": [
      "Epoch 26/50: Train Loss=1.8721, Train Acc=0.4613, Val Loss=1.8815, Val Acc=0.4883, LR=0.001000\n"
     ]
    },
    {
     "name": "stderr",
     "output_type": "stream",
     "text": [
      "Epoch 27/50 [Train]: 100%|██████████| 86/86 [00:24<00:00,  3.48it/s]\n",
      "Epoch 27/50 [Val]: 100%|██████████| 11/11 [00:07<00:00,  1.49it/s]\n"
     ]
    },
    {
     "name": "stdout",
     "output_type": "stream",
     "text": [
      "Epoch 27/50: Train Loss=1.8530, Train Acc=0.4542, Val Loss=1.9090, Val Acc=0.4839, LR=0.001000\n"
     ]
    },
    {
     "name": "stderr",
     "output_type": "stream",
     "text": [
      "Epoch 28/50 [Train]: 100%|██████████| 86/86 [00:25<00:00,  3.35it/s]\n",
      "Epoch 28/50 [Val]: 100%|██████████| 11/11 [00:07<00:00,  1.55it/s]\n"
     ]
    },
    {
     "name": "stdout",
     "output_type": "stream",
     "text": [
      "Epoch 28/50: Train Loss=1.8179, Train Acc=0.4885, Val Loss=1.8623, Val Acc=0.5044, LR=0.000500\n"
     ]
    },
    {
     "name": "stderr",
     "output_type": "stream",
     "text": [
      "Epoch 29/50 [Train]: 100%|██████████| 86/86 [00:25<00:00,  3.34it/s]\n",
      "Epoch 29/50 [Val]: 100%|██████████| 11/11 [00:07<00:00,  1.56it/s]\n"
     ]
    },
    {
     "name": "stdout",
     "output_type": "stream",
     "text": [
      "Epoch 29/50: Train Loss=1.7928, Train Acc=0.4923, Val Loss=1.8559, Val Acc=0.4956, LR=0.000500\n"
     ]
    },
    {
     "name": "stderr",
     "output_type": "stream",
     "text": [
      "Epoch 30/50 [Train]: 100%|██████████| 86/86 [00:24<00:00,  3.51it/s]\n",
      "Epoch 30/50 [Val]: 100%|██████████| 11/11 [00:06<00:00,  1.58it/s]\n"
     ]
    },
    {
     "name": "stdout",
     "output_type": "stream",
     "text": [
      "Epoch 30/50: Train Loss=1.7933, Train Acc=0.4965, Val Loss=1.8655, Val Acc=0.5044, LR=0.000500\n"
     ]
    },
    {
     "name": "stderr",
     "output_type": "stream",
     "text": [
      "Epoch 31/50 [Train]: 100%|██████████| 86/86 [00:25<00:00,  3.43it/s]\n",
      "Epoch 31/50 [Val]: 100%|██████████| 11/11 [00:07<00:00,  1.48it/s]\n"
     ]
    },
    {
     "name": "stdout",
     "output_type": "stream",
     "text": [
      "Epoch 31/50: Train Loss=1.7800, Train Acc=0.4936, Val Loss=1.8513, Val Acc=0.5015, LR=0.000500\n"
     ]
    },
    {
     "name": "stderr",
     "output_type": "stream",
     "text": [
      "Epoch 32/50 [Train]: 100%|██████████| 86/86 [00:26<00:00,  3.27it/s]\n",
      "Epoch 32/50 [Val]: 100%|██████████| 11/11 [00:07<00:00,  1.49it/s]\n"
     ]
    },
    {
     "name": "stdout",
     "output_type": "stream",
     "text": [
      "Epoch 32/50: Train Loss=1.7784, Train Acc=0.5015, Val Loss=1.8650, Val Acc=0.4985, LR=0.000500\n"
     ]
    },
    {
     "name": "stderr",
     "output_type": "stream",
     "text": [
      "Epoch 33/50 [Train]: 100%|██████████| 86/86 [00:25<00:00,  3.40it/s]\n",
      "Epoch 33/50 [Val]: 100%|██████████| 11/11 [00:07<00:00,  1.42it/s]\n"
     ]
    },
    {
     "name": "stdout",
     "output_type": "stream",
     "text": [
      "Epoch 33/50: Train Loss=1.7726, Train Acc=0.5053, Val Loss=1.8609, Val Acc=0.5117, LR=0.000500\n",
      "✓ Best model saved in d:\\Uni\\Master\\1 Bimestre\\Foundations\\Assignments\\Weather-Clasification\\models\\best_model_MLPClassifier.pth (val_acc=0.5117)\n"
     ]
    },
    {
     "name": "stderr",
     "output_type": "stream",
     "text": [
      "Epoch 34/50 [Train]: 100%|██████████| 86/86 [00:25<00:00,  3.36it/s]\n",
      "Epoch 34/50 [Val]: 100%|██████████| 11/11 [00:07<00:00,  1.40it/s]\n"
     ]
    },
    {
     "name": "stdout",
     "output_type": "stream",
     "text": [
      "Epoch 34/50: Train Loss=1.7578, Train Acc=0.5073, Val Loss=1.8539, Val Acc=0.5103, LR=0.000500\n"
     ]
    },
    {
     "name": "stderr",
     "output_type": "stream",
     "text": [
      "Epoch 35/50 [Train]: 100%|██████████| 86/86 [00:25<00:00,  3.40it/s]\n",
      "Epoch 35/50 [Val]: 100%|██████████| 11/11 [00:07<00:00,  1.49it/s]\n"
     ]
    },
    {
     "name": "stdout",
     "output_type": "stream",
     "text": [
      "Epoch 35/50: Train Loss=1.7619, Train Acc=0.5106, Val Loss=1.8435, Val Acc=0.5293, LR=0.000500\n",
      "✓ Best model saved in d:\\Uni\\Master\\1 Bimestre\\Foundations\\Assignments\\Weather-Clasification\\models\\best_model_MLPClassifier.pth (val_acc=0.5293)\n"
     ]
    },
    {
     "name": "stderr",
     "output_type": "stream",
     "text": [
      "Epoch 36/50 [Train]: 100%|██████████| 86/86 [00:26<00:00,  3.21it/s]\n",
      "Epoch 36/50 [Val]: 100%|██████████| 11/11 [00:07<00:00,  1.44it/s]\n"
     ]
    },
    {
     "name": "stdout",
     "output_type": "stream",
     "text": [
      "Epoch 36/50: Train Loss=1.7559, Train Acc=0.5155, Val Loss=1.8517, Val Acc=0.5249, LR=0.000500\n"
     ]
    },
    {
     "name": "stderr",
     "output_type": "stream",
     "text": [
      "Epoch 37/50 [Train]: 100%|██████████| 86/86 [00:24<00:00,  3.46it/s]\n",
      "Epoch 37/50 [Val]: 100%|██████████| 11/11 [00:06<00:00,  1.58it/s]\n"
     ]
    },
    {
     "name": "stdout",
     "output_type": "stream",
     "text": [
      "Epoch 37/50: Train Loss=1.7638, Train Acc=0.5015, Val Loss=1.8814, Val Acc=0.4868, LR=0.000500\n"
     ]
    },
    {
     "name": "stderr",
     "output_type": "stream",
     "text": [
      "Epoch 38/50 [Train]: 100%|██████████| 86/86 [00:24<00:00,  3.47it/s]\n",
      "Epoch 38/50 [Val]: 100%|██████████| 11/11 [00:07<00:00,  1.56it/s]\n"
     ]
    },
    {
     "name": "stdout",
     "output_type": "stream",
     "text": [
      "Epoch 38/50: Train Loss=1.7560, Train Acc=0.5095, Val Loss=1.8085, Val Acc=0.5279, LR=0.000500\n"
     ]
    },
    {
     "name": "stderr",
     "output_type": "stream",
     "text": [
      "Epoch 39/50 [Train]: 100%|██████████| 86/86 [00:26<00:00,  3.22it/s]\n",
      "Epoch 39/50 [Val]: 100%|██████████| 11/11 [00:07<00:00,  1.42it/s]\n"
     ]
    },
    {
     "name": "stdout",
     "output_type": "stream",
     "text": [
      "Epoch 39/50: Train Loss=1.7545, Train Acc=0.5195, Val Loss=1.8520, Val Acc=0.5337, LR=0.000500\n",
      "✓ Best model saved in d:\\Uni\\Master\\1 Bimestre\\Foundations\\Assignments\\Weather-Clasification\\models\\best_model_MLPClassifier.pth (val_acc=0.5337)\n"
     ]
    },
    {
     "name": "stderr",
     "output_type": "stream",
     "text": [
      "Epoch 40/50 [Train]: 100%|██████████| 86/86 [00:25<00:00,  3.38it/s]\n",
      "Epoch 40/50 [Val]: 100%|██████████| 11/11 [00:06<00:00,  1.58it/s]\n"
     ]
    },
    {
     "name": "stdout",
     "output_type": "stream",
     "text": [
      "Epoch 40/50: Train Loss=1.7576, Train Acc=0.5069, Val Loss=1.8366, Val Acc=0.5396, LR=0.000500\n",
      "✓ Best model saved in d:\\Uni\\Master\\1 Bimestre\\Foundations\\Assignments\\Weather-Clasification\\models\\best_model_MLPClassifier.pth (val_acc=0.5396)\n"
     ]
    },
    {
     "name": "stderr",
     "output_type": "stream",
     "text": [
      "Epoch 41/50 [Train]: 100%|██████████| 86/86 [00:24<00:00,  3.49it/s]\n",
      "Epoch 41/50 [Val]: 100%|██████████| 11/11 [00:07<00:00,  1.48it/s]\n"
     ]
    },
    {
     "name": "stdout",
     "output_type": "stream",
     "text": [
      "Epoch 41/50: Train Loss=1.7286, Train Acc=0.5201, Val Loss=1.8498, Val Acc=0.5293, LR=0.000500\n"
     ]
    },
    {
     "name": "stderr",
     "output_type": "stream",
     "text": [
      "Epoch 42/50 [Train]: 100%|██████████| 86/86 [00:24<00:00,  3.46it/s]\n",
      "Epoch 42/50 [Val]: 100%|██████████| 11/11 [00:07<00:00,  1.47it/s]\n"
     ]
    },
    {
     "name": "stdout",
     "output_type": "stream",
     "text": [
      "Epoch 42/50: Train Loss=1.7264, Train Acc=0.5239, Val Loss=1.8402, Val Acc=0.5132, LR=0.000500\n"
     ]
    },
    {
     "name": "stderr",
     "output_type": "stream",
     "text": [
      "Epoch 43/50 [Train]: 100%|██████████| 86/86 [00:25<00:00,  3.35it/s]\n",
      "Epoch 43/50 [Val]: 100%|██████████| 11/11 [00:07<00:00,  1.47it/s]\n"
     ]
    },
    {
     "name": "stdout",
     "output_type": "stream",
     "text": [
      "Epoch 43/50: Train Loss=1.7372, Train Acc=0.5184, Val Loss=1.8185, Val Acc=0.5176, LR=0.000500\n"
     ]
    },
    {
     "name": "stderr",
     "output_type": "stream",
     "text": [
      "Epoch 44/50 [Train]: 100%|██████████| 86/86 [00:25<00:00,  3.35it/s]\n",
      "Epoch 44/50 [Val]: 100%|██████████| 11/11 [00:08<00:00,  1.36it/s]\n"
     ]
    },
    {
     "name": "stdout",
     "output_type": "stream",
     "text": [
      "Epoch 44/50: Train Loss=1.7352, Train Acc=0.5146, Val Loss=1.8174, Val Acc=0.5323, LR=0.000500\n"
     ]
    },
    {
     "name": "stderr",
     "output_type": "stream",
     "text": [
      "Epoch 45/50 [Train]: 100%|██████████| 86/86 [00:31<00:00,  2.73it/s]\n",
      "Epoch 45/50 [Val]: 100%|██████████| 11/11 [00:09<00:00,  1.14it/s]\n"
     ]
    },
    {
     "name": "stdout",
     "output_type": "stream",
     "text": [
      "Epoch 45/50: Train Loss=1.7091, Train Acc=0.5312, Val Loss=1.7903, Val Acc=0.5352, LR=0.000250\n"
     ]
    },
    {
     "name": "stderr",
     "output_type": "stream",
     "text": [
      "Epoch 46/50 [Train]: 100%|██████████| 86/86 [00:24<00:00,  3.54it/s]\n",
      "Epoch 46/50 [Val]: 100%|██████████| 11/11 [00:10<00:00,  1.03it/s]\n"
     ]
    },
    {
     "name": "stdout",
     "output_type": "stream",
     "text": [
      "Epoch 46/50: Train Loss=1.7061, Train Acc=0.5286, Val Loss=1.8090, Val Acc=0.5264, LR=0.000250\n"
     ]
    },
    {
     "name": "stderr",
     "output_type": "stream",
     "text": [
      "Epoch 47/50 [Train]: 100%|██████████| 86/86 [00:26<00:00,  3.24it/s]\n",
      "Epoch 47/50 [Val]: 100%|██████████| 11/11 [00:08<00:00,  1.24it/s]\n"
     ]
    },
    {
     "name": "stdout",
     "output_type": "stream",
     "text": [
      "Epoch 47/50: Train Loss=1.6923, Train Acc=0.5392, Val Loss=1.8071, Val Acc=0.5323, LR=0.000250\n"
     ]
    },
    {
     "name": "stderr",
     "output_type": "stream",
     "text": [
      "Epoch 48/50 [Train]: 100%|██████████| 86/86 [00:30<00:00,  2.84it/s]\n",
      "Epoch 48/50 [Val]: 100%|██████████| 11/11 [00:06<00:00,  1.58it/s]\n"
     ]
    },
    {
     "name": "stdout",
     "output_type": "stream",
     "text": [
      "Epoch 48/50: Train Loss=1.6832, Train Acc=0.5436, Val Loss=1.8162, Val Acc=0.5411, LR=0.000250\n",
      "✓ Best model saved in d:\\Uni\\Master\\1 Bimestre\\Foundations\\Assignments\\Weather-Clasification\\models\\best_model_MLPClassifier.pth (val_acc=0.5411)\n"
     ]
    },
    {
     "name": "stderr",
     "output_type": "stream",
     "text": [
      "Epoch 49/50 [Train]: 100%|██████████| 86/86 [00:24<00:00,  3.45it/s]\n",
      "Epoch 49/50 [Val]: 100%|██████████| 11/11 [00:07<00:00,  1.52it/s]\n"
     ]
    },
    {
     "name": "stdout",
     "output_type": "stream",
     "text": [
      "Epoch 49/50: Train Loss=1.6705, Train Acc=0.5491, Val Loss=1.8214, Val Acc=0.5220, LR=0.000250\n"
     ]
    },
    {
     "name": "stderr",
     "output_type": "stream",
     "text": [
      "Epoch 50/50 [Train]: 100%|██████████| 86/86 [00:24<00:00,  3.49it/s]\n",
      "Epoch 50/50 [Val]: 100%|██████████| 11/11 [00:07<00:00,  1.46it/s]"
     ]
    },
    {
     "name": "stdout",
     "output_type": "stream",
     "text": [
      "Epoch 50/50: Train Loss=1.6784, Train Acc=0.5408, Val Loss=1.8071, Val Acc=0.5381, LR=0.000250\n",
      "\n",
      "Training complete!\n",
      "Best val_acc: 0.5411\n",
      "Best val_loss: 1.8162\n",
      "Metrics saved in d:\\Uni\\Master\\1 Bimestre\\Foundations\\Assignments\\Weather-Clasification\\reports\\metrics\\metrics_MLPClassifier.pkl\n",
      "Model saved in d:\\Uni\\Master\\1 Bimestre\\Foundations\\Assignments\\Weather-Clasification\\models\\best_model_MLPClassifier.pth\n"
     ]
    },
    {
     "name": "stderr",
     "output_type": "stream",
     "text": [
      "\n"
     ]
    }
   ],
   "source": [
    "input_dim = 64*64*3  # matches the Resize transform\n",
    "model = train_model_improved(MLPClassifier, \n",
    "                    train_dir=\"../../data/train\", \n",
    "                    val_dir=\"../../data/val\", \n",
    "                    input_dim=input_dim,\n",
    "                    num_classes=11,\n",
    "                    batch_size=64,\n",
    "                    epochs=50,\n",
    "                    lr=1e-3,\n",
    "                    device=\"cuda\" if torch.cuda.is_available() else \"cpu\")\n"
   ]
  },
  {
   "cell_type": "code",
   "execution_count": 6,
   "id": "0fc75620",
   "metadata": {},
   "outputs": [
    {
     "name": "stdout",
     "output_type": "stream",
     "text": [
      "Class counts: Counter({8: 928, 1: 680, 0: 558, 9: 553, 3: 511, 10: 496, 4: 472, 6: 420, 2: 380, 5: 301, 7: 185})\n",
      "Class weights: {0: '9.828', 1: '8.065', 2: '14.432', 3: '10.732', 4: '11.619', 5: '18.219', 6: '13.057', 7: '29.643', 8: '5.909', 9: '9.917', 10: '11.056'}\n",
      "\n",
      "Model: LeNetModern\n",
      "Total parameters: 475,947\n",
      "Trainable parameters: 475,947\n",
      "\n"
     ]
    },
    {
     "name": "stderr",
     "output_type": "stream",
     "text": [
      "Epoch 1/50 [Train]: 100%|██████████| 86/86 [00:30<00:00,  2.83it/s]\n",
      "Epoch 1/50 [Val]: 100%|██████████| 11/11 [00:08<00:00,  1.25it/s]\n"
     ]
    },
    {
     "name": "stdout",
     "output_type": "stream",
     "text": [
      "Epoch 1/50: Train Loss=2.1069, Train Acc=0.3056, Val Loss=1.7925, Val Acc=0.5191, LR=0.001000\n",
      "✓ Best model saved in d:\\Uni\\Master\\1 Bimestre\\Foundations\\Assignments\\Weather-Clasification\\models\\best_model_LeNetModern.pth (val_acc=0.5191)\n"
     ]
    },
    {
     "name": "stderr",
     "output_type": "stream",
     "text": [
      "Epoch 2/50 [Train]: 100%|██████████| 86/86 [00:31<00:00,  2.72it/s]\n",
      "Epoch 2/50 [Val]: 100%|██████████| 11/11 [00:08<00:00,  1.32it/s]\n"
     ]
    },
    {
     "name": "stdout",
     "output_type": "stream",
     "text": [
      "Epoch 2/50: Train Loss=1.7622, Train Acc=0.4796, Val Loss=1.5926, Val Acc=0.5718, LR=0.001000\n",
      "✓ Best model saved in d:\\Uni\\Master\\1 Bimestre\\Foundations\\Assignments\\Weather-Clasification\\models\\best_model_LeNetModern.pth (val_acc=0.5718)\n"
     ]
    },
    {
     "name": "stderr",
     "output_type": "stream",
     "text": [
      "Epoch 3/50 [Train]: 100%|██████████| 86/86 [00:29<00:00,  2.96it/s]\n",
      "Epoch 3/50 [Val]: 100%|██████████| 11/11 [00:08<00:00,  1.32it/s]\n"
     ]
    },
    {
     "name": "stdout",
     "output_type": "stream",
     "text": [
      "Epoch 3/50: Train Loss=1.6286, Train Acc=0.5509, Val Loss=1.5347, Val Acc=0.6070, LR=0.001000\n",
      "✓ Best model saved in d:\\Uni\\Master\\1 Bimestre\\Foundations\\Assignments\\Weather-Clasification\\models\\best_model_LeNetModern.pth (val_acc=0.6070)\n"
     ]
    },
    {
     "name": "stderr",
     "output_type": "stream",
     "text": [
      "Epoch 4/50 [Train]: 100%|██████████| 86/86 [00:28<00:00,  3.00it/s]\n",
      "Epoch 4/50 [Val]: 100%|██████████| 11/11 [00:08<00:00,  1.23it/s]\n"
     ]
    },
    {
     "name": "stdout",
     "output_type": "stream",
     "text": [
      "Epoch 4/50: Train Loss=1.5808, Train Acc=0.5762, Val Loss=1.4599, Val Acc=0.6422, LR=0.001000\n",
      "✓ Best model saved in d:\\Uni\\Master\\1 Bimestre\\Foundations\\Assignments\\Weather-Clasification\\models\\best_model_LeNetModern.pth (val_acc=0.6422)\n"
     ]
    },
    {
     "name": "stderr",
     "output_type": "stream",
     "text": [
      "Epoch 5/50 [Train]: 100%|██████████| 86/86 [00:28<00:00,  2.98it/s]\n",
      "Epoch 5/50 [Val]: 100%|██████████| 11/11 [00:08<00:00,  1.30it/s]\n"
     ]
    },
    {
     "name": "stdout",
     "output_type": "stream",
     "text": [
      "Epoch 5/50: Train Loss=1.5072, Train Acc=0.6194, Val Loss=1.4285, Val Acc=0.6510, LR=0.001000\n",
      "✓ Best model saved in d:\\Uni\\Master\\1 Bimestre\\Foundations\\Assignments\\Weather-Clasification\\models\\best_model_LeNetModern.pth (val_acc=0.6510)\n"
     ]
    },
    {
     "name": "stderr",
     "output_type": "stream",
     "text": [
      "Epoch 6/50 [Train]: 100%|██████████| 86/86 [00:28<00:00,  2.97it/s]\n",
      "Epoch 6/50 [Val]: 100%|██████████| 11/11 [00:08<00:00,  1.30it/s]\n"
     ]
    },
    {
     "name": "stdout",
     "output_type": "stream",
     "text": [
      "Epoch 6/50: Train Loss=1.4689, Train Acc=0.6284, Val Loss=1.4138, Val Acc=0.6628, LR=0.001000\n",
      "✓ Best model saved in d:\\Uni\\Master\\1 Bimestre\\Foundations\\Assignments\\Weather-Clasification\\models\\best_model_LeNetModern.pth (val_acc=0.6628)\n"
     ]
    },
    {
     "name": "stderr",
     "output_type": "stream",
     "text": [
      "Epoch 7/50 [Train]: 100%|██████████| 86/86 [00:28<00:00,  3.02it/s]\n",
      "Epoch 7/50 [Val]: 100%|██████████| 11/11 [00:08<00:00,  1.30it/s]\n"
     ]
    },
    {
     "name": "stdout",
     "output_type": "stream",
     "text": [
      "Epoch 7/50: Train Loss=1.4281, Train Acc=0.6481, Val Loss=1.3840, Val Acc=0.6569, LR=0.001000\n"
     ]
    },
    {
     "name": "stderr",
     "output_type": "stream",
     "text": [
      "Epoch 8/50 [Train]: 100%|██████████| 86/86 [00:29<00:00,  2.88it/s]\n",
      "Epoch 8/50 [Val]: 100%|██████████| 11/11 [00:08<00:00,  1.30it/s]\n"
     ]
    },
    {
     "name": "stdout",
     "output_type": "stream",
     "text": [
      "Epoch 8/50: Train Loss=1.4130, Train Acc=0.6546, Val Loss=1.3945, Val Acc=0.6848, LR=0.001000\n",
      "✓ Best model saved in d:\\Uni\\Master\\1 Bimestre\\Foundations\\Assignments\\Weather-Clasification\\models\\best_model_LeNetModern.pth (val_acc=0.6848)\n"
     ]
    },
    {
     "name": "stderr",
     "output_type": "stream",
     "text": [
      "Epoch 9/50 [Train]: 100%|██████████| 86/86 [00:28<00:00,  3.04it/s]\n",
      "Epoch 9/50 [Val]: 100%|██████████| 11/11 [00:08<00:00,  1.23it/s]\n"
     ]
    },
    {
     "name": "stdout",
     "output_type": "stream",
     "text": [
      "Epoch 9/50: Train Loss=1.3864, Train Acc=0.6661, Val Loss=1.3847, Val Acc=0.6716, LR=0.001000\n"
     ]
    },
    {
     "name": "stderr",
     "output_type": "stream",
     "text": [
      "Epoch 10/50 [Train]: 100%|██████████| 86/86 [00:29<00:00,  2.91it/s]\n",
      "Epoch 10/50 [Val]: 100%|██████████| 11/11 [00:09<00:00,  1.21it/s]\n"
     ]
    },
    {
     "name": "stdout",
     "output_type": "stream",
     "text": [
      "Epoch 10/50: Train Loss=1.3518, Train Acc=0.6789, Val Loss=1.3292, Val Acc=0.7023, LR=0.001000\n",
      "✓ Best model saved in d:\\Uni\\Master\\1 Bimestre\\Foundations\\Assignments\\Weather-Clasification\\models\\best_model_LeNetModern.pth (val_acc=0.7023)\n"
     ]
    },
    {
     "name": "stderr",
     "output_type": "stream",
     "text": [
      "Epoch 11/50 [Train]: 100%|██████████| 86/86 [00:29<00:00,  2.88it/s]\n",
      "Epoch 11/50 [Val]: 100%|██████████| 11/11 [00:09<00:00,  1.22it/s]\n"
     ]
    },
    {
     "name": "stdout",
     "output_type": "stream",
     "text": [
      "Epoch 11/50: Train Loss=1.3426, Train Acc=0.6845, Val Loss=1.3190, Val Acc=0.6994, LR=0.001000\n"
     ]
    },
    {
     "name": "stderr",
     "output_type": "stream",
     "text": [
      "Epoch 12/50 [Train]: 100%|██████████| 86/86 [00:28<00:00,  3.05it/s]\n",
      "Epoch 12/50 [Val]: 100%|██████████| 11/11 [00:08<00:00,  1.31it/s]\n"
     ]
    },
    {
     "name": "stdout",
     "output_type": "stream",
     "text": [
      "Epoch 12/50: Train Loss=1.3195, Train Acc=0.6931, Val Loss=1.3173, Val Acc=0.7053, LR=0.001000\n",
      "✓ Best model saved in d:\\Uni\\Master\\1 Bimestre\\Foundations\\Assignments\\Weather-Clasification\\models\\best_model_LeNetModern.pth (val_acc=0.7053)\n"
     ]
    },
    {
     "name": "stderr",
     "output_type": "stream",
     "text": [
      "Epoch 13/50 [Train]: 100%|██████████| 86/86 [00:29<00:00,  2.93it/s]\n",
      "Epoch 13/50 [Val]: 100%|██████████| 11/11 [00:08<00:00,  1.26it/s]\n"
     ]
    },
    {
     "name": "stdout",
     "output_type": "stream",
     "text": [
      "Epoch 13/50: Train Loss=1.2959, Train Acc=0.7051, Val Loss=1.3082, Val Acc=0.7141, LR=0.001000\n",
      "✓ Best model saved in d:\\Uni\\Master\\1 Bimestre\\Foundations\\Assignments\\Weather-Clasification\\models\\best_model_LeNetModern.pth (val_acc=0.7141)\n"
     ]
    },
    {
     "name": "stderr",
     "output_type": "stream",
     "text": [
      "Epoch 14/50 [Train]: 100%|██████████| 86/86 [00:28<00:00,  3.00it/s]\n",
      "Epoch 14/50 [Val]: 100%|██████████| 11/11 [00:08<00:00,  1.31it/s]\n"
     ]
    },
    {
     "name": "stdout",
     "output_type": "stream",
     "text": [
      "Epoch 14/50: Train Loss=1.2789, Train Acc=0.7150, Val Loss=1.2708, Val Acc=0.7097, LR=0.001000\n"
     ]
    },
    {
     "name": "stderr",
     "output_type": "stream",
     "text": [
      "Epoch 15/50 [Train]: 100%|██████████| 86/86 [00:28<00:00,  3.03it/s]\n",
      "Epoch 15/50 [Val]: 100%|██████████| 11/11 [00:08<00:00,  1.32it/s]\n"
     ]
    },
    {
     "name": "stdout",
     "output_type": "stream",
     "text": [
      "Epoch 15/50: Train Loss=1.2531, Train Acc=0.7230, Val Loss=1.3222, Val Acc=0.7082, LR=0.001000\n"
     ]
    },
    {
     "name": "stderr",
     "output_type": "stream",
     "text": [
      "Epoch 16/50 [Train]: 100%|██████████| 86/86 [00:28<00:00,  3.01it/s]\n",
      "Epoch 16/50 [Val]: 100%|██████████| 11/11 [00:08<00:00,  1.30it/s]\n"
     ]
    },
    {
     "name": "stdout",
     "output_type": "stream",
     "text": [
      "Epoch 16/50: Train Loss=1.2425, Train Acc=0.7299, Val Loss=1.2876, Val Acc=0.7214, LR=0.001000\n",
      "✓ Best model saved in d:\\Uni\\Master\\1 Bimestre\\Foundations\\Assignments\\Weather-Clasification\\models\\best_model_LeNetModern.pth (val_acc=0.7214)\n"
     ]
    },
    {
     "name": "stderr",
     "output_type": "stream",
     "text": [
      "Epoch 17/50 [Train]: 100%|██████████| 86/86 [00:28<00:00,  3.05it/s]\n",
      "Epoch 17/50 [Val]: 100%|██████████| 11/11 [00:09<00:00,  1.21it/s]\n"
     ]
    },
    {
     "name": "stdout",
     "output_type": "stream",
     "text": [
      "Epoch 17/50: Train Loss=1.2319, Train Acc=0.7327, Val Loss=1.2878, Val Acc=0.7155, LR=0.001000\n"
     ]
    },
    {
     "name": "stderr",
     "output_type": "stream",
     "text": [
      "Epoch 18/50 [Train]: 100%|██████████| 86/86 [00:28<00:00,  3.03it/s]\n",
      "Epoch 18/50 [Val]: 100%|██████████| 11/11 [00:08<00:00,  1.33it/s]\n"
     ]
    },
    {
     "name": "stdout",
     "output_type": "stream",
     "text": [
      "Epoch 18/50: Train Loss=1.1998, Train Acc=0.7449, Val Loss=1.2424, Val Acc=0.7419, LR=0.001000\n",
      "✓ Best model saved in d:\\Uni\\Master\\1 Bimestre\\Foundations\\Assignments\\Weather-Clasification\\models\\best_model_LeNetModern.pth (val_acc=0.7419)\n"
     ]
    },
    {
     "name": "stderr",
     "output_type": "stream",
     "text": [
      "Epoch 19/50 [Train]: 100%|██████████| 86/86 [00:28<00:00,  2.99it/s]\n",
      "Epoch 19/50 [Val]: 100%|██████████| 11/11 [00:08<00:00,  1.28it/s]\n"
     ]
    },
    {
     "name": "stdout",
     "output_type": "stream",
     "text": [
      "Epoch 19/50: Train Loss=1.1870, Train Acc=0.7542, Val Loss=1.2631, Val Acc=0.7170, LR=0.001000\n"
     ]
    },
    {
     "name": "stderr",
     "output_type": "stream",
     "text": [
      "Epoch 20/50 [Train]: 100%|██████████| 86/86 [00:30<00:00,  2.83it/s]\n",
      "Epoch 20/50 [Val]: 100%|██████████| 11/11 [00:11<00:00,  1.09s/it]\n"
     ]
    },
    {
     "name": "stdout",
     "output_type": "stream",
     "text": [
      "Epoch 20/50: Train Loss=1.1760, Train Acc=0.7604, Val Loss=1.2702, Val Acc=0.7214, LR=0.001000\n"
     ]
    },
    {
     "name": "stderr",
     "output_type": "stream",
     "text": [
      "Epoch 21/50 [Train]: 100%|██████████| 86/86 [00:28<00:00,  3.04it/s]\n",
      "Epoch 21/50 [Val]: 100%|██████████| 11/11 [00:09<00:00,  1.18it/s]\n"
     ]
    },
    {
     "name": "stdout",
     "output_type": "stream",
     "text": [
      "Epoch 21/50: Train Loss=1.1536, Train Acc=0.7668, Val Loss=1.2797, Val Acc=0.7302, LR=0.001000\n"
     ]
    },
    {
     "name": "stderr",
     "output_type": "stream",
     "text": [
      "Epoch 22/50 [Train]: 100%|██████████| 86/86 [00:28<00:00,  2.97it/s]\n",
      "Epoch 22/50 [Val]: 100%|██████████| 11/11 [00:08<00:00,  1.24it/s]\n"
     ]
    },
    {
     "name": "stdout",
     "output_type": "stream",
     "text": [
      "Epoch 22/50: Train Loss=1.1407, Train Acc=0.7759, Val Loss=1.2898, Val Acc=0.7287, LR=0.001000\n"
     ]
    },
    {
     "name": "stderr",
     "output_type": "stream",
     "text": [
      "Epoch 23/50 [Train]: 100%|██████████| 86/86 [00:28<00:00,  3.01it/s]\n",
      "Epoch 23/50 [Val]: 100%|██████████| 11/11 [00:08<00:00,  1.32it/s]\n"
     ]
    },
    {
     "name": "stdout",
     "output_type": "stream",
     "text": [
      "Epoch 23/50: Train Loss=1.1279, Train Acc=0.7761, Val Loss=1.2379, Val Acc=0.7449, LR=0.001000\n",
      "✓ Best model saved in d:\\Uni\\Master\\1 Bimestre\\Foundations\\Assignments\\Weather-Clasification\\models\\best_model_LeNetModern.pth (val_acc=0.7449)\n"
     ]
    },
    {
     "name": "stderr",
     "output_type": "stream",
     "text": [
      "Epoch 24/50 [Train]: 100%|██████████| 86/86 [00:28<00:00,  2.98it/s]\n",
      "Epoch 24/50 [Val]: 100%|██████████| 11/11 [00:08<00:00,  1.30it/s]\n"
     ]
    },
    {
     "name": "stdout",
     "output_type": "stream",
     "text": [
      "Epoch 24/50: Train Loss=1.1049, Train Acc=0.7945, Val Loss=1.2339, Val Acc=0.7405, LR=0.001000\n"
     ]
    },
    {
     "name": "stderr",
     "output_type": "stream",
     "text": [
      "Epoch 25/50 [Train]: 100%|██████████| 86/86 [00:28<00:00,  3.01it/s]\n",
      "Epoch 25/50 [Val]: 100%|██████████| 11/11 [00:08<00:00,  1.24it/s]\n"
     ]
    },
    {
     "name": "stdout",
     "output_type": "stream",
     "text": [
      "Epoch 25/50: Train Loss=1.0984, Train Acc=0.7918, Val Loss=1.2332, Val Acc=0.7537, LR=0.001000\n",
      "✓ Best model saved in d:\\Uni\\Master\\1 Bimestre\\Foundations\\Assignments\\Weather-Clasification\\models\\best_model_LeNetModern.pth (val_acc=0.7537)\n"
     ]
    },
    {
     "name": "stderr",
     "output_type": "stream",
     "text": [
      "Epoch 26/50 [Train]: 100%|██████████| 86/86 [00:28<00:00,  3.02it/s]\n",
      "Epoch 26/50 [Val]: 100%|██████████| 11/11 [00:09<00:00,  1.22it/s]\n"
     ]
    },
    {
     "name": "stdout",
     "output_type": "stream",
     "text": [
      "Epoch 26/50: Train Loss=1.0720, Train Acc=0.8073, Val Loss=1.2628, Val Acc=0.7507, LR=0.001000\n"
     ]
    },
    {
     "name": "stderr",
     "output_type": "stream",
     "text": [
      "Epoch 27/50 [Train]: 100%|██████████| 86/86 [00:28<00:00,  3.01it/s]\n",
      "Epoch 27/50 [Val]: 100%|██████████| 11/11 [00:08<00:00,  1.28it/s]\n"
     ]
    },
    {
     "name": "stdout",
     "output_type": "stream",
     "text": [
      "Epoch 27/50: Train Loss=1.0657, Train Acc=0.8056, Val Loss=1.2478, Val Acc=0.7537, LR=0.001000\n"
     ]
    },
    {
     "name": "stderr",
     "output_type": "stream",
     "text": [
      "Epoch 28/50 [Train]: 100%|██████████| 86/86 [00:27<00:00,  3.07it/s]\n",
      "Epoch 28/50 [Val]: 100%|██████████| 11/11 [00:08<00:00,  1.33it/s]\n"
     ]
    },
    {
     "name": "stdout",
     "output_type": "stream",
     "text": [
      "Epoch 28/50: Train Loss=1.0494, Train Acc=0.8136, Val Loss=1.2576, Val Acc=0.7331, LR=0.001000\n"
     ]
    },
    {
     "name": "stderr",
     "output_type": "stream",
     "text": [
      "Epoch 29/50 [Train]: 100%|██████████| 86/86 [00:28<00:00,  2.99it/s]\n",
      "Epoch 29/50 [Val]: 100%|██████████| 11/11 [00:08<00:00,  1.25it/s]\n"
     ]
    },
    {
     "name": "stdout",
     "output_type": "stream",
     "text": [
      "Epoch 29/50: Train Loss=1.0373, Train Acc=0.8215, Val Loss=1.2757, Val Acc=0.7317, LR=0.001000\n"
     ]
    },
    {
     "name": "stderr",
     "output_type": "stream",
     "text": [
      "Epoch 30/50 [Train]: 100%|██████████| 86/86 [00:29<00:00,  2.95it/s]\n",
      "Epoch 30/50 [Val]: 100%|██████████| 11/11 [00:08<00:00,  1.24it/s]\n"
     ]
    },
    {
     "name": "stdout",
     "output_type": "stream",
     "text": [
      "Epoch 30/50: Train Loss=1.0272, Train Acc=0.8220, Val Loss=1.2647, Val Acc=0.7258, LR=0.001000\n"
     ]
    },
    {
     "name": "stderr",
     "output_type": "stream",
     "text": [
      "Epoch 31/50 [Train]: 100%|██████████| 86/86 [00:28<00:00,  3.01it/s]\n",
      "Epoch 31/50 [Val]: 100%|██████████| 11/11 [00:08<00:00,  1.32it/s]\n"
     ]
    },
    {
     "name": "stdout",
     "output_type": "stream",
     "text": [
      "Epoch 31/50: Train Loss=1.0038, Train Acc=0.8375, Val Loss=1.2209, Val Acc=0.7537, LR=0.001000\n"
     ]
    },
    {
     "name": "stderr",
     "output_type": "stream",
     "text": [
      "Epoch 32/50 [Train]: 100%|██████████| 86/86 [00:28<00:00,  2.98it/s]\n",
      "Epoch 32/50 [Val]: 100%|██████████| 11/11 [00:08<00:00,  1.32it/s]\n"
     ]
    },
    {
     "name": "stdout",
     "output_type": "stream",
     "text": [
      "Epoch 32/50: Train Loss=1.0042, Train Acc=0.8434, Val Loss=1.2260, Val Acc=0.7625, LR=0.001000\n",
      "✓ Best model saved in d:\\Uni\\Master\\1 Bimestre\\Foundations\\Assignments\\Weather-Clasification\\models\\best_model_LeNetModern.pth (val_acc=0.7625)\n"
     ]
    },
    {
     "name": "stderr",
     "output_type": "stream",
     "text": [
      "Epoch 33/50 [Train]: 100%|██████████| 86/86 [00:28<00:00,  3.02it/s]\n",
      "Epoch 33/50 [Val]: 100%|██████████| 11/11 [00:09<00:00,  1.20it/s]\n"
     ]
    },
    {
     "name": "stdout",
     "output_type": "stream",
     "text": [
      "Epoch 33/50: Train Loss=0.9685, Train Acc=0.8483, Val Loss=1.3504, Val Acc=0.7258, LR=0.001000\n"
     ]
    },
    {
     "name": "stderr",
     "output_type": "stream",
     "text": [
      "Epoch 34/50 [Train]: 100%|██████████| 86/86 [00:29<00:00,  2.94it/s]\n",
      "Epoch 34/50 [Val]: 100%|██████████| 11/11 [00:08<00:00,  1.31it/s]\n"
     ]
    },
    {
     "name": "stdout",
     "output_type": "stream",
     "text": [
      "Epoch 34/50: Train Loss=0.9657, Train Acc=0.8505, Val Loss=1.2711, Val Acc=0.7331, LR=0.001000\n"
     ]
    },
    {
     "name": "stderr",
     "output_type": "stream",
     "text": [
      "Epoch 35/50 [Train]: 100%|██████████| 86/86 [00:28<00:00,  3.02it/s]\n",
      "Epoch 35/50 [Val]: 100%|██████████| 11/11 [00:09<00:00,  1.15it/s]\n"
     ]
    },
    {
     "name": "stdout",
     "output_type": "stream",
     "text": [
      "Epoch 35/50: Train Loss=0.9404, Train Acc=0.8643, Val Loss=1.2483, Val Acc=0.7375, LR=0.001000\n"
     ]
    },
    {
     "name": "stderr",
     "output_type": "stream",
     "text": [
      "Epoch 36/50 [Train]: 100%|██████████| 86/86 [00:32<00:00,  2.66it/s]\n",
      "Epoch 36/50 [Val]: 100%|██████████| 11/11 [00:10<00:00,  1.03it/s]\n"
     ]
    },
    {
     "name": "stdout",
     "output_type": "stream",
     "text": [
      "Epoch 36/50: Train Loss=0.9438, Train Acc=0.8663, Val Loss=1.2359, Val Acc=0.7654, LR=0.001000\n",
      "✓ Best model saved in d:\\Uni\\Master\\1 Bimestre\\Foundations\\Assignments\\Weather-Clasification\\models\\best_model_LeNetModern.pth (val_acc=0.7654)\n"
     ]
    },
    {
     "name": "stderr",
     "output_type": "stream",
     "text": [
      "Epoch 37/50 [Train]: 100%|██████████| 86/86 [00:31<00:00,  2.70it/s]\n",
      "Epoch 37/50 [Val]: 100%|██████████| 11/11 [00:08<00:00,  1.30it/s]\n"
     ]
    },
    {
     "name": "stdout",
     "output_type": "stream",
     "text": [
      "Epoch 37/50: Train Loss=0.9239, Train Acc=0.8775, Val Loss=1.2482, Val Acc=0.7537, LR=0.001000\n"
     ]
    },
    {
     "name": "stderr",
     "output_type": "stream",
     "text": [
      "Epoch 38/50 [Train]: 100%|██████████| 86/86 [00:31<00:00,  2.71it/s]\n",
      "Epoch 38/50 [Val]: 100%|██████████| 11/11 [00:09<00:00,  1.21it/s]\n"
     ]
    },
    {
     "name": "stdout",
     "output_type": "stream",
     "text": [
      "Epoch 38/50: Train Loss=0.8770, Train Acc=0.8950, Val Loss=1.2178, Val Acc=0.7595, LR=0.000500\n"
     ]
    },
    {
     "name": "stderr",
     "output_type": "stream",
     "text": [
      "Epoch 39/50 [Train]: 100%|██████████| 86/86 [00:31<00:00,  2.72it/s]\n",
      "Epoch 39/50 [Val]: 100%|██████████| 11/11 [00:09<00:00,  1.16it/s]\n"
     ]
    },
    {
     "name": "stdout",
     "output_type": "stream",
     "text": [
      "Epoch 39/50: Train Loss=0.8580, Train Acc=0.9034, Val Loss=1.2263, Val Acc=0.7625, LR=0.000500\n"
     ]
    },
    {
     "name": "stderr",
     "output_type": "stream",
     "text": [
      "Epoch 40/50 [Train]: 100%|██████████| 86/86 [00:28<00:00,  2.98it/s]\n",
      "Epoch 40/50 [Val]: 100%|██████████| 11/11 [00:08<00:00,  1.29it/s]\n"
     ]
    },
    {
     "name": "stdout",
     "output_type": "stream",
     "text": [
      "Epoch 40/50: Train Loss=0.8511, Train Acc=0.9028, Val Loss=1.2295, Val Acc=0.7551, LR=0.000500\n"
     ]
    },
    {
     "name": "stderr",
     "output_type": "stream",
     "text": [
      "Epoch 41/50 [Train]: 100%|██████████| 86/86 [00:29<00:00,  2.90it/s]\n",
      "Epoch 41/50 [Val]: 100%|██████████| 11/11 [00:08<00:00,  1.27it/s]\n"
     ]
    },
    {
     "name": "stdout",
     "output_type": "stream",
     "text": [
      "Epoch 41/50: Train Loss=0.8462, Train Acc=0.9072, Val Loss=1.2263, Val Acc=0.7727, LR=0.000500\n",
      "✓ Best model saved in d:\\Uni\\Master\\1 Bimestre\\Foundations\\Assignments\\Weather-Clasification\\models\\best_model_LeNetModern.pth (val_acc=0.7727)\n"
     ]
    },
    {
     "name": "stderr",
     "output_type": "stream",
     "text": [
      "Epoch 42/50 [Train]: 100%|██████████| 86/86 [00:30<00:00,  2.85it/s]\n",
      "Epoch 42/50 [Val]: 100%|██████████| 11/11 [00:08<00:00,  1.28it/s]\n"
     ]
    },
    {
     "name": "stdout",
     "output_type": "stream",
     "text": [
      "Epoch 42/50: Train Loss=0.8260, Train Acc=0.9218, Val Loss=1.2293, Val Acc=0.7654, LR=0.000500\n"
     ]
    },
    {
     "name": "stderr",
     "output_type": "stream",
     "text": [
      "Epoch 43/50 [Train]: 100%|██████████| 86/86 [00:30<00:00,  2.85it/s]\n",
      "Epoch 43/50 [Val]: 100%|██████████| 11/11 [00:08<00:00,  1.28it/s]\n"
     ]
    },
    {
     "name": "stdout",
     "output_type": "stream",
     "text": [
      "Epoch 43/50: Train Loss=0.8209, Train Acc=0.9203, Val Loss=1.2220, Val Acc=0.7669, LR=0.000500\n"
     ]
    },
    {
     "name": "stderr",
     "output_type": "stream",
     "text": [
      "Epoch 44/50 [Train]: 100%|██████████| 86/86 [00:30<00:00,  2.81it/s]\n",
      "Epoch 44/50 [Val]: 100%|██████████| 11/11 [00:08<00:00,  1.29it/s]\n"
     ]
    },
    {
     "name": "stdout",
     "output_type": "stream",
     "text": [
      "Epoch 44/50: Train Loss=0.8138, Train Acc=0.9265, Val Loss=1.2494, Val Acc=0.7595, LR=0.000500\n"
     ]
    },
    {
     "name": "stderr",
     "output_type": "stream",
     "text": [
      "Epoch 45/50 [Train]: 100%|██████████| 86/86 [00:29<00:00,  2.94it/s]\n",
      "Epoch 45/50 [Val]: 100%|██████████| 11/11 [00:09<00:00,  1.17it/s]\n"
     ]
    },
    {
     "name": "stdout",
     "output_type": "stream",
     "text": [
      "Epoch 45/50: Train Loss=0.7932, Train Acc=0.9322, Val Loss=1.2397, Val Acc=0.7654, LR=0.000250\n"
     ]
    },
    {
     "name": "stderr",
     "output_type": "stream",
     "text": [
      "Epoch 46/50 [Train]: 100%|██████████| 86/86 [00:29<00:00,  2.90it/s]\n",
      "Epoch 46/50 [Val]: 100%|██████████| 11/11 [00:08<00:00,  1.25it/s]\n"
     ]
    },
    {
     "name": "stdout",
     "output_type": "stream",
     "text": [
      "Epoch 46/50: Train Loss=0.7836, Train Acc=0.9402, Val Loss=1.2281, Val Acc=0.7639, LR=0.000250\n"
     ]
    },
    {
     "name": "stderr",
     "output_type": "stream",
     "text": [
      "Epoch 47/50 [Train]: 100%|██████████| 86/86 [00:39<00:00,  2.20it/s]\n",
      "Epoch 47/50 [Val]: 100%|██████████| 11/11 [00:09<00:00,  1.19it/s]\n"
     ]
    },
    {
     "name": "stdout",
     "output_type": "stream",
     "text": [
      "Epoch 47/50: Train Loss=0.7811, Train Acc=0.9380, Val Loss=1.2430, Val Acc=0.7654, LR=0.000250\n"
     ]
    },
    {
     "name": "stderr",
     "output_type": "stream",
     "text": [
      "Epoch 48/50 [Train]: 100%|██████████| 86/86 [00:28<00:00,  3.01it/s]\n",
      "Epoch 48/50 [Val]: 100%|██████████| 11/11 [00:08<00:00,  1.24it/s]"
     ]
    },
    {
     "name": "stdout",
     "output_type": "stream",
     "text": [
      "Epoch 48/50: Train Loss=0.7731, Train Acc=0.9451, Val Loss=1.2416, Val Acc=0.7639, LR=0.000250\n",
      "\n",
      "Early stopping triggered after 48 epochs\n",
      "No improvement for 7 consecutive epochs\n",
      "\n",
      "Training complete!\n",
      "Best val_acc: 0.7727\n",
      "Best val_loss: 1.2263\n",
      "Metrics saved in d:\\Uni\\Master\\1 Bimestre\\Foundations\\Assignments\\Weather-Clasification\\reports\\metrics\\metrics_LeNetModern.pkl\n",
      "Model saved in d:\\Uni\\Master\\1 Bimestre\\Foundations\\Assignments\\Weather-Clasification\\models\\best_model_LeNetModern.pth\n"
     ]
    },
    {
     "name": "stderr",
     "output_type": "stream",
     "text": [
      "\n"
     ]
    }
   ],
   "source": [
    "input_dim = 64*64*3  # matches the Resize transform\n",
    "model = train_model_improved(LeNetModern, \n",
    "                    train_dir=\"../../data/train\", \n",
    "                    val_dir=\"../../data/val\", \n",
    "                    input_dim=input_dim,\n",
    "                    num_classes=11,\n",
    "                    batch_size=64,\n",
    "                    epochs=50,\n",
    "                    lr=1e-3,\n",
    "                    device=\"cuda\" if torch.cuda.is_available() else \"cpu\")"
   ]
  },
  {
   "cell_type": "code",
   "execution_count": 7,
   "id": "7cdf593c",
   "metadata": {},
   "outputs": [
    {
     "name": "stdout",
     "output_type": "stream",
     "text": [
      "Class counts: Counter({8: 928, 1: 680, 0: 558, 9: 553, 3: 511, 10: 496, 4: 472, 6: 420, 2: 380, 5: 301, 7: 185})\n",
      "Class weights: {0: '9.828', 1: '8.065', 2: '14.432', 3: '10.732', 4: '11.619', 5: '18.219', 6: '13.057', 7: '29.643', 8: '5.909', 9: '9.917', 10: '11.056'}\n",
      "\n",
      "Model: CNN_V1\n",
      "Total parameters: 9,709,739\n",
      "Trainable parameters: 9,709,739\n",
      "\n"
     ]
    },
    {
     "name": "stderr",
     "output_type": "stream",
     "text": [
      "Epoch 1/50 [Train]: 100%|██████████| 86/86 [00:28<00:00,  3.01it/s]\n",
      "Epoch 1/50 [Val]: 100%|██████████| 11/11 [00:08<00:00,  1.31it/s]\n"
     ]
    },
    {
     "name": "stdout",
     "output_type": "stream",
     "text": [
      "Epoch 1/50: Train Loss=1.9630, Train Acc=0.3979, Val Loss=1.7172, Val Acc=0.5249, LR=0.001000\n",
      "✓ Best model saved in d:\\Uni\\Master\\1 Bimestre\\Foundations\\Assignments\\Weather-Clasification\\models\\best_model_CNN_V1.pth (val_acc=0.5249)\n"
     ]
    },
    {
     "name": "stderr",
     "output_type": "stream",
     "text": [
      "Epoch 2/50 [Train]: 100%|██████████| 86/86 [00:29<00:00,  2.93it/s]\n",
      "Epoch 2/50 [Val]: 100%|██████████| 11/11 [00:11<00:00,  1.00s/it]\n"
     ]
    },
    {
     "name": "stdout",
     "output_type": "stream",
     "text": [
      "Epoch 2/50: Train Loss=1.5678, Train Acc=0.5704, Val Loss=1.5327, Val Acc=0.6026, LR=0.001000\n",
      "✓ Best model saved in d:\\Uni\\Master\\1 Bimestre\\Foundations\\Assignments\\Weather-Clasification\\models\\best_model_CNN_V1.pth (val_acc=0.6026)\n"
     ]
    },
    {
     "name": "stderr",
     "output_type": "stream",
     "text": [
      "Epoch 3/50 [Train]: 100%|██████████| 86/86 [00:33<00:00,  2.57it/s]\n",
      "Epoch 3/50 [Val]: 100%|██████████| 11/11 [00:09<00:00,  1.19it/s]\n"
     ]
    },
    {
     "name": "stdout",
     "output_type": "stream",
     "text": [
      "Epoch 3/50: Train Loss=1.4892, Train Acc=0.6070, Val Loss=1.4626, Val Acc=0.6320, LR=0.001000\n",
      "✓ Best model saved in d:\\Uni\\Master\\1 Bimestre\\Foundations\\Assignments\\Weather-Clasification\\models\\best_model_CNN_V1.pth (val_acc=0.6320)\n"
     ]
    },
    {
     "name": "stderr",
     "output_type": "stream",
     "text": [
      "Epoch 4/50 [Train]: 100%|██████████| 86/86 [00:29<00:00,  2.90it/s]\n",
      "Epoch 4/50 [Val]: 100%|██████████| 11/11 [00:08<00:00,  1.32it/s]\n"
     ]
    },
    {
     "name": "stdout",
     "output_type": "stream",
     "text": [
      "Epoch 4/50: Train Loss=1.4088, Train Acc=0.6459, Val Loss=1.4574, Val Acc=0.6320, LR=0.001000\n"
     ]
    },
    {
     "name": "stderr",
     "output_type": "stream",
     "text": [
      "Epoch 5/50 [Train]: 100%|██████████| 86/86 [00:28<00:00,  2.97it/s]\n",
      "Epoch 5/50 [Val]: 100%|██████████| 11/11 [00:09<00:00,  1.22it/s]\n"
     ]
    },
    {
     "name": "stdout",
     "output_type": "stream",
     "text": [
      "Epoch 5/50: Train Loss=1.3652, Train Acc=0.6623, Val Loss=1.4436, Val Acc=0.6232, LR=0.001000\n"
     ]
    },
    {
     "name": "stderr",
     "output_type": "stream",
     "text": [
      "Epoch 6/50 [Train]: 100%|██████████| 86/86 [00:28<00:00,  3.04it/s]\n",
      "Epoch 6/50 [Val]: 100%|██████████| 11/11 [00:08<00:00,  1.35it/s]\n"
     ]
    },
    {
     "name": "stdout",
     "output_type": "stream",
     "text": [
      "Epoch 6/50: Train Loss=1.3208, Train Acc=0.6869, Val Loss=1.4370, Val Acc=0.6290, LR=0.001000\n"
     ]
    },
    {
     "name": "stderr",
     "output_type": "stream",
     "text": [
      "Epoch 7/50 [Train]: 100%|██████████| 86/86 [00:30<00:00,  2.81it/s]\n",
      "Epoch 7/50 [Val]: 100%|██████████| 11/11 [00:10<00:00,  1.08it/s]\n"
     ]
    },
    {
     "name": "stdout",
     "output_type": "stream",
     "text": [
      "Epoch 7/50: Train Loss=1.2998, Train Acc=0.6946, Val Loss=1.3552, Val Acc=0.6994, LR=0.001000\n",
      "✓ Best model saved in d:\\Uni\\Master\\1 Bimestre\\Foundations\\Assignments\\Weather-Clasification\\models\\best_model_CNN_V1.pth (val_acc=0.6994)\n"
     ]
    },
    {
     "name": "stderr",
     "output_type": "stream",
     "text": [
      "Epoch 8/50 [Train]: 100%|██████████| 86/86 [00:31<00:00,  2.70it/s]\n",
      "Epoch 8/50 [Val]: 100%|██████████| 11/11 [00:08<00:00,  1.23it/s]\n"
     ]
    },
    {
     "name": "stdout",
     "output_type": "stream",
     "text": [
      "Epoch 8/50: Train Loss=1.2305, Train Acc=0.7197, Val Loss=1.3649, Val Acc=0.6818, LR=0.001000\n"
     ]
    },
    {
     "name": "stderr",
     "output_type": "stream",
     "text": [
      "Epoch 9/50 [Train]: 100%|██████████| 86/86 [00:30<00:00,  2.83it/s]\n",
      "Epoch 9/50 [Val]: 100%|██████████| 11/11 [00:08<00:00,  1.26it/s]\n"
     ]
    },
    {
     "name": "stdout",
     "output_type": "stream",
     "text": [
      "Epoch 9/50: Train Loss=1.1914, Train Acc=0.7367, Val Loss=1.3105, Val Acc=0.7126, LR=0.001000\n",
      "✓ Best model saved in d:\\Uni\\Master\\1 Bimestre\\Foundations\\Assignments\\Weather-Clasification\\models\\best_model_CNN_V1.pth (val_acc=0.7126)\n"
     ]
    },
    {
     "name": "stderr",
     "output_type": "stream",
     "text": [
      "Epoch 10/50 [Train]: 100%|██████████| 86/86 [00:29<00:00,  2.96it/s]\n",
      "Epoch 10/50 [Val]: 100%|██████████| 11/11 [00:08<00:00,  1.27it/s]\n"
     ]
    },
    {
     "name": "stdout",
     "output_type": "stream",
     "text": [
      "Epoch 10/50: Train Loss=1.1463, Train Acc=0.7555, Val Loss=1.3474, Val Acc=0.7038, LR=0.001000\n"
     ]
    },
    {
     "name": "stderr",
     "output_type": "stream",
     "text": [
      "Epoch 11/50 [Train]: 100%|██████████| 86/86 [00:29<00:00,  2.94it/s]\n",
      "Epoch 11/50 [Val]: 100%|██████████| 11/11 [00:08<00:00,  1.27it/s]\n"
     ]
    },
    {
     "name": "stdout",
     "output_type": "stream",
     "text": [
      "Epoch 11/50: Train Loss=1.0916, Train Acc=0.7803, Val Loss=1.3431, Val Acc=0.7126, LR=0.001000\n"
     ]
    },
    {
     "name": "stderr",
     "output_type": "stream",
     "text": [
      "Epoch 12/50 [Train]: 100%|██████████| 86/86 [00:31<00:00,  2.77it/s]\n",
      "Epoch 12/50 [Val]: 100%|██████████| 11/11 [00:09<00:00,  1.17it/s]\n"
     ]
    },
    {
     "name": "stdout",
     "output_type": "stream",
     "text": [
      "Epoch 12/50: Train Loss=1.0262, Train Acc=0.8071, Val Loss=1.2749, Val Acc=0.7229, LR=0.001000\n",
      "✓ Best model saved in d:\\Uni\\Master\\1 Bimestre\\Foundations\\Assignments\\Weather-Clasification\\models\\best_model_CNN_V1.pth (val_acc=0.7229)\n"
     ]
    },
    {
     "name": "stderr",
     "output_type": "stream",
     "text": [
      "Epoch 13/50 [Train]: 100%|██████████| 86/86 [00:30<00:00,  2.83it/s]\n",
      "Epoch 13/50 [Val]: 100%|██████████| 11/11 [00:09<00:00,  1.15it/s]\n"
     ]
    },
    {
     "name": "stdout",
     "output_type": "stream",
     "text": [
      "Epoch 13/50: Train Loss=0.9714, Train Acc=0.8379, Val Loss=1.3212, Val Acc=0.7331, LR=0.001000\n",
      "✓ Best model saved in d:\\Uni\\Master\\1 Bimestre\\Foundations\\Assignments\\Weather-Clasification\\models\\best_model_CNN_V1.pth (val_acc=0.7331)\n"
     ]
    },
    {
     "name": "stderr",
     "output_type": "stream",
     "text": [
      "Epoch 14/50 [Train]: 100%|██████████| 86/86 [00:29<00:00,  2.95it/s]\n",
      "Epoch 14/50 [Val]: 100%|██████████| 11/11 [00:08<00:00,  1.30it/s]\n"
     ]
    },
    {
     "name": "stdout",
     "output_type": "stream",
     "text": [
      "Epoch 14/50: Train Loss=0.9303, Train Acc=0.8567, Val Loss=1.3231, Val Acc=0.7097, LR=0.001000\n"
     ]
    },
    {
     "name": "stderr",
     "output_type": "stream",
     "text": [
      "Epoch 15/50 [Train]: 100%|██████████| 86/86 [00:29<00:00,  2.95it/s]\n",
      "Epoch 15/50 [Val]: 100%|██████████| 11/11 [00:09<00:00,  1.14it/s]\n"
     ]
    },
    {
     "name": "stdout",
     "output_type": "stream",
     "text": [
      "Epoch 15/50: Train Loss=0.8673, Train Acc=0.8864, Val Loss=1.3356, Val Acc=0.7082, LR=0.001000\n"
     ]
    },
    {
     "name": "stderr",
     "output_type": "stream",
     "text": [
      "Epoch 16/50 [Train]: 100%|██████████| 86/86 [00:29<00:00,  2.87it/s]\n",
      "Epoch 16/50 [Val]: 100%|██████████| 11/11 [00:08<00:00,  1.26it/s]\n"
     ]
    },
    {
     "name": "stdout",
     "output_type": "stream",
     "text": [
      "Epoch 16/50: Train Loss=0.8319, Train Acc=0.9039, Val Loss=1.3896, Val Acc=0.7067, LR=0.001000\n"
     ]
    },
    {
     "name": "stderr",
     "output_type": "stream",
     "text": [
      "Epoch 17/50 [Train]: 100%|██████████| 86/86 [00:28<00:00,  2.97it/s]\n",
      "Epoch 17/50 [Val]: 100%|██████████| 11/11 [00:08<00:00,  1.28it/s]\n"
     ]
    },
    {
     "name": "stdout",
     "output_type": "stream",
     "text": [
      "Epoch 17/50: Train Loss=0.8074, Train Acc=0.9187, Val Loss=1.3146, Val Acc=0.7390, LR=0.001000\n",
      "✓ Best model saved in d:\\Uni\\Master\\1 Bimestre\\Foundations\\Assignments\\Weather-Clasification\\models\\best_model_CNN_V1.pth (val_acc=0.7390)\n"
     ]
    },
    {
     "name": "stderr",
     "output_type": "stream",
     "text": [
      "Epoch 18/50 [Train]: 100%|██████████| 86/86 [00:29<00:00,  2.91it/s]\n",
      "Epoch 18/50 [Val]: 100%|██████████| 11/11 [00:08<00:00,  1.31it/s]\n"
     ]
    },
    {
     "name": "stdout",
     "output_type": "stream",
     "text": [
      "Epoch 18/50: Train Loss=0.7629, Train Acc=0.9358, Val Loss=1.3542, Val Acc=0.7302, LR=0.001000\n"
     ]
    },
    {
     "name": "stderr",
     "output_type": "stream",
     "text": [
      "Epoch 19/50 [Train]: 100%|██████████| 86/86 [00:29<00:00,  2.96it/s]\n",
      "Epoch 19/50 [Val]: 100%|██████████| 11/11 [00:08<00:00,  1.28it/s]\n"
     ]
    },
    {
     "name": "stdout",
     "output_type": "stream",
     "text": [
      "Epoch 19/50: Train Loss=0.6945, Train Acc=0.9619, Val Loss=1.3234, Val Acc=0.7243, LR=0.000500\n"
     ]
    },
    {
     "name": "stderr",
     "output_type": "stream",
     "text": [
      "Epoch 20/50 [Train]: 100%|██████████| 86/86 [00:28<00:00,  2.98it/s]\n",
      "Epoch 20/50 [Val]: 100%|██████████| 11/11 [00:08<00:00,  1.30it/s]\n"
     ]
    },
    {
     "name": "stdout",
     "output_type": "stream",
     "text": [
      "Epoch 20/50: Train Loss=0.6554, Train Acc=0.9788, Val Loss=1.3077, Val Acc=0.7302, LR=0.000500\n"
     ]
    },
    {
     "name": "stderr",
     "output_type": "stream",
     "text": [
      "Epoch 21/50 [Train]: 100%|██████████| 86/86 [00:29<00:00,  2.92it/s]\n",
      "Epoch 21/50 [Val]: 100%|██████████| 11/11 [00:08<00:00,  1.23it/s]\n"
     ]
    },
    {
     "name": "stdout",
     "output_type": "stream",
     "text": [
      "Epoch 21/50: Train Loss=0.6426, Train Acc=0.9840, Val Loss=1.2962, Val Acc=0.7419, LR=0.000500\n",
      "✓ Best model saved in d:\\Uni\\Master\\1 Bimestre\\Foundations\\Assignments\\Weather-Clasification\\models\\best_model_CNN_V1.pth (val_acc=0.7419)\n"
     ]
    },
    {
     "name": "stderr",
     "output_type": "stream",
     "text": [
      "Epoch 22/50 [Train]: 100%|██████████| 86/86 [00:29<00:00,  2.92it/s]\n",
      "Epoch 22/50 [Val]: 100%|██████████| 11/11 [00:08<00:00,  1.28it/s]\n"
     ]
    },
    {
     "name": "stdout",
     "output_type": "stream",
     "text": [
      "Epoch 22/50: Train Loss=0.6288, Train Acc=0.9896, Val Loss=1.2922, Val Acc=0.7405, LR=0.000500\n"
     ]
    },
    {
     "name": "stderr",
     "output_type": "stream",
     "text": [
      "Epoch 23/50 [Train]: 100%|██████████| 86/86 [00:28<00:00,  2.99it/s]\n",
      "Epoch 23/50 [Val]: 100%|██████████| 11/11 [00:08<00:00,  1.28it/s]\n"
     ]
    },
    {
     "name": "stdout",
     "output_type": "stream",
     "text": [
      "Epoch 23/50: Train Loss=0.6202, Train Acc=0.9920, Val Loss=1.2951, Val Acc=0.7405, LR=0.000500\n"
     ]
    },
    {
     "name": "stderr",
     "output_type": "stream",
     "text": [
      "Epoch 24/50 [Train]: 100%|██████████| 86/86 [00:29<00:00,  2.94it/s]\n",
      "Epoch 24/50 [Val]: 100%|██████████| 11/11 [00:08<00:00,  1.30it/s]\n"
     ]
    },
    {
     "name": "stdout",
     "output_type": "stream",
     "text": [
      "Epoch 24/50: Train Loss=0.6139, Train Acc=0.9922, Val Loss=1.2841, Val Acc=0.7405, LR=0.000500\n"
     ]
    },
    {
     "name": "stderr",
     "output_type": "stream",
     "text": [
      "Epoch 25/50 [Train]: 100%|██████████| 86/86 [00:29<00:00,  2.91it/s]\n",
      "Epoch 25/50 [Val]: 100%|██████████| 11/11 [00:08<00:00,  1.24it/s]\n"
     ]
    },
    {
     "name": "stdout",
     "output_type": "stream",
     "text": [
      "Epoch 25/50: Train Loss=0.5997, Train Acc=0.9971, Val Loss=1.2696, Val Acc=0.7463, LR=0.000250\n",
      "✓ Best model saved in d:\\Uni\\Master\\1 Bimestre\\Foundations\\Assignments\\Weather-Clasification\\models\\best_model_CNN_V1.pth (val_acc=0.7463)\n"
     ]
    },
    {
     "name": "stderr",
     "output_type": "stream",
     "text": [
      "Epoch 26/50 [Train]: 100%|██████████| 86/86 [00:29<00:00,  2.94it/s]\n",
      "Epoch 26/50 [Val]: 100%|██████████| 11/11 [00:08<00:00,  1.26it/s]\n"
     ]
    },
    {
     "name": "stdout",
     "output_type": "stream",
     "text": [
      "Epoch 26/50: Train Loss=0.5939, Train Acc=0.9976, Val Loss=1.2565, Val Acc=0.7493, LR=0.000250\n",
      "✓ Best model saved in d:\\Uni\\Master\\1 Bimestre\\Foundations\\Assignments\\Weather-Clasification\\models\\best_model_CNN_V1.pth (val_acc=0.7493)\n"
     ]
    },
    {
     "name": "stderr",
     "output_type": "stream",
     "text": [
      "Epoch 27/50 [Train]: 100%|██████████| 86/86 [00:29<00:00,  2.91it/s]\n",
      "Epoch 27/50 [Val]: 100%|██████████| 11/11 [00:08<00:00,  1.22it/s]\n"
     ]
    },
    {
     "name": "stdout",
     "output_type": "stream",
     "text": [
      "Epoch 27/50: Train Loss=0.5920, Train Acc=0.9980, Val Loss=1.2649, Val Acc=0.7434, LR=0.000250\n"
     ]
    },
    {
     "name": "stderr",
     "output_type": "stream",
     "text": [
      "Epoch 28/50 [Train]: 100%|██████████| 86/86 [00:29<00:00,  2.96it/s]\n",
      "Epoch 28/50 [Val]: 100%|██████████| 11/11 [00:08<00:00,  1.27it/s]\n"
     ]
    },
    {
     "name": "stdout",
     "output_type": "stream",
     "text": [
      "Epoch 28/50: Train Loss=0.5896, Train Acc=0.9989, Val Loss=1.2653, Val Acc=0.7493, LR=0.000250\n"
     ]
    },
    {
     "name": "stderr",
     "output_type": "stream",
     "text": [
      "Epoch 29/50 [Train]: 100%|██████████| 86/86 [00:29<00:00,  2.93it/s]\n",
      "Epoch 29/50 [Val]: 100%|██████████| 11/11 [00:08<00:00,  1.30it/s]\n"
     ]
    },
    {
     "name": "stdout",
     "output_type": "stream",
     "text": [
      "Epoch 29/50: Train Loss=0.5888, Train Acc=0.9989, Val Loss=1.2587, Val Acc=0.7405, LR=0.000250\n"
     ]
    },
    {
     "name": "stderr",
     "output_type": "stream",
     "text": [
      "Epoch 30/50 [Train]: 100%|██████████| 86/86 [00:28<00:00,  2.97it/s]\n",
      "Epoch 30/50 [Val]: 100%|██████████| 11/11 [00:08<00:00,  1.30it/s]\n"
     ]
    },
    {
     "name": "stdout",
     "output_type": "stream",
     "text": [
      "Epoch 30/50: Train Loss=0.5878, Train Acc=0.9984, Val Loss=1.2619, Val Acc=0.7478, LR=0.000250\n"
     ]
    },
    {
     "name": "stderr",
     "output_type": "stream",
     "text": [
      "Epoch 31/50 [Train]: 100%|██████████| 86/86 [00:29<00:00,  2.96it/s]\n",
      "Epoch 31/50 [Val]: 100%|██████████| 11/11 [00:09<00:00,  1.20it/s]\n"
     ]
    },
    {
     "name": "stdout",
     "output_type": "stream",
     "text": [
      "Epoch 31/50: Train Loss=0.5870, Train Acc=0.9991, Val Loss=1.2609, Val Acc=0.7463, LR=0.000250\n"
     ]
    },
    {
     "name": "stderr",
     "output_type": "stream",
     "text": [
      "Epoch 32/50 [Train]: 100%|██████████| 86/86 [00:32<00:00,  2.68it/s]\n",
      "Epoch 32/50 [Val]: 100%|██████████| 11/11 [00:08<00:00,  1.27it/s]\n"
     ]
    },
    {
     "name": "stdout",
     "output_type": "stream",
     "text": [
      "Epoch 32/50: Train Loss=0.5858, Train Acc=0.9993, Val Loss=1.2618, Val Acc=0.7551, LR=0.000250\n",
      "✓ Best model saved in d:\\Uni\\Master\\1 Bimestre\\Foundations\\Assignments\\Weather-Clasification\\models\\best_model_CNN_V1.pth (val_acc=0.7551)\n"
     ]
    },
    {
     "name": "stderr",
     "output_type": "stream",
     "text": [
      "Epoch 33/50 [Train]: 100%|██████████| 86/86 [00:28<00:00,  3.01it/s]\n",
      "Epoch 33/50 [Val]: 100%|██████████| 11/11 [00:08<00:00,  1.32it/s]\n"
     ]
    },
    {
     "name": "stdout",
     "output_type": "stream",
     "text": [
      "Epoch 33/50: Train Loss=0.5851, Train Acc=0.9993, Val Loss=1.2647, Val Acc=0.7507, LR=0.000125\n"
     ]
    },
    {
     "name": "stderr",
     "output_type": "stream",
     "text": [
      "Epoch 34/50 [Train]: 100%|██████████| 86/86 [00:28<00:00,  3.04it/s]\n",
      "Epoch 34/50 [Val]: 100%|██████████| 11/11 [00:11<00:00,  1.04s/it]\n"
     ]
    },
    {
     "name": "stdout",
     "output_type": "stream",
     "text": [
      "Epoch 34/50: Train Loss=0.5836, Train Acc=0.9996, Val Loss=1.2644, Val Acc=0.7493, LR=0.000125\n"
     ]
    },
    {
     "name": "stderr",
     "output_type": "stream",
     "text": [
      "Epoch 35/50 [Train]: 100%|██████████| 86/86 [00:27<00:00,  3.14it/s]\n",
      "Epoch 35/50 [Val]: 100%|██████████| 11/11 [00:08<00:00,  1.36it/s]\n"
     ]
    },
    {
     "name": "stdout",
     "output_type": "stream",
     "text": [
      "Epoch 35/50: Train Loss=0.5842, Train Acc=0.9995, Val Loss=1.2620, Val Acc=0.7478, LR=0.000125\n"
     ]
    },
    {
     "name": "stderr",
     "output_type": "stream",
     "text": [
      "Epoch 36/50 [Train]: 100%|██████████| 86/86 [00:33<00:00,  2.60it/s]\n",
      "Epoch 36/50 [Val]: 100%|██████████| 11/11 [00:09<00:00,  1.16it/s]\n"
     ]
    },
    {
     "name": "stdout",
     "output_type": "stream",
     "text": [
      "Epoch 36/50: Train Loss=0.5832, Train Acc=0.9998, Val Loss=1.2613, Val Acc=0.7463, LR=0.000125\n"
     ]
    },
    {
     "name": "stderr",
     "output_type": "stream",
     "text": [
      "Epoch 37/50 [Train]: 100%|██████████| 86/86 [00:37<00:00,  2.31it/s]\n",
      "Epoch 37/50 [Val]: 100%|██████████| 11/11 [00:11<00:00,  1.08s/it]\n"
     ]
    },
    {
     "name": "stdout",
     "output_type": "stream",
     "text": [
      "Epoch 37/50: Train Loss=0.5834, Train Acc=0.9995, Val Loss=1.2586, Val Acc=0.7463, LR=0.000125\n"
     ]
    },
    {
     "name": "stderr",
     "output_type": "stream",
     "text": [
      "Epoch 38/50 [Train]: 100%|██████████| 86/86 [00:32<00:00,  2.68it/s]\n",
      "Epoch 38/50 [Val]: 100%|██████████| 11/11 [00:08<00:00,  1.23it/s]\n"
     ]
    },
    {
     "name": "stdout",
     "output_type": "stream",
     "text": [
      "Epoch 38/50: Train Loss=0.5825, Train Acc=0.9996, Val Loss=1.2566, Val Acc=0.7537, LR=0.000125\n"
     ]
    },
    {
     "name": "stderr",
     "output_type": "stream",
     "text": [
      "Epoch 39/50 [Train]: 100%|██████████| 86/86 [00:29<00:00,  2.95it/s]\n",
      "Epoch 39/50 [Val]: 100%|██████████| 11/11 [00:09<00:00,  1.17it/s]"
     ]
    },
    {
     "name": "stdout",
     "output_type": "stream",
     "text": [
      "Epoch 39/50: Train Loss=0.5834, Train Acc=0.9996, Val Loss=1.2573, Val Acc=0.7493, LR=0.000063\n",
      "\n",
      "Early stopping triggered after 39 epochs\n",
      "No improvement for 7 consecutive epochs\n",
      "\n",
      "Training complete!\n",
      "Best val_acc: 0.7551\n",
      "Best val_loss: 1.2618\n",
      "Metrics saved in d:\\Uni\\Master\\1 Bimestre\\Foundations\\Assignments\\Weather-Clasification\\reports\\metrics\\metrics_CNN_V1.pkl\n",
      "Model saved in d:\\Uni\\Master\\1 Bimestre\\Foundations\\Assignments\\Weather-Clasification\\models\\best_model_CNN_V1.pth\n"
     ]
    },
    {
     "name": "stderr",
     "output_type": "stream",
     "text": [
      "\n"
     ]
    }
   ],
   "source": [
    "input_dim = 64*64*3  # matches the Resize transform\n",
    "model = train_model_improved(CNN_V1, \n",
    "                    train_dir=\"../../data/train\", \n",
    "                    val_dir=\"../../data/val\", \n",
    "                    input_dim=input_dim,\n",
    "                    num_classes=11,\n",
    "                    batch_size=64,\n",
    "                    epochs=50,\n",
    "                    lr=1e-3,\n",
    "                    device=\"cuda\" if torch.cuda.is_available() else \"cpu\")"
   ]
  },
  {
   "cell_type": "code",
   "execution_count": 8,
   "id": "64f6d733",
   "metadata": {},
   "outputs": [
    {
     "name": "stdout",
     "output_type": "stream",
     "text": [
      "Class counts: Counter({8: 928, 1: 680, 0: 558, 9: 553, 3: 511, 10: 496, 4: 472, 6: 420, 2: 380, 5: 301, 7: 185})\n",
      "Class weights: {0: '9.828', 1: '8.065', 2: '14.432', 3: '10.732', 4: '11.619', 5: '18.219', 6: '13.057', 7: '29.643', 8: '5.909', 9: '9.917', 10: '11.056'}\n",
      "\n",
      "Model: CNN_V1_reg\n",
      "Total parameters: 9,709,739\n",
      "Trainable parameters: 9,709,739\n",
      "\n"
     ]
    },
    {
     "name": "stderr",
     "output_type": "stream",
     "text": [
      "Epoch 1/50 [Train]: 100%|██████████| 86/86 [00:33<00:00,  2.60it/s]\n",
      "Epoch 1/50 [Val]: 100%|██████████| 11/11 [00:09<00:00,  1.14it/s]\n"
     ]
    },
    {
     "name": "stdout",
     "output_type": "stream",
     "text": [
      "Epoch 1/50: Train Loss=2.2192, Train Acc=0.2380, Val Loss=1.9785, Val Acc=0.4751, LR=0.001000\n",
      "✓ Best model saved in d:\\Uni\\Master\\1 Bimestre\\Foundations\\Assignments\\Weather-Clasification\\models\\best_model_CNN_V1_reg.pth (val_acc=0.4751)\n"
     ]
    },
    {
     "name": "stderr",
     "output_type": "stream",
     "text": [
      "Epoch 2/50 [Train]: 100%|██████████| 86/86 [00:31<00:00,  2.77it/s]\n",
      "Epoch 2/50 [Val]: 100%|██████████| 11/11 [00:08<00:00,  1.33it/s]\n"
     ]
    },
    {
     "name": "stdout",
     "output_type": "stream",
     "text": [
      "Epoch 2/50: Train Loss=1.8721, Train Acc=0.4435, Val Loss=1.7961, Val Acc=0.5147, LR=0.001000\n",
      "✓ Best model saved in d:\\Uni\\Master\\1 Bimestre\\Foundations\\Assignments\\Weather-Clasification\\models\\best_model_CNN_V1_reg.pth (val_acc=0.5147)\n"
     ]
    },
    {
     "name": "stderr",
     "output_type": "stream",
     "text": [
      "Epoch 3/50 [Train]: 100%|██████████| 86/86 [00:28<00:00,  2.99it/s]\n",
      "Epoch 3/50 [Val]: 100%|██████████| 11/11 [00:08<00:00,  1.27it/s]\n"
     ]
    },
    {
     "name": "stdout",
     "output_type": "stream",
     "text": [
      "Epoch 3/50: Train Loss=1.7417, Train Acc=0.5106, Val Loss=1.7600, Val Acc=0.5543, LR=0.001000\n",
      "✓ Best model saved in d:\\Uni\\Master\\1 Bimestre\\Foundations\\Assignments\\Weather-Clasification\\models\\best_model_CNN_V1_reg.pth (val_acc=0.5543)\n"
     ]
    },
    {
     "name": "stderr",
     "output_type": "stream",
     "text": [
      "Epoch 4/50 [Train]: 100%|██████████| 86/86 [00:32<00:00,  2.63it/s]\n",
      "Epoch 4/50 [Val]: 100%|██████████| 11/11 [00:09<00:00,  1.19it/s]\n"
     ]
    },
    {
     "name": "stdout",
     "output_type": "stream",
     "text": [
      "Epoch 4/50: Train Loss=1.6394, Train Acc=0.5607, Val Loss=1.6009, Val Acc=0.5689, LR=0.001000\n",
      "✓ Best model saved in d:\\Uni\\Master\\1 Bimestre\\Foundations\\Assignments\\Weather-Clasification\\models\\best_model_CNN_V1_reg.pth (val_acc=0.5689)\n"
     ]
    },
    {
     "name": "stderr",
     "output_type": "stream",
     "text": [
      "Epoch 5/50 [Train]: 100%|██████████| 86/86 [00:30<00:00,  2.82it/s]\n",
      "Epoch 5/50 [Val]: 100%|██████████| 11/11 [00:08<00:00,  1.22it/s]\n"
     ]
    },
    {
     "name": "stdout",
     "output_type": "stream",
     "text": [
      "Epoch 5/50: Train Loss=1.5711, Train Acc=0.5934, Val Loss=1.5486, Val Acc=0.6114, LR=0.001000\n",
      "✓ Best model saved in d:\\Uni\\Master\\1 Bimestre\\Foundations\\Assignments\\Weather-Clasification\\models\\best_model_CNN_V1_reg.pth (val_acc=0.6114)\n"
     ]
    },
    {
     "name": "stderr",
     "output_type": "stream",
     "text": [
      "Epoch 6/50 [Train]: 100%|██████████| 86/86 [00:30<00:00,  2.86it/s]\n",
      "Epoch 6/50 [Val]: 100%|██████████| 11/11 [00:08<00:00,  1.26it/s]\n"
     ]
    },
    {
     "name": "stdout",
     "output_type": "stream",
     "text": [
      "Epoch 6/50: Train Loss=1.5305, Train Acc=0.6103, Val Loss=1.5771, Val Acc=0.6070, LR=0.001000\n"
     ]
    },
    {
     "name": "stderr",
     "output_type": "stream",
     "text": [
      "Epoch 7/50 [Train]: 100%|██████████| 86/86 [00:29<00:00,  2.93it/s]\n",
      "Epoch 7/50 [Val]: 100%|██████████| 11/11 [00:08<00:00,  1.25it/s]\n"
     ]
    },
    {
     "name": "stdout",
     "output_type": "stream",
     "text": [
      "Epoch 7/50: Train Loss=1.4851, Train Acc=0.6307, Val Loss=1.4562, Val Acc=0.6496, LR=0.001000\n",
      "✓ Best model saved in d:\\Uni\\Master\\1 Bimestre\\Foundations\\Assignments\\Weather-Clasification\\models\\best_model_CNN_V1_reg.pth (val_acc=0.6496)\n"
     ]
    },
    {
     "name": "stderr",
     "output_type": "stream",
     "text": [
      "Epoch 8/50 [Train]: 100%|██████████| 86/86 [00:29<00:00,  2.88it/s]\n",
      "Epoch 8/50 [Val]: 100%|██████████| 11/11 [00:08<00:00,  1.26it/s]\n"
     ]
    },
    {
     "name": "stdout",
     "output_type": "stream",
     "text": [
      "Epoch 8/50: Train Loss=1.4570, Train Acc=0.6448, Val Loss=1.5035, Val Acc=0.6085, LR=0.001000\n"
     ]
    },
    {
     "name": "stderr",
     "output_type": "stream",
     "text": [
      "Epoch 9/50 [Train]: 100%|██████████| 86/86 [00:30<00:00,  2.81it/s]\n",
      "Epoch 9/50 [Val]: 100%|██████████| 11/11 [00:08<00:00,  1.24it/s]\n"
     ]
    },
    {
     "name": "stdout",
     "output_type": "stream",
     "text": [
      "Epoch 9/50: Train Loss=1.4091, Train Acc=0.6597, Val Loss=1.4845, Val Acc=0.6642, LR=0.001000\n",
      "✓ Best model saved in d:\\Uni\\Master\\1 Bimestre\\Foundations\\Assignments\\Weather-Clasification\\models\\best_model_CNN_V1_reg.pth (val_acc=0.6642)\n"
     ]
    },
    {
     "name": "stderr",
     "output_type": "stream",
     "text": [
      "Epoch 10/50 [Train]: 100%|██████████| 86/86 [00:28<00:00,  3.04it/s]\n",
      "Epoch 10/50 [Val]: 100%|██████████| 11/11 [00:08<00:00,  1.30it/s]\n"
     ]
    },
    {
     "name": "stdout",
     "output_type": "stream",
     "text": [
      "Epoch 10/50: Train Loss=1.3964, Train Acc=0.6774, Val Loss=1.4202, Val Acc=0.6950, LR=0.001000\n",
      "✓ Best model saved in d:\\Uni\\Master\\1 Bimestre\\Foundations\\Assignments\\Weather-Clasification\\models\\best_model_CNN_V1_reg.pth (val_acc=0.6950)\n"
     ]
    },
    {
     "name": "stderr",
     "output_type": "stream",
     "text": [
      "Epoch 11/50 [Train]: 100%|██████████| 86/86 [00:29<00:00,  2.96it/s]\n",
      "Epoch 11/50 [Val]: 100%|██████████| 11/11 [00:08<00:00,  1.32it/s]\n"
     ]
    },
    {
     "name": "stdout",
     "output_type": "stream",
     "text": [
      "Epoch 11/50: Train Loss=1.3477, Train Acc=0.6907, Val Loss=1.3818, Val Acc=0.6965, LR=0.001000\n",
      "✓ Best model saved in d:\\Uni\\Master\\1 Bimestre\\Foundations\\Assignments\\Weather-Clasification\\models\\best_model_CNN_V1_reg.pth (val_acc=0.6965)\n"
     ]
    },
    {
     "name": "stderr",
     "output_type": "stream",
     "text": [
      "Epoch 12/50 [Train]: 100%|██████████| 86/86 [00:27<00:00,  3.07it/s]\n",
      "Epoch 12/50 [Val]: 100%|██████████| 11/11 [00:08<00:00,  1.35it/s]\n"
     ]
    },
    {
     "name": "stdout",
     "output_type": "stream",
     "text": [
      "Epoch 12/50: Train Loss=1.3281, Train Acc=0.6938, Val Loss=1.3827, Val Acc=0.6862, LR=0.001000\n"
     ]
    },
    {
     "name": "stderr",
     "output_type": "stream",
     "text": [
      "Epoch 13/50 [Train]: 100%|██████████| 86/86 [00:30<00:00,  2.83it/s]\n",
      "Epoch 13/50 [Val]: 100%|██████████| 11/11 [00:08<00:00,  1.33it/s]\n"
     ]
    },
    {
     "name": "stdout",
     "output_type": "stream",
     "text": [
      "Epoch 13/50: Train Loss=1.3152, Train Acc=0.7039, Val Loss=1.3990, Val Acc=0.7023, LR=0.001000\n",
      "✓ Best model saved in d:\\Uni\\Master\\1 Bimestre\\Foundations\\Assignments\\Weather-Clasification\\models\\best_model_CNN_V1_reg.pth (val_acc=0.7023)\n"
     ]
    },
    {
     "name": "stderr",
     "output_type": "stream",
     "text": [
      "Epoch 14/50 [Train]: 100%|██████████| 86/86 [00:27<00:00,  3.11it/s]\n",
      "Epoch 14/50 [Val]: 100%|██████████| 11/11 [00:08<00:00,  1.34it/s]\n"
     ]
    },
    {
     "name": "stdout",
     "output_type": "stream",
     "text": [
      "Epoch 14/50: Train Loss=1.2692, Train Acc=0.7172, Val Loss=1.3917, Val Acc=0.6833, LR=0.001000\n"
     ]
    },
    {
     "name": "stderr",
     "output_type": "stream",
     "text": [
      "Epoch 15/50 [Train]: 100%|██████████| 86/86 [00:27<00:00,  3.08it/s]\n",
      "Epoch 15/50 [Val]: 100%|██████████| 11/11 [00:08<00:00,  1.32it/s]\n"
     ]
    },
    {
     "name": "stdout",
     "output_type": "stream",
     "text": [
      "Epoch 15/50: Train Loss=1.2230, Train Acc=0.7436, Val Loss=1.3421, Val Acc=0.6877, LR=0.001000\n"
     ]
    },
    {
     "name": "stderr",
     "output_type": "stream",
     "text": [
      "Epoch 16/50 [Train]: 100%|██████████| 86/86 [00:28<00:00,  3.01it/s]\n",
      "Epoch 16/50 [Val]: 100%|██████████| 11/11 [00:08<00:00,  1.26it/s]\n"
     ]
    },
    {
     "name": "stdout",
     "output_type": "stream",
     "text": [
      "Epoch 16/50: Train Loss=1.2046, Train Acc=0.7515, Val Loss=1.3784, Val Acc=0.7023, LR=0.001000\n"
     ]
    },
    {
     "name": "stderr",
     "output_type": "stream",
     "text": [
      "Epoch 17/50 [Train]: 100%|██████████| 86/86 [00:28<00:00,  3.07it/s]\n",
      "Epoch 17/50 [Val]: 100%|██████████| 11/11 [00:08<00:00,  1.36it/s]\n"
     ]
    },
    {
     "name": "stdout",
     "output_type": "stream",
     "text": [
      "Epoch 17/50: Train Loss=1.1744, Train Acc=0.7717, Val Loss=1.3323, Val Acc=0.7170, LR=0.001000\n",
      "✓ Best model saved in d:\\Uni\\Master\\1 Bimestre\\Foundations\\Assignments\\Weather-Clasification\\models\\best_model_CNN_V1_reg.pth (val_acc=0.7170)\n"
     ]
    },
    {
     "name": "stderr",
     "output_type": "stream",
     "text": [
      "Epoch 18/50 [Train]: 100%|██████████| 86/86 [00:27<00:00,  3.10it/s]\n",
      "Epoch 18/50 [Val]: 100%|██████████| 11/11 [00:08<00:00,  1.23it/s]\n"
     ]
    },
    {
     "name": "stdout",
     "output_type": "stream",
     "text": [
      "Epoch 18/50: Train Loss=1.1388, Train Acc=0.7857, Val Loss=1.3366, Val Acc=0.6994, LR=0.001000\n"
     ]
    },
    {
     "name": "stderr",
     "output_type": "stream",
     "text": [
      "Epoch 19/50 [Train]: 100%|██████████| 86/86 [00:27<00:00,  3.13it/s]\n",
      "Epoch 19/50 [Val]: 100%|██████████| 11/11 [00:07<00:00,  1.38it/s]\n"
     ]
    },
    {
     "name": "stdout",
     "output_type": "stream",
     "text": [
      "Epoch 19/50: Train Loss=1.0980, Train Acc=0.8043, Val Loss=1.2794, Val Acc=0.7449, LR=0.001000\n",
      "✓ Best model saved in d:\\Uni\\Master\\1 Bimestre\\Foundations\\Assignments\\Weather-Clasification\\models\\best_model_CNN_V1_reg.pth (val_acc=0.7449)\n"
     ]
    },
    {
     "name": "stderr",
     "output_type": "stream",
     "text": [
      "Epoch 20/50 [Train]: 100%|██████████| 86/86 [00:26<00:00,  3.21it/s]\n",
      "Epoch 20/50 [Val]: 100%|██████████| 11/11 [00:07<00:00,  1.39it/s]\n"
     ]
    },
    {
     "name": "stdout",
     "output_type": "stream",
     "text": [
      "Epoch 20/50: Train Loss=1.0594, Train Acc=0.8211, Val Loss=1.3137, Val Acc=0.7126, LR=0.001000\n"
     ]
    },
    {
     "name": "stderr",
     "output_type": "stream",
     "text": [
      "Epoch 21/50 [Train]: 100%|██████████| 86/86 [00:27<00:00,  3.13it/s]\n",
      "Epoch 21/50 [Val]: 100%|██████████| 11/11 [00:08<00:00,  1.37it/s]\n"
     ]
    },
    {
     "name": "stdout",
     "output_type": "stream",
     "text": [
      "Epoch 21/50: Train Loss=1.0317, Train Acc=0.8299, Val Loss=1.3108, Val Acc=0.7185, LR=0.001000\n"
     ]
    },
    {
     "name": "stderr",
     "output_type": "stream",
     "text": [
      "Epoch 22/50 [Train]: 100%|██████████| 86/86 [00:27<00:00,  3.16it/s]\n",
      "Epoch 22/50 [Val]: 100%|██████████| 11/11 [00:08<00:00,  1.28it/s]\n"
     ]
    },
    {
     "name": "stdout",
     "output_type": "stream",
     "text": [
      "Epoch 22/50: Train Loss=1.0046, Train Acc=0.8441, Val Loss=1.2818, Val Acc=0.7273, LR=0.001000\n"
     ]
    },
    {
     "name": "stderr",
     "output_type": "stream",
     "text": [
      "Epoch 23/50 [Train]: 100%|██████████| 86/86 [00:27<00:00,  3.14it/s]\n",
      "Epoch 23/50 [Val]: 100%|██████████| 11/11 [00:07<00:00,  1.42it/s]\n"
     ]
    },
    {
     "name": "stdout",
     "output_type": "stream",
     "text": [
      "Epoch 23/50: Train Loss=0.9744, Train Acc=0.8558, Val Loss=1.3189, Val Acc=0.7273, LR=0.001000\n"
     ]
    },
    {
     "name": "stderr",
     "output_type": "stream",
     "text": [
      "Epoch 24/50 [Train]: 100%|██████████| 86/86 [00:27<00:00,  3.13it/s]\n",
      "Epoch 24/50 [Val]: 100%|██████████| 11/11 [00:07<00:00,  1.39it/s]\n"
     ]
    },
    {
     "name": "stdout",
     "output_type": "stream",
     "text": [
      "Epoch 24/50: Train Loss=0.9692, Train Acc=0.8616, Val Loss=1.3089, Val Acc=0.7214, LR=0.001000\n"
     ]
    },
    {
     "name": "stderr",
     "output_type": "stream",
     "text": [
      "Epoch 25/50 [Train]: 100%|██████████| 86/86 [00:26<00:00,  3.20it/s]\n",
      "Epoch 25/50 [Val]: 100%|██████████| 11/11 [00:07<00:00,  1.41it/s]\n"
     ]
    },
    {
     "name": "stdout",
     "output_type": "stream",
     "text": [
      "Epoch 25/50: Train Loss=0.9282, Train Acc=0.8786, Val Loss=1.3322, Val Acc=0.7141, LR=0.001000\n"
     ]
    },
    {
     "name": "stderr",
     "output_type": "stream",
     "text": [
      "Epoch 26/50 [Train]: 100%|██████████| 86/86 [00:26<00:00,  3.19it/s]\n",
      "Epoch 26/50 [Val]: 100%|██████████| 11/11 [00:07<00:00,  1.41it/s]"
     ]
    },
    {
     "name": "stdout",
     "output_type": "stream",
     "text": [
      "Epoch 26/50: Train Loss=0.8591, Train Acc=0.9081, Val Loss=1.2661, Val Acc=0.7361, LR=0.000500\n",
      "\n",
      "Early stopping triggered after 26 epochs\n",
      "No improvement for 7 consecutive epochs\n",
      "\n",
      "Training complete!\n",
      "Best val_acc: 0.7449\n",
      "Best val_loss: 1.2794\n",
      "Metrics saved in d:\\Uni\\Master\\1 Bimestre\\Foundations\\Assignments\\Weather-Clasification\\reports\\metrics\\metrics_CNN_V1_reg.pkl\n",
      "Model saved in d:\\Uni\\Master\\1 Bimestre\\Foundations\\Assignments\\Weather-Clasification\\models\\best_model_CNN_V1_reg.pth\n"
     ]
    },
    {
     "name": "stderr",
     "output_type": "stream",
     "text": [
      "\n"
     ]
    }
   ],
   "source": [
    "input_dim = 64*64*3  # matches the Resize transform\n",
    "model = train_model_improved(CNN_V1_reg, \n",
    "                    train_dir=\"../../data/train\", \n",
    "                    val_dir=\"../../data/val\", \n",
    "                    input_dim=input_dim,\n",
    "                    num_classes=11,\n",
    "                    batch_size=64,\n",
    "                    epochs=50,\n",
    "                    lr=1e-3,\n",
    "                    device=\"cuda\" if torch.cuda.is_available() else \"cpu\")"
   ]
  },
  {
   "cell_type": "code",
   "execution_count": 9,
   "id": "004dd488",
   "metadata": {},
   "outputs": [
    {
     "name": "stdout",
     "output_type": "stream",
     "text": [
      "Class counts: Counter({8: 928, 1: 680, 0: 558, 9: 553, 3: 511, 10: 496, 4: 472, 6: 420, 2: 380, 5: 301, 7: 185})\n",
      "Class weights: {0: '9.828', 1: '8.065', 2: '14.432', 3: '10.732', 4: '11.619', 5: '18.219', 6: '13.057', 7: '29.643', 8: '5.909', 9: '9.917', 10: '11.056'}\n",
      "\n",
      "Model: CNN_V2\n",
      "Total parameters: 19,069,003\n",
      "Trainable parameters: 19,069,003\n",
      "\n"
     ]
    },
    {
     "name": "stderr",
     "output_type": "stream",
     "text": [
      "Epoch 1/50 [Train]: 100%|██████████| 86/86 [00:46<00:00,  1.86it/s]\n",
      "Epoch 1/50 [Val]: 100%|██████████| 11/11 [00:08<00:00,  1.32it/s]\n"
     ]
    },
    {
     "name": "stdout",
     "output_type": "stream",
     "text": [
      "Epoch 1/50: Train Loss=2.2052, Train Acc=0.2994, Val Loss=1.9236, Val Acc=0.4619, LR=0.001000\n",
      "✓ Best model saved in d:\\Uni\\Master\\1 Bimestre\\Foundations\\Assignments\\Weather-Clasification\\models\\best_model_CNN_V2.pth (val_acc=0.4619)\n"
     ]
    },
    {
     "name": "stderr",
     "output_type": "stream",
     "text": [
      "Epoch 2/50 [Train]: 100%|██████████| 86/86 [00:40<00:00,  2.13it/s]\n",
      "Epoch 2/50 [Val]: 100%|██████████| 11/11 [00:09<00:00,  1.19it/s]\n"
     ]
    },
    {
     "name": "stdout",
     "output_type": "stream",
     "text": [
      "Epoch 2/50: Train Loss=1.7245, Train Acc=0.4945, Val Loss=1.5925, Val Acc=0.5601, LR=0.001000\n",
      "✓ Best model saved in d:\\Uni\\Master\\1 Bimestre\\Foundations\\Assignments\\Weather-Clasification\\models\\best_model_CNN_V2.pth (val_acc=0.5601)\n"
     ]
    },
    {
     "name": "stderr",
     "output_type": "stream",
     "text": [
      "Epoch 3/50 [Train]: 100%|██████████| 86/86 [00:41<00:00,  2.06it/s]\n",
      "Epoch 3/50 [Val]: 100%|██████████| 11/11 [00:08<00:00,  1.28it/s]\n"
     ]
    },
    {
     "name": "stdout",
     "output_type": "stream",
     "text": [
      "Epoch 3/50: Train Loss=1.5548, Train Acc=0.5695, Val Loss=1.5392, Val Acc=0.6173, LR=0.001000\n",
      "✓ Best model saved in d:\\Uni\\Master\\1 Bimestre\\Foundations\\Assignments\\Weather-Clasification\\models\\best_model_CNN_V2.pth (val_acc=0.6173)\n"
     ]
    },
    {
     "name": "stderr",
     "output_type": "stream",
     "text": [
      "Epoch 4/50 [Train]: 100%|██████████| 86/86 [00:40<00:00,  2.11it/s]\n",
      "Epoch 4/50 [Val]: 100%|██████████| 11/11 [00:08<00:00,  1.27it/s]\n"
     ]
    },
    {
     "name": "stdout",
     "output_type": "stream",
     "text": [
      "Epoch 4/50: Train Loss=1.4776, Train Acc=0.6008, Val Loss=1.4621, Val Acc=0.6466, LR=0.001000\n",
      "✓ Best model saved in d:\\Uni\\Master\\1 Bimestre\\Foundations\\Assignments\\Weather-Clasification\\models\\best_model_CNN_V2.pth (val_acc=0.6466)\n"
     ]
    },
    {
     "name": "stderr",
     "output_type": "stream",
     "text": [
      "Epoch 5/50 [Train]: 100%|██████████| 86/86 [00:41<00:00,  2.07it/s]\n",
      "Epoch 5/50 [Val]: 100%|██████████| 11/11 [00:08<00:00,  1.27it/s]\n"
     ]
    },
    {
     "name": "stdout",
     "output_type": "stream",
     "text": [
      "Epoch 5/50: Train Loss=1.4162, Train Acc=0.6441, Val Loss=1.4549, Val Acc=0.6642, LR=0.001000\n",
      "✓ Best model saved in d:\\Uni\\Master\\1 Bimestre\\Foundations\\Assignments\\Weather-Clasification\\models\\best_model_CNN_V2.pth (val_acc=0.6642)\n"
     ]
    },
    {
     "name": "stderr",
     "output_type": "stream",
     "text": [
      "Epoch 6/50 [Train]: 100%|██████████| 86/86 [00:41<00:00,  2.09it/s]\n",
      "Epoch 6/50 [Val]: 100%|██████████| 11/11 [00:08<00:00,  1.22it/s]\n"
     ]
    },
    {
     "name": "stdout",
     "output_type": "stream",
     "text": [
      "Epoch 6/50: Train Loss=1.3377, Train Acc=0.6678, Val Loss=1.4013, Val Acc=0.6305, LR=0.001000\n"
     ]
    },
    {
     "name": "stderr",
     "output_type": "stream",
     "text": [
      "Epoch 7/50 [Train]: 100%|██████████| 86/86 [00:40<00:00,  2.11it/s]\n",
      "Epoch 7/50 [Val]: 100%|██████████| 11/11 [00:08<00:00,  1.27it/s]\n"
     ]
    },
    {
     "name": "stdout",
     "output_type": "stream",
     "text": [
      "Epoch 7/50: Train Loss=1.3212, Train Acc=0.6800, Val Loss=1.4118, Val Acc=0.6276, LR=0.001000\n"
     ]
    },
    {
     "name": "stderr",
     "output_type": "stream",
     "text": [
      "Epoch 8/50 [Train]: 100%|██████████| 86/86 [00:40<00:00,  2.11it/s]\n",
      "Epoch 8/50 [Val]: 100%|██████████| 11/11 [00:09<00:00,  1.21it/s]\n"
     ]
    },
    {
     "name": "stdout",
     "output_type": "stream",
     "text": [
      "Epoch 8/50: Train Loss=1.2819, Train Acc=0.7024, Val Loss=1.3719, Val Acc=0.6686, LR=0.001000\n",
      "✓ Best model saved in d:\\Uni\\Master\\1 Bimestre\\Foundations\\Assignments\\Weather-Clasification\\models\\best_model_CNN_V2.pth (val_acc=0.6686)\n"
     ]
    },
    {
     "name": "stderr",
     "output_type": "stream",
     "text": [
      "Epoch 9/50 [Train]: 100%|██████████| 86/86 [00:41<00:00,  2.08it/s]\n",
      "Epoch 9/50 [Val]: 100%|██████████| 11/11 [00:08<00:00,  1.26it/s]\n"
     ]
    },
    {
     "name": "stdout",
     "output_type": "stream",
     "text": [
      "Epoch 9/50: Train Loss=1.2332, Train Acc=0.7174, Val Loss=1.3028, Val Acc=0.7214, LR=0.001000\n",
      "✓ Best model saved in d:\\Uni\\Master\\1 Bimestre\\Foundations\\Assignments\\Weather-Clasification\\models\\best_model_CNN_V2.pth (val_acc=0.7214)\n"
     ]
    },
    {
     "name": "stderr",
     "output_type": "stream",
     "text": [
      "Epoch 10/50 [Train]: 100%|██████████| 86/86 [00:41<00:00,  2.06it/s]\n",
      "Epoch 10/50 [Val]: 100%|██████████| 11/11 [00:08<00:00,  1.31it/s]\n"
     ]
    },
    {
     "name": "stdout",
     "output_type": "stream",
     "text": [
      "Epoch 10/50: Train Loss=1.1860, Train Acc=0.7356, Val Loss=1.3320, Val Acc=0.6833, LR=0.001000\n"
     ]
    },
    {
     "name": "stderr",
     "output_type": "stream",
     "text": [
      "Epoch 11/50 [Train]: 100%|██████████| 86/86 [00:44<00:00,  1.92it/s]\n",
      "Epoch 11/50 [Val]: 100%|██████████| 11/11 [00:08<00:00,  1.25it/s]\n"
     ]
    },
    {
     "name": "stdout",
     "output_type": "stream",
     "text": [
      "Epoch 11/50: Train Loss=1.1458, Train Acc=0.7546, Val Loss=1.3301, Val Acc=0.7023, LR=0.001000\n"
     ]
    },
    {
     "name": "stderr",
     "output_type": "stream",
     "text": [
      "Epoch 12/50 [Train]: 100%|██████████| 86/86 [00:41<00:00,  2.08it/s]\n",
      "Epoch 12/50 [Val]: 100%|██████████| 11/11 [00:09<00:00,  1.17it/s]\n"
     ]
    },
    {
     "name": "stdout",
     "output_type": "stream",
     "text": [
      "Epoch 12/50: Train Loss=1.1064, Train Acc=0.7660, Val Loss=1.2900, Val Acc=0.7067, LR=0.001000\n"
     ]
    },
    {
     "name": "stderr",
     "output_type": "stream",
     "text": [
      "Epoch 13/50 [Train]: 100%|██████████| 86/86 [00:41<00:00,  2.09it/s]\n",
      "Epoch 13/50 [Val]: 100%|██████████| 11/11 [00:08<00:00,  1.25it/s]\n"
     ]
    },
    {
     "name": "stdout",
     "output_type": "stream",
     "text": [
      "Epoch 13/50: Train Loss=1.0619, Train Acc=0.7961, Val Loss=1.3043, Val Acc=0.7185, LR=0.001000\n"
     ]
    },
    {
     "name": "stderr",
     "output_type": "stream",
     "text": [
      "Epoch 14/50 [Train]: 100%|██████████| 86/86 [00:40<00:00,  2.10it/s]\n",
      "Epoch 14/50 [Val]: 100%|██████████| 11/11 [00:09<00:00,  1.12it/s]\n"
     ]
    },
    {
     "name": "stdout",
     "output_type": "stream",
     "text": [
      "Epoch 14/50: Train Loss=1.0121, Train Acc=0.8107, Val Loss=1.3187, Val Acc=0.7346, LR=0.001000\n",
      "✓ Best model saved in d:\\Uni\\Master\\1 Bimestre\\Foundations\\Assignments\\Weather-Clasification\\models\\best_model_CNN_V2.pth (val_acc=0.7346)\n"
     ]
    },
    {
     "name": "stderr",
     "output_type": "stream",
     "text": [
      "Epoch 15/50 [Train]: 100%|██████████| 86/86 [00:41<00:00,  2.07it/s]\n",
      "Epoch 15/50 [Val]: 100%|██████████| 11/11 [00:08<00:00,  1.23it/s]\n"
     ]
    },
    {
     "name": "stdout",
     "output_type": "stream",
     "text": [
      "Epoch 15/50: Train Loss=0.9758, Train Acc=0.8392, Val Loss=1.2951, Val Acc=0.7258, LR=0.001000\n"
     ]
    },
    {
     "name": "stderr",
     "output_type": "stream",
     "text": [
      "Epoch 16/50 [Train]: 100%|██████████| 86/86 [00:41<00:00,  2.08it/s]\n",
      "Epoch 16/50 [Val]: 100%|██████████| 11/11 [00:09<00:00,  1.14it/s]\n"
     ]
    },
    {
     "name": "stdout",
     "output_type": "stream",
     "text": [
      "Epoch 16/50: Train Loss=0.9276, Train Acc=0.8525, Val Loss=1.2876, Val Acc=0.7449, LR=0.001000\n",
      "✓ Best model saved in d:\\Uni\\Master\\1 Bimestre\\Foundations\\Assignments\\Weather-Clasification\\models\\best_model_CNN_V2.pth (val_acc=0.7449)\n"
     ]
    },
    {
     "name": "stderr",
     "output_type": "stream",
     "text": [
      "Epoch 17/50 [Train]: 100%|██████████| 86/86 [00:41<00:00,  2.08it/s]\n",
      "Epoch 17/50 [Val]: 100%|██████████| 11/11 [00:09<00:00,  1.21it/s]\n"
     ]
    },
    {
     "name": "stdout",
     "output_type": "stream",
     "text": [
      "Epoch 17/50: Train Loss=0.8699, Train Acc=0.8815, Val Loss=1.3317, Val Acc=0.7214, LR=0.001000\n"
     ]
    },
    {
     "name": "stderr",
     "output_type": "stream",
     "text": [
      "Epoch 18/50 [Train]: 100%|██████████| 86/86 [00:41<00:00,  2.08it/s]\n",
      "Epoch 18/50 [Val]: 100%|██████████| 11/11 [00:08<00:00,  1.23it/s]\n"
     ]
    },
    {
     "name": "stdout",
     "output_type": "stream",
     "text": [
      "Epoch 18/50: Train Loss=0.8460, Train Acc=0.8944, Val Loss=1.3059, Val Acc=0.7434, LR=0.001000\n"
     ]
    },
    {
     "name": "stderr",
     "output_type": "stream",
     "text": [
      "Epoch 19/50 [Train]: 100%|██████████| 86/86 [00:41<00:00,  2.06it/s]\n",
      "Epoch 19/50 [Val]: 100%|██████████| 11/11 [00:08<00:00,  1.24it/s]\n"
     ]
    },
    {
     "name": "stdout",
     "output_type": "stream",
     "text": [
      "Epoch 19/50: Train Loss=0.8026, Train Acc=0.9130, Val Loss=1.2979, Val Acc=0.7405, LR=0.001000\n"
     ]
    },
    {
     "name": "stderr",
     "output_type": "stream",
     "text": [
      "Epoch 20/50 [Train]: 100%|██████████| 86/86 [00:41<00:00,  2.10it/s]\n",
      "Epoch 20/50 [Val]: 100%|██████████| 11/11 [00:08<00:00,  1.22it/s]\n"
     ]
    },
    {
     "name": "stdout",
     "output_type": "stream",
     "text": [
      "Epoch 20/50: Train Loss=0.7764, Train Acc=0.9260, Val Loss=1.2882, Val Acc=0.7537, LR=0.001000\n",
      "✓ Best model saved in d:\\Uni\\Master\\1 Bimestre\\Foundations\\Assignments\\Weather-Clasification\\models\\best_model_CNN_V2.pth (val_acc=0.7537)\n"
     ]
    },
    {
     "name": "stderr",
     "output_type": "stream",
     "text": [
      "Epoch 21/50 [Train]: 100%|██████████| 86/86 [00:41<00:00,  2.09it/s]\n",
      "Epoch 21/50 [Val]: 100%|██████████| 11/11 [00:09<00:00,  1.15it/s]\n"
     ]
    },
    {
     "name": "stdout",
     "output_type": "stream",
     "text": [
      "Epoch 21/50: Train Loss=0.7472, Train Acc=0.9407, Val Loss=1.3034, Val Acc=0.7551, LR=0.001000\n",
      "✓ Best model saved in d:\\Uni\\Master\\1 Bimestre\\Foundations\\Assignments\\Weather-Clasification\\models\\best_model_CNN_V2.pth (val_acc=0.7551)\n"
     ]
    },
    {
     "name": "stderr",
     "output_type": "stream",
     "text": [
      "Epoch 22/50 [Train]: 100%|██████████| 86/86 [00:41<00:00,  2.09it/s]\n",
      "Epoch 22/50 [Val]: 100%|██████████| 11/11 [00:09<00:00,  1.13it/s]\n"
     ]
    },
    {
     "name": "stdout",
     "output_type": "stream",
     "text": [
      "Epoch 22/50: Train Loss=0.7353, Train Acc=0.9466, Val Loss=1.2966, Val Acc=0.7610, LR=0.001000\n",
      "✓ Best model saved in d:\\Uni\\Master\\1 Bimestre\\Foundations\\Assignments\\Weather-Clasification\\models\\best_model_CNN_V2.pth (val_acc=0.7610)\n"
     ]
    },
    {
     "name": "stderr",
     "output_type": "stream",
     "text": [
      "Epoch 23/50 [Train]: 100%|██████████| 86/86 [00:41<00:00,  2.08it/s]\n",
      "Epoch 23/50 [Val]: 100%|██████████| 11/11 [00:09<00:00,  1.21it/s]\n"
     ]
    },
    {
     "name": "stdout",
     "output_type": "stream",
     "text": [
      "Epoch 23/50: Train Loss=0.6704, Train Acc=0.9730, Val Loss=1.2576, Val Acc=0.7595, LR=0.000500\n"
     ]
    },
    {
     "name": "stderr",
     "output_type": "stream",
     "text": [
      "Epoch 24/50 [Train]: 100%|██████████| 86/86 [00:41<00:00,  2.09it/s]\n",
      "Epoch 24/50 [Val]: 100%|██████████| 11/11 [00:14<00:00,  1.29s/it]\n"
     ]
    },
    {
     "name": "stdout",
     "output_type": "stream",
     "text": [
      "Epoch 24/50: Train Loss=0.6478, Train Acc=0.9807, Val Loss=1.2823, Val Acc=0.7463, LR=0.000500\n"
     ]
    },
    {
     "name": "stderr",
     "output_type": "stream",
     "text": [
      "Epoch 25/50 [Train]: 100%|██████████| 86/86 [00:41<00:00,  2.07it/s]\n",
      "Epoch 25/50 [Val]: 100%|██████████| 11/11 [00:08<00:00,  1.26it/s]\n"
     ]
    },
    {
     "name": "stdout",
     "output_type": "stream",
     "text": [
      "Epoch 25/50: Train Loss=0.6320, Train Acc=0.9869, Val Loss=1.2610, Val Acc=0.7742, LR=0.000500\n",
      "✓ Best model saved in d:\\Uni\\Master\\1 Bimestre\\Foundations\\Assignments\\Weather-Clasification\\models\\best_model_CNN_V2.pth (val_acc=0.7742)\n"
     ]
    },
    {
     "name": "stderr",
     "output_type": "stream",
     "text": [
      "Epoch 26/50 [Train]: 100%|██████████| 86/86 [00:41<00:00,  2.09it/s]\n",
      "Epoch 26/50 [Val]: 100%|██████████| 11/11 [00:08<00:00,  1.25it/s]\n"
     ]
    },
    {
     "name": "stdout",
     "output_type": "stream",
     "text": [
      "Epoch 26/50: Train Loss=0.6193, Train Acc=0.9889, Val Loss=1.2552, Val Acc=0.7845, LR=0.000500\n",
      "✓ Best model saved in d:\\Uni\\Master\\1 Bimestre\\Foundations\\Assignments\\Weather-Clasification\\models\\best_model_CNN_V2.pth (val_acc=0.7845)\n"
     ]
    },
    {
     "name": "stderr",
     "output_type": "stream",
     "text": [
      "Epoch 27/50 [Train]: 100%|██████████| 86/86 [00:41<00:00,  2.09it/s]\n",
      "Epoch 27/50 [Val]: 100%|██████████| 11/11 [00:08<00:00,  1.23it/s]\n"
     ]
    },
    {
     "name": "stdout",
     "output_type": "stream",
     "text": [
      "Epoch 27/50: Train Loss=0.6132, Train Acc=0.9918, Val Loss=1.2564, Val Acc=0.7713, LR=0.000500\n"
     ]
    },
    {
     "name": "stderr",
     "output_type": "stream",
     "text": [
      "Epoch 28/50 [Train]: 100%|██████████| 86/86 [00:41<00:00,  2.08it/s]\n",
      "Epoch 28/50 [Val]: 100%|██████████| 11/11 [00:09<00:00,  1.18it/s]\n"
     ]
    },
    {
     "name": "stdout",
     "output_type": "stream",
     "text": [
      "Epoch 28/50: Train Loss=0.6080, Train Acc=0.9931, Val Loss=1.2518, Val Acc=0.7727, LR=0.000500\n"
     ]
    },
    {
     "name": "stderr",
     "output_type": "stream",
     "text": [
      "Epoch 29/50 [Train]: 100%|██████████| 86/86 [00:41<00:00,  2.07it/s]\n",
      "Epoch 29/50 [Val]: 100%|██████████| 11/11 [00:08<00:00,  1.24it/s]\n"
     ]
    },
    {
     "name": "stdout",
     "output_type": "stream",
     "text": [
      "Epoch 29/50: Train Loss=0.6019, Train Acc=0.9956, Val Loss=1.2711, Val Acc=0.7595, LR=0.000500\n"
     ]
    },
    {
     "name": "stderr",
     "output_type": "stream",
     "text": [
      "Epoch 30/50 [Train]: 100%|██████████| 86/86 [00:41<00:00,  2.08it/s]\n",
      "Epoch 30/50 [Val]: 100%|██████████| 11/11 [00:09<00:00,  1.19it/s]\n"
     ]
    },
    {
     "name": "stdout",
     "output_type": "stream",
     "text": [
      "Epoch 30/50: Train Loss=0.5981, Train Acc=0.9958, Val Loss=1.2577, Val Acc=0.7683, LR=0.000500\n"
     ]
    },
    {
     "name": "stderr",
     "output_type": "stream",
     "text": [
      "Epoch 31/50 [Train]: 100%|██████████| 86/86 [00:41<00:00,  2.07it/s]\n",
      "Epoch 31/50 [Val]: 100%|██████████| 11/11 [00:08<00:00,  1.30it/s]\n"
     ]
    },
    {
     "name": "stdout",
     "output_type": "stream",
     "text": [
      "Epoch 31/50: Train Loss=0.5953, Train Acc=0.9971, Val Loss=1.2469, Val Acc=0.7845, LR=0.000500\n"
     ]
    },
    {
     "name": "stderr",
     "output_type": "stream",
     "text": [
      "Epoch 32/50 [Train]: 100%|██████████| 86/86 [00:40<00:00,  2.11it/s]\n",
      "Epoch 32/50 [Val]: 100%|██████████| 11/11 [00:08<00:00,  1.24it/s]\n"
     ]
    },
    {
     "name": "stdout",
     "output_type": "stream",
     "text": [
      "Epoch 32/50: Train Loss=0.5940, Train Acc=0.9973, Val Loss=1.2453, Val Acc=0.7669, LR=0.000500\n"
     ]
    },
    {
     "name": "stderr",
     "output_type": "stream",
     "text": [
      "Epoch 33/50 [Train]: 100%|██████████| 86/86 [00:40<00:00,  2.12it/s]\n",
      "Epoch 33/50 [Val]: 100%|██████████| 11/11 [00:08<00:00,  1.27it/s]"
     ]
    },
    {
     "name": "stdout",
     "output_type": "stream",
     "text": [
      "Epoch 33/50: Train Loss=0.5894, Train Acc=0.9982, Val Loss=1.2388, Val Acc=0.7757, LR=0.000500\n",
      "\n",
      "Early stopping triggered after 33 epochs\n",
      "No improvement for 7 consecutive epochs\n",
      "\n",
      "Training complete!\n",
      "Best val_acc: 0.7845\n",
      "Best val_loss: 1.2552\n",
      "Metrics saved in d:\\Uni\\Master\\1 Bimestre\\Foundations\\Assignments\\Weather-Clasification\\reports\\metrics\\metrics_CNN_V2.pkl\n",
      "Model saved in d:\\Uni\\Master\\1 Bimestre\\Foundations\\Assignments\\Weather-Clasification\\models\\best_model_CNN_V2.pth\n"
     ]
    },
    {
     "name": "stderr",
     "output_type": "stream",
     "text": [
      "\n"
     ]
    }
   ],
   "source": [
    "input_dim = 128*128*3  # matches the Resize transform\n",
    "model = train_model_improved(CNN_V2, \n",
    "                    train_dir=\"../../data/train\", \n",
    "                    val_dir=\"../../data/val\", \n",
    "                    input_dim=input_dim,\n",
    "                    num_classes=11,\n",
    "                    batch_size=64,\n",
    "                    epochs=50,\n",
    "                    lr=1e-3,\n",
    "                    device=\"cuda\" if torch.cuda.is_available() else \"cpu\")"
   ]
  },
  {
   "cell_type": "code",
   "execution_count": 10,
   "id": "047debac",
   "metadata": {},
   "outputs": [
    {
     "name": "stdout",
     "output_type": "stream",
     "text": [
      "Class counts: Counter({8: 928, 1: 680, 0: 558, 9: 553, 3: 511, 10: 496, 4: 472, 6: 420, 2: 380, 5: 301, 7: 185})\n",
      "Class weights: {0: '9.828', 1: '8.065', 2: '14.432', 3: '10.732', 4: '11.619', 5: '18.219', 6: '13.057', 7: '29.643', 8: '5.909', 9: '9.917', 10: '11.056'}\n",
      "\n",
      "Model: CNN_V2_reg\n",
      "Total parameters: 19,069,003\n",
      "Trainable parameters: 19,069,003\n",
      "\n"
     ]
    },
    {
     "name": "stderr",
     "output_type": "stream",
     "text": [
      "Epoch 1/50 [Train]: 100%|██████████| 86/86 [00:41<00:00,  2.06it/s]\n",
      "Epoch 1/50 [Val]: 100%|██████████| 11/11 [00:08<00:00,  1.27it/s]\n"
     ]
    },
    {
     "name": "stdout",
     "output_type": "stream",
     "text": [
      "Epoch 1/50: Train Loss=2.2626, Train Acc=0.2496, Val Loss=2.1166, Val Acc=0.2830, LR=0.001000\n",
      "✓ Best model saved in d:\\Uni\\Master\\1 Bimestre\\Foundations\\Assignments\\Weather-Clasification\\models\\best_model_CNN_V2_reg.pth (val_acc=0.2830)\n"
     ]
    },
    {
     "name": "stderr",
     "output_type": "stream",
     "text": [
      "Epoch 2/50 [Train]: 100%|██████████| 86/86 [00:41<00:00,  2.06it/s]\n",
      "Epoch 2/50 [Val]: 100%|██████████| 11/11 [00:08<00:00,  1.27it/s]\n"
     ]
    },
    {
     "name": "stdout",
     "output_type": "stream",
     "text": [
      "Epoch 2/50: Train Loss=1.9589, Train Acc=0.3366, Val Loss=1.8870, Val Acc=0.4120, LR=0.001000\n",
      "✓ Best model saved in d:\\Uni\\Master\\1 Bimestre\\Foundations\\Assignments\\Weather-Clasification\\models\\best_model_CNN_V2_reg.pth (val_acc=0.4120)\n"
     ]
    },
    {
     "name": "stderr",
     "output_type": "stream",
     "text": [
      "Epoch 3/50 [Train]: 100%|██████████| 86/86 [00:42<00:00,  2.04it/s]\n",
      "Epoch 3/50 [Val]: 100%|██████████| 11/11 [00:08<00:00,  1.31it/s]\n"
     ]
    },
    {
     "name": "stdout",
     "output_type": "stream",
     "text": [
      "Epoch 3/50: Train Loss=1.7695, Train Acc=0.4736, Val Loss=1.7029, Val Acc=0.5293, LR=0.001000\n",
      "✓ Best model saved in d:\\Uni\\Master\\1 Bimestre\\Foundations\\Assignments\\Weather-Clasification\\models\\best_model_CNN_V2_reg.pth (val_acc=0.5293)\n"
     ]
    },
    {
     "name": "stderr",
     "output_type": "stream",
     "text": [
      "Epoch 4/50 [Train]: 100%|██████████| 86/86 [00:41<00:00,  2.06it/s]\n",
      "Epoch 4/50 [Val]: 100%|██████████| 11/11 [00:08<00:00,  1.31it/s]\n"
     ]
    },
    {
     "name": "stdout",
     "output_type": "stream",
     "text": [
      "Epoch 4/50: Train Loss=1.6805, Train Acc=0.5202, Val Loss=1.7061, Val Acc=0.5674, LR=0.001000\n",
      "✓ Best model saved in d:\\Uni\\Master\\1 Bimestre\\Foundations\\Assignments\\Weather-Clasification\\models\\best_model_CNN_V2_reg.pth (val_acc=0.5674)\n"
     ]
    },
    {
     "name": "stderr",
     "output_type": "stream",
     "text": [
      "Epoch 5/50 [Train]: 100%|██████████| 86/86 [00:41<00:00,  2.07it/s]\n",
      "Epoch 5/50 [Val]: 100%|██████████| 11/11 [00:08<00:00,  1.28it/s]\n"
     ]
    },
    {
     "name": "stdout",
     "output_type": "stream",
     "text": [
      "Epoch 5/50: Train Loss=1.5992, Train Acc=0.5852, Val Loss=1.5718, Val Acc=0.6349, LR=0.001000\n",
      "✓ Best model saved in d:\\Uni\\Master\\1 Bimestre\\Foundations\\Assignments\\Weather-Clasification\\models\\best_model_CNN_V2_reg.pth (val_acc=0.6349)\n"
     ]
    },
    {
     "name": "stderr",
     "output_type": "stream",
     "text": [
      "Epoch 6/50 [Train]: 100%|██████████| 86/86 [00:42<00:00,  2.03it/s]\n",
      "Epoch 6/50 [Val]: 100%|██████████| 11/11 [00:09<00:00,  1.19it/s]\n"
     ]
    },
    {
     "name": "stdout",
     "output_type": "stream",
     "text": [
      "Epoch 6/50: Train Loss=1.5612, Train Acc=0.5954, Val Loss=1.5691, Val Acc=0.6232, LR=0.001000\n"
     ]
    },
    {
     "name": "stderr",
     "output_type": "stream",
     "text": [
      "Epoch 7/50 [Train]: 100%|██████████| 86/86 [00:41<00:00,  2.06it/s]\n",
      "Epoch 7/50 [Val]: 100%|██████████| 11/11 [00:08<00:00,  1.27it/s]\n"
     ]
    },
    {
     "name": "stdout",
     "output_type": "stream",
     "text": [
      "Epoch 7/50: Train Loss=1.5070, Train Acc=0.6218, Val Loss=1.4503, Val Acc=0.6804, LR=0.001000\n",
      "✓ Best model saved in d:\\Uni\\Master\\1 Bimestre\\Foundations\\Assignments\\Weather-Clasification\\models\\best_model_CNN_V2_reg.pth (val_acc=0.6804)\n"
     ]
    },
    {
     "name": "stderr",
     "output_type": "stream",
     "text": [
      "Epoch 8/50 [Train]: 100%|██████████| 86/86 [00:41<00:00,  2.05it/s]\n",
      "Epoch 8/50 [Val]: 100%|██████████| 11/11 [00:08<00:00,  1.26it/s]\n"
     ]
    },
    {
     "name": "stdout",
     "output_type": "stream",
     "text": [
      "Epoch 8/50: Train Loss=1.4679, Train Acc=0.6455, Val Loss=1.4695, Val Acc=0.6906, LR=0.001000\n",
      "✓ Best model saved in d:\\Uni\\Master\\1 Bimestre\\Foundations\\Assignments\\Weather-Clasification\\models\\best_model_CNN_V2_reg.pth (val_acc=0.6906)\n"
     ]
    },
    {
     "name": "stderr",
     "output_type": "stream",
     "text": [
      "Epoch 9/50 [Train]: 100%|██████████| 86/86 [00:41<00:00,  2.05it/s]\n",
      "Epoch 9/50 [Val]: 100%|██████████| 11/11 [00:08<00:00,  1.31it/s]\n"
     ]
    },
    {
     "name": "stdout",
     "output_type": "stream",
     "text": [
      "Epoch 9/50: Train Loss=1.4125, Train Acc=0.6692, Val Loss=1.4146, Val Acc=0.7053, LR=0.001000\n",
      "✓ Best model saved in d:\\Uni\\Master\\1 Bimestre\\Foundations\\Assignments\\Weather-Clasification\\models\\best_model_CNN_V2_reg.pth (val_acc=0.7053)\n"
     ]
    },
    {
     "name": "stderr",
     "output_type": "stream",
     "text": [
      "Epoch 10/50 [Train]: 100%|██████████| 86/86 [00:41<00:00,  2.05it/s]\n",
      "Epoch 10/50 [Val]: 100%|██████████| 11/11 [00:08<00:00,  1.31it/s]\n"
     ]
    },
    {
     "name": "stdout",
     "output_type": "stream",
     "text": [
      "Epoch 10/50: Train Loss=1.3789, Train Acc=0.6796, Val Loss=1.4015, Val Acc=0.6921, LR=0.001000\n"
     ]
    },
    {
     "name": "stderr",
     "output_type": "stream",
     "text": [
      "Epoch 11/50 [Train]: 100%|██████████| 86/86 [00:41<00:00,  2.07it/s]\n",
      "Epoch 11/50 [Val]: 100%|██████████| 11/11 [00:08<00:00,  1.29it/s]\n"
     ]
    },
    {
     "name": "stdout",
     "output_type": "stream",
     "text": [
      "Epoch 11/50: Train Loss=1.3519, Train Acc=0.6895, Val Loss=1.4047, Val Acc=0.6979, LR=0.001000\n"
     ]
    },
    {
     "name": "stderr",
     "output_type": "stream",
     "text": [
      "Epoch 12/50 [Train]: 100%|██████████| 86/86 [00:41<00:00,  2.06it/s]\n",
      "Epoch 12/50 [Val]: 100%|██████████| 11/11 [00:08<00:00,  1.28it/s]\n"
     ]
    },
    {
     "name": "stdout",
     "output_type": "stream",
     "text": [
      "Epoch 12/50: Train Loss=1.3067, Train Acc=0.7150, Val Loss=1.3380, Val Acc=0.7199, LR=0.001000\n",
      "✓ Best model saved in d:\\Uni\\Master\\1 Bimestre\\Foundations\\Assignments\\Weather-Clasification\\models\\best_model_CNN_V2_reg.pth (val_acc=0.7199)\n"
     ]
    },
    {
     "name": "stderr",
     "output_type": "stream",
     "text": [
      "Epoch 13/50 [Train]: 100%|██████████| 86/86 [00:41<00:00,  2.06it/s]\n",
      "Epoch 13/50 [Val]: 100%|██████████| 11/11 [00:08<00:00,  1.25it/s]\n"
     ]
    },
    {
     "name": "stdout",
     "output_type": "stream",
     "text": [
      "Epoch 13/50: Train Loss=1.2975, Train Acc=0.7228, Val Loss=1.3683, Val Acc=0.7067, LR=0.001000\n"
     ]
    },
    {
     "name": "stderr",
     "output_type": "stream",
     "text": [
      "Epoch 14/50 [Train]: 100%|██████████| 86/86 [00:42<00:00,  2.05it/s]\n",
      "Epoch 14/50 [Val]: 100%|██████████| 11/11 [00:08<00:00,  1.32it/s]\n"
     ]
    },
    {
     "name": "stdout",
     "output_type": "stream",
     "text": [
      "Epoch 14/50: Train Loss=1.2625, Train Acc=0.7288, Val Loss=1.3319, Val Acc=0.7141, LR=0.001000\n"
     ]
    },
    {
     "name": "stderr",
     "output_type": "stream",
     "text": [
      "Epoch 15/50 [Train]: 100%|██████████| 86/86 [00:42<00:00,  2.03it/s]\n",
      "Epoch 15/50 [Val]: 100%|██████████| 11/11 [00:08<00:00,  1.29it/s]\n"
     ]
    },
    {
     "name": "stdout",
     "output_type": "stream",
     "text": [
      "Epoch 15/50: Train Loss=1.2179, Train Acc=0.7511, Val Loss=1.3260, Val Acc=0.7243, LR=0.001000\n",
      "✓ Best model saved in d:\\Uni\\Master\\1 Bimestre\\Foundations\\Assignments\\Weather-Clasification\\models\\best_model_CNN_V2_reg.pth (val_acc=0.7243)\n"
     ]
    },
    {
     "name": "stderr",
     "output_type": "stream",
     "text": [
      "Epoch 16/50 [Train]: 100%|██████████| 86/86 [00:41<00:00,  2.05it/s]\n",
      "Epoch 16/50 [Val]: 100%|██████████| 11/11 [00:08<00:00,  1.32it/s]\n"
     ]
    },
    {
     "name": "stdout",
     "output_type": "stream",
     "text": [
      "Epoch 16/50: Train Loss=1.1849, Train Acc=0.7633, Val Loss=1.3292, Val Acc=0.7170, LR=0.001000\n"
     ]
    },
    {
     "name": "stderr",
     "output_type": "stream",
     "text": [
      "Epoch 17/50 [Train]: 100%|██████████| 86/86 [00:42<00:00,  2.03it/s]\n",
      "Epoch 17/50 [Val]: 100%|██████████| 11/11 [00:08<00:00,  1.29it/s]\n"
     ]
    },
    {
     "name": "stdout",
     "output_type": "stream",
     "text": [
      "Epoch 17/50: Train Loss=1.1688, Train Acc=0.7819, Val Loss=1.3415, Val Acc=0.7214, LR=0.001000\n"
     ]
    },
    {
     "name": "stderr",
     "output_type": "stream",
     "text": [
      "Epoch 18/50 [Train]: 100%|██████████| 86/86 [00:42<00:00,  2.05it/s]\n",
      "Epoch 18/50 [Val]: 100%|██████████| 11/11 [00:08<00:00,  1.31it/s]\n"
     ]
    },
    {
     "name": "stdout",
     "output_type": "stream",
     "text": [
      "Epoch 18/50: Train Loss=1.1289, Train Acc=0.7914, Val Loss=1.2961, Val Acc=0.7419, LR=0.001000\n",
      "✓ Best model saved in d:\\Uni\\Master\\1 Bimestre\\Foundations\\Assignments\\Weather-Clasification\\models\\best_model_CNN_V2_reg.pth (val_acc=0.7419)\n"
     ]
    },
    {
     "name": "stderr",
     "output_type": "stream",
     "text": [
      "Epoch 19/50 [Train]: 100%|██████████| 86/86 [00:41<00:00,  2.05it/s]\n",
      "Epoch 19/50 [Val]: 100%|██████████| 11/11 [00:08<00:00,  1.26it/s]\n"
     ]
    },
    {
     "name": "stdout",
     "output_type": "stream",
     "text": [
      "Epoch 19/50: Train Loss=1.1062, Train Acc=0.8001, Val Loss=1.3076, Val Acc=0.7317, LR=0.001000\n"
     ]
    },
    {
     "name": "stderr",
     "output_type": "stream",
     "text": [
      "Epoch 20/50 [Train]: 100%|██████████| 86/86 [00:41<00:00,  2.06it/s]\n",
      "Epoch 20/50 [Val]: 100%|██████████| 11/11 [00:08<00:00,  1.28it/s]\n"
     ]
    },
    {
     "name": "stdout",
     "output_type": "stream",
     "text": [
      "Epoch 20/50: Train Loss=1.0620, Train Acc=0.8217, Val Loss=1.2630, Val Acc=0.7507, LR=0.001000\n",
      "✓ Best model saved in d:\\Uni\\Master\\1 Bimestre\\Foundations\\Assignments\\Weather-Clasification\\models\\best_model_CNN_V2_reg.pth (val_acc=0.7507)\n"
     ]
    },
    {
     "name": "stderr",
     "output_type": "stream",
     "text": [
      "Epoch 21/50 [Train]: 100%|██████████| 86/86 [00:41<00:00,  2.05it/s]\n",
      "Epoch 21/50 [Val]: 100%|██████████| 11/11 [00:08<00:00,  1.31it/s]\n"
     ]
    },
    {
     "name": "stdout",
     "output_type": "stream",
     "text": [
      "Epoch 21/50: Train Loss=1.0411, Train Acc=0.8291, Val Loss=1.2719, Val Acc=0.7390, LR=0.001000\n"
     ]
    },
    {
     "name": "stderr",
     "output_type": "stream",
     "text": [
      "Epoch 22/50 [Train]: 100%|██████████| 86/86 [00:41<00:00,  2.07it/s]\n",
      "Epoch 22/50 [Val]: 100%|██████████| 11/11 [00:08<00:00,  1.32it/s]\n"
     ]
    },
    {
     "name": "stdout",
     "output_type": "stream",
     "text": [
      "Epoch 22/50: Train Loss=0.9995, Train Acc=0.8492, Val Loss=1.2962, Val Acc=0.7507, LR=0.001000\n"
     ]
    },
    {
     "name": "stderr",
     "output_type": "stream",
     "text": [
      "Epoch 23/50 [Train]: 100%|██████████| 86/86 [00:41<00:00,  2.06it/s]\n",
      "Epoch 23/50 [Val]: 100%|██████████| 11/11 [00:08<00:00,  1.30it/s]\n"
     ]
    },
    {
     "name": "stdout",
     "output_type": "stream",
     "text": [
      "Epoch 23/50: Train Loss=0.9649, Train Acc=0.8607, Val Loss=1.2987, Val Acc=0.7405, LR=0.001000\n"
     ]
    },
    {
     "name": "stderr",
     "output_type": "stream",
     "text": [
      "Epoch 24/50 [Train]: 100%|██████████| 86/86 [00:41<00:00,  2.08it/s]\n",
      "Epoch 24/50 [Val]: 100%|██████████| 11/11 [00:08<00:00,  1.26it/s]\n"
     ]
    },
    {
     "name": "stdout",
     "output_type": "stream",
     "text": [
      "Epoch 24/50: Train Loss=0.9595, Train Acc=0.8704, Val Loss=1.2539, Val Acc=0.7595, LR=0.001000\n",
      "✓ Best model saved in d:\\Uni\\Master\\1 Bimestre\\Foundations\\Assignments\\Weather-Clasification\\models\\best_model_CNN_V2_reg.pth (val_acc=0.7595)\n"
     ]
    },
    {
     "name": "stderr",
     "output_type": "stream",
     "text": [
      "Epoch 25/50 [Train]: 100%|██████████| 86/86 [00:41<00:00,  2.06it/s]\n",
      "Epoch 25/50 [Val]: 100%|██████████| 11/11 [00:08<00:00,  1.27it/s]\n"
     ]
    },
    {
     "name": "stdout",
     "output_type": "stream",
     "text": [
      "Epoch 25/50: Train Loss=0.9206, Train Acc=0.8862, Val Loss=1.2691, Val Acc=0.7507, LR=0.001000\n"
     ]
    },
    {
     "name": "stderr",
     "output_type": "stream",
     "text": [
      "Epoch 26/50 [Train]: 100%|██████████| 86/86 [00:41<00:00,  2.06it/s]\n",
      "Epoch 26/50 [Val]: 100%|██████████| 11/11 [00:08<00:00,  1.28it/s]\n"
     ]
    },
    {
     "name": "stdout",
     "output_type": "stream",
     "text": [
      "Epoch 26/50: Train Loss=0.9121, Train Acc=0.8884, Val Loss=1.2425, Val Acc=0.7537, LR=0.001000\n"
     ]
    },
    {
     "name": "stderr",
     "output_type": "stream",
     "text": [
      "Epoch 27/50 [Train]: 100%|██████████| 86/86 [00:43<00:00,  1.99it/s]\n",
      "Epoch 27/50 [Val]: 100%|██████████| 11/11 [00:08<00:00,  1.26it/s]\n"
     ]
    },
    {
     "name": "stdout",
     "output_type": "stream",
     "text": [
      "Epoch 27/50: Train Loss=0.8925, Train Acc=0.8944, Val Loss=1.2627, Val Acc=0.7405, LR=0.001000\n"
     ]
    },
    {
     "name": "stderr",
     "output_type": "stream",
     "text": [
      "Epoch 28/50 [Train]: 100%|██████████| 86/86 [00:41<00:00,  2.06it/s]\n",
      "Epoch 28/50 [Val]: 100%|██████████| 11/11 [00:08<00:00,  1.25it/s]\n"
     ]
    },
    {
     "name": "stdout",
     "output_type": "stream",
     "text": [
      "Epoch 28/50: Train Loss=0.8699, Train Acc=0.9044, Val Loss=1.2603, Val Acc=0.7449, LR=0.001000\n"
     ]
    },
    {
     "name": "stderr",
     "output_type": "stream",
     "text": [
      "Epoch 29/50 [Train]: 100%|██████████| 86/86 [00:42<00:00,  2.04it/s]\n",
      "Epoch 29/50 [Val]: 100%|██████████| 11/11 [00:08<00:00,  1.28it/s]\n"
     ]
    },
    {
     "name": "stdout",
     "output_type": "stream",
     "text": [
      "Epoch 29/50: Train Loss=0.8474, Train Acc=0.9096, Val Loss=1.2839, Val Acc=0.7419, LR=0.001000\n"
     ]
    },
    {
     "name": "stderr",
     "output_type": "stream",
     "text": [
      "Epoch 30/50 [Train]: 100%|██████████| 86/86 [00:41<00:00,  2.06it/s]\n",
      "Epoch 30/50 [Val]: 100%|██████████| 11/11 [00:08<00:00,  1.32it/s]\n"
     ]
    },
    {
     "name": "stdout",
     "output_type": "stream",
     "text": [
      "Epoch 30/50: Train Loss=0.8399, Train Acc=0.9170, Val Loss=1.2459, Val Acc=0.7537, LR=0.001000\n"
     ]
    },
    {
     "name": "stderr",
     "output_type": "stream",
     "text": [
      "Epoch 31/50 [Train]: 100%|██████████| 86/86 [00:42<00:00,  2.05it/s]\n",
      "Epoch 31/50 [Val]: 100%|██████████| 11/11 [00:08<00:00,  1.28it/s]"
     ]
    },
    {
     "name": "stdout",
     "output_type": "stream",
     "text": [
      "Epoch 31/50: Train Loss=0.8349, Train Acc=0.9172, Val Loss=1.2560, Val Acc=0.7522, LR=0.001000\n",
      "\n",
      "Early stopping triggered after 31 epochs\n",
      "No improvement for 7 consecutive epochs\n",
      "\n",
      "Training complete!\n",
      "Best val_acc: 0.7595\n",
      "Best val_loss: 1.2539\n",
      "Metrics saved in d:\\Uni\\Master\\1 Bimestre\\Foundations\\Assignments\\Weather-Clasification\\reports\\metrics\\metrics_CNN_V2_reg.pkl\n",
      "Model saved in d:\\Uni\\Master\\1 Bimestre\\Foundations\\Assignments\\Weather-Clasification\\models\\best_model_CNN_V2_reg.pth\n"
     ]
    },
    {
     "name": "stderr",
     "output_type": "stream",
     "text": [
      "\n"
     ]
    }
   ],
   "source": [
    "input_dim = 128*128*3  # matches the Resize transform\n",
    "model = train_model_improved(CNN_V2_reg, \n",
    "                    train_dir=\"../../data/train\", \n",
    "                    val_dir=\"../../data/val\", \n",
    "                    input_dim=input_dim,\n",
    "                    num_classes=11,\n",
    "                    batch_size=64,\n",
    "                    epochs=50,\n",
    "                    lr=1e-3,\n",
    "                    device=\"cuda\" if torch.cuda.is_available() else \"cpu\")"
   ]
  },
  {
   "cell_type": "code",
   "execution_count": 11,
   "id": "927fbfeb",
   "metadata": {},
   "outputs": [
    {
     "name": "stdout",
     "output_type": "stream",
     "text": [
      "Class counts: Counter({8: 928, 1: 680, 0: 558, 9: 553, 3: 511, 10: 496, 4: 472, 6: 420, 2: 380, 5: 301, 7: 185})\n",
      "Class weights: {0: '9.828', 1: '8.065', 2: '14.432', 3: '10.732', 4: '11.619', 5: '18.219', 6: '13.057', 7: '29.643', 8: '5.909', 9: '9.917', 10: '11.056'}\n",
      "\n",
      "Model: CNN_V3\n",
      "Total parameters: 6,981,035\n",
      "Trainable parameters: 6,981,035\n",
      "\n"
     ]
    },
    {
     "name": "stderr",
     "output_type": "stream",
     "text": [
      "Epoch 1/50 [Train]: 100%|██████████| 86/86 [00:30<00:00,  2.85it/s]\n",
      "Epoch 1/50 [Val]: 100%|██████████| 11/11 [00:08<00:00,  1.32it/s]\n"
     ]
    },
    {
     "name": "stdout",
     "output_type": "stream",
     "text": [
      "Epoch 1/50: Train Loss=1.9953, Train Acc=0.3807, Val Loss=1.7222, Val Acc=0.5440, LR=0.001000\n",
      "✓ Best model saved in d:\\Uni\\Master\\1 Bimestre\\Foundations\\Assignments\\Weather-Clasification\\models\\best_model_CNN_V3.pth (val_acc=0.5440)\n"
     ]
    },
    {
     "name": "stderr",
     "output_type": "stream",
     "text": [
      "Epoch 2/50 [Train]: 100%|██████████| 86/86 [00:29<00:00,  2.90it/s]\n",
      "Epoch 2/50 [Val]: 100%|██████████| 11/11 [00:08<00:00,  1.35it/s]\n"
     ]
    },
    {
     "name": "stdout",
     "output_type": "stream",
     "text": [
      "Epoch 2/50: Train Loss=1.5873, Train Acc=0.5640, Val Loss=1.5828, Val Acc=0.5660, LR=0.001000\n",
      "✓ Best model saved in d:\\Uni\\Master\\1 Bimestre\\Foundations\\Assignments\\Weather-Clasification\\models\\best_model_CNN_V3.pth (val_acc=0.5660)\n"
     ]
    },
    {
     "name": "stderr",
     "output_type": "stream",
     "text": [
      "Epoch 3/50 [Train]: 100%|██████████| 86/86 [00:30<00:00,  2.85it/s]\n",
      "Epoch 3/50 [Val]: 100%|██████████| 11/11 [00:08<00:00,  1.31it/s]\n"
     ]
    },
    {
     "name": "stdout",
     "output_type": "stream",
     "text": [
      "Epoch 3/50: Train Loss=1.4609, Train Acc=0.6085, Val Loss=1.4529, Val Acc=0.6628, LR=0.001000\n",
      "✓ Best model saved in d:\\Uni\\Master\\1 Bimestre\\Foundations\\Assignments\\Weather-Clasification\\models\\best_model_CNN_V3.pth (val_acc=0.6628)\n"
     ]
    },
    {
     "name": "stderr",
     "output_type": "stream",
     "text": [
      "Epoch 4/50 [Train]: 100%|██████████| 86/86 [00:29<00:00,  2.94it/s]\n",
      "Epoch 4/50 [Val]: 100%|██████████| 11/11 [00:08<00:00,  1.35it/s]\n"
     ]
    },
    {
     "name": "stdout",
     "output_type": "stream",
     "text": [
      "Epoch 4/50: Train Loss=1.3992, Train Acc=0.6468, Val Loss=1.3654, Val Acc=0.6848, LR=0.001000\n",
      "✓ Best model saved in d:\\Uni\\Master\\1 Bimestre\\Foundations\\Assignments\\Weather-Clasification\\models\\best_model_CNN_V3.pth (val_acc=0.6848)\n"
     ]
    },
    {
     "name": "stderr",
     "output_type": "stream",
     "text": [
      "Epoch 5/50 [Train]: 100%|██████████| 86/86 [00:37<00:00,  2.32it/s]\n",
      "Epoch 5/50 [Val]: 100%|██████████| 11/11 [00:09<00:00,  1.16it/s]\n"
     ]
    },
    {
     "name": "stdout",
     "output_type": "stream",
     "text": [
      "Epoch 5/50: Train Loss=1.3411, Train Acc=0.6780, Val Loss=1.4080, Val Acc=0.6686, LR=0.001000\n"
     ]
    },
    {
     "name": "stderr",
     "output_type": "stream",
     "text": [
      "Epoch 6/50 [Train]: 100%|██████████| 86/86 [00:31<00:00,  2.70it/s]\n",
      "Epoch 6/50 [Val]: 100%|██████████| 11/11 [00:09<00:00,  1.17it/s]\n"
     ]
    },
    {
     "name": "stdout",
     "output_type": "stream",
     "text": [
      "Epoch 6/50: Train Loss=1.3047, Train Acc=0.6893, Val Loss=1.3607, Val Acc=0.6789, LR=0.001000\n"
     ]
    },
    {
     "name": "stderr",
     "output_type": "stream",
     "text": [
      "Epoch 7/50 [Train]: 100%|██████████| 86/86 [00:32<00:00,  2.68it/s]\n",
      "Epoch 7/50 [Val]: 100%|██████████| 11/11 [00:09<00:00,  1.19it/s]\n"
     ]
    },
    {
     "name": "stdout",
     "output_type": "stream",
     "text": [
      "Epoch 7/50: Train Loss=1.2619, Train Acc=0.7086, Val Loss=1.3903, Val Acc=0.6730, LR=0.001000\n"
     ]
    },
    {
     "name": "stderr",
     "output_type": "stream",
     "text": [
      "Epoch 8/50 [Train]: 100%|██████████| 86/86 [00:31<00:00,  2.70it/s]\n",
      "Epoch 8/50 [Val]: 100%|██████████| 11/11 [00:09<00:00,  1.20it/s]\n"
     ]
    },
    {
     "name": "stdout",
     "output_type": "stream",
     "text": [
      "Epoch 8/50: Train Loss=1.2198, Train Acc=0.7270, Val Loss=1.2790, Val Acc=0.7214, LR=0.001000\n",
      "✓ Best model saved in d:\\Uni\\Master\\1 Bimestre\\Foundations\\Assignments\\Weather-Clasification\\models\\best_model_CNN_V3.pth (val_acc=0.7214)\n"
     ]
    },
    {
     "name": "stderr",
     "output_type": "stream",
     "text": [
      "Epoch 9/50 [Train]: 100%|██████████| 86/86 [00:31<00:00,  2.76it/s]\n",
      "Epoch 9/50 [Val]: 100%|██████████| 11/11 [00:08<00:00,  1.24it/s]\n"
     ]
    },
    {
     "name": "stdout",
     "output_type": "stream",
     "text": [
      "Epoch 9/50: Train Loss=1.1665, Train Acc=0.7557, Val Loss=1.2971, Val Acc=0.7170, LR=0.001000\n"
     ]
    },
    {
     "name": "stderr",
     "output_type": "stream",
     "text": [
      "Epoch 10/50 [Train]: 100%|██████████| 86/86 [00:36<00:00,  2.33it/s]\n",
      "Epoch 10/50 [Val]: 100%|██████████| 11/11 [00:09<00:00,  1.18it/s]\n"
     ]
    },
    {
     "name": "stdout",
     "output_type": "stream",
     "text": [
      "Epoch 10/50: Train Loss=1.1535, Train Acc=0.7578, Val Loss=1.3234, Val Acc=0.6921, LR=0.001000\n"
     ]
    },
    {
     "name": "stderr",
     "output_type": "stream",
     "text": [
      "Epoch 11/50 [Train]: 100%|██████████| 86/86 [00:32<00:00,  2.69it/s]\n",
      "Epoch 11/50 [Val]: 100%|██████████| 11/11 [00:09<00:00,  1.18it/s]\n"
     ]
    },
    {
     "name": "stdout",
     "output_type": "stream",
     "text": [
      "Epoch 11/50: Train Loss=1.1069, Train Acc=0.7721, Val Loss=1.2945, Val Acc=0.7126, LR=0.001000\n"
     ]
    },
    {
     "name": "stderr",
     "output_type": "stream",
     "text": [
      "Epoch 12/50 [Train]: 100%|██████████| 86/86 [00:42<00:00,  2.00it/s]\n",
      "Epoch 12/50 [Val]: 100%|██████████| 11/11 [00:09<00:00,  1.11it/s]\n"
     ]
    },
    {
     "name": "stdout",
     "output_type": "stream",
     "text": [
      "Epoch 12/50: Train Loss=1.0708, Train Acc=0.7856, Val Loss=1.3434, Val Acc=0.7273, LR=0.001000\n",
      "✓ Best model saved in d:\\Uni\\Master\\1 Bimestre\\Foundations\\Assignments\\Weather-Clasification\\models\\best_model_CNN_V3.pth (val_acc=0.7273)\n"
     ]
    },
    {
     "name": "stderr",
     "output_type": "stream",
     "text": [
      "Epoch 13/50 [Train]: 100%|██████████| 86/86 [00:37<00:00,  2.31it/s]\n",
      "Epoch 13/50 [Val]: 100%|██████████| 11/11 [00:10<00:00,  1.09it/s]\n"
     ]
    },
    {
     "name": "stdout",
     "output_type": "stream",
     "text": [
      "Epoch 13/50: Train Loss=1.0393, Train Acc=0.7994, Val Loss=1.2739, Val Acc=0.7273, LR=0.001000\n"
     ]
    },
    {
     "name": "stderr",
     "output_type": "stream",
     "text": [
      "Epoch 14/50 [Train]: 100%|██████████| 86/86 [00:37<00:00,  2.32it/s]\n",
      "Epoch 14/50 [Val]: 100%|██████████| 11/11 [00:08<00:00,  1.29it/s]\n"
     ]
    },
    {
     "name": "stdout",
     "output_type": "stream",
     "text": [
      "Epoch 14/50: Train Loss=0.9995, Train Acc=0.8208, Val Loss=1.2179, Val Acc=0.7537, LR=0.001000\n",
      "✓ Best model saved in d:\\Uni\\Master\\1 Bimestre\\Foundations\\Assignments\\Weather-Clasification\\models\\best_model_CNN_V3.pth (val_acc=0.7537)\n"
     ]
    },
    {
     "name": "stderr",
     "output_type": "stream",
     "text": [
      "Epoch 15/50 [Train]: 100%|██████████| 86/86 [00:31<00:00,  2.77it/s]\n",
      "Epoch 15/50 [Val]: 100%|██████████| 11/11 [00:08<00:00,  1.28it/s]\n"
     ]
    },
    {
     "name": "stdout",
     "output_type": "stream",
     "text": [
      "Epoch 15/50: Train Loss=0.9678, Train Acc=0.8346, Val Loss=1.2951, Val Acc=0.7273, LR=0.001000\n"
     ]
    },
    {
     "name": "stderr",
     "output_type": "stream",
     "text": [
      "Epoch 16/50 [Train]: 100%|██████████| 86/86 [00:34<00:00,  2.47it/s]\n",
      "Epoch 16/50 [Val]: 100%|██████████| 11/11 [00:09<00:00,  1.20it/s]\n"
     ]
    },
    {
     "name": "stdout",
     "output_type": "stream",
     "text": [
      "Epoch 16/50: Train Loss=0.9205, Train Acc=0.8558, Val Loss=1.2719, Val Acc=0.7243, LR=0.001000\n"
     ]
    },
    {
     "name": "stderr",
     "output_type": "stream",
     "text": [
      "Epoch 17/50 [Train]: 100%|██████████| 86/86 [00:32<00:00,  2.64it/s]\n",
      "Epoch 17/50 [Val]: 100%|██████████| 11/11 [00:08<00:00,  1.33it/s]\n"
     ]
    },
    {
     "name": "stdout",
     "output_type": "stream",
     "text": [
      "Epoch 17/50: Train Loss=0.8962, Train Acc=0.8663, Val Loss=1.3357, Val Acc=0.7317, LR=0.001000\n"
     ]
    },
    {
     "name": "stderr",
     "output_type": "stream",
     "text": [
      "Epoch 18/50 [Train]: 100%|██████████| 86/86 [00:33<00:00,  2.55it/s]\n",
      "Epoch 18/50 [Val]: 100%|██████████| 11/11 [00:12<00:00,  1.17s/it]\n"
     ]
    },
    {
     "name": "stdout",
     "output_type": "stream",
     "text": [
      "Epoch 18/50: Train Loss=0.8602, Train Acc=0.8851, Val Loss=1.2511, Val Acc=0.7478, LR=0.001000\n"
     ]
    },
    {
     "name": "stderr",
     "output_type": "stream",
     "text": [
      "Epoch 19/50 [Train]: 100%|██████████| 86/86 [00:33<00:00,  2.53it/s]\n",
      "Epoch 19/50 [Val]: 100%|██████████| 11/11 [00:09<00:00,  1.13it/s]\n"
     ]
    },
    {
     "name": "stdout",
     "output_type": "stream",
     "text": [
      "Epoch 19/50: Train Loss=0.8325, Train Acc=0.8968, Val Loss=1.2563, Val Acc=0.7463, LR=0.001000\n"
     ]
    },
    {
     "name": "stderr",
     "output_type": "stream",
     "text": [
      "Epoch 20/50 [Train]:   0%|          | 0/86 [00:05<?, ?it/s]\n"
     ]
    },
    {
     "ename": "KeyboardInterrupt",
     "evalue": "",
     "output_type": "error",
     "traceback": [
      "\u001b[31m---------------------------------------------------------------------------\u001b[39m",
      "\u001b[31mKeyboardInterrupt\u001b[39m                         Traceback (most recent call last)",
      "\u001b[36mCell\u001b[39m\u001b[36m \u001b[39m\u001b[32mIn[11]\u001b[39m\u001b[32m, line 2\u001b[39m\n\u001b[32m      1\u001b[39m input_dim = \u001b[32m224\u001b[39m*\u001b[32m224\u001b[39m*\u001b[32m3\u001b[39m  \u001b[38;5;66;03m# matches the Resize transform\u001b[39;00m\n\u001b[32m----> \u001b[39m\u001b[32m2\u001b[39m model = \u001b[43mtrain_model_improved\u001b[49m\u001b[43m(\u001b[49m\u001b[43mCNN_V3\u001b[49m\u001b[43m,\u001b[49m\u001b[43m \u001b[49m\n\u001b[32m      3\u001b[39m \u001b[43m                    \u001b[49m\u001b[43mtrain_dir\u001b[49m\u001b[43m=\u001b[49m\u001b[33;43m\"\u001b[39;49m\u001b[33;43m../../data/train\u001b[39;49m\u001b[33;43m\"\u001b[39;49m\u001b[43m,\u001b[49m\u001b[43m \u001b[49m\n\u001b[32m      4\u001b[39m \u001b[43m                    \u001b[49m\u001b[43mval_dir\u001b[49m\u001b[43m=\u001b[49m\u001b[33;43m\"\u001b[39;49m\u001b[33;43m../../data/val\u001b[39;49m\u001b[33;43m\"\u001b[39;49m\u001b[43m,\u001b[49m\u001b[43m \u001b[49m\n\u001b[32m      5\u001b[39m \u001b[43m                    \u001b[49m\u001b[43minput_dim\u001b[49m\u001b[43m=\u001b[49m\u001b[43minput_dim\u001b[49m\u001b[43m,\u001b[49m\n\u001b[32m      6\u001b[39m \u001b[43m                    \u001b[49m\u001b[43mnum_classes\u001b[49m\u001b[43m=\u001b[49m\u001b[32;43m11\u001b[39;49m\u001b[43m,\u001b[49m\n\u001b[32m      7\u001b[39m \u001b[43m                    \u001b[49m\u001b[43mbatch_size\u001b[49m\u001b[43m=\u001b[49m\u001b[32;43m64\u001b[39;49m\u001b[43m,\u001b[49m\n\u001b[32m      8\u001b[39m \u001b[43m                    \u001b[49m\u001b[43mepochs\u001b[49m\u001b[43m=\u001b[49m\u001b[32;43m50\u001b[39;49m\u001b[43m,\u001b[49m\n\u001b[32m      9\u001b[39m \u001b[43m                    \u001b[49m\u001b[43mlr\u001b[49m\u001b[43m=\u001b[49m\u001b[32;43m1e-3\u001b[39;49m\u001b[43m,\u001b[49m\n\u001b[32m     10\u001b[39m \u001b[43m                    \u001b[49m\u001b[43mdevice\u001b[49m\u001b[43m=\u001b[49m\u001b[33;43m\"\u001b[39;49m\u001b[33;43mcuda\u001b[39;49m\u001b[33;43m\"\u001b[39;49m\u001b[43m \u001b[49m\u001b[38;5;28;43;01mif\u001b[39;49;00m\u001b[43m \u001b[49m\u001b[43mtorch\u001b[49m\u001b[43m.\u001b[49m\u001b[43mcuda\u001b[49m\u001b[43m.\u001b[49m\u001b[43mis_available\u001b[49m\u001b[43m(\u001b[49m\u001b[43m)\u001b[49m\u001b[43m \u001b[49m\u001b[38;5;28;43;01melse\u001b[39;49;00m\u001b[43m \u001b[49m\u001b[33;43m\"\u001b[39;49m\u001b[33;43mcpu\u001b[39;49m\u001b[33;43m\"\u001b[39;49m\u001b[43m)\u001b[49m\n",
      "\u001b[36mFile \u001b[39m\u001b[32md:\\Uni\\Master\\1 Bimestre\\Foundations\\Assignments\\Weather-Clasification\\weather_classification\\train.py:293\u001b[39m, in \u001b[36mtrain_model_improved\u001b[39m\u001b[34m(model_class, train_dir, val_dir, input_dim, num_classes, batch_size, epochs, lr, device, use_scheduler, label_smoothing)\u001b[39m\n\u001b[32m    290\u001b[39m model.train()\n\u001b[32m    291\u001b[39m running_loss, running_corrects = \u001b[32m0.0\u001b[39m, \u001b[32m0\u001b[39m\n\u001b[32m--> \u001b[39m\u001b[32m293\u001b[39m \u001b[43m\u001b[49m\u001b[38;5;28;43;01mfor\u001b[39;49;00m\u001b[43m \u001b[49m\u001b[43mimgs\u001b[49m\u001b[43m,\u001b[49m\u001b[43m \u001b[49m\u001b[43mlabels\u001b[49m\u001b[43m \u001b[49m\u001b[38;5;129;43;01min\u001b[39;49;00m\u001b[43m \u001b[49m\u001b[43mtqdm\u001b[49m\u001b[43m(\u001b[49m\u001b[43mtrain_loader\u001b[49m\u001b[43m,\u001b[49m\u001b[43m \u001b[49m\u001b[43mdesc\u001b[49m\u001b[43m=\u001b[49m\u001b[33;43mf\u001b[39;49m\u001b[33;43m\"\u001b[39;49m\u001b[33;43mEpoch \u001b[39;49m\u001b[38;5;132;43;01m{\u001b[39;49;00m\u001b[43mepoch\u001b[49m\u001b[43m+\u001b[49m\u001b[32;43m1\u001b[39;49m\u001b[38;5;132;43;01m}\u001b[39;49;00m\u001b[33;43m/\u001b[39;49m\u001b[38;5;132;43;01m{\u001b[39;49;00m\u001b[43mepochs\u001b[49m\u001b[38;5;132;43;01m}\u001b[39;49;00m\u001b[33;43m [Train]\u001b[39;49m\u001b[33;43m\"\u001b[39;49m\u001b[43m)\u001b[49m\u001b[43m:\u001b[49m\n\u001b[32m    294\u001b[39m \u001b[43m    \u001b[49m\u001b[43mimgs\u001b[49m\u001b[43m,\u001b[49m\u001b[43m \u001b[49m\u001b[43mlabels\u001b[49m\u001b[43m \u001b[49m\u001b[43m=\u001b[49m\u001b[43m \u001b[49m\u001b[43mimgs\u001b[49m\u001b[43m.\u001b[49m\u001b[43mto\u001b[49m\u001b[43m(\u001b[49m\u001b[43mdevice\u001b[49m\u001b[43m)\u001b[49m\u001b[43m,\u001b[49m\u001b[43m \u001b[49m\u001b[43mlabels\u001b[49m\u001b[43m.\u001b[49m\u001b[43mto\u001b[49m\u001b[43m(\u001b[49m\u001b[43mdevice\u001b[49m\u001b[43m)\u001b[49m\n\u001b[32m    296\u001b[39m \u001b[43m    \u001b[49m\u001b[43moptimizer\u001b[49m\u001b[43m.\u001b[49m\u001b[43mzero_grad\u001b[49m\u001b[43m(\u001b[49m\u001b[43m)\u001b[49m\n",
      "\u001b[36mFile \u001b[39m\u001b[32mc:\\Users\\maria\\anaconda3\\envs\\py311ml\\Lib\\site-packages\\tqdm\\std.py:1181\u001b[39m, in \u001b[36mtqdm.__iter__\u001b[39m\u001b[34m(self)\u001b[39m\n\u001b[32m   1178\u001b[39m time = \u001b[38;5;28mself\u001b[39m._time\n\u001b[32m   1180\u001b[39m \u001b[38;5;28;01mtry\u001b[39;00m:\n\u001b[32m-> \u001b[39m\u001b[32m1181\u001b[39m \u001b[43m    \u001b[49m\u001b[38;5;28;43;01mfor\u001b[39;49;00m\u001b[43m \u001b[49m\u001b[43mobj\u001b[49m\u001b[43m \u001b[49m\u001b[38;5;129;43;01min\u001b[39;49;00m\u001b[43m \u001b[49m\u001b[43miterable\u001b[49m\u001b[43m:\u001b[49m\n\u001b[32m   1182\u001b[39m \u001b[43m        \u001b[49m\u001b[38;5;28;43;01myield\u001b[39;49;00m\u001b[43m \u001b[49m\u001b[43mobj\u001b[49m\n\u001b[32m   1183\u001b[39m \u001b[43m        \u001b[49m\u001b[38;5;66;43;03m# Update and possibly print the progressbar.\u001b[39;49;00m\n\u001b[32m   1184\u001b[39m \u001b[43m        \u001b[49m\u001b[38;5;66;43;03m# Note: does not call self.update(1) for speed optimisation.\u001b[39;49;00m\n",
      "\u001b[36mFile \u001b[39m\u001b[32mc:\\Users\\maria\\anaconda3\\envs\\py311ml\\Lib\\site-packages\\torch\\utils\\data\\dataloader.py:494\u001b[39m, in \u001b[36mDataLoader.__iter__\u001b[39m\u001b[34m(self)\u001b[39m\n\u001b[32m    492\u001b[39m     \u001b[38;5;28;01mreturn\u001b[39;00m \u001b[38;5;28mself\u001b[39m._iterator\n\u001b[32m    493\u001b[39m \u001b[38;5;28;01melse\u001b[39;00m:\n\u001b[32m--> \u001b[39m\u001b[32m494\u001b[39m     \u001b[38;5;28;01mreturn\u001b[39;00m \u001b[38;5;28;43mself\u001b[39;49m\u001b[43m.\u001b[49m\u001b[43m_get_iterator\u001b[49m\u001b[43m(\u001b[49m\u001b[43m)\u001b[49m\n",
      "\u001b[36mFile \u001b[39m\u001b[32mc:\\Users\\maria\\anaconda3\\envs\\py311ml\\Lib\\site-packages\\torch\\utils\\data\\dataloader.py:427\u001b[39m, in \u001b[36mDataLoader._get_iterator\u001b[39m\u001b[34m(self)\u001b[39m\n\u001b[32m    425\u001b[39m \u001b[38;5;28;01melse\u001b[39;00m:\n\u001b[32m    426\u001b[39m     \u001b[38;5;28mself\u001b[39m.check_worker_number_rationality()\n\u001b[32m--> \u001b[39m\u001b[32m427\u001b[39m     \u001b[38;5;28;01mreturn\u001b[39;00m \u001b[43m_MultiProcessingDataLoaderIter\u001b[49m\u001b[43m(\u001b[49m\u001b[38;5;28;43mself\u001b[39;49m\u001b[43m)\u001b[49m\n",
      "\u001b[36mFile \u001b[39m\u001b[32mc:\\Users\\maria\\anaconda3\\envs\\py311ml\\Lib\\site-packages\\torch\\utils\\data\\dataloader.py:1172\u001b[39m, in \u001b[36m_MultiProcessingDataLoaderIter.__init__\u001b[39m\u001b[34m(self, loader)\u001b[39m\n\u001b[32m   1165\u001b[39m w.daemon = \u001b[38;5;28;01mTrue\u001b[39;00m\n\u001b[32m   1166\u001b[39m \u001b[38;5;66;03m# NB: Process.start() actually take some time as it needs to\u001b[39;00m\n\u001b[32m   1167\u001b[39m \u001b[38;5;66;03m#     start a process and pass the arguments over via a pipe.\u001b[39;00m\n\u001b[32m   1168\u001b[39m \u001b[38;5;66;03m#     Therefore, we only add a worker to self._workers list after\u001b[39;00m\n\u001b[32m   1169\u001b[39m \u001b[38;5;66;03m#     it started, so that we do not call .join() if program dies\u001b[39;00m\n\u001b[32m   1170\u001b[39m \u001b[38;5;66;03m#     before it starts, and __del__ tries to join but will get:\u001b[39;00m\n\u001b[32m   1171\u001b[39m \u001b[38;5;66;03m#     AssertionError: can only join a started process.\u001b[39;00m\n\u001b[32m-> \u001b[39m\u001b[32m1172\u001b[39m \u001b[43mw\u001b[49m\u001b[43m.\u001b[49m\u001b[43mstart\u001b[49m\u001b[43m(\u001b[49m\u001b[43m)\u001b[49m\n\u001b[32m   1173\u001b[39m \u001b[38;5;28mself\u001b[39m._index_queues.append(index_queue)\n\u001b[32m   1174\u001b[39m \u001b[38;5;28mself\u001b[39m._workers.append(w)\n",
      "\u001b[36mFile \u001b[39m\u001b[32mc:\\Users\\maria\\anaconda3\\envs\\py311ml\\Lib\\multiprocessing\\process.py:121\u001b[39m, in \u001b[36mBaseProcess.start\u001b[39m\u001b[34m(self)\u001b[39m\n\u001b[32m    118\u001b[39m \u001b[38;5;28;01massert\u001b[39;00m \u001b[38;5;129;01mnot\u001b[39;00m _current_process._config.get(\u001b[33m'\u001b[39m\u001b[33mdaemon\u001b[39m\u001b[33m'\u001b[39m), \\\n\u001b[32m    119\u001b[39m        \u001b[33m'\u001b[39m\u001b[33mdaemonic processes are not allowed to have children\u001b[39m\u001b[33m'\u001b[39m\n\u001b[32m    120\u001b[39m _cleanup()\n\u001b[32m--> \u001b[39m\u001b[32m121\u001b[39m \u001b[38;5;28mself\u001b[39m._popen = \u001b[38;5;28;43mself\u001b[39;49m\u001b[43m.\u001b[49m\u001b[43m_Popen\u001b[49m\u001b[43m(\u001b[49m\u001b[38;5;28;43mself\u001b[39;49m\u001b[43m)\u001b[49m\n\u001b[32m    122\u001b[39m \u001b[38;5;28mself\u001b[39m._sentinel = \u001b[38;5;28mself\u001b[39m._popen.sentinel\n\u001b[32m    123\u001b[39m \u001b[38;5;66;03m# Avoid a refcycle if the target function holds an indirect\u001b[39;00m\n\u001b[32m    124\u001b[39m \u001b[38;5;66;03m# reference to the process object (see bpo-30775)\u001b[39;00m\n",
      "\u001b[36mFile \u001b[39m\u001b[32mc:\\Users\\maria\\anaconda3\\envs\\py311ml\\Lib\\multiprocessing\\context.py:224\u001b[39m, in \u001b[36mProcess._Popen\u001b[39m\u001b[34m(process_obj)\u001b[39m\n\u001b[32m    222\u001b[39m \u001b[38;5;129m@staticmethod\u001b[39m\n\u001b[32m    223\u001b[39m \u001b[38;5;28;01mdef\u001b[39;00m\u001b[38;5;250m \u001b[39m\u001b[34m_Popen\u001b[39m(process_obj):\n\u001b[32m--> \u001b[39m\u001b[32m224\u001b[39m     \u001b[38;5;28;01mreturn\u001b[39;00m \u001b[43m_default_context\u001b[49m\u001b[43m.\u001b[49m\u001b[43mget_context\u001b[49m\u001b[43m(\u001b[49m\u001b[43m)\u001b[49m\u001b[43m.\u001b[49m\u001b[43mProcess\u001b[49m\u001b[43m.\u001b[49m\u001b[43m_Popen\u001b[49m\u001b[43m(\u001b[49m\u001b[43mprocess_obj\u001b[49m\u001b[43m)\u001b[49m\n",
      "\u001b[36mFile \u001b[39m\u001b[32mc:\\Users\\maria\\anaconda3\\envs\\py311ml\\Lib\\multiprocessing\\context.py:336\u001b[39m, in \u001b[36mSpawnProcess._Popen\u001b[39m\u001b[34m(process_obj)\u001b[39m\n\u001b[32m    333\u001b[39m \u001b[38;5;129m@staticmethod\u001b[39m\n\u001b[32m    334\u001b[39m \u001b[38;5;28;01mdef\u001b[39;00m\u001b[38;5;250m \u001b[39m\u001b[34m_Popen\u001b[39m(process_obj):\n\u001b[32m    335\u001b[39m     \u001b[38;5;28;01mfrom\u001b[39;00m\u001b[38;5;250m \u001b[39m\u001b[34;01m.\u001b[39;00m\u001b[34;01mpopen_spawn_win32\u001b[39;00m\u001b[38;5;250m \u001b[39m\u001b[38;5;28;01mimport\u001b[39;00m Popen\n\u001b[32m--> \u001b[39m\u001b[32m336\u001b[39m     \u001b[38;5;28;01mreturn\u001b[39;00m \u001b[43mPopen\u001b[49m\u001b[43m(\u001b[49m\u001b[43mprocess_obj\u001b[49m\u001b[43m)\u001b[49m\n",
      "\u001b[36mFile \u001b[39m\u001b[32mc:\\Users\\maria\\anaconda3\\envs\\py311ml\\Lib\\multiprocessing\\popen_spawn_win32.py:95\u001b[39m, in \u001b[36mPopen.__init__\u001b[39m\u001b[34m(self, process_obj)\u001b[39m\n\u001b[32m     93\u001b[39m \u001b[38;5;28;01mtry\u001b[39;00m:\n\u001b[32m     94\u001b[39m     reduction.dump(prep_data, to_child)\n\u001b[32m---> \u001b[39m\u001b[32m95\u001b[39m     \u001b[43mreduction\u001b[49m\u001b[43m.\u001b[49m\u001b[43mdump\u001b[49m\u001b[43m(\u001b[49m\u001b[43mprocess_obj\u001b[49m\u001b[43m,\u001b[49m\u001b[43m \u001b[49m\u001b[43mto_child\u001b[49m\u001b[43m)\u001b[49m\n\u001b[32m     96\u001b[39m \u001b[38;5;28;01mfinally\u001b[39;00m:\n\u001b[32m     97\u001b[39m     set_spawning_popen(\u001b[38;5;28;01mNone\u001b[39;00m)\n",
      "\u001b[36mFile \u001b[39m\u001b[32mc:\\Users\\maria\\anaconda3\\envs\\py311ml\\Lib\\multiprocessing\\reduction.py:60\u001b[39m, in \u001b[36mdump\u001b[39m\u001b[34m(obj, file, protocol)\u001b[39m\n\u001b[32m     58\u001b[39m \u001b[38;5;28;01mdef\u001b[39;00m\u001b[38;5;250m \u001b[39m\u001b[34mdump\u001b[39m(obj, file, protocol=\u001b[38;5;28;01mNone\u001b[39;00m):\n\u001b[32m     59\u001b[39m \u001b[38;5;250m    \u001b[39m\u001b[33;03m'''Replacement for pickle.dump() using ForkingPickler.'''\u001b[39;00m\n\u001b[32m---> \u001b[39m\u001b[32m60\u001b[39m     \u001b[43mForkingPickler\u001b[49m\u001b[43m(\u001b[49m\u001b[43mfile\u001b[49m\u001b[43m,\u001b[49m\u001b[43m \u001b[49m\u001b[43mprotocol\u001b[49m\u001b[43m)\u001b[49m\u001b[43m.\u001b[49m\u001b[43mdump\u001b[49m\u001b[43m(\u001b[49m\u001b[43mobj\u001b[49m\u001b[43m)\u001b[49m\n",
      "\u001b[31mKeyboardInterrupt\u001b[39m: "
     ]
    }
   ],
   "source": [
    "input_dim = 224*224*3  # matches the Resize transform\n",
    "model = train_model_improved(CNN_V3, \n",
    "                    train_dir=\"../../data/train\", \n",
    "                    val_dir=\"../../data/val\", \n",
    "                    input_dim=input_dim,\n",
    "                    num_classes=11,\n",
    "                    batch_size=64,\n",
    "                    epochs=50,\n",
    "                    lr=1e-3,\n",
    "                    device=\"cuda\" if torch.cuda.is_available() else \"cpu\")"
   ]
  },
  {
   "cell_type": "code",
   "execution_count": null,
   "id": "17834fb8",
   "metadata": {},
   "outputs": [
    {
     "name": "stdout",
     "output_type": "stream",
     "text": [
      "Class counts: Counter({8: 928, 1: 680, 0: 558, 9: 553, 3: 511, 10: 496, 4: 472, 6: 420, 2: 380, 5: 301, 7: 185})\n",
      "Class weights: tensor([ 9.8280,  8.0647, 14.4316, 10.7319, 11.6186, 18.2193, 13.0571, 29.6432,\n",
      "         5.9095,  9.9168, 11.0565], device='cuda:0')\n"
     ]
    },
    {
     "name": "stderr",
     "output_type": "stream",
     "text": [
      "Epoch 1/35 [Train]: 100%|██████████| 86/86 [00:42<00:00,  2.04it/s]\n",
      "Epoch 1/35 [Val]: 100%|██████████| 11/11 [00:04<00:00,  2.40it/s]\n"
     ]
    },
    {
     "name": "stdout",
     "output_type": "stream",
     "text": [
      "Epoch 1/35: Train Loss=2.3274, Train Acc=0.1532, Val Loss=2.2990, Val Acc=0.2009\n",
      "Best model saved in d:\\Uni\\Master\\1 Bimestre\\Foundations\\Assignments\\Weather-Clasification\\models\\best_model_CNN_V3_reg.pth (val_acc=0.2009)\n"
     ]
    },
    {
     "name": "stderr",
     "output_type": "stream",
     "text": [
      "Epoch 2/35 [Train]: 100%|██████████| 86/86 [00:37<00:00,  2.27it/s]\n",
      "Epoch 2/35 [Val]: 100%|██████████| 11/11 [00:04<00:00,  2.39it/s]\n"
     ]
    },
    {
     "name": "stdout",
     "output_type": "stream",
     "text": [
      "Epoch 2/35: Train Loss=2.0671, Train Acc=0.3007, Val Loss=2.2798, Val Acc=0.1642\n"
     ]
    },
    {
     "name": "stderr",
     "output_type": "stream",
     "text": [
      "Epoch 3/35 [Train]: 100%|██████████| 86/86 [00:38<00:00,  2.25it/s]\n",
      "Epoch 3/35 [Val]: 100%|██████████| 11/11 [00:04<00:00,  2.46it/s]\n"
     ]
    },
    {
     "name": "stdout",
     "output_type": "stream",
     "text": [
      "Epoch 3/35: Train Loss=1.8173, Train Acc=0.4088, Val Loss=1.9434, Val Acc=0.4839\n",
      "Best model saved in d:\\Uni\\Master\\1 Bimestre\\Foundations\\Assignments\\Weather-Clasification\\models\\best_model_CNN_V3_reg.pth (val_acc=0.4839)\n"
     ]
    },
    {
     "name": "stderr",
     "output_type": "stream",
     "text": [
      "Epoch 4/35 [Train]: 100%|██████████| 86/86 [00:36<00:00,  2.33it/s]\n",
      "Epoch 4/35 [Val]: 100%|██████████| 11/11 [00:04<00:00,  2.49it/s]\n"
     ]
    },
    {
     "name": "stdout",
     "output_type": "stream",
     "text": [
      "Epoch 4/35: Train Loss=1.5668, Train Acc=0.4757, Val Loss=1.7585, Val Acc=0.4443\n"
     ]
    },
    {
     "name": "stderr",
     "output_type": "stream",
     "text": [
      "Epoch 5/35 [Train]: 100%|██████████| 86/86 [00:36<00:00,  2.33it/s]\n",
      "Epoch 5/35 [Val]: 100%|██████████| 11/11 [00:04<00:00,  2.57it/s]\n"
     ]
    },
    {
     "name": "stdout",
     "output_type": "stream",
     "text": [
      "Epoch 5/35: Train Loss=1.4328, Train Acc=0.5181, Val Loss=1.7292, Val Acc=0.4619\n"
     ]
    },
    {
     "name": "stderr",
     "output_type": "stream",
     "text": [
      "Epoch 6/35 [Train]: 100%|██████████| 86/86 [00:36<00:00,  2.35it/s]\n",
      "Epoch 6/35 [Val]: 100%|██████████| 11/11 [00:04<00:00,  2.59it/s]\n"
     ]
    },
    {
     "name": "stdout",
     "output_type": "stream",
     "text": [
      "Epoch 6/35: Train Loss=1.3170, Train Acc=0.5514, Val Loss=1.6945, Val Acc=0.4516\n"
     ]
    },
    {
     "name": "stderr",
     "output_type": "stream",
     "text": [
      "Epoch 7/35 [Train]: 100%|██████████| 86/86 [00:36<00:00,  2.36it/s]\n",
      "Epoch 7/35 [Val]: 100%|██████████| 11/11 [00:04<00:00,  2.40it/s]\n"
     ]
    },
    {
     "name": "stdout",
     "output_type": "stream",
     "text": [
      "Epoch 7/35: Train Loss=1.2398, Train Acc=0.5793, Val Loss=1.6886, Val Acc=0.4985\n",
      "Best model saved in d:\\Uni\\Master\\1 Bimestre\\Foundations\\Assignments\\Weather-Clasification\\models\\best_model_CNN_V3_reg.pth (val_acc=0.4985)\n"
     ]
    },
    {
     "name": "stderr",
     "output_type": "stream",
     "text": [
      "Epoch 8/35 [Train]: 100%|██████████| 86/86 [00:36<00:00,  2.36it/s]\n",
      "Epoch 8/35 [Val]: 100%|██████████| 11/11 [00:04<00:00,  2.51it/s]\n"
     ]
    },
    {
     "name": "stdout",
     "output_type": "stream",
     "text": [
      "Epoch 8/35: Train Loss=1.1525, Train Acc=0.6080, Val Loss=1.4676, Val Acc=0.5601\n",
      "Best model saved in d:\\Uni\\Master\\1 Bimestre\\Foundations\\Assignments\\Weather-Clasification\\models\\best_model_CNN_V3_reg.pth (val_acc=0.5601)\n"
     ]
    },
    {
     "name": "stderr",
     "output_type": "stream",
     "text": [
      "Epoch 9/35 [Train]: 100%|██████████| 86/86 [00:36<00:00,  2.37it/s]\n",
      "Epoch 9/35 [Val]: 100%|██████████| 11/11 [00:04<00:00,  2.49it/s]\n"
     ]
    },
    {
     "name": "stdout",
     "output_type": "stream",
     "text": [
      "Epoch 9/35: Train Loss=1.1066, Train Acc=0.6311, Val Loss=1.6423, Val Acc=0.4721\n"
     ]
    },
    {
     "name": "stderr",
     "output_type": "stream",
     "text": [
      "Epoch 10/35 [Train]: 100%|██████████| 86/86 [00:36<00:00,  2.35it/s]\n",
      "Epoch 10/35 [Val]: 100%|██████████| 11/11 [00:04<00:00,  2.40it/s]\n"
     ]
    },
    {
     "name": "stdout",
     "output_type": "stream",
     "text": [
      "Epoch 10/35: Train Loss=1.0529, Train Acc=0.6386, Val Loss=1.4503, Val Acc=0.5806\n",
      "Best model saved in d:\\Uni\\Master\\1 Bimestre\\Foundations\\Assignments\\Weather-Clasification\\models\\best_model_CNN_V3_reg.pth (val_acc=0.5806)\n"
     ]
    },
    {
     "name": "stderr",
     "output_type": "stream",
     "text": [
      "Epoch 11/35 [Train]: 100%|██████████| 86/86 [00:36<00:00,  2.38it/s]\n",
      "Epoch 11/35 [Val]: 100%|██████████| 11/11 [00:04<00:00,  2.54it/s]\n"
     ]
    },
    {
     "name": "stdout",
     "output_type": "stream",
     "text": [
      "Epoch 11/35: Train Loss=1.0562, Train Acc=0.6510, Val Loss=1.4097, Val Acc=0.6012\n",
      "Best model saved in d:\\Uni\\Master\\1 Bimestre\\Foundations\\Assignments\\Weather-Clasification\\models\\best_model_CNN_V3_reg.pth (val_acc=0.6012)\n"
     ]
    },
    {
     "name": "stderr",
     "output_type": "stream",
     "text": [
      "Epoch 12/35 [Train]: 100%|██████████| 86/86 [00:36<00:00,  2.33it/s]\n",
      "Epoch 12/35 [Val]: 100%|██████████| 11/11 [00:04<00:00,  2.52it/s]\n"
     ]
    },
    {
     "name": "stdout",
     "output_type": "stream",
     "text": [
      "Epoch 12/35: Train Loss=0.9932, Train Acc=0.6636, Val Loss=1.4635, Val Acc=0.5293\n"
     ]
    },
    {
     "name": "stderr",
     "output_type": "stream",
     "text": [
      "Epoch 13/35 [Train]: 100%|██████████| 86/86 [00:36<00:00,  2.37it/s]\n",
      "Epoch 13/35 [Val]: 100%|██████████| 11/11 [00:04<00:00,  2.53it/s]\n"
     ]
    },
    {
     "name": "stdout",
     "output_type": "stream",
     "text": [
      "Epoch 13/35: Train Loss=0.9529, Train Acc=0.6789, Val Loss=1.5612, Val Acc=0.4941\n"
     ]
    },
    {
     "name": "stderr",
     "output_type": "stream",
     "text": [
      "Epoch 14/35 [Train]: 100%|██████████| 86/86 [00:36<00:00,  2.37it/s]\n",
      "Epoch 14/35 [Val]: 100%|██████████| 11/11 [00:04<00:00,  2.63it/s]\n"
     ]
    },
    {
     "name": "stdout",
     "output_type": "stream",
     "text": [
      "Epoch 14/35: Train Loss=0.8875, Train Acc=0.6955, Val Loss=1.3580, Val Acc=0.5513\n"
     ]
    },
    {
     "name": "stderr",
     "output_type": "stream",
     "text": [
      "Epoch 15/35 [Train]: 100%|██████████| 86/86 [00:39<00:00,  2.17it/s]\n",
      "Epoch 15/35 [Val]: 100%|██████████| 11/11 [00:04<00:00,  2.64it/s]\n"
     ]
    },
    {
     "name": "stdout",
     "output_type": "stream",
     "text": [
      "Epoch 15/35: Train Loss=0.8710, Train Acc=0.7008, Val Loss=1.3659, Val Acc=0.5396\n"
     ]
    },
    {
     "name": "stderr",
     "output_type": "stream",
     "text": [
      "Epoch 16/35 [Train]: 100%|██████████| 86/86 [00:37<00:00,  2.30it/s]\n",
      "Epoch 16/35 [Val]: 100%|██████████| 11/11 [00:04<00:00,  2.60it/s]\n"
     ]
    },
    {
     "name": "stdout",
     "output_type": "stream",
     "text": [
      "Epoch 16/35: Train Loss=0.8321, Train Acc=0.7179, Val Loss=1.3898, Val Acc=0.5762\n"
     ]
    },
    {
     "name": "stderr",
     "output_type": "stream",
     "text": [
      "Epoch 17/35 [Train]: 100%|██████████| 86/86 [00:36<00:00,  2.37it/s]\n",
      "Epoch 17/35 [Val]: 100%|██████████| 11/11 [00:04<00:00,  2.51it/s]\n"
     ]
    },
    {
     "name": "stdout",
     "output_type": "stream",
     "text": [
      "Epoch 17/35: Train Loss=0.7965, Train Acc=0.7299, Val Loss=1.3952, Val Acc=0.5455\n"
     ]
    },
    {
     "name": "stderr",
     "output_type": "stream",
     "text": [
      "Epoch 18/35 [Train]: 100%|██████████| 86/86 [00:36<00:00,  2.35it/s]\n",
      "Epoch 18/35 [Val]: 100%|██████████| 11/11 [00:04<00:00,  2.45it/s]\n"
     ]
    },
    {
     "name": "stdout",
     "output_type": "stream",
     "text": [
      "Epoch 18/35: Train Loss=0.7413, Train Acc=0.7405, Val Loss=1.3087, Val Acc=0.5572\n"
     ]
    },
    {
     "name": "stderr",
     "output_type": "stream",
     "text": [
      "Epoch 19/35 [Train]: 100%|██████████| 86/86 [00:36<00:00,  2.34it/s]\n",
      "Epoch 19/35 [Val]: 100%|██████████| 11/11 [00:04<00:00,  2.52it/s]\n"
     ]
    },
    {
     "name": "stdout",
     "output_type": "stream",
     "text": [
      "Epoch 19/35: Train Loss=0.7086, Train Acc=0.7485, Val Loss=1.2616, Val Acc=0.5850\n"
     ]
    },
    {
     "name": "stderr",
     "output_type": "stream",
     "text": [
      "Epoch 20/35 [Train]: 100%|██████████| 86/86 [00:36<00:00,  2.33it/s]\n",
      "Epoch 20/35 [Val]: 100%|██████████| 11/11 [00:04<00:00,  2.56it/s]\n"
     ]
    },
    {
     "name": "stdout",
     "output_type": "stream",
     "text": [
      "Epoch 20/35: Train Loss=0.6571, Train Acc=0.7651, Val Loss=1.3757, Val Acc=0.5528\n"
     ]
    },
    {
     "name": "stderr",
     "output_type": "stream",
     "text": [
      "Epoch 21/35 [Train]: 100%|██████████| 86/86 [00:35<00:00,  2.43it/s]\n",
      "Epoch 21/35 [Val]: 100%|██████████| 11/11 [00:04<00:00,  2.56it/s]\n"
     ]
    },
    {
     "name": "stdout",
     "output_type": "stream",
     "text": [
      "Epoch 21/35: Train Loss=0.6661, Train Acc=0.7704, Val Loss=1.4972, Val Acc=0.5191\n"
     ]
    },
    {
     "name": "stderr",
     "output_type": "stream",
     "text": [
      "Epoch 22/35 [Train]: 100%|██████████| 86/86 [00:35<00:00,  2.39it/s]\n",
      "Epoch 22/35 [Val]: 100%|██████████| 11/11 [00:04<00:00,  2.71it/s]\n"
     ]
    },
    {
     "name": "stdout",
     "output_type": "stream",
     "text": [
      "Epoch 22/35: Train Loss=0.6273, Train Acc=0.7819, Val Loss=1.1972, Val Acc=0.6173\n",
      "Best model saved in d:\\Uni\\Master\\1 Bimestre\\Foundations\\Assignments\\Weather-Clasification\\models\\best_model_CNN_V3_reg.pth (val_acc=0.6173)\n"
     ]
    },
    {
     "name": "stderr",
     "output_type": "stream",
     "text": [
      "Epoch 23/35 [Train]: 100%|██████████| 86/86 [00:35<00:00,  2.39it/s]\n",
      "Epoch 23/35 [Val]: 100%|██████████| 11/11 [00:04<00:00,  2.68it/s]\n"
     ]
    },
    {
     "name": "stdout",
     "output_type": "stream",
     "text": [
      "Epoch 23/35: Train Loss=0.5979, Train Acc=0.7945, Val Loss=1.2722, Val Acc=0.5469\n"
     ]
    },
    {
     "name": "stderr",
     "output_type": "stream",
     "text": [
      "Epoch 24/35 [Train]: 100%|██████████| 86/86 [00:35<00:00,  2.40it/s]\n",
      "Epoch 24/35 [Val]: 100%|██████████| 11/11 [00:04<00:00,  2.42it/s]\n"
     ]
    },
    {
     "name": "stdout",
     "output_type": "stream",
     "text": [
      "Epoch 24/35: Train Loss=0.5590, Train Acc=0.8011, Val Loss=1.3373, Val Acc=0.5630\n"
     ]
    },
    {
     "name": "stderr",
     "output_type": "stream",
     "text": [
      "Epoch 25/35 [Train]: 100%|██████████| 86/86 [00:35<00:00,  2.43it/s]\n",
      "Epoch 25/35 [Val]: 100%|██████████| 11/11 [00:04<00:00,  2.60it/s]\n"
     ]
    },
    {
     "name": "stdout",
     "output_type": "stream",
     "text": [
      "Epoch 25/35: Train Loss=0.5213, Train Acc=0.8164, Val Loss=1.2530, Val Acc=0.5894\n"
     ]
    },
    {
     "name": "stderr",
     "output_type": "stream",
     "text": [
      "Epoch 26/35 [Train]: 100%|██████████| 86/86 [00:35<00:00,  2.41it/s]\n",
      "Epoch 26/35 [Val]: 100%|██████████| 11/11 [00:04<00:00,  2.68it/s]\n"
     ]
    },
    {
     "name": "stdout",
     "output_type": "stream",
     "text": [
      "Epoch 26/35: Train Loss=0.4971, Train Acc=0.8249, Val Loss=1.2670, Val Acc=0.5909\n"
     ]
    },
    {
     "name": "stderr",
     "output_type": "stream",
     "text": [
      "Epoch 27/35 [Train]: 100%|██████████| 86/86 [00:35<00:00,  2.41it/s]\n",
      "Epoch 27/35 [Val]: 100%|██████████| 11/11 [00:04<00:00,  2.69it/s]\n"
     ]
    },
    {
     "name": "stdout",
     "output_type": "stream",
     "text": [
      "Epoch 27/35: Train Loss=0.4687, Train Acc=0.8333, Val Loss=1.2022, Val Acc=0.6290\n",
      "Best model saved in d:\\Uni\\Master\\1 Bimestre\\Foundations\\Assignments\\Weather-Clasification\\models\\best_model_CNN_V3_reg.pth (val_acc=0.6290)\n"
     ]
    },
    {
     "name": "stderr",
     "output_type": "stream",
     "text": [
      "Epoch 28/35 [Train]: 100%|██████████| 86/86 [00:36<00:00,  2.39it/s]\n",
      "Epoch 28/35 [Val]: 100%|██████████| 11/11 [00:04<00:00,  2.69it/s]\n"
     ]
    },
    {
     "name": "stdout",
     "output_type": "stream",
     "text": [
      "Epoch 28/35: Train Loss=0.4838, Train Acc=0.8266, Val Loss=1.2402, Val Acc=0.5924\n"
     ]
    },
    {
     "name": "stderr",
     "output_type": "stream",
     "text": [
      "Epoch 29/35 [Train]: 100%|██████████| 86/86 [00:35<00:00,  2.42it/s]\n",
      "Epoch 29/35 [Val]: 100%|██████████| 11/11 [00:04<00:00,  2.69it/s]\n"
     ]
    },
    {
     "name": "stdout",
     "output_type": "stream",
     "text": [
      "Epoch 29/35: Train Loss=0.4299, Train Acc=0.8468, Val Loss=1.2163, Val Acc=0.6188\n"
     ]
    },
    {
     "name": "stderr",
     "output_type": "stream",
     "text": [
      "Epoch 30/35 [Train]: 100%|██████████| 86/86 [00:35<00:00,  2.43it/s]\n",
      "Epoch 30/35 [Val]: 100%|██████████| 11/11 [00:04<00:00,  2.73it/s]\n"
     ]
    },
    {
     "name": "stdout",
     "output_type": "stream",
     "text": [
      "Epoch 30/35: Train Loss=0.4251, Train Acc=0.8439, Val Loss=1.5514, Val Acc=0.5059\n"
     ]
    },
    {
     "name": "stderr",
     "output_type": "stream",
     "text": [
      "Epoch 31/35 [Train]: 100%|██████████| 86/86 [00:36<00:00,  2.36it/s]\n",
      "Epoch 31/35 [Val]: 100%|██████████| 11/11 [00:04<00:00,  2.37it/s]\n"
     ]
    },
    {
     "name": "stdout",
     "output_type": "stream",
     "text": [
      "Epoch 31/35: Train Loss=0.4449, Train Acc=0.8518, Val Loss=1.4015, Val Acc=0.5587\n"
     ]
    },
    {
     "name": "stderr",
     "output_type": "stream",
     "text": [
      "Epoch 32/35 [Train]: 100%|██████████| 86/86 [00:40<00:00,  2.10it/s]\n",
      "Epoch 32/35 [Val]: 100%|██████████| 11/11 [00:04<00:00,  2.62it/s]\n"
     ]
    },
    {
     "name": "stdout",
     "output_type": "stream",
     "text": [
      "Epoch 32/35: Train Loss=0.4374, Train Acc=0.8397, Val Loss=1.2974, Val Acc=0.6026\n"
     ]
    },
    {
     "name": "stderr",
     "output_type": "stream",
     "text": [
      "Epoch 33/35 [Train]: 100%|██████████| 86/86 [00:38<00:00,  2.26it/s]\n",
      "Epoch 33/35 [Val]: 100%|██████████| 11/11 [00:04<00:00,  2.24it/s]\n"
     ]
    },
    {
     "name": "stdout",
     "output_type": "stream",
     "text": [
      "Epoch 33/35: Train Loss=0.4156, Train Acc=0.8578, Val Loss=1.2359, Val Acc=0.6100\n"
     ]
    },
    {
     "name": "stderr",
     "output_type": "stream",
     "text": [
      "Epoch 34/35 [Train]: 100%|██████████| 86/86 [00:36<00:00,  2.36it/s]\n",
      "Epoch 34/35 [Val]: 100%|██████████| 11/11 [00:04<00:00,  2.67it/s]\n"
     ]
    },
    {
     "name": "stdout",
     "output_type": "stream",
     "text": [
      "Epoch 34/35: Train Loss=0.3512, Train Acc=0.8736, Val Loss=1.2481, Val Acc=0.6041\n"
     ]
    },
    {
     "name": "stderr",
     "output_type": "stream",
     "text": [
      "Epoch 35/35 [Train]: 100%|██████████| 86/86 [00:36<00:00,  2.38it/s]\n",
      "Epoch 35/35 [Val]: 100%|██████████| 11/11 [00:04<00:00,  2.71it/s]"
     ]
    },
    {
     "name": "stdout",
     "output_type": "stream",
     "text": [
      "Epoch 35/35: Train Loss=0.3245, Train Acc=0.8818, Val Loss=1.2616, Val Acc=0.6085\n",
      "Training complete. Best val_acc=0.6290\n",
      "MMetrics saved in d:\\Uni\\Master\\1 Bimestre\\Foundations\\Assignments\\Weather-Clasification\\reports\\metrics\\metrics_CNN_V3_reg.pkl\n"
     ]
    },
    {
     "name": "stderr",
     "output_type": "stream",
     "text": [
      "\n"
     ]
    }
   ],
   "source": [
    "input_dim = 224*224*3  # matches the Resize transform\n",
    "model = train_model_improved(CNN_V3_reg, \n",
    "                    train_dir=\"../../data/train\", \n",
    "                    val_dir=\"../../data/val\", \n",
    "                    input_dim=input_dim,\n",
    "                    num_classes=11,\n",
    "                    batch_size=64,\n",
    "                    epochs=50,\n",
    "                    lr=1e-3,\n",
    "                    device=\"cuda\" if torch.cuda.is_available() else \"cpu\")"
   ]
  },
  {
   "cell_type": "code",
   "execution_count": null,
   "id": "bc61895a",
   "metadata": {},
   "outputs": [
    {
     "name": "stdout",
     "output_type": "stream",
     "text": [
      "Class counts: Counter({8: 928, 1: 680, 0: 558, 9: 553, 3: 511, 10: 496, 4: 472, 6: 420, 2: 380, 5: 301, 7: 185})\n",
      "Class weights: {0: '9.828', 1: '8.065', 2: '14.432', 3: '10.732', 4: '11.619', 5: '18.219', 6: '13.057', 7: '29.643', 8: '5.909', 9: '9.917', 10: '11.056'}\n",
      "\n",
      "Model: CNN_V3_Improved\n",
      "Total parameters: 28,574,027\n",
      "Trainable parameters: 28,574,027\n",
      "\n"
     ]
    },
    {
     "name": "stderr",
     "output_type": "stream",
     "text": [
      "Epoch 1/50 [Train]: 100%|██████████| 86/86 [00:45<00:00,  1.91it/s]\n",
      "Epoch 1/50 [Val]: 100%|██████████| 11/11 [00:11<00:00,  1.06s/it]\n"
     ]
    },
    {
     "name": "stdout",
     "output_type": "stream",
     "text": [
      "Epoch 1/50: Train Loss=2.3144, Train Acc=0.2183, Val Loss=2.0832, Val Acc=0.2947, LR=0.001000\n",
      "✓ Best model saved (val_acc=0.2947)\n"
     ]
    },
    {
     "name": "stderr",
     "output_type": "stream",
     "text": [
      "Epoch 2/50 [Train]: 100%|██████████| 86/86 [00:45<00:00,  1.90it/s]\n",
      "Epoch 2/50 [Val]: 100%|██████████| 11/11 [00:10<00:00,  1.06it/s]\n"
     ]
    },
    {
     "name": "stdout",
     "output_type": "stream",
     "text": [
      "Epoch 2/50: Train Loss=1.9754, Train Acc=0.3937, Val Loss=1.7201, Val Acc=0.5587, LR=0.001000\n",
      "✓ Best model saved (val_acc=0.5587)\n"
     ]
    },
    {
     "name": "stderr",
     "output_type": "stream",
     "text": [
      "Epoch 3/50 [Train]: 100%|██████████| 86/86 [00:44<00:00,  1.93it/s]\n",
      "Epoch 3/50 [Val]: 100%|██████████| 11/11 [00:10<00:00,  1.06it/s]\n"
     ]
    },
    {
     "name": "stdout",
     "output_type": "stream",
     "text": [
      "Epoch 3/50: Train Loss=1.7968, Train Acc=0.4863, Val Loss=1.5806, Val Acc=0.5777, LR=0.001000\n",
      "✓ Best model saved (val_acc=0.5777)\n"
     ]
    },
    {
     "name": "stderr",
     "output_type": "stream",
     "text": [
      "Epoch 4/50 [Train]: 100%|██████████| 86/86 [00:44<00:00,  1.95it/s]\n",
      "Epoch 4/50 [Val]: 100%|██████████| 11/11 [00:10<00:00,  1.06it/s]\n"
     ]
    },
    {
     "name": "stdout",
     "output_type": "stream",
     "text": [
      "Epoch 4/50: Train Loss=1.7023, Train Acc=0.5328, Val Loss=1.5142, Val Acc=0.5938, LR=0.001000\n",
      "✓ Best model saved (val_acc=0.5938)\n"
     ]
    },
    {
     "name": "stderr",
     "output_type": "stream",
     "text": [
      "Epoch 5/50 [Train]: 100%|██████████| 86/86 [00:44<00:00,  1.93it/s]\n",
      "Epoch 5/50 [Val]: 100%|██████████| 11/11 [00:11<00:00,  1.07s/it]\n"
     ]
    },
    {
     "name": "stdout",
     "output_type": "stream",
     "text": [
      "Epoch 5/50: Train Loss=1.6662, Train Acc=0.5633, Val Loss=1.5118, Val Acc=0.6276, LR=0.001000\n",
      "✓ Best model saved (val_acc=0.6276)\n"
     ]
    },
    {
     "name": "stderr",
     "output_type": "stream",
     "text": [
      "Epoch 6/50 [Train]: 100%|██████████| 86/86 [00:45<00:00,  1.90it/s]\n",
      "Epoch 6/50 [Val]: 100%|██████████| 11/11 [00:11<00:00,  1.02s/it]\n"
     ]
    },
    {
     "name": "stdout",
     "output_type": "stream",
     "text": [
      "Epoch 6/50: Train Loss=1.6062, Train Acc=0.5744, Val Loss=1.4585, Val Acc=0.6422, LR=0.001000\n",
      "✓ Best model saved (val_acc=0.6422)\n"
     ]
    },
    {
     "name": "stderr",
     "output_type": "stream",
     "text": [
      "Epoch 7/50 [Train]: 100%|██████████| 86/86 [01:12<00:00,  1.19it/s]\n",
      "Epoch 7/50 [Val]: 100%|██████████| 11/11 [00:10<00:00,  1.03it/s]\n"
     ]
    },
    {
     "name": "stdout",
     "output_type": "stream",
     "text": [
      "Epoch 7/50: Train Loss=1.5770, Train Acc=0.5928, Val Loss=1.4655, Val Acc=0.6510, LR=0.001000\n",
      "✓ Best model saved (val_acc=0.6510)\n"
     ]
    },
    {
     "name": "stderr",
     "output_type": "stream",
     "text": [
      "Epoch 8/50 [Train]: 100%|██████████| 86/86 [00:39<00:00,  2.16it/s]\n",
      "Epoch 8/50 [Val]: 100%|██████████| 11/11 [00:09<00:00,  1.18it/s]\n"
     ]
    },
    {
     "name": "stdout",
     "output_type": "stream",
     "text": [
      "Epoch 8/50: Train Loss=1.5325, Train Acc=0.6145, Val Loss=1.4827, Val Acc=0.6276, LR=0.001000\n"
     ]
    },
    {
     "name": "stderr",
     "output_type": "stream",
     "text": [
      "Epoch 9/50 [Train]: 100%|██████████| 86/86 [00:39<00:00,  2.17it/s]\n",
      "Epoch 9/50 [Val]: 100%|██████████| 11/11 [00:09<00:00,  1.12it/s]\n"
     ]
    },
    {
     "name": "stdout",
     "output_type": "stream",
     "text": [
      "Epoch 9/50: Train Loss=1.5064, Train Acc=0.6313, Val Loss=1.4131, Val Acc=0.6554, LR=0.001000\n",
      "✓ Best model saved (val_acc=0.6554)\n"
     ]
    },
    {
     "name": "stderr",
     "output_type": "stream",
     "text": [
      "Epoch 10/50 [Train]: 100%|██████████| 86/86 [00:38<00:00,  2.21it/s]\n",
      "Epoch 10/50 [Val]: 100%|██████████| 11/11 [00:09<00:00,  1.15it/s]\n"
     ]
    },
    {
     "name": "stdout",
     "output_type": "stream",
     "text": [
      "Epoch 10/50: Train Loss=1.4741, Train Acc=0.6442, Val Loss=1.3929, Val Acc=0.6584, LR=0.001000\n",
      "✓ Best model saved (val_acc=0.6584)\n"
     ]
    },
    {
     "name": "stderr",
     "output_type": "stream",
     "text": [
      "Epoch 11/50 [Train]: 100%|██████████| 86/86 [00:43<00:00,  1.97it/s]\n",
      "Epoch 11/50 [Val]: 100%|██████████| 11/11 [00:10<00:00,  1.04it/s]\n"
     ]
    },
    {
     "name": "stdout",
     "output_type": "stream",
     "text": [
      "Epoch 11/50: Train Loss=1.4271, Train Acc=0.6583, Val Loss=1.3833, Val Acc=0.6554, LR=0.001000\n"
     ]
    },
    {
     "name": "stderr",
     "output_type": "stream",
     "text": [
      "Epoch 12/50 [Train]: 100%|██████████| 86/86 [00:40<00:00,  2.14it/s]\n",
      "Epoch 12/50 [Val]: 100%|██████████| 11/11 [00:09<00:00,  1.14it/s]\n"
     ]
    },
    {
     "name": "stdout",
     "output_type": "stream",
     "text": [
      "Epoch 12/50: Train Loss=1.4253, Train Acc=0.6617, Val Loss=1.3717, Val Acc=0.6657, LR=0.001000\n",
      "✓ Best model saved (val_acc=0.6657)\n"
     ]
    },
    {
     "name": "stderr",
     "output_type": "stream",
     "text": [
      "Epoch 13/50 [Train]: 100%|██████████| 86/86 [00:40<00:00,  2.11it/s]\n",
      "Epoch 13/50 [Val]: 100%|██████████| 11/11 [00:09<00:00,  1.16it/s]\n"
     ]
    },
    {
     "name": "stdout",
     "output_type": "stream",
     "text": [
      "Epoch 13/50: Train Loss=1.4204, Train Acc=0.6637, Val Loss=1.3514, Val Acc=0.6862, LR=0.001000\n",
      "✓ Best model saved (val_acc=0.6862)\n"
     ]
    },
    {
     "name": "stderr",
     "output_type": "stream",
     "text": [
      "Epoch 14/50 [Train]: 100%|██████████| 86/86 [00:38<00:00,  2.21it/s]\n",
      "Epoch 14/50 [Val]: 100%|██████████| 11/11 [00:09<00:00,  1.17it/s]\n"
     ]
    },
    {
     "name": "stdout",
     "output_type": "stream",
     "text": [
      "Epoch 14/50: Train Loss=1.3885, Train Acc=0.6765, Val Loss=1.3500, Val Acc=0.6789, LR=0.001000\n"
     ]
    },
    {
     "name": "stderr",
     "output_type": "stream",
     "text": [
      "Epoch 15/50 [Train]: 100%|██████████| 86/86 [00:38<00:00,  2.21it/s]\n",
      "Epoch 15/50 [Val]: 100%|██████████| 11/11 [00:09<00:00,  1.15it/s]\n"
     ]
    },
    {
     "name": "stdout",
     "output_type": "stream",
     "text": [
      "Epoch 15/50: Train Loss=1.3936, Train Acc=0.6698, Val Loss=1.3411, Val Acc=0.6979, LR=0.001000\n",
      "✓ Best model saved (val_acc=0.6979)\n"
     ]
    },
    {
     "name": "stderr",
     "output_type": "stream",
     "text": [
      "Epoch 16/50 [Train]: 100%|██████████| 86/86 [00:38<00:00,  2.21it/s]\n",
      "Epoch 16/50 [Val]: 100%|██████████| 11/11 [00:09<00:00,  1.16it/s]\n"
     ]
    },
    {
     "name": "stdout",
     "output_type": "stream",
     "text": [
      "Epoch 16/50: Train Loss=1.3472, Train Acc=0.6940, Val Loss=1.3389, Val Acc=0.6979, LR=0.001000\n"
     ]
    },
    {
     "name": "stderr",
     "output_type": "stream",
     "text": [
      "Epoch 17/50 [Train]: 100%|██████████| 86/86 [00:38<00:00,  2.22it/s]\n",
      "Epoch 17/50 [Val]: 100%|██████████| 11/11 [00:09<00:00,  1.18it/s]\n"
     ]
    },
    {
     "name": "stdout",
     "output_type": "stream",
     "text": [
      "Epoch 17/50: Train Loss=1.3543, Train Acc=0.6887, Val Loss=1.3006, Val Acc=0.7111, LR=0.001000\n",
      "✓ Best model saved (val_acc=0.7111)\n"
     ]
    },
    {
     "name": "stderr",
     "output_type": "stream",
     "text": [
      "Epoch 18/50 [Train]: 100%|██████████| 86/86 [00:39<00:00,  2.18it/s]\n",
      "Epoch 18/50 [Val]: 100%|██████████| 11/11 [00:09<00:00,  1.11it/s]\n"
     ]
    },
    {
     "name": "stdout",
     "output_type": "stream",
     "text": [
      "Epoch 18/50: Train Loss=1.3044, Train Acc=0.7059, Val Loss=1.3062, Val Acc=0.7199, LR=0.001000\n",
      "✓ Best model saved (val_acc=0.7199)\n"
     ]
    },
    {
     "name": "stderr",
     "output_type": "stream",
     "text": [
      "Epoch 19/50 [Train]: 100%|██████████| 86/86 [00:40<00:00,  2.12it/s]\n",
      "Epoch 19/50 [Val]: 100%|██████████| 11/11 [00:09<00:00,  1.18it/s]\n"
     ]
    },
    {
     "name": "stdout",
     "output_type": "stream",
     "text": [
      "Epoch 19/50: Train Loss=1.2898, Train Acc=0.7128, Val Loss=1.2978, Val Acc=0.7170, LR=0.001000\n"
     ]
    },
    {
     "name": "stderr",
     "output_type": "stream",
     "text": [
      "Epoch 20/50 [Train]: 100%|██████████| 86/86 [00:38<00:00,  2.23it/s]\n",
      "Epoch 20/50 [Val]: 100%|██████████| 11/11 [00:09<00:00,  1.18it/s]\n"
     ]
    },
    {
     "name": "stdout",
     "output_type": "stream",
     "text": [
      "Epoch 20/50: Train Loss=1.2733, Train Acc=0.7256, Val Loss=1.2757, Val Acc=0.7273, LR=0.001000\n",
      "✓ Best model saved (val_acc=0.7273)\n"
     ]
    },
    {
     "name": "stderr",
     "output_type": "stream",
     "text": [
      "Epoch 21/50 [Train]: 100%|██████████| 86/86 [00:38<00:00,  2.22it/s]\n",
      "Epoch 21/50 [Val]: 100%|██████████| 11/11 [00:09<00:00,  1.16it/s]\n"
     ]
    },
    {
     "name": "stdout",
     "output_type": "stream",
     "text": [
      "Epoch 21/50: Train Loss=1.2545, Train Acc=0.7248, Val Loss=1.2726, Val Acc=0.7302, LR=0.001000\n",
      "✓ Best model saved (val_acc=0.7302)\n"
     ]
    },
    {
     "name": "stderr",
     "output_type": "stream",
     "text": [
      "Epoch 22/50 [Train]: 100%|██████████| 86/86 [00:38<00:00,  2.22it/s]\n",
      "Epoch 22/50 [Val]: 100%|██████████| 11/11 [00:09<00:00,  1.18it/s]\n"
     ]
    },
    {
     "name": "stdout",
     "output_type": "stream",
     "text": [
      "Epoch 22/50: Train Loss=1.2400, Train Acc=0.7319, Val Loss=1.2797, Val Acc=0.7405, LR=0.001000\n",
      "✓ Best model saved (val_acc=0.7405)\n"
     ]
    },
    {
     "name": "stderr",
     "output_type": "stream",
     "text": [
      "Epoch 23/50 [Train]: 100%|██████████| 86/86 [00:38<00:00,  2.22it/s]\n",
      "Epoch 23/50 [Val]: 100%|██████████| 11/11 [00:09<00:00,  1.17it/s]\n"
     ]
    },
    {
     "name": "stdout",
     "output_type": "stream",
     "text": [
      "Epoch 23/50: Train Loss=1.2335, Train Acc=0.7449, Val Loss=1.2719, Val Acc=0.7390, LR=0.001000\n"
     ]
    },
    {
     "name": "stderr",
     "output_type": "stream",
     "text": [
      "Epoch 24/50 [Train]: 100%|██████████| 86/86 [00:39<00:00,  2.16it/s]\n",
      "Epoch 24/50 [Val]: 100%|██████████| 11/11 [00:09<00:00,  1.16it/s]\n"
     ]
    },
    {
     "name": "stdout",
     "output_type": "stream",
     "text": [
      "Epoch 24/50: Train Loss=1.2032, Train Acc=0.7482, Val Loss=1.2336, Val Acc=0.7273, LR=0.001000\n"
     ]
    },
    {
     "name": "stderr",
     "output_type": "stream",
     "text": [
      "Epoch 25/50 [Train]: 100%|██████████| 86/86 [00:38<00:00,  2.23it/s]\n",
      "Epoch 25/50 [Val]: 100%|██████████| 11/11 [00:09<00:00,  1.18it/s]\n"
     ]
    },
    {
     "name": "stdout",
     "output_type": "stream",
     "text": [
      "Epoch 25/50: Train Loss=1.1927, Train Acc=0.7526, Val Loss=1.2415, Val Acc=0.7449, LR=0.001000\n",
      "✓ Best model saved (val_acc=0.7449)\n"
     ]
    },
    {
     "name": "stderr",
     "output_type": "stream",
     "text": [
      "Epoch 26/50 [Train]: 100%|██████████| 86/86 [00:39<00:00,  2.18it/s]\n",
      "Epoch 26/50 [Val]: 100%|██████████| 11/11 [00:09<00:00,  1.18it/s]\n"
     ]
    },
    {
     "name": "stdout",
     "output_type": "stream",
     "text": [
      "Epoch 26/50: Train Loss=1.1759, Train Acc=0.7619, Val Loss=1.2579, Val Acc=0.7331, LR=0.001000\n"
     ]
    },
    {
     "name": "stderr",
     "output_type": "stream",
     "text": [
      "Epoch 27/50 [Train]: 100%|██████████| 86/86 [00:38<00:00,  2.21it/s]\n",
      "Epoch 27/50 [Val]: 100%|██████████| 11/11 [00:09<00:00,  1.19it/s]\n"
     ]
    },
    {
     "name": "stdout",
     "output_type": "stream",
     "text": [
      "Epoch 27/50: Train Loss=1.1600, Train Acc=0.7695, Val Loss=1.2405, Val Acc=0.7507, LR=0.001000\n",
      "✓ Best model saved (val_acc=0.7507)\n"
     ]
    },
    {
     "name": "stderr",
     "output_type": "stream",
     "text": [
      "Epoch 28/50 [Train]: 100%|██████████| 86/86 [00:39<00:00,  2.20it/s]\n",
      "Epoch 28/50 [Val]: 100%|██████████| 11/11 [00:09<00:00,  1.18it/s]\n"
     ]
    },
    {
     "name": "stdout",
     "output_type": "stream",
     "text": [
      "Epoch 28/50: Train Loss=1.1475, Train Acc=0.7733, Val Loss=1.2567, Val Acc=0.7287, LR=0.001000\n"
     ]
    },
    {
     "name": "stderr",
     "output_type": "stream",
     "text": [
      "Epoch 29/50 [Train]: 100%|██████████| 86/86 [00:38<00:00,  2.22it/s]\n",
      "Epoch 29/50 [Val]: 100%|██████████| 11/11 [00:09<00:00,  1.19it/s]\n"
     ]
    },
    {
     "name": "stdout",
     "output_type": "stream",
     "text": [
      "Epoch 29/50: Train Loss=1.1197, Train Acc=0.7803, Val Loss=1.2410, Val Acc=0.7375, LR=0.001000\n"
     ]
    },
    {
     "name": "stderr",
     "output_type": "stream",
     "text": [
      "Epoch 30/50 [Train]: 100%|██████████| 86/86 [00:38<00:00,  2.23it/s]\n",
      "Epoch 30/50 [Val]: 100%|██████████| 11/11 [00:09<00:00,  1.18it/s]\n"
     ]
    },
    {
     "name": "stdout",
     "output_type": "stream",
     "text": [
      "Epoch 30/50: Train Loss=1.1082, Train Acc=0.7883, Val Loss=1.2611, Val Acc=0.7331, LR=0.001000\n"
     ]
    },
    {
     "name": "stderr",
     "output_type": "stream",
     "text": [
      "Epoch 31/50 [Train]: 100%|██████████| 86/86 [00:38<00:00,  2.21it/s]\n",
      "Epoch 31/50 [Val]: 100%|██████████| 11/11 [00:09<00:00,  1.12it/s]\n"
     ]
    },
    {
     "name": "stdout",
     "output_type": "stream",
     "text": [
      "Epoch 31/50: Train Loss=1.0623, Train Acc=0.8155, Val Loss=1.2047, Val Acc=0.7551, LR=0.000500\n",
      "✓ Best model saved (val_acc=0.7551)\n"
     ]
    },
    {
     "name": "stderr",
     "output_type": "stream",
     "text": [
      "Epoch 32/50 [Train]: 100%|██████████| 86/86 [00:38<00:00,  2.21it/s]\n",
      "Epoch 32/50 [Val]: 100%|██████████| 11/11 [00:09<00:00,  1.18it/s]\n"
     ]
    },
    {
     "name": "stdout",
     "output_type": "stream",
     "text": [
      "Epoch 32/50: Train Loss=1.0278, Train Acc=0.8240, Val Loss=1.2009, Val Acc=0.7522, LR=0.000500\n"
     ]
    },
    {
     "name": "stderr",
     "output_type": "stream",
     "text": [
      "Epoch 33/50 [Train]: 100%|██████████| 86/86 [00:38<00:00,  2.22it/s]\n",
      "Epoch 33/50 [Val]: 100%|██████████| 11/11 [00:09<00:00,  1.18it/s]\n"
     ]
    },
    {
     "name": "stdout",
     "output_type": "stream",
     "text": [
      "Epoch 33/50: Train Loss=1.0022, Train Acc=0.8260, Val Loss=1.1940, Val Acc=0.7669, LR=0.000500\n",
      "✓ Best model saved (val_acc=0.7669)\n"
     ]
    },
    {
     "name": "stderr",
     "output_type": "stream",
     "text": [
      "Epoch 34/50 [Train]: 100%|██████████| 86/86 [00:38<00:00,  2.21it/s]\n",
      "Epoch 34/50 [Val]: 100%|██████████| 11/11 [00:09<00:00,  1.20it/s]\n"
     ]
    },
    {
     "name": "stdout",
     "output_type": "stream",
     "text": [
      "Epoch 34/50: Train Loss=0.9940, Train Acc=0.8366, Val Loss=1.1865, Val Acc=0.7581, LR=0.000500\n"
     ]
    },
    {
     "name": "stderr",
     "output_type": "stream",
     "text": [
      "Epoch 35/50 [Train]: 100%|██████████| 86/86 [00:38<00:00,  2.22it/s]\n",
      "Epoch 35/50 [Val]: 100%|██████████| 11/11 [00:09<00:00,  1.18it/s]\n"
     ]
    },
    {
     "name": "stdout",
     "output_type": "stream",
     "text": [
      "Epoch 35/50: Train Loss=0.9844, Train Acc=0.8381, Val Loss=1.2066, Val Acc=0.7610, LR=0.000500\n"
     ]
    },
    {
     "name": "stderr",
     "output_type": "stream",
     "text": [
      "Epoch 36/50 [Train]: 100%|██████████| 86/86 [00:38<00:00,  2.22it/s]\n",
      "Epoch 36/50 [Val]: 100%|██████████| 11/11 [00:09<00:00,  1.18it/s]\n"
     ]
    },
    {
     "name": "stdout",
     "output_type": "stream",
     "text": [
      "Epoch 36/50: Train Loss=0.9735, Train Acc=0.8454, Val Loss=1.1695, Val Acc=0.7669, LR=0.000500\n"
     ]
    },
    {
     "name": "stderr",
     "output_type": "stream",
     "text": [
      "Epoch 37/50 [Train]: 100%|██████████| 86/86 [00:38<00:00,  2.22it/s]\n",
      "Epoch 37/50 [Val]: 100%|██████████| 11/11 [00:09<00:00,  1.20it/s]\n"
     ]
    },
    {
     "name": "stdout",
     "output_type": "stream",
     "text": [
      "Epoch 37/50: Train Loss=0.9574, Train Acc=0.8505, Val Loss=1.1877, Val Acc=0.7727, LR=0.000500\n",
      "✓ Best model saved (val_acc=0.7727)\n"
     ]
    },
    {
     "name": "stderr",
     "output_type": "stream",
     "text": [
      "Epoch 38/50 [Train]: 100%|██████████| 86/86 [00:39<00:00,  2.20it/s]\n",
      "Epoch 38/50 [Val]: 100%|██████████| 11/11 [00:09<00:00,  1.15it/s]\n"
     ]
    },
    {
     "name": "stdout",
     "output_type": "stream",
     "text": [
      "Epoch 38/50: Train Loss=0.9585, Train Acc=0.8465, Val Loss=1.1954, Val Acc=0.7742, LR=0.000500\n",
      "✓ Best model saved (val_acc=0.7742)\n"
     ]
    },
    {
     "name": "stderr",
     "output_type": "stream",
     "text": [
      "Epoch 39/50 [Train]: 100%|██████████| 86/86 [00:39<00:00,  2.20it/s]\n",
      "Epoch 39/50 [Val]: 100%|██████████| 11/11 [00:09<00:00,  1.20it/s]\n"
     ]
    },
    {
     "name": "stdout",
     "output_type": "stream",
     "text": [
      "Epoch 39/50: Train Loss=0.9347, Train Acc=0.8587, Val Loss=1.1862, Val Acc=0.7742, LR=0.000500\n"
     ]
    },
    {
     "name": "stderr",
     "output_type": "stream",
     "text": [
      "Epoch 40/50 [Train]: 100%|██████████| 86/86 [00:38<00:00,  2.21it/s]\n",
      "Epoch 40/50 [Val]: 100%|██████████| 11/11 [00:09<00:00,  1.20it/s]\n"
     ]
    },
    {
     "name": "stdout",
     "output_type": "stream",
     "text": [
      "Epoch 40/50: Train Loss=0.9374, Train Acc=0.8567, Val Loss=1.1878, Val Acc=0.7801, LR=0.000500\n",
      "✓ Best model saved (val_acc=0.7801)\n"
     ]
    },
    {
     "name": "stderr",
     "output_type": "stream",
     "text": [
      "Epoch 41/50 [Train]: 100%|██████████| 86/86 [40:32<00:00, 28.28s/it]    \n",
      "Epoch 41/50 [Val]: 100%|██████████| 11/11 [00:16<00:00,  1.49s/it]\n"
     ]
    },
    {
     "name": "stdout",
     "output_type": "stream",
     "text": [
      "Epoch 41/50: Train Loss=0.9366, Train Acc=0.8583, Val Loss=1.1605, Val Acc=0.7815, LR=0.000500\n",
      "✓ Best model saved (val_acc=0.7815)\n"
     ]
    },
    {
     "name": "stderr",
     "output_type": "stream",
     "text": [
      "Epoch 42/50 [Train]: 100%|██████████| 86/86 [00:46<00:00,  1.85it/s]\n",
      "Epoch 42/50 [Val]: 100%|██████████| 11/11 [00:19<00:00,  1.74s/it]\n"
     ]
    },
    {
     "name": "stdout",
     "output_type": "stream",
     "text": [
      "Epoch 42/50: Train Loss=0.9237, Train Acc=0.8634, Val Loss=1.1717, Val Acc=0.7683, LR=0.000500\n"
     ]
    },
    {
     "name": "stderr",
     "output_type": "stream",
     "text": [
      "Epoch 43/50 [Train]: 100%|██████████| 86/86 [00:44<00:00,  1.93it/s]\n",
      "Epoch 43/50 [Val]: 100%|██████████| 11/11 [00:09<00:00,  1.12it/s]\n"
     ]
    },
    {
     "name": "stdout",
     "output_type": "stream",
     "text": [
      "Epoch 43/50: Train Loss=0.9185, Train Acc=0.8663, Val Loss=1.1778, Val Acc=0.7757, LR=0.000500\n"
     ]
    },
    {
     "name": "stderr",
     "output_type": "stream",
     "text": [
      "Epoch 44/50 [Train]: 100%|██████████| 86/86 [00:45<00:00,  1.91it/s]\n",
      "Epoch 44/50 [Val]: 100%|██████████| 11/11 [00:09<00:00,  1.11it/s]\n"
     ]
    },
    {
     "name": "stdout",
     "output_type": "stream",
     "text": [
      "Epoch 44/50: Train Loss=0.9010, Train Acc=0.8693, Val Loss=1.1883, Val Acc=0.7698, LR=0.000500\n"
     ]
    },
    {
     "name": "stderr",
     "output_type": "stream",
     "text": [
      "Epoch 45/50 [Train]: 100%|██████████| 86/86 [00:43<00:00,  1.98it/s]\n",
      "Epoch 45/50 [Val]: 100%|██████████| 11/11 [00:10<00:00,  1.09it/s]\n"
     ]
    },
    {
     "name": "stdout",
     "output_type": "stream",
     "text": [
      "Epoch 45/50: Train Loss=0.8970, Train Acc=0.8724, Val Loss=1.1941, Val Acc=0.7742, LR=0.000500\n"
     ]
    },
    {
     "name": "stderr",
     "output_type": "stream",
     "text": [
      "Epoch 46/50 [Train]: 100%|██████████| 86/86 [00:43<00:00,  1.96it/s]\n",
      "Epoch 46/50 [Val]: 100%|██████████| 11/11 [00:11<00:00,  1.01s/it]\n"
     ]
    },
    {
     "name": "stdout",
     "output_type": "stream",
     "text": [
      "Epoch 46/50: Train Loss=0.8915, Train Acc=0.8722, Val Loss=1.1854, Val Acc=0.7815, LR=0.000500\n"
     ]
    },
    {
     "name": "stderr",
     "output_type": "stream",
     "text": [
      "Epoch 47/50 [Train]: 100%|██████████| 86/86 [00:44<00:00,  1.95it/s]\n",
      "Epoch 47/50 [Val]: 100%|██████████| 11/11 [00:10<00:00,  1.07it/s]\n"
     ]
    },
    {
     "name": "stdout",
     "output_type": "stream",
     "text": [
      "Epoch 47/50: Train Loss=0.8754, Train Acc=0.8793, Val Loss=1.1897, Val Acc=0.7683, LR=0.000500\n"
     ]
    },
    {
     "name": "stderr",
     "output_type": "stream",
     "text": [
      "Epoch 48/50 [Train]: 100%|██████████| 86/86 [00:45<00:00,  1.90it/s]\n",
      "Epoch 48/50 [Val]: 100%|██████████| 11/11 [00:10<00:00,  1.08it/s]\n"
     ]
    },
    {
     "name": "stdout",
     "output_type": "stream",
     "text": [
      "Epoch 48/50: Train Loss=0.8610, Train Acc=0.8899, Val Loss=1.1881, Val Acc=0.7669, LR=0.000250\n"
     ]
    },
    {
     "name": "stderr",
     "output_type": "stream",
     "text": [
      "Epoch 49/50 [Train]: 100%|██████████| 86/86 [00:44<00:00,  1.95it/s]\n",
      "Epoch 49/50 [Val]: 100%|██████████| 11/11 [00:10<00:00,  1.07it/s]\n"
     ]
    },
    {
     "name": "stdout",
     "output_type": "stream",
     "text": [
      "Epoch 49/50: Train Loss=0.8439, Train Acc=0.8926, Val Loss=1.1834, Val Acc=0.7859, LR=0.000250\n",
      "✓ Best model saved (val_acc=0.7859)\n"
     ]
    },
    {
     "name": "stderr",
     "output_type": "stream",
     "text": [
      "Epoch 50/50 [Train]: 100%|██████████| 86/86 [00:44<00:00,  1.94it/s]\n",
      "Epoch 50/50 [Val]: 100%|██████████| 11/11 [00:11<00:00,  1.02s/it]"
     ]
    },
    {
     "name": "stdout",
     "output_type": "stream",
     "text": [
      "Epoch 50/50: Train Loss=0.8340, Train Acc=0.8977, Val Loss=1.1785, Val Acc=0.7742, LR=0.000250\n",
      "\n",
      "Training complete!\n",
      "Best val_acc: 0.7859\n",
      "Best val_loss: 1.1834\n",
      "Metrics saved in d:\\Uni\\Master\\1 Bimestre\\Foundations\\Assignments\\Weather-Clasification\\reports\\metrics\\metrics_CNN_V3_Improved.pkl\n",
      "Model saved in d:\\Uni\\Master\\1 Bimestre\\Foundations\\Assignments\\Weather-Clasification\\models\\best_model_CNN_V3_Improved.pth\n"
     ]
    },
    {
     "name": "stderr",
     "output_type": "stream",
     "text": [
      "\n"
     ]
    }
   ],
   "source": [
    "input_dim = 224*224*3  # matches the Resize transform\n",
    "model = train_model_improved(CNN_V3_Improved, \n",
    "                    train_dir=\"../../data/train\", \n",
    "                    val_dir=\"../../data/val\", \n",
    "                    input_dim=input_dim,\n",
    "                    num_classes=11,\n",
    "                    batch_size=64,\n",
    "                    epochs=50,\n",
    "                    lr=1e-3,\n",
    "                    device=\"cuda\" if torch.cuda.is_available() else \"cpu\")"
   ]
  },
  {
   "cell_type": "code",
   "execution_count": null,
   "id": "e6dbbc77",
   "metadata": {},
   "outputs": [],
   "source": []
  }
 ],
 "metadata": {
  "kernelspec": {
   "display_name": "py311ml",
   "language": "python",
   "name": "python3"
  },
  "language_info": {
   "codemirror_mode": {
    "name": "ipython",
    "version": 3
   },
   "file_extension": ".py",
   "mimetype": "text/x-python",
   "name": "python",
   "nbconvert_exporter": "python",
   "pygments_lexer": "ipython3",
   "version": "3.11.13"
  }
 },
 "nbformat": 4,
 "nbformat_minor": 5
}
