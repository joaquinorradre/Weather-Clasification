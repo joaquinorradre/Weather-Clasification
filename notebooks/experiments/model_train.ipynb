{
 "cells": [
  {
   "cell_type": "code",
   "execution_count": 7,
   "id": "d2bc7a26",
   "metadata": {},
   "outputs": [],
   "source": [
    "import sys\n",
    "import os\n",
    "\n",
    "# Add the root folder of your project\n",
    "root_path = os.path.abspath(os.path.join(\"..\", \"..\"))  # two levels up from experiments\n",
    "sys.path.append(root_path)\n",
    "\n",
    "from weather_classification.modeling.mlp import MLPClassifier\n",
    "from weather_classification.weather_dataset import WeatherDataset\n",
    "from weather_classification.train import train_model\n",
    "from weather_classification.modeling.modern_lenet import LeNetModern\n",
    "from weather_classification.modeling.cnn import CNN_V1, CNN_V1_reg, CNN_V2, CNN_V2_reg\n",
    "\n",
    "import torch"
   ]
  },
  {
   "cell_type": "code",
   "execution_count": 2,
   "id": "4596f311",
   "metadata": {},
   "outputs": [
    {
     "name": "stderr",
     "output_type": "stream",
     "text": [
      "Epoch 1/5 [Train]: 100%|██████████| 86/86 [00:22<00:00,  3.89it/s]\n",
      "Epoch 1/5 [Val]: 100%|██████████| 11/11 [00:02<00:00,  4.20it/s]\n"
     ]
    },
    {
     "name": "stdout",
     "output_type": "stream",
     "text": [
      "Epoch 1/5: Train Loss=2.2210, Train Acc=0.2239, Val Loss=1.7429, Val Acc=0.4208\n",
      "Best model saved (val_acc=0.4208)\n",
      "Best model saved in d:\\Uni\\Master\\1 Bimestre\\Foundations\\Assignments\\Weather-Clasification\\models\\best_model_MLPClassifier.pth (val_acc=0.4208)\n"
     ]
    },
    {
     "name": "stderr",
     "output_type": "stream",
     "text": [
      "Epoch 2/5 [Train]: 100%|██████████| 86/86 [00:22<00:00,  3.76it/s]\n",
      "Epoch 2/5 [Val]: 100%|██████████| 11/11 [00:02<00:00,  4.44it/s]\n"
     ]
    },
    {
     "name": "stdout",
     "output_type": "stream",
     "text": [
      "Epoch 2/5: Train Loss=1.8275, Train Acc=0.3822, Val Loss=1.6435, Val Acc=0.4575\n",
      "Best model saved (val_acc=0.4575)\n",
      "Best model saved in d:\\Uni\\Master\\1 Bimestre\\Foundations\\Assignments\\Weather-Clasification\\models\\best_model_MLPClassifier.pth (val_acc=0.4575)\n"
     ]
    },
    {
     "name": "stderr",
     "output_type": "stream",
     "text": [
      "Epoch 3/5 [Train]: 100%|██████████| 86/86 [00:23<00:00,  3.71it/s]\n",
      "Epoch 3/5 [Val]: 100%|██████████| 11/11 [00:02<00:00,  4.55it/s]\n"
     ]
    },
    {
     "name": "stdout",
     "output_type": "stream",
     "text": [
      "Epoch 3/5: Train Loss=1.7398, Train Acc=0.4130, Val Loss=1.6324, Val Acc=0.4531\n"
     ]
    },
    {
     "name": "stderr",
     "output_type": "stream",
     "text": [
      "Epoch 4/5 [Train]: 100%|██████████| 86/86 [00:22<00:00,  3.87it/s]\n",
      "Epoch 4/5 [Val]: 100%|██████████| 11/11 [00:02<00:00,  4.47it/s]\n"
     ]
    },
    {
     "name": "stdout",
     "output_type": "stream",
     "text": [
      "Epoch 4/5: Train Loss=1.7220, Train Acc=0.4283, Val Loss=1.6175, Val Acc=0.4751\n",
      "Best model saved (val_acc=0.4751)\n",
      "Best model saved in d:\\Uni\\Master\\1 Bimestre\\Foundations\\Assignments\\Weather-Clasification\\models\\best_model_MLPClassifier.pth (val_acc=0.4751)\n"
     ]
    },
    {
     "name": "stderr",
     "output_type": "stream",
     "text": [
      "Epoch 5/5 [Train]: 100%|██████████| 86/86 [00:22<00:00,  3.82it/s]\n",
      "Epoch 5/5 [Val]: 100%|██████████| 11/11 [00:02<00:00,  4.57it/s]\n"
     ]
    },
    {
     "name": "stdout",
     "output_type": "stream",
     "text": [
      "Epoch 5/5: Train Loss=1.7099, Train Acc=0.4342, Val Loss=1.6064, Val Acc=0.4824\n",
      "Best model saved (val_acc=0.4824)\n",
      "Best model saved in d:\\Uni\\Master\\1 Bimestre\\Foundations\\Assignments\\Weather-Clasification\\models\\best_model_MLPClassifier.pth (val_acc=0.4824)\n",
      "Training complete. Best val_acc=0.4824\n",
      "MMetrics saved in d:\\Uni\\Master\\1 Bimestre\\Foundations\\Assignments\\Weather-Clasification\\reports\\metrics\\metrics_MLPClassifier.pkl\n"
     ]
    }
   ],
   "source": [
    "input_dim = 64*64*3  # matches the Resize transform\n",
    "model = train_model(MLPClassifier, \n",
    "                    train_dir=\"../../data/train\", \n",
    "                    val_dir=\"../../data/val\", \n",
    "                    input_dim=input_dim,\n",
    "                    num_classes=11,\n",
    "                    batch_size=64,\n",
    "                    epochs=5,\n",
    "                    lr=1e-3,\n",
    "                    device=\"cuda\" if torch.cuda.is_available() else \"cpu\")\n"
   ]
  },
  {
   "cell_type": "code",
   "execution_count": 4,
   "id": "0fc75620",
   "metadata": {},
   "outputs": [
    {
     "name": "stderr",
     "output_type": "stream",
     "text": [
      "Epoch 1/5 [Train]: 100%|██████████| 86/86 [00:23<00:00,  3.72it/s]\n",
      "Epoch 1/5 [Val]: 100%|██████████| 11/11 [00:02<00:00,  4.31it/s]\n"
     ]
    },
    {
     "name": "stdout",
     "output_type": "stream",
     "text": [
      "Epoch 1/5: Train Loss=2.1214, Train Acc=0.2569, Val Loss=1.8486, Val Acc=0.3959\n",
      "Best model saved (val_acc=0.3959)\n",
      "Best model saved in d:\\Uni\\Master\\1 Bimestre\\Foundations\\Assignments\\Weather-Clasification\\models\\best_model_LeNetModern.pth (val_acc=0.3959)\n"
     ]
    },
    {
     "name": "stderr",
     "output_type": "stream",
     "text": [
      "Epoch 2/5 [Train]: 100%|██████████| 86/86 [00:22<00:00,  3.84it/s]\n",
      "Epoch 2/5 [Val]: 100%|██████████| 11/11 [00:02<00:00,  4.00it/s]\n"
     ]
    },
    {
     "name": "stdout",
     "output_type": "stream",
     "text": [
      "Epoch 2/5: Train Loss=1.7254, Train Acc=0.4152, Val Loss=1.5942, Val Acc=0.4853\n",
      "Best model saved (val_acc=0.4853)\n",
      "Best model saved in d:\\Uni\\Master\\1 Bimestre\\Foundations\\Assignments\\Weather-Clasification\\models\\best_model_LeNetModern.pth (val_acc=0.4853)\n"
     ]
    },
    {
     "name": "stderr",
     "output_type": "stream",
     "text": [
      "Epoch 3/5 [Train]: 100%|██████████| 86/86 [00:21<00:00,  3.96it/s]\n",
      "Epoch 3/5 [Val]: 100%|██████████| 11/11 [00:02<00:00,  4.07it/s]\n"
     ]
    },
    {
     "name": "stdout",
     "output_type": "stream",
     "text": [
      "Epoch 3/5: Train Loss=1.5257, Train Acc=0.4943, Val Loss=1.3749, Val Acc=0.5323\n",
      "Best model saved (val_acc=0.5323)\n",
      "Best model saved in d:\\Uni\\Master\\1 Bimestre\\Foundations\\Assignments\\Weather-Clasification\\models\\best_model_LeNetModern.pth (val_acc=0.5323)\n"
     ]
    },
    {
     "name": "stderr",
     "output_type": "stream",
     "text": [
      "Epoch 4/5 [Train]: 100%|██████████| 86/86 [00:22<00:00,  3.87it/s]\n",
      "Epoch 4/5 [Val]: 100%|██████████| 11/11 [00:02<00:00,  4.41it/s]\n"
     ]
    },
    {
     "name": "stdout",
     "output_type": "stream",
     "text": [
      "Epoch 4/5: Train Loss=1.3988, Train Acc=0.5361, Val Loss=1.2962, Val Acc=0.5484\n",
      "Best model saved (val_acc=0.5484)\n",
      "Best model saved in d:\\Uni\\Master\\1 Bimestre\\Foundations\\Assignments\\Weather-Clasification\\models\\best_model_LeNetModern.pth (val_acc=0.5484)\n"
     ]
    },
    {
     "name": "stderr",
     "output_type": "stream",
     "text": [
      "Epoch 5/5 [Train]: 100%|██████████| 86/86 [00:22<00:00,  3.86it/s]\n",
      "Epoch 5/5 [Val]: 100%|██████████| 11/11 [00:02<00:00,  4.09it/s]"
     ]
    },
    {
     "name": "stdout",
     "output_type": "stream",
     "text": [
      "Epoch 5/5: Train Loss=1.3049, Train Acc=0.5593, Val Loss=1.2322, Val Acc=0.5660\n",
      "Best model saved (val_acc=0.5660)\n",
      "Best model saved in d:\\Uni\\Master\\1 Bimestre\\Foundations\\Assignments\\Weather-Clasification\\models\\best_model_LeNetModern.pth (val_acc=0.5660)\n",
      "Training complete. Best val_acc=0.5660\n",
      "MMetrics saved in d:\\Uni\\Master\\1 Bimestre\\Foundations\\Assignments\\Weather-Clasification\\reports\\metrics\\metrics_LeNetModern.pkl\n"
     ]
    },
    {
     "name": "stderr",
     "output_type": "stream",
     "text": [
      "\n"
     ]
    }
   ],
   "source": [
    "input_dim = 64*64*3  # matches the Resize transform\n",
    "model = train_model(LeNetModern, \n",
    "                    train_dir=\"../../data/train\", \n",
    "                    val_dir=\"../../data/val\", \n",
    "                    input_dim=input_dim,\n",
    "                    num_classes=11,\n",
    "                    batch_size=64,\n",
    "                    epochs=5,\n",
    "                    lr=1e-3,\n",
    "                    device=\"cuda\" if torch.cuda.is_available() else \"cpu\")"
   ]
  },
  {
   "cell_type": "code",
   "execution_count": null,
   "id": "7cdf593c",
   "metadata": {},
   "outputs": [
    {
     "name": "stderr",
     "output_type": "stream",
     "text": [
      "Epoch 1/1 [Train]: 100%|██████████| 86/86 [00:20<00:00,  4.17it/s]\n",
      "Epoch 1/1 [Val]: 100%|██████████| 11/11 [00:02<00:00,  5.42it/s]\n"
     ]
    },
    {
     "name": "stdout",
     "output_type": "stream",
     "text": [
      "Epoch 1/1: Train Loss=2.1309, Train Acc=0.2267, Val Loss=1.8714, Val Acc=0.3240\n",
      "Best model saved in c:\\Users\\joaqu\\Desktop\\MASTER\\Foundations\\Entrega CNN\\Weather-Clasification\\models\\best_model_CNN_V1.pth (val_acc=0.3240)\n",
      "Training complete. Best val_acc=0.3240\n",
      "MMetrics saved in c:\\Users\\joaqu\\Desktop\\MASTER\\Foundations\\Entrega CNN\\Weather-Clasification\\reports\\metrics\\metrics_CNN_V1.pkl\n"
     ]
    }
   ],
   "source": [
    "input_dim = 64*64*3  # matches the Resize transform\n",
    "model = train_model(CNN_V1, \n",
    "                    train_dir=\"../../data/train\", \n",
    "                    val_dir=\"../../data/val\", \n",
    "                    input_dim=input_dim,\n",
    "                    num_classes=11,\n",
    "                    batch_size=64,\n",
    "                    epochs=15,\n",
    "                    lr=1e-3,\n",
    "                    device=\"cuda\" if torch.cuda.is_available() else \"cpu\")"
   ]
  },
  {
   "cell_type": "code",
   "execution_count": 5,
   "id": "64f6d733",
   "metadata": {},
   "outputs": [
    {
     "name": "stderr",
     "output_type": "stream",
     "text": [
      "Epoch 1/20 [Train]: 100%|██████████| 86/86 [00:23<00:00,  3.67it/s]\n",
      "Epoch 1/20 [Val]: 100%|██████████| 11/11 [00:02<00:00,  3.83it/s]\n"
     ]
    },
    {
     "name": "stdout",
     "output_type": "stream",
     "text": [
      "Epoch 1/20: Train Loss=2.2175, Train Acc=0.2170, Val Loss=2.1525, Val Acc=0.2962\n",
      "Best model saved in d:\\Uni\\Master\\1 Bimestre\\Foundations\\Assignments\\Weather-Clasification\\models\\best_model_CNN_V1_reg.pth (val_acc=0.2962)\n"
     ]
    },
    {
     "name": "stderr",
     "output_type": "stream",
     "text": [
      "Epoch 2/20 [Train]: 100%|██████████| 86/86 [00:24<00:00,  3.49it/s]\n",
      "Epoch 2/20 [Val]: 100%|██████████| 11/11 [00:03<00:00,  3.34it/s]\n"
     ]
    },
    {
     "name": "stdout",
     "output_type": "stream",
     "text": [
      "Epoch 2/20: Train Loss=1.9277, Train Acc=0.3288, Val Loss=2.0490, Val Acc=0.3695\n",
      "Best model saved in d:\\Uni\\Master\\1 Bimestre\\Foundations\\Assignments\\Weather-Clasification\\models\\best_model_CNN_V1_reg.pth (val_acc=0.3695)\n"
     ]
    },
    {
     "name": "stderr",
     "output_type": "stream",
     "text": [
      "Epoch 3/20 [Train]: 100%|██████████| 86/86 [00:23<00:00,  3.64it/s]\n",
      "Epoch 3/20 [Val]: 100%|██████████| 11/11 [00:02<00:00,  4.14it/s]\n"
     ]
    },
    {
     "name": "stdout",
     "output_type": "stream",
     "text": [
      "Epoch 3/20: Train Loss=1.7121, Train Acc=0.4276, Val Loss=1.8583, Val Acc=0.3944\n",
      "Best model saved in d:\\Uni\\Master\\1 Bimestre\\Foundations\\Assignments\\Weather-Clasification\\models\\best_model_CNN_V1_reg.pth (val_acc=0.3944)\n"
     ]
    },
    {
     "name": "stderr",
     "output_type": "stream",
     "text": [
      "Epoch 4/20 [Train]: 100%|██████████| 86/86 [00:22<00:00,  3.85it/s]\n",
      "Epoch 4/20 [Val]: 100%|██████████| 11/11 [00:02<00:00,  4.30it/s]\n"
     ]
    },
    {
     "name": "stdout",
     "output_type": "stream",
     "text": [
      "Epoch 4/20: Train Loss=1.5240, Train Acc=0.5024, Val Loss=1.6958, Val Acc=0.4545\n",
      "Best model saved in d:\\Uni\\Master\\1 Bimestre\\Foundations\\Assignments\\Weather-Clasification\\models\\best_model_CNN_V1_reg.pth (val_acc=0.4545)\n"
     ]
    },
    {
     "name": "stderr",
     "output_type": "stream",
     "text": [
      "Epoch 5/20 [Train]: 100%|██████████| 86/86 [00:22<00:00,  3.90it/s]\n",
      "Epoch 5/20 [Val]: 100%|██████████| 11/11 [00:02<00:00,  4.29it/s]\n"
     ]
    },
    {
     "name": "stdout",
     "output_type": "stream",
     "text": [
      "Epoch 5/20: Train Loss=1.4275, Train Acc=0.5321, Val Loss=1.6500, Val Acc=0.4589\n",
      "Best model saved in d:\\Uni\\Master\\1 Bimestre\\Foundations\\Assignments\\Weather-Clasification\\models\\best_model_CNN_V1_reg.pth (val_acc=0.4589)\n"
     ]
    },
    {
     "name": "stderr",
     "output_type": "stream",
     "text": [
      "Epoch 6/20 [Train]: 100%|██████████| 86/86 [00:22<00:00,  3.77it/s]\n",
      "Epoch 6/20 [Val]: 100%|██████████| 11/11 [00:02<00:00,  4.42it/s]\n"
     ]
    },
    {
     "name": "stdout",
     "output_type": "stream",
     "text": [
      "Epoch 6/20: Train Loss=1.3547, Train Acc=0.5503, Val Loss=1.5195, Val Acc=0.5073\n",
      "Best model saved in d:\\Uni\\Master\\1 Bimestre\\Foundations\\Assignments\\Weather-Clasification\\models\\best_model_CNN_V1_reg.pth (val_acc=0.5073)\n"
     ]
    },
    {
     "name": "stderr",
     "output_type": "stream",
     "text": [
      "Epoch 7/20 [Train]: 100%|██████████| 86/86 [00:22<00:00,  3.88it/s]\n",
      "Epoch 7/20 [Val]: 100%|██████████| 11/11 [00:02<00:00,  3.89it/s]\n"
     ]
    },
    {
     "name": "stdout",
     "output_type": "stream",
     "text": [
      "Epoch 7/20: Train Loss=1.3116, Train Acc=0.5717, Val Loss=1.5602, Val Acc=0.4985\n"
     ]
    },
    {
     "name": "stderr",
     "output_type": "stream",
     "text": [
      "Epoch 8/20 [Train]: 100%|██████████| 86/86 [00:22<00:00,  3.79it/s]\n",
      "Epoch 8/20 [Val]: 100%|██████████| 11/11 [00:02<00:00,  4.14it/s]\n"
     ]
    },
    {
     "name": "stdout",
     "output_type": "stream",
     "text": [
      "Epoch 8/20: Train Loss=1.2592, Train Acc=0.5868, Val Loss=1.3467, Val Acc=0.5762\n",
      "Best model saved in d:\\Uni\\Master\\1 Bimestre\\Foundations\\Assignments\\Weather-Clasification\\models\\best_model_CNN_V1_reg.pth (val_acc=0.5762)\n"
     ]
    },
    {
     "name": "stderr",
     "output_type": "stream",
     "text": [
      "Epoch 9/20 [Train]: 100%|██████████| 86/86 [00:23<00:00,  3.73it/s]\n",
      "Epoch 9/20 [Val]: 100%|██████████| 11/11 [00:02<00:00,  4.01it/s]\n"
     ]
    },
    {
     "name": "stdout",
     "output_type": "stream",
     "text": [
      "Epoch 9/20: Train Loss=1.1975, Train Acc=0.5985, Val Loss=1.5063, Val Acc=0.5117\n"
     ]
    },
    {
     "name": "stderr",
     "output_type": "stream",
     "text": [
      "Epoch 10/20 [Train]: 100%|██████████| 86/86 [00:22<00:00,  3.83it/s]\n",
      "Epoch 10/20 [Val]: 100%|██████████| 11/11 [00:02<00:00,  4.26it/s]\n"
     ]
    },
    {
     "name": "stdout",
     "output_type": "stream",
     "text": [
      "Epoch 10/20: Train Loss=1.1748, Train Acc=0.6087, Val Loss=1.4084, Val Acc=0.5469\n"
     ]
    },
    {
     "name": "stderr",
     "output_type": "stream",
     "text": [
      "Epoch 11/20 [Train]: 100%|██████████| 86/86 [00:22<00:00,  3.84it/s]\n",
      "Epoch 11/20 [Val]: 100%|██████████| 11/11 [00:02<00:00,  4.25it/s]\n"
     ]
    },
    {
     "name": "stdout",
     "output_type": "stream",
     "text": [
      "Epoch 11/20: Train Loss=1.0911, Train Acc=0.6315, Val Loss=1.3277, Val Acc=0.5777\n",
      "Best model saved in d:\\Uni\\Master\\1 Bimestre\\Foundations\\Assignments\\Weather-Clasification\\models\\best_model_CNN_V1_reg.pth (val_acc=0.5777)\n"
     ]
    },
    {
     "name": "stderr",
     "output_type": "stream",
     "text": [
      "Epoch 12/20 [Train]: 100%|██████████| 86/86 [00:23<00:00,  3.70it/s]\n",
      "Epoch 12/20 [Val]: 100%|██████████| 11/11 [00:02<00:00,  3.73it/s]\n"
     ]
    },
    {
     "name": "stdout",
     "output_type": "stream",
     "text": [
      "Epoch 12/20: Train Loss=1.0698, Train Acc=0.6451, Val Loss=1.2948, Val Acc=0.5704\n"
     ]
    },
    {
     "name": "stderr",
     "output_type": "stream",
     "text": [
      "Epoch 13/20 [Train]: 100%|██████████| 86/86 [00:23<00:00,  3.70it/s]\n",
      "Epoch 13/20 [Val]: 100%|██████████| 11/11 [00:02<00:00,  4.11it/s]\n"
     ]
    },
    {
     "name": "stdout",
     "output_type": "stream",
     "text": [
      "Epoch 13/20: Train Loss=0.9987, Train Acc=0.6736, Val Loss=1.2578, Val Acc=0.5777\n"
     ]
    },
    {
     "name": "stderr",
     "output_type": "stream",
     "text": [
      "Epoch 14/20 [Train]: 100%|██████████| 86/86 [00:23<00:00,  3.60it/s]\n",
      "Epoch 14/20 [Val]: 100%|██████████| 11/11 [00:02<00:00,  3.81it/s]\n"
     ]
    },
    {
     "name": "stdout",
     "output_type": "stream",
     "text": [
      "Epoch 14/20: Train Loss=0.9608, Train Acc=0.6840, Val Loss=1.2711, Val Acc=0.5850\n",
      "Best model saved in d:\\Uni\\Master\\1 Bimestre\\Foundations\\Assignments\\Weather-Clasification\\models\\best_model_CNN_V1_reg.pth (val_acc=0.5850)\n"
     ]
    },
    {
     "name": "stderr",
     "output_type": "stream",
     "text": [
      "Epoch 15/20 [Train]: 100%|██████████| 86/86 [00:22<00:00,  3.76it/s]\n",
      "Epoch 15/20 [Val]: 100%|██████████| 11/11 [00:02<00:00,  4.29it/s]\n"
     ]
    },
    {
     "name": "stdout",
     "output_type": "stream",
     "text": [
      "Epoch 15/20: Train Loss=0.9134, Train Acc=0.7013, Val Loss=1.2379, Val Acc=0.6085\n",
      "Best model saved in d:\\Uni\\Master\\1 Bimestre\\Foundations\\Assignments\\Weather-Clasification\\models\\best_model_CNN_V1_reg.pth (val_acc=0.6085)\n"
     ]
    },
    {
     "name": "stderr",
     "output_type": "stream",
     "text": [
      "Epoch 16/20 [Train]: 100%|██████████| 86/86 [00:23<00:00,  3.71it/s]\n",
      "Epoch 16/20 [Val]: 100%|██████████| 11/11 [00:02<00:00,  4.38it/s]\n"
     ]
    },
    {
     "name": "stdout",
     "output_type": "stream",
     "text": [
      "Epoch 16/20: Train Loss=0.8288, Train Acc=0.7181, Val Loss=1.2816, Val Acc=0.5909\n"
     ]
    },
    {
     "name": "stderr",
     "output_type": "stream",
     "text": [
      "Epoch 17/20 [Train]: 100%|██████████| 86/86 [00:23<00:00,  3.66it/s]\n",
      "Epoch 17/20 [Val]: 100%|██████████| 11/11 [00:02<00:00,  3.89it/s]\n"
     ]
    },
    {
     "name": "stdout",
     "output_type": "stream",
     "text": [
      "Epoch 17/20: Train Loss=0.7883, Train Acc=0.7403, Val Loss=1.2429, Val Acc=0.5821\n"
     ]
    },
    {
     "name": "stderr",
     "output_type": "stream",
     "text": [
      "Epoch 18/20 [Train]: 100%|██████████| 86/86 [00:23<00:00,  3.71it/s]\n",
      "Epoch 18/20 [Val]: 100%|██████████| 11/11 [00:02<00:00,  3.95it/s]\n"
     ]
    },
    {
     "name": "stdout",
     "output_type": "stream",
     "text": [
      "Epoch 18/20: Train Loss=0.7640, Train Acc=0.7526, Val Loss=1.2909, Val Acc=0.5880\n"
     ]
    },
    {
     "name": "stderr",
     "output_type": "stream",
     "text": [
      "Epoch 19/20 [Train]: 100%|██████████| 86/86 [00:23<00:00,  3.71it/s]\n",
      "Epoch 19/20 [Val]: 100%|██████████| 11/11 [00:02<00:00,  3.85it/s]\n"
     ]
    },
    {
     "name": "stdout",
     "output_type": "stream",
     "text": [
      "Epoch 19/20: Train Loss=0.7177, Train Acc=0.7704, Val Loss=1.1094, Val Acc=0.6540\n",
      "Best model saved in d:\\Uni\\Master\\1 Bimestre\\Foundations\\Assignments\\Weather-Clasification\\models\\best_model_CNN_V1_reg.pth (val_acc=0.6540)\n"
     ]
    },
    {
     "name": "stderr",
     "output_type": "stream",
     "text": [
      "Epoch 20/20 [Train]: 100%|██████████| 86/86 [00:23<00:00,  3.69it/s]\n",
      "Epoch 20/20 [Val]: 100%|██████████| 11/11 [00:02<00:00,  4.12it/s]"
     ]
    },
    {
     "name": "stdout",
     "output_type": "stream",
     "text": [
      "Epoch 20/20: Train Loss=0.7101, Train Acc=0.7653, Val Loss=1.1514, Val Acc=0.6466\n",
      "Training complete. Best val_acc=0.6540\n",
      "MMetrics saved in d:\\Uni\\Master\\1 Bimestre\\Foundations\\Assignments\\Weather-Clasification\\reports\\metrics\\metrics_CNN_V1_reg.pkl\n"
     ]
    },
    {
     "name": "stderr",
     "output_type": "stream",
     "text": [
      "\n"
     ]
    }
   ],
   "source": [
    "input_dim = 64*64*3  # matches the Resize transform\n",
    "model = train_model(CNN_V1_reg, \n",
    "                    train_dir=\"../../data/train\", \n",
    "                    val_dir=\"../../data/val\", \n",
    "                    input_dim=input_dim,\n",
    "                    num_classes=11,\n",
    "                    batch_size=64,\n",
    "                    epochs=20,\n",
    "                    lr=1e-3,\n",
    "                    device=\"cuda\" if torch.cuda.is_available() else \"cpu\")"
   ]
  },
  {
   "cell_type": "code",
   "execution_count": 4,
   "id": "004dd488",
   "metadata": {},
   "outputs": [
    {
     "name": "stderr",
     "output_type": "stream",
     "text": [
      "Epoch 1/15 [Train]: 100%|██████████| 86/86 [00:25<00:00,  3.34it/s]\n",
      "Epoch 1/15 [Val]: 100%|██████████| 11/11 [00:02<00:00,  4.08it/s]\n"
     ]
    },
    {
     "name": "stdout",
     "output_type": "stream",
     "text": [
      "Epoch 1/15: Train Loss=2.0409, Train Acc=0.2867, Val Loss=1.8317, Val Acc=0.3460\n",
      "Best model saved in d:\\Uni\\Master\\1 Bimestre\\Foundations\\Assignments\\Weather-Clasification\\models\\best_model_CNN_V2.pth (val_acc=0.3460)\n"
     ]
    },
    {
     "name": "stderr",
     "output_type": "stream",
     "text": [
      "Epoch 2/15 [Train]: 100%|██████████| 86/86 [00:29<00:00,  2.93it/s]\n",
      "Epoch 2/15 [Val]: 100%|██████████| 11/11 [00:02<00:00,  4.05it/s]\n"
     ]
    },
    {
     "name": "stdout",
     "output_type": "stream",
     "text": [
      "Epoch 2/15: Train Loss=1.7476, Train Acc=0.3893, Val Loss=1.6112, Val Acc=0.4267\n",
      "Best model saved in d:\\Uni\\Master\\1 Bimestre\\Foundations\\Assignments\\Weather-Clasification\\models\\best_model_CNN_V2.pth (val_acc=0.4267)\n"
     ]
    },
    {
     "name": "stderr",
     "output_type": "stream",
     "text": [
      "Epoch 3/15 [Train]: 100%|██████████| 86/86 [00:28<00:00,  3.01it/s]\n",
      "Epoch 3/15 [Val]: 100%|██████████| 11/11 [00:02<00:00,  4.08it/s]\n"
     ]
    },
    {
     "name": "stdout",
     "output_type": "stream",
     "text": [
      "Epoch 3/15: Train Loss=1.4964, Train Acc=0.4953, Val Loss=1.4285, Val Acc=0.4985\n",
      "Best model saved in d:\\Uni\\Master\\1 Bimestre\\Foundations\\Assignments\\Weather-Clasification\\models\\best_model_CNN_V2.pth (val_acc=0.4985)\n"
     ]
    },
    {
     "name": "stderr",
     "output_type": "stream",
     "text": [
      "Epoch 4/15 [Train]: 100%|██████████| 86/86 [00:28<00:00,  3.01it/s]\n",
      "Epoch 4/15 [Val]: 100%|██████████| 11/11 [00:02<00:00,  4.08it/s]\n"
     ]
    },
    {
     "name": "stdout",
     "output_type": "stream",
     "text": [
      "Epoch 4/15: Train Loss=1.2885, Train Acc=0.5571, Val Loss=1.2630, Val Acc=0.5601\n",
      "Best model saved in d:\\Uni\\Master\\1 Bimestre\\Foundations\\Assignments\\Weather-Clasification\\models\\best_model_CNN_V2.pth (val_acc=0.5601)\n"
     ]
    },
    {
     "name": "stderr",
     "output_type": "stream",
     "text": [
      "Epoch 5/15 [Train]: 100%|██████████| 86/86 [00:28<00:00,  2.97it/s]\n",
      "Epoch 5/15 [Val]: 100%|██████████| 11/11 [00:02<00:00,  4.01it/s]\n"
     ]
    },
    {
     "name": "stdout",
     "output_type": "stream",
     "text": [
      "Epoch 5/15: Train Loss=1.1493, Train Acc=0.6076, Val Loss=1.2022, Val Acc=0.5982\n",
      "Best model saved in d:\\Uni\\Master\\1 Bimestre\\Foundations\\Assignments\\Weather-Clasification\\models\\best_model_CNN_V2.pth (val_acc=0.5982)\n"
     ]
    },
    {
     "name": "stderr",
     "output_type": "stream",
     "text": [
      "Epoch 6/15 [Train]: 100%|██████████| 86/86 [00:28<00:00,  2.97it/s]\n",
      "Epoch 6/15 [Val]: 100%|██████████| 11/11 [00:02<00:00,  4.09it/s]\n"
     ]
    },
    {
     "name": "stdout",
     "output_type": "stream",
     "text": [
      "Epoch 6/15: Train Loss=1.1103, Train Acc=0.6220, Val Loss=1.1546, Val Acc=0.6129\n",
      "Best model saved in d:\\Uni\\Master\\1 Bimestre\\Foundations\\Assignments\\Weather-Clasification\\models\\best_model_CNN_V2.pth (val_acc=0.6129)\n"
     ]
    },
    {
     "name": "stderr",
     "output_type": "stream",
     "text": [
      "Epoch 7/15 [Train]: 100%|██████████| 86/86 [00:28<00:00,  3.02it/s]\n",
      "Epoch 7/15 [Val]: 100%|██████████| 11/11 [00:02<00:00,  4.12it/s]\n"
     ]
    },
    {
     "name": "stdout",
     "output_type": "stream",
     "text": [
      "Epoch 7/15: Train Loss=1.0183, Train Acc=0.6444, Val Loss=1.0711, Val Acc=0.6525\n",
      "Best model saved in d:\\Uni\\Master\\1 Bimestre\\Foundations\\Assignments\\Weather-Clasification\\models\\best_model_CNN_V2.pth (val_acc=0.6525)\n"
     ]
    },
    {
     "name": "stderr",
     "output_type": "stream",
     "text": [
      "Epoch 8/15 [Train]: 100%|██████████| 86/86 [00:28<00:00,  3.03it/s]\n",
      "Epoch 8/15 [Val]: 100%|██████████| 11/11 [00:02<00:00,  4.14it/s]\n"
     ]
    },
    {
     "name": "stdout",
     "output_type": "stream",
     "text": [
      "Epoch 8/15: Train Loss=0.9654, Train Acc=0.6720, Val Loss=1.0413, Val Acc=0.6378\n"
     ]
    },
    {
     "name": "stderr",
     "output_type": "stream",
     "text": [
      "Epoch 9/15 [Train]: 100%|██████████| 86/86 [00:28<00:00,  3.01it/s]\n",
      "Epoch 9/15 [Val]: 100%|██████████| 11/11 [00:02<00:00,  4.06it/s]\n"
     ]
    },
    {
     "name": "stdout",
     "output_type": "stream",
     "text": [
      "Epoch 9/15: Train Loss=0.8670, Train Acc=0.7030, Val Loss=1.0422, Val Acc=0.6452\n"
     ]
    },
    {
     "name": "stderr",
     "output_type": "stream",
     "text": [
      "Epoch 10/15 [Train]: 100%|██████████| 86/86 [00:29<00:00,  2.89it/s]\n",
      "Epoch 10/15 [Val]: 100%|██████████| 11/11 [00:02<00:00,  3.82it/s]\n"
     ]
    },
    {
     "name": "stdout",
     "output_type": "stream",
     "text": [
      "Epoch 10/15: Train Loss=0.8012, Train Acc=0.7143, Val Loss=1.1730, Val Acc=0.6114\n"
     ]
    },
    {
     "name": "stderr",
     "output_type": "stream",
     "text": [
      "Epoch 11/15 [Train]: 100%|██████████| 86/86 [00:29<00:00,  2.93it/s]\n",
      "Epoch 11/15 [Val]: 100%|██████████| 11/11 [00:02<00:00,  4.09it/s]\n"
     ]
    },
    {
     "name": "stdout",
     "output_type": "stream",
     "text": [
      "Epoch 11/15: Train Loss=0.7518, Train Acc=0.7412, Val Loss=1.1164, Val Acc=0.6584\n",
      "Best model saved in d:\\Uni\\Master\\1 Bimestre\\Foundations\\Assignments\\Weather-Clasification\\models\\best_model_CNN_V2.pth (val_acc=0.6584)\n"
     ]
    },
    {
     "name": "stderr",
     "output_type": "stream",
     "text": [
      "Epoch 12/15 [Train]: 100%|██████████| 86/86 [00:28<00:00,  2.98it/s]\n",
      "Epoch 12/15 [Val]: 100%|██████████| 11/11 [00:02<00:00,  4.07it/s]\n"
     ]
    },
    {
     "name": "stdout",
     "output_type": "stream",
     "text": [
      "Epoch 12/15: Train Loss=0.6595, Train Acc=0.7741, Val Loss=1.1125, Val Acc=0.6730\n",
      "Best model saved in d:\\Uni\\Master\\1 Bimestre\\Foundations\\Assignments\\Weather-Clasification\\models\\best_model_CNN_V2.pth (val_acc=0.6730)\n"
     ]
    },
    {
     "name": "stderr",
     "output_type": "stream",
     "text": [
      "Epoch 13/15 [Train]: 100%|██████████| 86/86 [00:26<00:00,  3.20it/s]\n",
      "Epoch 13/15 [Val]: 100%|██████████| 11/11 [00:02<00:00,  4.11it/s]\n"
     ]
    },
    {
     "name": "stdout",
     "output_type": "stream",
     "text": [
      "Epoch 13/15: Train Loss=0.6139, Train Acc=0.7903, Val Loss=1.1930, Val Acc=0.6804\n",
      "Best model saved in d:\\Uni\\Master\\1 Bimestre\\Foundations\\Assignments\\Weather-Clasification\\models\\best_model_CNN_V2.pth (val_acc=0.6804)\n"
     ]
    },
    {
     "name": "stderr",
     "output_type": "stream",
     "text": [
      "Epoch 14/15 [Train]: 100%|██████████| 86/86 [00:25<00:00,  3.36it/s]\n",
      "Epoch 14/15 [Val]: 100%|██████████| 11/11 [00:02<00:00,  4.02it/s]\n"
     ]
    },
    {
     "name": "stdout",
     "output_type": "stream",
     "text": [
      "Epoch 14/15: Train Loss=0.4971, Train Acc=0.8282, Val Loss=1.2119, Val Acc=0.6745\n"
     ]
    },
    {
     "name": "stderr",
     "output_type": "stream",
     "text": [
      "Epoch 15/15 [Train]: 100%|██████████| 86/86 [00:26<00:00,  3.22it/s]\n",
      "Epoch 15/15 [Val]: 100%|██████████| 11/11 [00:02<00:00,  3.95it/s]"
     ]
    },
    {
     "name": "stdout",
     "output_type": "stream",
     "text": [
      "Epoch 15/15: Train Loss=0.4214, Train Acc=0.8501, Val Loss=1.2181, Val Acc=0.6760\n",
      "Training complete. Best val_acc=0.6804\n",
      "MMetrics saved in d:\\Uni\\Master\\1 Bimestre\\Foundations\\Assignments\\Weather-Clasification\\reports\\metrics\\metrics_CNN_V2.pkl\n"
     ]
    },
    {
     "name": "stderr",
     "output_type": "stream",
     "text": [
      "\n"
     ]
    }
   ],
   "source": [
    "input_dim = 128*128*3  # matches the Resize transform\n",
    "model = train_model(CNN_V2, \n",
    "                    train_dir=\"../../data/train\", \n",
    "                    val_dir=\"../../data/val\", \n",
    "                    input_dim=input_dim,\n",
    "                    num_classes=11,\n",
    "                    batch_size=64,\n",
    "                    epochs=15,\n",
    "                    lr=1e-3,\n",
    "                    device=\"cuda\" if torch.cuda.is_available() else \"cpu\")"
   ]
  },
  {
   "cell_type": "code",
   "execution_count": 3,
   "id": "047debac",
   "metadata": {},
   "outputs": [
    {
     "name": "stderr",
     "output_type": "stream",
     "text": [
      "Epoch 1/15 [Train]: 100%|██████████| 86/86 [01:25<00:00,  1.00it/s]\n",
      "Epoch 1/15 [Val]: 100%|██████████| 11/11 [00:04<00:00,  2.62it/s]\n"
     ]
    },
    {
     "name": "stdout",
     "output_type": "stream",
     "text": [
      "Epoch 1/15: Train Loss=2.2051, Train Acc=0.2009, Val Loss=2.1164, Val Acc=0.2742\n",
      "Best model saved in d:\\Uni\\Master\\1 Bimestre\\Foundations\\Assignments\\Weather-Clasification\\models\\best_model_CNN_V2_reg.pth (val_acc=0.2742)\n"
     ]
    },
    {
     "name": "stderr",
     "output_type": "stream",
     "text": [
      "Epoch 2/15 [Train]: 100%|██████████| 86/86 [01:26<00:00,  1.00s/it]\n",
      "Epoch 2/15 [Val]: 100%|██████████| 11/11 [00:03<00:00,  2.88it/s]\n"
     ]
    },
    {
     "name": "stdout",
     "output_type": "stream",
     "text": [
      "Epoch 2/15: Train Loss=1.9079, Train Acc=0.3286, Val Loss=2.0120, Val Acc=0.3314\n",
      "Best model saved in d:\\Uni\\Master\\1 Bimestre\\Foundations\\Assignments\\Weather-Clasification\\models\\best_model_CNN_V2_reg.pth (val_acc=0.3314)\n"
     ]
    },
    {
     "name": "stderr",
     "output_type": "stream",
     "text": [
      "Epoch 3/15 [Train]: 100%|██████████| 86/86 [01:20<00:00,  1.07it/s]\n",
      "Epoch 3/15 [Val]: 100%|██████████| 11/11 [00:03<00:00,  2.83it/s]\n"
     ]
    },
    {
     "name": "stdout",
     "output_type": "stream",
     "text": [
      "Epoch 3/15: Train Loss=1.6630, Train Acc=0.4283, Val Loss=1.8193, Val Acc=0.4164\n",
      "Best model saved in d:\\Uni\\Master\\1 Bimestre\\Foundations\\Assignments\\Weather-Clasification\\models\\best_model_CNN_V2_reg.pth (val_acc=0.4164)\n"
     ]
    },
    {
     "name": "stderr",
     "output_type": "stream",
     "text": [
      "Epoch 4/15 [Train]: 100%|██████████| 86/86 [01:18<00:00,  1.09it/s]\n",
      "Epoch 4/15 [Val]: 100%|██████████| 11/11 [00:03<00:00,  2.91it/s]\n"
     ]
    },
    {
     "name": "stdout",
     "output_type": "stream",
     "text": [
      "Epoch 4/15: Train Loss=1.4894, Train Acc=0.4980, Val Loss=1.6355, Val Acc=0.5015\n",
      "Best model saved in d:\\Uni\\Master\\1 Bimestre\\Foundations\\Assignments\\Weather-Clasification\\models\\best_model_CNN_V2_reg.pth (val_acc=0.5015)\n"
     ]
    },
    {
     "name": "stderr",
     "output_type": "stream",
     "text": [
      "Epoch 5/15 [Train]: 100%|██████████| 86/86 [01:24<00:00,  1.02it/s]\n",
      "Epoch 5/15 [Val]: 100%|██████████| 11/11 [00:04<00:00,  2.74it/s]\n"
     ]
    },
    {
     "name": "stdout",
     "output_type": "stream",
     "text": [
      "Epoch 5/15: Train Loss=1.3714, Train Acc=0.5425, Val Loss=1.5878, Val Acc=0.5249\n",
      "Best model saved in d:\\Uni\\Master\\1 Bimestre\\Foundations\\Assignments\\Weather-Clasification\\models\\best_model_CNN_V2_reg.pth (val_acc=0.5249)\n"
     ]
    },
    {
     "name": "stderr",
     "output_type": "stream",
     "text": [
      "Epoch 6/15 [Train]: 100%|██████████| 86/86 [01:28<00:00,  1.03s/it]\n",
      "Epoch 6/15 [Val]: 100%|██████████| 11/11 [00:05<00:00,  2.02it/s]\n"
     ]
    },
    {
     "name": "stdout",
     "output_type": "stream",
     "text": [
      "Epoch 6/15: Train Loss=1.2634, Train Acc=0.5821, Val Loss=1.5347, Val Acc=0.5455\n",
      "Best model saved in d:\\Uni\\Master\\1 Bimestre\\Foundations\\Assignments\\Weather-Clasification\\models\\best_model_CNN_V2_reg.pth (val_acc=0.5455)\n"
     ]
    },
    {
     "name": "stderr",
     "output_type": "stream",
     "text": [
      "Epoch 7/15 [Train]: 100%|██████████| 86/86 [01:30<00:00,  1.05s/it]\n",
      "Epoch 7/15 [Val]: 100%|██████████| 11/11 [00:04<00:00,  2.56it/s]\n"
     ]
    },
    {
     "name": "stdout",
     "output_type": "stream",
     "text": [
      "Epoch 7/15: Train Loss=1.1993, Train Acc=0.5976, Val Loss=1.4946, Val Acc=0.5484\n",
      "Best model saved in d:\\Uni\\Master\\1 Bimestre\\Foundations\\Assignments\\Weather-Clasification\\models\\best_model_CNN_V2_reg.pth (val_acc=0.5484)\n"
     ]
    },
    {
     "name": "stderr",
     "output_type": "stream",
     "text": [
      "Epoch 8/15 [Train]: 100%|██████████| 86/86 [01:25<00:00,  1.00it/s]\n",
      "Epoch 8/15 [Val]: 100%|██████████| 11/11 [00:04<00:00,  2.69it/s]\n"
     ]
    },
    {
     "name": "stdout",
     "output_type": "stream",
     "text": [
      "Epoch 8/15: Train Loss=1.1539, Train Acc=0.6265, Val Loss=1.4864, Val Acc=0.4912\n"
     ]
    },
    {
     "name": "stderr",
     "output_type": "stream",
     "text": [
      "Epoch 9/15 [Train]: 100%|██████████| 86/86 [01:28<00:00,  1.02s/it]\n",
      "Epoch 9/15 [Val]: 100%|██████████| 11/11 [00:04<00:00,  2.58it/s]\n"
     ]
    },
    {
     "name": "stdout",
     "output_type": "stream",
     "text": [
      "Epoch 9/15: Train Loss=1.0596, Train Acc=0.6513, Val Loss=1.4102, Val Acc=0.5630\n",
      "Best model saved in d:\\Uni\\Master\\1 Bimestre\\Foundations\\Assignments\\Weather-Clasification\\models\\best_model_CNN_V2_reg.pth (val_acc=0.5630)\n"
     ]
    },
    {
     "name": "stderr",
     "output_type": "stream",
     "text": [
      "Epoch 10/15 [Train]: 100%|██████████| 86/86 [01:24<00:00,  1.01it/s]\n",
      "Epoch 10/15 [Val]: 100%|██████████| 11/11 [00:04<00:00,  2.70it/s]\n"
     ]
    },
    {
     "name": "stdout",
     "output_type": "stream",
     "text": [
      "Epoch 10/15: Train Loss=1.0008, Train Acc=0.6765, Val Loss=1.5120, Val Acc=0.5132\n"
     ]
    },
    {
     "name": "stderr",
     "output_type": "stream",
     "text": [
      "Epoch 11/15 [Train]: 100%|██████████| 86/86 [01:33<00:00,  1.09s/it]\n",
      "Epoch 11/15 [Val]: 100%|██████████| 11/11 [00:04<00:00,  2.65it/s]\n"
     ]
    },
    {
     "name": "stdout",
     "output_type": "stream",
     "text": [
      "Epoch 11/15: Train Loss=0.9026, Train Acc=0.7070, Val Loss=1.4084, Val Acc=0.5352\n"
     ]
    },
    {
     "name": "stderr",
     "output_type": "stream",
     "text": [
      "Epoch 12/15 [Train]: 100%|██████████| 86/86 [01:32<00:00,  1.07s/it]\n",
      "Epoch 12/15 [Val]: 100%|██████████| 11/11 [00:04<00:00,  2.69it/s]\n"
     ]
    },
    {
     "name": "stdout",
     "output_type": "stream",
     "text": [
      "Epoch 12/15: Train Loss=0.8344, Train Acc=0.7314, Val Loss=1.3467, Val Acc=0.5674\n",
      "Best model saved in d:\\Uni\\Master\\1 Bimestre\\Foundations\\Assignments\\Weather-Clasification\\models\\best_model_CNN_V2_reg.pth (val_acc=0.5674)\n"
     ]
    },
    {
     "name": "stderr",
     "output_type": "stream",
     "text": [
      "Epoch 13/15 [Train]: 100%|██████████| 86/86 [01:23<00:00,  1.03it/s]\n",
      "Epoch 13/15 [Val]: 100%|██████████| 11/11 [00:03<00:00,  2.89it/s]\n"
     ]
    },
    {
     "name": "stdout",
     "output_type": "stream",
     "text": [
      "Epoch 13/15: Train Loss=0.7984, Train Acc=0.7427, Val Loss=1.3146, Val Acc=0.5968\n",
      "Best model saved in d:\\Uni\\Master\\1 Bimestre\\Foundations\\Assignments\\Weather-Clasification\\models\\best_model_CNN_V2_reg.pth (val_acc=0.5968)\n"
     ]
    },
    {
     "name": "stderr",
     "output_type": "stream",
     "text": [
      "Epoch 14/15 [Train]: 100%|██████████| 86/86 [01:22<00:00,  1.05it/s]\n",
      "Epoch 14/15 [Val]: 100%|██████████| 11/11 [00:04<00:00,  2.55it/s]\n"
     ]
    },
    {
     "name": "stdout",
     "output_type": "stream",
     "text": [
      "Epoch 14/15: Train Loss=0.7430, Train Acc=0.7644, Val Loss=1.2182, Val Acc=0.6540\n",
      "Best model saved in d:\\Uni\\Master\\1 Bimestre\\Foundations\\Assignments\\Weather-Clasification\\models\\best_model_CNN_V2_reg.pth (val_acc=0.6540)\n"
     ]
    },
    {
     "name": "stderr",
     "output_type": "stream",
     "text": [
      "Epoch 15/15 [Train]: 100%|██████████| 86/86 [01:23<00:00,  1.03it/s]\n",
      "Epoch 15/15 [Val]: 100%|██████████| 11/11 [00:04<00:00,  2.52it/s]"
     ]
    },
    {
     "name": "stdout",
     "output_type": "stream",
     "text": [
      "Epoch 15/15: Train Loss=0.6571, Train Acc=0.7777, Val Loss=1.1480, Val Acc=0.6378\n",
      "Training complete. Best val_acc=0.6540\n",
      "MMetrics saved in d:\\Uni\\Master\\1 Bimestre\\Foundations\\Assignments\\Weather-Clasification\\reports\\metrics\\metrics_CNN_V2_reg.pkl\n"
     ]
    },
    {
     "name": "stderr",
     "output_type": "stream",
     "text": [
      "\n"
     ]
    }
   ],
   "source": [
    "input_dim = 128*128*3  # matches the Resize transform\n",
    "model = train_model(CNN_V2_reg, \n",
    "                    train_dir=\"../../data/train\", \n",
    "                    val_dir=\"../../data/val\", \n",
    "                    input_dim=input_dim,\n",
    "                    num_classes=11,\n",
    "                    batch_size=64,\n",
    "                    epochs=15,\n",
    "                    lr=1e-3,\n",
    "                    device=\"cuda\" if torch.cuda.is_available() else \"cpu\")"
   ]
  }
 ],
 "metadata": {
  "kernelspec": {
   "display_name": "Python 3",
   "language": "python",
   "name": "python3"
  },
  "language_info": {
   "codemirror_mode": {
    "name": "ipython",
    "version": 3
   },
   "file_extension": ".py",
   "mimetype": "text/x-python",
   "name": "python",
   "nbconvert_exporter": "python",
   "pygments_lexer": "ipython3",
   "version": "3.12.0"
  }
 },
 "nbformat": 4,
 "nbformat_minor": 5
}
