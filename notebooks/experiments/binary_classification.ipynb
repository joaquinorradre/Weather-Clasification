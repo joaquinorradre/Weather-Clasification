{
 "cells": [
  {
   "cell_type": "code",
   "execution_count": null,
   "id": "4b21d2ea",
   "metadata": {},
   "outputs": [],
   "source": [
    "import sys\n",
    "import os\n",
    "\n",
    "# Add the root folder of your project\n",
    "root_path = os.path.abspath(os.path.join(\"..\", \"..\"))  # two levels up from experiments\n",
    "sys.path.append(root_path)\n",
    "import os\n",
    "import torch\n",
    "import torch.nn as nn\n",
    "import torch.optim as optim\n",
    "from torch.utils.data import Dataset, DataLoader, Subset\n",
    "from torchvision import transforms\n",
    "from PIL import Image\n",
    "from tqdm import tqdm\n",
    "import matplotlib.pyplot as plt\n",
    "from sklearn.metrics import confusion_matrix, ConfusionMatrixDisplay\n",
    "import re\n",
    "\n",
    "\n",
    "from weather_classification.weather_dataset import WeatherDataset\n",
    "from weather_classification.train import train_model\n",
    "from weather_classification.modeling.binary_classifier import BinaryWeatherClassifier_HighRes, BinaryWeatherClassifier_LowRes\n",
    "from weather_classification.seed_utils import set_seed\n",
    "set_seed(1234)\n"
   ]
  },
  {
   "cell_type": "code",
   "execution_count": null,
   "id": "ca270b44",
   "metadata": {},
   "outputs": [],
   "source": [
    "# For high-resolution pairs (e.g., frost vs glaze)\n",
    "highres_transform = transforms.Compose([\n",
    "    transforms.Resize((224, 224)),\n",
    "    transforms.ToTensor(),\n",
    "    ## Meter normalization?\n",
    "])\n",
    "\n",
    "# For low-resolution pairs (e.g., rain vs lightning, etc.)\n",
    "lowres_transform = transforms.Compose([\n",
    "    transforms.Resize((64, 64)),\n",
    "    transforms.ToTensor(),\n",
    "])"
   ]
  },
  {
   "cell_type": "code",
   "execution_count": 12,
   "id": "bbf59c70",
   "metadata": {},
   "outputs": [],
   "source": [
    "def create_binary_dataset(dataset, class_pair):\n",
    "    idx1 = dataset.class_to_idx[class_pair[0]]\n",
    "    idx2 = dataset.class_to_idx[class_pair[1]]\n",
    "\n",
    "    indices = [i for i, (_, lbl) in enumerate(dataset.samples) if lbl in (idx1, idx2)]\n",
    "    idx_map = {idx1: 0, idx2: 1}\n",
    "\n",
    "    def remap_collate(batch):\n",
    "        imgs, labels = zip(*batch)\n",
    "        imgs = torch.stack(imgs)\n",
    "        labels = torch.tensor([idx_map[l.item() if torch.is_tensor(l) else l] for l in labels])\n",
    "        return imgs, labels\n",
    "\n",
    "    subset = Subset(dataset, indices)\n",
    "    return subset, remap_collate\n"
   ]
  },
  {
   "cell_type": "code",
   "execution_count": null,
   "id": "cd662d94",
   "metadata": {},
   "outputs": [],
   "source": [
    "def train_binary_pair(model_class, class_pair, train_dir, val_dir, save_dir,\n",
    "                      device=\"cuda\", epochs=20, lr=1e-3):\n",
    "    os.makedirs(save_dir, exist_ok=True)\n",
    "\n",
    "    # Pick transform depending on model\n",
    "    if model_class.__name__.endswith(\"HighRes\"):\n",
    "        transform = transforms.Compose([\n",
    "            transforms.Resize((224, 224)),\n",
    "            transforms.ToTensor(),\n",
    "            # normalize\n",
    "        ])\n",
    "    else:\n",
    "        transform = transforms.Compose([\n",
    "            transforms.Resize((64, 64)),\n",
    "            transforms.ToTensor(),\n",
    "        ])\n",
    "\n",
    "    # Load datasets\n",
    "    train_dataset = WeatherDataset(train_dir, transform=transform)\n",
    "    val_dataset = WeatherDataset(val_dir, transform=transform)\n",
    "\n",
    "    # Filter to pair\n",
    "    train_subset, train_collate = create_binary_dataset(train_dataset, class_pair)\n",
    "    val_subset, val_collate = create_binary_dataset(val_dataset, class_pair)\n",
    "\n",
    "    train_loader = DataLoader(train_subset, batch_size=32, shuffle=True, collate_fn=train_collate)\n",
    "    val_loader = DataLoader(val_subset, batch_size=32, shuffle=False, collate_fn=val_collate)\n",
    "\n",
    "    # Initialize model\n",
    "    model = model_class(class_pair=class_pair).to(device)\n",
    "    criterion = nn.CrossEntropyLoss()\n",
    "    optimizer = optim.Adam(model.parameters(), lr=lr, weight_decay=1e-5)\n",
    "\n",
    "    best_val_acc = 0.0\n",
    "    for epoch in range(epochs):\n",
    "        model.train()\n",
    "        running_loss, running_corrects = 0.0, 0\n",
    "\n",
    "        for imgs, labels in tqdm(train_loader, desc=f\"[{class_pair}] Epoch {epoch+1}/{epochs} [Train]\"):\n",
    "            imgs, labels = imgs.to(device), labels.to(device)\n",
    "            optimizer.zero_grad()\n",
    "            outputs = model(imgs)\n",
    "            loss = criterion(outputs, labels)\n",
    "            loss.backward()\n",
    "            optimizer.step()\n",
    "\n",
    "            preds = outputs.argmax(1)\n",
    "            running_loss += loss.item() * imgs.size(0)\n",
    "            running_corrects += (preds == labels).sum().item()\n",
    "\n",
    "        train_loss = running_loss / len(train_subset)\n",
    "        train_acc = running_corrects / len(train_subset)\n",
    "\n",
    "        # Validation\n",
    "        model.eval()\n",
    "        val_loss, val_corrects = 0.0, 0\n",
    "        with torch.no_grad():\n",
    "            for imgs, labels in tqdm(val_loader, desc=f\"[{class_pair}] Epoch {epoch+1}/{epochs} [Val]\"):\n",
    "                imgs, labels = imgs.to(device), labels.to(device)\n",
    "                outputs = model(imgs)\n",
    "                loss = criterion(outputs, labels)\n",
    "                preds = outputs.argmax(1)\n",
    "                val_loss += loss.item() * imgs.size(0)\n",
    "                val_corrects += (preds == labels).sum().item()\n",
    "\n",
    "        val_loss /= len(val_subset)\n",
    "        val_acc = val_corrects / len(val_subset)\n",
    "\n",
    "        print(f\"Epoch {epoch+1}/{epochs} | Train Acc: {train_acc:.3f} | Val Acc: {val_acc:.3f}\")\n",
    "\n",
    "        if val_acc > best_val_acc:\n",
    "            best_val_acc = val_acc\n",
    "            model_path = os.path.join(save_dir, f\"{class_pair[0]}_{class_pair[1]}_{model_class.__name__}.pth\")\n",
    "            torch.save(model.state_dict(), model_path)\n",
    "            print(f\"✅ Saved best model to {model_path} (val_acc={val_acc:.3f})\")\n",
    "\n",
    "    return model\n"
   ]
  },
  {
   "cell_type": "code",
   "execution_count": 14,
   "id": "8890ddd0",
   "metadata": {},
   "outputs": [
    {
     "name": "stdout",
     "output_type": "stream",
     "text": [
      "\n",
      "============================\n",
      " Training pair: ('frost', 'glaze')\n",
      "============================\n"
     ]
    },
    {
     "name": "stderr",
     "output_type": "stream",
     "text": [
      "[('frost', 'glaze')] Epoch 1/20 [Train]: 100%|██████████| 28/28 [00:13<00:00,  2.03it/s]\n",
      "[('frost', 'glaze')] Epoch 1/20 [Val]: 100%|██████████| 4/4 [00:00<00:00,  4.29it/s]\n"
     ]
    },
    {
     "name": "stdout",
     "output_type": "stream",
     "text": [
      "Epoch 1/20 | Train Acc: 0.567 | Val Acc: 0.582\n",
      "✅ Saved best model to ../../models/binary_models\\frost_glaze_BinaryWeatherClassifier_HighRes.pth (val_acc=0.582)\n"
     ]
    },
    {
     "name": "stderr",
     "output_type": "stream",
     "text": [
      "[('frost', 'glaze')] Epoch 2/20 [Train]: 100%|██████████| 28/28 [00:14<00:00,  1.97it/s]\n",
      "[('frost', 'glaze')] Epoch 2/20 [Val]: 100%|██████████| 4/4 [00:00<00:00,  4.21it/s]\n"
     ]
    },
    {
     "name": "stdout",
     "output_type": "stream",
     "text": [
      "Epoch 2/20 | Train Acc: 0.598 | Val Acc: 0.645\n",
      "✅ Saved best model to ../../models/binary_models\\frost_glaze_BinaryWeatherClassifier_HighRes.pth (val_acc=0.645)\n"
     ]
    },
    {
     "name": "stderr",
     "output_type": "stream",
     "text": [
      "[('frost', 'glaze')] Epoch 3/20 [Train]: 100%|██████████| 28/28 [00:12<00:00,  2.21it/s]\n",
      "[('frost', 'glaze')] Epoch 3/20 [Val]: 100%|██████████| 4/4 [00:00<00:00,  4.27it/s]\n"
     ]
    },
    {
     "name": "stdout",
     "output_type": "stream",
     "text": [
      "Epoch 3/20 | Train Acc: 0.681 | Val Acc: 0.709\n",
      "✅ Saved best model to ../../models/binary_models\\frost_glaze_BinaryWeatherClassifier_HighRes.pth (val_acc=0.709)\n"
     ]
    },
    {
     "name": "stderr",
     "output_type": "stream",
     "text": [
      "[('frost', 'glaze')] Epoch 4/20 [Train]: 100%|██████████| 28/28 [00:13<00:00,  2.11it/s]\n",
      "[('frost', 'glaze')] Epoch 4/20 [Val]: 100%|██████████| 4/4 [00:01<00:00,  3.87it/s]\n"
     ]
    },
    {
     "name": "stdout",
     "output_type": "stream",
     "text": [
      "Epoch 4/20 | Train Acc: 0.688 | Val Acc: 0.736\n",
      "✅ Saved best model to ../../models/binary_models\\frost_glaze_BinaryWeatherClassifier_HighRes.pth (val_acc=0.736)\n"
     ]
    },
    {
     "name": "stderr",
     "output_type": "stream",
     "text": [
      "[('frost', 'glaze')] Epoch 5/20 [Train]: 100%|██████████| 28/28 [00:12<00:00,  2.21it/s]\n",
      "[('frost', 'glaze')] Epoch 5/20 [Val]: 100%|██████████| 4/4 [00:00<00:00,  4.20it/s]\n"
     ]
    },
    {
     "name": "stdout",
     "output_type": "stream",
     "text": [
      "Epoch 5/20 | Train Acc: 0.705 | Val Acc: 0.673\n"
     ]
    },
    {
     "name": "stderr",
     "output_type": "stream",
     "text": [
      "[('frost', 'glaze')] Epoch 6/20 [Train]: 100%|██████████| 28/28 [00:12<00:00,  2.19it/s]\n",
      "[('frost', 'glaze')] Epoch 6/20 [Val]: 100%|██████████| 4/4 [00:01<00:00,  3.76it/s]\n"
     ]
    },
    {
     "name": "stdout",
     "output_type": "stream",
     "text": [
      "Epoch 6/20 | Train Acc: 0.684 | Val Acc: 0.727\n"
     ]
    },
    {
     "name": "stderr",
     "output_type": "stream",
     "text": [
      "[('frost', 'glaze')] Epoch 7/20 [Train]: 100%|██████████| 28/28 [00:13<00:00,  2.12it/s]\n",
      "[('frost', 'glaze')] Epoch 7/20 [Val]: 100%|██████████| 4/4 [00:01<00:00,  3.95it/s]\n"
     ]
    },
    {
     "name": "stdout",
     "output_type": "stream",
     "text": [
      "Epoch 7/20 | Train Acc: 0.719 | Val Acc: 0.582\n"
     ]
    },
    {
     "name": "stderr",
     "output_type": "stream",
     "text": [
      "[('frost', 'glaze')] Epoch 8/20 [Train]: 100%|██████████| 28/28 [00:13<00:00,  2.02it/s]\n",
      "[('frost', 'glaze')] Epoch 8/20 [Val]: 100%|██████████| 4/4 [00:01<00:00,  3.55it/s]\n"
     ]
    },
    {
     "name": "stdout",
     "output_type": "stream",
     "text": [
      "Epoch 8/20 | Train Acc: 0.736 | Val Acc: 0.718\n"
     ]
    },
    {
     "name": "stderr",
     "output_type": "stream",
     "text": [
      "[('frost', 'glaze')] Epoch 9/20 [Train]: 100%|██████████| 28/28 [00:13<00:00,  2.09it/s]\n",
      "[('frost', 'glaze')] Epoch 9/20 [Val]: 100%|██████████| 4/4 [00:00<00:00,  4.11it/s]\n"
     ]
    },
    {
     "name": "stdout",
     "output_type": "stream",
     "text": [
      "Epoch 9/20 | Train Acc: 0.663 | Val Acc: 0.627\n"
     ]
    },
    {
     "name": "stderr",
     "output_type": "stream",
     "text": [
      "[('frost', 'glaze')] Epoch 10/20 [Train]: 100%|██████████| 28/28 [00:12<00:00,  2.20it/s]\n",
      "[('frost', 'glaze')] Epoch 10/20 [Val]: 100%|██████████| 4/4 [00:01<00:00,  3.51it/s]\n"
     ]
    },
    {
     "name": "stdout",
     "output_type": "stream",
     "text": [
      "Epoch 10/20 | Train Acc: 0.687 | Val Acc: 0.673\n"
     ]
    },
    {
     "name": "stderr",
     "output_type": "stream",
     "text": [
      "[('frost', 'glaze')] Epoch 11/20 [Train]: 100%|██████████| 28/28 [00:13<00:00,  2.07it/s]\n",
      "[('frost', 'glaze')] Epoch 11/20 [Val]: 100%|██████████| 4/4 [00:00<00:00,  4.06it/s]\n"
     ]
    },
    {
     "name": "stdout",
     "output_type": "stream",
     "text": [
      "Epoch 11/20 | Train Acc: 0.721 | Val Acc: 0.718\n"
     ]
    },
    {
     "name": "stderr",
     "output_type": "stream",
     "text": [
      "[('frost', 'glaze')] Epoch 12/20 [Train]: 100%|██████████| 28/28 [00:12<00:00,  2.17it/s]\n",
      "[('frost', 'glaze')] Epoch 12/20 [Val]: 100%|██████████| 4/4 [00:00<00:00,  4.06it/s]\n"
     ]
    },
    {
     "name": "stdout",
     "output_type": "stream",
     "text": [
      "Epoch 12/20 | Train Acc: 0.707 | Val Acc: 0.800\n",
      "✅ Saved best model to ../../models/binary_models\\frost_glaze_BinaryWeatherClassifier_HighRes.pth (val_acc=0.800)\n"
     ]
    },
    {
     "name": "stderr",
     "output_type": "stream",
     "text": [
      "[('frost', 'glaze')] Epoch 13/20 [Train]: 100%|██████████| 28/28 [00:13<00:00,  2.04it/s]\n",
      "[('frost', 'glaze')] Epoch 13/20 [Val]: 100%|██████████| 4/4 [00:00<00:00,  4.09it/s]\n"
     ]
    },
    {
     "name": "stdout",
     "output_type": "stream",
     "text": [
      "Epoch 13/20 | Train Acc: 0.754 | Val Acc: 0.636\n"
     ]
    },
    {
     "name": "stderr",
     "output_type": "stream",
     "text": [
      "[('frost', 'glaze')] Epoch 14/20 [Train]: 100%|██████████| 28/28 [00:13<00:00,  2.15it/s]\n",
      "[('frost', 'glaze')] Epoch 14/20 [Val]: 100%|██████████| 4/4 [00:00<00:00,  4.05it/s]\n"
     ]
    },
    {
     "name": "stdout",
     "output_type": "stream",
     "text": [
      "Epoch 14/20 | Train Acc: 0.724 | Val Acc: 0.627\n"
     ]
    },
    {
     "name": "stderr",
     "output_type": "stream",
     "text": [
      "[('frost', 'glaze')] Epoch 15/20 [Train]: 100%|██████████| 28/28 [00:13<00:00,  2.01it/s]\n",
      "[('frost', 'glaze')] Epoch 15/20 [Val]: 100%|██████████| 4/4 [00:00<00:00,  4.41it/s]\n"
     ]
    },
    {
     "name": "stdout",
     "output_type": "stream",
     "text": [
      "Epoch 15/20 | Train Acc: 0.758 | Val Acc: 0.809\n",
      "✅ Saved best model to ../../models/binary_models\\frost_glaze_BinaryWeatherClassifier_HighRes.pth (val_acc=0.809)\n"
     ]
    },
    {
     "name": "stderr",
     "output_type": "stream",
     "text": [
      "[('frost', 'glaze')] Epoch 16/20 [Train]: 100%|██████████| 28/28 [00:11<00:00,  2.34it/s]\n",
      "[('frost', 'glaze')] Epoch 16/20 [Val]: 100%|██████████| 4/4 [00:00<00:00,  4.36it/s]\n"
     ]
    },
    {
     "name": "stdout",
     "output_type": "stream",
     "text": [
      "Epoch 16/20 | Train Acc: 0.763 | Val Acc: 0.627\n"
     ]
    },
    {
     "name": "stderr",
     "output_type": "stream",
     "text": [
      "[('frost', 'glaze')] Epoch 17/20 [Train]: 100%|██████████| 28/28 [00:12<00:00,  2.33it/s]\n",
      "[('frost', 'glaze')] Epoch 17/20 [Val]: 100%|██████████| 4/4 [00:00<00:00,  4.02it/s]\n"
     ]
    },
    {
     "name": "stdout",
     "output_type": "stream",
     "text": [
      "Epoch 17/20 | Train Acc: 0.799 | Val Acc: 0.627\n"
     ]
    },
    {
     "name": "stderr",
     "output_type": "stream",
     "text": [
      "[('frost', 'glaze')] Epoch 18/20 [Train]: 100%|██████████| 28/28 [00:11<00:00,  2.37it/s]\n",
      "[('frost', 'glaze')] Epoch 18/20 [Val]: 100%|██████████| 4/4 [00:00<00:00,  4.58it/s]\n"
     ]
    },
    {
     "name": "stdout",
     "output_type": "stream",
     "text": [
      "Epoch 18/20 | Train Acc: 0.797 | Val Acc: 0.736\n"
     ]
    },
    {
     "name": "stderr",
     "output_type": "stream",
     "text": [
      "[('frost', 'glaze')] Epoch 19/20 [Train]: 100%|██████████| 28/28 [00:11<00:00,  2.40it/s]\n",
      "[('frost', 'glaze')] Epoch 19/20 [Val]: 100%|██████████| 4/4 [00:00<00:00,  4.59it/s]\n"
     ]
    },
    {
     "name": "stdout",
     "output_type": "stream",
     "text": [
      "Epoch 19/20 | Train Acc: 0.806 | Val Acc: 0.791\n"
     ]
    },
    {
     "name": "stderr",
     "output_type": "stream",
     "text": [
      "[('frost', 'glaze')] Epoch 20/20 [Train]: 100%|██████████| 28/28 [00:11<00:00,  2.38it/s]\n",
      "[('frost', 'glaze')] Epoch 20/20 [Val]: 100%|██████████| 4/4 [00:00<00:00,  4.54it/s]\n"
     ]
    },
    {
     "name": "stdout",
     "output_type": "stream",
     "text": [
      "Epoch 20/20 | Train Acc: 0.822 | Val Acc: 0.809\n"
     ]
    },
    {
     "name": "stderr",
     "output_type": "stream",
     "text": [
      "[('frost', 'glaze')] Epoch 1/20 [Train]: 100%|██████████| 28/28 [00:04<00:00,  6.24it/s]\n",
      "[('frost', 'glaze')] Epoch 1/20 [Val]: 100%|██████████| 4/4 [00:00<00:00,  9.17it/s]\n"
     ]
    },
    {
     "name": "stdout",
     "output_type": "stream",
     "text": [
      "Epoch 1/20 | Train Acc: 0.606 | Val Acc: 0.545\n",
      "✅ Saved best model to ../../models/binary_models\\frost_glaze_BinaryWeatherClassifier_LowRes.pth (val_acc=0.545)\n"
     ]
    },
    {
     "name": "stderr",
     "output_type": "stream",
     "text": [
      "[('frost', 'glaze')] Epoch 2/20 [Train]: 100%|██████████| 28/28 [00:04<00:00,  6.27it/s]\n",
      "[('frost', 'glaze')] Epoch 2/20 [Val]: 100%|██████████| 4/4 [00:00<00:00,  9.21it/s]\n"
     ]
    },
    {
     "name": "stdout",
     "output_type": "stream",
     "text": [
      "Epoch 2/20 | Train Acc: 0.682 | Val Acc: 0.745\n",
      "✅ Saved best model to ../../models/binary_models\\frost_glaze_BinaryWeatherClassifier_LowRes.pth (val_acc=0.745)\n"
     ]
    },
    {
     "name": "stderr",
     "output_type": "stream",
     "text": [
      "[('frost', 'glaze')] Epoch 3/20 [Train]: 100%|██████████| 28/28 [00:04<00:00,  6.37it/s]\n",
      "[('frost', 'glaze')] Epoch 3/20 [Val]: 100%|██████████| 4/4 [00:00<00:00,  9.15it/s]\n"
     ]
    },
    {
     "name": "stdout",
     "output_type": "stream",
     "text": [
      "Epoch 3/20 | Train Acc: 0.709 | Val Acc: 0.645\n"
     ]
    },
    {
     "name": "stderr",
     "output_type": "stream",
     "text": [
      "[('frost', 'glaze')] Epoch 4/20 [Train]: 100%|██████████| 28/28 [00:04<00:00,  6.44it/s]\n",
      "[('frost', 'glaze')] Epoch 4/20 [Val]: 100%|██████████| 4/4 [00:00<00:00,  9.26it/s]\n"
     ]
    },
    {
     "name": "stdout",
     "output_type": "stream",
     "text": [
      "Epoch 4/20 | Train Acc: 0.746 | Val Acc: 0.718\n"
     ]
    },
    {
     "name": "stderr",
     "output_type": "stream",
     "text": [
      "[('frost', 'glaze')] Epoch 5/20 [Train]: 100%|██████████| 28/28 [00:04<00:00,  6.37it/s]\n",
      "[('frost', 'glaze')] Epoch 5/20 [Val]: 100%|██████████| 4/4 [00:00<00:00,  9.46it/s]\n"
     ]
    },
    {
     "name": "stdout",
     "output_type": "stream",
     "text": [
      "Epoch 5/20 | Train Acc: 0.758 | Val Acc: 0.709\n"
     ]
    },
    {
     "name": "stderr",
     "output_type": "stream",
     "text": [
      "[('frost', 'glaze')] Epoch 6/20 [Train]: 100%|██████████| 28/28 [00:04<00:00,  6.44it/s]\n",
      "[('frost', 'glaze')] Epoch 6/20 [Val]: 100%|██████████| 4/4 [00:00<00:00,  9.17it/s]\n"
     ]
    },
    {
     "name": "stdout",
     "output_type": "stream",
     "text": [
      "Epoch 6/20 | Train Acc: 0.738 | Val Acc: 0.682\n"
     ]
    },
    {
     "name": "stderr",
     "output_type": "stream",
     "text": [
      "[('frost', 'glaze')] Epoch 7/20 [Train]: 100%|██████████| 28/28 [00:04<00:00,  6.32it/s]\n",
      "[('frost', 'glaze')] Epoch 7/20 [Val]: 100%|██████████| 4/4 [00:00<00:00,  9.30it/s]\n"
     ]
    },
    {
     "name": "stdout",
     "output_type": "stream",
     "text": [
      "Epoch 7/20 | Train Acc: 0.770 | Val Acc: 0.782\n",
      "✅ Saved best model to ../../models/binary_models\\frost_glaze_BinaryWeatherClassifier_LowRes.pth (val_acc=0.782)\n"
     ]
    },
    {
     "name": "stderr",
     "output_type": "stream",
     "text": [
      "[('frost', 'glaze')] Epoch 8/20 [Train]: 100%|██████████| 28/28 [00:04<00:00,  6.36it/s]\n",
      "[('frost', 'glaze')] Epoch 8/20 [Val]: 100%|██████████| 4/4 [00:00<00:00,  8.93it/s]\n"
     ]
    },
    {
     "name": "stdout",
     "output_type": "stream",
     "text": [
      "Epoch 8/20 | Train Acc: 0.776 | Val Acc: 0.745\n"
     ]
    },
    {
     "name": "stderr",
     "output_type": "stream",
     "text": [
      "[('frost', 'glaze')] Epoch 9/20 [Train]: 100%|██████████| 28/28 [00:04<00:00,  6.49it/s]\n",
      "[('frost', 'glaze')] Epoch 9/20 [Val]: 100%|██████████| 4/4 [00:00<00:00,  9.76it/s]\n"
     ]
    },
    {
     "name": "stdout",
     "output_type": "stream",
     "text": [
      "Epoch 9/20 | Train Acc: 0.840 | Val Acc: 0.736\n"
     ]
    },
    {
     "name": "stderr",
     "output_type": "stream",
     "text": [
      "[('frost', 'glaze')] Epoch 10/20 [Train]: 100%|██████████| 28/28 [00:04<00:00,  6.56it/s]\n",
      "[('frost', 'glaze')] Epoch 10/20 [Val]: 100%|██████████| 4/4 [00:00<00:00,  9.41it/s]\n"
     ]
    },
    {
     "name": "stdout",
     "output_type": "stream",
     "text": [
      "Epoch 10/20 | Train Acc: 0.834 | Val Acc: 0.764\n"
     ]
    },
    {
     "name": "stderr",
     "output_type": "stream",
     "text": [
      "[('frost', 'glaze')] Epoch 11/20 [Train]: 100%|██████████| 28/28 [00:04<00:00,  6.55it/s]\n",
      "[('frost', 'glaze')] Epoch 11/20 [Val]: 100%|██████████| 4/4 [00:00<00:00,  9.01it/s]\n"
     ]
    },
    {
     "name": "stdout",
     "output_type": "stream",
     "text": [
      "Epoch 11/20 | Train Acc: 0.864 | Val Acc: 0.664\n"
     ]
    },
    {
     "name": "stderr",
     "output_type": "stream",
     "text": [
      "[('frost', 'glaze')] Epoch 12/20 [Train]: 100%|██████████| 28/28 [00:04<00:00,  6.48it/s]\n",
      "[('frost', 'glaze')] Epoch 12/20 [Val]: 100%|██████████| 4/4 [00:00<00:00,  9.60it/s]\n"
     ]
    },
    {
     "name": "stdout",
     "output_type": "stream",
     "text": [
      "Epoch 12/20 | Train Acc: 0.870 | Val Acc: 0.627\n"
     ]
    },
    {
     "name": "stderr",
     "output_type": "stream",
     "text": [
      "[('frost', 'glaze')] Epoch 13/20 [Train]: 100%|██████████| 28/28 [00:04<00:00,  6.58it/s]\n",
      "[('frost', 'glaze')] Epoch 13/20 [Val]: 100%|██████████| 4/4 [00:00<00:00,  9.64it/s]\n"
     ]
    },
    {
     "name": "stdout",
     "output_type": "stream",
     "text": [
      "Epoch 13/20 | Train Acc: 0.893 | Val Acc: 0.727\n"
     ]
    },
    {
     "name": "stderr",
     "output_type": "stream",
     "text": [
      "[('frost', 'glaze')] Epoch 14/20 [Train]: 100%|██████████| 28/28 [00:04<00:00,  6.60it/s]\n",
      "[('frost', 'glaze')] Epoch 14/20 [Val]: 100%|██████████| 4/4 [00:00<00:00,  9.45it/s]\n"
     ]
    },
    {
     "name": "stdout",
     "output_type": "stream",
     "text": [
      "Epoch 14/20 | Train Acc: 0.901 | Val Acc: 0.782\n"
     ]
    },
    {
     "name": "stderr",
     "output_type": "stream",
     "text": [
      "[('frost', 'glaze')] Epoch 15/20 [Train]: 100%|██████████| 28/28 [00:04<00:00,  6.57it/s]\n",
      "[('frost', 'glaze')] Epoch 15/20 [Val]: 100%|██████████| 4/4 [00:00<00:00,  9.80it/s]\n"
     ]
    },
    {
     "name": "stdout",
     "output_type": "stream",
     "text": [
      "Epoch 15/20 | Train Acc: 0.926 | Val Acc: 0.736\n"
     ]
    },
    {
     "name": "stderr",
     "output_type": "stream",
     "text": [
      "[('frost', 'glaze')] Epoch 16/20 [Train]: 100%|██████████| 28/28 [00:04<00:00,  6.62it/s]\n",
      "[('frost', 'glaze')] Epoch 16/20 [Val]: 100%|██████████| 4/4 [00:00<00:00,  9.71it/s]\n"
     ]
    },
    {
     "name": "stdout",
     "output_type": "stream",
     "text": [
      "Epoch 16/20 | Train Acc: 0.920 | Val Acc: 0.727\n"
     ]
    },
    {
     "name": "stderr",
     "output_type": "stream",
     "text": [
      "[('frost', 'glaze')] Epoch 17/20 [Train]: 100%|██████████| 28/28 [00:04<00:00,  6.65it/s]\n",
      "[('frost', 'glaze')] Epoch 17/20 [Val]: 100%|██████████| 4/4 [00:00<00:00,  8.51it/s]\n"
     ]
    },
    {
     "name": "stdout",
     "output_type": "stream",
     "text": [
      "Epoch 17/20 | Train Acc: 0.943 | Val Acc: 0.800\n",
      "✅ Saved best model to ../../models/binary_models\\frost_glaze_BinaryWeatherClassifier_LowRes.pth (val_acc=0.800)\n"
     ]
    },
    {
     "name": "stderr",
     "output_type": "stream",
     "text": [
      "[('frost', 'glaze')] Epoch 18/20 [Train]: 100%|██████████| 28/28 [00:04<00:00,  6.63it/s]\n",
      "[('frost', 'glaze')] Epoch 18/20 [Val]: 100%|██████████| 4/4 [00:00<00:00,  9.66it/s]\n"
     ]
    },
    {
     "name": "stdout",
     "output_type": "stream",
     "text": [
      "Epoch 18/20 | Train Acc: 0.960 | Val Acc: 0.718\n"
     ]
    },
    {
     "name": "stderr",
     "output_type": "stream",
     "text": [
      "[('frost', 'glaze')] Epoch 19/20 [Train]: 100%|██████████| 28/28 [00:04<00:00,  6.65it/s]\n",
      "[('frost', 'glaze')] Epoch 19/20 [Val]: 100%|██████████| 4/4 [00:00<00:00,  9.66it/s]\n"
     ]
    },
    {
     "name": "stdout",
     "output_type": "stream",
     "text": [
      "Epoch 19/20 | Train Acc: 0.957 | Val Acc: 0.800\n"
     ]
    },
    {
     "name": "stderr",
     "output_type": "stream",
     "text": [
      "[('frost', 'glaze')] Epoch 20/20 [Train]: 100%|██████████| 28/28 [00:04<00:00,  6.55it/s]\n",
      "[('frost', 'glaze')] Epoch 20/20 [Val]: 100%|██████████| 4/4 [00:00<00:00,  9.69it/s]\n"
     ]
    },
    {
     "name": "stdout",
     "output_type": "stream",
     "text": [
      "Epoch 20/20 | Train Acc: 0.965 | Val Acc: 0.745\n",
      "\n",
      "============================\n",
      " Training pair: ('rain', 'lightning')\n",
      "============================\n"
     ]
    },
    {
     "name": "stderr",
     "output_type": "stream",
     "text": [
      "[('rain', 'lightning')] Epoch 1/20 [Train]: 100%|██████████| 23/23 [00:07<00:00,  3.02it/s]\n",
      "[('rain', 'lightning')] Epoch 1/20 [Val]: 100%|██████████| 3/3 [00:00<00:00,  5.26it/s]\n"
     ]
    },
    {
     "name": "stdout",
     "output_type": "stream",
     "text": [
      "Epoch 1/20 | Train Acc: 0.768 | Val Acc: 0.416\n",
      "✅ Saved best model to ../../models/binary_models\\rain_lightning_BinaryWeatherClassifier_HighRes.pth (val_acc=0.416)\n"
     ]
    },
    {
     "name": "stderr",
     "output_type": "stream",
     "text": [
      "[('rain', 'lightning')] Epoch 2/20 [Train]: 100%|██████████| 23/23 [00:07<00:00,  3.14it/s]\n",
      "[('rain', 'lightning')] Epoch 2/20 [Val]: 100%|██████████| 3/3 [00:00<00:00,  4.87it/s]\n"
     ]
    },
    {
     "name": "stdout",
     "output_type": "stream",
     "text": [
      "Epoch 2/20 | Train Acc: 0.904 | Val Acc: 0.854\n",
      "✅ Saved best model to ../../models/binary_models\\rain_lightning_BinaryWeatherClassifier_HighRes.pth (val_acc=0.854)\n"
     ]
    },
    {
     "name": "stderr",
     "output_type": "stream",
     "text": [
      "[('rain', 'lightning')] Epoch 3/20 [Train]: 100%|██████████| 23/23 [00:07<00:00,  3.14it/s]\n",
      "[('rain', 'lightning')] Epoch 3/20 [Val]: 100%|██████████| 3/3 [00:00<00:00,  5.62it/s]\n"
     ]
    },
    {
     "name": "stdout",
     "output_type": "stream",
     "text": [
      "Epoch 3/20 | Train Acc: 0.943 | Val Acc: 0.955\n",
      "✅ Saved best model to ../../models/binary_models\\rain_lightning_BinaryWeatherClassifier_HighRes.pth (val_acc=0.955)\n"
     ]
    },
    {
     "name": "stderr",
     "output_type": "stream",
     "text": [
      "[('rain', 'lightning')] Epoch 4/20 [Train]: 100%|██████████| 23/23 [00:07<00:00,  3.13it/s]\n",
      "[('rain', 'lightning')] Epoch 4/20 [Val]: 100%|██████████| 3/3 [00:00<00:00,  5.46it/s]\n"
     ]
    },
    {
     "name": "stdout",
     "output_type": "stream",
     "text": [
      "Epoch 4/20 | Train Acc: 0.943 | Val Acc: 0.899\n"
     ]
    },
    {
     "name": "stderr",
     "output_type": "stream",
     "text": [
      "[('rain', 'lightning')] Epoch 5/20 [Train]: 100%|██████████| 23/23 [00:07<00:00,  3.10it/s]\n",
      "[('rain', 'lightning')] Epoch 5/20 [Val]: 100%|██████████| 3/3 [00:00<00:00,  5.43it/s]\n"
     ]
    },
    {
     "name": "stdout",
     "output_type": "stream",
     "text": [
      "Epoch 5/20 | Train Acc: 0.940 | Val Acc: 0.978\n",
      "✅ Saved best model to ../../models/binary_models\\rain_lightning_BinaryWeatherClassifier_HighRes.pth (val_acc=0.978)\n"
     ]
    },
    {
     "name": "stderr",
     "output_type": "stream",
     "text": [
      "[('rain', 'lightning')] Epoch 6/20 [Train]: 100%|██████████| 23/23 [00:07<00:00,  3.13it/s]\n",
      "[('rain', 'lightning')] Epoch 6/20 [Val]: 100%|██████████| 3/3 [00:00<00:00,  5.39it/s]\n"
     ]
    },
    {
     "name": "stdout",
     "output_type": "stream",
     "text": [
      "Epoch 6/20 | Train Acc: 0.971 | Val Acc: 0.989\n",
      "✅ Saved best model to ../../models/binary_models\\rain_lightning_BinaryWeatherClassifier_HighRes.pth (val_acc=0.989)\n"
     ]
    },
    {
     "name": "stderr",
     "output_type": "stream",
     "text": [
      "[('rain', 'lightning')] Epoch 7/20 [Train]: 100%|██████████| 23/23 [00:07<00:00,  3.09it/s]\n",
      "[('rain', 'lightning')] Epoch 7/20 [Val]: 100%|██████████| 3/3 [00:00<00:00,  5.42it/s]\n"
     ]
    },
    {
     "name": "stdout",
     "output_type": "stream",
     "text": [
      "Epoch 7/20 | Train Acc: 0.968 | Val Acc: 0.989\n"
     ]
    },
    {
     "name": "stderr",
     "output_type": "stream",
     "text": [
      "[('rain', 'lightning')] Epoch 8/20 [Train]: 100%|██████████| 23/23 [00:07<00:00,  3.08it/s]\n",
      "[('rain', 'lightning')] Epoch 8/20 [Val]: 100%|██████████| 3/3 [00:00<00:00,  5.57it/s]\n"
     ]
    },
    {
     "name": "stdout",
     "output_type": "stream",
     "text": [
      "Epoch 8/20 | Train Acc: 0.947 | Val Acc: 0.966\n"
     ]
    },
    {
     "name": "stderr",
     "output_type": "stream",
     "text": [
      "[('rain', 'lightning')] Epoch 9/20 [Train]: 100%|██████████| 23/23 [00:07<00:00,  3.09it/s]\n",
      "[('rain', 'lightning')] Epoch 9/20 [Val]: 100%|██████████| 3/3 [00:00<00:00,  5.45it/s]\n"
     ]
    },
    {
     "name": "stdout",
     "output_type": "stream",
     "text": [
      "Epoch 9/20 | Train Acc: 0.946 | Val Acc: 0.978\n"
     ]
    },
    {
     "name": "stderr",
     "output_type": "stream",
     "text": [
      "[('rain', 'lightning')] Epoch 10/20 [Train]: 100%|██████████| 23/23 [00:07<00:00,  3.01it/s]\n",
      "[('rain', 'lightning')] Epoch 10/20 [Val]: 100%|██████████| 3/3 [00:00<00:00,  5.36it/s]\n"
     ]
    },
    {
     "name": "stdout",
     "output_type": "stream",
     "text": [
      "Epoch 10/20 | Train Acc: 0.940 | Val Acc: 0.989\n"
     ]
    },
    {
     "name": "stderr",
     "output_type": "stream",
     "text": [
      "[('rain', 'lightning')] Epoch 11/20 [Train]: 100%|██████████| 23/23 [00:07<00:00,  3.01it/s]\n",
      "[('rain', 'lightning')] Epoch 11/20 [Val]: 100%|██████████| 3/3 [00:00<00:00,  5.40it/s]\n"
     ]
    },
    {
     "name": "stdout",
     "output_type": "stream",
     "text": [
      "Epoch 11/20 | Train Acc: 0.968 | Val Acc: 0.978\n"
     ]
    },
    {
     "name": "stderr",
     "output_type": "stream",
     "text": [
      "[('rain', 'lightning')] Epoch 12/20 [Train]: 100%|██████████| 23/23 [00:07<00:00,  3.05it/s]\n",
      "[('rain', 'lightning')] Epoch 12/20 [Val]: 100%|██████████| 3/3 [00:00<00:00,  5.50it/s]\n"
     ]
    },
    {
     "name": "stdout",
     "output_type": "stream",
     "text": [
      "Epoch 12/20 | Train Acc: 0.958 | Val Acc: 0.989\n"
     ]
    },
    {
     "name": "stderr",
     "output_type": "stream",
     "text": [
      "[('rain', 'lightning')] Epoch 13/20 [Train]: 100%|██████████| 23/23 [00:07<00:00,  2.98it/s]\n",
      "[('rain', 'lightning')] Epoch 13/20 [Val]: 100%|██████████| 3/3 [00:00<00:00,  5.18it/s]\n"
     ]
    },
    {
     "name": "stdout",
     "output_type": "stream",
     "text": [
      "Epoch 13/20 | Train Acc: 0.958 | Val Acc: 0.989\n"
     ]
    },
    {
     "name": "stderr",
     "output_type": "stream",
     "text": [
      "[('rain', 'lightning')] Epoch 14/20 [Train]: 100%|██████████| 23/23 [00:07<00:00,  3.07it/s]\n",
      "[('rain', 'lightning')] Epoch 14/20 [Val]: 100%|██████████| 3/3 [00:00<00:00,  5.17it/s]\n"
     ]
    },
    {
     "name": "stdout",
     "output_type": "stream",
     "text": [
      "Epoch 14/20 | Train Acc: 0.976 | Val Acc: 0.978\n"
     ]
    },
    {
     "name": "stderr",
     "output_type": "stream",
     "text": [
      "[('rain', 'lightning')] Epoch 15/20 [Train]: 100%|██████████| 23/23 [00:07<00:00,  3.05it/s]\n",
      "[('rain', 'lightning')] Epoch 15/20 [Val]: 100%|██████████| 3/3 [00:00<00:00,  5.43it/s]\n"
     ]
    },
    {
     "name": "stdout",
     "output_type": "stream",
     "text": [
      "Epoch 15/20 | Train Acc: 0.965 | Val Acc: 0.966\n"
     ]
    },
    {
     "name": "stderr",
     "output_type": "stream",
     "text": [
      "[('rain', 'lightning')] Epoch 16/20 [Train]: 100%|██████████| 23/23 [00:07<00:00,  3.07it/s]\n",
      "[('rain', 'lightning')] Epoch 16/20 [Val]: 100%|██████████| 3/3 [00:00<00:00,  5.40it/s]\n"
     ]
    },
    {
     "name": "stdout",
     "output_type": "stream",
     "text": [
      "Epoch 16/20 | Train Acc: 0.981 | Val Acc: 0.978\n"
     ]
    },
    {
     "name": "stderr",
     "output_type": "stream",
     "text": [
      "[('rain', 'lightning')] Epoch 17/20 [Train]: 100%|██████████| 23/23 [00:07<00:00,  2.99it/s]\n",
      "[('rain', 'lightning')] Epoch 17/20 [Val]: 100%|██████████| 3/3 [00:00<00:00,  5.49it/s]\n"
     ]
    },
    {
     "name": "stdout",
     "output_type": "stream",
     "text": [
      "Epoch 17/20 | Train Acc: 0.981 | Val Acc: 0.989\n"
     ]
    },
    {
     "name": "stderr",
     "output_type": "stream",
     "text": [
      "[('rain', 'lightning')] Epoch 18/20 [Train]: 100%|██████████| 23/23 [00:07<00:00,  3.03it/s]\n",
      "[('rain', 'lightning')] Epoch 18/20 [Val]: 100%|██████████| 3/3 [00:00<00:00,  5.41it/s]\n"
     ]
    },
    {
     "name": "stdout",
     "output_type": "stream",
     "text": [
      "Epoch 18/20 | Train Acc: 0.979 | Val Acc: 0.933\n"
     ]
    },
    {
     "name": "stderr",
     "output_type": "stream",
     "text": [
      "[('rain', 'lightning')] Epoch 19/20 [Train]: 100%|██████████| 23/23 [00:07<00:00,  3.04it/s]\n",
      "[('rain', 'lightning')] Epoch 19/20 [Val]: 100%|██████████| 3/3 [00:00<00:00,  5.31it/s]\n"
     ]
    },
    {
     "name": "stdout",
     "output_type": "stream",
     "text": [
      "Epoch 19/20 | Train Acc: 0.961 | Val Acc: 0.966\n"
     ]
    },
    {
     "name": "stderr",
     "output_type": "stream",
     "text": [
      "[('rain', 'lightning')] Epoch 20/20 [Train]: 100%|██████████| 23/23 [00:07<00:00,  3.06it/s]\n",
      "[('rain', 'lightning')] Epoch 20/20 [Val]: 100%|██████████| 3/3 [00:00<00:00,  4.55it/s]\n"
     ]
    },
    {
     "name": "stdout",
     "output_type": "stream",
     "text": [
      "Epoch 20/20 | Train Acc: 0.981 | Val Acc: 0.966\n"
     ]
    },
    {
     "name": "stderr",
     "output_type": "stream",
     "text": [
      "[('rain', 'lightning')] Epoch 1/20 [Train]: 100%|██████████| 23/23 [00:02<00:00, 10.24it/s]\n",
      "[('rain', 'lightning')] Epoch 1/20 [Val]: 100%|██████████| 3/3 [00:00<00:00, 10.91it/s]\n"
     ]
    },
    {
     "name": "stdout",
     "output_type": "stream",
     "text": [
      "Epoch 1/20 | Train Acc: 0.899 | Val Acc: 0.416\n",
      "✅ Saved best model to ../../models/binary_models\\rain_lightning_BinaryWeatherClassifier_LowRes.pth (val_acc=0.416)\n"
     ]
    },
    {
     "name": "stderr",
     "output_type": "stream",
     "text": [
      "[('rain', 'lightning')] Epoch 2/20 [Train]: 100%|██████████| 23/23 [00:02<00:00, 10.38it/s]\n",
      "[('rain', 'lightning')] Epoch 2/20 [Val]: 100%|██████████| 3/3 [00:00<00:00, 12.30it/s]\n"
     ]
    },
    {
     "name": "stdout",
     "output_type": "stream",
     "text": [
      "Epoch 2/20 | Train Acc: 0.939 | Val Acc: 0.910\n",
      "✅ Saved best model to ../../models/binary_models\\rain_lightning_BinaryWeatherClassifier_LowRes.pth (val_acc=0.910)\n"
     ]
    },
    {
     "name": "stderr",
     "output_type": "stream",
     "text": [
      "[('rain', 'lightning')] Epoch 3/20 [Train]: 100%|██████████| 23/23 [00:02<00:00,  9.89it/s]\n",
      "[('rain', 'lightning')] Epoch 3/20 [Val]: 100%|██████████| 3/3 [00:00<00:00, 12.71it/s]\n"
     ]
    },
    {
     "name": "stdout",
     "output_type": "stream",
     "text": [
      "Epoch 3/20 | Train Acc: 0.967 | Val Acc: 0.966\n",
      "✅ Saved best model to ../../models/binary_models\\rain_lightning_BinaryWeatherClassifier_LowRes.pth (val_acc=0.966)\n"
     ]
    },
    {
     "name": "stderr",
     "output_type": "stream",
     "text": [
      "[('rain', 'lightning')] Epoch 4/20 [Train]: 100%|██████████| 23/23 [00:02<00:00, 10.62it/s]\n",
      "[('rain', 'lightning')] Epoch 4/20 [Val]: 100%|██████████| 3/3 [00:00<00:00, 12.99it/s]\n"
     ]
    },
    {
     "name": "stdout",
     "output_type": "stream",
     "text": [
      "Epoch 4/20 | Train Acc: 0.969 | Val Acc: 0.966\n"
     ]
    },
    {
     "name": "stderr",
     "output_type": "stream",
     "text": [
      "[('rain', 'lightning')] Epoch 5/20 [Train]: 100%|██████████| 23/23 [00:02<00:00, 10.17it/s]\n",
      "[('rain', 'lightning')] Epoch 5/20 [Val]: 100%|██████████| 3/3 [00:00<00:00, 12.77it/s]\n"
     ]
    },
    {
     "name": "stdout",
     "output_type": "stream",
     "text": [
      "Epoch 5/20 | Train Acc: 0.974 | Val Acc: 0.955\n"
     ]
    },
    {
     "name": "stderr",
     "output_type": "stream",
     "text": [
      "[('rain', 'lightning')] Epoch 6/20 [Train]: 100%|██████████| 23/23 [00:02<00:00, 10.52it/s]\n",
      "[('rain', 'lightning')] Epoch 6/20 [Val]: 100%|██████████| 3/3 [00:00<00:00, 12.40it/s]\n"
     ]
    },
    {
     "name": "stdout",
     "output_type": "stream",
     "text": [
      "Epoch 6/20 | Train Acc: 0.976 | Val Acc: 0.966\n"
     ]
    },
    {
     "name": "stderr",
     "output_type": "stream",
     "text": [
      "[('rain', 'lightning')] Epoch 7/20 [Train]: 100%|██████████| 23/23 [00:02<00:00, 10.56it/s]\n",
      "[('rain', 'lightning')] Epoch 7/20 [Val]: 100%|██████████| 3/3 [00:00<00:00, 12.20it/s]\n"
     ]
    },
    {
     "name": "stdout",
     "output_type": "stream",
     "text": [
      "Epoch 7/20 | Train Acc: 0.972 | Val Acc: 0.966\n"
     ]
    },
    {
     "name": "stderr",
     "output_type": "stream",
     "text": [
      "[('rain', 'lightning')] Epoch 8/20 [Train]: 100%|██████████| 23/23 [00:02<00:00, 10.79it/s]\n",
      "[('rain', 'lightning')] Epoch 8/20 [Val]: 100%|██████████| 3/3 [00:00<00:00, 12.71it/s]\n"
     ]
    },
    {
     "name": "stdout",
     "output_type": "stream",
     "text": [
      "Epoch 8/20 | Train Acc: 0.983 | Val Acc: 0.955\n"
     ]
    },
    {
     "name": "stderr",
     "output_type": "stream",
     "text": [
      "[('rain', 'lightning')] Epoch 9/20 [Train]: 100%|██████████| 23/23 [00:02<00:00, 10.21it/s]\n",
      "[('rain', 'lightning')] Epoch 9/20 [Val]: 100%|██████████| 3/3 [00:00<00:00, 12.66it/s]\n"
     ]
    },
    {
     "name": "stdout",
     "output_type": "stream",
     "text": [
      "Epoch 9/20 | Train Acc: 0.979 | Val Acc: 0.966\n"
     ]
    },
    {
     "name": "stderr",
     "output_type": "stream",
     "text": [
      "[('rain', 'lightning')] Epoch 10/20 [Train]: 100%|██████████| 23/23 [00:02<00:00, 10.65it/s]\n",
      "[('rain', 'lightning')] Epoch 10/20 [Val]: 100%|██████████| 3/3 [00:00<00:00, 12.88it/s]\n"
     ]
    },
    {
     "name": "stdout",
     "output_type": "stream",
     "text": [
      "Epoch 10/20 | Train Acc: 0.989 | Val Acc: 0.944\n"
     ]
    },
    {
     "name": "stderr",
     "output_type": "stream",
     "text": [
      "[('rain', 'lightning')] Epoch 11/20 [Train]: 100%|██████████| 23/23 [00:02<00:00, 10.55it/s]\n",
      "[('rain', 'lightning')] Epoch 11/20 [Val]: 100%|██████████| 3/3 [00:00<00:00, 12.77it/s]\n"
     ]
    },
    {
     "name": "stdout",
     "output_type": "stream",
     "text": [
      "Epoch 11/20 | Train Acc: 0.971 | Val Acc: 0.944\n"
     ]
    },
    {
     "name": "stderr",
     "output_type": "stream",
     "text": [
      "[('rain', 'lightning')] Epoch 12/20 [Train]: 100%|██████████| 23/23 [00:02<00:00, 10.63it/s]\n",
      "[('rain', 'lightning')] Epoch 12/20 [Val]: 100%|██████████| 3/3 [00:00<00:00, 13.04it/s]\n"
     ]
    },
    {
     "name": "stdout",
     "output_type": "stream",
     "text": [
      "Epoch 12/20 | Train Acc: 0.981 | Val Acc: 0.955\n"
     ]
    },
    {
     "name": "stderr",
     "output_type": "stream",
     "text": [
      "[('rain', 'lightning')] Epoch 13/20 [Train]: 100%|██████████| 23/23 [00:02<00:00, 10.78it/s]\n",
      "[('rain', 'lightning')] Epoch 13/20 [Val]: 100%|██████████| 3/3 [00:00<00:00, 10.68it/s]\n"
     ]
    },
    {
     "name": "stdout",
     "output_type": "stream",
     "text": [
      "Epoch 13/20 | Train Acc: 0.993 | Val Acc: 0.966\n"
     ]
    },
    {
     "name": "stderr",
     "output_type": "stream",
     "text": [
      "[('rain', 'lightning')] Epoch 14/20 [Train]: 100%|██████████| 23/23 [00:02<00:00, 10.34it/s]\n",
      "[('rain', 'lightning')] Epoch 14/20 [Val]: 100%|██████████| 3/3 [00:00<00:00, 12.55it/s]\n"
     ]
    },
    {
     "name": "stdout",
     "output_type": "stream",
     "text": [
      "Epoch 14/20 | Train Acc: 0.990 | Val Acc: 0.966\n"
     ]
    },
    {
     "name": "stderr",
     "output_type": "stream",
     "text": [
      "[('rain', 'lightning')] Epoch 15/20 [Train]: 100%|██████████| 23/23 [00:02<00:00, 10.74it/s]\n",
      "[('rain', 'lightning')] Epoch 15/20 [Val]: 100%|██████████| 3/3 [00:00<00:00, 12.55it/s]\n"
     ]
    },
    {
     "name": "stdout",
     "output_type": "stream",
     "text": [
      "Epoch 15/20 | Train Acc: 0.978 | Val Acc: 0.966\n"
     ]
    },
    {
     "name": "stderr",
     "output_type": "stream",
     "text": [
      "[('rain', 'lightning')] Epoch 16/20 [Train]: 100%|██████████| 23/23 [00:02<00:00, 10.69it/s]\n",
      "[('rain', 'lightning')] Epoch 16/20 [Val]: 100%|██████████| 3/3 [00:00<00:00, 12.88it/s]\n"
     ]
    },
    {
     "name": "stdout",
     "output_type": "stream",
     "text": [
      "Epoch 16/20 | Train Acc: 0.989 | Val Acc: 0.978\n",
      "✅ Saved best model to ../../models/binary_models\\rain_lightning_BinaryWeatherClassifier_LowRes.pth (val_acc=0.978)\n"
     ]
    },
    {
     "name": "stderr",
     "output_type": "stream",
     "text": [
      "[('rain', 'lightning')] Epoch 17/20 [Train]: 100%|██████████| 23/23 [00:02<00:00, 10.76it/s]\n",
      "[('rain', 'lightning')] Epoch 17/20 [Val]: 100%|██████████| 3/3 [00:00<00:00, 12.76it/s]\n"
     ]
    },
    {
     "name": "stdout",
     "output_type": "stream",
     "text": [
      "Epoch 17/20 | Train Acc: 0.997 | Val Acc: 0.966\n"
     ]
    },
    {
     "name": "stderr",
     "output_type": "stream",
     "text": [
      "[('rain', 'lightning')] Epoch 18/20 [Train]: 100%|██████████| 23/23 [00:02<00:00, 10.51it/s]\n",
      "[('rain', 'lightning')] Epoch 18/20 [Val]: 100%|██████████| 3/3 [00:00<00:00, 13.16it/s]\n"
     ]
    },
    {
     "name": "stdout",
     "output_type": "stream",
     "text": [
      "Epoch 18/20 | Train Acc: 0.994 | Val Acc: 0.978\n"
     ]
    },
    {
     "name": "stderr",
     "output_type": "stream",
     "text": [
      "[('rain', 'lightning')] Epoch 19/20 [Train]: 100%|██████████| 23/23 [00:02<00:00, 10.73it/s]\n",
      "[('rain', 'lightning')] Epoch 19/20 [Val]: 100%|██████████| 3/3 [00:00<00:00, 12.55it/s]\n"
     ]
    },
    {
     "name": "stdout",
     "output_type": "stream",
     "text": [
      "Epoch 19/20 | Train Acc: 0.999 | Val Acc: 0.966\n"
     ]
    },
    {
     "name": "stderr",
     "output_type": "stream",
     "text": [
      "[('rain', 'lightning')] Epoch 20/20 [Train]: 100%|██████████| 23/23 [00:02<00:00, 10.55it/s]\n",
      "[('rain', 'lightning')] Epoch 20/20 [Val]: 100%|██████████| 3/3 [00:00<00:00, 13.04it/s]\n"
     ]
    },
    {
     "name": "stdout",
     "output_type": "stream",
     "text": [
      "Epoch 20/20 | Train Acc: 0.982 | Val Acc: 0.966\n",
      "\n",
      "============================\n",
      " Training pair: ('snow', 'rime')\n",
      "============================\n"
     ]
    },
    {
     "name": "stderr",
     "output_type": "stream",
     "text": [
      "[('snow', 'rime')] Epoch 1/20 [Train]: 100%|██████████| 45/45 [00:16<00:00,  2.74it/s]\n",
      "[('snow', 'rime')] Epoch 1/20 [Val]: 100%|██████████| 6/6 [00:01<00:00,  3.82it/s]\n"
     ]
    },
    {
     "name": "stdout",
     "output_type": "stream",
     "text": [
      "Epoch 1/20 | Train Acc: 0.643 | Val Acc: 0.775\n",
      "✅ Saved best model to ../../models/binary_models\\snow_rime_BinaryWeatherClassifier_HighRes.pth (val_acc=0.775)\n"
     ]
    },
    {
     "name": "stderr",
     "output_type": "stream",
     "text": [
      "[('snow', 'rime')] Epoch 2/20 [Train]: 100%|██████████| 45/45 [00:15<00:00,  2.81it/s]\n",
      "[('snow', 'rime')] Epoch 2/20 [Val]: 100%|██████████| 6/6 [00:01<00:00,  4.13it/s]\n"
     ]
    },
    {
     "name": "stdout",
     "output_type": "stream",
     "text": [
      "Epoch 2/20 | Train Acc: 0.735 | Val Acc: 0.792\n",
      "✅ Saved best model to ../../models/binary_models\\snow_rime_BinaryWeatherClassifier_HighRes.pth (val_acc=0.792)\n"
     ]
    },
    {
     "name": "stderr",
     "output_type": "stream",
     "text": [
      "[('snow', 'rime')] Epoch 3/20 [Train]: 100%|██████████| 45/45 [00:16<00:00,  2.79it/s]\n",
      "[('snow', 'rime')] Epoch 3/20 [Val]: 100%|██████████| 6/6 [00:01<00:00,  3.99it/s]\n"
     ]
    },
    {
     "name": "stdout",
     "output_type": "stream",
     "text": [
      "Epoch 3/20 | Train Acc: 0.794 | Val Acc: 0.747\n"
     ]
    },
    {
     "name": "stderr",
     "output_type": "stream",
     "text": [
      "[('snow', 'rime')] Epoch 4/20 [Train]: 100%|██████████| 45/45 [00:16<00:00,  2.80it/s]\n",
      "[('snow', 'rime')] Epoch 4/20 [Val]: 100%|██████████| 6/6 [00:01<00:00,  4.11it/s]\n"
     ]
    },
    {
     "name": "stdout",
     "output_type": "stream",
     "text": [
      "Epoch 4/20 | Train Acc: 0.815 | Val Acc: 0.815\n",
      "✅ Saved best model to ../../models/binary_models\\snow_rime_BinaryWeatherClassifier_HighRes.pth (val_acc=0.815)\n"
     ]
    },
    {
     "name": "stderr",
     "output_type": "stream",
     "text": [
      "[('snow', 'rime')] Epoch 5/20 [Train]: 100%|██████████| 45/45 [00:15<00:00,  2.82it/s]\n",
      "[('snow', 'rime')] Epoch 5/20 [Val]: 100%|██████████| 6/6 [00:01<00:00,  3.89it/s]\n"
     ]
    },
    {
     "name": "stdout",
     "output_type": "stream",
     "text": [
      "Epoch 5/20 | Train Acc: 0.812 | Val Acc: 0.787\n"
     ]
    },
    {
     "name": "stderr",
     "output_type": "stream",
     "text": [
      "[('snow', 'rime')] Epoch 6/20 [Train]: 100%|██████████| 45/45 [00:16<00:00,  2.80it/s]\n",
      "[('snow', 'rime')] Epoch 6/20 [Val]: 100%|██████████| 6/6 [00:01<00:00,  4.04it/s]\n"
     ]
    },
    {
     "name": "stdout",
     "output_type": "stream",
     "text": [
      "Epoch 6/20 | Train Acc: 0.815 | Val Acc: 0.730\n"
     ]
    },
    {
     "name": "stderr",
     "output_type": "stream",
     "text": [
      "[('snow', 'rime')] Epoch 7/20 [Train]: 100%|██████████| 45/45 [00:16<00:00,  2.75it/s]\n",
      "[('snow', 'rime')] Epoch 7/20 [Val]: 100%|██████████| 6/6 [00:01<00:00,  4.05it/s]\n"
     ]
    },
    {
     "name": "stdout",
     "output_type": "stream",
     "text": [
      "Epoch 7/20 | Train Acc: 0.839 | Val Acc: 0.815\n"
     ]
    },
    {
     "name": "stderr",
     "output_type": "stream",
     "text": [
      "[('snow', 'rime')] Epoch 8/20 [Train]: 100%|██████████| 45/45 [00:16<00:00,  2.80it/s]\n",
      "[('snow', 'rime')] Epoch 8/20 [Val]: 100%|██████████| 6/6 [00:01<00:00,  3.80it/s]\n"
     ]
    },
    {
     "name": "stdout",
     "output_type": "stream",
     "text": [
      "Epoch 8/20 | Train Acc: 0.841 | Val Acc: 0.770\n"
     ]
    },
    {
     "name": "stderr",
     "output_type": "stream",
     "text": [
      "[('snow', 'rime')] Epoch 9/20 [Train]: 100%|██████████| 45/45 [00:16<00:00,  2.80it/s]\n",
      "[('snow', 'rime')] Epoch 9/20 [Val]: 100%|██████████| 6/6 [00:01<00:00,  3.94it/s]\n"
     ]
    },
    {
     "name": "stdout",
     "output_type": "stream",
     "text": [
      "Epoch 9/20 | Train Acc: 0.852 | Val Acc: 0.820\n",
      "✅ Saved best model to ../../models/binary_models\\snow_rime_BinaryWeatherClassifier_HighRes.pth (val_acc=0.820)\n"
     ]
    },
    {
     "name": "stderr",
     "output_type": "stream",
     "text": [
      "[('snow', 'rime')] Epoch 10/20 [Train]: 100%|██████████| 45/45 [00:16<00:00,  2.79it/s]\n",
      "[('snow', 'rime')] Epoch 10/20 [Val]: 100%|██████████| 6/6 [00:01<00:00,  4.02it/s]\n"
     ]
    },
    {
     "name": "stdout",
     "output_type": "stream",
     "text": [
      "Epoch 10/20 | Train Acc: 0.862 | Val Acc: 0.803\n"
     ]
    },
    {
     "name": "stderr",
     "output_type": "stream",
     "text": [
      "[('snow', 'rime')] Epoch 11/20 [Train]: 100%|██████████| 45/45 [00:16<00:00,  2.80it/s]\n",
      "[('snow', 'rime')] Epoch 11/20 [Val]: 100%|██████████| 6/6 [00:01<00:00,  3.95it/s]\n"
     ]
    },
    {
     "name": "stdout",
     "output_type": "stream",
     "text": [
      "Epoch 11/20 | Train Acc: 0.862 | Val Acc: 0.747\n"
     ]
    },
    {
     "name": "stderr",
     "output_type": "stream",
     "text": [
      "[('snow', 'rime')] Epoch 12/20 [Train]: 100%|██████████| 45/45 [00:16<00:00,  2.78it/s]\n",
      "[('snow', 'rime')] Epoch 12/20 [Val]: 100%|██████████| 6/6 [00:01<00:00,  4.09it/s]\n"
     ]
    },
    {
     "name": "stdout",
     "output_type": "stream",
     "text": [
      "Epoch 12/20 | Train Acc: 0.879 | Val Acc: 0.843\n",
      "✅ Saved best model to ../../models/binary_models\\snow_rime_BinaryWeatherClassifier_HighRes.pth (val_acc=0.843)\n"
     ]
    },
    {
     "name": "stderr",
     "output_type": "stream",
     "text": [
      "[('snow', 'rime')] Epoch 13/20 [Train]: 100%|██████████| 45/45 [00:16<00:00,  2.77it/s]\n",
      "[('snow', 'rime')] Epoch 13/20 [Val]: 100%|██████████| 6/6 [00:01<00:00,  4.01it/s]\n"
     ]
    },
    {
     "name": "stdout",
     "output_type": "stream",
     "text": [
      "Epoch 13/20 | Train Acc: 0.873 | Val Acc: 0.826\n"
     ]
    },
    {
     "name": "stderr",
     "output_type": "stream",
     "text": [
      "[('snow', 'rime')] Epoch 14/20 [Train]: 100%|██████████| 45/45 [00:16<00:00,  2.71it/s]\n",
      "[('snow', 'rime')] Epoch 14/20 [Val]: 100%|██████████| 6/6 [00:01<00:00,  3.76it/s]\n"
     ]
    },
    {
     "name": "stdout",
     "output_type": "stream",
     "text": [
      "Epoch 14/20 | Train Acc: 0.879 | Val Acc: 0.865\n",
      "✅ Saved best model to ../../models/binary_models\\snow_rime_BinaryWeatherClassifier_HighRes.pth (val_acc=0.865)\n"
     ]
    },
    {
     "name": "stderr",
     "output_type": "stream",
     "text": [
      "[('snow', 'rime')] Epoch 15/20 [Train]: 100%|██████████| 45/45 [00:16<00:00,  2.77it/s]\n",
      "[('snow', 'rime')] Epoch 15/20 [Val]: 100%|██████████| 6/6 [00:01<00:00,  4.02it/s]\n"
     ]
    },
    {
     "name": "stdout",
     "output_type": "stream",
     "text": [
      "Epoch 15/20 | Train Acc: 0.879 | Val Acc: 0.719\n"
     ]
    },
    {
     "name": "stderr",
     "output_type": "stream",
     "text": [
      "[('snow', 'rime')] Epoch 16/20 [Train]: 100%|██████████| 45/45 [00:16<00:00,  2.78it/s]\n",
      "[('snow', 'rime')] Epoch 16/20 [Val]: 100%|██████████| 6/6 [00:01<00:00,  4.05it/s]\n"
     ]
    },
    {
     "name": "stdout",
     "output_type": "stream",
     "text": [
      "Epoch 16/20 | Train Acc: 0.895 | Val Acc: 0.815\n"
     ]
    },
    {
     "name": "stderr",
     "output_type": "stream",
     "text": [
      "[('snow', 'rime')] Epoch 17/20 [Train]: 100%|██████████| 45/45 [00:16<00:00,  2.80it/s]\n",
      "[('snow', 'rime')] Epoch 17/20 [Val]: 100%|██████████| 6/6 [00:01<00:00,  4.04it/s]\n"
     ]
    },
    {
     "name": "stdout",
     "output_type": "stream",
     "text": [
      "Epoch 17/20 | Train Acc: 0.888 | Val Acc: 0.809\n"
     ]
    },
    {
     "name": "stderr",
     "output_type": "stream",
     "text": [
      "[('snow', 'rime')] Epoch 18/20 [Train]: 100%|██████████| 45/45 [00:16<00:00,  2.76it/s]\n",
      "[('snow', 'rime')] Epoch 18/20 [Val]: 100%|██████████| 6/6 [00:01<00:00,  3.98it/s]\n"
     ]
    },
    {
     "name": "stdout",
     "output_type": "stream",
     "text": [
      "Epoch 18/20 | Train Acc: 0.886 | Val Acc: 0.820\n"
     ]
    },
    {
     "name": "stderr",
     "output_type": "stream",
     "text": [
      "[('snow', 'rime')] Epoch 19/20 [Train]: 100%|██████████| 45/45 [00:16<00:00,  2.74it/s]\n",
      "[('snow', 'rime')] Epoch 19/20 [Val]: 100%|██████████| 6/6 [00:01<00:00,  4.07it/s]\n"
     ]
    },
    {
     "name": "stdout",
     "output_type": "stream",
     "text": [
      "Epoch 19/20 | Train Acc: 0.892 | Val Acc: 0.764\n"
     ]
    },
    {
     "name": "stderr",
     "output_type": "stream",
     "text": [
      "[('snow', 'rime')] Epoch 20/20 [Train]: 100%|██████████| 45/45 [00:16<00:00,  2.79it/s]\n",
      "[('snow', 'rime')] Epoch 20/20 [Val]: 100%|██████████| 6/6 [00:01<00:00,  4.01it/s]\n"
     ]
    },
    {
     "name": "stdout",
     "output_type": "stream",
     "text": [
      "Epoch 20/20 | Train Acc: 0.898 | Val Acc: 0.848\n"
     ]
    },
    {
     "name": "stderr",
     "output_type": "stream",
     "text": [
      "[('snow', 'rime')] Epoch 1/20 [Train]: 100%|██████████| 45/45 [00:05<00:00,  7.69it/s]\n",
      "[('snow', 'rime')] Epoch 1/20 [Val]: 100%|██████████| 6/6 [00:00<00:00,  7.21it/s]\n"
     ]
    },
    {
     "name": "stdout",
     "output_type": "stream",
     "text": [
      "Epoch 1/20 | Train Acc: 0.769 | Val Acc: 0.770\n",
      "✅ Saved best model to ../../models/binary_models\\snow_rime_BinaryWeatherClassifier_LowRes.pth (val_acc=0.770)\n"
     ]
    },
    {
     "name": "stderr",
     "output_type": "stream",
     "text": [
      "[('snow', 'rime')] Epoch 2/20 [Train]: 100%|██████████| 45/45 [00:06<00:00,  6.62it/s]\n",
      "[('snow', 'rime')] Epoch 2/20 [Val]: 100%|██████████| 6/6 [00:01<00:00,  5.24it/s]\n"
     ]
    },
    {
     "name": "stdout",
     "output_type": "stream",
     "text": [
      "Epoch 2/20 | Train Acc: 0.828 | Val Acc: 0.803\n",
      "✅ Saved best model to ../../models/binary_models\\snow_rime_BinaryWeatherClassifier_LowRes.pth (val_acc=0.803)\n"
     ]
    },
    {
     "name": "stderr",
     "output_type": "stream",
     "text": [
      "[('snow', 'rime')] Epoch 3/20 [Train]: 100%|██████████| 45/45 [00:06<00:00,  6.60it/s]\n",
      "[('snow', 'rime')] Epoch 3/20 [Val]: 100%|██████████| 6/6 [00:00<00:00,  7.33it/s]\n"
     ]
    },
    {
     "name": "stdout",
     "output_type": "stream",
     "text": [
      "Epoch 3/20 | Train Acc: 0.839 | Val Acc: 0.820\n",
      "✅ Saved best model to ../../models/binary_models\\snow_rime_BinaryWeatherClassifier_LowRes.pth (val_acc=0.820)\n"
     ]
    },
    {
     "name": "stderr",
     "output_type": "stream",
     "text": [
      "[('snow', 'rime')] Epoch 4/20 [Train]: 100%|██████████| 45/45 [00:07<00:00,  6.41it/s]\n",
      "[('snow', 'rime')] Epoch 4/20 [Val]: 100%|██████████| 6/6 [00:00<00:00,  6.78it/s]\n"
     ]
    },
    {
     "name": "stdout",
     "output_type": "stream",
     "text": [
      "Epoch 4/20 | Train Acc: 0.855 | Val Acc: 0.826\n",
      "✅ Saved best model to ../../models/binary_models\\snow_rime_BinaryWeatherClassifier_LowRes.pth (val_acc=0.826)\n"
     ]
    },
    {
     "name": "stderr",
     "output_type": "stream",
     "text": [
      "[('snow', 'rime')] Epoch 5/20 [Train]: 100%|██████████| 45/45 [00:06<00:00,  6.85it/s]\n",
      "[('snow', 'rime')] Epoch 5/20 [Val]: 100%|██████████| 6/6 [00:00<00:00,  7.24it/s]\n"
     ]
    },
    {
     "name": "stdout",
     "output_type": "stream",
     "text": [
      "Epoch 5/20 | Train Acc: 0.862 | Val Acc: 0.820\n"
     ]
    },
    {
     "name": "stderr",
     "output_type": "stream",
     "text": [
      "[('snow', 'rime')] Epoch 6/20 [Train]: 100%|██████████| 45/45 [00:06<00:00,  7.14it/s]\n",
      "[('snow', 'rime')] Epoch 6/20 [Val]: 100%|██████████| 6/6 [00:00<00:00,  8.25it/s]\n"
     ]
    },
    {
     "name": "stdout",
     "output_type": "stream",
     "text": [
      "Epoch 6/20 | Train Acc: 0.890 | Val Acc: 0.831\n",
      "✅ Saved best model to ../../models/binary_models\\snow_rime_BinaryWeatherClassifier_LowRes.pth (val_acc=0.831)\n"
     ]
    },
    {
     "name": "stderr",
     "output_type": "stream",
     "text": [
      "[('snow', 'rime')] Epoch 7/20 [Train]: 100%|██████████| 45/45 [00:06<00:00,  7.45it/s]\n",
      "[('snow', 'rime')] Epoch 7/20 [Val]: 100%|██████████| 6/6 [00:00<00:00,  7.50it/s]\n"
     ]
    },
    {
     "name": "stdout",
     "output_type": "stream",
     "text": [
      "Epoch 7/20 | Train Acc: 0.883 | Val Acc: 0.809\n"
     ]
    },
    {
     "name": "stderr",
     "output_type": "stream",
     "text": [
      "[('snow', 'rime')] Epoch 8/20 [Train]: 100%|██████████| 45/45 [00:06<00:00,  7.09it/s]\n",
      "[('snow', 'rime')] Epoch 8/20 [Val]: 100%|██████████| 6/6 [00:00<00:00,  7.25it/s]\n"
     ]
    },
    {
     "name": "stdout",
     "output_type": "stream",
     "text": [
      "Epoch 8/20 | Train Acc: 0.899 | Val Acc: 0.809\n"
     ]
    },
    {
     "name": "stderr",
     "output_type": "stream",
     "text": [
      "[('snow', 'rime')] Epoch 9/20 [Train]: 100%|██████████| 45/45 [00:06<00:00,  6.64it/s]\n",
      "[('snow', 'rime')] Epoch 9/20 [Val]: 100%|██████████| 6/6 [00:00<00:00,  7.87it/s]\n"
     ]
    },
    {
     "name": "stdout",
     "output_type": "stream",
     "text": [
      "Epoch 9/20 | Train Acc: 0.897 | Val Acc: 0.854\n",
      "✅ Saved best model to ../../models/binary_models\\snow_rime_BinaryWeatherClassifier_LowRes.pth (val_acc=0.854)\n"
     ]
    },
    {
     "name": "stderr",
     "output_type": "stream",
     "text": [
      "[('snow', 'rime')] Epoch 10/20 [Train]: 100%|██████████| 45/45 [00:06<00:00,  6.79it/s]\n",
      "[('snow', 'rime')] Epoch 10/20 [Val]: 100%|██████████| 6/6 [00:00<00:00,  8.39it/s]\n"
     ]
    },
    {
     "name": "stdout",
     "output_type": "stream",
     "text": [
      "Epoch 10/20 | Train Acc: 0.912 | Val Acc: 0.820\n"
     ]
    },
    {
     "name": "stderr",
     "output_type": "stream",
     "text": [
      "[('snow', 'rime')] Epoch 11/20 [Train]: 100%|██████████| 45/45 [00:06<00:00,  7.00it/s]\n",
      "[('snow', 'rime')] Epoch 11/20 [Val]: 100%|██████████| 6/6 [00:00<00:00,  7.82it/s]\n"
     ]
    },
    {
     "name": "stdout",
     "output_type": "stream",
     "text": [
      "Epoch 11/20 | Train Acc: 0.912 | Val Acc: 0.854\n"
     ]
    },
    {
     "name": "stderr",
     "output_type": "stream",
     "text": [
      "[('snow', 'rime')] Epoch 12/20 [Train]: 100%|██████████| 45/45 [00:06<00:00,  7.12it/s]\n",
      "[('snow', 'rime')] Epoch 12/20 [Val]: 100%|██████████| 6/6 [00:00<00:00,  7.51it/s]\n"
     ]
    },
    {
     "name": "stdout",
     "output_type": "stream",
     "text": [
      "Epoch 12/20 | Train Acc: 0.912 | Val Acc: 0.831\n"
     ]
    },
    {
     "name": "stderr",
     "output_type": "stream",
     "text": [
      "[('snow', 'rime')] Epoch 13/20 [Train]: 100%|██████████| 45/45 [00:06<00:00,  7.50it/s]\n",
      "[('snow', 'rime')] Epoch 13/20 [Val]: 100%|██████████| 6/6 [00:00<00:00,  7.30it/s]\n"
     ]
    },
    {
     "name": "stdout",
     "output_type": "stream",
     "text": [
      "Epoch 13/20 | Train Acc: 0.922 | Val Acc: 0.809\n"
     ]
    },
    {
     "name": "stderr",
     "output_type": "stream",
     "text": [
      "[('snow', 'rime')] Epoch 14/20 [Train]: 100%|██████████| 45/45 [00:06<00:00,  7.23it/s]\n",
      "[('snow', 'rime')] Epoch 14/20 [Val]: 100%|██████████| 6/6 [00:00<00:00,  7.58it/s]\n"
     ]
    },
    {
     "name": "stdout",
     "output_type": "stream",
     "text": [
      "Epoch 14/20 | Train Acc: 0.933 | Val Acc: 0.854\n"
     ]
    },
    {
     "name": "stderr",
     "output_type": "stream",
     "text": [
      "[('snow', 'rime')] Epoch 15/20 [Train]: 100%|██████████| 45/45 [00:06<00:00,  7.29it/s]\n",
      "[('snow', 'rime')] Epoch 15/20 [Val]: 100%|██████████| 6/6 [00:00<00:00,  7.50it/s]\n"
     ]
    },
    {
     "name": "stdout",
     "output_type": "stream",
     "text": [
      "Epoch 15/20 | Train Acc: 0.930 | Val Acc: 0.815\n"
     ]
    },
    {
     "name": "stderr",
     "output_type": "stream",
     "text": [
      "[('snow', 'rime')] Epoch 16/20 [Train]: 100%|██████████| 45/45 [00:06<00:00,  7.34it/s]\n",
      "[('snow', 'rime')] Epoch 16/20 [Val]: 100%|██████████| 6/6 [00:00<00:00,  7.58it/s]\n"
     ]
    },
    {
     "name": "stdout",
     "output_type": "stream",
     "text": [
      "Epoch 16/20 | Train Acc: 0.938 | Val Acc: 0.809\n"
     ]
    },
    {
     "name": "stderr",
     "output_type": "stream",
     "text": [
      "[('snow', 'rime')] Epoch 17/20 [Train]: 100%|██████████| 45/45 [00:06<00:00,  7.23it/s]\n",
      "[('snow', 'rime')] Epoch 17/20 [Val]: 100%|██████████| 6/6 [00:00<00:00,  7.42it/s]\n"
     ]
    },
    {
     "name": "stdout",
     "output_type": "stream",
     "text": [
      "Epoch 17/20 | Train Acc: 0.953 | Val Acc: 0.854\n"
     ]
    },
    {
     "name": "stderr",
     "output_type": "stream",
     "text": [
      "[('snow', 'rime')] Epoch 18/20 [Train]: 100%|██████████| 45/45 [00:06<00:00,  7.27it/s]\n",
      "[('snow', 'rime')] Epoch 18/20 [Val]: 100%|██████████| 6/6 [00:00<00:00,  7.56it/s]\n"
     ]
    },
    {
     "name": "stdout",
     "output_type": "stream",
     "text": [
      "Epoch 18/20 | Train Acc: 0.951 | Val Acc: 0.820\n"
     ]
    },
    {
     "name": "stderr",
     "output_type": "stream",
     "text": [
      "[('snow', 'rime')] Epoch 19/20 [Train]: 100%|██████████| 45/45 [00:06<00:00,  7.26it/s]\n",
      "[('snow', 'rime')] Epoch 19/20 [Val]: 100%|██████████| 6/6 [00:00<00:00,  7.47it/s]\n"
     ]
    },
    {
     "name": "stdout",
     "output_type": "stream",
     "text": [
      "Epoch 19/20 | Train Acc: 0.963 | Val Acc: 0.775\n"
     ]
    },
    {
     "name": "stderr",
     "output_type": "stream",
     "text": [
      "[('snow', 'rime')] Epoch 20/20 [Train]: 100%|██████████| 45/45 [00:05<00:00,  7.62it/s]\n",
      "[('snow', 'rime')] Epoch 20/20 [Val]: 100%|██████████| 6/6 [00:00<00:00,  7.72it/s]\n"
     ]
    },
    {
     "name": "stdout",
     "output_type": "stream",
     "text": [
      "Epoch 20/20 | Train Acc: 0.948 | Val Acc: 0.848\n",
      "\n",
      "============================\n",
      " Training pair: ('glaze', 'hail')\n",
      "============================\n"
     ]
    },
    {
     "name": "stderr",
     "output_type": "stream",
     "text": [
      "[('glaze', 'hail')] Epoch 1/20 [Train]: 100%|██████████| 31/31 [00:10<00:00,  3.04it/s]\n",
      "[('glaze', 'hail')] Epoch 1/20 [Val]: 100%|██████████| 4/4 [00:00<00:00,  5.16it/s]\n"
     ]
    },
    {
     "name": "stdout",
     "output_type": "stream",
     "text": [
      "Epoch 1/20 | Train Acc: 0.511 | Val Acc: 0.525\n",
      "✅ Saved best model to ../../models/binary_models\\glaze_hail_BinaryWeatherClassifier_HighRes.pth (val_acc=0.525)\n"
     ]
    },
    {
     "name": "stderr",
     "output_type": "stream",
     "text": [
      "[('glaze', 'hail')] Epoch 2/20 [Train]: 100%|██████████| 31/31 [00:09<00:00,  3.25it/s]\n",
      "[('glaze', 'hail')] Epoch 2/20 [Val]: 100%|██████████| 4/4 [00:00<00:00,  5.36it/s]\n"
     ]
    },
    {
     "name": "stdout",
     "output_type": "stream",
     "text": [
      "Epoch 2/20 | Train Acc: 0.529 | Val Acc: 0.574\n",
      "✅ Saved best model to ../../models/binary_models\\glaze_hail_BinaryWeatherClassifier_HighRes.pth (val_acc=0.574)\n"
     ]
    },
    {
     "name": "stderr",
     "output_type": "stream",
     "text": [
      "[('glaze', 'hail')] Epoch 3/20 [Train]: 100%|██████████| 31/31 [00:09<00:00,  3.22it/s]\n",
      "[('glaze', 'hail')] Epoch 3/20 [Val]: 100%|██████████| 4/4 [00:00<00:00,  5.36it/s]\n"
     ]
    },
    {
     "name": "stdout",
     "output_type": "stream",
     "text": [
      "Epoch 3/20 | Train Acc: 0.590 | Val Acc: 0.607\n",
      "✅ Saved best model to ../../models/binary_models\\glaze_hail_BinaryWeatherClassifier_HighRes.pth (val_acc=0.607)\n"
     ]
    },
    {
     "name": "stderr",
     "output_type": "stream",
     "text": [
      "[('glaze', 'hail')] Epoch 4/20 [Train]: 100%|██████████| 31/31 [00:09<00:00,  3.24it/s]\n",
      "[('glaze', 'hail')] Epoch 4/20 [Val]: 100%|██████████| 4/4 [00:00<00:00,  5.28it/s]\n"
     ]
    },
    {
     "name": "stdout",
     "output_type": "stream",
     "text": [
      "Epoch 4/20 | Train Acc: 0.746 | Val Acc: 0.787\n",
      "✅ Saved best model to ../../models/binary_models\\glaze_hail_BinaryWeatherClassifier_HighRes.pth (val_acc=0.787)\n"
     ]
    },
    {
     "name": "stderr",
     "output_type": "stream",
     "text": [
      "[('glaze', 'hail')] Epoch 5/20 [Train]: 100%|██████████| 31/31 [00:09<00:00,  3.19it/s]\n",
      "[('glaze', 'hail')] Epoch 5/20 [Val]: 100%|██████████| 4/4 [00:00<00:00,  5.33it/s]\n"
     ]
    },
    {
     "name": "stdout",
     "output_type": "stream",
     "text": [
      "Epoch 5/20 | Train Acc: 0.787 | Val Acc: 0.672\n"
     ]
    },
    {
     "name": "stderr",
     "output_type": "stream",
     "text": [
      "[('glaze', 'hail')] Epoch 6/20 [Train]: 100%|██████████| 31/31 [00:09<00:00,  3.20it/s]\n",
      "[('glaze', 'hail')] Epoch 6/20 [Val]: 100%|██████████| 4/4 [00:00<00:00,  5.41it/s]\n"
     ]
    },
    {
     "name": "stdout",
     "output_type": "stream",
     "text": [
      "Epoch 6/20 | Train Acc: 0.773 | Val Acc: 0.811\n",
      "✅ Saved best model to ../../models/binary_models\\glaze_hail_BinaryWeatherClassifier_HighRes.pth (val_acc=0.811)\n"
     ]
    },
    {
     "name": "stderr",
     "output_type": "stream",
     "text": [
      "[('glaze', 'hail')] Epoch 7/20 [Train]: 100%|██████████| 31/31 [00:09<00:00,  3.15it/s]\n",
      "[('glaze', 'hail')] Epoch 7/20 [Val]: 100%|██████████| 4/4 [00:00<00:00,  5.28it/s]\n"
     ]
    },
    {
     "name": "stdout",
     "output_type": "stream",
     "text": [
      "Epoch 7/20 | Train Acc: 0.801 | Val Acc: 0.779\n"
     ]
    },
    {
     "name": "stderr",
     "output_type": "stream",
     "text": [
      "[('glaze', 'hail')] Epoch 8/20 [Train]: 100%|██████████| 31/31 [00:09<00:00,  3.18it/s]\n",
      "[('glaze', 'hail')] Epoch 8/20 [Val]: 100%|██████████| 4/4 [00:00<00:00,  5.14it/s]\n"
     ]
    },
    {
     "name": "stdout",
     "output_type": "stream",
     "text": [
      "Epoch 8/20 | Train Acc: 0.824 | Val Acc: 0.730\n"
     ]
    },
    {
     "name": "stderr",
     "output_type": "stream",
     "text": [
      "[('glaze', 'hail')] Epoch 9/20 [Train]: 100%|██████████| 31/31 [00:09<00:00,  3.15it/s]\n",
      "[('glaze', 'hail')] Epoch 9/20 [Val]: 100%|██████████| 4/4 [00:00<00:00,  5.18it/s]\n"
     ]
    },
    {
     "name": "stdout",
     "output_type": "stream",
     "text": [
      "Epoch 9/20 | Train Acc: 0.847 | Val Acc: 0.836\n",
      "✅ Saved best model to ../../models/binary_models\\glaze_hail_BinaryWeatherClassifier_HighRes.pth (val_acc=0.836)\n"
     ]
    },
    {
     "name": "stderr",
     "output_type": "stream",
     "text": [
      "[('glaze', 'hail')] Epoch 10/20 [Train]: 100%|██████████| 31/31 [00:09<00:00,  3.16it/s]\n",
      "[('glaze', 'hail')] Epoch 10/20 [Val]: 100%|██████████| 4/4 [00:00<00:00,  5.23it/s]\n"
     ]
    },
    {
     "name": "stdout",
     "output_type": "stream",
     "text": [
      "Epoch 10/20 | Train Acc: 0.868 | Val Acc: 0.844\n",
      "✅ Saved best model to ../../models/binary_models\\glaze_hail_BinaryWeatherClassifier_HighRes.pth (val_acc=0.844)\n"
     ]
    },
    {
     "name": "stderr",
     "output_type": "stream",
     "text": [
      "[('glaze', 'hail')] Epoch 11/20 [Train]: 100%|██████████| 31/31 [00:09<00:00,  3.15it/s]\n",
      "[('glaze', 'hail')] Epoch 11/20 [Val]: 100%|██████████| 4/4 [00:00<00:00,  4.96it/s]\n"
     ]
    },
    {
     "name": "stdout",
     "output_type": "stream",
     "text": [
      "Epoch 11/20 | Train Acc: 0.846 | Val Acc: 0.713\n"
     ]
    },
    {
     "name": "stderr",
     "output_type": "stream",
     "text": [
      "[('glaze', 'hail')] Epoch 12/20 [Train]: 100%|██████████| 31/31 [00:09<00:00,  3.17it/s]\n",
      "[('glaze', 'hail')] Epoch 12/20 [Val]: 100%|██████████| 4/4 [00:00<00:00,  5.13it/s]\n"
     ]
    },
    {
     "name": "stdout",
     "output_type": "stream",
     "text": [
      "Epoch 12/20 | Train Acc: 0.883 | Val Acc: 0.836\n"
     ]
    },
    {
     "name": "stderr",
     "output_type": "stream",
     "text": [
      "[('glaze', 'hail')] Epoch 13/20 [Train]: 100%|██████████| 31/31 [00:10<00:00,  3.07it/s]\n",
      "[('glaze', 'hail')] Epoch 13/20 [Val]: 100%|██████████| 4/4 [00:00<00:00,  5.29it/s]\n"
     ]
    },
    {
     "name": "stdout",
     "output_type": "stream",
     "text": [
      "Epoch 13/20 | Train Acc: 0.869 | Val Acc: 0.795\n"
     ]
    },
    {
     "name": "stderr",
     "output_type": "stream",
     "text": [
      "[('glaze', 'hail')] Epoch 14/20 [Train]: 100%|██████████| 31/31 [00:09<00:00,  3.15it/s]\n",
      "[('glaze', 'hail')] Epoch 14/20 [Val]: 100%|██████████| 4/4 [00:00<00:00,  5.04it/s]\n"
     ]
    },
    {
     "name": "stdout",
     "output_type": "stream",
     "text": [
      "Epoch 14/20 | Train Acc: 0.881 | Val Acc: 0.877\n",
      "✅ Saved best model to ../../models/binary_models\\glaze_hail_BinaryWeatherClassifier_HighRes.pth (val_acc=0.877)\n"
     ]
    },
    {
     "name": "stderr",
     "output_type": "stream",
     "text": [
      "[('glaze', 'hail')] Epoch 15/20 [Train]: 100%|██████████| 31/31 [00:09<00:00,  3.11it/s]\n",
      "[('glaze', 'hail')] Epoch 15/20 [Val]: 100%|██████████| 4/4 [00:00<00:00,  5.15it/s]\n"
     ]
    },
    {
     "name": "stdout",
     "output_type": "stream",
     "text": [
      "Epoch 15/20 | Train Acc: 0.880 | Val Acc: 0.852\n"
     ]
    },
    {
     "name": "stderr",
     "output_type": "stream",
     "text": [
      "[('glaze', 'hail')] Epoch 16/20 [Train]: 100%|██████████| 31/31 [00:09<00:00,  3.14it/s]\n",
      "[('glaze', 'hail')] Epoch 16/20 [Val]: 100%|██████████| 4/4 [00:00<00:00,  5.04it/s]\n"
     ]
    },
    {
     "name": "stdout",
     "output_type": "stream",
     "text": [
      "Epoch 16/20 | Train Acc: 0.907 | Val Acc: 0.836\n"
     ]
    },
    {
     "name": "stderr",
     "output_type": "stream",
     "text": [
      "[('glaze', 'hail')] Epoch 17/20 [Train]: 100%|██████████| 31/31 [00:09<00:00,  3.11it/s]\n",
      "[('glaze', 'hail')] Epoch 17/20 [Val]: 100%|██████████| 4/4 [00:00<00:00,  5.06it/s]\n"
     ]
    },
    {
     "name": "stdout",
     "output_type": "stream",
     "text": [
      "Epoch 17/20 | Train Acc: 0.923 | Val Acc: 0.852\n"
     ]
    },
    {
     "name": "stderr",
     "output_type": "stream",
     "text": [
      "[('glaze', 'hail')] Epoch 18/20 [Train]: 100%|██████████| 31/31 [00:09<00:00,  3.12it/s]\n",
      "[('glaze', 'hail')] Epoch 18/20 [Val]: 100%|██████████| 4/4 [00:00<00:00,  5.22it/s]\n"
     ]
    },
    {
     "name": "stdout",
     "output_type": "stream",
     "text": [
      "Epoch 18/20 | Train Acc: 0.894 | Val Acc: 0.861\n"
     ]
    },
    {
     "name": "stderr",
     "output_type": "stream",
     "text": [
      "[('glaze', 'hail')] Epoch 19/20 [Train]: 100%|██████████| 31/31 [00:10<00:00,  3.09it/s]\n",
      "[('glaze', 'hail')] Epoch 19/20 [Val]: 100%|██████████| 4/4 [00:00<00:00,  5.03it/s]\n"
     ]
    },
    {
     "name": "stdout",
     "output_type": "stream",
     "text": [
      "Epoch 19/20 | Train Acc: 0.933 | Val Acc: 0.910\n",
      "✅ Saved best model to ../../models/binary_models\\glaze_hail_BinaryWeatherClassifier_HighRes.pth (val_acc=0.910)\n"
     ]
    },
    {
     "name": "stderr",
     "output_type": "stream",
     "text": [
      "[('glaze', 'hail')] Epoch 20/20 [Train]: 100%|██████████| 31/31 [00:09<00:00,  3.13it/s]\n",
      "[('glaze', 'hail')] Epoch 20/20 [Val]: 100%|██████████| 4/4 [00:00<00:00,  5.10it/s]\n"
     ]
    },
    {
     "name": "stdout",
     "output_type": "stream",
     "text": [
      "Epoch 20/20 | Train Acc: 0.920 | Val Acc: 0.746\n"
     ]
    },
    {
     "name": "stderr",
     "output_type": "stream",
     "text": [
      "[('glaze', 'hail')] Epoch 1/20 [Train]: 100%|██████████| 31/31 [00:02<00:00, 11.07it/s]\n",
      "[('glaze', 'hail')] Epoch 1/20 [Val]: 100%|██████████| 4/4 [00:00<00:00, 11.56it/s]\n"
     ]
    },
    {
     "name": "stdout",
     "output_type": "stream",
     "text": [
      "Epoch 1/20 | Train Acc: 0.702 | Val Acc: 0.738\n",
      "✅ Saved best model to ../../models/binary_models\\glaze_hail_BinaryWeatherClassifier_LowRes.pth (val_acc=0.738)\n"
     ]
    },
    {
     "name": "stderr",
     "output_type": "stream",
     "text": [
      "[('glaze', 'hail')] Epoch 2/20 [Train]: 100%|██████████| 31/31 [00:03<00:00,  9.96it/s]\n",
      "[('glaze', 'hail')] Epoch 2/20 [Val]: 100%|██████████| 4/4 [00:00<00:00, 11.20it/s]\n"
     ]
    },
    {
     "name": "stdout",
     "output_type": "stream",
     "text": [
      "Epoch 2/20 | Train Acc: 0.801 | Val Acc: 0.680\n"
     ]
    },
    {
     "name": "stderr",
     "output_type": "stream",
     "text": [
      "[('glaze', 'hail')] Epoch 3/20 [Train]: 100%|██████████| 31/31 [00:03<00:00,  8.93it/s]\n",
      "[('glaze', 'hail')] Epoch 3/20 [Val]: 100%|██████████| 4/4 [00:00<00:00, 11.87it/s]\n"
     ]
    },
    {
     "name": "stdout",
     "output_type": "stream",
     "text": [
      "Epoch 3/20 | Train Acc: 0.840 | Val Acc: 0.844\n",
      "✅ Saved best model to ../../models/binary_models\\glaze_hail_BinaryWeatherClassifier_LowRes.pth (val_acc=0.844)\n"
     ]
    },
    {
     "name": "stderr",
     "output_type": "stream",
     "text": [
      "[('glaze', 'hail')] Epoch 4/20 [Train]: 100%|██████████| 31/31 [00:03<00:00,  8.57it/s]\n",
      "[('glaze', 'hail')] Epoch 4/20 [Val]: 100%|██████████| 4/4 [00:00<00:00, 11.87it/s]\n"
     ]
    },
    {
     "name": "stdout",
     "output_type": "stream",
     "text": [
      "Epoch 4/20 | Train Acc: 0.864 | Val Acc: 0.795\n"
     ]
    },
    {
     "name": "stderr",
     "output_type": "stream",
     "text": [
      "[('glaze', 'hail')] Epoch 5/20 [Train]: 100%|██████████| 31/31 [00:03<00:00,  9.04it/s]\n",
      "[('glaze', 'hail')] Epoch 5/20 [Val]: 100%|██████████| 4/4 [00:00<00:00, 10.50it/s]\n"
     ]
    },
    {
     "name": "stdout",
     "output_type": "stream",
     "text": [
      "Epoch 5/20 | Train Acc: 0.898 | Val Acc: 0.861\n",
      "✅ Saved best model to ../../models/binary_models\\glaze_hail_BinaryWeatherClassifier_LowRes.pth (val_acc=0.861)\n"
     ]
    },
    {
     "name": "stderr",
     "output_type": "stream",
     "text": [
      "[('glaze', 'hail')] Epoch 6/20 [Train]: 100%|██████████| 31/31 [00:02<00:00, 10.76it/s]\n",
      "[('glaze', 'hail')] Epoch 6/20 [Val]: 100%|██████████| 4/4 [00:00<00:00, 11.30it/s]\n"
     ]
    },
    {
     "name": "stdout",
     "output_type": "stream",
     "text": [
      "Epoch 6/20 | Train Acc: 0.903 | Val Acc: 0.811\n"
     ]
    },
    {
     "name": "stderr",
     "output_type": "stream",
     "text": [
      "[('glaze', 'hail')] Epoch 7/20 [Train]: 100%|██████████| 31/31 [00:03<00:00,  9.36it/s]\n",
      "[('glaze', 'hail')] Epoch 7/20 [Val]: 100%|██████████| 4/4 [00:00<00:00,  9.32it/s]\n"
     ]
    },
    {
     "name": "stdout",
     "output_type": "stream",
     "text": [
      "Epoch 7/20 | Train Acc: 0.898 | Val Acc: 0.844\n"
     ]
    },
    {
     "name": "stderr",
     "output_type": "stream",
     "text": [
      "[('glaze', 'hail')] Epoch 8/20 [Train]: 100%|██████████| 31/31 [00:02<00:00, 10.55it/s]\n",
      "[('glaze', 'hail')] Epoch 8/20 [Val]: 100%|██████████| 4/4 [00:00<00:00, 12.01it/s]\n"
     ]
    },
    {
     "name": "stdout",
     "output_type": "stream",
     "text": [
      "Epoch 8/20 | Train Acc: 0.932 | Val Acc: 0.779\n"
     ]
    },
    {
     "name": "stderr",
     "output_type": "stream",
     "text": [
      "[('glaze', 'hail')] Epoch 9/20 [Train]: 100%|██████████| 31/31 [00:03<00:00,  9.36it/s]\n",
      "[('glaze', 'hail')] Epoch 9/20 [Val]: 100%|██████████| 4/4 [00:00<00:00, 12.50it/s]\n"
     ]
    },
    {
     "name": "stdout",
     "output_type": "stream",
     "text": [
      "Epoch 9/20 | Train Acc: 0.920 | Val Acc: 0.869\n",
      "✅ Saved best model to ../../models/binary_models\\glaze_hail_BinaryWeatherClassifier_LowRes.pth (val_acc=0.869)\n"
     ]
    },
    {
     "name": "stderr",
     "output_type": "stream",
     "text": [
      "[('glaze', 'hail')] Epoch 10/20 [Train]: 100%|██████████| 31/31 [00:03<00:00,  9.87it/s]\n",
      "[('glaze', 'hail')] Epoch 10/20 [Val]: 100%|██████████| 4/4 [00:00<00:00, 12.42it/s]\n"
     ]
    },
    {
     "name": "stdout",
     "output_type": "stream",
     "text": [
      "Epoch 10/20 | Train Acc: 0.933 | Val Acc: 0.828\n"
     ]
    },
    {
     "name": "stderr",
     "output_type": "stream",
     "text": [
      "[('glaze', 'hail')] Epoch 11/20 [Train]: 100%|██████████| 31/31 [00:03<00:00,  9.56it/s]\n",
      "[('glaze', 'hail')] Epoch 11/20 [Val]: 100%|██████████| 4/4 [00:00<00:00, 12.08it/s]\n"
     ]
    },
    {
     "name": "stdout",
     "output_type": "stream",
     "text": [
      "Epoch 11/20 | Train Acc: 0.954 | Val Acc: 0.713\n"
     ]
    },
    {
     "name": "stderr",
     "output_type": "stream",
     "text": [
      "[('glaze', 'hail')] Epoch 12/20 [Train]: 100%|██████████| 31/31 [00:03<00:00,  9.46it/s]\n",
      "[('glaze', 'hail')] Epoch 12/20 [Val]: 100%|██████████| 4/4 [00:00<00:00, 12.38it/s]\n"
     ]
    },
    {
     "name": "stdout",
     "output_type": "stream",
     "text": [
      "Epoch 12/20 | Train Acc: 0.948 | Val Acc: 0.672\n"
     ]
    },
    {
     "name": "stderr",
     "output_type": "stream",
     "text": [
      "[('glaze', 'hail')] Epoch 13/20 [Train]: 100%|██████████| 31/31 [00:03<00:00,  9.89it/s]\n",
      "[('glaze', 'hail')] Epoch 13/20 [Val]: 100%|██████████| 4/4 [00:00<00:00, 12.20it/s]\n"
     ]
    },
    {
     "name": "stdout",
     "output_type": "stream",
     "text": [
      "Epoch 13/20 | Train Acc: 0.945 | Val Acc: 0.902\n",
      "✅ Saved best model to ../../models/binary_models\\glaze_hail_BinaryWeatherClassifier_LowRes.pth (val_acc=0.902)\n"
     ]
    },
    {
     "name": "stderr",
     "output_type": "stream",
     "text": [
      "[('glaze', 'hail')] Epoch 14/20 [Train]: 100%|██████████| 31/31 [00:03<00:00,  9.29it/s]\n",
      "[('glaze', 'hail')] Epoch 14/20 [Val]: 100%|██████████| 4/4 [00:00<00:00, 12.66it/s]\n"
     ]
    },
    {
     "name": "stdout",
     "output_type": "stream",
     "text": [
      "Epoch 14/20 | Train Acc: 0.967 | Val Acc: 0.836\n"
     ]
    },
    {
     "name": "stderr",
     "output_type": "stream",
     "text": [
      "[('glaze', 'hail')] Epoch 15/20 [Train]: 100%|██████████| 31/31 [00:03<00:00,  9.86it/s]\n",
      "[('glaze', 'hail')] Epoch 15/20 [Val]: 100%|██████████| 4/4 [00:00<00:00, 12.27it/s]\n"
     ]
    },
    {
     "name": "stdout",
     "output_type": "stream",
     "text": [
      "Epoch 15/20 | Train Acc: 0.954 | Val Acc: 0.877\n"
     ]
    },
    {
     "name": "stderr",
     "output_type": "stream",
     "text": [
      "[('glaze', 'hail')] Epoch 16/20 [Train]: 100%|██████████| 31/31 [00:02<00:00, 10.48it/s]\n",
      "[('glaze', 'hail')] Epoch 16/20 [Val]: 100%|██████████| 4/4 [00:00<00:00, 12.42it/s]\n"
     ]
    },
    {
     "name": "stdout",
     "output_type": "stream",
     "text": [
      "Epoch 16/20 | Train Acc: 0.975 | Val Acc: 0.877\n"
     ]
    },
    {
     "name": "stderr",
     "output_type": "stream",
     "text": [
      "[('glaze', 'hail')] Epoch 17/20 [Train]: 100%|██████████| 31/31 [00:02<00:00, 10.40it/s]\n",
      "[('glaze', 'hail')] Epoch 17/20 [Val]: 100%|██████████| 4/4 [00:00<00:00, 10.42it/s]\n"
     ]
    },
    {
     "name": "stdout",
     "output_type": "stream",
     "text": [
      "Epoch 17/20 | Train Acc: 0.977 | Val Acc: 0.861\n"
     ]
    },
    {
     "name": "stderr",
     "output_type": "stream",
     "text": [
      "[('glaze', 'hail')] Epoch 18/20 [Train]: 100%|██████████| 31/31 [00:03<00:00,  9.93it/s]\n",
      "[('glaze', 'hail')] Epoch 18/20 [Val]: 100%|██████████| 4/4 [00:00<00:00, 12.31it/s]\n"
     ]
    },
    {
     "name": "stdout",
     "output_type": "stream",
     "text": [
      "Epoch 18/20 | Train Acc: 0.957 | Val Acc: 0.877\n"
     ]
    },
    {
     "name": "stderr",
     "output_type": "stream",
     "text": [
      "[('glaze', 'hail')] Epoch 19/20 [Train]: 100%|██████████| 31/31 [00:03<00:00,  9.66it/s]\n",
      "[('glaze', 'hail')] Epoch 19/20 [Val]: 100%|██████████| 4/4 [00:00<00:00, 12.16it/s]\n"
     ]
    },
    {
     "name": "stdout",
     "output_type": "stream",
     "text": [
      "Epoch 19/20 | Train Acc: 0.989 | Val Acc: 0.844\n"
     ]
    },
    {
     "name": "stderr",
     "output_type": "stream",
     "text": [
      "[('glaze', 'hail')] Epoch 20/20 [Train]: 100%|██████████| 31/31 [00:03<00:00, 10.12it/s]\n",
      "[('glaze', 'hail')] Epoch 20/20 [Val]: 100%|██████████| 4/4 [00:00<00:00, 10.39it/s]"
     ]
    },
    {
     "name": "stdout",
     "output_type": "stream",
     "text": [
      "Epoch 20/20 | Train Acc: 0.994 | Val Acc: 0.861\n"
     ]
    },
    {
     "name": "stderr",
     "output_type": "stream",
     "text": [
      "\n"
     ]
    }
   ],
   "source": [
    "confused_pairs = [\n",
    "    (\"frost\", \"glaze\"),\n",
    "    (\"rain\", \"lightning\"),\n",
    "    (\"snow\", \"rime\"),\n",
    "    (\"glaze\", \"hail\"),\n",
    "]\n",
    "\n",
    "train_dir = \"../../data/train\"\n",
    "val_dir = \"../../data/val\"\n",
    "save_dir = \"../../models/binary_models\"\n",
    "device = \"cuda\" if torch.cuda.is_available() else \"cpu\"\n",
    "\n",
    "for pair in confused_pairs:\n",
    "    print(f\"\\n============================\")\n",
    "    print(f\" Training pair: {pair}\")\n",
    "    print(f\"============================\")\n",
    "\n",
    "    # HighRes\n",
    "    train_binary_pair(BinaryWeatherClassifier_HighRes, pair,\n",
    "                      train_dir=train_dir,\n",
    "                      val_dir=val_dir,\n",
    "                      save_dir=save_dir,\n",
    "                      device=device, epochs=20)\n",
    "\n",
    "    # LowRes\n",
    "    train_binary_pair(BinaryWeatherClassifier_LowRes, pair,\n",
    "                      train_dir=train_dir,\n",
    "                      val_dir=val_dir,\n",
    "                      save_dir=save_dir,\n",
    "                      device=device, epochs=20)\n"
   ]
  },
  {
   "cell_type": "code",
   "execution_count": null,
   "id": "7c550716",
   "metadata": {},
   "outputs": [],
   "source": [
    "def evaluate_model_and_confusion(model, model_path, class_pair, dataset_root, device=\"cuda\", save_dir=None):\n",
    "    # Pick transform\n",
    "    if \"HighRes\" in model_path:\n",
    "        transform = transforms.Compose([transforms.Resize((224, 224)), transforms.ToTensor()]) #normalize\n",
    "    else:\n",
    "        transform = transforms.Compose([transforms.Resize((64, 64)), transforms.ToTensor()])#normalize\n",
    "\n",
    "    dataset = WeatherDataset(dataset_root, transform=transform)\n",
    "    subset, collate_fn = create_binary_dataset(dataset, class_pair)\n",
    "    loader = DataLoader(subset, batch_size=32, shuffle=False, collate_fn=collate_fn)\n",
    "\n",
    "    model.load_state_dict(torch.load(model_path, map_location=device))\n",
    "    model.to(device)\n",
    "    model.eval()\n",
    "\n",
    "    all_preds, all_labels = [], []\n",
    "    with torch.no_grad():\n",
    "        for imgs, labels in tqdm(loader, desc=f\"[{class_pair}] Confusion\"):\n",
    "            imgs = imgs.to(device)\n",
    "            outputs = model(imgs)\n",
    "            preds = outputs.argmax(1).cpu().numpy()\n",
    "            all_preds.extend(preds)\n",
    "            all_labels.extend(labels.numpy())\n",
    "\n",
    "    # ✅ Normalized confusion matrix\n",
    "    cm = confusion_matrix(all_labels, all_preds, labels=[0, 1], normalize=\"true\")\n",
    "    disp = ConfusionMatrixDisplay(confusion_matrix=cm, display_labels=list(class_pair))\n",
    "\n",
    "    plt.figure(figsize=(4, 4))\n",
    "    disp.plot(cmap=\"Blues\", values_format=\".2f\", ax=plt.gca(), colorbar=True)\n",
    "    plt.title(f\"Normalized Confusion Matrix\\n{class_pair} | {os.path.basename(model_path)}\")\n",
    "\n",
    "    if save_dir:\n",
    "        os.makedirs(save_dir, exist_ok=True)\n",
    "        out_path = os.path.join(save_dir, f\"{class_pair[0]}_{class_pair[1]}_{os.path.basename(model_path)}.png\")\n",
    "        plt.savefig(out_path, bbox_inches=\"tight\")\n",
    "        print(f\"📊 Saved normalized confusion matrix to: {out_path}\")\n",
    "\n",
    "    plt.show()\n",
    "\n"
   ]
  },
  {
   "cell_type": "code",
   "execution_count": 22,
   "id": "1d01f398",
   "metadata": {},
   "outputs": [
    {
     "name": "stderr",
     "output_type": "stream",
     "text": [
      "[('frost', 'glaze')] Confusion: 100%|██████████| 4/4 [00:00<00:00,  4.01it/s]\n"
     ]
    },
    {
     "name": "stdout",
     "output_type": "stream",
     "text": [
      "📊 Saved normalized confusion matrix to: ../../reports/confusion_matrices_binary\\frost_glaze_frost_glaze_BinaryWeatherClassifier_HighRes.pth.png\n"
     ]
    },
    {
     "data": {
      "image/png": "[encoded data removed]",
      "text/plain": [
       "<Figure size 400x400 with 2 Axes>"
      ]
     },
     "metadata": {},
     "output_type": "display_data"
    },
    {
     "name": "stderr",
     "output_type": "stream",
     "text": [
      "[('frost', 'glaze')] Confusion: 100%|██████████| 4/4 [00:00<00:00,  8.73it/s]\n"
     ]
    },
    {
     "name": "stdout",
     "output_type": "stream",
     "text": [
      "📊 Saved normalized confusion matrix to: ../../reports/confusion_matrices_binary\\frost_glaze_frost_glaze_BinaryWeatherClassifier_LowRes.pth.png\n"
     ]
    },
    {
     "data": {
      "image/png": "[encoded data removed]",
      "text/plain": [
       "<Figure size 400x400 with 2 Axes>"
      ]
     },
     "metadata": {},
     "output_type": "display_data"
    },
    {
     "name": "stderr",
     "output_type": "stream",
     "text": [
      "[('glaze', 'hail')] Confusion: 100%|██████████| 4/4 [00:00<00:00,  4.37it/s]\n"
     ]
    },
    {
     "name": "stdout",
     "output_type": "stream",
     "text": [
      "📊 Saved normalized confusion matrix to: ../../reports/confusion_matrices_binary\\glaze_hail_glaze_hail_BinaryWeatherClassifier_HighRes.pth.png\n"
     ]
    },
    {
     "data": {
      "image/png": "[encoded data removed]",
      "text/plain": [
       "<Figure size 400x400 with 2 Axes>"
      ]
     },
     "metadata": {},
     "output_type": "display_data"
    },
    {
     "name": "stderr",
     "output_type": "stream",
     "text": [
      "[('glaze', 'hail')] Confusion: 100%|██████████| 4/4 [00:00<00:00, 12.21it/s]\n"
     ]
    },
    {
     "name": "stdout",
     "output_type": "stream",
     "text": [
      "📊 Saved normalized confusion matrix to: ../../reports/confusion_matrices_binary\\glaze_hail_glaze_hail_BinaryWeatherClassifier_LowRes.pth.png\n"
     ]
    },
    {
     "data": {
      "image/png": "[encoded data removed]",
      "text/plain": [
       "<Figure size 400x400 with 2 Axes>"
      ]
     },
     "metadata": {},
     "output_type": "display_data"
    },
    {
     "name": "stderr",
     "output_type": "stream",
     "text": [
      "[('rain', 'lightning')] Confusion: 100%|██████████| 3/3 [00:00<00:00,  5.17it/s]\n"
     ]
    },
    {
     "name": "stdout",
     "output_type": "stream",
     "text": [
      "📊 Saved normalized confusion matrix to: ../../reports/confusion_matrices_binary\\rain_lightning_rain_lightning_BinaryWeatherClassifier_HighRes.pth.png\n"
     ]
    },
    {
     "data": {
      "image/png": "[encoded data removed]",
      "text/plain": [
       "<Figure size 400x400 with 2 Axes>"
      ]
     },
     "metadata": {},
     "output_type": "display_data"
    },
    {
     "name": "stderr",
     "output_type": "stream",
     "text": [
      "[('rain', 'lightning')] Confusion: 100%|██████████| 3/3 [00:00<00:00, 12.88it/s]\n"
     ]
    },
    {
     "name": "stdout",
     "output_type": "stream",
     "text": [
      "📊 Saved normalized confusion matrix to: ../../reports/confusion_matrices_binary\\rain_lightning_rain_lightning_BinaryWeatherClassifier_LowRes.pth.png\n"
     ]
    },
    {
     "data": {
      "image/png": "[encoded data removed]",
      "text/plain": [
       "<Figure size 400x400 with 2 Axes>"
      ]
     },
     "metadata": {},
     "output_type": "display_data"
    },
    {
     "name": "stderr",
     "output_type": "stream",
     "text": [
      "[('snow', 'rime')] Confusion: 100%|██████████| 6/6 [00:01<00:00,  3.89it/s]\n"
     ]
    },
    {
     "name": "stdout",
     "output_type": "stream",
     "text": [
      "📊 Saved normalized confusion matrix to: ../../reports/confusion_matrices_binary\\snow_rime_snow_rime_BinaryWeatherClassifier_HighRes.pth.png\n"
     ]
    },
    {
     "data": {
      "image/png": "[encoded data removed]",
      "text/plain": [
       "<Figure size 400x400 with 2 Axes>"
      ]
     },
     "metadata": {},
     "output_type": "display_data"
    },
    {
     "name": "stderr",
     "output_type": "stream",
     "text": [
      "[('snow', 'rime')] Confusion: 100%|██████████| 6/6 [00:00<00:00,  7.83it/s]\n"
     ]
    },
    {
     "name": "stdout",
     "output_type": "stream",
     "text": [
      "📊 Saved normalized confusion matrix to: ../../reports/confusion_matrices_binary\\snow_rime_snow_rime_BinaryWeatherClassifier_LowRes.pth.png\n"
     ]
    },
    {
     "data": {
      "image/png": "[encoded data removed]",
      "text/plain": [
       "<Figure size 400x400 with 2 Axes>"
      ]
     },
     "metadata": {},
     "output_type": "display_data"
    }
   ],
   "source": [
    "models_dir = \"../../models/binary_models\"\n",
    "val_dir = \"../../data/val\"\n",
    "device = \"cuda\" if torch.cuda.is_available() else \"cpu\"\n",
    "confusion_out = \"../../reports/confusion_matrices_binary\"\n",
    "\n",
    "# Extract class pair and model name from file name\n",
    "pattern = re.compile(r\"([a-zA-Z]+)_([a-zA-Z]+)_(BinaryWeatherClassifier_[a-zA-Z]+)\\.pth\")\n",
    "\n",
    "for fname in os.listdir(models_dir):\n",
    "    match = pattern.match(fname)\n",
    "    if not match:\n",
    "        continue\n",
    "\n",
    "    cls1, cls2, model_type = match.groups()\n",
    "    class_pair = (cls1, cls2)\n",
    "    model_path = os.path.join(models_dir, fname)\n",
    "\n",
    "    # Create model instance\n",
    "    if \"HighRes\" in model_type:\n",
    "        model = BinaryWeatherClassifier_HighRes(class_pair=class_pair)\n",
    "    else:\n",
    "        model = BinaryWeatherClassifier_LowRes(class_pair=class_pair)\n",
    "\n",
    "    evaluate_model_and_confusion(model, model_path, class_pair, val_dir, device=device, save_dir=confusion_out)\n"
   ]
  }
 ],
 "metadata": {
  "kernelspec": {
   "display_name": "py311ml",
   "language": "python",
   "name": "python3"
  },
  "language_info": {
   "codemirror_mode": {
    "name": "ipython",
    "version": 3
   },
   "file_extension": ".py",
   "mimetype": "text/x-python",
   "name": "python",
   "nbconvert_exporter": "python",
   "pygments_lexer": "ipython3",
   "version": "3.11.13"
  }
 },
 "nbformat": 4,
 "nbformat_minor": 5
}
