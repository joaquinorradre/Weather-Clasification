{
 "cells": [
  {
   "cell_type": "code",
   "execution_count": 15,
   "id": "4b21d2ea",
   "metadata": {},
   "outputs": [],
   "source": [
    "import sys\n",
    "import os\n",
    "\n",
    "# Add the root folder of your project\n",
    "root_path = os.path.abspath(os.path.join(\"..\", \"..\"))  # two levels up from experiments\n",
    "sys.path.append(root_path)\n",
    "import os\n",
    "import torch\n",
    "import torch.nn as nn\n",
    "import torch.optim as optim\n",
    "from torch.utils.data import Dataset, DataLoader, Subset\n",
    "from torchvision import transforms\n",
    "from PIL import Image\n",
    "from tqdm import tqdm\n",
    "import matplotlib.pyplot as plt\n",
    "from sklearn.metrics import confusion_matrix, ConfusionMatrixDisplay\n",
    "import re\n",
    "\n",
    "\n",
    "from weather_classification.weather_dataset import WeatherDataset\n",
    "from weather_classification.train import train_model\n",
    "from weather_classification.modeling.binary_classifier import BinaryWeatherClassifier_HighRes, BinaryWeatherClassifier_LowRes\n",
    "from weather_classification.seed_utils import set_seed\n",
    "set_seed(1234)\n"
   ]
  },
  {
   "cell_type": "code",
   "execution_count": 16,
   "id": "ca270b44",
   "metadata": {},
   "outputs": [],
   "source": [
    "# For high-resolution pairs (e.g., frost vs glaze)\n",
    "highres_transform = transforms.Compose([\n",
    "    transforms.Resize((224, 224)),\n",
    "    transforms.ToTensor(),\n",
    "    ## Meter normalization?\n",
    "])\n",
    "\n",
    "# For low-resolution pairs (e.g., rain vs lightning, etc.)\n",
    "lowres_transform = transforms.Compose([\n",
    "    transforms.Resize((64, 64)),\n",
    "    transforms.ToTensor(),\n",
    "])"
   ]
  },
  {
   "cell_type": "code",
   "execution_count": 17,
   "id": "bbf59c70",
   "metadata": {},
   "outputs": [],
   "source": [
    "def create_binary_dataset(dataset, class_pair):\n",
    "    idx1 = dataset.class_to_idx[class_pair[0]]\n",
    "    idx2 = dataset.class_to_idx[class_pair[1]]\n",
    "\n",
    "    indices = [i for i, (_, lbl) in enumerate(dataset.samples) if lbl in (idx1, idx2)]\n",
    "    idx_map = {idx1: 0, idx2: 1}\n",
    "\n",
    "    def remap_collate(batch):\n",
    "        imgs, labels = zip(*batch)\n",
    "        imgs = torch.stack(imgs)\n",
    "        labels = torch.tensor([idx_map[l.item() if torch.is_tensor(l) else l] for l in labels])\n",
    "        return imgs, labels\n",
    "\n",
    "    subset = Subset(dataset, indices)\n",
    "    return subset, remap_collate\n"
   ]
  },
  {
   "cell_type": "code",
   "execution_count": 18,
   "id": "9eb20707",
   "metadata": {},
   "outputs": [],
   "source": [
    "def compute_mean_std_for_pair_from_path(dataset_path, class_pair, resize=(224, 224), sample_limit=None):\n",
    "    transform = transforms.Compose([\n",
    "        transforms.Resize(resize),\n",
    "        transforms.ToTensor()\n",
    "    ])\n",
    "    \n",
    "    imgs = []\n",
    "    for cls_name in class_pair:\n",
    "        cls_path = os.path.join(dataset_path, cls_name)\n",
    "        files = [f for f in os.listdir(cls_path) if f.lower().endswith(('.jpg', '.jpeg', '.png'))]\n",
    "        \n",
    "        if sample_limit:\n",
    "            files = files[:sample_limit]\n",
    "        \n",
    "        for fname in files:\n",
    "            img_path = os.path.join(cls_path, fname)\n",
    "            try:\n",
    "                img = Image.open(img_path).convert(\"RGB\")\n",
    "                imgs.append(transform(img))\n",
    "            except Exception as e:\n",
    "                print(f\"⚠️ Skipping {img_path}: {e}\")\n",
    "    \n",
    "    if not imgs:\n",
    "        raise ValueError(f\"No images found for classes: {class_pair}\")\n",
    "\n",
    "    tensors = torch.stack(imgs)\n",
    "    mean = tensors.mean(dim=[0, 2, 3])\n",
    "    std = tensors.std(dim=[0, 2, 3])\n",
    "    \n",
    "    print(f\"✅ Mean for {class_pair}: {mean.tolist()}\")\n",
    "    print(f\"✅ Std for {class_pair}: {std.tolist()}\")\n",
    "    \n",
    "    return mean, std\n"
   ]
  },
  {
   "cell_type": "code",
   "execution_count": 19,
   "id": "cd662d94",
   "metadata": {},
   "outputs": [],
   "source": [
    "def train_binary_pair(model_class, class_pair, train_dir, val_dir, save_dir,\n",
    "                      device=\"cuda\", epochs=20, lr=1e-3):\n",
    "    os.makedirs(save_dir, exist_ok=True)\n",
    "    if model_class.__name__.endswith(\"HighRes\"):\n",
    "        mean, std = compute_mean_std_for_pair_from_path(train_dir, class_pair, resize=(224, 224))\n",
    "        transform = transforms.Compose([\n",
    "            transforms.Resize((224, 224)),\n",
    "            transforms.ToTensor(),\n",
    "            transforms.Normalize(mean.tolist(), std.tolist())\n",
    "        ])\n",
    "    else:\n",
    "        mean, std = compute_mean_std_for_pair_from_path(train_dir, class_pair, resize=(64, 64))\n",
    "        transform = transforms.Compose([\n",
    "            transforms.Resize((64, 64)),\n",
    "            transforms.ToTensor(),\n",
    "            transforms.Normalize(mean.tolist(), std.tolist())\n",
    "        ])\n",
    "\n",
    "    # Load datasets\n",
    "    train_dataset = WeatherDataset(train_dir, transform=transform)\n",
    "    val_dataset = WeatherDataset(val_dir, transform=transform)\n",
    "\n",
    "    # Filter to pair\n",
    "    train_subset, train_collate = create_binary_dataset(train_dataset, class_pair)\n",
    "    val_subset, val_collate = create_binary_dataset(val_dataset, class_pair)\n",
    "\n",
    "    train_loader = DataLoader(train_subset, batch_size=32, shuffle=True, collate_fn=train_collate)\n",
    "    val_loader = DataLoader(val_subset, batch_size=32, shuffle=False, collate_fn=val_collate)\n",
    "\n",
    "    # Initialize model\n",
    "    model = model_class(class_pair=class_pair).to(device)\n",
    "    criterion = nn.CrossEntropyLoss()\n",
    "    optimizer = optim.Adam(model.parameters(), lr=lr, weight_decay=1e-5)\n",
    "\n",
    "    best_val_acc = 0.0\n",
    "    for epoch in range(epochs):\n",
    "        model.train()\n",
    "        running_loss, running_corrects = 0.0, 0\n",
    "\n",
    "        for imgs, labels in tqdm(train_loader, desc=f\"[{class_pair}] Epoch {epoch+1}/{epochs} [Train]\"):\n",
    "            imgs, labels = imgs.to(device), labels.to(device)\n",
    "            optimizer.zero_grad()\n",
    "            outputs = model(imgs)\n",
    "            loss = criterion(outputs, labels)\n",
    "            loss.backward()\n",
    "            optimizer.step()\n",
    "\n",
    "            preds = outputs.argmax(1)\n",
    "            running_loss += loss.item() * imgs.size(0)\n",
    "            running_corrects += (preds == labels).sum().item()\n",
    "\n",
    "        train_loss = running_loss / len(train_subset)\n",
    "        train_acc = running_corrects / len(train_subset)\n",
    "\n",
    "        # Validation\n",
    "        model.eval()\n",
    "        val_loss, val_corrects = 0.0, 0\n",
    "        with torch.no_grad():\n",
    "            for imgs, labels in tqdm(val_loader, desc=f\"[{class_pair}] Epoch {epoch+1}/{epochs} [Val]\"):\n",
    "                imgs, labels = imgs.to(device), labels.to(device)\n",
    "                outputs = model(imgs)\n",
    "                loss = criterion(outputs, labels)\n",
    "                preds = outputs.argmax(1)\n",
    "                val_loss += loss.item() * imgs.size(0)\n",
    "                val_corrects += (preds == labels).sum().item()\n",
    "\n",
    "        val_loss /= len(val_subset)\n",
    "        val_acc = val_corrects / len(val_subset)\n",
    "\n",
    "        print(f\"Epoch {epoch+1}/{epochs} | Train Acc: {train_acc:.3f} | Val Acc: {val_acc:.3f}\")\n",
    "\n",
    "        if val_acc > best_val_acc:\n",
    "            best_val_acc = val_acc\n",
    "            model_path = os.path.join(save_dir, f\"{class_pair[0]}_{class_pair[1]}_{model_class.__name__}.pth\")\n",
    "            torch.save(model.state_dict(), model_path)\n",
    "            print(f\"✅ Saved best model to {model_path} (val_acc={val_acc:.3f})\")\n",
    "\n",
    "    return model\n"
   ]
  },
  {
   "cell_type": "code",
   "execution_count": 20,
   "id": "8890ddd0",
   "metadata": {},
   "outputs": [
    {
     "name": "stdout",
     "output_type": "stream",
     "text": [
      "\n",
      "============================\n",
      " Training pair: ('frost', 'glaze')\n",
      "============================\n",
      "✅ Mean for ('frost', 'glaze'): [0.4880663752555847, 0.48595744371414185, 0.4665493965148926]\n",
      "✅ Std for ('frost', 'glaze'): [0.24738487601280212, 0.2448633313179016, 0.26694002747535706]\n"
     ]
    },
    {
     "name": "stderr",
     "output_type": "stream",
     "text": [
      "[('frost', 'glaze')] Epoch 1/20 [Train]: 100%|██████████| 28/28 [00:08<00:00,  3.37it/s]\n",
      "[('frost', 'glaze')] Epoch 1/20 [Val]: 100%|██████████| 4/4 [00:01<00:00,  2.55it/s]\n"
     ]
    },
    {
     "name": "stdout",
     "output_type": "stream",
     "text": [
      "Epoch 1/20 | Train Acc: 0.572 | Val Acc: 0.573\n",
      "✅ Saved best model to ../../models/binary_models\\frost_glaze_BinaryWeatherClassifier_HighRes.pth (val_acc=0.573)\n"
     ]
    },
    {
     "name": "stderr",
     "output_type": "stream",
     "text": [
      "[('frost', 'glaze')] Epoch 2/20 [Train]: 100%|██████████| 28/28 [00:07<00:00,  3.71it/s]\n",
      "[('frost', 'glaze')] Epoch 2/20 [Val]: 100%|██████████| 4/4 [00:00<00:00,  6.46it/s]\n"
     ]
    },
    {
     "name": "stdout",
     "output_type": "stream",
     "text": [
      "Epoch 2/20 | Train Acc: 0.561 | Val Acc: 0.573\n"
     ]
    },
    {
     "name": "stderr",
     "output_type": "stream",
     "text": [
      "[('frost', 'glaze')] Epoch 3/20 [Train]: 100%|██████████| 28/28 [00:07<00:00,  3.76it/s]\n",
      "[('frost', 'glaze')] Epoch 3/20 [Val]: 100%|██████████| 4/4 [00:00<00:00,  6.36it/s]\n"
     ]
    },
    {
     "name": "stdout",
     "output_type": "stream",
     "text": [
      "Epoch 3/20 | Train Acc: 0.574 | Val Acc: 0.573\n"
     ]
    },
    {
     "name": "stderr",
     "output_type": "stream",
     "text": [
      "[('frost', 'glaze')] Epoch 4/20 [Train]: 100%|██████████| 28/28 [00:07<00:00,  3.72it/s]\n",
      "[('frost', 'glaze')] Epoch 4/20 [Val]: 100%|██████████| 4/4 [00:00<00:00,  6.59it/s]\n"
     ]
    },
    {
     "name": "stdout",
     "output_type": "stream",
     "text": [
      "Epoch 4/20 | Train Acc: 0.572 | Val Acc: 0.573\n"
     ]
    },
    {
     "name": "stderr",
     "output_type": "stream",
     "text": [
      "[('frost', 'glaze')] Epoch 5/20 [Train]: 100%|██████████| 28/28 [00:07<00:00,  3.63it/s]\n",
      "[('frost', 'glaze')] Epoch 5/20 [Val]: 100%|██████████| 4/4 [00:00<00:00,  5.38it/s]\n"
     ]
    },
    {
     "name": "stdout",
     "output_type": "stream",
     "text": [
      "Epoch 5/20 | Train Acc: 0.591 | Val Acc: 0.582\n",
      "✅ Saved best model to ../../models/binary_models\\frost_glaze_BinaryWeatherClassifier_HighRes.pth (val_acc=0.582)\n"
     ]
    },
    {
     "name": "stderr",
     "output_type": "stream",
     "text": [
      "[('frost', 'glaze')] Epoch 6/20 [Train]: 100%|██████████| 28/28 [00:08<00:00,  3.15it/s]\n",
      "[('frost', 'glaze')] Epoch 6/20 [Val]: 100%|██████████| 4/4 [00:00<00:00,  5.53it/s]\n"
     ]
    },
    {
     "name": "stdout",
     "output_type": "stream",
     "text": [
      "Epoch 6/20 | Train Acc: 0.630 | Val Acc: 0.700\n",
      "✅ Saved best model to ../../models/binary_models\\frost_glaze_BinaryWeatherClassifier_HighRes.pth (val_acc=0.700)\n"
     ]
    },
    {
     "name": "stderr",
     "output_type": "stream",
     "text": [
      "[('frost', 'glaze')] Epoch 7/20 [Train]: 100%|██████████| 28/28 [00:07<00:00,  3.61it/s]\n",
      "[('frost', 'glaze')] Epoch 7/20 [Val]: 100%|██████████| 4/4 [00:00<00:00,  6.41it/s]\n"
     ]
    },
    {
     "name": "stdout",
     "output_type": "stream",
     "text": [
      "Epoch 7/20 | Train Acc: 0.670 | Val Acc: 0.700\n"
     ]
    },
    {
     "name": "stderr",
     "output_type": "stream",
     "text": [
      "[('frost', 'glaze')] Epoch 8/20 [Train]: 100%|██████████| 28/28 [00:07<00:00,  3.70it/s]\n",
      "[('frost', 'glaze')] Epoch 8/20 [Val]: 100%|██████████| 4/4 [00:00<00:00,  6.34it/s]\n"
     ]
    },
    {
     "name": "stdout",
     "output_type": "stream",
     "text": [
      "Epoch 8/20 | Train Acc: 0.641 | Val Acc: 0.591\n"
     ]
    },
    {
     "name": "stderr",
     "output_type": "stream",
     "text": [
      "[('frost', 'glaze')] Epoch 9/20 [Train]: 100%|██████████| 28/28 [00:08<00:00,  3.24it/s]\n",
      "[('frost', 'glaze')] Epoch 9/20 [Val]: 100%|██████████| 4/4 [00:00<00:00,  4.54it/s]\n"
     ]
    },
    {
     "name": "stdout",
     "output_type": "stream",
     "text": [
      "Epoch 9/20 | Train Acc: 0.661 | Val Acc: 0.618\n"
     ]
    },
    {
     "name": "stderr",
     "output_type": "stream",
     "text": [
      "[('frost', 'glaze')] Epoch 10/20 [Train]: 100%|██████████| 28/28 [00:07<00:00,  3.56it/s]\n",
      "[('frost', 'glaze')] Epoch 10/20 [Val]: 100%|██████████| 4/4 [00:00<00:00,  6.25it/s]\n"
     ]
    },
    {
     "name": "stdout",
     "output_type": "stream",
     "text": [
      "Epoch 10/20 | Train Acc: 0.689 | Val Acc: 0.745\n",
      "✅ Saved best model to ../../models/binary_models\\frost_glaze_BinaryWeatherClassifier_HighRes.pth (val_acc=0.745)\n"
     ]
    },
    {
     "name": "stderr",
     "output_type": "stream",
     "text": [
      "[('frost', 'glaze')] Epoch 11/20 [Train]: 100%|██████████| 28/28 [00:07<00:00,  3.69it/s]\n",
      "[('frost', 'glaze')] Epoch 11/20 [Val]: 100%|██████████| 4/4 [00:00<00:00,  6.13it/s]\n"
     ]
    },
    {
     "name": "stdout",
     "output_type": "stream",
     "text": [
      "Epoch 11/20 | Train Acc: 0.699 | Val Acc: 0.745\n"
     ]
    },
    {
     "name": "stderr",
     "output_type": "stream",
     "text": [
      "[('frost', 'glaze')] Epoch 12/20 [Train]: 100%|██████████| 28/28 [00:09<00:00,  3.04it/s]\n",
      "[('frost', 'glaze')] Epoch 12/20 [Val]: 100%|██████████| 4/4 [00:00<00:00,  5.59it/s]\n"
     ]
    },
    {
     "name": "stdout",
     "output_type": "stream",
     "text": [
      "Epoch 12/20 | Train Acc: 0.584 | Val Acc: 0.591\n"
     ]
    },
    {
     "name": "stderr",
     "output_type": "stream",
     "text": [
      "[('frost', 'glaze')] Epoch 13/20 [Train]: 100%|██████████| 28/28 [00:07<00:00,  3.61it/s]\n",
      "[('frost', 'glaze')] Epoch 13/20 [Val]: 100%|██████████| 4/4 [00:00<00:00,  6.23it/s]\n"
     ]
    },
    {
     "name": "stdout",
     "output_type": "stream",
     "text": [
      "Epoch 13/20 | Train Acc: 0.645 | Val Acc: 0.591\n"
     ]
    },
    {
     "name": "stderr",
     "output_type": "stream",
     "text": [
      "[('frost', 'glaze')] Epoch 14/20 [Train]: 100%|██████████| 28/28 [00:08<00:00,  3.45it/s]\n",
      "[('frost', 'glaze')] Epoch 14/20 [Val]: 100%|██████████| 4/4 [00:00<00:00,  4.66it/s]\n"
     ]
    },
    {
     "name": "stdout",
     "output_type": "stream",
     "text": [
      "Epoch 14/20 | Train Acc: 0.695 | Val Acc: 0.736\n"
     ]
    },
    {
     "name": "stderr",
     "output_type": "stream",
     "text": [
      "[('frost', 'glaze')] Epoch 15/20 [Train]: 100%|██████████| 28/28 [00:09<00:00,  2.98it/s]\n",
      "[('frost', 'glaze')] Epoch 15/20 [Val]: 100%|██████████| 4/4 [00:00<00:00,  6.10it/s]\n"
     ]
    },
    {
     "name": "stdout",
     "output_type": "stream",
     "text": [
      "Epoch 15/20 | Train Acc: 0.733 | Val Acc: 0.709\n"
     ]
    },
    {
     "name": "stderr",
     "output_type": "stream",
     "text": [
      "[('frost', 'glaze')] Epoch 16/20 [Train]: 100%|██████████| 28/28 [00:07<00:00,  3.58it/s]\n",
      "[('frost', 'glaze')] Epoch 16/20 [Val]: 100%|██████████| 4/4 [00:00<00:00,  6.41it/s]\n"
     ]
    },
    {
     "name": "stdout",
     "output_type": "stream",
     "text": [
      "Epoch 16/20 | Train Acc: 0.704 | Val Acc: 0.682\n"
     ]
    },
    {
     "name": "stderr",
     "output_type": "stream",
     "text": [
      "[('frost', 'glaze')] Epoch 17/20 [Train]: 100%|██████████| 28/28 [00:08<00:00,  3.23it/s]\n",
      "[('frost', 'glaze')] Epoch 17/20 [Val]: 100%|██████████| 4/4 [00:00<00:00,  4.61it/s]\n"
     ]
    },
    {
     "name": "stdout",
     "output_type": "stream",
     "text": [
      "Epoch 17/20 | Train Acc: 0.713 | Val Acc: 0.727\n"
     ]
    },
    {
     "name": "stderr",
     "output_type": "stream",
     "text": [
      "[('frost', 'glaze')] Epoch 18/20 [Train]: 100%|██████████| 28/28 [00:07<00:00,  3.51it/s]\n",
      "[('frost', 'glaze')] Epoch 18/20 [Val]: 100%|██████████| 4/4 [00:00<00:00,  6.31it/s]\n"
     ]
    },
    {
     "name": "stdout",
     "output_type": "stream",
     "text": [
      "Epoch 18/20 | Train Acc: 0.732 | Val Acc: 0.718\n"
     ]
    },
    {
     "name": "stderr",
     "output_type": "stream",
     "text": [
      "[('frost', 'glaze')] Epoch 19/20 [Train]: 100%|██████████| 28/28 [00:07<00:00,  3.70it/s]\n",
      "[('frost', 'glaze')] Epoch 19/20 [Val]: 100%|██████████| 4/4 [00:00<00:00,  6.13it/s]\n"
     ]
    },
    {
     "name": "stdout",
     "output_type": "stream",
     "text": [
      "Epoch 19/20 | Train Acc: 0.747 | Val Acc: 0.700\n"
     ]
    },
    {
     "name": "stderr",
     "output_type": "stream",
     "text": [
      "[('frost', 'glaze')] Epoch 20/20 [Train]: 100%|██████████| 28/28 [00:09<00:00,  3.05it/s]\n",
      "[('frost', 'glaze')] Epoch 20/20 [Val]: 100%|██████████| 4/4 [00:00<00:00,  5.40it/s]\n"
     ]
    },
    {
     "name": "stdout",
     "output_type": "stream",
     "text": [
      "Epoch 20/20 | Train Acc: 0.759 | Val Acc: 0.691\n",
      "✅ Mean for ('frost', 'glaze'): [0.4880673587322235, 0.4859602153301239, 0.466549277305603]\n",
      "✅ Std for ('frost', 'glaze'): [0.22949405014514923, 0.2260650247335434, 0.24751560389995575]\n"
     ]
    },
    {
     "name": "stderr",
     "output_type": "stream",
     "text": [
      "[('frost', 'glaze')] Epoch 1/20 [Train]: 100%|██████████| 28/28 [00:04<00:00,  5.71it/s]\n",
      "[('frost', 'glaze')] Epoch 1/20 [Val]: 100%|██████████| 4/4 [00:00<00:00,  8.24it/s]\n"
     ]
    },
    {
     "name": "stdout",
     "output_type": "stream",
     "text": [
      "Epoch 1/20 | Train Acc: 0.598 | Val Acc: 0.636\n",
      "✅ Saved best model to ../../models/binary_models\\frost_glaze_BinaryWeatherClassifier_LowRes.pth (val_acc=0.636)\n"
     ]
    },
    {
     "name": "stderr",
     "output_type": "stream",
     "text": [
      "[('frost', 'glaze')] Epoch 2/20 [Train]: 100%|██████████| 28/28 [00:04<00:00,  5.73it/s]\n",
      "[('frost', 'glaze')] Epoch 2/20 [Val]: 100%|██████████| 4/4 [00:00<00:00,  9.61it/s]\n"
     ]
    },
    {
     "name": "stdout",
     "output_type": "stream",
     "text": [
      "Epoch 2/20 | Train Acc: 0.675 | Val Acc: 0.627\n"
     ]
    },
    {
     "name": "stderr",
     "output_type": "stream",
     "text": [
      "[('frost', 'glaze')] Epoch 3/20 [Train]: 100%|██████████| 28/28 [00:04<00:00,  6.07it/s]\n",
      "[('frost', 'glaze')] Epoch 3/20 [Val]: 100%|██████████| 4/4 [00:00<00:00,  9.60it/s]\n"
     ]
    },
    {
     "name": "stdout",
     "output_type": "stream",
     "text": [
      "Epoch 3/20 | Train Acc: 0.709 | Val Acc: 0.682\n",
      "✅ Saved best model to ../../models/binary_models\\frost_glaze_BinaryWeatherClassifier_LowRes.pth (val_acc=0.682)\n"
     ]
    },
    {
     "name": "stderr",
     "output_type": "stream",
     "text": [
      "[('frost', 'glaze')] Epoch 4/20 [Train]: 100%|██████████| 28/28 [00:04<00:00,  6.11it/s]\n",
      "[('frost', 'glaze')] Epoch 4/20 [Val]: 100%|██████████| 4/4 [00:00<00:00,  9.59it/s]\n"
     ]
    },
    {
     "name": "stdout",
     "output_type": "stream",
     "text": [
      "Epoch 4/20 | Train Acc: 0.713 | Val Acc: 0.727\n",
      "✅ Saved best model to ../../models/binary_models\\frost_glaze_BinaryWeatherClassifier_LowRes.pth (val_acc=0.727)\n"
     ]
    },
    {
     "name": "stderr",
     "output_type": "stream",
     "text": [
      "[('frost', 'glaze')] Epoch 5/20 [Train]: 100%|██████████| 28/28 [00:04<00:00,  6.15it/s]\n",
      "[('frost', 'glaze')] Epoch 5/20 [Val]: 100%|██████████| 4/4 [00:00<00:00,  9.43it/s]\n"
     ]
    },
    {
     "name": "stdout",
     "output_type": "stream",
     "text": [
      "Epoch 5/20 | Train Acc: 0.713 | Val Acc: 0.755\n",
      "✅ Saved best model to ../../models/binary_models\\frost_glaze_BinaryWeatherClassifier_LowRes.pth (val_acc=0.755)\n"
     ]
    },
    {
     "name": "stderr",
     "output_type": "stream",
     "text": [
      "[('frost', 'glaze')] Epoch 6/20 [Train]: 100%|██████████| 28/28 [00:04<00:00,  6.07it/s]\n",
      "[('frost', 'glaze')] Epoch 6/20 [Val]: 100%|██████████| 4/4 [00:00<00:00,  9.56it/s]\n"
     ]
    },
    {
     "name": "stdout",
     "output_type": "stream",
     "text": [
      "Epoch 6/20 | Train Acc: 0.743 | Val Acc: 0.709\n"
     ]
    },
    {
     "name": "stderr",
     "output_type": "stream",
     "text": [
      "[('frost', 'glaze')] Epoch 7/20 [Train]: 100%|██████████| 28/28 [00:04<00:00,  6.14it/s]\n",
      "[('frost', 'glaze')] Epoch 7/20 [Val]: 100%|██████████| 4/4 [00:00<00:00,  9.52it/s]\n"
     ]
    },
    {
     "name": "stdout",
     "output_type": "stream",
     "text": [
      "Epoch 7/20 | Train Acc: 0.762 | Val Acc: 0.700\n"
     ]
    },
    {
     "name": "stderr",
     "output_type": "stream",
     "text": [
      "[('frost', 'glaze')] Epoch 8/20 [Train]: 100%|██████████| 28/28 [00:04<00:00,  6.14it/s]\n",
      "[('frost', 'glaze')] Epoch 8/20 [Val]: 100%|██████████| 4/4 [00:00<00:00,  9.06it/s]\n"
     ]
    },
    {
     "name": "stdout",
     "output_type": "stream",
     "text": [
      "Epoch 8/20 | Train Acc: 0.778 | Val Acc: 0.609\n"
     ]
    },
    {
     "name": "stderr",
     "output_type": "stream",
     "text": [
      "[('frost', 'glaze')] Epoch 9/20 [Train]: 100%|██████████| 28/28 [00:04<00:00,  5.97it/s]\n",
      "[('frost', 'glaze')] Epoch 9/20 [Val]: 100%|██████████| 4/4 [00:00<00:00,  9.47it/s]\n"
     ]
    },
    {
     "name": "stdout",
     "output_type": "stream",
     "text": [
      "Epoch 9/20 | Train Acc: 0.809 | Val Acc: 0.736\n"
     ]
    },
    {
     "name": "stderr",
     "output_type": "stream",
     "text": [
      "[('frost', 'glaze')] Epoch 10/20 [Train]: 100%|██████████| 28/28 [00:04<00:00,  5.93it/s]\n",
      "[('frost', 'glaze')] Epoch 10/20 [Val]: 100%|██████████| 4/4 [00:00<00:00,  9.59it/s]\n"
     ]
    },
    {
     "name": "stdout",
     "output_type": "stream",
     "text": [
      "Epoch 10/20 | Train Acc: 0.836 | Val Acc: 0.764\n",
      "✅ Saved best model to ../../models/binary_models\\frost_glaze_BinaryWeatherClassifier_LowRes.pth (val_acc=0.764)\n"
     ]
    },
    {
     "name": "stderr",
     "output_type": "stream",
     "text": [
      "[('frost', 'glaze')] Epoch 11/20 [Train]: 100%|██████████| 28/28 [00:04<00:00,  5.88it/s]\n",
      "[('frost', 'glaze')] Epoch 11/20 [Val]: 100%|██████████| 4/4 [00:00<00:00,  9.44it/s]\n"
     ]
    },
    {
     "name": "stdout",
     "output_type": "stream",
     "text": [
      "Epoch 11/20 | Train Acc: 0.854 | Val Acc: 0.755\n"
     ]
    },
    {
     "name": "stderr",
     "output_type": "stream",
     "text": [
      "[('frost', 'glaze')] Epoch 12/20 [Train]: 100%|██████████| 28/28 [00:04<00:00,  5.89it/s]\n",
      "[('frost', 'glaze')] Epoch 12/20 [Val]: 100%|██████████| 4/4 [00:00<00:00,  8.58it/s]\n"
     ]
    },
    {
     "name": "stdout",
     "output_type": "stream",
     "text": [
      "Epoch 12/20 | Train Acc: 0.890 | Val Acc: 0.782\n",
      "✅ Saved best model to ../../models/binary_models\\frost_glaze_BinaryWeatherClassifier_LowRes.pth (val_acc=0.782)\n"
     ]
    },
    {
     "name": "stderr",
     "output_type": "stream",
     "text": [
      "[('frost', 'glaze')] Epoch 13/20 [Train]: 100%|██████████| 28/28 [00:04<00:00,  6.01it/s]\n",
      "[('frost', 'glaze')] Epoch 13/20 [Val]: 100%|██████████| 4/4 [00:00<00:00,  9.44it/s]\n"
     ]
    },
    {
     "name": "stdout",
     "output_type": "stream",
     "text": [
      "Epoch 13/20 | Train Acc: 0.900 | Val Acc: 0.782\n"
     ]
    },
    {
     "name": "stderr",
     "output_type": "stream",
     "text": [
      "[('frost', 'glaze')] Epoch 14/20 [Train]: 100%|██████████| 28/28 [00:04<00:00,  6.19it/s]\n",
      "[('frost', 'glaze')] Epoch 14/20 [Val]: 100%|██████████| 4/4 [00:00<00:00,  9.04it/s]\n"
     ]
    },
    {
     "name": "stdout",
     "output_type": "stream",
     "text": [
      "Epoch 14/20 | Train Acc: 0.923 | Val Acc: 0.736\n"
     ]
    },
    {
     "name": "stderr",
     "output_type": "stream",
     "text": [
      "[('frost', 'glaze')] Epoch 15/20 [Train]: 100%|██████████| 28/28 [00:04<00:00,  6.03it/s]\n",
      "[('frost', 'glaze')] Epoch 15/20 [Val]: 100%|██████████| 4/4 [00:00<00:00,  9.49it/s]\n"
     ]
    },
    {
     "name": "stdout",
     "output_type": "stream",
     "text": [
      "Epoch 15/20 | Train Acc: 0.939 | Val Acc: 0.764\n"
     ]
    },
    {
     "name": "stderr",
     "output_type": "stream",
     "text": [
      "[('frost', 'glaze')] Epoch 16/20 [Train]: 100%|██████████| 28/28 [00:04<00:00,  6.12it/s]\n",
      "[('frost', 'glaze')] Epoch 16/20 [Val]: 100%|██████████| 4/4 [00:00<00:00,  8.47it/s]\n"
     ]
    },
    {
     "name": "stdout",
     "output_type": "stream",
     "text": [
      "Epoch 16/20 | Train Acc: 0.939 | Val Acc: 0.773\n"
     ]
    },
    {
     "name": "stderr",
     "output_type": "stream",
     "text": [
      "[('frost', 'glaze')] Epoch 17/20 [Train]: 100%|██████████| 28/28 [00:04<00:00,  5.95it/s]\n",
      "[('frost', 'glaze')] Epoch 17/20 [Val]: 100%|██████████| 4/4 [00:00<00:00,  9.62it/s]\n"
     ]
    },
    {
     "name": "stdout",
     "output_type": "stream",
     "text": [
      "Epoch 17/20 | Train Acc: 0.938 | Val Acc: 0.745\n"
     ]
    },
    {
     "name": "stderr",
     "output_type": "stream",
     "text": [
      "[('frost', 'glaze')] Epoch 18/20 [Train]: 100%|██████████| 28/28 [00:04<00:00,  6.16it/s]\n",
      "[('frost', 'glaze')] Epoch 18/20 [Val]: 100%|██████████| 4/4 [00:00<00:00,  9.56it/s]\n"
     ]
    },
    {
     "name": "stdout",
     "output_type": "stream",
     "text": [
      "Epoch 18/20 | Train Acc: 0.961 | Val Acc: 0.773\n"
     ]
    },
    {
     "name": "stderr",
     "output_type": "stream",
     "text": [
      "[('frost', 'glaze')] Epoch 19/20 [Train]: 100%|██████████| 28/28 [00:04<00:00,  6.09it/s]\n",
      "[('frost', 'glaze')] Epoch 19/20 [Val]: 100%|██████████| 4/4 [00:00<00:00,  9.61it/s]\n"
     ]
    },
    {
     "name": "stdout",
     "output_type": "stream",
     "text": [
      "Epoch 19/20 | Train Acc: 0.930 | Val Acc: 0.782\n"
     ]
    },
    {
     "name": "stderr",
     "output_type": "stream",
     "text": [
      "[('frost', 'glaze')] Epoch 20/20 [Train]: 100%|██████████| 28/28 [00:04<00:00,  6.06it/s]\n",
      "[('frost', 'glaze')] Epoch 20/20 [Val]: 100%|██████████| 4/4 [00:00<00:00,  9.52it/s]\n"
     ]
    },
    {
     "name": "stdout",
     "output_type": "stream",
     "text": [
      "Epoch 20/20 | Train Acc: 0.955 | Val Acc: 0.736\n",
      "\n",
      "============================\n",
      " Training pair: ('rain', 'lightning')\n",
      "============================\n",
      "✅ Mean for ('rain', 'lightning'): [0.40698739886283875, 0.4101320803165436, 0.4590315818786621]\n",
      "✅ Std for ('rain', 'lightning'): [0.2592317759990692, 0.2516503632068634, 0.2613580822944641]\n"
     ]
    },
    {
     "name": "stderr",
     "output_type": "stream",
     "text": [
      "[('rain', 'lightning')] Epoch 1/20 [Train]: 100%|██████████| 23/23 [00:05<00:00,  4.42it/s]\n",
      "[('rain', 'lightning')] Epoch 1/20 [Val]: 100%|██████████| 3/3 [00:01<00:00,  2.72it/s]\n"
     ]
    },
    {
     "name": "stdout",
     "output_type": "stream",
     "text": [
      "Epoch 1/20 | Train Acc: 0.659 | Val Acc: 0.865\n",
      "✅ Saved best model to ../../models/binary_models\\rain_lightning_BinaryWeatherClassifier_HighRes.pth (val_acc=0.865)\n"
     ]
    },
    {
     "name": "stderr",
     "output_type": "stream",
     "text": [
      "[('rain', 'lightning')] Epoch 2/20 [Train]: 100%|██████████| 23/23 [00:04<00:00,  4.71it/s]\n",
      "[('rain', 'lightning')] Epoch 2/20 [Val]: 100%|██████████| 3/3 [00:00<00:00,  8.12it/s]\n"
     ]
    },
    {
     "name": "stdout",
     "output_type": "stream",
     "text": [
      "Epoch 2/20 | Train Acc: 0.896 | Val Acc: 0.831\n"
     ]
    },
    {
     "name": "stderr",
     "output_type": "stream",
     "text": [
      "[('rain', 'lightning')] Epoch 3/20 [Train]: 100%|██████████| 23/23 [00:04<00:00,  4.74it/s]\n",
      "[('rain', 'lightning')] Epoch 3/20 [Val]: 100%|██████████| 3/3 [00:00<00:00,  8.20it/s]\n"
     ]
    },
    {
     "name": "stdout",
     "output_type": "stream",
     "text": [
      "Epoch 3/20 | Train Acc: 0.925 | Val Acc: 0.921\n",
      "✅ Saved best model to ../../models/binary_models\\rain_lightning_BinaryWeatherClassifier_HighRes.pth (val_acc=0.921)\n"
     ]
    },
    {
     "name": "stderr",
     "output_type": "stream",
     "text": [
      "[('rain', 'lightning')] Epoch 4/20 [Train]: 100%|██████████| 23/23 [00:04<00:00,  4.70it/s]\n",
      "[('rain', 'lightning')] Epoch 4/20 [Val]: 100%|██████████| 3/3 [00:00<00:00,  8.28it/s]\n"
     ]
    },
    {
     "name": "stdout",
     "output_type": "stream",
     "text": [
      "Epoch 4/20 | Train Acc: 0.910 | Val Acc: 0.921\n"
     ]
    },
    {
     "name": "stderr",
     "output_type": "stream",
     "text": [
      "[('rain', 'lightning')] Epoch 5/20 [Train]: 100%|██████████| 23/23 [00:04<00:00,  4.67it/s]\n",
      "[('rain', 'lightning')] Epoch 5/20 [Val]: 100%|██████████| 3/3 [00:00<00:00,  8.04it/s]\n"
     ]
    },
    {
     "name": "stdout",
     "output_type": "stream",
     "text": [
      "Epoch 5/20 | Train Acc: 0.943 | Val Acc: 0.888\n"
     ]
    },
    {
     "name": "stderr",
     "output_type": "stream",
     "text": [
      "[('rain', 'lightning')] Epoch 6/20 [Train]: 100%|██████████| 23/23 [00:04<00:00,  4.73it/s]\n",
      "[('rain', 'lightning')] Epoch 6/20 [Val]: 100%|██████████| 3/3 [00:00<00:00,  7.90it/s]\n"
     ]
    },
    {
     "name": "stdout",
     "output_type": "stream",
     "text": [
      "Epoch 6/20 | Train Acc: 0.935 | Val Acc: 0.921\n"
     ]
    },
    {
     "name": "stderr",
     "output_type": "stream",
     "text": [
      "[('rain', 'lightning')] Epoch 7/20 [Train]: 100%|██████████| 23/23 [00:05<00:00,  4.54it/s]\n",
      "[('rain', 'lightning')] Epoch 7/20 [Val]: 100%|██████████| 3/3 [00:00<00:00,  6.76it/s]\n"
     ]
    },
    {
     "name": "stdout",
     "output_type": "stream",
     "text": [
      "Epoch 7/20 | Train Acc: 0.936 | Val Acc: 0.888\n"
     ]
    },
    {
     "name": "stderr",
     "output_type": "stream",
     "text": [
      "[('rain', 'lightning')] Epoch 8/20 [Train]: 100%|██████████| 23/23 [00:05<00:00,  4.15it/s]\n",
      "[('rain', 'lightning')] Epoch 8/20 [Val]: 100%|██████████| 3/3 [00:00<00:00,  6.44it/s]\n"
     ]
    },
    {
     "name": "stdout",
     "output_type": "stream",
     "text": [
      "Epoch 8/20 | Train Acc: 0.951 | Val Acc: 0.899\n"
     ]
    },
    {
     "name": "stderr",
     "output_type": "stream",
     "text": [
      "[('rain', 'lightning')] Epoch 9/20 [Train]: 100%|██████████| 23/23 [00:05<00:00,  4.59it/s]\n",
      "[('rain', 'lightning')] Epoch 9/20 [Val]: 100%|██████████| 3/3 [00:00<00:00,  7.98it/s]\n"
     ]
    },
    {
     "name": "stdout",
     "output_type": "stream",
     "text": [
      "Epoch 9/20 | Train Acc: 0.953 | Val Acc: 0.921\n"
     ]
    },
    {
     "name": "stderr",
     "output_type": "stream",
     "text": [
      "[('rain', 'lightning')] Epoch 10/20 [Train]: 100%|██████████| 23/23 [00:04<00:00,  4.70it/s]\n",
      "[('rain', 'lightning')] Epoch 10/20 [Val]: 100%|██████████| 3/3 [00:00<00:00,  8.00it/s]\n"
     ]
    },
    {
     "name": "stdout",
     "output_type": "stream",
     "text": [
      "Epoch 10/20 | Train Acc: 0.953 | Val Acc: 0.933\n",
      "✅ Saved best model to ../../models/binary_models\\rain_lightning_BinaryWeatherClassifier_HighRes.pth (val_acc=0.933)\n"
     ]
    },
    {
     "name": "stderr",
     "output_type": "stream",
     "text": [
      "[('rain', 'lightning')] Epoch 11/20 [Train]: 100%|██████████| 23/23 [00:04<00:00,  4.68it/s]\n",
      "[('rain', 'lightning')] Epoch 11/20 [Val]: 100%|██████████| 3/3 [00:00<00:00,  7.91it/s]\n"
     ]
    },
    {
     "name": "stdout",
     "output_type": "stream",
     "text": [
      "Epoch 11/20 | Train Acc: 0.953 | Val Acc: 0.921\n"
     ]
    },
    {
     "name": "stderr",
     "output_type": "stream",
     "text": [
      "[('rain', 'lightning')] Epoch 12/20 [Train]: 100%|██████████| 23/23 [00:05<00:00,  4.24it/s]\n",
      "[('rain', 'lightning')] Epoch 12/20 [Val]: 100%|██████████| 3/3 [00:00<00:00,  6.66it/s]\n"
     ]
    },
    {
     "name": "stdout",
     "output_type": "stream",
     "text": [
      "Epoch 12/20 | Train Acc: 0.954 | Val Acc: 0.921\n"
     ]
    },
    {
     "name": "stderr",
     "output_type": "stream",
     "text": [
      "[('rain', 'lightning')] Epoch 13/20 [Train]: 100%|██████████| 23/23 [00:05<00:00,  4.36it/s]\n",
      "[('rain', 'lightning')] Epoch 13/20 [Val]: 100%|██████████| 3/3 [00:00<00:00,  7.65it/s]\n"
     ]
    },
    {
     "name": "stdout",
     "output_type": "stream",
     "text": [
      "Epoch 13/20 | Train Acc: 0.958 | Val Acc: 0.921\n"
     ]
    },
    {
     "name": "stderr",
     "output_type": "stream",
     "text": [
      "[('rain', 'lightning')] Epoch 14/20 [Train]: 100%|██████████| 23/23 [00:04<00:00,  4.64it/s]\n",
      "[('rain', 'lightning')] Epoch 14/20 [Val]: 100%|██████████| 3/3 [00:00<00:00,  8.05it/s]\n"
     ]
    },
    {
     "name": "stdout",
     "output_type": "stream",
     "text": [
      "Epoch 14/20 | Train Acc: 0.961 | Val Acc: 0.933\n"
     ]
    },
    {
     "name": "stderr",
     "output_type": "stream",
     "text": [
      "[('rain', 'lightning')] Epoch 15/20 [Train]: 100%|██████████| 23/23 [00:04<00:00,  4.71it/s]\n",
      "[('rain', 'lightning')] Epoch 15/20 [Val]: 100%|██████████| 3/3 [00:00<00:00,  7.92it/s]\n"
     ]
    },
    {
     "name": "stdout",
     "output_type": "stream",
     "text": [
      "Epoch 15/20 | Train Acc: 0.961 | Val Acc: 0.910\n"
     ]
    },
    {
     "name": "stderr",
     "output_type": "stream",
     "text": [
      "[('rain', 'lightning')] Epoch 16/20 [Train]: 100%|██████████| 23/23 [00:05<00:00,  4.15it/s]\n",
      "[('rain', 'lightning')] Epoch 16/20 [Val]: 100%|██████████| 3/3 [00:00<00:00,  6.00it/s]\n"
     ]
    },
    {
     "name": "stdout",
     "output_type": "stream",
     "text": [
      "Epoch 16/20 | Train Acc: 0.967 | Val Acc: 0.888\n"
     ]
    },
    {
     "name": "stderr",
     "output_type": "stream",
     "text": [
      "[('rain', 'lightning')] Epoch 17/20 [Train]: 100%|██████████| 23/23 [00:06<00:00,  3.80it/s]\n",
      "[('rain', 'lightning')] Epoch 17/20 [Val]: 100%|██████████| 3/3 [00:00<00:00,  6.54it/s]\n"
     ]
    },
    {
     "name": "stdout",
     "output_type": "stream",
     "text": [
      "Epoch 17/20 | Train Acc: 0.953 | Val Acc: 0.910\n"
     ]
    },
    {
     "name": "stderr",
     "output_type": "stream",
     "text": [
      "[('rain', 'lightning')] Epoch 18/20 [Train]: 100%|██████████| 23/23 [00:05<00:00,  4.47it/s]\n",
      "[('rain', 'lightning')] Epoch 18/20 [Val]: 100%|██████████| 3/3 [00:00<00:00,  7.43it/s]\n"
     ]
    },
    {
     "name": "stdout",
     "output_type": "stream",
     "text": [
      "Epoch 18/20 | Train Acc: 0.968 | Val Acc: 0.899\n"
     ]
    },
    {
     "name": "stderr",
     "output_type": "stream",
     "text": [
      "[('rain', 'lightning')] Epoch 19/20 [Train]: 100%|██████████| 23/23 [00:05<00:00,  4.54it/s]\n",
      "[('rain', 'lightning')] Epoch 19/20 [Val]: 100%|██████████| 3/3 [00:00<00:00,  7.62it/s]\n"
     ]
    },
    {
     "name": "stdout",
     "output_type": "stream",
     "text": [
      "Epoch 19/20 | Train Acc: 0.969 | Val Acc: 0.933\n"
     ]
    },
    {
     "name": "stderr",
     "output_type": "stream",
     "text": [
      "[('rain', 'lightning')] Epoch 20/20 [Train]: 100%|██████████| 23/23 [00:05<00:00,  4.29it/s]\n",
      "[('rain', 'lightning')] Epoch 20/20 [Val]: 100%|██████████| 3/3 [00:00<00:00,  6.11it/s]\n"
     ]
    },
    {
     "name": "stdout",
     "output_type": "stream",
     "text": [
      "Epoch 20/20 | Train Acc: 0.965 | Val Acc: 0.944\n",
      "✅ Saved best model to ../../models/binary_models\\rain_lightning_BinaryWeatherClassifier_HighRes.pth (val_acc=0.944)\n",
      "✅ Mean for ('rain', 'lightning'): [0.4069664180278778, 0.4101096987724304, 0.45901763439178467]\n",
      "✅ Std for ('rain', 'lightning'): [0.2517593204975128, 0.24418573081493378, 0.25425657629966736]\n"
     ]
    },
    {
     "name": "stderr",
     "output_type": "stream",
     "text": [
      "[('rain', 'lightning')] Epoch 1/20 [Train]: 100%|██████████| 23/23 [00:03<00:00,  7.39it/s]\n",
      "[('rain', 'lightning')] Epoch 1/20 [Val]: 100%|██████████| 3/3 [00:00<00:00, 12.17it/s]\n"
     ]
    },
    {
     "name": "stdout",
     "output_type": "stream",
     "text": [
      "Epoch 1/20 | Train Acc: 0.908 | Val Acc: 0.843\n",
      "✅ Saved best model to ../../models/binary_models\\rain_lightning_BinaryWeatherClassifier_LowRes.pth (val_acc=0.843)\n"
     ]
    },
    {
     "name": "stderr",
     "output_type": "stream",
     "text": [
      "[('rain', 'lightning')] Epoch 2/20 [Train]: 100%|██████████| 23/23 [00:02<00:00,  8.21it/s]\n",
      "[('rain', 'lightning')] Epoch 2/20 [Val]: 100%|██████████| 3/3 [00:00<00:00, 11.53it/s]\n"
     ]
    },
    {
     "name": "stdout",
     "output_type": "stream",
     "text": [
      "Epoch 2/20 | Train Acc: 0.961 | Val Acc: 0.955\n",
      "✅ Saved best model to ../../models/binary_models\\rain_lightning_BinaryWeatherClassifier_LowRes.pth (val_acc=0.955)\n"
     ]
    },
    {
     "name": "stderr",
     "output_type": "stream",
     "text": [
      "[('rain', 'lightning')] Epoch 3/20 [Train]: 100%|██████████| 23/23 [00:02<00:00,  8.47it/s]\n",
      "[('rain', 'lightning')] Epoch 3/20 [Val]: 100%|██████████| 3/3 [00:00<00:00, 12.05it/s]\n"
     ]
    },
    {
     "name": "stdout",
     "output_type": "stream",
     "text": [
      "Epoch 3/20 | Train Acc: 0.968 | Val Acc: 0.955\n"
     ]
    },
    {
     "name": "stderr",
     "output_type": "stream",
     "text": [
      "[('rain', 'lightning')] Epoch 4/20 [Train]: 100%|██████████| 23/23 [00:02<00:00,  8.50it/s]\n",
      "[('rain', 'lightning')] Epoch 4/20 [Val]: 100%|██████████| 3/3 [00:00<00:00, 12.61it/s]\n"
     ]
    },
    {
     "name": "stdout",
     "output_type": "stream",
     "text": [
      "Epoch 4/20 | Train Acc: 0.969 | Val Acc: 0.966\n",
      "✅ Saved best model to ../../models/binary_models\\rain_lightning_BinaryWeatherClassifier_LowRes.pth (val_acc=0.966)\n"
     ]
    },
    {
     "name": "stderr",
     "output_type": "stream",
     "text": [
      "[('rain', 'lightning')] Epoch 5/20 [Train]: 100%|██████████| 23/23 [00:02<00:00,  8.62it/s]\n",
      "[('rain', 'lightning')] Epoch 5/20 [Val]: 100%|██████████| 3/3 [00:00<00:00, 12.08it/s]\n"
     ]
    },
    {
     "name": "stdout",
     "output_type": "stream",
     "text": [
      "Epoch 5/20 | Train Acc: 0.972 | Val Acc: 0.955\n"
     ]
    },
    {
     "name": "stderr",
     "output_type": "stream",
     "text": [
      "[('rain', 'lightning')] Epoch 6/20 [Train]: 100%|██████████| 23/23 [00:02<00:00,  8.52it/s]\n",
      "[('rain', 'lightning')] Epoch 6/20 [Val]: 100%|██████████| 3/3 [00:00<00:00, 12.67it/s]\n"
     ]
    },
    {
     "name": "stdout",
     "output_type": "stream",
     "text": [
      "Epoch 6/20 | Train Acc: 0.979 | Val Acc: 0.966\n"
     ]
    },
    {
     "name": "stderr",
     "output_type": "stream",
     "text": [
      "[('rain', 'lightning')] Epoch 7/20 [Train]: 100%|██████████| 23/23 [00:02<00:00,  8.46it/s]\n",
      "[('rain', 'lightning')] Epoch 7/20 [Val]: 100%|██████████| 3/3 [00:00<00:00, 12.59it/s]\n"
     ]
    },
    {
     "name": "stdout",
     "output_type": "stream",
     "text": [
      "Epoch 7/20 | Train Acc: 0.989 | Val Acc: 0.955\n"
     ]
    },
    {
     "name": "stderr",
     "output_type": "stream",
     "text": [
      "[('rain', 'lightning')] Epoch 8/20 [Train]: 100%|██████████| 23/23 [00:02<00:00,  8.67it/s]\n",
      "[('rain', 'lightning')] Epoch 8/20 [Val]: 100%|██████████| 3/3 [00:00<00:00, 12.83it/s]\n"
     ]
    },
    {
     "name": "stdout",
     "output_type": "stream",
     "text": [
      "Epoch 8/20 | Train Acc: 0.993 | Val Acc: 0.978\n",
      "✅ Saved best model to ../../models/binary_models\\rain_lightning_BinaryWeatherClassifier_LowRes.pth (val_acc=0.978)\n"
     ]
    },
    {
     "name": "stderr",
     "output_type": "stream",
     "text": [
      "[('rain', 'lightning')] Epoch 9/20 [Train]: 100%|██████████| 23/23 [00:02<00:00,  8.54it/s]\n",
      "[('rain', 'lightning')] Epoch 9/20 [Val]: 100%|██████████| 3/3 [00:00<00:00, 11.99it/s]\n"
     ]
    },
    {
     "name": "stdout",
     "output_type": "stream",
     "text": [
      "Epoch 9/20 | Train Acc: 0.992 | Val Acc: 0.955\n"
     ]
    },
    {
     "name": "stderr",
     "output_type": "stream",
     "text": [
      "[('rain', 'lightning')] Epoch 10/20 [Train]: 100%|██████████| 23/23 [00:02<00:00,  8.29it/s]\n",
      "[('rain', 'lightning')] Epoch 10/20 [Val]: 100%|██████████| 3/3 [00:00<00:00, 12.08it/s]\n"
     ]
    },
    {
     "name": "stdout",
     "output_type": "stream",
     "text": [
      "Epoch 10/20 | Train Acc: 0.972 | Val Acc: 0.955\n"
     ]
    },
    {
     "name": "stderr",
     "output_type": "stream",
     "text": [
      "[('rain', 'lightning')] Epoch 11/20 [Train]: 100%|██████████| 23/23 [00:02<00:00,  8.54it/s]\n",
      "[('rain', 'lightning')] Epoch 11/20 [Val]: 100%|██████████| 3/3 [00:00<00:00, 12.63it/s]\n"
     ]
    },
    {
     "name": "stdout",
     "output_type": "stream",
     "text": [
      "Epoch 11/20 | Train Acc: 0.981 | Val Acc: 0.978\n"
     ]
    },
    {
     "name": "stderr",
     "output_type": "stream",
     "text": [
      "[('rain', 'lightning')] Epoch 12/20 [Train]: 100%|██████████| 23/23 [00:02<00:00,  8.70it/s]\n",
      "[('rain', 'lightning')] Epoch 12/20 [Val]: 100%|██████████| 3/3 [00:00<00:00, 12.77it/s]\n"
     ]
    },
    {
     "name": "stdout",
     "output_type": "stream",
     "text": [
      "Epoch 12/20 | Train Acc: 0.981 | Val Acc: 0.966\n"
     ]
    },
    {
     "name": "stderr",
     "output_type": "stream",
     "text": [
      "[('rain', 'lightning')] Epoch 13/20 [Train]: 100%|██████████| 23/23 [00:02<00:00,  8.67it/s]\n",
      "[('rain', 'lightning')] Epoch 13/20 [Val]: 100%|██████████| 3/3 [00:00<00:00, 12.78it/s]\n"
     ]
    },
    {
     "name": "stdout",
     "output_type": "stream",
     "text": [
      "Epoch 13/20 | Train Acc: 0.988 | Val Acc: 0.978\n"
     ]
    },
    {
     "name": "stderr",
     "output_type": "stream",
     "text": [
      "[('rain', 'lightning')] Epoch 14/20 [Train]: 100%|██████████| 23/23 [00:02<00:00,  8.76it/s]\n",
      "[('rain', 'lightning')] Epoch 14/20 [Val]: 100%|██████████| 3/3 [00:00<00:00, 12.65it/s]\n"
     ]
    },
    {
     "name": "stdout",
     "output_type": "stream",
     "text": [
      "Epoch 14/20 | Train Acc: 0.990 | Val Acc: 0.966\n"
     ]
    },
    {
     "name": "stderr",
     "output_type": "stream",
     "text": [
      "[('rain', 'lightning')] Epoch 15/20 [Train]: 100%|██████████| 23/23 [00:02<00:00,  8.75it/s]\n",
      "[('rain', 'lightning')] Epoch 15/20 [Val]: 100%|██████████| 3/3 [00:00<00:00, 12.15it/s]\n"
     ]
    },
    {
     "name": "stdout",
     "output_type": "stream",
     "text": [
      "Epoch 15/20 | Train Acc: 0.988 | Val Acc: 0.978\n"
     ]
    },
    {
     "name": "stderr",
     "output_type": "stream",
     "text": [
      "[('rain', 'lightning')] Epoch 16/20 [Train]: 100%|██████████| 23/23 [00:02<00:00,  8.69it/s]\n",
      "[('rain', 'lightning')] Epoch 16/20 [Val]: 100%|██████████| 3/3 [00:00<00:00, 11.67it/s]\n"
     ]
    },
    {
     "name": "stdout",
     "output_type": "stream",
     "text": [
      "Epoch 16/20 | Train Acc: 0.988 | Val Acc: 0.955\n"
     ]
    },
    {
     "name": "stderr",
     "output_type": "stream",
     "text": [
      "[('rain', 'lightning')] Epoch 17/20 [Train]: 100%|██████████| 23/23 [00:02<00:00,  8.34it/s]\n",
      "[('rain', 'lightning')] Epoch 17/20 [Val]: 100%|██████████| 3/3 [00:00<00:00, 12.70it/s]\n"
     ]
    },
    {
     "name": "stdout",
     "output_type": "stream",
     "text": [
      "Epoch 17/20 | Train Acc: 0.979 | Val Acc: 0.955\n"
     ]
    },
    {
     "name": "stderr",
     "output_type": "stream",
     "text": [
      "[('rain', 'lightning')] Epoch 18/20 [Train]: 100%|██████████| 23/23 [00:02<00:00,  8.74it/s]\n",
      "[('rain', 'lightning')] Epoch 18/20 [Val]: 100%|██████████| 3/3 [00:00<00:00, 12.64it/s]\n"
     ]
    },
    {
     "name": "stdout",
     "output_type": "stream",
     "text": [
      "Epoch 18/20 | Train Acc: 0.981 | Val Acc: 0.978\n"
     ]
    },
    {
     "name": "stderr",
     "output_type": "stream",
     "text": [
      "[('rain', 'lightning')] Epoch 19/20 [Train]: 100%|██████████| 23/23 [00:02<00:00,  8.72it/s]\n",
      "[('rain', 'lightning')] Epoch 19/20 [Val]: 100%|██████████| 3/3 [00:00<00:00, 12.55it/s]\n"
     ]
    },
    {
     "name": "stdout",
     "output_type": "stream",
     "text": [
      "Epoch 19/20 | Train Acc: 0.982 | Val Acc: 0.978\n"
     ]
    },
    {
     "name": "stderr",
     "output_type": "stream",
     "text": [
      "[('rain', 'lightning')] Epoch 20/20 [Train]: 100%|██████████| 23/23 [00:02<00:00,  8.75it/s]\n",
      "[('rain', 'lightning')] Epoch 20/20 [Val]: 100%|██████████| 3/3 [00:00<00:00, 12.75it/s]\n"
     ]
    },
    {
     "name": "stdout",
     "output_type": "stream",
     "text": [
      "Epoch 20/20 | Train Acc: 0.996 | Val Acc: 0.978\n",
      "\n",
      "============================\n",
      " Training pair: ('snow', 'rime')\n",
      "============================\n",
      "✅ Mean for ('snow', 'rime'): [0.5795192122459412, 0.6154145002365112, 0.668907642364502]\n",
      "✅ Std for ('snow', 'rime'): [0.23696930706501007, 0.21914172172546387, 0.22608348727226257]\n"
     ]
    },
    {
     "name": "stderr",
     "output_type": "stream",
     "text": [
      "[('snow', 'rime')] Epoch 1/20 [Train]: 100%|██████████| 45/45 [00:10<00:00,  4.09it/s]\n",
      "[('snow', 'rime')] Epoch 1/20 [Val]: 100%|██████████| 6/6 [00:02<00:00,  2.32it/s]\n"
     ]
    },
    {
     "name": "stdout",
     "output_type": "stream",
     "text": [
      "Epoch 1/20 | Train Acc: 0.655 | Val Acc: 0.652\n",
      "✅ Saved best model to ../../models/binary_models\\snow_rime_BinaryWeatherClassifier_HighRes.pth (val_acc=0.652)\n"
     ]
    },
    {
     "name": "stderr",
     "output_type": "stream",
     "text": [
      "[('snow', 'rime')] Epoch 2/20 [Train]: 100%|██████████| 45/45 [00:10<00:00,  4.15it/s]\n",
      "[('snow', 'rime')] Epoch 2/20 [Val]: 100%|██████████| 6/6 [00:01<00:00,  5.92it/s]\n"
     ]
    },
    {
     "name": "stdout",
     "output_type": "stream",
     "text": [
      "Epoch 2/20 | Train Acc: 0.652 | Val Acc: 0.652\n"
     ]
    },
    {
     "name": "stderr",
     "output_type": "stream",
     "text": [
      "[('snow', 'rime')] Epoch 3/20 [Train]: 100%|██████████| 45/45 [00:11<00:00,  3.77it/s]\n",
      "[('snow', 'rime')] Epoch 3/20 [Val]: 100%|██████████| 6/6 [00:01<00:00,  4.81it/s]\n"
     ]
    },
    {
     "name": "stdout",
     "output_type": "stream",
     "text": [
      "Epoch 3/20 | Train Acc: 0.651 | Val Acc: 0.652\n"
     ]
    },
    {
     "name": "stderr",
     "output_type": "stream",
     "text": [
      "[('snow', 'rime')] Epoch 4/20 [Train]: 100%|██████████| 45/45 [00:11<00:00,  3.98it/s]\n",
      "[('snow', 'rime')] Epoch 4/20 [Val]: 100%|██████████| 6/6 [00:01<00:00,  5.95it/s]\n"
     ]
    },
    {
     "name": "stdout",
     "output_type": "stream",
     "text": [
      "Epoch 4/20 | Train Acc: 0.669 | Val Acc: 0.702\n",
      "✅ Saved best model to ../../models/binary_models\\snow_rime_BinaryWeatherClassifier_HighRes.pth (val_acc=0.702)\n"
     ]
    },
    {
     "name": "stderr",
     "output_type": "stream",
     "text": [
      "[('snow', 'rime')] Epoch 5/20 [Train]: 100%|██████████| 45/45 [00:11<00:00,  4.02it/s]\n",
      "[('snow', 'rime')] Epoch 5/20 [Val]: 100%|██████████| 6/6 [00:01<00:00,  4.62it/s]\n"
     ]
    },
    {
     "name": "stdout",
     "output_type": "stream",
     "text": [
      "Epoch 5/20 | Train Acc: 0.772 | Val Acc: 0.730\n",
      "✅ Saved best model to ../../models/binary_models\\snow_rime_BinaryWeatherClassifier_HighRes.pth (val_acc=0.730)\n"
     ]
    },
    {
     "name": "stderr",
     "output_type": "stream",
     "text": [
      "[('snow', 'rime')] Epoch 6/20 [Train]: 100%|██████████| 45/45 [00:11<00:00,  3.79it/s]\n",
      "[('snow', 'rime')] Epoch 6/20 [Val]: 100%|██████████| 6/6 [00:01<00:00,  5.81it/s]\n"
     ]
    },
    {
     "name": "stdout",
     "output_type": "stream",
     "text": [
      "Epoch 6/20 | Train Acc: 0.724 | Val Acc: 0.758\n",
      "✅ Saved best model to ../../models/binary_models\\snow_rime_BinaryWeatherClassifier_HighRes.pth (val_acc=0.758)\n"
     ]
    },
    {
     "name": "stderr",
     "output_type": "stream",
     "text": [
      "[('snow', 'rime')] Epoch 7/20 [Train]: 100%|██████████| 45/45 [00:11<00:00,  3.93it/s]\n",
      "[('snow', 'rime')] Epoch 7/20 [Val]: 100%|██████████| 6/6 [00:01<00:00,  4.33it/s]\n"
     ]
    },
    {
     "name": "stdout",
     "output_type": "stream",
     "text": [
      "Epoch 7/20 | Train Acc: 0.801 | Val Acc: 0.775\n",
      "✅ Saved best model to ../../models/binary_models\\snow_rime_BinaryWeatherClassifier_HighRes.pth (val_acc=0.775)\n"
     ]
    },
    {
     "name": "stderr",
     "output_type": "stream",
     "text": [
      "[('snow', 'rime')] Epoch 8/20 [Train]: 100%|██████████| 45/45 [00:12<00:00,  3.75it/s]\n",
      "[('snow', 'rime')] Epoch 8/20 [Val]: 100%|██████████| 6/6 [00:01<00:00,  5.61it/s]\n"
     ]
    },
    {
     "name": "stdout",
     "output_type": "stream",
     "text": [
      "Epoch 8/20 | Train Acc: 0.796 | Val Acc: 0.798\n",
      "✅ Saved best model to ../../models/binary_models\\snow_rime_BinaryWeatherClassifier_HighRes.pth (val_acc=0.798)\n"
     ]
    },
    {
     "name": "stderr",
     "output_type": "stream",
     "text": [
      "[('snow', 'rime')] Epoch 9/20 [Train]: 100%|██████████| 45/45 [00:11<00:00,  3.78it/s]\n",
      "[('snow', 'rime')] Epoch 9/20 [Val]: 100%|██████████| 6/6 [00:01<00:00,  4.25it/s]\n"
     ]
    },
    {
     "name": "stdout",
     "output_type": "stream",
     "text": [
      "Epoch 9/20 | Train Acc: 0.810 | Val Acc: 0.781\n"
     ]
    },
    {
     "name": "stderr",
     "output_type": "stream",
     "text": [
      "[('snow', 'rime')] Epoch 10/20 [Train]: 100%|██████████| 45/45 [00:11<00:00,  4.03it/s]\n",
      "[('snow', 'rime')] Epoch 10/20 [Val]: 100%|██████████| 6/6 [00:01<00:00,  5.83it/s]\n"
     ]
    },
    {
     "name": "stdout",
     "output_type": "stream",
     "text": [
      "Epoch 10/20 | Train Acc: 0.815 | Val Acc: 0.781\n"
     ]
    },
    {
     "name": "stderr",
     "output_type": "stream",
     "text": [
      "[('snow', 'rime')] Epoch 11/20 [Train]: 100%|██████████| 45/45 [00:12<00:00,  3.69it/s]\n",
      "[('snow', 'rime')] Epoch 11/20 [Val]: 100%|██████████| 6/6 [00:01<00:00,  4.35it/s]\n"
     ]
    },
    {
     "name": "stdout",
     "output_type": "stream",
     "text": [
      "Epoch 11/20 | Train Acc: 0.822 | Val Acc: 0.792\n"
     ]
    },
    {
     "name": "stderr",
     "output_type": "stream",
     "text": [
      "[('snow', 'rime')] Epoch 12/20 [Train]: 100%|██████████| 45/45 [00:11<00:00,  4.03it/s]\n",
      "[('snow', 'rime')] Epoch 12/20 [Val]: 100%|██████████| 6/6 [00:01<00:00,  5.82it/s]\n"
     ]
    },
    {
     "name": "stdout",
     "output_type": "stream",
     "text": [
      "Epoch 12/20 | Train Acc: 0.829 | Val Acc: 0.798\n"
     ]
    },
    {
     "name": "stderr",
     "output_type": "stream",
     "text": [
      "[('snow', 'rime')] Epoch 13/20 [Train]: 100%|██████████| 45/45 [00:12<00:00,  3.73it/s]\n",
      "[('snow', 'rime')] Epoch 13/20 [Val]: 100%|██████████| 6/6 [00:01<00:00,  5.93it/s]\n"
     ]
    },
    {
     "name": "stdout",
     "output_type": "stream",
     "text": [
      "Epoch 13/20 | Train Acc: 0.831 | Val Acc: 0.820\n",
      "✅ Saved best model to ../../models/binary_models\\snow_rime_BinaryWeatherClassifier_HighRes.pth (val_acc=0.820)\n"
     ]
    },
    {
     "name": "stderr",
     "output_type": "stream",
     "text": [
      "[('snow', 'rime')] Epoch 14/20 [Train]: 100%|██████████| 45/45 [00:11<00:00,  4.08it/s]\n",
      "[('snow', 'rime')] Epoch 14/20 [Val]: 100%|██████████| 6/6 [00:01<00:00,  5.77it/s]\n"
     ]
    },
    {
     "name": "stdout",
     "output_type": "stream",
     "text": [
      "Epoch 14/20 | Train Acc: 0.846 | Val Acc: 0.831\n",
      "✅ Saved best model to ../../models/binary_models\\snow_rime_BinaryWeatherClassifier_HighRes.pth (val_acc=0.831)\n"
     ]
    },
    {
     "name": "stderr",
     "output_type": "stream",
     "text": [
      "[('snow', 'rime')] Epoch 15/20 [Train]: 100%|██████████| 45/45 [00:12<00:00,  3.55it/s]\n",
      "[('snow', 'rime')] Epoch 15/20 [Val]: 100%|██████████| 6/6 [00:01<00:00,  4.83it/s]\n"
     ]
    },
    {
     "name": "stdout",
     "output_type": "stream",
     "text": [
      "Epoch 15/20 | Train Acc: 0.836 | Val Acc: 0.803\n"
     ]
    },
    {
     "name": "stderr",
     "output_type": "stream",
     "text": [
      "[('snow', 'rime')] Epoch 16/20 [Train]: 100%|██████████| 45/45 [00:11<00:00,  4.02it/s]\n",
      "[('snow', 'rime')] Epoch 16/20 [Val]: 100%|██████████| 6/6 [00:01<00:00,  5.79it/s]\n"
     ]
    },
    {
     "name": "stdout",
     "output_type": "stream",
     "text": [
      "Epoch 16/20 | Train Acc: 0.857 | Val Acc: 0.837\n",
      "✅ Saved best model to ../../models/binary_models\\snow_rime_BinaryWeatherClassifier_HighRes.pth (val_acc=0.837)\n"
     ]
    },
    {
     "name": "stderr",
     "output_type": "stream",
     "text": [
      "[('snow', 'rime')] Epoch 17/20 [Train]: 100%|██████████| 45/45 [00:11<00:00,  3.99it/s]\n",
      "[('snow', 'rime')] Epoch 17/20 [Val]: 100%|██████████| 6/6 [00:01<00:00,  4.59it/s]\n"
     ]
    },
    {
     "name": "stdout",
     "output_type": "stream",
     "text": [
      "Epoch 17/20 | Train Acc: 0.876 | Val Acc: 0.826\n"
     ]
    },
    {
     "name": "stderr",
     "output_type": "stream",
     "text": [
      "[('snow', 'rime')] Epoch 18/20 [Train]: 100%|██████████| 45/45 [00:12<00:00,  3.57it/s]\n",
      "[('snow', 'rime')] Epoch 18/20 [Val]: 100%|██████████| 6/6 [00:01<00:00,  5.69it/s]\n"
     ]
    },
    {
     "name": "stdout",
     "output_type": "stream",
     "text": [
      "Epoch 18/20 | Train Acc: 0.867 | Val Acc: 0.837\n"
     ]
    },
    {
     "name": "stderr",
     "output_type": "stream",
     "text": [
      "[('snow', 'rime')] Epoch 19/20 [Train]: 100%|██████████| 45/45 [00:10<00:00,  4.11it/s]\n",
      "[('snow', 'rime')] Epoch 19/20 [Val]: 100%|██████████| 6/6 [00:01<00:00,  5.72it/s]\n"
     ]
    },
    {
     "name": "stdout",
     "output_type": "stream",
     "text": [
      "Epoch 19/20 | Train Acc: 0.885 | Val Acc: 0.815\n"
     ]
    },
    {
     "name": "stderr",
     "output_type": "stream",
     "text": [
      "[('snow', 'rime')] Epoch 20/20 [Train]: 100%|██████████| 45/45 [00:12<00:00,  3.63it/s]\n",
      "[('snow', 'rime')] Epoch 20/20 [Val]: 100%|██████████| 6/6 [00:01<00:00,  5.78it/s]\n"
     ]
    },
    {
     "name": "stdout",
     "output_type": "stream",
     "text": [
      "Epoch 20/20 | Train Acc: 0.886 | Val Acc: 0.815\n",
      "✅ Mean for ('snow', 'rime'): [0.5795268416404724, 0.6154240369796753, 0.6689206957817078]\n",
      "✅ Std for ('snow', 'rime'): [0.22493775188922882, 0.20652279257774353, 0.21376599371433258]\n"
     ]
    },
    {
     "name": "stderr",
     "output_type": "stream",
     "text": [
      "[('snow', 'rime')] Epoch 1/20 [Train]: 100%|██████████| 45/45 [00:06<00:00,  7.21it/s]\n",
      "[('snow', 'rime')] Epoch 1/20 [Val]: 100%|██████████| 6/6 [00:00<00:00,  8.90it/s]\n"
     ]
    },
    {
     "name": "stdout",
     "output_type": "stream",
     "text": [
      "Epoch 1/20 | Train Acc: 0.769 | Val Acc: 0.809\n",
      "✅ Saved best model to ../../models/binary_models\\snow_rime_BinaryWeatherClassifier_LowRes.pth (val_acc=0.809)\n"
     ]
    },
    {
     "name": "stderr",
     "output_type": "stream",
     "text": [
      "[('snow', 'rime')] Epoch 2/20 [Train]: 100%|██████████| 45/45 [00:06<00:00,  7.31it/s]\n",
      "[('snow', 'rime')] Epoch 2/20 [Val]: 100%|██████████| 6/6 [00:00<00:00,  9.01it/s]\n"
     ]
    },
    {
     "name": "stdout",
     "output_type": "stream",
     "text": [
      "Epoch 2/20 | Train Acc: 0.825 | Val Acc: 0.803\n"
     ]
    },
    {
     "name": "stderr",
     "output_type": "stream",
     "text": [
      "[('snow', 'rime')] Epoch 3/20 [Train]: 100%|██████████| 45/45 [00:06<00:00,  7.28it/s]\n",
      "[('snow', 'rime')] Epoch 3/20 [Val]: 100%|██████████| 6/6 [00:00<00:00,  8.87it/s]\n"
     ]
    },
    {
     "name": "stdout",
     "output_type": "stream",
     "text": [
      "Epoch 3/20 | Train Acc: 0.849 | Val Acc: 0.826\n",
      "✅ Saved best model to ../../models/binary_models\\snow_rime_BinaryWeatherClassifier_LowRes.pth (val_acc=0.826)\n"
     ]
    },
    {
     "name": "stderr",
     "output_type": "stream",
     "text": [
      "[('snow', 'rime')] Epoch 4/20 [Train]: 100%|██████████| 45/45 [00:06<00:00,  7.37it/s]\n",
      "[('snow', 'rime')] Epoch 4/20 [Val]: 100%|██████████| 6/6 [00:00<00:00,  8.93it/s]\n"
     ]
    },
    {
     "name": "stdout",
     "output_type": "stream",
     "text": [
      "Epoch 4/20 | Train Acc: 0.851 | Val Acc: 0.854\n",
      "✅ Saved best model to ../../models/binary_models\\snow_rime_BinaryWeatherClassifier_LowRes.pth (val_acc=0.854)\n"
     ]
    },
    {
     "name": "stderr",
     "output_type": "stream",
     "text": [
      "[('snow', 'rime')] Epoch 5/20 [Train]: 100%|██████████| 45/45 [00:06<00:00,  7.29it/s]\n",
      "[('snow', 'rime')] Epoch 5/20 [Val]: 100%|██████████| 6/6 [00:00<00:00,  9.09it/s]\n"
     ]
    },
    {
     "name": "stdout",
     "output_type": "stream",
     "text": [
      "Epoch 5/20 | Train Acc: 0.847 | Val Acc: 0.837\n"
     ]
    },
    {
     "name": "stderr",
     "output_type": "stream",
     "text": [
      "[('snow', 'rime')] Epoch 6/20 [Train]: 100%|██████████| 45/45 [00:06<00:00,  7.50it/s]\n",
      "[('snow', 'rime')] Epoch 6/20 [Val]: 100%|██████████| 6/6 [00:00<00:00,  8.94it/s]\n"
     ]
    },
    {
     "name": "stdout",
     "output_type": "stream",
     "text": [
      "Epoch 6/20 | Train Acc: 0.889 | Val Acc: 0.826\n"
     ]
    },
    {
     "name": "stderr",
     "output_type": "stream",
     "text": [
      "[('snow', 'rime')] Epoch 7/20 [Train]: 100%|██████████| 45/45 [00:06<00:00,  7.44it/s]\n",
      "[('snow', 'rime')] Epoch 7/20 [Val]: 100%|██████████| 6/6 [00:00<00:00,  9.02it/s]\n"
     ]
    },
    {
     "name": "stdout",
     "output_type": "stream",
     "text": [
      "Epoch 7/20 | Train Acc: 0.889 | Val Acc: 0.865\n",
      "✅ Saved best model to ../../models/binary_models\\snow_rime_BinaryWeatherClassifier_LowRes.pth (val_acc=0.865)\n"
     ]
    },
    {
     "name": "stderr",
     "output_type": "stream",
     "text": [
      "[('snow', 'rime')] Epoch 8/20 [Train]: 100%|██████████| 45/45 [00:06<00:00,  7.48it/s]\n",
      "[('snow', 'rime')] Epoch 8/20 [Val]: 100%|██████████| 6/6 [00:00<00:00,  8.99it/s]\n"
     ]
    },
    {
     "name": "stdout",
     "output_type": "stream",
     "text": [
      "Epoch 8/20 | Train Acc: 0.897 | Val Acc: 0.860\n"
     ]
    },
    {
     "name": "stderr",
     "output_type": "stream",
     "text": [
      "[('snow', 'rime')] Epoch 9/20 [Train]: 100%|██████████| 45/45 [00:06<00:00,  7.43it/s]\n",
      "[('snow', 'rime')] Epoch 9/20 [Val]: 100%|██████████| 6/6 [00:00<00:00,  9.04it/s]\n"
     ]
    },
    {
     "name": "stdout",
     "output_type": "stream",
     "text": [
      "Epoch 9/20 | Train Acc: 0.905 | Val Acc: 0.871\n",
      "✅ Saved best model to ../../models/binary_models\\snow_rime_BinaryWeatherClassifier_LowRes.pth (val_acc=0.871)\n"
     ]
    },
    {
     "name": "stderr",
     "output_type": "stream",
     "text": [
      "[('snow', 'rime')] Epoch 10/20 [Train]: 100%|██████████| 45/45 [00:06<00:00,  7.37it/s]\n",
      "[('snow', 'rime')] Epoch 10/20 [Val]: 100%|██████████| 6/6 [00:00<00:00,  8.70it/s]\n"
     ]
    },
    {
     "name": "stdout",
     "output_type": "stream",
     "text": [
      "Epoch 10/20 | Train Acc: 0.918 | Val Acc: 0.831\n"
     ]
    },
    {
     "name": "stderr",
     "output_type": "stream",
     "text": [
      "[('snow', 'rime')] Epoch 11/20 [Train]: 100%|██████████| 45/45 [00:06<00:00,  7.43it/s]\n",
      "[('snow', 'rime')] Epoch 11/20 [Val]: 100%|██████████| 6/6 [00:00<00:00,  9.15it/s]\n"
     ]
    },
    {
     "name": "stdout",
     "output_type": "stream",
     "text": [
      "Epoch 11/20 | Train Acc: 0.922 | Val Acc: 0.826\n"
     ]
    },
    {
     "name": "stderr",
     "output_type": "stream",
     "text": [
      "[('snow', 'rime')] Epoch 12/20 [Train]: 100%|██████████| 45/45 [00:05<00:00,  7.50it/s]\n",
      "[('snow', 'rime')] Epoch 12/20 [Val]: 100%|██████████| 6/6 [00:00<00:00,  9.03it/s]\n"
     ]
    },
    {
     "name": "stdout",
     "output_type": "stream",
     "text": [
      "Epoch 12/20 | Train Acc: 0.926 | Val Acc: 0.865\n"
     ]
    },
    {
     "name": "stderr",
     "output_type": "stream",
     "text": [
      "[('snow', 'rime')] Epoch 13/20 [Train]: 100%|██████████| 45/45 [00:06<00:00,  7.43it/s]\n",
      "[('snow', 'rime')] Epoch 13/20 [Val]: 100%|██████████| 6/6 [00:00<00:00,  9.00it/s]\n"
     ]
    },
    {
     "name": "stdout",
     "output_type": "stream",
     "text": [
      "Epoch 13/20 | Train Acc: 0.932 | Val Acc: 0.871\n"
     ]
    },
    {
     "name": "stderr",
     "output_type": "stream",
     "text": [
      "[('snow', 'rime')] Epoch 14/20 [Train]: 100%|██████████| 45/45 [00:06<00:00,  7.49it/s]\n",
      "[('snow', 'rime')] Epoch 14/20 [Val]: 100%|██████████| 6/6 [00:00<00:00,  9.07it/s]\n"
     ]
    },
    {
     "name": "stdout",
     "output_type": "stream",
     "text": [
      "Epoch 14/20 | Train Acc: 0.942 | Val Acc: 0.871\n"
     ]
    },
    {
     "name": "stderr",
     "output_type": "stream",
     "text": [
      "[('snow', 'rime')] Epoch 15/20 [Train]: 100%|██████████| 45/45 [00:06<00:00,  7.48it/s]\n",
      "[('snow', 'rime')] Epoch 15/20 [Val]: 100%|██████████| 6/6 [00:00<00:00,  9.14it/s]\n"
     ]
    },
    {
     "name": "stdout",
     "output_type": "stream",
     "text": [
      "Epoch 15/20 | Train Acc: 0.949 | Val Acc: 0.860\n"
     ]
    },
    {
     "name": "stderr",
     "output_type": "stream",
     "text": [
      "[('snow', 'rime')] Epoch 16/20 [Train]: 100%|██████████| 45/45 [00:05<00:00,  7.51it/s]\n",
      "[('snow', 'rime')] Epoch 16/20 [Val]: 100%|██████████| 6/6 [00:00<00:00,  9.09it/s]\n"
     ]
    },
    {
     "name": "stdout",
     "output_type": "stream",
     "text": [
      "Epoch 16/20 | Train Acc: 0.942 | Val Acc: 0.837\n"
     ]
    },
    {
     "name": "stderr",
     "output_type": "stream",
     "text": [
      "[('snow', 'rime')] Epoch 17/20 [Train]: 100%|██████████| 45/45 [00:05<00:00,  7.51it/s]\n",
      "[('snow', 'rime')] Epoch 17/20 [Val]: 100%|██████████| 6/6 [00:00<00:00,  9.12it/s]\n"
     ]
    },
    {
     "name": "stdout",
     "output_type": "stream",
     "text": [
      "Epoch 17/20 | Train Acc: 0.968 | Val Acc: 0.860\n"
     ]
    },
    {
     "name": "stderr",
     "output_type": "stream",
     "text": [
      "[('snow', 'rime')] Epoch 18/20 [Train]: 100%|██████████| 45/45 [00:06<00:00,  7.47it/s]\n",
      "[('snow', 'rime')] Epoch 18/20 [Val]: 100%|██████████| 6/6 [00:00<00:00,  9.09it/s]\n"
     ]
    },
    {
     "name": "stdout",
     "output_type": "stream",
     "text": [
      "Epoch 18/20 | Train Acc: 0.954 | Val Acc: 0.843\n"
     ]
    },
    {
     "name": "stderr",
     "output_type": "stream",
     "text": [
      "[('snow', 'rime')] Epoch 19/20 [Train]: 100%|██████████| 45/45 [00:06<00:00,  7.43it/s]\n",
      "[('snow', 'rime')] Epoch 19/20 [Val]: 100%|██████████| 6/6 [00:00<00:00,  9.02it/s]\n"
     ]
    },
    {
     "name": "stdout",
     "output_type": "stream",
     "text": [
      "Epoch 19/20 | Train Acc: 0.973 | Val Acc: 0.831\n"
     ]
    },
    {
     "name": "stderr",
     "output_type": "stream",
     "text": [
      "[('snow', 'rime')] Epoch 20/20 [Train]: 100%|██████████| 45/45 [00:06<00:00,  7.47it/s]\n",
      "[('snow', 'rime')] Epoch 20/20 [Val]: 100%|██████████| 6/6 [00:00<00:00,  9.14it/s]\n"
     ]
    },
    {
     "name": "stdout",
     "output_type": "stream",
     "text": [
      "Epoch 20/20 | Train Acc: 0.959 | Val Acc: 0.876\n",
      "✅ Saved best model to ../../models/binary_models\\snow_rime_BinaryWeatherClassifier_LowRes.pth (val_acc=0.876)\n",
      "\n",
      "============================\n",
      " Training pair: ('glaze', 'hail')\n",
      "============================\n",
      "✅ Mean for ('glaze', 'hail'): [0.5060855150222778, 0.49888840317726135, 0.47253933548927307]\n",
      "✅ Std for ('glaze', 'hail'): [0.25102534890174866, 0.24959474802017212, 0.27025383710861206]\n"
     ]
    },
    {
     "name": "stderr",
     "output_type": "stream",
     "text": [
      "[('glaze', 'hail')] Epoch 1/20 [Train]: 100%|██████████| 31/31 [00:06<00:00,  4.56it/s]\n",
      "[('glaze', 'hail')] Epoch 1/20 [Val]: 100%|██████████| 4/4 [00:01<00:00,  3.89it/s]\n"
     ]
    },
    {
     "name": "stdout",
     "output_type": "stream",
     "text": [
      "Epoch 1/20 | Train Acc: 0.684 | Val Acc: 0.787\n",
      "✅ Saved best model to ../../models/binary_models\\glaze_hail_BinaryWeatherClassifier_HighRes.pth (val_acc=0.787)\n"
     ]
    },
    {
     "name": "stderr",
     "output_type": "stream",
     "text": [
      "[('glaze', 'hail')] Epoch 2/20 [Train]: 100%|██████████| 31/31 [00:06<00:00,  4.71it/s]\n",
      "[('glaze', 'hail')] Epoch 2/20 [Val]: 100%|██████████| 4/4 [00:00<00:00,  7.57it/s]\n"
     ]
    },
    {
     "name": "stdout",
     "output_type": "stream",
     "text": [
      "Epoch 2/20 | Train Acc: 0.771 | Val Acc: 0.697\n"
     ]
    },
    {
     "name": "stderr",
     "output_type": "stream",
     "text": [
      "[('glaze', 'hail')] Epoch 3/20 [Train]: 100%|██████████| 31/31 [00:06<00:00,  4.67it/s]\n",
      "[('glaze', 'hail')] Epoch 3/20 [Val]: 100%|██████████| 4/4 [00:00<00:00,  7.74it/s]\n"
     ]
    },
    {
     "name": "stdout",
     "output_type": "stream",
     "text": [
      "Epoch 3/20 | Train Acc: 0.756 | Val Acc: 0.803\n",
      "✅ Saved best model to ../../models/binary_models\\glaze_hail_BinaryWeatherClassifier_HighRes.pth (val_acc=0.803)\n"
     ]
    },
    {
     "name": "stderr",
     "output_type": "stream",
     "text": [
      "[('glaze', 'hail')] Epoch 4/20 [Train]: 100%|██████████| 31/31 [00:06<00:00,  4.64it/s]\n",
      "[('glaze', 'hail')] Epoch 4/20 [Val]: 100%|██████████| 4/4 [00:00<00:00,  7.51it/s]\n"
     ]
    },
    {
     "name": "stdout",
     "output_type": "stream",
     "text": [
      "Epoch 4/20 | Train Acc: 0.770 | Val Acc: 0.762\n"
     ]
    },
    {
     "name": "stderr",
     "output_type": "stream",
     "text": [
      "[('glaze', 'hail')] Epoch 5/20 [Train]: 100%|██████████| 31/31 [00:06<00:00,  4.67it/s]\n",
      "[('glaze', 'hail')] Epoch 5/20 [Val]: 100%|██████████| 4/4 [00:00<00:00,  6.21it/s]\n"
     ]
    },
    {
     "name": "stdout",
     "output_type": "stream",
     "text": [
      "Epoch 5/20 | Train Acc: 0.798 | Val Acc: 0.803\n"
     ]
    },
    {
     "name": "stderr",
     "output_type": "stream",
     "text": [
      "[('glaze', 'hail')] Epoch 6/20 [Train]: 100%|██████████| 31/31 [00:07<00:00,  4.12it/s]\n",
      "[('glaze', 'hail')] Epoch 6/20 [Val]: 100%|██████████| 4/4 [00:00<00:00,  7.11it/s]\n"
     ]
    },
    {
     "name": "stdout",
     "output_type": "stream",
     "text": [
      "Epoch 6/20 | Train Acc: 0.805 | Val Acc: 0.795\n"
     ]
    },
    {
     "name": "stderr",
     "output_type": "stream",
     "text": [
      "[('glaze', 'hail')] Epoch 7/20 [Train]: 100%|██████████| 31/31 [00:06<00:00,  4.71it/s]\n",
      "[('glaze', 'hail')] Epoch 7/20 [Val]: 100%|██████████| 4/4 [00:00<00:00,  7.79it/s]\n"
     ]
    },
    {
     "name": "stdout",
     "output_type": "stream",
     "text": [
      "Epoch 7/20 | Train Acc: 0.802 | Val Acc: 0.795\n"
     ]
    },
    {
     "name": "stderr",
     "output_type": "stream",
     "text": [
      "[('glaze', 'hail')] Epoch 8/20 [Train]: 100%|██████████| 31/31 [00:06<00:00,  4.68it/s]\n",
      "[('glaze', 'hail')] Epoch 8/20 [Val]: 100%|██████████| 4/4 [00:00<00:00,  6.50it/s]\n"
     ]
    },
    {
     "name": "stdout",
     "output_type": "stream",
     "text": [
      "Epoch 8/20 | Train Acc: 0.827 | Val Acc: 0.787\n"
     ]
    },
    {
     "name": "stderr",
     "output_type": "stream",
     "text": [
      "[('glaze', 'hail')] Epoch 9/20 [Train]: 100%|██████████| 31/31 [00:07<00:00,  4.12it/s]\n",
      "[('glaze', 'hail')] Epoch 9/20 [Val]: 100%|██████████| 4/4 [00:00<00:00,  6.10it/s]\n"
     ]
    },
    {
     "name": "stdout",
     "output_type": "stream",
     "text": [
      "Epoch 9/20 | Train Acc: 0.812 | Val Acc: 0.779\n"
     ]
    },
    {
     "name": "stderr",
     "output_type": "stream",
     "text": [
      "[('glaze', 'hail')] Epoch 10/20 [Train]: 100%|██████████| 31/31 [00:06<00:00,  4.70it/s]\n",
      "[('glaze', 'hail')] Epoch 10/20 [Val]: 100%|██████████| 4/4 [00:00<00:00,  7.61it/s]\n"
     ]
    },
    {
     "name": "stdout",
     "output_type": "stream",
     "text": [
      "Epoch 10/20 | Train Acc: 0.823 | Val Acc: 0.811\n",
      "✅ Saved best model to ../../models/binary_models\\glaze_hail_BinaryWeatherClassifier_HighRes.pth (val_acc=0.811)\n"
     ]
    },
    {
     "name": "stderr",
     "output_type": "stream",
     "text": [
      "[('glaze', 'hail')] Epoch 11/20 [Train]: 100%|██████████| 31/31 [00:06<00:00,  4.65it/s]\n",
      "[('glaze', 'hail')] Epoch 11/20 [Val]: 100%|██████████| 4/4 [00:00<00:00,  7.32it/s]\n"
     ]
    },
    {
     "name": "stdout",
     "output_type": "stream",
     "text": [
      "Epoch 11/20 | Train Acc: 0.827 | Val Acc: 0.836\n",
      "✅ Saved best model to ../../models/binary_models\\glaze_hail_BinaryWeatherClassifier_HighRes.pth (val_acc=0.836)\n"
     ]
    },
    {
     "name": "stderr",
     "output_type": "stream",
     "text": [
      "[('glaze', 'hail')] Epoch 12/20 [Train]: 100%|██████████| 31/31 [00:07<00:00,  4.06it/s]\n",
      "[('glaze', 'hail')] Epoch 12/20 [Val]: 100%|██████████| 4/4 [00:00<00:00,  5.39it/s]\n"
     ]
    },
    {
     "name": "stdout",
     "output_type": "stream",
     "text": [
      "Epoch 12/20 | Train Acc: 0.849 | Val Acc: 0.811\n"
     ]
    },
    {
     "name": "stderr",
     "output_type": "stream",
     "text": [
      "[('glaze', 'hail')] Epoch 13/20 [Train]: 100%|██████████| 31/31 [00:07<00:00,  4.30it/s]\n",
      "[('glaze', 'hail')] Epoch 13/20 [Val]: 100%|██████████| 4/4 [00:00<00:00,  7.65it/s]\n"
     ]
    },
    {
     "name": "stdout",
     "output_type": "stream",
     "text": [
      "Epoch 13/20 | Train Acc: 0.856 | Val Acc: 0.836\n"
     ]
    },
    {
     "name": "stderr",
     "output_type": "stream",
     "text": [
      "[('glaze', 'hail')] Epoch 14/20 [Train]: 100%|██████████| 31/31 [00:09<00:00,  3.38it/s]\n",
      "[('glaze', 'hail')] Epoch 14/20 [Val]: 100%|██████████| 4/4 [00:00<00:00,  7.35it/s]\n"
     ]
    },
    {
     "name": "stdout",
     "output_type": "stream",
     "text": [
      "Epoch 14/20 | Train Acc: 0.877 | Val Acc: 0.844\n",
      "✅ Saved best model to ../../models/binary_models\\glaze_hail_BinaryWeatherClassifier_HighRes.pth (val_acc=0.844)\n"
     ]
    },
    {
     "name": "stderr",
     "output_type": "stream",
     "text": [
      "[('glaze', 'hail')] Epoch 15/20 [Train]: 100%|██████████| 31/31 [00:07<00:00,  4.26it/s]\n",
      "[('glaze', 'hail')] Epoch 15/20 [Val]: 100%|██████████| 4/4 [00:00<00:00,  6.08it/s]\n"
     ]
    },
    {
     "name": "stdout",
     "output_type": "stream",
     "text": [
      "Epoch 15/20 | Train Acc: 0.882 | Val Acc: 0.836\n"
     ]
    },
    {
     "name": "stderr",
     "output_type": "stream",
     "text": [
      "[('glaze', 'hail')] Epoch 16/20 [Train]: 100%|██████████| 31/31 [00:06<00:00,  4.44it/s]\n",
      "[('glaze', 'hail')] Epoch 16/20 [Val]: 100%|██████████| 4/4 [00:00<00:00,  7.60it/s]\n"
     ]
    },
    {
     "name": "stdout",
     "output_type": "stream",
     "text": [
      "Epoch 16/20 | Train Acc: 0.889 | Val Acc: 0.869\n",
      "✅ Saved best model to ../../models/binary_models\\glaze_hail_BinaryWeatherClassifier_HighRes.pth (val_acc=0.869)\n"
     ]
    },
    {
     "name": "stderr",
     "output_type": "stream",
     "text": [
      "[('glaze', 'hail')] Epoch 17/20 [Train]: 100%|██████████| 31/31 [00:06<00:00,  4.62it/s]\n",
      "[('glaze', 'hail')] Epoch 17/20 [Val]: 100%|██████████| 4/4 [00:00<00:00,  7.39it/s]\n"
     ]
    },
    {
     "name": "stdout",
     "output_type": "stream",
     "text": [
      "Epoch 17/20 | Train Acc: 0.892 | Val Acc: 0.861\n"
     ]
    },
    {
     "name": "stderr",
     "output_type": "stream",
     "text": [
      "[('glaze', 'hail')] Epoch 18/20 [Train]: 100%|██████████| 31/31 [00:07<00:00,  4.26it/s]\n",
      "[('glaze', 'hail')] Epoch 18/20 [Val]: 100%|██████████| 4/4 [00:00<00:00,  5.87it/s]\n"
     ]
    },
    {
     "name": "stdout",
     "output_type": "stream",
     "text": [
      "Epoch 18/20 | Train Acc: 0.892 | Val Acc: 0.787\n"
     ]
    },
    {
     "name": "stderr",
     "output_type": "stream",
     "text": [
      "[('glaze', 'hail')] Epoch 19/20 [Train]: 100%|██████████| 31/31 [00:07<00:00,  4.04it/s]\n",
      "[('glaze', 'hail')] Epoch 19/20 [Val]: 100%|██████████| 4/4 [00:00<00:00,  7.52it/s]\n"
     ]
    },
    {
     "name": "stdout",
     "output_type": "stream",
     "text": [
      "Epoch 19/20 | Train Acc: 0.900 | Val Acc: 0.852\n"
     ]
    },
    {
     "name": "stderr",
     "output_type": "stream",
     "text": [
      "[('glaze', 'hail')] Epoch 20/20 [Train]: 100%|██████████| 31/31 [00:06<00:00,  4.66it/s]\n",
      "[('glaze', 'hail')] Epoch 20/20 [Val]: 100%|██████████| 4/4 [00:00<00:00,  7.40it/s]\n"
     ]
    },
    {
     "name": "stdout",
     "output_type": "stream",
     "text": [
      "Epoch 20/20 | Train Acc: 0.924 | Val Acc: 0.861\n",
      "✅ Mean for ('glaze', 'hail'): [0.506080150604248, 0.4988827407360077, 0.472531795501709]\n",
      "✅ Std for ('glaze', 'hail'): [0.2365281730890274, 0.23455429077148438, 0.2550962567329407]\n"
     ]
    },
    {
     "name": "stderr",
     "output_type": "stream",
     "text": [
      "[('glaze', 'hail')] Epoch 1/20 [Train]: 100%|██████████| 31/31 [00:03<00:00,  9.32it/s]\n",
      "[('glaze', 'hail')] Epoch 1/20 [Val]: 100%|██████████| 4/4 [00:00<00:00,  9.62it/s]\n"
     ]
    },
    {
     "name": "stdout",
     "output_type": "stream",
     "text": [
      "Epoch 1/20 | Train Acc: 0.685 | Val Acc: 0.820\n",
      "✅ Saved best model to ../../models/binary_models\\glaze_hail_BinaryWeatherClassifier_LowRes.pth (val_acc=0.820)\n"
     ]
    },
    {
     "name": "stderr",
     "output_type": "stream",
     "text": [
      "[('glaze', 'hail')] Epoch 2/20 [Train]: 100%|██████████| 31/31 [00:04<00:00,  6.52it/s]\n",
      "[('glaze', 'hail')] Epoch 2/20 [Val]: 100%|██████████| 4/4 [00:00<00:00,  9.30it/s]\n"
     ]
    },
    {
     "name": "stdout",
     "output_type": "stream",
     "text": [
      "Epoch 2/20 | Train Acc: 0.817 | Val Acc: 0.754\n"
     ]
    },
    {
     "name": "stderr",
     "output_type": "stream",
     "text": [
      "[('glaze', 'hail')] Epoch 3/20 [Train]: 100%|██████████| 31/31 [00:03<00:00,  8.13it/s]\n",
      "[('glaze', 'hail')] Epoch 3/20 [Val]: 100%|██████████| 4/4 [00:00<00:00, 12.40it/s]\n"
     ]
    },
    {
     "name": "stdout",
     "output_type": "stream",
     "text": [
      "Epoch 3/20 | Train Acc: 0.857 | Val Acc: 0.861\n",
      "✅ Saved best model to ../../models/binary_models\\glaze_hail_BinaryWeatherClassifier_LowRes.pth (val_acc=0.861)\n"
     ]
    },
    {
     "name": "stderr",
     "output_type": "stream",
     "text": [
      "[('glaze', 'hail')] Epoch 4/20 [Train]: 100%|██████████| 31/31 [00:03<00:00,  8.83it/s]\n",
      "[('glaze', 'hail')] Epoch 4/20 [Val]: 100%|██████████| 4/4 [00:00<00:00, 12.52it/s]\n"
     ]
    },
    {
     "name": "stdout",
     "output_type": "stream",
     "text": [
      "Epoch 4/20 | Train Acc: 0.855 | Val Acc: 0.803\n"
     ]
    },
    {
     "name": "stderr",
     "output_type": "stream",
     "text": [
      "[('glaze', 'hail')] Epoch 5/20 [Train]: 100%|██████████| 31/31 [00:03<00:00,  9.02it/s]\n",
      "[('glaze', 'hail')] Epoch 5/20 [Val]: 100%|██████████| 4/4 [00:00<00:00, 12.42it/s]\n"
     ]
    },
    {
     "name": "stdout",
     "output_type": "stream",
     "text": [
      "Epoch 5/20 | Train Acc: 0.870 | Val Acc: 0.803\n"
     ]
    },
    {
     "name": "stderr",
     "output_type": "stream",
     "text": [
      "[('glaze', 'hail')] Epoch 6/20 [Train]: 100%|██████████| 31/31 [00:03<00:00,  8.95it/s]\n",
      "[('glaze', 'hail')] Epoch 6/20 [Val]: 100%|██████████| 4/4 [00:00<00:00, 11.86it/s]\n"
     ]
    },
    {
     "name": "stdout",
     "output_type": "stream",
     "text": [
      "Epoch 6/20 | Train Acc: 0.888 | Val Acc: 0.869\n",
      "✅ Saved best model to ../../models/binary_models\\glaze_hail_BinaryWeatherClassifier_LowRes.pth (val_acc=0.869)\n"
     ]
    },
    {
     "name": "stderr",
     "output_type": "stream",
     "text": [
      "[('glaze', 'hail')] Epoch 7/20 [Train]: 100%|██████████| 31/31 [00:03<00:00,  8.72it/s]\n",
      "[('glaze', 'hail')] Epoch 7/20 [Val]: 100%|██████████| 4/4 [00:00<00:00, 11.52it/s]\n"
     ]
    },
    {
     "name": "stdout",
     "output_type": "stream",
     "text": [
      "Epoch 7/20 | Train Acc: 0.917 | Val Acc: 0.852\n"
     ]
    },
    {
     "name": "stderr",
     "output_type": "stream",
     "text": [
      "[('glaze', 'hail')] Epoch 8/20 [Train]: 100%|██████████| 31/31 [00:03<00:00,  8.88it/s]\n",
      "[('glaze', 'hail')] Epoch 8/20 [Val]: 100%|██████████| 4/4 [00:00<00:00, 12.59it/s]\n"
     ]
    },
    {
     "name": "stdout",
     "output_type": "stream",
     "text": [
      "Epoch 8/20 | Train Acc: 0.914 | Val Acc: 0.869\n"
     ]
    },
    {
     "name": "stderr",
     "output_type": "stream",
     "text": [
      "[('glaze', 'hail')] Epoch 9/20 [Train]: 100%|██████████| 31/31 [00:03<00:00,  9.00it/s]\n",
      "[('glaze', 'hail')] Epoch 9/20 [Val]: 100%|██████████| 4/4 [00:00<00:00, 12.79it/s]\n"
     ]
    },
    {
     "name": "stdout",
     "output_type": "stream",
     "text": [
      "Epoch 9/20 | Train Acc: 0.910 | Val Acc: 0.852\n"
     ]
    },
    {
     "name": "stderr",
     "output_type": "stream",
     "text": [
      "[('glaze', 'hail')] Epoch 10/20 [Train]: 100%|██████████| 31/31 [00:03<00:00,  9.03it/s]\n",
      "[('glaze', 'hail')] Epoch 10/20 [Val]: 100%|██████████| 4/4 [00:00<00:00, 12.66it/s]\n"
     ]
    },
    {
     "name": "stdout",
     "output_type": "stream",
     "text": [
      "Epoch 10/20 | Train Acc: 0.942 | Val Acc: 0.918\n",
      "✅ Saved best model to ../../models/binary_models\\glaze_hail_BinaryWeatherClassifier_LowRes.pth (val_acc=0.918)\n"
     ]
    },
    {
     "name": "stderr",
     "output_type": "stream",
     "text": [
      "[('glaze', 'hail')] Epoch 11/20 [Train]: 100%|██████████| 31/31 [00:03<00:00,  8.94it/s]\n",
      "[('glaze', 'hail')] Epoch 11/20 [Val]: 100%|██████████| 4/4 [00:00<00:00, 12.20it/s]\n"
     ]
    },
    {
     "name": "stdout",
     "output_type": "stream",
     "text": [
      "Epoch 11/20 | Train Acc: 0.923 | Val Acc: 0.893\n"
     ]
    },
    {
     "name": "stderr",
     "output_type": "stream",
     "text": [
      "[('glaze', 'hail')] Epoch 12/20 [Train]: 100%|██████████| 31/31 [00:03<00:00,  9.04it/s]\n",
      "[('glaze', 'hail')] Epoch 12/20 [Val]: 100%|██████████| 4/4 [00:00<00:00, 12.60it/s]\n"
     ]
    },
    {
     "name": "stdout",
     "output_type": "stream",
     "text": [
      "Epoch 12/20 | Train Acc: 0.933 | Val Acc: 0.910\n"
     ]
    },
    {
     "name": "stderr",
     "output_type": "stream",
     "text": [
      "[('glaze', 'hail')] Epoch 13/20 [Train]: 100%|██████████| 31/31 [00:03<00:00,  8.98it/s]\n",
      "[('glaze', 'hail')] Epoch 13/20 [Val]: 100%|██████████| 4/4 [00:00<00:00, 12.71it/s]\n"
     ]
    },
    {
     "name": "stdout",
     "output_type": "stream",
     "text": [
      "Epoch 13/20 | Train Acc: 0.956 | Val Acc: 0.893\n"
     ]
    },
    {
     "name": "stderr",
     "output_type": "stream",
     "text": [
      "[('glaze', 'hail')] Epoch 14/20 [Train]: 100%|██████████| 31/31 [00:03<00:00,  9.05it/s]\n",
      "[('glaze', 'hail')] Epoch 14/20 [Val]: 100%|██████████| 4/4 [00:00<00:00, 12.56it/s]\n"
     ]
    },
    {
     "name": "stdout",
     "output_type": "stream",
     "text": [
      "Epoch 14/20 | Train Acc: 0.976 | Val Acc: 0.926\n",
      "✅ Saved best model to ../../models/binary_models\\glaze_hail_BinaryWeatherClassifier_LowRes.pth (val_acc=0.926)\n"
     ]
    },
    {
     "name": "stderr",
     "output_type": "stream",
     "text": [
      "[('glaze', 'hail')] Epoch 15/20 [Train]: 100%|██████████| 31/31 [00:03<00:00,  8.91it/s]\n",
      "[('glaze', 'hail')] Epoch 15/20 [Val]: 100%|██████████| 4/4 [00:00<00:00, 12.13it/s]\n"
     ]
    },
    {
     "name": "stdout",
     "output_type": "stream",
     "text": [
      "Epoch 15/20 | Train Acc: 0.973 | Val Acc: 0.877\n"
     ]
    },
    {
     "name": "stderr",
     "output_type": "stream",
     "text": [
      "[('glaze', 'hail')] Epoch 16/20 [Train]: 100%|██████████| 31/31 [00:03<00:00,  9.02it/s]\n",
      "[('glaze', 'hail')] Epoch 16/20 [Val]: 100%|██████████| 4/4 [00:00<00:00, 12.85it/s]\n"
     ]
    },
    {
     "name": "stdout",
     "output_type": "stream",
     "text": [
      "Epoch 16/20 | Train Acc: 0.977 | Val Acc: 0.926\n"
     ]
    },
    {
     "name": "stderr",
     "output_type": "stream",
     "text": [
      "[('glaze', 'hail')] Epoch 17/20 [Train]: 100%|██████████| 31/31 [00:03<00:00,  9.06it/s]\n",
      "[('glaze', 'hail')] Epoch 17/20 [Val]: 100%|██████████| 4/4 [00:00<00:00, 12.62it/s]\n"
     ]
    },
    {
     "name": "stdout",
     "output_type": "stream",
     "text": [
      "Epoch 17/20 | Train Acc: 0.972 | Val Acc: 0.918\n"
     ]
    },
    {
     "name": "stderr",
     "output_type": "stream",
     "text": [
      "[('glaze', 'hail')] Epoch 18/20 [Train]: 100%|██████████| 31/31 [00:03<00:00,  9.01it/s]\n",
      "[('glaze', 'hail')] Epoch 18/20 [Val]: 100%|██████████| 4/4 [00:00<00:00, 12.79it/s]\n"
     ]
    },
    {
     "name": "stdout",
     "output_type": "stream",
     "text": [
      "Epoch 18/20 | Train Acc: 0.957 | Val Acc: 0.893\n"
     ]
    },
    {
     "name": "stderr",
     "output_type": "stream",
     "text": [
      "[('glaze', 'hail')] Epoch 19/20 [Train]: 100%|██████████| 31/31 [00:03<00:00,  9.03it/s]\n",
      "[('glaze', 'hail')] Epoch 19/20 [Val]: 100%|██████████| 4/4 [00:00<00:00, 12.40it/s]\n"
     ]
    },
    {
     "name": "stdout",
     "output_type": "stream",
     "text": [
      "Epoch 19/20 | Train Acc: 0.974 | Val Acc: 0.885\n"
     ]
    },
    {
     "name": "stderr",
     "output_type": "stream",
     "text": [
      "[('glaze', 'hail')] Epoch 20/20 [Train]: 100%|██████████| 31/31 [00:03<00:00,  9.09it/s]\n",
      "[('glaze', 'hail')] Epoch 20/20 [Val]: 100%|██████████| 4/4 [00:00<00:00, 12.84it/s]"
     ]
    },
    {
     "name": "stdout",
     "output_type": "stream",
     "text": [
      "Epoch 20/20 | Train Acc: 0.967 | Val Acc: 0.869\n"
     ]
    },
    {
     "name": "stderr",
     "output_type": "stream",
     "text": [
      "\n"
     ]
    }
   ],
   "source": [
    "confused_pairs = [\n",
    "    (\"frost\", \"glaze\"),\n",
    "    (\"rain\", \"lightning\"),\n",
    "    (\"snow\", \"rime\"),\n",
    "    (\"glaze\", \"hail\"),\n",
    "]\n",
    "\n",
    "train_dir = \"../../data/train\"\n",
    "val_dir = \"../../data/val\"\n",
    "save_dir = \"../../models/binary_models\"\n",
    "device = \"cuda\" if torch.cuda.is_available() else \"cpu\"\n",
    "\n",
    "for pair in confused_pairs:\n",
    "    print(f\"\\n============================\")\n",
    "    print(f\" Training pair: {pair}\")\n",
    "    print(f\"============================\")\n",
    "\n",
    "    # HighRes\n",
    "    train_binary_pair(BinaryWeatherClassifier_HighRes, pair,\n",
    "                      train_dir=train_dir,\n",
    "                      val_dir=val_dir,\n",
    "                      save_dir=save_dir,\n",
    "                      device=device, epochs=20)\n",
    "\n",
    "    # LowRes\n",
    "    train_binary_pair(BinaryWeatherClassifier_LowRes, pair,\n",
    "                      train_dir=train_dir,\n",
    "                      val_dir=val_dir,\n",
    "                      save_dir=save_dir,\n",
    "                      device=device, epochs=20)\n"
   ]
  },
  {
   "cell_type": "code",
   "execution_count": 21,
   "id": "7c550716",
   "metadata": {},
   "outputs": [],
   "source": [
    "def evaluate_model_and_confusion(model, model_path, class_pair, dataset_root, device=\"cuda\", save_dir=None):\n",
    "    # Pick transform\n",
    "    if \"HighRes\" in model_path:\n",
    "        mean, std = compute_mean_std_for_pair_from_path(dataset_root, class_pair, resize=(224, 224))\n",
    "        transform = transforms.Compose([transforms.Resize((224, 224)), transforms.ToTensor(), transforms.Normalize(mean.tolist(), std.tolist())])\n",
    "    else:\n",
    "        mean, std = compute_mean_std_for_pair_from_path(dataset_root, class_pair, resize=(64, 64))\n",
    "        transform = transforms.Compose([transforms.Resize((64, 64)), transforms.ToTensor(), transforms.Normalize(mean.tolist(), std.tolist())])\n",
    "\n",
    "    dataset = WeatherDataset(dataset_root, transform=transform)\n",
    "    subset, collate_fn = create_binary_dataset(dataset, class_pair)\n",
    "    loader = DataLoader(subset, batch_size=32, shuffle=False, collate_fn=collate_fn)\n",
    "\n",
    "    model.load_state_dict(torch.load(model_path, map_location=device))\n",
    "    model.to(device)\n",
    "    model.eval()\n",
    "\n",
    "    all_preds, all_labels = [], []\n",
    "    with torch.no_grad():\n",
    "        for imgs, labels in tqdm(loader, desc=f\"[{class_pair}] Confusion\"):\n",
    "            imgs = imgs.to(device)\n",
    "            outputs = model(imgs)\n",
    "            preds = outputs.argmax(1).cpu().numpy()\n",
    "            all_preds.extend(preds)\n",
    "            all_labels.extend(labels.numpy())\n",
    "\n",
    "    # ✅ Normalized confusion matrix\n",
    "    cm = confusion_matrix(all_labels, all_preds, labels=[0, 1], normalize=\"true\")\n",
    "    disp = ConfusionMatrixDisplay(confusion_matrix=cm, display_labels=list(class_pair))\n",
    "\n",
    "    plt.figure(figsize=(4, 4))\n",
    "    disp.plot(cmap=\"Blues\", values_format=\".2f\", ax=plt.gca(), colorbar=True)\n",
    "    plt.title(f\"Normalized Confusion Matrix\\n{class_pair} | {os.path.basename(model_path)}\")\n",
    "\n",
    "    if save_dir:\n",
    "        os.makedirs(save_dir, exist_ok=True)\n",
    "        out_path = os.path.join(save_dir, f\"{class_pair[0]}_{class_pair[1]}_{os.path.basename(model_path)}.png\")\n",
    "        plt.savefig(out_path, bbox_inches=\"tight\")\n",
    "        print(f\"📊 Saved normalized confusion matrix to: {out_path}\")\n",
    "\n",
    "    plt.show()\n",
    "\n"
   ]
  },
  {
   "cell_type": "code",
   "execution_count": 22,
   "id": "1d01f398",
   "metadata": {},
   "outputs": [
    {
     "name": "stderr",
     "output_type": "stream",
     "text": [
      "C:\\Users\\joaqu\\AppData\\Local\\Temp\\ipykernel_40200\\1194454162.py:14: FutureWarning: You are using `torch.load` with `weights_only=False` (the current default value), which uses the default pickle module implicitly. It is possible to construct malicious pickle data which will execute arbitrary code during unpickling (See https://github.com/pytorch/pytorch/blob/main/SECURITY.md#untrusted-models for more details). In a future release, the default value for `weights_only` will be flipped to `True`. This limits the functions that could be executed during unpickling. Arbitrary objects will no longer be allowed to be loaded via this mode unless they are explicitly allowlisted by the user via `torch.serialization.add_safe_globals`. We recommend you start setting `weights_only=True` for any use case where you don't have full control of the loaded file. Please open an issue on GitHub for any issues related to this experimental feature.\n",
      "  model.load_state_dict(torch.load(model_path, map_location=device))\n"
     ]
    },
    {
     "name": "stdout",
     "output_type": "stream",
     "text": [
      "✅ Mean for ('frost', 'glaze'): [0.4763202667236328, 0.456674188375473, 0.43694648146629333]\n",
      "✅ Std for ('frost', 'glaze'): [0.24940644204616547, 0.24940237402915955, 0.268440842628479]\n"
     ]
    },
    {
     "name": "stderr",
     "output_type": "stream",
     "text": [
      "[('frost', 'glaze')] Confusion: 100%|██████████| 4/4 [00:00<00:00,  4.71it/s]\n"
     ]
    },
    {
     "name": "stdout",
     "output_type": "stream",
     "text": [
      "📊 Saved normalized confusion matrix to: ../../reports/confusion_matrices_binary\\frost_glaze_frost_glaze_BinaryWeatherClassifier_HighRes.pth.png\n"
     ]
    },
    {
     "data": {
      "image/png": "[encoded data removed]",
      "text/plain": [
       "<Figure size 400x400 with 2 Axes>"
      ]
     },
     "metadata": {},
     "output_type": "display_data"
    },
    {
     "name": "stderr",
     "output_type": "stream",
     "text": [
      "C:\\Users\\joaqu\\AppData\\Local\\Temp\\ipykernel_40200\\1194454162.py:14: FutureWarning: You are using `torch.load` with `weights_only=False` (the current default value), which uses the default pickle module implicitly. It is possible to construct malicious pickle data which will execute arbitrary code during unpickling (See https://github.com/pytorch/pytorch/blob/main/SECURITY.md#untrusted-models for more details). In a future release, the default value for `weights_only` will be flipped to `True`. This limits the functions that could be executed during unpickling. Arbitrary objects will no longer be allowed to be loaded via this mode unless they are explicitly allowlisted by the user via `torch.serialization.add_safe_globals`. We recommend you start setting `weights_only=True` for any use case where you don't have full control of the loaded file. Please open an issue on GitHub for any issues related to this experimental feature.\n",
      "  model.load_state_dict(torch.load(model_path, map_location=device))\n"
     ]
    },
    {
     "name": "stdout",
     "output_type": "stream",
     "text": [
      "✅ Mean for ('frost', 'glaze'): [0.476299524307251, 0.4566517174243927, 0.4369232952594757]\n",
      "✅ Std for ('frost', 'glaze'): [0.23138631880283356, 0.23056510090827942, 0.24899671971797943]\n"
     ]
    },
    {
     "name": "stderr",
     "output_type": "stream",
     "text": [
      "[('frost', 'glaze')] Confusion: 100%|██████████| 4/4 [00:00<00:00,  9.92it/s]\n"
     ]
    },
    {
     "name": "stdout",
     "output_type": "stream",
     "text": [
      "📊 Saved normalized confusion matrix to: ../../reports/confusion_matrices_binary\\frost_glaze_frost_glaze_BinaryWeatherClassifier_LowRes.pth.png\n"
     ]
    },
    {
     "data": {
      "image/png": "[encoded data removed]",
      "text/plain": [
       "<Figure size 400x400 with 2 Axes>"
      ]
     },
     "metadata": {},
     "output_type": "display_data"
    },
    {
     "name": "stderr",
     "output_type": "stream",
     "text": [
      "C:\\Users\\joaqu\\AppData\\Local\\Temp\\ipykernel_40200\\1194454162.py:14: FutureWarning: You are using `torch.load` with `weights_only=False` (the current default value), which uses the default pickle module implicitly. It is possible to construct malicious pickle data which will execute arbitrary code during unpickling (See https://github.com/pytorch/pytorch/blob/main/SECURITY.md#untrusted-models for more details). In a future release, the default value for `weights_only` will be flipped to `True`. This limits the functions that could be executed during unpickling. Arbitrary objects will no longer be allowed to be loaded via this mode unless they are explicitly allowlisted by the user via `torch.serialization.add_safe_globals`. We recommend you start setting `weights_only=True` for any use case where you don't have full control of the loaded file. Please open an issue on GitHub for any issues related to this experimental feature.\n",
      "  model.load_state_dict(torch.load(model_path, map_location=device))\n"
     ]
    },
    {
     "name": "stdout",
     "output_type": "stream",
     "text": [
      "✅ Mean for ('glaze', 'hail'): [0.5001680850982666, 0.48850947618484497, 0.461542010307312]\n",
      "✅ Std for ('glaze', 'hail'): [0.24370715022087097, 0.24648168683052063, 0.2654019296169281]\n"
     ]
    },
    {
     "name": "stderr",
     "output_type": "stream",
     "text": [
      "[('glaze', 'hail')] Confusion: 100%|██████████| 4/4 [00:00<00:00,  5.89it/s]\n"
     ]
    },
    {
     "name": "stdout",
     "output_type": "stream",
     "text": [
      "📊 Saved normalized confusion matrix to: ../../reports/confusion_matrices_binary\\glaze_hail_glaze_hail_BinaryWeatherClassifier_HighRes.pth.png\n"
     ]
    },
    {
     "data": {
      "image/png": "[encoded data removed]",
      "text/plain": [
       "<Figure size 400x400 with 2 Axes>"
      ]
     },
     "metadata": {},
     "output_type": "display_data"
    },
    {
     "name": "stderr",
     "output_type": "stream",
     "text": [
      "C:\\Users\\joaqu\\AppData\\Local\\Temp\\ipykernel_40200\\1194454162.py:14: FutureWarning: You are using `torch.load` with `weights_only=False` (the current default value), which uses the default pickle module implicitly. It is possible to construct malicious pickle data which will execute arbitrary code during unpickling (See https://github.com/pytorch/pytorch/blob/main/SECURITY.md#untrusted-models for more details). In a future release, the default value for `weights_only` will be flipped to `True`. This limits the functions that could be executed during unpickling. Arbitrary objects will no longer be allowed to be loaded via this mode unless they are explicitly allowlisted by the user via `torch.serialization.add_safe_globals`. We recommend you start setting `weights_only=True` for any use case where you don't have full control of the loaded file. Please open an issue on GitHub for any issues related to this experimental feature.\n",
      "  model.load_state_dict(torch.load(model_path, map_location=device))\n"
     ]
    },
    {
     "name": "stdout",
     "output_type": "stream",
     "text": [
      "✅ Mean for ('glaze', 'hail'): [0.500155508518219, 0.4884960353374481, 0.46153023838996887]\n",
      "✅ Std for ('glaze', 'hail'): [0.22874481976032257, 0.23119734227657318, 0.2500659227371216]\n"
     ]
    },
    {
     "name": "stderr",
     "output_type": "stream",
     "text": [
      "[('glaze', 'hail')] Confusion: 100%|██████████| 4/4 [00:00<00:00, 14.18it/s]\n"
     ]
    },
    {
     "name": "stdout",
     "output_type": "stream",
     "text": [
      "📊 Saved normalized confusion matrix to: ../../reports/confusion_matrices_binary\\glaze_hail_glaze_hail_BinaryWeatherClassifier_LowRes.pth.png\n"
     ]
    },
    {
     "data": {
      "image/png": "[encoded data removed]",
      "text/plain": [
       "<Figure size 400x400 with 2 Axes>"
      ]
     },
     "metadata": {},
     "output_type": "display_data"
    },
    {
     "name": "stderr",
     "output_type": "stream",
     "text": [
      "C:\\Users\\joaqu\\AppData\\Local\\Temp\\ipykernel_40200\\1194454162.py:14: FutureWarning: You are using `torch.load` with `weights_only=False` (the current default value), which uses the default pickle module implicitly. It is possible to construct malicious pickle data which will execute arbitrary code during unpickling (See https://github.com/pytorch/pytorch/blob/main/SECURITY.md#untrusted-models for more details). In a future release, the default value for `weights_only` will be flipped to `True`. This limits the functions that could be executed during unpickling. Arbitrary objects will no longer be allowed to be loaded via this mode unless they are explicitly allowlisted by the user via `torch.serialization.add_safe_globals`. We recommend you start setting `weights_only=True` for any use case where you don't have full control of the loaded file. Please open an issue on GitHub for any issues related to this experimental feature.\n",
      "  model.load_state_dict(torch.load(model_path, map_location=device))\n"
     ]
    },
    {
     "name": "stdout",
     "output_type": "stream",
     "text": [
      "✅ Mean for ('rain', 'lightning'): [0.40540605783462524, 0.4011022448539734, 0.4364049434661865]\n",
      "✅ Std for ('rain', 'lightning'): [0.25916212797164917, 0.24848033487796783, 0.2513923645019531]\n"
     ]
    },
    {
     "name": "stderr",
     "output_type": "stream",
     "text": [
      "[('rain', 'lightning')] Confusion: 100%|██████████| 3/3 [00:00<00:00,  4.43it/s]\n"
     ]
    },
    {
     "name": "stdout",
     "output_type": "stream",
     "text": [
      "📊 Saved normalized confusion matrix to: ../../reports/confusion_matrices_binary\\rain_lightning_rain_lightning_BinaryWeatherClassifier_HighRes.pth.png\n"
     ]
    },
    {
     "data": {
      "image/png": "[encoded data removed]",
      "text/plain": [
       "<Figure size 400x400 with 2 Axes>"
      ]
     },
     "metadata": {},
     "output_type": "display_data"
    },
    {
     "name": "stderr",
     "output_type": "stream",
     "text": [
      "C:\\Users\\joaqu\\AppData\\Local\\Temp\\ipykernel_40200\\1194454162.py:14: FutureWarning: You are using `torch.load` with `weights_only=False` (the current default value), which uses the default pickle module implicitly. It is possible to construct malicious pickle data which will execute arbitrary code during unpickling (See https://github.com/pytorch/pytorch/blob/main/SECURITY.md#untrusted-models for more details). In a future release, the default value for `weights_only` will be flipped to `True`. This limits the functions that could be executed during unpickling. Arbitrary objects will no longer be allowed to be loaded via this mode unless they are explicitly allowlisted by the user via `torch.serialization.add_safe_globals`. We recommend you start setting `weights_only=True` for any use case where you don't have full control of the loaded file. Please open an issue on GitHub for any issues related to this experimental feature.\n",
      "  model.load_state_dict(torch.load(model_path, map_location=device))\n"
     ]
    },
    {
     "name": "stdout",
     "output_type": "stream",
     "text": [
      "✅ Mean for ('rain', 'lightning'): [0.40541496872901917, 0.40111133456230164, 0.4364151358604431]\n",
      "✅ Std for ('rain', 'lightning'): [0.2514418065547943, 0.24068015813827515, 0.2440265715122223]\n"
     ]
    },
    {
     "name": "stderr",
     "output_type": "stream",
     "text": [
      "[('rain', 'lightning')] Confusion: 100%|██████████| 3/3 [00:00<00:00, 13.17it/s]\n"
     ]
    },
    {
     "name": "stdout",
     "output_type": "stream",
     "text": [
      "📊 Saved normalized confusion matrix to: ../../reports/confusion_matrices_binary\\rain_lightning_rain_lightning_BinaryWeatherClassifier_LowRes.pth.png\n"
     ]
    },
    {
     "data": {
      "image/png": "[encoded data removed]",
      "text/plain": [
       "<Figure size 400x400 with 2 Axes>"
      ]
     },
     "metadata": {},
     "output_type": "display_data"
    },
    {
     "name": "stderr",
     "output_type": "stream",
     "text": [
      "C:\\Users\\joaqu\\AppData\\Local\\Temp\\ipykernel_40200\\1194454162.py:14: FutureWarning: You are using `torch.load` with `weights_only=False` (the current default value), which uses the default pickle module implicitly. It is possible to construct malicious pickle data which will execute arbitrary code during unpickling (See https://github.com/pytorch/pytorch/blob/main/SECURITY.md#untrusted-models for more details). In a future release, the default value for `weights_only` will be flipped to `True`. This limits the functions that could be executed during unpickling. Arbitrary objects will no longer be allowed to be loaded via this mode unless they are explicitly allowlisted by the user via `torch.serialization.add_safe_globals`. We recommend you start setting `weights_only=True` for any use case where you don't have full control of the loaded file. Please open an issue on GitHub for any issues related to this experimental feature.\n",
      "  model.load_state_dict(torch.load(model_path, map_location=device))\n"
     ]
    },
    {
     "name": "stdout",
     "output_type": "stream",
     "text": [
      "✅ Mean for ('snow', 'rime'): [0.5908545851707458, 0.6246269345283508, 0.6763631105422974]\n",
      "✅ Std for ('snow', 'rime'): [0.2331772744655609, 0.21253950893878937, 0.21617785096168518]\n"
     ]
    },
    {
     "name": "stderr",
     "output_type": "stream",
     "text": [
      "[('snow', 'rime')] Confusion: 100%|██████████| 6/6 [00:01<00:00,  4.71it/s]\n"
     ]
    },
    {
     "name": "stdout",
     "output_type": "stream",
     "text": [
      "📊 Saved normalized confusion matrix to: ../../reports/confusion_matrices_binary\\snow_rime_snow_rime_BinaryWeatherClassifier_HighRes.pth.png\n"
     ]
    },
    {
     "data": {
      "image/png": "[encoded data removed]",
      "text/plain": [
       "<Figure size 400x400 with 2 Axes>"
      ]
     },
     "metadata": {},
     "output_type": "display_data"
    },
    {
     "name": "stderr",
     "output_type": "stream",
     "text": [
      "C:\\Users\\joaqu\\AppData\\Local\\Temp\\ipykernel_40200\\1194454162.py:14: FutureWarning: You are using `torch.load` with `weights_only=False` (the current default value), which uses the default pickle module implicitly. It is possible to construct malicious pickle data which will execute arbitrary code during unpickling (See https://github.com/pytorch/pytorch/blob/main/SECURITY.md#untrusted-models for more details). In a future release, the default value for `weights_only` will be flipped to `True`. This limits the functions that could be executed during unpickling. Arbitrary objects will no longer be allowed to be loaded via this mode unless they are explicitly allowlisted by the user via `torch.serialization.add_safe_globals`. We recommend you start setting `weights_only=True` for any use case where you don't have full control of the loaded file. Please open an issue on GitHub for any issues related to this experimental feature.\n",
      "  model.load_state_dict(torch.load(model_path, map_location=device))\n"
     ]
    },
    {
     "name": "stdout",
     "output_type": "stream",
     "text": [
      "✅ Mean for ('snow', 'rime'): [0.5908660292625427, 0.6246355175971985, 0.6763749718666077]\n",
      "✅ Std for ('snow', 'rime'): [0.22138717770576477, 0.20003235340118408, 0.20406150817871094]\n"
     ]
    },
    {
     "name": "stderr",
     "output_type": "stream",
     "text": [
      "[('snow', 'rime')] Confusion: 100%|██████████| 6/6 [00:00<00:00,  9.94it/s]\n"
     ]
    },
    {
     "name": "stdout",
     "output_type": "stream",
     "text": [
      "📊 Saved normalized confusion matrix to: ../../reports/confusion_matrices_binary\\snow_rime_snow_rime_BinaryWeatherClassifier_LowRes.pth.png\n"
     ]
    },
    {
     "data": {
      "image/png": "[encoded data removed]",
      "text/plain": [
       "<Figure size 400x400 with 2 Axes>"
      ]
     },
     "metadata": {},
     "output_type": "display_data"
    }
   ],
   "source": [
    "models_dir = \"../../models/binary_models\"\n",
    "val_dir = \"../../data/val\"\n",
    "device = \"cuda\" if torch.cuda.is_available() else \"cpu\"\n",
    "confusion_out = \"../../reports/confusion_matrices_binary\"\n",
    "\n",
    "# Extract class pair and model name from file name\n",
    "pattern = re.compile(r\"([a-zA-Z]+)_([a-zA-Z]+)_(BinaryWeatherClassifier_[a-zA-Z]+)\\.pth\")\n",
    "\n",
    "for fname in os.listdir(models_dir):\n",
    "    match = pattern.match(fname)\n",
    "    if not match:\n",
    "        continue\n",
    "\n",
    "    cls1, cls2, model_type = match.groups()\n",
    "    class_pair = (cls1, cls2)\n",
    "    model_path = os.path.join(models_dir, fname)\n",
    "\n",
    "    # Create model instance\n",
    "    if \"HighRes\" in model_type:\n",
    "        model = BinaryWeatherClassifier_HighRes(class_pair=class_pair)\n",
    "    else:\n",
    "        model = BinaryWeatherClassifier_LowRes(class_pair=class_pair)\n",
    "\n",
    "    evaluate_model_and_confusion(model, model_path, class_pair, val_dir, device=device, save_dir=confusion_out)\n"
   ]
  }
 ],
 "metadata": {
  "kernelspec": {
   "display_name": "Python 3",
   "language": "python",
   "name": "python3"
  },
  "language_info": {
   "codemirror_mode": {
    "name": "ipython",
    "version": 3
   },
   "file_extension": ".py",
   "mimetype": "text/x-python",
   "name": "python",
   "nbconvert_exporter": "python",
   "pygments_lexer": "ipython3",
   "version": "3.12.0"
  }
 },
 "nbformat": 4,
 "nbformat_minor": 5
}
