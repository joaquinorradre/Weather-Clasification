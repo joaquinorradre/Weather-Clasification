{
 "cells": [
  {
   "cell_type": "code",
   "execution_count": 11,
   "id": "940a4849",
   "metadata": {},
   "outputs": [],
   "source": [
    "import sys\n",
    "import os\n",
    "import pandas as pd\n",
    "# Add the root folder of your project\n",
    "root_path = os.path.abspath(os.path.join(\"..\", \"..\"))  # two levels up from experiments\n",
    "sys.path.append(root_path)\n",
    "import torch\n",
    "from torchvision import transforms\n",
    "from torch.utils.data import DataLoader\n",
    "from collections import Counter\n",
    "import torch.nn as nn\n",
    "import torch.optim as optim\n",
    "from tqdm import tqdm \n",
    "import pickle\n",
    "from functools import partial\n",
    "import matplotlib.pyplot as plt\n",
    "import seaborn as sns\n",
    "import numpy as np\n",
    "from sklearn.metrics import confusion_matrix\n",
    "\n",
    "\n",
    "from weather_classification.weather_dataset import WeatherDataset\n",
    "from weather_classification.predict import predict\n",
    "from weather_classification.modeling.cnn import CNN_V3_reg_v2\n",
    "from weather_classification.seed_utils import set_seed\n",
    "set_seed(1234)\n",
    "\n",
    "import torch"
   ]
  },
  {
   "cell_type": "code",
   "execution_count": 4,
   "id": "ae8a0582",
   "metadata": {},
   "outputs": [],
   "source": [
    "def train_model_improved(model_class, train_dir, val_dir, input_dim, num_classes=11, \n",
    "                batch_size=32, epochs=20, lr=1e-3, device=\"cuda\", optimizer=\"Adam\",\n",
    "                use_scheduler=True, label_smoothing=0.1, p_conv=None, p_fc=None):\n",
    "    \n",
    "    model_name = \"CNN_V3_reg_v2\"\n",
    "\n",
    "    PROJECT_ROOT = os.getcwd()\n",
    "\n",
    "    metrics_dir = os.path.join(PROJECT_ROOT, \"reports\", \"metrics\")\n",
    "    models_dir = os.path.join(PROJECT_ROOT, \"models\")\n",
    "\n",
    "    os.makedirs(metrics_dir, exist_ok=True)\n",
    "    os.makedirs(models_dir, exist_ok=True)\n",
    "\n",
    "    # --- Include grid search params (e.g., dropout rates) in file names ---\n",
    "    if p_conv is not None and p_fc is not None:\n",
    "        metrics_path = os.path.join(\n",
    "            metrics_dir, f\"metrics_{model_name}_{optimizer}_{p_conv}_{p_fc}.pkl\"\n",
    "        )\n",
    "        model_path = os.path.join(\n",
    "            models_dir, f\"best_model_{model_name}_{optimizer}_{p_conv}_{p_fc}.pth\"\n",
    "        )\n",
    "\n",
    "\n",
    "    mean = [0.5167, 0.5143, 0.5164]\n",
    "    std = [0.2378, 0.2359, 0.2393]\n",
    "\n",
    "    train_transform = transforms.Compose([\n",
    "        transforms.Resize((224, 224)),\n",
    "        transforms.RandomHorizontalFlip(p=0.5),  \n",
    "        transforms.ToTensor(),\n",
    "        transforms.Normalize(mean=mean, std=std)\n",
    "    ])\n",
    "    val_transform = transforms.Compose([\n",
    "        transforms.Resize((224, 224)),\n",
    "        transforms.ToTensor(),\n",
    "        transforms.Normalize(mean=mean, std=std)\n",
    "    ])\n",
    "\n",
    "\n",
    "    # Datasets with different transforms for train/val\n",
    "    train_dataset = WeatherDataset(train_dir, transform=train_transform)\n",
    "    val_dataset = WeatherDataset(val_dir, transform=val_transform)\n",
    "\n",
    "    # Dataloaders\n",
    "    train_loader = DataLoader(train_dataset, batch_size=batch_size, shuffle=True, \n",
    "                             num_workers=4, pin_memory=True)\n",
    "    val_loader = DataLoader(val_dataset, batch_size=batch_size, shuffle=False,\n",
    "                           num_workers=4, pin_memory=True)\n",
    "\n",
    "    # Calculate weights per class\n",
    "    labels = [label for _, label in train_dataset.samples]\n",
    "    class_counts = Counter(labels)\n",
    "    num_classes = len(class_counts)\n",
    "\n",
    "    total_samples = sum(class_counts.values())\n",
    "    class_weights = [total_samples / class_counts[i] for i in range(num_classes)]\n",
    "    class_weights_tensor = torch.FloatTensor(class_weights).to(device)\n",
    "\n",
    "    print(\"Class counts:\", class_counts)\n",
    "    print(\"Class weights:\", {i: f\"{w:.3f}\" for i, w in enumerate(class_weights)})\n",
    "\n",
    "    # Model\n",
    "    model = model_class(input_dim=input_dim, num_classes=num_classes).to(device)\n",
    "    \n",
    "    # Count parameters\n",
    "    total_params = sum(p.numel() for p in model.parameters())\n",
    "    trainable_params = sum(p.numel() for p in model.parameters() if p.requires_grad)\n",
    "    print(f\"\\nModel: {model_name}\")\n",
    "    print(f\"Total parameters: {total_params:,}\")\n",
    "    print(f\"Trainable parameters: {trainable_params:,}\\n\")\n",
    "\n",
    "    # Loss with label smoothing to prevent overconfidence\n",
    "    criterion = nn.CrossEntropyLoss(weight=class_weights_tensor, label_smoothing=label_smoothing)\n",
    "    \n",
    "    # Optimizer: AdamW with weight decay\n",
    "    if optimizer == \"Adam\":\n",
    "        optimizer = optim.AdamW(model.parameters(), lr=lr, weight_decay=1e-4)\n",
    "    elif optimizer == \"Momentum\":\n",
    "        optimizer = optim.SGD(model.parameters(), lr=lr, momentum=0.9)\n",
    "    else:\n",
    "        optimizer = optim.RMSprop(model.parameters(), lr=lr, alpha=0.9)\n",
    "\n",
    "    \n",
    "    # Learning rate scheduler - CRITICAL for convergence\n",
    "    if use_scheduler:\n",
    "        # ReduceLROnPlateau: reduce LR when val loss plateaus\n",
    "        scheduler = optim.lr_scheduler.ReduceLROnPlateau(\n",
    "            optimizer, mode='min', factor=0.5, patience=5, min_lr=1e-6\n",
    "        )\n",
    "        # Alternative: CosineAnnealingLR for smoother decay\n",
    "        # scheduler = optim.lr_scheduler.CosineAnnealingLR(optimizer, T_max=epochs, eta_min=1e-6)\n",
    "\n",
    "    best_val_acc = 0.0\n",
    "    best_val_loss = float('inf')\n",
    "    patience_counter = 0\n",
    "    early_stop_patience = 7  # Stop if no improvement for 7 epochs\n",
    "    \n",
    "    history = {\"train_loss\": [], \"train_acc\": [], \"val_loss\": [], \"val_acc\": [], \"lr\": []}\n",
    "\n",
    "    # Training loop\n",
    "    for epoch in range(epochs):\n",
    "        model.train()\n",
    "        running_loss, running_corrects = 0.0, 0\n",
    "\n",
    "        for imgs, labels in tqdm(train_loader, desc=f\"Epoch {epoch+1}/{epochs} [Train]\"):\n",
    "            imgs, labels = imgs.to(device), labels.to(device)\n",
    "\n",
    "            optimizer.zero_grad()\n",
    "            outputs = model(imgs)\n",
    "            loss = criterion(outputs, labels)\n",
    "            loss.backward()\n",
    "            \n",
    "            # Gradient clipping to prevent exploding gradients\n",
    "            torch.nn.utils.clip_grad_norm_(model.parameters(), max_norm=1.0)\n",
    "            \n",
    "            optimizer.step()\n",
    "\n",
    "            preds = outputs.argmax(1)\n",
    "            running_loss += loss.item() * imgs.size(0)\n",
    "            running_corrects += (preds == labels).sum().item()\n",
    "\n",
    "        epoch_loss = running_loss / len(train_dataset)\n",
    "        epoch_acc = running_corrects / len(train_dataset)\n",
    "\n",
    "        # Validation\n",
    "        model.eval()\n",
    "        val_loss, val_corrects = 0.0, 0\n",
    "        with torch.no_grad():\n",
    "            for imgs, labels in tqdm(val_loader, desc=f\"Epoch {epoch+1}/{epochs} [Val]\"):\n",
    "                imgs, labels = imgs.to(device), labels.to(device)\n",
    "                outputs = model(imgs)\n",
    "                loss = criterion(outputs, labels)\n",
    "\n",
    "                preds = outputs.argmax(1)\n",
    "                val_loss += loss.item() * imgs.size(0)\n",
    "                val_corrects += (preds == labels).sum().item()\n",
    "\n",
    "        val_loss /= len(val_dataset)\n",
    "        val_acc = val_corrects / len(val_dataset)\n",
    "        \n",
    "        # Update learning rate\n",
    "        current_lr = optimizer.param_groups[0]['lr']\n",
    "        if use_scheduler:\n",
    "            scheduler.step(val_loss)  # For ReduceLROnPlateau\n",
    "            # scheduler.step()  # For CosineAnnealingLR\n",
    "\n",
    "        # Save metrics\n",
    "        history[\"train_loss\"].append(epoch_loss)\n",
    "        history[\"train_acc\"].append(epoch_acc)\n",
    "        history[\"val_loss\"].append(val_loss)\n",
    "        history[\"val_acc\"].append(val_acc)\n",
    "        history[\"lr\"].append(current_lr)\n",
    "\n",
    "        print(f\"Epoch {epoch+1}/{epochs}: \"\n",
    "              f\"Train Loss={epoch_loss:.4f}, Train Acc={epoch_acc:.4f}, \"\n",
    "              f\"Val Loss={val_loss:.4f}, Val Acc={val_acc:.4f}, \"\n",
    "              f\"LR={current_lr:.6f}\")\n",
    "\n",
    "        # Save best model based on validation accuracy\n",
    "        if val_acc > best_val_acc:\n",
    "            best_val_acc = val_acc\n",
    "            best_val_loss = val_loss\n",
    "            patience_counter = 0\n",
    "            torch.save(model.state_dict(), model_path)\n",
    "            print(f\"✓ Best model saved in {model_path} (val_acc={val_acc:.4f})\")\n",
    "        else:\n",
    "            patience_counter += 1\n",
    "            \n",
    "        # Early stopping\n",
    "        if patience_counter >= early_stop_patience:\n",
    "            print(f\"\\nEarly stopping triggered after {epoch+1} epochs\")\n",
    "            print(f\"No improvement for {early_stop_patience} consecutive epochs\")\n",
    "            break\n",
    "\n",
    "    # Save metrics to .pkl\n",
    "    with open(metrics_path, \"wb\") as f:\n",
    "        pickle.dump(history, f)\n",
    "\n",
    "    print(f\"\\nTraining complete!\")\n",
    "    print(f\"Best val_acc: {best_val_acc:.4f}\")\n",
    "    print(f\"Best val_loss: {best_val_loss:.4f}\")\n",
    "    print(f\"Metrics saved in {metrics_path}\")\n",
    "    print(f\"Model saved in {model_path}\")\n",
    "    \n",
    "    return model, history"
   ]
  },
  {
   "cell_type": "code",
   "execution_count": null,
   "id": "7d9b030b",
   "metadata": {},
   "outputs": [
    {
     "name": "stdout",
     "output_type": "stream",
     "text": [
      "\n",
      "===== Training with optimizer: Adam =====\n",
      "\n",
      "Class counts: Counter({8: 928, 1: 680, 0: 558, 9: 553, 3: 511, 10: 496, 4: 472, 6: 420, 2: 380, 5: 301, 7: 185})\n",
      "Class weights: {0: '9.828', 1: '8.065', 2: '14.432', 3: '10.732', 4: '11.619', 5: '18.219', 6: '13.057', 7: '29.643', 8: '5.909', 9: '9.917', 10: '11.056'}\n",
      "\n",
      "Model: CNN_V3_reg_v2\n",
      "Total parameters: 6,981,035\n",
      "Trainable parameters: 6,981,035\n",
      "\n"
     ]
    },
    {
     "name": "stderr",
     "output_type": "stream",
     "text": [
      "Epoch 1/20 [Train]: 100%|██████████| 86/86 [00:29<00:00,  2.95it/s]\n",
      "Epoch 1/20 [Val]: 100%|██████████| 11/11 [00:07<00:00,  1.39it/s]\n"
     ]
    },
    {
     "name": "stdout",
     "output_type": "stream",
     "text": [
      "Epoch 1/20: Train Loss=2.2384, Train Acc=0.2225, Val Loss=2.0721, Val Acc=0.3446, LR=0.001000\n",
      "✓ Best model saved in d:\\Uni\\Master\\1 Bimestre\\Foundations\\Assignments\\Weather-Clasification\\notebooks\\experiments\\models\\best_model_CNN_V3_reg_v2_Adam.pth (val_acc=0.3446)\n"
     ]
    },
    {
     "name": "stderr",
     "output_type": "stream",
     "text": [
      "Epoch 2/20 [Train]: 100%|██████████| 86/86 [00:29<00:00,  2.94it/s]\n",
      "Epoch 2/20 [Val]: 100%|██████████| 11/11 [00:07<00:00,  1.38it/s]\n"
     ]
    },
    {
     "name": "stdout",
     "output_type": "stream",
     "text": [
      "Epoch 2/20: Train Loss=1.8961, Train Acc=0.4260, Val Loss=1.8223, Val Acc=0.5279, LR=0.001000\n",
      "✓ Best model saved in d:\\Uni\\Master\\1 Bimestre\\Foundations\\Assignments\\Weather-Clasification\\notebooks\\experiments\\models\\best_model_CNN_V3_reg_v2_Adam.pth (val_acc=0.5279)\n"
     ]
    },
    {
     "name": "stderr",
     "output_type": "stream",
     "text": [
      "Epoch 3/20 [Train]: 100%|██████████| 86/86 [00:29<00:00,  2.89it/s]\n",
      "Epoch 3/20 [Val]: 100%|██████████| 11/11 [00:08<00:00,  1.37it/s]\n"
     ]
    },
    {
     "name": "stdout",
     "output_type": "stream",
     "text": [
      "Epoch 3/20: Train Loss=1.7258, Train Acc=0.5237, Val Loss=1.6733, Val Acc=0.6056, LR=0.001000\n",
      "✓ Best model saved in d:\\Uni\\Master\\1 Bimestre\\Foundations\\Assignments\\Weather-Clasification\\notebooks\\experiments\\models\\best_model_CNN_V3_reg_v2_Adam.pth (val_acc=0.6056)\n"
     ]
    },
    {
     "name": "stderr",
     "output_type": "stream",
     "text": [
      "Epoch 4/20 [Train]: 100%|██████████| 86/86 [00:39<00:00,  2.16it/s]\n",
      "Epoch 4/20 [Val]: 100%|██████████| 11/11 [00:09<00:00,  1.17it/s]\n"
     ]
    },
    {
     "name": "stdout",
     "output_type": "stream",
     "text": [
      "Epoch 4/20: Train Loss=1.6274, Train Acc=0.5600, Val Loss=1.6480, Val Acc=0.5968, LR=0.001000\n"
     ]
    },
    {
     "name": "stderr",
     "output_type": "stream",
     "text": [
      "Epoch 5/20 [Train]: 100%|██████████| 86/86 [00:29<00:00,  2.93it/s]\n",
      "Epoch 5/20 [Val]: 100%|██████████| 11/11 [00:08<00:00,  1.33it/s]\n"
     ]
    },
    {
     "name": "stdout",
     "output_type": "stream",
     "text": [
      "Epoch 5/20: Train Loss=1.5596, Train Acc=0.6001, Val Loss=1.5494, Val Acc=0.6364, LR=0.001000\n",
      "✓ Best model saved in d:\\Uni\\Master\\1 Bimestre\\Foundations\\Assignments\\Weather-Clasification\\notebooks\\experiments\\models\\best_model_CNN_V3_reg_v2_Adam.pth (val_acc=0.6364)\n"
     ]
    },
    {
     "name": "stderr",
     "output_type": "stream",
     "text": [
      "Epoch 6/20 [Train]: 100%|██████████| 86/86 [00:31<00:00,  2.77it/s]\n",
      "Epoch 6/20 [Val]: 100%|██████████| 11/11 [00:09<00:00,  1.18it/s]\n"
     ]
    },
    {
     "name": "stdout",
     "output_type": "stream",
     "text": [
      "Epoch 6/20: Train Loss=1.4929, Train Acc=0.6233, Val Loss=1.5821, Val Acc=0.6657, LR=0.001000\n",
      "✓ Best model saved in d:\\Uni\\Master\\1 Bimestre\\Foundations\\Assignments\\Weather-Clasification\\notebooks\\experiments\\models\\best_model_CNN_V3_reg_v2_Adam.pth (val_acc=0.6657)\n"
     ]
    },
    {
     "name": "stderr",
     "output_type": "stream",
     "text": [
      "Epoch 7/20 [Train]: 100%|██████████| 86/86 [00:30<00:00,  2.85it/s]\n",
      "Epoch 7/20 [Val]: 100%|██████████| 11/11 [00:08<00:00,  1.25it/s]\n"
     ]
    },
    {
     "name": "stdout",
     "output_type": "stream",
     "text": [
      "Epoch 7/20: Train Loss=1.4748, Train Acc=0.6357, Val Loss=1.5802, Val Acc=0.6393, LR=0.001000\n"
     ]
    },
    {
     "name": "stderr",
     "output_type": "stream",
     "text": [
      "Epoch 8/20 [Train]: 100%|██████████| 86/86 [00:34<00:00,  2.49it/s]\n",
      "Epoch 8/20 [Val]: 100%|██████████| 11/11 [00:09<00:00,  1.18it/s]\n"
     ]
    },
    {
     "name": "stdout",
     "output_type": "stream",
     "text": [
      "Epoch 8/20: Train Loss=1.4529, Train Acc=0.6431, Val Loss=1.4789, Val Acc=0.6906, LR=0.001000\n",
      "✓ Best model saved in d:\\Uni\\Master\\1 Bimestre\\Foundations\\Assignments\\Weather-Clasification\\notebooks\\experiments\\models\\best_model_CNN_V3_reg_v2_Adam.pth (val_acc=0.6906)\n"
     ]
    },
    {
     "name": "stderr",
     "output_type": "stream",
     "text": [
      "Epoch 9/20 [Train]: 100%|██████████| 86/86 [00:34<00:00,  2.50it/s]\n",
      "Epoch 9/20 [Val]: 100%|██████████| 11/11 [00:09<00:00,  1.20it/s]\n"
     ]
    },
    {
     "name": "stdout",
     "output_type": "stream",
     "text": [
      "Epoch 9/20: Train Loss=1.3847, Train Acc=0.6792, Val Loss=1.4314, Val Acc=0.6686, LR=0.001000\n"
     ]
    },
    {
     "name": "stderr",
     "output_type": "stream",
     "text": [
      "Epoch 10/20 [Train]: 100%|██████████| 86/86 [00:40<00:00,  2.11it/s]\n",
      "Epoch 10/20 [Val]: 100%|██████████| 11/11 [00:08<00:00,  1.22it/s]\n"
     ]
    },
    {
     "name": "stdout",
     "output_type": "stream",
     "text": [
      "Epoch 10/20: Train Loss=1.3526, Train Acc=0.6875, Val Loss=1.4252, Val Acc=0.7023, LR=0.001000\n",
      "✓ Best model saved in d:\\Uni\\Master\\1 Bimestre\\Foundations\\Assignments\\Weather-Clasification\\notebooks\\experiments\\models\\best_model_CNN_V3_reg_v2_Adam.pth (val_acc=0.7023)\n"
     ]
    },
    {
     "name": "stderr",
     "output_type": "stream",
     "text": [
      "Epoch 11/20 [Train]: 100%|██████████| 86/86 [00:32<00:00,  2.61it/s]\n",
      "Epoch 11/20 [Val]: 100%|██████████| 11/11 [00:08<00:00,  1.25it/s]\n"
     ]
    },
    {
     "name": "stdout",
     "output_type": "stream",
     "text": [
      "Epoch 11/20: Train Loss=1.3307, Train Acc=0.6962, Val Loss=1.3819, Val Acc=0.7199, LR=0.001000\n",
      "✓ Best model saved in d:\\Uni\\Master\\1 Bimestre\\Foundations\\Assignments\\Weather-Clasification\\notebooks\\experiments\\models\\best_model_CNN_V3_reg_v2_Adam.pth (val_acc=0.7199)\n"
     ]
    },
    {
     "name": "stderr",
     "output_type": "stream",
     "text": [
      "Epoch 12/20 [Train]: 100%|██████████| 86/86 [00:30<00:00,  2.83it/s]\n",
      "Epoch 12/20 [Val]: 100%|██████████| 11/11 [00:08<00:00,  1.27it/s]\n"
     ]
    },
    {
     "name": "stdout",
     "output_type": "stream",
     "text": [
      "Epoch 12/20: Train Loss=1.2968, Train Acc=0.7130, Val Loss=1.3941, Val Acc=0.6965, LR=0.001000\n"
     ]
    },
    {
     "name": "stderr",
     "output_type": "stream",
     "text": [
      "Epoch 13/20 [Train]: 100%|██████████| 86/86 [00:35<00:00,  2.46it/s]\n",
      "Epoch 13/20 [Val]: 100%|██████████| 11/11 [00:08<00:00,  1.26it/s]\n"
     ]
    },
    {
     "name": "stdout",
     "output_type": "stream",
     "text": [
      "Epoch 13/20: Train Loss=1.2651, Train Acc=0.7323, Val Loss=1.3514, Val Acc=0.7097, LR=0.001000\n"
     ]
    },
    {
     "name": "stderr",
     "output_type": "stream",
     "text": [
      "Epoch 14/20 [Train]: 100%|██████████| 86/86 [00:30<00:00,  2.85it/s]\n",
      "Epoch 14/20 [Val]: 100%|██████████| 11/11 [00:08<00:00,  1.27it/s]\n"
     ]
    },
    {
     "name": "stdout",
     "output_type": "stream",
     "text": [
      "Epoch 14/20: Train Loss=1.2482, Train Acc=0.7365, Val Loss=1.3484, Val Acc=0.7053, LR=0.001000\n"
     ]
    },
    {
     "name": "stderr",
     "output_type": "stream",
     "text": [
      "Epoch 15/20 [Train]: 100%|██████████| 86/86 [00:33<00:00,  2.58it/s]\n",
      "Epoch 15/20 [Val]: 100%|██████████| 11/11 [00:08<00:00,  1.24it/s]\n"
     ]
    },
    {
     "name": "stdout",
     "output_type": "stream",
     "text": [
      "Epoch 15/20: Train Loss=1.2109, Train Acc=0.7553, Val Loss=1.3299, Val Acc=0.7258, LR=0.001000\n",
      "✓ Best model saved in d:\\Uni\\Master\\1 Bimestre\\Foundations\\Assignments\\Weather-Clasification\\notebooks\\experiments\\models\\best_model_CNN_V3_reg_v2_Adam.pth (val_acc=0.7258)\n"
     ]
    },
    {
     "name": "stderr",
     "output_type": "stream",
     "text": [
      "Epoch 16/20 [Train]: 100%|██████████| 86/86 [00:33<00:00,  2.56it/s]\n",
      "Epoch 16/20 [Val]: 100%|██████████| 11/11 [00:08<00:00,  1.22it/s]\n"
     ]
    },
    {
     "name": "stdout",
     "output_type": "stream",
     "text": [
      "Epoch 16/20: Train Loss=1.1821, Train Acc=0.7631, Val Loss=1.3108, Val Acc=0.7493, LR=0.001000\n",
      "✓ Best model saved in d:\\Uni\\Master\\1 Bimestre\\Foundations\\Assignments\\Weather-Clasification\\notebooks\\experiments\\models\\best_model_CNN_V3_reg_v2_Adam.pth (val_acc=0.7493)\n"
     ]
    },
    {
     "name": "stderr",
     "output_type": "stream",
     "text": [
      "Epoch 17/20 [Train]: 100%|██████████| 86/86 [00:32<00:00,  2.68it/s]\n",
      "Epoch 17/20 [Val]: 100%|██████████| 11/11 [00:08<00:00,  1.25it/s]\n"
     ]
    },
    {
     "name": "stdout",
     "output_type": "stream",
     "text": [
      "Epoch 17/20: Train Loss=1.1326, Train Acc=0.7826, Val Loss=1.2680, Val Acc=0.7317, LR=0.001000\n"
     ]
    },
    {
     "name": "stderr",
     "output_type": "stream",
     "text": [
      "Epoch 18/20 [Train]: 100%|██████████| 86/86 [00:30<00:00,  2.82it/s]\n",
      "Epoch 18/20 [Val]: 100%|██████████| 11/11 [00:09<00:00,  1.18it/s]\n"
     ]
    },
    {
     "name": "stdout",
     "output_type": "stream",
     "text": [
      "Epoch 18/20: Train Loss=1.1167, Train Acc=0.7941, Val Loss=1.2370, Val Acc=0.7683, LR=0.001000\n",
      "✓ Best model saved in d:\\Uni\\Master\\1 Bimestre\\Foundations\\Assignments\\Weather-Clasification\\notebooks\\experiments\\models\\best_model_CNN_V3_reg_v2_Adam.pth (val_acc=0.7683)\n"
     ]
    },
    {
     "name": "stderr",
     "output_type": "stream",
     "text": [
      "Epoch 19/20 [Train]: 100%|██████████| 86/86 [00:31<00:00,  2.71it/s]\n",
      "Epoch 19/20 [Val]: 100%|██████████| 11/11 [00:08<00:00,  1.27it/s]\n"
     ]
    },
    {
     "name": "stdout",
     "output_type": "stream",
     "text": [
      "Epoch 19/20: Train Loss=1.0974, Train Acc=0.8063, Val Loss=1.2655, Val Acc=0.7390, LR=0.001000\n"
     ]
    },
    {
     "name": "stderr",
     "output_type": "stream",
     "text": [
      "Epoch 20/20 [Train]: 100%|██████████| 86/86 [00:31<00:00,  2.70it/s]\n",
      "Epoch 20/20 [Val]: 100%|██████████| 11/11 [00:09<00:00,  1.13it/s]\n"
     ]
    },
    {
     "name": "stdout",
     "output_type": "stream",
     "text": [
      "Epoch 20/20: Train Loss=1.0544, Train Acc=0.8268, Val Loss=1.2204, Val Acc=0.7654, LR=0.001000\n",
      "\n",
      "Training complete!\n",
      "Best val_acc: 0.7683\n",
      "Best val_loss: 1.2370\n",
      "Metrics saved in d:\\Uni\\Master\\1 Bimestre\\Foundations\\Assignments\\Weather-Clasification\\notebooks\\experiments\\reports\\metrics\\metrics_CNN_V3_reg_v2_Adam.pkl\n",
      "Model saved in d:\\Uni\\Master\\1 Bimestre\\Foundations\\Assignments\\Weather-Clasification\\notebooks\\experiments\\models\\best_model_CNN_V3_reg_v2_Adam.pth\n",
      "\n",
      "===== Training with optimizer: Momentum =====\n",
      "\n",
      "Class counts: Counter({8: 928, 1: 680, 0: 558, 9: 553, 3: 511, 10: 496, 4: 472, 6: 420, 2: 380, 5: 301, 7: 185})\n",
      "Class weights: {0: '9.828', 1: '8.065', 2: '14.432', 3: '10.732', 4: '11.619', 5: '18.219', 6: '13.057', 7: '29.643', 8: '5.909', 9: '9.917', 10: '11.056'}\n",
      "\n",
      "Model: CNN_V3_reg_v2\n",
      "Total parameters: 6,981,035\n",
      "Trainable parameters: 6,981,035\n",
      "\n"
     ]
    },
    {
     "name": "stderr",
     "output_type": "stream",
     "text": [
      "Epoch 1/20 [Train]: 100%|██████████| 86/86 [00:31<00:00,  2.77it/s]\n",
      "Epoch 1/20 [Val]: 100%|██████████| 11/11 [00:08<00:00,  1.28it/s]\n"
     ]
    },
    {
     "name": "stdout",
     "output_type": "stream",
     "text": [
      "Epoch 1/20: Train Loss=2.4411, Train Acc=0.0830, Val Loss=2.4659, Val Acc=0.0880, LR=0.001000\n",
      "✓ Best model saved in d:\\Uni\\Master\\1 Bimestre\\Foundations\\Assignments\\Weather-Clasification\\notebooks\\experiments\\models\\best_model_CNN_V3_reg_v2_Momentum.pth (val_acc=0.0880)\n"
     ]
    },
    {
     "name": "stderr",
     "output_type": "stream",
     "text": [
      "Epoch 2/20 [Train]: 100%|██████████| 86/86 [00:33<00:00,  2.53it/s]\n",
      "Epoch 2/20 [Val]: 100%|██████████| 11/11 [00:08<00:00,  1.28it/s]\n"
     ]
    },
    {
     "name": "stdout",
     "output_type": "stream",
     "text": [
      "Epoch 2/20: Train Loss=2.4391, Train Acc=0.0857, Val Loss=2.4650, Val Acc=0.0689, LR=0.001000\n"
     ]
    },
    {
     "name": "stderr",
     "output_type": "stream",
     "text": [
      "Epoch 3/20 [Train]: 100%|██████████| 86/86 [00:30<00:00,  2.81it/s]\n",
      "Epoch 3/20 [Val]: 100%|██████████| 11/11 [00:08<00:00,  1.32it/s]\n"
     ]
    },
    {
     "name": "stdout",
     "output_type": "stream",
     "text": [
      "Epoch 3/20: Train Loss=2.4362, Train Acc=0.0770, Val Loss=2.4632, Val Acc=0.0733, LR=0.001000\n"
     ]
    },
    {
     "name": "stderr",
     "output_type": "stream",
     "text": [
      "Epoch 4/20 [Train]: 100%|██████████| 86/86 [00:30<00:00,  2.83it/s]\n",
      "Epoch 4/20 [Val]: 100%|██████████| 11/11 [00:08<00:00,  1.33it/s]\n"
     ]
    },
    {
     "name": "stdout",
     "output_type": "stream",
     "text": [
      "Epoch 4/20: Train Loss=2.4321, Train Acc=0.0804, Val Loss=2.4580, Val Acc=0.0850, LR=0.001000\n"
     ]
    },
    {
     "name": "stderr",
     "output_type": "stream",
     "text": [
      "Epoch 5/20 [Train]: 100%|██████████| 86/86 [00:30<00:00,  2.86it/s]\n",
      "Epoch 5/20 [Val]: 100%|██████████| 11/11 [00:08<00:00,  1.33it/s]\n"
     ]
    },
    {
     "name": "stdout",
     "output_type": "stream",
     "text": [
      "Epoch 5/20: Train Loss=2.4180, Train Acc=0.0879, Val Loss=2.4395, Val Acc=0.0953, LR=0.001000\n",
      "✓ Best model saved in d:\\Uni\\Master\\1 Bimestre\\Foundations\\Assignments\\Weather-Clasification\\notebooks\\experiments\\models\\best_model_CNN_V3_reg_v2_Momentum.pth (val_acc=0.0953)\n"
     ]
    },
    {
     "name": "stderr",
     "output_type": "stream",
     "text": [
      "Epoch 6/20 [Train]: 100%|██████████| 86/86 [00:30<00:00,  2.83it/s]\n",
      "Epoch 6/20 [Val]: 100%|██████████| 11/11 [00:08<00:00,  1.32it/s]\n"
     ]
    },
    {
     "name": "stdout",
     "output_type": "stream",
     "text": [
      "Epoch 6/20: Train Loss=2.3860, Train Acc=0.1492, Val Loss=2.3998, Val Acc=0.2258, LR=0.001000\n",
      "✓ Best model saved in d:\\Uni\\Master\\1 Bimestre\\Foundations\\Assignments\\Weather-Clasification\\notebooks\\experiments\\models\\best_model_CNN_V3_reg_v2_Momentum.pth (val_acc=0.2258)\n"
     ]
    },
    {
     "name": "stderr",
     "output_type": "stream",
     "text": [
      "Epoch 7/20 [Train]: 100%|██████████| 86/86 [00:31<00:00,  2.75it/s]\n",
      "Epoch 7/20 [Val]: 100%|██████████| 11/11 [00:09<00:00,  1.17it/s]\n"
     ]
    },
    {
     "name": "stdout",
     "output_type": "stream",
     "text": [
      "Epoch 7/20: Train Loss=2.3594, Train Acc=0.1997, Val Loss=2.3681, Val Acc=0.2654, LR=0.001000\n",
      "✓ Best model saved in d:\\Uni\\Master\\1 Bimestre\\Foundations\\Assignments\\Weather-Clasification\\notebooks\\experiments\\models\\best_model_CNN_V3_reg_v2_Momentum.pth (val_acc=0.2654)\n"
     ]
    },
    {
     "name": "stderr",
     "output_type": "stream",
     "text": [
      "Epoch 8/20 [Train]: 100%|██████████| 86/86 [00:33<00:00,  2.53it/s]\n",
      "Epoch 8/20 [Val]: 100%|██████████| 11/11 [00:08<00:00,  1.22it/s]\n"
     ]
    },
    {
     "name": "stdout",
     "output_type": "stream",
     "text": [
      "Epoch 8/20: Train Loss=2.3319, Train Acc=0.2319, Val Loss=2.3489, Val Acc=0.3006, LR=0.001000\n",
      "✓ Best model saved in d:\\Uni\\Master\\1 Bimestre\\Foundations\\Assignments\\Weather-Clasification\\notebooks\\experiments\\models\\best_model_CNN_V3_reg_v2_Momentum.pth (val_acc=0.3006)\n"
     ]
    },
    {
     "name": "stderr",
     "output_type": "stream",
     "text": [
      "Epoch 9/20 [Train]: 100%|██████████| 86/86 [00:31<00:00,  2.76it/s]\n",
      "Epoch 9/20 [Val]: 100%|██████████| 11/11 [00:08<00:00,  1.31it/s]\n"
     ]
    },
    {
     "name": "stdout",
     "output_type": "stream",
     "text": [
      "Epoch 9/20: Train Loss=2.3099, Train Acc=0.2505, Val Loss=2.3267, Val Acc=0.3255, LR=0.001000\n",
      "✓ Best model saved in d:\\Uni\\Master\\1 Bimestre\\Foundations\\Assignments\\Weather-Clasification\\notebooks\\experiments\\models\\best_model_CNN_V3_reg_v2_Momentum.pth (val_acc=0.3255)\n"
     ]
    },
    {
     "name": "stderr",
     "output_type": "stream",
     "text": [
      "Epoch 10/20 [Train]: 100%|██████████| 86/86 [00:35<00:00,  2.42it/s]\n",
      "Epoch 10/20 [Val]: 100%|██████████| 11/11 [00:08<00:00,  1.23it/s]\n"
     ]
    },
    {
     "name": "stdout",
     "output_type": "stream",
     "text": [
      "Epoch 10/20: Train Loss=2.2776, Train Acc=0.2695, Val Loss=2.2971, Val Acc=0.3065, LR=0.001000\n"
     ]
    },
    {
     "name": "stderr",
     "output_type": "stream",
     "text": [
      "Epoch 11/20 [Train]: 100%|██████████| 86/86 [00:31<00:00,  2.76it/s]\n",
      "Epoch 11/20 [Val]: 100%|██████████| 11/11 [00:08<00:00,  1.31it/s]\n"
     ]
    },
    {
     "name": "stdout",
     "output_type": "stream",
     "text": [
      "Epoch 11/20: Train Loss=2.2546, Train Acc=0.2728, Val Loss=2.2784, Val Acc=0.3123, LR=0.001000\n"
     ]
    },
    {
     "name": "stderr",
     "output_type": "stream",
     "text": [
      "Epoch 12/20 [Train]: 100%|██████████| 86/86 [00:30<00:00,  2.84it/s]\n",
      "Epoch 12/20 [Val]: 100%|██████████| 11/11 [00:08<00:00,  1.32it/s]\n"
     ]
    },
    {
     "name": "stdout",
     "output_type": "stream",
     "text": [
      "Epoch 12/20: Train Loss=2.2170, Train Acc=0.2903, Val Loss=2.2391, Val Acc=0.3358, LR=0.001000\n",
      "✓ Best model saved in d:\\Uni\\Master\\1 Bimestre\\Foundations\\Assignments\\Weather-Clasification\\notebooks\\experiments\\models\\best_model_CNN_V3_reg_v2_Momentum.pth (val_acc=0.3358)\n"
     ]
    },
    {
     "name": "stderr",
     "output_type": "stream",
     "text": [
      "Epoch 13/20 [Train]: 100%|██████████| 86/86 [00:30<00:00,  2.82it/s]\n",
      "Epoch 13/20 [Val]: 100%|██████████| 11/11 [00:08<00:00,  1.32it/s]\n"
     ]
    },
    {
     "name": "stdout",
     "output_type": "stream",
     "text": [
      "Epoch 13/20: Train Loss=2.1972, Train Acc=0.2914, Val Loss=2.2213, Val Acc=0.3343, LR=0.001000\n"
     ]
    },
    {
     "name": "stderr",
     "output_type": "stream",
     "text": [
      "Epoch 14/20 [Train]: 100%|██████████| 86/86 [00:30<00:00,  2.82it/s]\n",
      "Epoch 14/20 [Val]: 100%|██████████| 11/11 [00:08<00:00,  1.33it/s]\n"
     ]
    },
    {
     "name": "stdout",
     "output_type": "stream",
     "text": [
      "Epoch 14/20: Train Loss=2.1790, Train Acc=0.2983, Val Loss=2.1971, Val Acc=0.3592, LR=0.001000\n",
      "✓ Best model saved in d:\\Uni\\Master\\1 Bimestre\\Foundations\\Assignments\\Weather-Clasification\\notebooks\\experiments\\models\\best_model_CNN_V3_reg_v2_Momentum.pth (val_acc=0.3592)\n"
     ]
    },
    {
     "name": "stderr",
     "output_type": "stream",
     "text": [
      "Epoch 15/20 [Train]: 100%|██████████| 86/86 [00:30<00:00,  2.84it/s]\n",
      "Epoch 15/20 [Val]: 100%|██████████| 11/11 [00:08<00:00,  1.28it/s]\n"
     ]
    },
    {
     "name": "stdout",
     "output_type": "stream",
     "text": [
      "Epoch 15/20: Train Loss=2.1571, Train Acc=0.3076, Val Loss=2.1827, Val Acc=0.3548, LR=0.001000\n"
     ]
    },
    {
     "name": "stderr",
     "output_type": "stream",
     "text": [
      "Epoch 16/20 [Train]: 100%|██████████| 86/86 [00:30<00:00,  2.81it/s]\n",
      "Epoch 16/20 [Val]: 100%|██████████| 11/11 [00:08<00:00,  1.35it/s]\n"
     ]
    },
    {
     "name": "stdout",
     "output_type": "stream",
     "text": [
      "Epoch 16/20: Train Loss=2.1402, Train Acc=0.3224, Val Loss=2.1726, Val Acc=0.3666, LR=0.001000\n",
      "✓ Best model saved in d:\\Uni\\Master\\1 Bimestre\\Foundations\\Assignments\\Weather-Clasification\\notebooks\\experiments\\models\\best_model_CNN_V3_reg_v2_Momentum.pth (val_acc=0.3666)\n"
     ]
    },
    {
     "name": "stderr",
     "output_type": "stream",
     "text": [
      "Epoch 17/20 [Train]: 100%|██████████| 86/86 [00:30<00:00,  2.85it/s]\n",
      "Epoch 17/20 [Val]: 100%|██████████| 11/11 [00:08<00:00,  1.28it/s]\n"
     ]
    },
    {
     "name": "stdout",
     "output_type": "stream",
     "text": [
      "Epoch 17/20: Train Loss=2.1277, Train Acc=0.3306, Val Loss=2.1557, Val Acc=0.3812, LR=0.001000\n",
      "✓ Best model saved in d:\\Uni\\Master\\1 Bimestre\\Foundations\\Assignments\\Weather-Clasification\\notebooks\\experiments\\models\\best_model_CNN_V3_reg_v2_Momentum.pth (val_acc=0.3812)\n"
     ]
    },
    {
     "name": "stderr",
     "output_type": "stream",
     "text": [
      "Epoch 18/20 [Train]: 100%|██████████| 86/86 [00:29<00:00,  2.89it/s]\n",
      "Epoch 18/20 [Val]: 100%|██████████| 11/11 [00:08<00:00,  1.32it/s]\n"
     ]
    },
    {
     "name": "stdout",
     "output_type": "stream",
     "text": [
      "Epoch 18/20: Train Loss=2.1154, Train Acc=0.3313, Val Loss=2.1534, Val Acc=0.3827, LR=0.001000\n",
      "✓ Best model saved in d:\\Uni\\Master\\1 Bimestre\\Foundations\\Assignments\\Weather-Clasification\\notebooks\\experiments\\models\\best_model_CNN_V3_reg_v2_Momentum.pth (val_acc=0.3827)\n"
     ]
    },
    {
     "name": "stderr",
     "output_type": "stream",
     "text": [
      "Epoch 19/20 [Train]: 100%|██████████| 86/86 [00:29<00:00,  2.88it/s]\n",
      "Epoch 19/20 [Val]: 100%|██████████| 11/11 [00:08<00:00,  1.34it/s]\n"
     ]
    },
    {
     "name": "stdout",
     "output_type": "stream",
     "text": [
      "Epoch 19/20: Train Loss=2.1002, Train Acc=0.3466, Val Loss=2.1371, Val Acc=0.4003, LR=0.001000\n",
      "✓ Best model saved in d:\\Uni\\Master\\1 Bimestre\\Foundations\\Assignments\\Weather-Clasification\\notebooks\\experiments\\models\\best_model_CNN_V3_reg_v2_Momentum.pth (val_acc=0.4003)\n"
     ]
    },
    {
     "name": "stderr",
     "output_type": "stream",
     "text": [
      "Epoch 20/20 [Train]: 100%|██████████| 86/86 [00:30<00:00,  2.86it/s]\n",
      "Epoch 20/20 [Val]: 100%|██████████| 11/11 [00:08<00:00,  1.34it/s]\n"
     ]
    },
    {
     "name": "stdout",
     "output_type": "stream",
     "text": [
      "Epoch 20/20: Train Loss=2.0958, Train Acc=0.3425, Val Loss=2.1346, Val Acc=0.4032, LR=0.001000\n",
      "✓ Best model saved in d:\\Uni\\Master\\1 Bimestre\\Foundations\\Assignments\\Weather-Clasification\\notebooks\\experiments\\models\\best_model_CNN_V3_reg_v2_Momentum.pth (val_acc=0.4032)\n",
      "\n",
      "Training complete!\n",
      "Best val_acc: 0.4032\n",
      "Best val_loss: 2.1346\n",
      "Metrics saved in d:\\Uni\\Master\\1 Bimestre\\Foundations\\Assignments\\Weather-Clasification\\notebooks\\experiments\\reports\\metrics\\metrics_CNN_V3_reg_v2_Momentum.pkl\n",
      "Model saved in d:\\Uni\\Master\\1 Bimestre\\Foundations\\Assignments\\Weather-Clasification\\notebooks\\experiments\\models\\best_model_CNN_V3_reg_v2_Momentum.pth\n",
      "\n",
      "===== Training with optimizer: RMSprop =====\n",
      "\n",
      "Class counts: Counter({8: 928, 1: 680, 0: 558, 9: 553, 3: 511, 10: 496, 4: 472, 6: 420, 2: 380, 5: 301, 7: 185})\n",
      "Class weights: {0: '9.828', 1: '8.065', 2: '14.432', 3: '10.732', 4: '11.619', 5: '18.219', 6: '13.057', 7: '29.643', 8: '5.909', 9: '9.917', 10: '11.056'}\n",
      "\n",
      "Model: CNN_V3_reg_v2\n",
      "Total parameters: 6,981,035\n",
      "Trainable parameters: 6,981,035\n",
      "\n"
     ]
    },
    {
     "name": "stderr",
     "output_type": "stream",
     "text": [
      "Epoch 1/20 [Train]: 100%|██████████| 86/86 [00:29<00:00,  2.88it/s]\n",
      "Epoch 1/20 [Val]: 100%|██████████| 11/11 [00:08<00:00,  1.35it/s]\n"
     ]
    },
    {
     "name": "stdout",
     "output_type": "stream",
     "text": [
      "Epoch 1/20: Train Loss=2.2410, Train Acc=0.2657, Val Loss=1.9297, Val Acc=0.4399, LR=0.001000\n",
      "✓ Best model saved in d:\\Uni\\Master\\1 Bimestre\\Foundations\\Assignments\\Weather-Clasification\\notebooks\\experiments\\models\\best_model_CNN_V3_reg_v2_RMSprop.pth (val_acc=0.4399)\n"
     ]
    },
    {
     "name": "stderr",
     "output_type": "stream",
     "text": [
      "Epoch 2/20 [Train]: 100%|██████████| 86/86 [00:30<00:00,  2.84it/s]\n",
      "Epoch 2/20 [Val]: 100%|██████████| 11/11 [00:08<00:00,  1.33it/s]\n"
     ]
    },
    {
     "name": "stdout",
     "output_type": "stream",
     "text": [
      "Epoch 2/20: Train Loss=1.8546, Train Acc=0.4508, Val Loss=1.7765, Val Acc=0.5440, LR=0.001000\n",
      "✓ Best model saved in d:\\Uni\\Master\\1 Bimestre\\Foundations\\Assignments\\Weather-Clasification\\notebooks\\experiments\\models\\best_model_CNN_V3_reg_v2_RMSprop.pth (val_acc=0.5440)\n"
     ]
    },
    {
     "name": "stderr",
     "output_type": "stream",
     "text": [
      "Epoch 3/20 [Train]: 100%|██████████| 86/86 [00:29<00:00,  2.88it/s]\n",
      "Epoch 3/20 [Val]: 100%|██████████| 11/11 [00:08<00:00,  1.36it/s]\n"
     ]
    },
    {
     "name": "stdout",
     "output_type": "stream",
     "text": [
      "Epoch 3/20: Train Loss=1.6878, Train Acc=0.5399, Val Loss=1.5735, Val Acc=0.6129, LR=0.001000\n",
      "✓ Best model saved in d:\\Uni\\Master\\1 Bimestre\\Foundations\\Assignments\\Weather-Clasification\\notebooks\\experiments\\models\\best_model_CNN_V3_reg_v2_RMSprop.pth (val_acc=0.6129)\n"
     ]
    },
    {
     "name": "stderr",
     "output_type": "stream",
     "text": [
      "Epoch 4/20 [Train]: 100%|██████████| 86/86 [00:30<00:00,  2.83it/s]\n",
      "Epoch 4/20 [Val]: 100%|██████████| 11/11 [00:08<00:00,  1.32it/s]\n"
     ]
    },
    {
     "name": "stdout",
     "output_type": "stream",
     "text": [
      "Epoch 4/20: Train Loss=1.5755, Train Acc=0.5965, Val Loss=1.5556, Val Acc=0.6525, LR=0.001000\n",
      "✓ Best model saved in d:\\Uni\\Master\\1 Bimestre\\Foundations\\Assignments\\Weather-Clasification\\notebooks\\experiments\\models\\best_model_CNN_V3_reg_v2_RMSprop.pth (val_acc=0.6525)\n"
     ]
    },
    {
     "name": "stderr",
     "output_type": "stream",
     "text": [
      "Epoch 5/20 [Train]: 100%|██████████| 86/86 [00:30<00:00,  2.79it/s]\n",
      "Epoch 5/20 [Val]: 100%|██████████| 11/11 [00:08<00:00,  1.30it/s]\n"
     ]
    },
    {
     "name": "stdout",
     "output_type": "stream",
     "text": [
      "Epoch 5/20: Train Loss=1.5128, Train Acc=0.6165, Val Loss=1.5364, Val Acc=0.6730, LR=0.001000\n",
      "✓ Best model saved in d:\\Uni\\Master\\1 Bimestre\\Foundations\\Assignments\\Weather-Clasification\\notebooks\\experiments\\models\\best_model_CNN_V3_reg_v2_RMSprop.pth (val_acc=0.6730)\n"
     ]
    },
    {
     "name": "stderr",
     "output_type": "stream",
     "text": [
      "Epoch 6/20 [Train]: 100%|██████████| 86/86 [00:30<00:00,  2.82it/s]\n",
      "Epoch 6/20 [Val]: 100%|██████████| 11/11 [00:08<00:00,  1.34it/s]\n"
     ]
    },
    {
     "name": "stdout",
     "output_type": "stream",
     "text": [
      "Epoch 6/20: Train Loss=1.4478, Train Acc=0.6490, Val Loss=1.5649, Val Acc=0.6598, LR=0.001000\n"
     ]
    },
    {
     "name": "stderr",
     "output_type": "stream",
     "text": [
      "Epoch 7/20 [Train]: 100%|██████████| 86/86 [00:30<00:00,  2.85it/s]\n",
      "Epoch 7/20 [Val]: 100%|██████████| 11/11 [00:08<00:00,  1.34it/s]\n"
     ]
    },
    {
     "name": "stdout",
     "output_type": "stream",
     "text": [
      "Epoch 7/20: Train Loss=1.3952, Train Acc=0.6721, Val Loss=1.4261, Val Acc=0.6906, LR=0.001000\n",
      "✓ Best model saved in d:\\Uni\\Master\\1 Bimestre\\Foundations\\Assignments\\Weather-Clasification\\notebooks\\experiments\\models\\best_model_CNN_V3_reg_v2_RMSprop.pth (val_acc=0.6906)\n"
     ]
    },
    {
     "name": "stderr",
     "output_type": "stream",
     "text": [
      "Epoch 8/20 [Train]: 100%|██████████| 86/86 [00:30<00:00,  2.85it/s]\n",
      "Epoch 8/20 [Val]: 100%|██████████| 11/11 [00:08<00:00,  1.35it/s]\n"
     ]
    },
    {
     "name": "stdout",
     "output_type": "stream",
     "text": [
      "Epoch 8/20: Train Loss=1.3493, Train Acc=0.6955, Val Loss=1.4508, Val Acc=0.6246, LR=0.001000\n"
     ]
    },
    {
     "name": "stderr",
     "output_type": "stream",
     "text": [
      "Epoch 9/20 [Train]: 100%|██████████| 86/86 [00:29<00:00,  2.90it/s]\n",
      "Epoch 9/20 [Val]: 100%|██████████| 11/11 [00:08<00:00,  1.35it/s]\n"
     ]
    },
    {
     "name": "stdout",
     "output_type": "stream",
     "text": [
      "Epoch 9/20: Train Loss=1.2993, Train Acc=0.7148, Val Loss=1.3896, Val Acc=0.6950, LR=0.001000\n",
      "✓ Best model saved in d:\\Uni\\Master\\1 Bimestre\\Foundations\\Assignments\\Weather-Clasification\\notebooks\\experiments\\models\\best_model_CNN_V3_reg_v2_RMSprop.pth (val_acc=0.6950)\n"
     ]
    },
    {
     "name": "stderr",
     "output_type": "stream",
     "text": [
      "Epoch 10/20 [Train]: 100%|██████████| 86/86 [00:30<00:00,  2.79it/s]\n",
      "Epoch 10/20 [Val]: 100%|██████████| 11/11 [00:08<00:00,  1.33it/s]\n"
     ]
    },
    {
     "name": "stdout",
     "output_type": "stream",
     "text": [
      "Epoch 10/20: Train Loss=1.2697, Train Acc=0.7323, Val Loss=1.3072, Val Acc=0.7229, LR=0.001000\n",
      "✓ Best model saved in d:\\Uni\\Master\\1 Bimestre\\Foundations\\Assignments\\Weather-Clasification\\notebooks\\experiments\\models\\best_model_CNN_V3_reg_v2_RMSprop.pth (val_acc=0.7229)\n"
     ]
    },
    {
     "name": "stderr",
     "output_type": "stream",
     "text": [
      "Epoch 11/20 [Train]: 100%|██████████| 86/86 [00:29<00:00,  2.88it/s]\n",
      "Epoch 11/20 [Val]: 100%|██████████| 11/11 [00:08<00:00,  1.32it/s]\n"
     ]
    },
    {
     "name": "stdout",
     "output_type": "stream",
     "text": [
      "Epoch 11/20: Train Loss=1.2138, Train Acc=0.7495, Val Loss=1.3039, Val Acc=0.7229, LR=0.001000\n"
     ]
    },
    {
     "name": "stderr",
     "output_type": "stream",
     "text": [
      "Epoch 12/20 [Train]: 100%|██████████| 86/86 [00:29<00:00,  2.88it/s]\n",
      "Epoch 12/20 [Val]: 100%|██████████| 11/11 [00:08<00:00,  1.32it/s]\n"
     ]
    },
    {
     "name": "stdout",
     "output_type": "stream",
     "text": [
      "Epoch 12/20: Train Loss=1.1845, Train Acc=0.7604, Val Loss=1.2483, Val Acc=0.7507, LR=0.001000\n",
      "✓ Best model saved in d:\\Uni\\Master\\1 Bimestre\\Foundations\\Assignments\\Weather-Clasification\\notebooks\\experiments\\models\\best_model_CNN_V3_reg_v2_RMSprop.pth (val_acc=0.7507)\n"
     ]
    },
    {
     "name": "stderr",
     "output_type": "stream",
     "text": [
      "Epoch 13/20 [Train]: 100%|██████████| 86/86 [00:30<00:00,  2.83it/s]\n",
      "Epoch 13/20 [Val]: 100%|██████████| 11/11 [00:08<00:00,  1.30it/s]\n"
     ]
    },
    {
     "name": "stdout",
     "output_type": "stream",
     "text": [
      "Epoch 13/20: Train Loss=1.1441, Train Acc=0.7837, Val Loss=1.2485, Val Acc=0.7757, LR=0.001000\n",
      "✓ Best model saved in d:\\Uni\\Master\\1 Bimestre\\Foundations\\Assignments\\Weather-Clasification\\notebooks\\experiments\\models\\best_model_CNN_V3_reg_v2_RMSprop.pth (val_acc=0.7757)\n"
     ]
    },
    {
     "name": "stderr",
     "output_type": "stream",
     "text": [
      "Epoch 14/20 [Train]: 100%|██████████| 86/86 [00:29<00:00,  2.87it/s]\n",
      "Epoch 14/20 [Val]: 100%|██████████| 11/11 [00:08<00:00,  1.31it/s]\n"
     ]
    },
    {
     "name": "stdout",
     "output_type": "stream",
     "text": [
      "Epoch 14/20: Train Loss=1.1126, Train Acc=0.7961, Val Loss=1.2160, Val Acc=0.7625, LR=0.001000\n"
     ]
    },
    {
     "name": "stderr",
     "output_type": "stream",
     "text": [
      "Epoch 15/20 [Train]: 100%|██████████| 86/86 [00:30<00:00,  2.86it/s]\n",
      "Epoch 15/20 [Val]: 100%|██████████| 11/11 [00:09<00:00,  1.21it/s]\n"
     ]
    },
    {
     "name": "stdout",
     "output_type": "stream",
     "text": [
      "Epoch 15/20: Train Loss=1.0765, Train Acc=0.8142, Val Loss=1.1978, Val Acc=0.7625, LR=0.001000\n"
     ]
    },
    {
     "name": "stderr",
     "output_type": "stream",
     "text": [
      "Epoch 16/20 [Train]: 100%|██████████| 86/86 [00:31<00:00,  2.76it/s]\n",
      "Epoch 16/20 [Val]: 100%|██████████| 11/11 [00:08<00:00,  1.23it/s]\n"
     ]
    },
    {
     "name": "stdout",
     "output_type": "stream",
     "text": [
      "Epoch 16/20: Train Loss=1.0480, Train Acc=0.8259, Val Loss=1.2392, Val Acc=0.7625, LR=0.001000\n"
     ]
    },
    {
     "name": "stderr",
     "output_type": "stream",
     "text": [
      "Epoch 17/20 [Train]: 100%|██████████| 86/86 [00:30<00:00,  2.81it/s]\n",
      "Epoch 17/20 [Val]: 100%|██████████| 11/11 [00:08<00:00,  1.28it/s]\n"
     ]
    },
    {
     "name": "stdout",
     "output_type": "stream",
     "text": [
      "Epoch 17/20: Train Loss=1.0002, Train Acc=0.8497, Val Loss=1.2480, Val Acc=0.7405, LR=0.001000\n"
     ]
    },
    {
     "name": "stderr",
     "output_type": "stream",
     "text": [
      "Epoch 18/20 [Train]: 100%|██████████| 86/86 [00:30<00:00,  2.84it/s]\n",
      "Epoch 18/20 [Val]: 100%|██████████| 11/11 [00:09<00:00,  1.22it/s]\n"
     ]
    },
    {
     "name": "stdout",
     "output_type": "stream",
     "text": [
      "Epoch 18/20: Train Loss=0.9851, Train Acc=0.8550, Val Loss=1.1813, Val Acc=0.7830, LR=0.001000\n",
      "✓ Best model saved in d:\\Uni\\Master\\1 Bimestre\\Foundations\\Assignments\\Weather-Clasification\\notebooks\\experiments\\models\\best_model_CNN_V3_reg_v2_RMSprop.pth (val_acc=0.7830)\n"
     ]
    },
    {
     "name": "stderr",
     "output_type": "stream",
     "text": [
      "Epoch 19/20 [Train]: 100%|██████████| 86/86 [00:30<00:00,  2.83it/s]\n",
      "Epoch 19/20 [Val]: 100%|██████████| 11/11 [00:08<00:00,  1.26it/s]\n"
     ]
    },
    {
     "name": "stdout",
     "output_type": "stream",
     "text": [
      "Epoch 19/20: Train Loss=0.9531, Train Acc=0.8638, Val Loss=1.1844, Val Acc=0.7610, LR=0.001000\n"
     ]
    },
    {
     "name": "stderr",
     "output_type": "stream",
     "text": [
      "Epoch 20/20 [Train]: 100%|██████████| 86/86 [00:30<00:00,  2.80it/s]\n",
      "Epoch 20/20 [Val]: 100%|██████████| 11/11 [00:09<00:00,  1.17it/s]"
     ]
    },
    {
     "name": "stdout",
     "output_type": "stream",
     "text": [
      "Epoch 20/20: Train Loss=0.9316, Train Acc=0.8747, Val Loss=1.1905, Val Acc=0.7801, LR=0.001000\n",
      "\n",
      "Training complete!\n",
      "Best val_acc: 0.7830\n",
      "Best val_loss: 1.1813\n",
      "Metrics saved in d:\\Uni\\Master\\1 Bimestre\\Foundations\\Assignments\\Weather-Clasification\\notebooks\\experiments\\reports\\metrics\\metrics_CNN_V3_reg_v2_RMSprop.pkl\n",
      "Model saved in d:\\Uni\\Master\\1 Bimestre\\Foundations\\Assignments\\Weather-Clasification\\notebooks\\experiments\\models\\best_model_CNN_V3_reg_v2_RMSprop.pth\n",
      "\n",
      "===== Optimizer Grid Search Results =====\n",
      "Adam: Best val_acc = 0.7683\n",
      "Momentum: Best val_acc = 0.4032\n",
      "RMSprop: Best val_acc = 0.7830\n"
     ]
    },
    {
     "name": "stderr",
     "output_type": "stream",
     "text": [
      "\n"
     ]
    }
   ],
   "source": [
    "input_dim = 224*224*3  # matches the Resize transform\n",
    "optimizers = [\"Adam\", \"Momentum\", \"RMSprop\"]\n",
    "results_optimizer = {}\n",
    "\n",
    "for opt in optimizers:\n",
    "    print(f\"\\n===== Training with optimizer: {opt} =====\\n\")\n",
    "    \n",
    "    model, history = train_model_improved(\n",
    "        model_class=CNN_V3_reg_v2,\n",
    "        train_dir=\"../../data/train\",\n",
    "        val_dir=\"../../data/val\",\n",
    "        input_dim=input_dim,\n",
    "        num_classes=11,\n",
    "        batch_size=64,\n",
    "        epochs=20,\n",
    "        lr=1e-3,\n",
    "        device=\"cuda\" if torch.cuda.is_available() else \"cpu\",\n",
    "        optimizer=opt\n",
    "    )\n",
    "    \n",
    "    results_optimizer[opt] = {\n",
    "        \"best_val_acc\": max(history[\"val_acc\"]),\n",
    "        \"history\": history\n",
    "    }\n",
    "\n",
    "# Optional: print summary\n",
    "print(\"\\n===== Optimizer Grid Search Results =====\")\n",
    "for opt, res in results_optimizer.items():\n",
    "    print(f\"{opt}: Best val_acc = {res['best_val_acc']:.4f}\")"
   ]
  },
  {
   "cell_type": "code",
   "execution_count": 6,
   "id": "43f9da29",
   "metadata": {},
   "outputs": [
    {
     "name": "stdout",
     "output_type": "stream",
     "text": [
      "\n",
      "===== Training with p_conv=0.1, p_fc=0.3 =====\n",
      "\n",
      "Class counts: Counter({8: 928, 1: 680, 0: 558, 9: 553, 3: 511, 10: 496, 4: 472, 6: 420, 2: 380, 5: 301, 7: 185})\n",
      "Class weights: {0: '9.828', 1: '8.065', 2: '14.432', 3: '10.732', 4: '11.619', 5: '18.219', 6: '13.057', 7: '29.643', 8: '5.909', 9: '9.917', 10: '11.056'}\n",
      "\n",
      "Model: CNN_V3_reg_v2\n",
      "Total parameters: 6,981,035\n",
      "Trainable parameters: 6,981,035\n",
      "\n"
     ]
    },
    {
     "name": "stderr",
     "output_type": "stream",
     "text": [
      "Epoch 1/25 [Train]: 100%|██████████| 86/86 [00:29<00:00,  2.91it/s]\n",
      "Epoch 1/25 [Val]: 100%|██████████| 11/11 [00:07<00:00,  1.44it/s]\n"
     ]
    },
    {
     "name": "stdout",
     "output_type": "stream",
     "text": [
      "Epoch 1/25: Train Loss=2.1603, Train Acc=0.2788, Val Loss=1.9045, Val Acc=0.4194, LR=0.001000\n",
      "✓ Best model saved in d:\\Uni\\Master\\1 Bimestre\\Foundations\\Assignments\\Weather-Clasification\\notebooks\\experiments\\models\\best_model_CNN_V3_reg_v2_Adam_0.1_0.3.pth (val_acc=0.4194)\n"
     ]
    },
    {
     "name": "stderr",
     "output_type": "stream",
     "text": [
      "Epoch 2/25 [Train]: 100%|██████████| 86/86 [00:28<00:00,  2.97it/s]\n",
      "Epoch 2/25 [Val]: 100%|██████████| 11/11 [00:07<00:00,  1.42it/s]\n"
     ]
    },
    {
     "name": "stdout",
     "output_type": "stream",
     "text": [
      "Epoch 2/25: Train Loss=1.7443, Train Acc=0.4739, Val Loss=1.7874, Val Acc=0.4971, LR=0.001000\n",
      "✓ Best model saved in d:\\Uni\\Master\\1 Bimestre\\Foundations\\Assignments\\Weather-Clasification\\notebooks\\experiments\\models\\best_model_CNN_V3_reg_v2_Adam_0.1_0.3.pth (val_acc=0.4971)\n"
     ]
    },
    {
     "name": "stderr",
     "output_type": "stream",
     "text": [
      "Epoch 3/25 [Train]: 100%|██████████| 86/86 [00:29<00:00,  2.97it/s]\n",
      "Epoch 3/25 [Val]: 100%|██████████| 11/11 [00:07<00:00,  1.42it/s]\n"
     ]
    },
    {
     "name": "stdout",
     "output_type": "stream",
     "text": [
      "Epoch 3/25: Train Loss=1.6226, Train Acc=0.5538, Val Loss=1.5388, Val Acc=0.6290, LR=0.001000\n",
      "✓ Best model saved in d:\\Uni\\Master\\1 Bimestre\\Foundations\\Assignments\\Weather-Clasification\\notebooks\\experiments\\models\\best_model_CNN_V3_reg_v2_Adam_0.1_0.3.pth (val_acc=0.6290)\n"
     ]
    },
    {
     "name": "stderr",
     "output_type": "stream",
     "text": [
      "Epoch 4/25 [Train]: 100%|██████████| 86/86 [00:28<00:00,  2.98it/s]\n",
      "Epoch 4/25 [Val]: 100%|██████████| 11/11 [00:07<00:00,  1.44it/s]\n"
     ]
    },
    {
     "name": "stdout",
     "output_type": "stream",
     "text": [
      "Epoch 4/25: Train Loss=1.5281, Train Acc=0.6045, Val Loss=1.5048, Val Acc=0.6496, LR=0.001000\n",
      "✓ Best model saved in d:\\Uni\\Master\\1 Bimestre\\Foundations\\Assignments\\Weather-Clasification\\notebooks\\experiments\\models\\best_model_CNN_V3_reg_v2_Adam_0.1_0.3.pth (val_acc=0.6496)\n"
     ]
    },
    {
     "name": "stderr",
     "output_type": "stream",
     "text": [
      "Epoch 5/25 [Train]: 100%|██████████| 86/86 [00:28<00:00,  2.97it/s]\n",
      "Epoch 5/25 [Val]: 100%|██████████| 11/11 [00:07<00:00,  1.43it/s]\n"
     ]
    },
    {
     "name": "stdout",
     "output_type": "stream",
     "text": [
      "Epoch 5/25: Train Loss=1.4598, Train Acc=0.6304, Val Loss=1.4275, Val Acc=0.6935, LR=0.001000\n",
      "✓ Best model saved in d:\\Uni\\Master\\1 Bimestre\\Foundations\\Assignments\\Weather-Clasification\\notebooks\\experiments\\models\\best_model_CNN_V3_reg_v2_Adam_0.1_0.3.pth (val_acc=0.6935)\n"
     ]
    },
    {
     "name": "stderr",
     "output_type": "stream",
     "text": [
      "Epoch 6/25 [Train]: 100%|██████████| 86/86 [00:30<00:00,  2.80it/s]\n",
      "Epoch 6/25 [Val]: 100%|██████████| 11/11 [00:13<00:00,  1.22s/it]\n"
     ]
    },
    {
     "name": "stdout",
     "output_type": "stream",
     "text": [
      "Epoch 6/25: Train Loss=1.4123, Train Acc=0.6526, Val Loss=1.5393, Val Acc=0.6466, LR=0.001000\n"
     ]
    },
    {
     "name": "stderr",
     "output_type": "stream",
     "text": [
      "Epoch 7/25 [Train]: 100%|██████████| 86/86 [00:28<00:00,  2.98it/s]\n",
      "Epoch 7/25 [Val]: 100%|██████████| 11/11 [00:07<00:00,  1.41it/s]\n"
     ]
    },
    {
     "name": "stdout",
     "output_type": "stream",
     "text": [
      "Epoch 7/25: Train Loss=1.3929, Train Acc=0.6720, Val Loss=1.4551, Val Acc=0.6994, LR=0.001000\n",
      "✓ Best model saved in d:\\Uni\\Master\\1 Bimestre\\Foundations\\Assignments\\Weather-Clasification\\notebooks\\experiments\\models\\best_model_CNN_V3_reg_v2_Adam_0.1_0.3.pth (val_acc=0.6994)\n"
     ]
    },
    {
     "name": "stderr",
     "output_type": "stream",
     "text": [
      "Epoch 8/25 [Train]: 100%|██████████| 86/86 [00:29<00:00,  2.93it/s]\n",
      "Epoch 8/25 [Val]: 100%|██████████| 11/11 [00:07<00:00,  1.43it/s]\n"
     ]
    },
    {
     "name": "stdout",
     "output_type": "stream",
     "text": [
      "Epoch 8/25: Train Loss=1.3354, Train Acc=0.6847, Val Loss=1.3613, Val Acc=0.6935, LR=0.001000\n"
     ]
    },
    {
     "name": "stderr",
     "output_type": "stream",
     "text": [
      "Epoch 9/25 [Train]: 100%|██████████| 86/86 [00:28<00:00,  2.98it/s]\n",
      "Epoch 9/25 [Val]: 100%|██████████| 11/11 [00:07<00:00,  1.42it/s]\n"
     ]
    },
    {
     "name": "stdout",
     "output_type": "stream",
     "text": [
      "Epoch 9/25: Train Loss=1.3005, Train Acc=0.7000, Val Loss=1.4238, Val Acc=0.6686, LR=0.001000\n"
     ]
    },
    {
     "name": "stderr",
     "output_type": "stream",
     "text": [
      "Epoch 10/25 [Train]: 100%|██████████| 86/86 [00:29<00:00,  2.96it/s]\n",
      "Epoch 10/25 [Val]: 100%|██████████| 11/11 [00:07<00:00,  1.42it/s]\n"
     ]
    },
    {
     "name": "stdout",
     "output_type": "stream",
     "text": [
      "Epoch 10/25: Train Loss=1.2675, Train Acc=0.7228, Val Loss=1.3127, Val Acc=0.6994, LR=0.001000\n"
     ]
    },
    {
     "name": "stderr",
     "output_type": "stream",
     "text": [
      "Epoch 11/25 [Train]: 100%|██████████| 86/86 [00:28<00:00,  2.97it/s]\n",
      "Epoch 11/25 [Val]: 100%|██████████| 11/11 [00:07<00:00,  1.42it/s]\n"
     ]
    },
    {
     "name": "stdout",
     "output_type": "stream",
     "text": [
      "Epoch 11/25: Train Loss=1.2218, Train Acc=0.7354, Val Loss=1.3060, Val Acc=0.7141, LR=0.001000\n",
      "✓ Best model saved in d:\\Uni\\Master\\1 Bimestre\\Foundations\\Assignments\\Weather-Clasification\\notebooks\\experiments\\models\\best_model_CNN_V3_reg_v2_Adam_0.1_0.3.pth (val_acc=0.7141)\n"
     ]
    },
    {
     "name": "stderr",
     "output_type": "stream",
     "text": [
      "Epoch 12/25 [Train]: 100%|██████████| 86/86 [00:29<00:00,  2.96it/s]\n",
      "Epoch 12/25 [Val]: 100%|██████████| 11/11 [00:07<00:00,  1.42it/s]\n"
     ]
    },
    {
     "name": "stdout",
     "output_type": "stream",
     "text": [
      "Epoch 12/25: Train Loss=1.1921, Train Acc=0.7555, Val Loss=1.3436, Val Acc=0.7053, LR=0.001000\n"
     ]
    },
    {
     "name": "stderr",
     "output_type": "stream",
     "text": [
      "Epoch 13/25 [Train]: 100%|██████████| 86/86 [00:28<00:00,  2.98it/s]\n",
      "Epoch 13/25 [Val]: 100%|██████████| 11/11 [00:07<00:00,  1.43it/s]\n"
     ]
    },
    {
     "name": "stdout",
     "output_type": "stream",
     "text": [
      "Epoch 13/25: Train Loss=1.1419, Train Acc=0.7746, Val Loss=1.2940, Val Acc=0.7214, LR=0.001000\n",
      "✓ Best model saved in d:\\Uni\\Master\\1 Bimestre\\Foundations\\Assignments\\Weather-Clasification\\notebooks\\experiments\\models\\best_model_CNN_V3_reg_v2_Adam_0.1_0.3.pth (val_acc=0.7214)\n"
     ]
    },
    {
     "name": "stderr",
     "output_type": "stream",
     "text": [
      "Epoch 14/25 [Train]: 100%|██████████| 86/86 [00:29<00:00,  2.88it/s]\n",
      "Epoch 14/25 [Val]: 100%|██████████| 11/11 [00:07<00:00,  1.38it/s]\n"
     ]
    },
    {
     "name": "stdout",
     "output_type": "stream",
     "text": [
      "Epoch 14/25: Train Loss=1.1261, Train Acc=0.7779, Val Loss=1.2647, Val Acc=0.7581, LR=0.001000\n",
      "✓ Best model saved in d:\\Uni\\Master\\1 Bimestre\\Foundations\\Assignments\\Weather-Clasification\\notebooks\\experiments\\models\\best_model_CNN_V3_reg_v2_Adam_0.1_0.3.pth (val_acc=0.7581)\n"
     ]
    },
    {
     "name": "stderr",
     "output_type": "stream",
     "text": [
      "Epoch 15/25 [Train]: 100%|██████████| 86/86 [00:29<00:00,  2.95it/s]\n",
      "Epoch 15/25 [Val]: 100%|██████████| 11/11 [00:07<00:00,  1.42it/s]\n"
     ]
    },
    {
     "name": "stdout",
     "output_type": "stream",
     "text": [
      "Epoch 15/25: Train Loss=1.0707, Train Acc=0.8067, Val Loss=1.2235, Val Acc=0.7537, LR=0.001000\n"
     ]
    },
    {
     "name": "stderr",
     "output_type": "stream",
     "text": [
      "Epoch 16/25 [Train]: 100%|██████████| 86/86 [00:28<00:00,  2.99it/s]\n",
      "Epoch 16/25 [Val]: 100%|██████████| 11/11 [00:07<00:00,  1.43it/s]\n"
     ]
    },
    {
     "name": "stdout",
     "output_type": "stream",
     "text": [
      "Epoch 16/25: Train Loss=1.0374, Train Acc=0.8213, Val Loss=1.2062, Val Acc=0.7449, LR=0.001000\n"
     ]
    },
    {
     "name": "stderr",
     "output_type": "stream",
     "text": [
      "Epoch 17/25 [Train]: 100%|██████████| 86/86 [00:36<00:00,  2.35it/s]\n",
      "Epoch 17/25 [Val]: 100%|██████████| 11/11 [00:17<00:00,  1.55s/it]\n"
     ]
    },
    {
     "name": "stdout",
     "output_type": "stream",
     "text": [
      "Epoch 17/25: Train Loss=0.9960, Train Acc=0.8421, Val Loss=1.2282, Val Acc=0.7551, LR=0.001000\n"
     ]
    },
    {
     "name": "stderr",
     "output_type": "stream",
     "text": [
      "Epoch 18/25 [Train]: 100%|██████████| 86/86 [00:36<00:00,  2.35it/s]\n",
      "Epoch 18/25 [Val]: 100%|██████████| 11/11 [00:13<00:00,  1.19s/it]\n"
     ]
    },
    {
     "name": "stdout",
     "output_type": "stream",
     "text": [
      "Epoch 18/25: Train Loss=0.9632, Train Acc=0.8558, Val Loss=1.2743, Val Acc=0.7229, LR=0.001000\n"
     ]
    },
    {
     "name": "stderr",
     "output_type": "stream",
     "text": [
      "Epoch 19/25 [Train]: 100%|██████████| 86/86 [00:42<00:00,  2.01it/s]\n",
      "Epoch 19/25 [Val]: 100%|██████████| 11/11 [00:11<00:00,  1.04s/it]\n"
     ]
    },
    {
     "name": "stdout",
     "output_type": "stream",
     "text": [
      "Epoch 19/25: Train Loss=0.9369, Train Acc=0.8671, Val Loss=1.1804, Val Acc=0.7639, LR=0.001000\n",
      "✓ Best model saved in d:\\Uni\\Master\\1 Bimestre\\Foundations\\Assignments\\Weather-Clasification\\notebooks\\experiments\\models\\best_model_CNN_V3_reg_v2_Adam_0.1_0.3.pth (val_acc=0.7639)\n"
     ]
    },
    {
     "name": "stderr",
     "output_type": "stream",
     "text": [
      "Epoch 20/25 [Train]: 100%|██████████| 86/86 [00:36<00:00,  2.38it/s]\n",
      "Epoch 20/25 [Val]: 100%|██████████| 11/11 [00:09<00:00,  1.21it/s]\n"
     ]
    },
    {
     "name": "stdout",
     "output_type": "stream",
     "text": [
      "Epoch 20/25: Train Loss=0.9008, Train Acc=0.8838, Val Loss=1.2299, Val Acc=0.7287, LR=0.001000\n"
     ]
    },
    {
     "name": "stderr",
     "output_type": "stream",
     "text": [
      "Epoch 21/25 [Train]: 100%|██████████| 86/86 [00:42<00:00,  2.04it/s]\n",
      "Epoch 21/25 [Val]: 100%|██████████| 11/11 [00:10<00:00,  1.04it/s]\n"
     ]
    },
    {
     "name": "stdout",
     "output_type": "stream",
     "text": [
      "Epoch 21/25: Train Loss=0.8733, Train Acc=0.9001, Val Loss=1.2066, Val Acc=0.7713, LR=0.001000\n",
      "✓ Best model saved in d:\\Uni\\Master\\1 Bimestre\\Foundations\\Assignments\\Weather-Clasification\\notebooks\\experiments\\models\\best_model_CNN_V3_reg_v2_Adam_0.1_0.3.pth (val_acc=0.7713)\n"
     ]
    },
    {
     "name": "stderr",
     "output_type": "stream",
     "text": [
      "Epoch 22/25 [Train]: 100%|██████████| 86/86 [00:43<00:00,  1.99it/s]\n",
      "Epoch 22/25 [Val]: 100%|██████████| 11/11 [00:08<00:00,  1.37it/s]\n"
     ]
    },
    {
     "name": "stdout",
     "output_type": "stream",
     "text": [
      "Epoch 22/25: Train Loss=0.8506, Train Acc=0.9032, Val Loss=1.1981, Val Acc=0.7698, LR=0.001000\n"
     ]
    },
    {
     "name": "stderr",
     "output_type": "stream",
     "text": [
      "Epoch 23/25 [Train]: 100%|██████████| 86/86 [00:47<00:00,  1.80it/s]\n",
      "Epoch 23/25 [Val]: 100%|██████████| 11/11 [00:08<00:00,  1.27it/s]\n"
     ]
    },
    {
     "name": "stdout",
     "output_type": "stream",
     "text": [
      "Epoch 23/25: Train Loss=0.8311, Train Acc=0.9132, Val Loss=1.1706, Val Acc=0.7727, LR=0.001000\n",
      "✓ Best model saved in d:\\Uni\\Master\\1 Bimestre\\Foundations\\Assignments\\Weather-Clasification\\notebooks\\experiments\\models\\best_model_CNN_V3_reg_v2_Adam_0.1_0.3.pth (val_acc=0.7727)\n"
     ]
    },
    {
     "name": "stderr",
     "output_type": "stream",
     "text": [
      "Epoch 24/25 [Train]: 100%|██████████| 86/86 [00:42<00:00,  2.02it/s]\n",
      "Epoch 24/25 [Val]: 100%|██████████| 11/11 [00:07<00:00,  1.43it/s]\n"
     ]
    },
    {
     "name": "stdout",
     "output_type": "stream",
     "text": [
      "Epoch 24/25: Train Loss=0.8108, Train Acc=0.9247, Val Loss=1.2122, Val Acc=0.7683, LR=0.001000\n"
     ]
    },
    {
     "name": "stderr",
     "output_type": "stream",
     "text": [
      "Epoch 25/25 [Train]: 100%|██████████| 86/86 [00:30<00:00,  2.84it/s]\n",
      "Epoch 25/25 [Val]: 100%|██████████| 11/11 [00:07<00:00,  1.43it/s]\n"
     ]
    },
    {
     "name": "stdout",
     "output_type": "stream",
     "text": [
      "Epoch 25/25: Train Loss=0.7856, Train Acc=0.9294, Val Loss=1.1589, Val Acc=0.7742, LR=0.001000\n",
      "✓ Best model saved in d:\\Uni\\Master\\1 Bimestre\\Foundations\\Assignments\\Weather-Clasification\\notebooks\\experiments\\models\\best_model_CNN_V3_reg_v2_Adam_0.1_0.3.pth (val_acc=0.7742)\n",
      "\n",
      "Training complete!\n",
      "Best val_acc: 0.7742\n",
      "Best val_loss: 1.1589\n",
      "Metrics saved in d:\\Uni\\Master\\1 Bimestre\\Foundations\\Assignments\\Weather-Clasification\\notebooks\\experiments\\reports\\metrics\\metrics_CNN_V3_reg_v2_Adam_0.1_0.3.pkl\n",
      "Model saved in d:\\Uni\\Master\\1 Bimestre\\Foundations\\Assignments\\Weather-Clasification\\notebooks\\experiments\\models\\best_model_CNN_V3_reg_v2_Adam_0.1_0.3.pth\n",
      "\n",
      "===== Training with p_conv=0.15, p_fc=0.4 =====\n",
      "\n",
      "Class counts: Counter({8: 928, 1: 680, 0: 558, 9: 553, 3: 511, 10: 496, 4: 472, 6: 420, 2: 380, 5: 301, 7: 185})\n",
      "Class weights: {0: '9.828', 1: '8.065', 2: '14.432', 3: '10.732', 4: '11.619', 5: '18.219', 6: '13.057', 7: '29.643', 8: '5.909', 9: '9.917', 10: '11.056'}\n",
      "\n",
      "Model: CNN_V3_reg_v2\n",
      "Total parameters: 6,981,035\n",
      "Trainable parameters: 6,981,035\n",
      "\n"
     ]
    },
    {
     "name": "stderr",
     "output_type": "stream",
     "text": [
      "Epoch 1/25 [Train]: 100%|██████████| 86/86 [00:28<00:00,  3.01it/s]\n",
      "Epoch 1/25 [Val]: 100%|██████████| 11/11 [00:07<00:00,  1.44it/s]\n"
     ]
    },
    {
     "name": "stdout",
     "output_type": "stream",
     "text": [
      "Epoch 1/25: Train Loss=2.1341, Train Acc=0.2918, Val Loss=1.9064, Val Acc=0.4516, LR=0.001000\n",
      "✓ Best model saved in d:\\Uni\\Master\\1 Bimestre\\Foundations\\Assignments\\Weather-Clasification\\notebooks\\experiments\\models\\best_model_CNN_V3_reg_v2_Adam_0.15_0.4.pth (val_acc=0.4516)\n"
     ]
    },
    {
     "name": "stderr",
     "output_type": "stream",
     "text": [
      "Epoch 2/25 [Train]: 100%|██████████| 86/86 [00:29<00:00,  2.93it/s]\n",
      "Epoch 2/25 [Val]: 100%|██████████| 11/11 [00:07<00:00,  1.42it/s]\n"
     ]
    },
    {
     "name": "stdout",
     "output_type": "stream",
     "text": [
      "Epoch 2/25: Train Loss=1.8501, Train Acc=0.4447, Val Loss=1.7475, Val Acc=0.5792, LR=0.001000\n",
      "✓ Best model saved in d:\\Uni\\Master\\1 Bimestre\\Foundations\\Assignments\\Weather-Clasification\\notebooks\\experiments\\models\\best_model_CNN_V3_reg_v2_Adam_0.15_0.4.pth (val_acc=0.5792)\n"
     ]
    },
    {
     "name": "stderr",
     "output_type": "stream",
     "text": [
      "Epoch 3/25 [Train]: 100%|██████████| 86/86 [00:28<00:00,  3.01it/s]\n",
      "Epoch 3/25 [Val]: 100%|██████████| 11/11 [00:07<00:00,  1.39it/s]\n"
     ]
    },
    {
     "name": "stdout",
     "output_type": "stream",
     "text": [
      "Epoch 3/25: Train Loss=1.7214, Train Acc=0.5013, Val Loss=1.6489, Val Acc=0.5821, LR=0.001000\n",
      "✓ Best model saved in d:\\Uni\\Master\\1 Bimestre\\Foundations\\Assignments\\Weather-Clasification\\notebooks\\experiments\\models\\best_model_CNN_V3_reg_v2_Adam_0.15_0.4.pth (val_acc=0.5821)\n"
     ]
    },
    {
     "name": "stderr",
     "output_type": "stream",
     "text": [
      "Epoch 4/25 [Train]: 100%|██████████| 86/86 [00:28<00:00,  3.00it/s]\n",
      "Epoch 4/25 [Val]: 100%|██████████| 11/11 [00:07<00:00,  1.43it/s]\n"
     ]
    },
    {
     "name": "stdout",
     "output_type": "stream",
     "text": [
      "Epoch 4/25: Train Loss=1.6172, Train Acc=0.5673, Val Loss=1.6755, Val Acc=0.5601, LR=0.001000\n"
     ]
    },
    {
     "name": "stderr",
     "output_type": "stream",
     "text": [
      "Epoch 5/25 [Train]: 100%|██████████| 86/86 [00:28<00:00,  3.00it/s]\n",
      "Epoch 5/25 [Val]: 100%|██████████| 11/11 [00:07<00:00,  1.43it/s]\n"
     ]
    },
    {
     "name": "stdout",
     "output_type": "stream",
     "text": [
      "Epoch 5/25: Train Loss=1.5512, Train Acc=0.6043, Val Loss=1.5761, Val Acc=0.6276, LR=0.001000\n",
      "✓ Best model saved in d:\\Uni\\Master\\1 Bimestre\\Foundations\\Assignments\\Weather-Clasification\\notebooks\\experiments\\models\\best_model_CNN_V3_reg_v2_Adam_0.15_0.4.pth (val_acc=0.6276)\n"
     ]
    },
    {
     "name": "stderr",
     "output_type": "stream",
     "text": [
      "Epoch 6/25 [Train]: 100%|██████████| 86/86 [00:28<00:00,  2.98it/s]\n",
      "Epoch 6/25 [Val]: 100%|██████████| 11/11 [00:07<00:00,  1.43it/s]\n"
     ]
    },
    {
     "name": "stdout",
     "output_type": "stream",
     "text": [
      "Epoch 6/25: Train Loss=1.5161, Train Acc=0.6193, Val Loss=1.5284, Val Acc=0.6789, LR=0.001000\n",
      "✓ Best model saved in d:\\Uni\\Master\\1 Bimestre\\Foundations\\Assignments\\Weather-Clasification\\notebooks\\experiments\\models\\best_model_CNN_V3_reg_v2_Adam_0.15_0.4.pth (val_acc=0.6789)\n"
     ]
    },
    {
     "name": "stderr",
     "output_type": "stream",
     "text": [
      "Epoch 7/25 [Train]: 100%|██████████| 86/86 [00:29<00:00,  2.95it/s]\n",
      "Epoch 7/25 [Val]: 100%|██████████| 11/11 [00:07<00:00,  1.45it/s]\n"
     ]
    },
    {
     "name": "stdout",
     "output_type": "stream",
     "text": [
      "Epoch 7/25: Train Loss=1.4645, Train Acc=0.6377, Val Loss=1.4874, Val Acc=0.6598, LR=0.001000\n"
     ]
    },
    {
     "name": "stderr",
     "output_type": "stream",
     "text": [
      "Epoch 8/25 [Train]: 100%|██████████| 86/86 [00:28<00:00,  3.00it/s]\n",
      "Epoch 8/25 [Val]: 100%|██████████| 11/11 [00:07<00:00,  1.45it/s]\n"
     ]
    },
    {
     "name": "stdout",
     "output_type": "stream",
     "text": [
      "Epoch 8/25: Train Loss=1.4170, Train Acc=0.6612, Val Loss=1.5124, Val Acc=0.6598, LR=0.001000\n"
     ]
    },
    {
     "name": "stderr",
     "output_type": "stream",
     "text": [
      "Epoch 9/25 [Train]: 100%|██████████| 86/86 [00:28<00:00,  3.01it/s]\n",
      "Epoch 9/25 [Val]: 100%|██████████| 11/11 [00:08<00:00,  1.37it/s]\n"
     ]
    },
    {
     "name": "stdout",
     "output_type": "stream",
     "text": [
      "Epoch 9/25: Train Loss=1.3844, Train Acc=0.6705, Val Loss=1.4032, Val Acc=0.7126, LR=0.001000\n",
      "✓ Best model saved in d:\\Uni\\Master\\1 Bimestre\\Foundations\\Assignments\\Weather-Clasification\\notebooks\\experiments\\models\\best_model_CNN_V3_reg_v2_Adam_0.15_0.4.pth (val_acc=0.7126)\n"
     ]
    },
    {
     "name": "stderr",
     "output_type": "stream",
     "text": [
      "Epoch 10/25 [Train]: 100%|██████████| 86/86 [00:29<00:00,  2.89it/s]\n",
      "Epoch 10/25 [Val]: 100%|██████████| 11/11 [00:07<00:00,  1.41it/s]\n"
     ]
    },
    {
     "name": "stdout",
     "output_type": "stream",
     "text": [
      "Epoch 10/25: Train Loss=1.3345, Train Acc=0.6933, Val Loss=1.3380, Val Acc=0.7141, LR=0.001000\n",
      "✓ Best model saved in d:\\Uni\\Master\\1 Bimestre\\Foundations\\Assignments\\Weather-Clasification\\notebooks\\experiments\\models\\best_model_CNN_V3_reg_v2_Adam_0.15_0.4.pth (val_acc=0.7141)\n"
     ]
    },
    {
     "name": "stderr",
     "output_type": "stream",
     "text": [
      "Epoch 11/25 [Train]: 100%|██████████| 86/86 [00:34<00:00,  2.50it/s]\n",
      "Epoch 11/25 [Val]: 100%|██████████| 11/11 [00:07<00:00,  1.43it/s]\n"
     ]
    },
    {
     "name": "stdout",
     "output_type": "stream",
     "text": [
      "Epoch 11/25: Train Loss=1.3292, Train Acc=0.6931, Val Loss=1.3950, Val Acc=0.6935, LR=0.001000\n"
     ]
    },
    {
     "name": "stderr",
     "output_type": "stream",
     "text": [
      "Epoch 12/25 [Train]: 100%|██████████| 86/86 [00:28<00:00,  3.00it/s]\n",
      "Epoch 12/25 [Val]: 100%|██████████| 11/11 [00:07<00:00,  1.44it/s]\n"
     ]
    },
    {
     "name": "stdout",
     "output_type": "stream",
     "text": [
      "Epoch 12/25: Train Loss=1.2831, Train Acc=0.7159, Val Loss=1.3235, Val Acc=0.7155, LR=0.001000\n",
      "✓ Best model saved in d:\\Uni\\Master\\1 Bimestre\\Foundations\\Assignments\\Weather-Clasification\\notebooks\\experiments\\models\\best_model_CNN_V3_reg_v2_Adam_0.15_0.4.pth (val_acc=0.7155)\n"
     ]
    },
    {
     "name": "stderr",
     "output_type": "stream",
     "text": [
      "Epoch 13/25 [Train]: 100%|██████████| 86/86 [00:28<00:00,  2.98it/s]\n",
      "Epoch 13/25 [Val]: 100%|██████████| 11/11 [00:07<00:00,  1.43it/s]\n"
     ]
    },
    {
     "name": "stdout",
     "output_type": "stream",
     "text": [
      "Epoch 13/25: Train Loss=1.2599, Train Acc=0.7245, Val Loss=1.3277, Val Acc=0.7346, LR=0.001000\n",
      "✓ Best model saved in d:\\Uni\\Master\\1 Bimestre\\Foundations\\Assignments\\Weather-Clasification\\notebooks\\experiments\\models\\best_model_CNN_V3_reg_v2_Adam_0.15_0.4.pth (val_acc=0.7346)\n"
     ]
    },
    {
     "name": "stderr",
     "output_type": "stream",
     "text": [
      "Epoch 14/25 [Train]: 100%|██████████| 86/86 [00:28<00:00,  2.98it/s]\n",
      "Epoch 14/25 [Val]: 100%|██████████| 11/11 [00:07<00:00,  1.44it/s]\n"
     ]
    },
    {
     "name": "stdout",
     "output_type": "stream",
     "text": [
      "Epoch 14/25: Train Loss=1.2360, Train Acc=0.7327, Val Loss=1.3250, Val Acc=0.7302, LR=0.001000\n"
     ]
    },
    {
     "name": "stderr",
     "output_type": "stream",
     "text": [
      "Epoch 15/25 [Train]: 100%|██████████| 86/86 [00:29<00:00,  2.93it/s]\n",
      "Epoch 15/25 [Val]: 100%|██████████| 11/11 [00:13<00:00,  1.25s/it]\n"
     ]
    },
    {
     "name": "stdout",
     "output_type": "stream",
     "text": [
      "Epoch 15/25: Train Loss=1.2273, Train Acc=0.7378, Val Loss=1.2712, Val Acc=0.7419, LR=0.001000\n",
      "✓ Best model saved in d:\\Uni\\Master\\1 Bimestre\\Foundations\\Assignments\\Weather-Clasification\\notebooks\\experiments\\models\\best_model_CNN_V3_reg_v2_Adam_0.15_0.4.pth (val_acc=0.7419)\n"
     ]
    },
    {
     "name": "stderr",
     "output_type": "stream",
     "text": [
      "Epoch 16/25 [Train]: 100%|██████████| 86/86 [00:48<00:00,  1.78it/s]\n",
      "Epoch 16/25 [Val]: 100%|██████████| 11/11 [00:14<00:00,  1.33s/it]\n"
     ]
    },
    {
     "name": "stdout",
     "output_type": "stream",
     "text": [
      "Epoch 16/25: Train Loss=1.1892, Train Acc=0.7586, Val Loss=1.3263, Val Acc=0.7141, LR=0.001000\n"
     ]
    },
    {
     "name": "stderr",
     "output_type": "stream",
     "text": [
      "Epoch 17/25 [Train]: 100%|██████████| 86/86 [00:44<00:00,  1.95it/s]\n",
      "Epoch 17/25 [Val]: 100%|██████████| 11/11 [00:09<00:00,  1.15it/s]\n"
     ]
    },
    {
     "name": "stdout",
     "output_type": "stream",
     "text": [
      "Epoch 17/25: Train Loss=1.1528, Train Acc=0.7766, Val Loss=1.2331, Val Acc=0.7507, LR=0.001000\n",
      "✓ Best model saved in d:\\Uni\\Master\\1 Bimestre\\Foundations\\Assignments\\Weather-Clasification\\notebooks\\experiments\\models\\best_model_CNN_V3_reg_v2_Adam_0.15_0.4.pth (val_acc=0.7507)\n"
     ]
    },
    {
     "name": "stderr",
     "output_type": "stream",
     "text": [
      "Epoch 18/25 [Train]: 100%|██████████| 86/86 [00:46<00:00,  1.86it/s]\n",
      "Epoch 18/25 [Val]: 100%|██████████| 11/11 [00:08<00:00,  1.35it/s]\n"
     ]
    },
    {
     "name": "stdout",
     "output_type": "stream",
     "text": [
      "Epoch 18/25: Train Loss=1.1217, Train Acc=0.7883, Val Loss=1.2708, Val Acc=0.7390, LR=0.001000\n"
     ]
    },
    {
     "name": "stderr",
     "output_type": "stream",
     "text": [
      "Epoch 19/25 [Train]: 100%|██████████| 86/86 [00:46<00:00,  1.85it/s]\n",
      "Epoch 19/25 [Val]: 100%|██████████| 11/11 [00:11<00:00,  1.03s/it]\n"
     ]
    },
    {
     "name": "stdout",
     "output_type": "stream",
     "text": [
      "Epoch 19/25: Train Loss=1.0923, Train Acc=0.8060, Val Loss=1.3394, Val Acc=0.7038, LR=0.001000\n"
     ]
    },
    {
     "name": "stderr",
     "output_type": "stream",
     "text": [
      "Epoch 20/25 [Train]: 100%|██████████| 86/86 [00:48<00:00,  1.77it/s]\n",
      "Epoch 20/25 [Val]: 100%|██████████| 11/11 [00:09<00:00,  1.20it/s]\n"
     ]
    },
    {
     "name": "stdout",
     "output_type": "stream",
     "text": [
      "Epoch 20/25: Train Loss=1.0735, Train Acc=0.8078, Val Loss=1.2277, Val Acc=0.7595, LR=0.001000\n",
      "✓ Best model saved in d:\\Uni\\Master\\1 Bimestre\\Foundations\\Assignments\\Weather-Clasification\\notebooks\\experiments\\models\\best_model_CNN_V3_reg_v2_Adam_0.15_0.4.pth (val_acc=0.7595)\n"
     ]
    },
    {
     "name": "stderr",
     "output_type": "stream",
     "text": [
      "Epoch 21/25 [Train]: 100%|██████████| 86/86 [00:50<00:00,  1.72it/s]\n",
      "Epoch 21/25 [Val]: 100%|██████████| 11/11 [00:14<00:00,  1.28s/it]\n"
     ]
    },
    {
     "name": "stdout",
     "output_type": "stream",
     "text": [
      "Epoch 21/25: Train Loss=1.0379, Train Acc=0.8270, Val Loss=1.2282, Val Acc=0.7537, LR=0.001000\n"
     ]
    },
    {
     "name": "stderr",
     "output_type": "stream",
     "text": [
      "Epoch 22/25 [Train]: 100%|██████████| 86/86 [00:45<00:00,  1.88it/s]\n",
      "Epoch 22/25 [Val]: 100%|██████████| 11/11 [00:09<00:00,  1.14it/s]\n"
     ]
    },
    {
     "name": "stdout",
     "output_type": "stream",
     "text": [
      "Epoch 22/25: Train Loss=1.0236, Train Acc=0.8310, Val Loss=1.2079, Val Acc=0.7698, LR=0.001000\n",
      "✓ Best model saved in d:\\Uni\\Master\\1 Bimestre\\Foundations\\Assignments\\Weather-Clasification\\notebooks\\experiments\\models\\best_model_CNN_V3_reg_v2_Adam_0.15_0.4.pth (val_acc=0.7698)\n"
     ]
    },
    {
     "name": "stderr",
     "output_type": "stream",
     "text": [
      "Epoch 23/25 [Train]: 100%|██████████| 86/86 [00:35<00:00,  2.45it/s]\n",
      "Epoch 23/25 [Val]: 100%|██████████| 11/11 [00:08<00:00,  1.26it/s]\n"
     ]
    },
    {
     "name": "stdout",
     "output_type": "stream",
     "text": [
      "Epoch 23/25: Train Loss=1.0026, Train Acc=0.8445, Val Loss=1.2343, Val Acc=0.7537, LR=0.001000\n"
     ]
    },
    {
     "name": "stderr",
     "output_type": "stream",
     "text": [
      "Epoch 24/25 [Train]: 100%|██████████| 86/86 [00:42<00:00,  2.02it/s]\n",
      "Epoch 24/25 [Val]: 100%|██████████| 11/11 [00:08<00:00,  1.35it/s]\n"
     ]
    },
    {
     "name": "stdout",
     "output_type": "stream",
     "text": [
      "Epoch 24/25: Train Loss=0.9710, Train Acc=0.8545, Val Loss=1.1907, Val Acc=0.7771, LR=0.001000\n",
      "✓ Best model saved in d:\\Uni\\Master\\1 Bimestre\\Foundations\\Assignments\\Weather-Clasification\\notebooks\\experiments\\models\\best_model_CNN_V3_reg_v2_Adam_0.15_0.4.pth (val_acc=0.7771)\n"
     ]
    },
    {
     "name": "stderr",
     "output_type": "stream",
     "text": [
      "Epoch 25/25 [Train]: 100%|██████████| 86/86 [00:49<00:00,  1.75it/s]\n",
      "Epoch 25/25 [Val]: 100%|██████████| 11/11 [00:10<00:00,  1.03it/s]\n"
     ]
    },
    {
     "name": "stdout",
     "output_type": "stream",
     "text": [
      "Epoch 25/25: Train Loss=0.9416, Train Acc=0.8713, Val Loss=1.1992, Val Acc=0.7610, LR=0.001000\n",
      "\n",
      "Training complete!\n",
      "Best val_acc: 0.7771\n",
      "Best val_loss: 1.1907\n",
      "Metrics saved in d:\\Uni\\Master\\1 Bimestre\\Foundations\\Assignments\\Weather-Clasification\\notebooks\\experiments\\reports\\metrics\\metrics_CNN_V3_reg_v2_Adam_0.15_0.4.pkl\n",
      "Model saved in d:\\Uni\\Master\\1 Bimestre\\Foundations\\Assignments\\Weather-Clasification\\notebooks\\experiments\\models\\best_model_CNN_V3_reg_v2_Adam_0.15_0.4.pth\n",
      "\n",
      "===== Training with p_conv=0.2, p_fc=0.5 =====\n",
      "\n",
      "Class counts: Counter({8: 928, 1: 680, 0: 558, 9: 553, 3: 511, 10: 496, 4: 472, 6: 420, 2: 380, 5: 301, 7: 185})\n",
      "Class weights: {0: '9.828', 1: '8.065', 2: '14.432', 3: '10.732', 4: '11.619', 5: '18.219', 6: '13.057', 7: '29.643', 8: '5.909', 9: '9.917', 10: '11.056'}\n",
      "\n",
      "Model: CNN_V3_reg_v2\n",
      "Total parameters: 6,981,035\n",
      "Trainable parameters: 6,981,035\n",
      "\n"
     ]
    },
    {
     "name": "stderr",
     "output_type": "stream",
     "text": [
      "Epoch 1/25 [Train]: 100%|██████████| 86/86 [00:36<00:00,  2.33it/s]\n",
      "Epoch 1/25 [Val]: 100%|██████████| 11/11 [00:12<00:00,  1.13s/it]\n"
     ]
    },
    {
     "name": "stdout",
     "output_type": "stream",
     "text": [
      "Epoch 1/25: Train Loss=2.3073, Train Acc=0.1709, Val Loss=2.2592, Val Acc=0.2683, LR=0.001000\n",
      "✓ Best model saved in d:\\Uni\\Master\\1 Bimestre\\Foundations\\Assignments\\Weather-Clasification\\notebooks\\experiments\\models\\best_model_CNN_V3_reg_v2_Adam_0.2_0.5.pth (val_acc=0.2683)\n"
     ]
    },
    {
     "name": "stderr",
     "output_type": "stream",
     "text": [
      "Epoch 2/25 [Train]: 100%|██████████| 86/86 [00:40<00:00,  2.14it/s]\n",
      "Epoch 2/25 [Val]: 100%|██████████| 11/11 [00:09<00:00,  1.22it/s]\n"
     ]
    },
    {
     "name": "stdout",
     "output_type": "stream",
     "text": [
      "Epoch 2/25: Train Loss=1.9883, Train Acc=0.3445, Val Loss=1.8795, Val Acc=0.5205, LR=0.001000\n",
      "✓ Best model saved in d:\\Uni\\Master\\1 Bimestre\\Foundations\\Assignments\\Weather-Clasification\\notebooks\\experiments\\models\\best_model_CNN_V3_reg_v2_Adam_0.2_0.5.pth (val_acc=0.5205)\n"
     ]
    },
    {
     "name": "stderr",
     "output_type": "stream",
     "text": [
      "Epoch 3/25 [Train]: 100%|██████████| 86/86 [00:39<00:00,  2.18it/s]\n",
      "Epoch 3/25 [Val]: 100%|██████████| 11/11 [00:16<00:00,  1.47s/it]\n"
     ]
    },
    {
     "name": "stdout",
     "output_type": "stream",
     "text": [
      "Epoch 3/25: Train Loss=1.7896, Train Acc=0.4716, Val Loss=1.8278, Val Acc=0.5455, LR=0.001000\n",
      "✓ Best model saved in d:\\Uni\\Master\\1 Bimestre\\Foundations\\Assignments\\Weather-Clasification\\notebooks\\experiments\\models\\best_model_CNN_V3_reg_v2_Adam_0.2_0.5.pth (val_acc=0.5455)\n"
     ]
    },
    {
     "name": "stderr",
     "output_type": "stream",
     "text": [
      "Epoch 4/25 [Train]: 100%|██████████| 86/86 [00:35<00:00,  2.42it/s]\n",
      "Epoch 4/25 [Val]: 100%|██████████| 11/11 [00:08<00:00,  1.29it/s]\n"
     ]
    },
    {
     "name": "stdout",
     "output_type": "stream",
     "text": [
      "Epoch 4/25: Train Loss=1.6927, Train Acc=0.5261, Val Loss=1.8408, Val Acc=0.5557, LR=0.001000\n",
      "✓ Best model saved in d:\\Uni\\Master\\1 Bimestre\\Foundations\\Assignments\\Weather-Clasification\\notebooks\\experiments\\models\\best_model_CNN_V3_reg_v2_Adam_0.2_0.5.pth (val_acc=0.5557)\n"
     ]
    },
    {
     "name": "stderr",
     "output_type": "stream",
     "text": [
      "Epoch 5/25 [Train]: 100%|██████████| 86/86 [00:47<00:00,  1.80it/s]\n",
      "Epoch 5/25 [Val]: 100%|██████████| 11/11 [00:08<00:00,  1.29it/s]\n"
     ]
    },
    {
     "name": "stdout",
     "output_type": "stream",
     "text": [
      "Epoch 5/25: Train Loss=1.6407, Train Acc=0.5585, Val Loss=1.7790, Val Acc=0.6144, LR=0.001000\n",
      "✓ Best model saved in d:\\Uni\\Master\\1 Bimestre\\Foundations\\Assignments\\Weather-Clasification\\notebooks\\experiments\\models\\best_model_CNN_V3_reg_v2_Adam_0.2_0.5.pth (val_acc=0.6144)\n"
     ]
    },
    {
     "name": "stderr",
     "output_type": "stream",
     "text": [
      "Epoch 6/25 [Train]: 100%|██████████| 86/86 [00:36<00:00,  2.37it/s]\n",
      "Epoch 6/25 [Val]: 100%|██████████| 11/11 [00:07<00:00,  1.39it/s]\n"
     ]
    },
    {
     "name": "stdout",
     "output_type": "stream",
     "text": [
      "Epoch 6/25: Train Loss=1.5872, Train Acc=0.5954, Val Loss=1.6926, Val Acc=0.5968, LR=0.001000\n"
     ]
    },
    {
     "name": "stderr",
     "output_type": "stream",
     "text": [
      "Epoch 7/25 [Train]: 100%|██████████| 86/86 [00:29<00:00,  2.96it/s]\n",
      "Epoch 7/25 [Val]: 100%|██████████| 11/11 [00:08<00:00,  1.33it/s]\n"
     ]
    },
    {
     "name": "stdout",
     "output_type": "stream",
     "text": [
      "Epoch 7/25: Train Loss=1.5668, Train Acc=0.6096, Val Loss=1.6458, Val Acc=0.6408, LR=0.001000\n",
      "✓ Best model saved in d:\\Uni\\Master\\1 Bimestre\\Foundations\\Assignments\\Weather-Clasification\\notebooks\\experiments\\models\\best_model_CNN_V3_reg_v2_Adam_0.2_0.5.pth (val_acc=0.6408)\n"
     ]
    },
    {
     "name": "stderr",
     "output_type": "stream",
     "text": [
      "Epoch 8/25 [Train]: 100%|██████████| 86/86 [00:29<00:00,  2.96it/s]\n",
      "Epoch 8/25 [Val]: 100%|██████████| 11/11 [00:08<00:00,  1.33it/s]\n"
     ]
    },
    {
     "name": "stdout",
     "output_type": "stream",
     "text": [
      "Epoch 8/25: Train Loss=1.5437, Train Acc=0.6225, Val Loss=1.6005, Val Acc=0.6158, LR=0.001000\n"
     ]
    },
    {
     "name": "stderr",
     "output_type": "stream",
     "text": [
      "Epoch 9/25 [Train]: 100%|██████████| 86/86 [00:35<00:00,  2.40it/s]\n",
      "Epoch 9/25 [Val]: 100%|██████████| 11/11 [00:08<00:00,  1.27it/s]\n"
     ]
    },
    {
     "name": "stdout",
     "output_type": "stream",
     "text": [
      "Epoch 9/25: Train Loss=1.4983, Train Acc=0.6282, Val Loss=1.6096, Val Acc=0.6305, LR=0.001000\n"
     ]
    },
    {
     "name": "stderr",
     "output_type": "stream",
     "text": [
      "Epoch 10/25 [Train]: 100%|██████████| 86/86 [00:30<00:00,  2.82it/s]\n",
      "Epoch 10/25 [Val]: 100%|██████████| 11/11 [00:08<00:00,  1.34it/s]\n"
     ]
    },
    {
     "name": "stdout",
     "output_type": "stream",
     "text": [
      "Epoch 10/25: Train Loss=1.4592, Train Acc=0.6448, Val Loss=1.5544, Val Acc=0.6378, LR=0.001000\n"
     ]
    },
    {
     "name": "stderr",
     "output_type": "stream",
     "text": [
      "Epoch 11/25 [Train]: 100%|██████████| 86/86 [00:34<00:00,  2.51it/s]\n",
      "Epoch 11/25 [Val]: 100%|██████████| 11/11 [00:08<00:00,  1.33it/s]\n"
     ]
    },
    {
     "name": "stdout",
     "output_type": "stream",
     "text": [
      "Epoch 11/25: Train Loss=1.4305, Train Acc=0.6605, Val Loss=1.5236, Val Acc=0.6496, LR=0.001000\n",
      "✓ Best model saved in d:\\Uni\\Master\\1 Bimestre\\Foundations\\Assignments\\Weather-Clasification\\notebooks\\experiments\\models\\best_model_CNN_V3_reg_v2_Adam_0.2_0.5.pth (val_acc=0.6496)\n"
     ]
    },
    {
     "name": "stderr",
     "output_type": "stream",
     "text": [
      "Epoch 12/25 [Train]: 100%|██████████| 86/86 [00:31<00:00,  2.71it/s]\n",
      "Epoch 12/25 [Val]: 100%|██████████| 11/11 [00:08<00:00,  1.29it/s]\n"
     ]
    },
    {
     "name": "stdout",
     "output_type": "stream",
     "text": [
      "Epoch 12/25: Train Loss=1.3900, Train Acc=0.6758, Val Loss=1.5023, Val Acc=0.6686, LR=0.001000\n",
      "✓ Best model saved in d:\\Uni\\Master\\1 Bimestre\\Foundations\\Assignments\\Weather-Clasification\\notebooks\\experiments\\models\\best_model_CNN_V3_reg_v2_Adam_0.2_0.5.pth (val_acc=0.6686)\n"
     ]
    },
    {
     "name": "stderr",
     "output_type": "stream",
     "text": [
      "Epoch 13/25 [Train]: 100%|██████████| 86/86 [00:31<00:00,  2.71it/s]\n",
      "Epoch 13/25 [Val]: 100%|██████████| 11/11 [00:08<00:00,  1.33it/s]\n"
     ]
    },
    {
     "name": "stdout",
     "output_type": "stream",
     "text": [
      "Epoch 13/25: Train Loss=1.3733, Train Acc=0.6867, Val Loss=1.4796, Val Acc=0.6818, LR=0.001000\n",
      "✓ Best model saved in d:\\Uni\\Master\\1 Bimestre\\Foundations\\Assignments\\Weather-Clasification\\notebooks\\experiments\\models\\best_model_CNN_V3_reg_v2_Adam_0.2_0.5.pth (val_acc=0.6818)\n"
     ]
    },
    {
     "name": "stderr",
     "output_type": "stream",
     "text": [
      "Epoch 14/25 [Train]: 100%|██████████| 86/86 [00:29<00:00,  2.87it/s]\n",
      "Epoch 14/25 [Val]: 100%|██████████| 11/11 [00:08<00:00,  1.28it/s]\n"
     ]
    },
    {
     "name": "stdout",
     "output_type": "stream",
     "text": [
      "Epoch 14/25: Train Loss=1.3260, Train Acc=0.7051, Val Loss=1.4493, Val Acc=0.6584, LR=0.001000\n"
     ]
    },
    {
     "name": "stderr",
     "output_type": "stream",
     "text": [
      "Epoch 15/25 [Train]: 100%|██████████| 86/86 [00:30<00:00,  2.81it/s]\n",
      "Epoch 15/25 [Val]: 100%|██████████| 11/11 [00:08<00:00,  1.30it/s]\n"
     ]
    },
    {
     "name": "stdout",
     "output_type": "stream",
     "text": [
      "Epoch 15/25: Train Loss=1.3009, Train Acc=0.7190, Val Loss=1.4162, Val Acc=0.6760, LR=0.001000\n"
     ]
    },
    {
     "name": "stderr",
     "output_type": "stream",
     "text": [
      "Epoch 16/25 [Train]: 100%|██████████| 86/86 [00:31<00:00,  2.72it/s]\n",
      "Epoch 16/25 [Val]: 100%|██████████| 11/11 [00:09<00:00,  1.22it/s]\n"
     ]
    },
    {
     "name": "stdout",
     "output_type": "stream",
     "text": [
      "Epoch 16/25: Train Loss=1.2735, Train Acc=0.7340, Val Loss=1.3533, Val Acc=0.6979, LR=0.001000\n",
      "✓ Best model saved in d:\\Uni\\Master\\1 Bimestre\\Foundations\\Assignments\\Weather-Clasification\\notebooks\\experiments\\models\\best_model_CNN_V3_reg_v2_Adam_0.2_0.5.pth (val_acc=0.6979)\n"
     ]
    },
    {
     "name": "stderr",
     "output_type": "stream",
     "text": [
      "Epoch 17/25 [Train]: 100%|██████████| 86/86 [00:31<00:00,  2.70it/s]\n",
      "Epoch 17/25 [Val]: 100%|██████████| 11/11 [00:08<00:00,  1.24it/s]\n"
     ]
    },
    {
     "name": "stdout",
     "output_type": "stream",
     "text": [
      "Epoch 17/25: Train Loss=1.2507, Train Acc=0.7383, Val Loss=1.3470, Val Acc=0.6965, LR=0.001000\n"
     ]
    },
    {
     "name": "stderr",
     "output_type": "stream",
     "text": [
      "Epoch 18/25 [Train]: 100%|██████████| 86/86 [00:39<00:00,  2.19it/s]\n",
      "Epoch 18/25 [Val]: 100%|██████████| 11/11 [00:08<00:00,  1.30it/s]\n"
     ]
    },
    {
     "name": "stdout",
     "output_type": "stream",
     "text": [
      "Epoch 18/25: Train Loss=1.2240, Train Acc=0.7482, Val Loss=1.3440, Val Acc=0.7170, LR=0.001000\n",
      "✓ Best model saved in d:\\Uni\\Master\\1 Bimestre\\Foundations\\Assignments\\Weather-Clasification\\notebooks\\experiments\\models\\best_model_CNN_V3_reg_v2_Adam_0.2_0.5.pth (val_acc=0.7170)\n"
     ]
    },
    {
     "name": "stderr",
     "output_type": "stream",
     "text": [
      "Epoch 19/25 [Train]: 100%|██████████| 86/86 [00:30<00:00,  2.84it/s]\n",
      "Epoch 19/25 [Val]: 100%|██████████| 11/11 [00:07<00:00,  1.41it/s]\n"
     ]
    },
    {
     "name": "stdout",
     "output_type": "stream",
     "text": [
      "Epoch 19/25: Train Loss=1.1947, Train Acc=0.7642, Val Loss=1.3579, Val Acc=0.7243, LR=0.001000\n",
      "✓ Best model saved in d:\\Uni\\Master\\1 Bimestre\\Foundations\\Assignments\\Weather-Clasification\\notebooks\\experiments\\models\\best_model_CNN_V3_reg_v2_Adam_0.2_0.5.pth (val_acc=0.7243)\n"
     ]
    },
    {
     "name": "stderr",
     "output_type": "stream",
     "text": [
      "Epoch 20/25 [Train]: 100%|██████████| 86/86 [00:31<00:00,  2.75it/s]\n",
      "Epoch 20/25 [Val]: 100%|██████████| 11/11 [00:09<00:00,  1.22it/s]\n"
     ]
    },
    {
     "name": "stdout",
     "output_type": "stream",
     "text": [
      "Epoch 20/25: Train Loss=1.1659, Train Acc=0.7775, Val Loss=1.2678, Val Acc=0.7493, LR=0.001000\n",
      "✓ Best model saved in d:\\Uni\\Master\\1 Bimestre\\Foundations\\Assignments\\Weather-Clasification\\notebooks\\experiments\\models\\best_model_CNN_V3_reg_v2_Adam_0.2_0.5.pth (val_acc=0.7493)\n"
     ]
    },
    {
     "name": "stderr",
     "output_type": "stream",
     "text": [
      "Epoch 21/25 [Train]: 100%|██████████| 86/86 [00:33<00:00,  2.54it/s]\n",
      "Epoch 21/25 [Val]: 100%|██████████| 11/11 [00:09<00:00,  1.13it/s]\n"
     ]
    },
    {
     "name": "stdout",
     "output_type": "stream",
     "text": [
      "Epoch 21/25: Train Loss=1.1493, Train Acc=0.7912, Val Loss=1.2963, Val Acc=0.7273, LR=0.001000\n"
     ]
    },
    {
     "name": "stderr",
     "output_type": "stream",
     "text": [
      "Epoch 22/25 [Train]: 100%|██████████| 86/86 [00:32<00:00,  2.61it/s]\n",
      "Epoch 22/25 [Val]: 100%|██████████| 11/11 [00:08<00:00,  1.29it/s]\n"
     ]
    },
    {
     "name": "stdout",
     "output_type": "stream",
     "text": [
      "Epoch 22/25: Train Loss=1.1045, Train Acc=0.7991, Val Loss=1.3342, Val Acc=0.7082, LR=0.001000\n"
     ]
    },
    {
     "name": "stderr",
     "output_type": "stream",
     "text": [
      "Epoch 23/25 [Train]: 100%|██████████| 86/86 [00:32<00:00,  2.63it/s]\n",
      "Epoch 23/25 [Val]: 100%|██████████| 11/11 [00:08<00:00,  1.24it/s]\n"
     ]
    },
    {
     "name": "stdout",
     "output_type": "stream",
     "text": [
      "Epoch 23/25: Train Loss=1.0923, Train Acc=0.8105, Val Loss=1.2671, Val Acc=0.7478, LR=0.001000\n"
     ]
    },
    {
     "name": "stderr",
     "output_type": "stream",
     "text": [
      "Epoch 24/25 [Train]: 100%|██████████| 86/86 [00:31<00:00,  2.71it/s]\n",
      "Epoch 24/25 [Val]: 100%|██████████| 11/11 [00:10<00:00,  1.07it/s]\n"
     ]
    },
    {
     "name": "stdout",
     "output_type": "stream",
     "text": [
      "Epoch 24/25: Train Loss=1.0757, Train Acc=0.8222, Val Loss=1.3345, Val Acc=0.7126, LR=0.001000\n"
     ]
    },
    {
     "name": "stderr",
     "output_type": "stream",
     "text": [
      "Epoch 25/25 [Train]: 100%|██████████| 86/86 [00:34<00:00,  2.49it/s]\n",
      "Epoch 25/25 [Val]: 100%|██████████| 11/11 [00:10<00:00,  1.08it/s]"
     ]
    },
    {
     "name": "stdout",
     "output_type": "stream",
     "text": [
      "Epoch 25/25: Train Loss=1.0661, Train Acc=0.8228, Val Loss=1.2488, Val Acc=0.7419, LR=0.001000\n",
      "\n",
      "Training complete!\n",
      "Best val_acc: 0.7493\n",
      "Best val_loss: 1.2678\n",
      "Metrics saved in d:\\Uni\\Master\\1 Bimestre\\Foundations\\Assignments\\Weather-Clasification\\notebooks\\experiments\\reports\\metrics\\metrics_CNN_V3_reg_v2_Adam_0.2_0.5.pkl\n",
      "Model saved in d:\\Uni\\Master\\1 Bimestre\\Foundations\\Assignments\\Weather-Clasification\\notebooks\\experiments\\models\\best_model_CNN_V3_reg_v2_Adam_0.2_0.5.pth\n",
      "\n",
      "===== Regularization Grid Search Results =====\n",
      "p_conv=0.1, p_fc=0.3: Best val_acc = 0.7742\n",
      "p_conv=0.15, p_fc=0.4: Best val_acc = 0.7771\n",
      "p_conv=0.2, p_fc=0.5: Best val_acc = 0.7493\n"
     ]
    },
    {
     "name": "stderr",
     "output_type": "stream",
     "text": [
      "\n"
     ]
    }
   ],
   "source": [
    "input_dim = 224*224*3  # matches the Resize transform\n",
    "reg_params = [\n",
    "    {\"p_conv\": 0.1, \"p_fc\": 0.3},\n",
    "    {\"p_conv\": 0.15, \"p_fc\": 0.4},\n",
    "    {\"p_conv\": 0.2, \"p_fc\": 0.5},\n",
    "]\n",
    "\n",
    "results_reg = {}\n",
    "\n",
    "for params in reg_params:\n",
    "    print(f\"\\n===== Training with p_conv={params['p_conv']}, p_fc={params['p_fc']} =====\\n\")\n",
    "    \n",
    "    # Use lambda to pass dropout params to constructor\n",
    "    model_class = partial(\n",
    "        CNN_V3_reg_v2,\n",
    "        p_conv=params[\"p_conv\"],\n",
    "        p_fc=params[\"p_fc\"]\n",
    "    )\n",
    "    \n",
    "    model, history = train_model_improved(\n",
    "        model_class=model_class,\n",
    "        train_dir=\"../../data/train\",\n",
    "        val_dir=\"../../data/val\",\n",
    "        input_dim=input_dim,\n",
    "        num_classes=11,\n",
    "        batch_size=64,\n",
    "        epochs=25,\n",
    "        lr=1e-3,\n",
    "        device=\"cuda\" if torch.cuda.is_available() else \"cpu\",\n",
    "        optimizer=\"Adam\",\n",
    "        p_conv=params[\"p_conv\"],\n",
    "        p_fc=params[\"p_fc\"]\n",
    "    )\n",
    "    \n",
    "    results_reg[(params[\"p_conv\"], params[\"p_fc\"])] = {\n",
    "        \"best_val_acc\": max(history[\"val_acc\"]),\n",
    "        \"history\": history\n",
    "    }\n",
    "\n",
    "# Optional: print summary\n",
    "print(\"\\n===== Regularization Grid Search Results =====\")\n",
    "for (p_conv, p_fc), res in results_reg.items():\n",
    "    print(f\"p_conv={p_conv}, p_fc={p_fc}: Best val_acc = {res['best_val_acc']:.4f}\")"
   ]
  },
  {
   "cell_type": "code",
   "execution_count": 16,
   "id": "2c7795bd",
   "metadata": {},
   "outputs": [
    {
     "name": "stdout",
     "output_type": "stream",
     "text": [
      "\n",
      "🔸 Evaluating best_model_CNN_V3_reg_v2_Adam.pth ...\n",
      "../../data/val\n",
      "Detected raw state_dict format\n",
      "Validation accuracy: 0.7683284457478006\n",
      "📊 Accuracy for best_model_CNN_V3_reg_v2_Adam.pth: 0.7683\n",
      "\n",
      "🔸 Evaluating best_model_CNN_V3_reg_v2_Adam_0.15_0.4.pth ...\n",
      "../../data/val\n",
      "Detected raw state_dict format\n",
      "Validation accuracy: 0.7771260997067448\n",
      "📊 Accuracy for best_model_CNN_V3_reg_v2_Adam_0.15_0.4.pth: 0.7771\n",
      "\n",
      "🔸 Evaluating best_model_CNN_V3_reg_v2_Adam_0.1_0.3.pth ...\n",
      "../../data/val\n",
      "Detected raw state_dict format\n",
      "Validation accuracy: 0.7741935483870968\n",
      "📊 Accuracy for best_model_CNN_V3_reg_v2_Adam_0.1_0.3.pth: 0.7742\n",
      "\n",
      "🔸 Evaluating best_model_CNN_V3_reg_v2_Adam_0.2_0.5.pth ...\n",
      "../../data/val\n",
      "Detected raw state_dict format\n",
      "Validation accuracy: 0.749266862170088\n",
      "📊 Accuracy for best_model_CNN_V3_reg_v2_Adam_0.2_0.5.pth: 0.7493\n",
      "\n",
      "🔸 Evaluating best_model_CNN_V3_reg_v2_Momentum.pth ...\n",
      "../../data/val\n",
      "Detected raw state_dict format\n",
      "Validation accuracy: 0.4032258064516129\n",
      "📊 Accuracy for best_model_CNN_V3_reg_v2_Momentum.pth: 0.4032\n",
      "\n",
      "🔸 Evaluating best_model_CNN_V3_reg_v2_RMSprop.pth ...\n",
      "../../data/val\n",
      "Detected raw state_dict format\n",
      "Validation accuracy: 0.782991202346041\n",
      "📊 Accuracy for best_model_CNN_V3_reg_v2_RMSprop.pth: 0.7830\n"
     ]
    }
   ],
   "source": [
    "# 📈 Loop through all models\n",
    "results = []\n",
    "\n",
    "set_path = \"../../data/val\"\n",
    "models_dir = \"models\"\n",
    "val_dir = \"../../data/val\"\n",
    "out_dir = \"../../models/predictions\"\n",
    "os.makedirs(out_dir, exist_ok=True)\n",
    "\n",
    "for filename in os.listdir(models_dir):\n",
    "    if filename.endswith(\".pth\"):\n",
    "        model_path = os.path.join(models_dir, filename)\n",
    "        print(f\"\\n🔸 Evaluating {filename} ...\")\n",
    "\n",
    "        # 1️⃣ Get model info from filename\n",
    "        model_class = CNN_V3_reg_v2\n",
    "        input_dim = 224 * 224 * 3\n",
    "        mean = [0.5167, 0.5143, 0.5164]\n",
    "        std = [0.2378, 0.2359, 0.2393]\n",
    "        val_transform = transforms.Compose([\n",
    "            transforms.Resize((224, 224)),\n",
    "            transforms.ToTensor(),\n",
    "            transforms.Normalize(mean=mean, std=std)\n",
    "        ])\n",
    "\n",
    "        # 2️⃣ Build model\n",
    "        model = model_class(input_dim=input_dim, num_classes=11)\n",
    "\n",
    "        # 3️⃣ Predict\n",
    "        acc, all_labels, all_preds, all_paths = predict(\n",
    "            model, model_path, val_transform, val_dir, batch_size=32\n",
    "        )\n",
    "\n",
    "        # 4️⃣ Save per-image predictions\n",
    "        df = pd.DataFrame({\n",
    "            \"img_path\": all_paths,\n",
    "            \"true_label\": all_labels,\n",
    "            \"pred_label\": all_preds,\n",
    "            \"correct\": (pd.Series(all_labels) == pd.Series(all_preds)).astype(int)\n",
    "        })\n",
    "\n",
    "        csv_name = f\"preds_{os.path.splitext(filename)[0]}.csv\"\n",
    "        csv_path = os.path.join(out_dir, csv_name)\n",
    "        df.to_csv(csv_path, index=False)\n",
    "\n",
    "        #print(f\"✅ Saved predictions to {csv_path}\")\n",
    "        print(f\"📊 Accuracy for {filename}: {acc:.4f}\")\n",
    "\n",
    "        results.append({\"model_name\": filename, \"accuracy\": acc})\n",
    "\n",
    "\n",
    "# 🟦 Plot results\n",
    "results_df = pd.DataFrame(results).sort_values(by=\"accuracy\", ascending=False)"
   ]
  },
  {
   "cell_type": "code",
   "execution_count": 20,
   "id": "98352642",
   "metadata": {},
   "outputs": [
    {
     "data": {
      "text/html": [
       "<div>\n",
       "<style scoped>\n",
       "    .dataframe tbody tr th:only-of-type {\n",
       "        vertical-align: middle;\n",
       "    }\n",
       "\n",
       "    .dataframe tbody tr th {\n",
       "        vertical-align: top;\n",
       "    }\n",
       "\n",
       "    .dataframe thead th {\n",
       "        text-align: right;\n",
       "    }\n",
       "</style>\n",
       "<table border=\"1\" class=\"dataframe\">\n",
       "  <thead>\n",
       "    <tr style=\"text-align: right;\">\n",
       "      <th></th>\n",
       "      <th>model_name</th>\n",
       "      <th>accuracy</th>\n",
       "    </tr>\n",
       "  </thead>\n",
       "  <tbody>\n",
       "    <tr>\n",
       "      <th>5</th>\n",
       "      <td>best_model_CNN_V3_reg_v2_RMSprop.pth</td>\n",
       "      <td>0.782991</td>\n",
       "    </tr>\n",
       "    <tr>\n",
       "      <th>1</th>\n",
       "      <td>best_model_CNN_V3_reg_v2_Adam_0.15_0.4.pth</td>\n",
       "      <td>0.777126</td>\n",
       "    </tr>\n",
       "    <tr>\n",
       "      <th>2</th>\n",
       "      <td>best_model_CNN_V3_reg_v2_Adam_0.1_0.3.pth</td>\n",
       "      <td>0.774194</td>\n",
       "    </tr>\n",
       "    <tr>\n",
       "      <th>0</th>\n",
       "      <td>best_model_CNN_V3_reg_v2_Adam.pth</td>\n",
       "      <td>0.768328</td>\n",
       "    </tr>\n",
       "    <tr>\n",
       "      <th>3</th>\n",
       "      <td>best_model_CNN_V3_reg_v2_Adam_0.2_0.5.pth</td>\n",
       "      <td>0.749267</td>\n",
       "    </tr>\n",
       "    <tr>\n",
       "      <th>4</th>\n",
       "      <td>best_model_CNN_V3_reg_v2_Momentum.pth</td>\n",
       "      <td>0.403226</td>\n",
       "    </tr>\n",
       "  </tbody>\n",
       "</table>\n",
       "</div>"
      ],
      "text/plain": [
       "                                   model_name  accuracy\n",
       "5        best_model_CNN_V3_reg_v2_RMSprop.pth  0.782991\n",
       "1  best_model_CNN_V3_reg_v2_Adam_0.15_0.4.pth  0.777126\n",
       "2   best_model_CNN_V3_reg_v2_Adam_0.1_0.3.pth  0.774194\n",
       "0           best_model_CNN_V3_reg_v2_Adam.pth  0.768328\n",
       "3   best_model_CNN_V3_reg_v2_Adam_0.2_0.5.pth  0.749267\n",
       "4       best_model_CNN_V3_reg_v2_Momentum.pth  0.403226"
      ]
     },
     "execution_count": 20,
     "metadata": {},
     "output_type": "execute_result"
    }
   ],
   "source": [
    "results_df"
   ]
  },
  {
   "cell_type": "code",
   "execution_count": 21,
   "id": "9014ae8f",
   "metadata": {},
   "outputs": [
    {
     "data": {
      "image/png": "[encoded data removed]",
      "text/plain": [
       "<Figure size 800x500 with 1 Axes>"
      ]
     },
     "metadata": {},
     "output_type": "display_data"
    }
   ],
   "source": [
    "# Convert your results list/dict to DataFrame\n",
    "results_df = pd.DataFrame(results).sort_values(by=\"accuracy\", ascending=False)\n",
    "\n",
    "# 1️⃣ Optimizer models\n",
    "optimizer_models = [\n",
    "    \"best_model_CNN_V3_reg_v2_Adam.pth\",\n",
    "    \"best_model_CNN_V3_reg_v2_Momentum.pth\",\n",
    "    \"best_model_CNN_V3_reg_v2_RMSprop.pth\"\n",
    "]\n",
    "\n",
    "optimizer_df = results_df[results_df[\"model_name\"].isin(optimizer_models)].copy()\n",
    "\n",
    "# Sort to keep a nice order (optional)\n",
    "optimizer_df[\"model_name\"] = pd.Categorical(\n",
    "    optimizer_df[\"model_name\"], \n",
    "    categories=optimizer_models, \n",
    "    ordered=True\n",
    ")\n",
    "optimizer_df = optimizer_df.sort_values(\"model_name\")\n",
    "\n",
    "# 🟦 Plot Optimizer comparison\n",
    "plt.figure(figsize=(8, 5))\n",
    "bars = plt.bar(optimizer_df[\"model_name\"], optimizer_df[\"accuracy\"], color=[\"#1f77b4\", \"#ff7f0e\", \"#2ca02c\"])\n",
    "\n",
    "for bar in bars:\n",
    "    height = bar.get_height()\n",
    "    plt.text(\n",
    "        bar.get_x() + bar.get_width() / 2,\n",
    "        height + 0.005,\n",
    "        f\"{height:.4f}\",\n",
    "        ha='center',\n",
    "        va='bottom',\n",
    "        fontsize=10\n",
    "    )\n",
    "\n",
    "plt.xticks(rotation=25, ha=\"right\")\n",
    "plt.ylabel(\"Validation Accuracy\")\n",
    "plt.ylim([0, 0.85])\n",
    "plt.title(\"Optimizer Comparison (Adam vs Momentum vs RMSprop)\")\n",
    "plt.tight_layout()\n",
    "plt.show()\n",
    "\n"
   ]
  },
  {
   "cell_type": "code",
   "execution_count": 24,
   "id": "5f73f103",
   "metadata": {},
   "outputs": [
    {
     "data": {
      "image/png": "[encoded data removed]",
      "text/plain": [
       "<Figure size 900x500 with 1 Axes>"
      ]
     },
     "metadata": {},
     "output_type": "display_data"
    }
   ],
   "source": [
    "# 2️⃣ Regularization models (Adam with different p_conv/p_fc)\n",
    "reg_models = [\n",
    "    \"best_model_CNN_V3_reg_v2_Adam_0.1_0.3.pth\",\n",
    "    \"best_model_CNN_V3_reg_v2_Adam_0.15_0.4.pth\",\n",
    "    \"best_model_CNN_V3_reg_v2_Adam_0.2_0.5.pth\"\n",
    "]\n",
    "\n",
    "reg_df = results_df[results_df[\"model_name\"].isin(reg_models)].copy()\n",
    "\n",
    "# Optional: order by config\n",
    "reg_df[\"model_name\"] = pd.Categorical(\n",
    "    reg_df[\"model_name\"], \n",
    "    categories=reg_models, \n",
    "    ordered=True\n",
    ")\n",
    "reg_df = reg_df.sort_values(\"model_name\")\n",
    "\n",
    "# 🟪 Plot Regularization configs comparison\n",
    "plt.figure(figsize=(9, 5))\n",
    "bars = plt.bar(reg_df[\"model_name\"], reg_df[\"accuracy\"], color=[\"#1f77b4\", \"#ff7f0e\", \"#2ca02c\"])\n",
    "\n",
    "for bar in bars:\n",
    "    height = bar.get_height()\n",
    "    plt.text(\n",
    "        bar.get_x() + bar.get_width() / 2,\n",
    "        height + 0.005,\n",
    "        f\"{height:.4f}\",\n",
    "        ha='center',\n",
    "        va='bottom',\n",
    "        fontsize=10\n",
    "    )\n",
    "\n",
    "plt.xticks(rotation=30, ha=\"right\")\n",
    "plt.ylabel(\"Validation Accuracy\")\n",
    "plt.ylim([0.6, 0.85])\n",
    "plt.title(\"Regularization Config Comparison (Adam)\")\n",
    "plt.tight_layout()\n",
    "plt.show()\n"
   ]
  }
 ],
 "metadata": {
  "kernelspec": {
   "display_name": "py311ml",
   "language": "python",
   "name": "python3"
  },
  "language_info": {
   "codemirror_mode": {
    "name": "ipython",
    "version": 3
   },
   "file_extension": ".py",
   "mimetype": "text/x-python",
   "name": "python",
   "nbconvert_exporter": "python",
   "pygments_lexer": "ipython3",
   "version": "3.11.13"
  }
 },
 "nbformat": 4,
 "nbformat_minor": 5
}
