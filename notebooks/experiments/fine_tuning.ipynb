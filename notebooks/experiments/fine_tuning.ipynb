{
 "cells": [
  {
   "cell_type": "code",
   "execution_count": 4,
   "id": "940a4849",
   "metadata": {},
   "outputs": [],
   "source": [
    "import sys\n",
    "import os\n",
    "\n",
    "# Add the root folder of your project\n",
    "root_path = os.path.abspath(os.path.join(\"..\", \"..\"))  # two levels up from experiments\n",
    "sys.path.append(root_path)\n",
    "import torch\n",
    "from torchvision import transforms\n",
    "from torch.utils.data import DataLoader\n",
    "from collections import Counter\n",
    "import torch.nn as nn\n",
    "import torch.optim as optim\n",
    "from tqdm import tqdm \n",
    "import pickle\n",
    "\n",
    "from weather_classification.weather_dataset import WeatherDataset\n",
    "from weather_classification.modeling.cnn import CNN_V3_reg_v2\n",
    "from weather_classification.seed_utils import set_seed\n",
    "set_seed(1234)\n",
    "\n",
    "import torch"
   ]
  },
  {
   "cell_type": "code",
   "execution_count": 5,
   "id": "ae8a0582",
   "metadata": {},
   "outputs": [],
   "source": [
    "def train_model_improved(model_class, train_dir, val_dir, input_dim, num_classes=11, \n",
    "                batch_size=32, epochs=20, lr=1e-3, device=\"cuda\", optimizer=\"Adam\",\n",
    "                use_scheduler=True, label_smoothing=0.1):\n",
    "    \n",
    "    model_name = model_class.__name__\n",
    "\n",
    "    PROJECT_ROOT = os.getcwd()\n",
    "\n",
    "    metrics_dir = os.path.join(PROJECT_ROOT, \"reports\", \"metrics\")\n",
    "    models_dir = os.path.join(PROJECT_ROOT, \"models\")\n",
    "\n",
    "    os.makedirs(metrics_dir, exist_ok=True)\n",
    "    os.makedirs(models_dir, exist_ok=True)\n",
    "\n",
    "    metrics_path = os.path.join(metrics_dir, f\"metrics_{model_name}_{optimizer}.pkl\")\n",
    "    model_path = os.path.join(models_dir, f\"best_model_{model_name}_{optimizer}.pth\")\n",
    "\n",
    "    mean = [0.5167, 0.5143, 0.5164]\n",
    "    std = [0.2378, 0.2359, 0.2393]\n",
    "\n",
    "    train_transform = transforms.Compose([\n",
    "        transforms.Resize((224, 224)),\n",
    "        transforms.RandomHorizontalFlip(p=0.5),  \n",
    "        transforms.ToTensor(),\n",
    "        transforms.Normalize(mean=mean, std=std)\n",
    "    ])\n",
    "    val_transform = transforms.Compose([\n",
    "        transforms.Resize((224, 224)),\n",
    "        transforms.ToTensor(),\n",
    "        transforms.Normalize(mean=mean, std=std)\n",
    "    ])\n",
    "\n",
    "\n",
    "    # Datasets with different transforms for train/val\n",
    "    train_dataset = WeatherDataset(train_dir, transform=train_transform)\n",
    "    val_dataset = WeatherDataset(val_dir, transform=val_transform)\n",
    "\n",
    "    # Dataloaders\n",
    "    train_loader = DataLoader(train_dataset, batch_size=batch_size, shuffle=True, \n",
    "                             num_workers=4, pin_memory=True)\n",
    "    val_loader = DataLoader(val_dataset, batch_size=batch_size, shuffle=False,\n",
    "                           num_workers=4, pin_memory=True)\n",
    "\n",
    "    # Calculate weights per class\n",
    "    labels = [label for _, label in train_dataset.samples]\n",
    "    class_counts = Counter(labels)\n",
    "    num_classes = len(class_counts)\n",
    "\n",
    "    total_samples = sum(class_counts.values())\n",
    "    class_weights = [total_samples / class_counts[i] for i in range(num_classes)]\n",
    "    class_weights_tensor = torch.FloatTensor(class_weights).to(device)\n",
    "\n",
    "    print(\"Class counts:\", class_counts)\n",
    "    print(\"Class weights:\", {i: f\"{w:.3f}\" for i, w in enumerate(class_weights)})\n",
    "\n",
    "    # Model\n",
    "    model = model_class(input_dim=input_dim, num_classes=num_classes).to(device)\n",
    "    \n",
    "    # Count parameters\n",
    "    total_params = sum(p.numel() for p in model.parameters())\n",
    "    trainable_params = sum(p.numel() for p in model.parameters() if p.requires_grad)\n",
    "    print(f\"\\nModel: {model_name}\")\n",
    "    print(f\"Total parameters: {total_params:,}\")\n",
    "    print(f\"Trainable parameters: {trainable_params:,}\\n\")\n",
    "\n",
    "    # Loss with label smoothing to prevent overconfidence\n",
    "    criterion = nn.CrossEntropyLoss(weight=class_weights_tensor, label_smoothing=label_smoothing)\n",
    "    \n",
    "    # Optimizer: AdamW with weight decay\n",
    "    if optimizer == \"Adam\":\n",
    "        optimizer = optim.AdamW(model.parameters(), lr=lr, weight_decay=1e-4)\n",
    "    elif optimizer == \"Momentum\":\n",
    "        optimizer = optim.SGD(model.parameters(), lr=lr, momentum=0.9)\n",
    "    else:\n",
    "        optimizer = optim.RMSprop(model.parameters(), lr=lr, alpha=0.9)\n",
    "\n",
    "    \n",
    "    # Learning rate scheduler - CRITICAL for convergence\n",
    "    if use_scheduler:\n",
    "        # ReduceLROnPlateau: reduce LR when val loss plateaus\n",
    "        scheduler = optim.lr_scheduler.ReduceLROnPlateau(\n",
    "            optimizer, mode='min', factor=0.5, patience=5, min_lr=1e-6\n",
    "        )\n",
    "        # Alternative: CosineAnnealingLR for smoother decay\n",
    "        # scheduler = optim.lr_scheduler.CosineAnnealingLR(optimizer, T_max=epochs, eta_min=1e-6)\n",
    "\n",
    "    best_val_acc = 0.0\n",
    "    best_val_loss = float('inf')\n",
    "    patience_counter = 0\n",
    "    early_stop_patience = 7  # Stop if no improvement for 7 epochs\n",
    "    \n",
    "    history = {\"train_loss\": [], \"train_acc\": [], \"val_loss\": [], \"val_acc\": [], \"lr\": []}\n",
    "\n",
    "    # Training loop\n",
    "    for epoch in range(epochs):\n",
    "        model.train()\n",
    "        running_loss, running_corrects = 0.0, 0\n",
    "\n",
    "        for imgs, labels in tqdm(train_loader, desc=f\"Epoch {epoch+1}/{epochs} [Train]\"):\n",
    "            imgs, labels = imgs.to(device), labels.to(device)\n",
    "\n",
    "            optimizer.zero_grad()\n",
    "            outputs = model(imgs)\n",
    "            loss = criterion(outputs, labels)\n",
    "            loss.backward()\n",
    "            \n",
    "            # Gradient clipping to prevent exploding gradients\n",
    "            torch.nn.utils.clip_grad_norm_(model.parameters(), max_norm=1.0)\n",
    "            \n",
    "            optimizer.step()\n",
    "\n",
    "            preds = outputs.argmax(1)\n",
    "            running_loss += loss.item() * imgs.size(0)\n",
    "            running_corrects += (preds == labels).sum().item()\n",
    "\n",
    "        epoch_loss = running_loss / len(train_dataset)\n",
    "        epoch_acc = running_corrects / len(train_dataset)\n",
    "\n",
    "        # Validation\n",
    "        model.eval()\n",
    "        val_loss, val_corrects = 0.0, 0\n",
    "        with torch.no_grad():\n",
    "            for imgs, labels in tqdm(val_loader, desc=f\"Epoch {epoch+1}/{epochs} [Val]\"):\n",
    "                imgs, labels = imgs.to(device), labels.to(device)\n",
    "                outputs = model(imgs)\n",
    "                loss = criterion(outputs, labels)\n",
    "\n",
    "                preds = outputs.argmax(1)\n",
    "                val_loss += loss.item() * imgs.size(0)\n",
    "                val_corrects += (preds == labels).sum().item()\n",
    "\n",
    "        val_loss /= len(val_dataset)\n",
    "        val_acc = val_corrects / len(val_dataset)\n",
    "        \n",
    "        # Update learning rate\n",
    "        current_lr = optimizer.param_groups[0]['lr']\n",
    "        if use_scheduler:\n",
    "            scheduler.step(val_loss)  # For ReduceLROnPlateau\n",
    "            # scheduler.step()  # For CosineAnnealingLR\n",
    "\n",
    "        # Save metrics\n",
    "        history[\"train_loss\"].append(epoch_loss)\n",
    "        history[\"train_acc\"].append(epoch_acc)\n",
    "        history[\"val_loss\"].append(val_loss)\n",
    "        history[\"val_acc\"].append(val_acc)\n",
    "        history[\"lr\"].append(current_lr)\n",
    "\n",
    "        print(f\"Epoch {epoch+1}/{epochs}: \"\n",
    "              f\"Train Loss={epoch_loss:.4f}, Train Acc={epoch_acc:.4f}, \"\n",
    "              f\"Val Loss={val_loss:.4f}, Val Acc={val_acc:.4f}, \"\n",
    "              f\"LR={current_lr:.6f}\")\n",
    "\n",
    "        # Save best model based on validation accuracy\n",
    "        if val_acc > best_val_acc:\n",
    "            best_val_acc = val_acc\n",
    "            best_val_loss = val_loss\n",
    "            patience_counter = 0\n",
    "            torch.save(model.state_dict(), model_path)\n",
    "            print(f\"✓ Best model saved in {model_path} (val_acc={val_acc:.4f})\")\n",
    "        else:\n",
    "            patience_counter += 1\n",
    "            \n",
    "        # Early stopping\n",
    "        if patience_counter >= early_stop_patience:\n",
    "            print(f\"\\nEarly stopping triggered after {epoch+1} epochs\")\n",
    "            print(f\"No improvement for {early_stop_patience} consecutive epochs\")\n",
    "            break\n",
    "\n",
    "    # Save metrics to .pkl\n",
    "    with open(metrics_path, \"wb\") as f:\n",
    "        pickle.dump(history, f)\n",
    "\n",
    "    print(f\"\\nTraining complete!\")\n",
    "    print(f\"Best val_acc: {best_val_acc:.4f}\")\n",
    "    print(f\"Best val_loss: {best_val_loss:.4f}\")\n",
    "    print(f\"Metrics saved in {metrics_path}\")\n",
    "    print(f\"Model saved in {model_path}\")\n",
    "    \n",
    "    return model, history"
   ]
  },
  {
   "cell_type": "code",
   "execution_count": 7,
   "id": "7d9b030b",
   "metadata": {},
   "outputs": [
    {
     "name": "stdout",
     "output_type": "stream",
     "text": [
      "\n",
      "===== Training with optimizer: Adam =====\n",
      "\n",
      "Class counts: Counter({8: 928, 1: 680, 0: 558, 9: 553, 3: 511, 10: 496, 4: 472, 6: 420, 2: 380, 5: 301, 7: 185})\n",
      "Class weights: {0: '9.828', 1: '8.065', 2: '14.432', 3: '10.732', 4: '11.619', 5: '18.219', 6: '13.057', 7: '29.643', 8: '5.909', 9: '9.917', 10: '11.056'}\n",
      "\n",
      "Model: CNN_V3_reg_v2\n",
      "Total parameters: 6,981,035\n",
      "Trainable parameters: 6,981,035\n",
      "\n"
     ]
    },
    {
     "name": "stderr",
     "output_type": "stream",
     "text": [
      "Epoch 1/20 [Train]: 100%|██████████| 86/86 [00:29<00:00,  2.95it/s]\n",
      "Epoch 1/20 [Val]: 100%|██████████| 11/11 [00:07<00:00,  1.39it/s]\n"
     ]
    },
    {
     "name": "stdout",
     "output_type": "stream",
     "text": [
      "Epoch 1/20: Train Loss=2.2384, Train Acc=0.2225, Val Loss=2.0721, Val Acc=0.3446, LR=0.001000\n",
      "✓ Best model saved in d:\\Uni\\Master\\1 Bimestre\\Foundations\\Assignments\\Weather-Clasification\\notebooks\\experiments\\models\\best_model_CNN_V3_reg_v2_Adam.pth (val_acc=0.3446)\n"
     ]
    },
    {
     "name": "stderr",
     "output_type": "stream",
     "text": [
      "Epoch 2/20 [Train]: 100%|██████████| 86/86 [00:29<00:00,  2.94it/s]\n",
      "Epoch 2/20 [Val]: 100%|██████████| 11/11 [00:07<00:00,  1.38it/s]\n"
     ]
    },
    {
     "name": "stdout",
     "output_type": "stream",
     "text": [
      "Epoch 2/20: Train Loss=1.8961, Train Acc=0.4260, Val Loss=1.8223, Val Acc=0.5279, LR=0.001000\n",
      "✓ Best model saved in d:\\Uni\\Master\\1 Bimestre\\Foundations\\Assignments\\Weather-Clasification\\notebooks\\experiments\\models\\best_model_CNN_V3_reg_v2_Adam.pth (val_acc=0.5279)\n"
     ]
    },
    {
     "name": "stderr",
     "output_type": "stream",
     "text": [
      "Epoch 3/20 [Train]: 100%|██████████| 86/86 [00:29<00:00,  2.89it/s]\n",
      "Epoch 3/20 [Val]: 100%|██████████| 11/11 [00:08<00:00,  1.37it/s]\n"
     ]
    },
    {
     "name": "stdout",
     "output_type": "stream",
     "text": [
      "Epoch 3/20: Train Loss=1.7258, Train Acc=0.5237, Val Loss=1.6733, Val Acc=0.6056, LR=0.001000\n",
      "✓ Best model saved in d:\\Uni\\Master\\1 Bimestre\\Foundations\\Assignments\\Weather-Clasification\\notebooks\\experiments\\models\\best_model_CNN_V3_reg_v2_Adam.pth (val_acc=0.6056)\n"
     ]
    },
    {
     "name": "stderr",
     "output_type": "stream",
     "text": [
      "Epoch 4/20 [Train]: 100%|██████████| 86/86 [00:39<00:00,  2.16it/s]\n",
      "Epoch 4/20 [Val]: 100%|██████████| 11/11 [00:09<00:00,  1.17it/s]\n"
     ]
    },
    {
     "name": "stdout",
     "output_type": "stream",
     "text": [
      "Epoch 4/20: Train Loss=1.6274, Train Acc=0.5600, Val Loss=1.6480, Val Acc=0.5968, LR=0.001000\n"
     ]
    },
    {
     "name": "stderr",
     "output_type": "stream",
     "text": [
      "Epoch 5/20 [Train]: 100%|██████████| 86/86 [00:29<00:00,  2.93it/s]\n",
      "Epoch 5/20 [Val]: 100%|██████████| 11/11 [00:08<00:00,  1.33it/s]\n"
     ]
    },
    {
     "name": "stdout",
     "output_type": "stream",
     "text": [
      "Epoch 5/20: Train Loss=1.5596, Train Acc=0.6001, Val Loss=1.5494, Val Acc=0.6364, LR=0.001000\n",
      "✓ Best model saved in d:\\Uni\\Master\\1 Bimestre\\Foundations\\Assignments\\Weather-Clasification\\notebooks\\experiments\\models\\best_model_CNN_V3_reg_v2_Adam.pth (val_acc=0.6364)\n"
     ]
    },
    {
     "name": "stderr",
     "output_type": "stream",
     "text": [
      "Epoch 6/20 [Train]: 100%|██████████| 86/86 [00:31<00:00,  2.77it/s]\n",
      "Epoch 6/20 [Val]: 100%|██████████| 11/11 [00:09<00:00,  1.18it/s]\n"
     ]
    },
    {
     "name": "stdout",
     "output_type": "stream",
     "text": [
      "Epoch 6/20: Train Loss=1.4929, Train Acc=0.6233, Val Loss=1.5821, Val Acc=0.6657, LR=0.001000\n",
      "✓ Best model saved in d:\\Uni\\Master\\1 Bimestre\\Foundations\\Assignments\\Weather-Clasification\\notebooks\\experiments\\models\\best_model_CNN_V3_reg_v2_Adam.pth (val_acc=0.6657)\n"
     ]
    },
    {
     "name": "stderr",
     "output_type": "stream",
     "text": [
      "Epoch 7/20 [Train]: 100%|██████████| 86/86 [00:30<00:00,  2.85it/s]\n",
      "Epoch 7/20 [Val]: 100%|██████████| 11/11 [00:08<00:00,  1.25it/s]\n"
     ]
    },
    {
     "name": "stdout",
     "output_type": "stream",
     "text": [
      "Epoch 7/20: Train Loss=1.4748, Train Acc=0.6357, Val Loss=1.5802, Val Acc=0.6393, LR=0.001000\n"
     ]
    },
    {
     "name": "stderr",
     "output_type": "stream",
     "text": [
      "Epoch 8/20 [Train]: 100%|██████████| 86/86 [00:34<00:00,  2.49it/s]\n",
      "Epoch 8/20 [Val]: 100%|██████████| 11/11 [00:09<00:00,  1.18it/s]\n"
     ]
    },
    {
     "name": "stdout",
     "output_type": "stream",
     "text": [
      "Epoch 8/20: Train Loss=1.4529, Train Acc=0.6431, Val Loss=1.4789, Val Acc=0.6906, LR=0.001000\n",
      "✓ Best model saved in d:\\Uni\\Master\\1 Bimestre\\Foundations\\Assignments\\Weather-Clasification\\notebooks\\experiments\\models\\best_model_CNN_V3_reg_v2_Adam.pth (val_acc=0.6906)\n"
     ]
    },
    {
     "name": "stderr",
     "output_type": "stream",
     "text": [
      "Epoch 9/20 [Train]: 100%|██████████| 86/86 [00:34<00:00,  2.50it/s]\n",
      "Epoch 9/20 [Val]: 100%|██████████| 11/11 [00:09<00:00,  1.20it/s]\n"
     ]
    },
    {
     "name": "stdout",
     "output_type": "stream",
     "text": [
      "Epoch 9/20: Train Loss=1.3847, Train Acc=0.6792, Val Loss=1.4314, Val Acc=0.6686, LR=0.001000\n"
     ]
    },
    {
     "name": "stderr",
     "output_type": "stream",
     "text": [
      "Epoch 10/20 [Train]: 100%|██████████| 86/86 [00:40<00:00,  2.11it/s]\n",
      "Epoch 10/20 [Val]: 100%|██████████| 11/11 [00:08<00:00,  1.22it/s]\n"
     ]
    },
    {
     "name": "stdout",
     "output_type": "stream",
     "text": [
      "Epoch 10/20: Train Loss=1.3526, Train Acc=0.6875, Val Loss=1.4252, Val Acc=0.7023, LR=0.001000\n",
      "✓ Best model saved in d:\\Uni\\Master\\1 Bimestre\\Foundations\\Assignments\\Weather-Clasification\\notebooks\\experiments\\models\\best_model_CNN_V3_reg_v2_Adam.pth (val_acc=0.7023)\n"
     ]
    },
    {
     "name": "stderr",
     "output_type": "stream",
     "text": [
      "Epoch 11/20 [Train]: 100%|██████████| 86/86 [00:32<00:00,  2.61it/s]\n",
      "Epoch 11/20 [Val]: 100%|██████████| 11/11 [00:08<00:00,  1.25it/s]\n"
     ]
    },
    {
     "name": "stdout",
     "output_type": "stream",
     "text": [
      "Epoch 11/20: Train Loss=1.3307, Train Acc=0.6962, Val Loss=1.3819, Val Acc=0.7199, LR=0.001000\n",
      "✓ Best model saved in d:\\Uni\\Master\\1 Bimestre\\Foundations\\Assignments\\Weather-Clasification\\notebooks\\experiments\\models\\best_model_CNN_V3_reg_v2_Adam.pth (val_acc=0.7199)\n"
     ]
    },
    {
     "name": "stderr",
     "output_type": "stream",
     "text": [
      "Epoch 12/20 [Train]: 100%|██████████| 86/86 [00:30<00:00,  2.83it/s]\n",
      "Epoch 12/20 [Val]: 100%|██████████| 11/11 [00:08<00:00,  1.27it/s]\n"
     ]
    },
    {
     "name": "stdout",
     "output_type": "stream",
     "text": [
      "Epoch 12/20: Train Loss=1.2968, Train Acc=0.7130, Val Loss=1.3941, Val Acc=0.6965, LR=0.001000\n"
     ]
    },
    {
     "name": "stderr",
     "output_type": "stream",
     "text": [
      "Epoch 13/20 [Train]: 100%|██████████| 86/86 [00:35<00:00,  2.46it/s]\n",
      "Epoch 13/20 [Val]: 100%|██████████| 11/11 [00:08<00:00,  1.26it/s]\n"
     ]
    },
    {
     "name": "stdout",
     "output_type": "stream",
     "text": [
      "Epoch 13/20: Train Loss=1.2651, Train Acc=0.7323, Val Loss=1.3514, Val Acc=0.7097, LR=0.001000\n"
     ]
    },
    {
     "name": "stderr",
     "output_type": "stream",
     "text": [
      "Epoch 14/20 [Train]: 100%|██████████| 86/86 [00:30<00:00,  2.85it/s]\n",
      "Epoch 14/20 [Val]: 100%|██████████| 11/11 [00:08<00:00,  1.27it/s]\n"
     ]
    },
    {
     "name": "stdout",
     "output_type": "stream",
     "text": [
      "Epoch 14/20: Train Loss=1.2482, Train Acc=0.7365, Val Loss=1.3484, Val Acc=0.7053, LR=0.001000\n"
     ]
    },
    {
     "name": "stderr",
     "output_type": "stream",
     "text": [
      "Epoch 15/20 [Train]: 100%|██████████| 86/86 [00:33<00:00,  2.58it/s]\n",
      "Epoch 15/20 [Val]: 100%|██████████| 11/11 [00:08<00:00,  1.24it/s]\n"
     ]
    },
    {
     "name": "stdout",
     "output_type": "stream",
     "text": [
      "Epoch 15/20: Train Loss=1.2109, Train Acc=0.7553, Val Loss=1.3299, Val Acc=0.7258, LR=0.001000\n",
      "✓ Best model saved in d:\\Uni\\Master\\1 Bimestre\\Foundations\\Assignments\\Weather-Clasification\\notebooks\\experiments\\models\\best_model_CNN_V3_reg_v2_Adam.pth (val_acc=0.7258)\n"
     ]
    },
    {
     "name": "stderr",
     "output_type": "stream",
     "text": [
      "Epoch 16/20 [Train]: 100%|██████████| 86/86 [00:33<00:00,  2.56it/s]\n",
      "Epoch 16/20 [Val]: 100%|██████████| 11/11 [00:08<00:00,  1.22it/s]\n"
     ]
    },
    {
     "name": "stdout",
     "output_type": "stream",
     "text": [
      "Epoch 16/20: Train Loss=1.1821, Train Acc=0.7631, Val Loss=1.3108, Val Acc=0.7493, LR=0.001000\n",
      "✓ Best model saved in d:\\Uni\\Master\\1 Bimestre\\Foundations\\Assignments\\Weather-Clasification\\notebooks\\experiments\\models\\best_model_CNN_V3_reg_v2_Adam.pth (val_acc=0.7493)\n"
     ]
    },
    {
     "name": "stderr",
     "output_type": "stream",
     "text": [
      "Epoch 17/20 [Train]: 100%|██████████| 86/86 [00:32<00:00,  2.68it/s]\n",
      "Epoch 17/20 [Val]: 100%|██████████| 11/11 [00:08<00:00,  1.25it/s]\n"
     ]
    },
    {
     "name": "stdout",
     "output_type": "stream",
     "text": [
      "Epoch 17/20: Train Loss=1.1326, Train Acc=0.7826, Val Loss=1.2680, Val Acc=0.7317, LR=0.001000\n"
     ]
    },
    {
     "name": "stderr",
     "output_type": "stream",
     "text": [
      "Epoch 18/20 [Train]: 100%|██████████| 86/86 [00:30<00:00,  2.82it/s]\n",
      "Epoch 18/20 [Val]: 100%|██████████| 11/11 [00:09<00:00,  1.18it/s]\n"
     ]
    },
    {
     "name": "stdout",
     "output_type": "stream",
     "text": [
      "Epoch 18/20: Train Loss=1.1167, Train Acc=0.7941, Val Loss=1.2370, Val Acc=0.7683, LR=0.001000\n",
      "✓ Best model saved in d:\\Uni\\Master\\1 Bimestre\\Foundations\\Assignments\\Weather-Clasification\\notebooks\\experiments\\models\\best_model_CNN_V3_reg_v2_Adam.pth (val_acc=0.7683)\n"
     ]
    },
    {
     "name": "stderr",
     "output_type": "stream",
     "text": [
      "Epoch 19/20 [Train]: 100%|██████████| 86/86 [00:31<00:00,  2.71it/s]\n",
      "Epoch 19/20 [Val]: 100%|██████████| 11/11 [00:08<00:00,  1.27it/s]\n"
     ]
    },
    {
     "name": "stdout",
     "output_type": "stream",
     "text": [
      "Epoch 19/20: Train Loss=1.0974, Train Acc=0.8063, Val Loss=1.2655, Val Acc=0.7390, LR=0.001000\n"
     ]
    },
    {
     "name": "stderr",
     "output_type": "stream",
     "text": [
      "Epoch 20/20 [Train]: 100%|██████████| 86/86 [00:31<00:00,  2.70it/s]\n",
      "Epoch 20/20 [Val]: 100%|██████████| 11/11 [00:09<00:00,  1.13it/s]\n"
     ]
    },
    {
     "name": "stdout",
     "output_type": "stream",
     "text": [
      "Epoch 20/20: Train Loss=1.0544, Train Acc=0.8268, Val Loss=1.2204, Val Acc=0.7654, LR=0.001000\n",
      "\n",
      "Training complete!\n",
      "Best val_acc: 0.7683\n",
      "Best val_loss: 1.2370\n",
      "Metrics saved in d:\\Uni\\Master\\1 Bimestre\\Foundations\\Assignments\\Weather-Clasification\\notebooks\\experiments\\reports\\metrics\\metrics_CNN_V3_reg_v2_Adam.pkl\n",
      "Model saved in d:\\Uni\\Master\\1 Bimestre\\Foundations\\Assignments\\Weather-Clasification\\notebooks\\experiments\\models\\best_model_CNN_V3_reg_v2_Adam.pth\n",
      "\n",
      "===== Training with optimizer: Momentum =====\n",
      "\n",
      "Class counts: Counter({8: 928, 1: 680, 0: 558, 9: 553, 3: 511, 10: 496, 4: 472, 6: 420, 2: 380, 5: 301, 7: 185})\n",
      "Class weights: {0: '9.828', 1: '8.065', 2: '14.432', 3: '10.732', 4: '11.619', 5: '18.219', 6: '13.057', 7: '29.643', 8: '5.909', 9: '9.917', 10: '11.056'}\n",
      "\n",
      "Model: CNN_V3_reg_v2\n",
      "Total parameters: 6,981,035\n",
      "Trainable parameters: 6,981,035\n",
      "\n"
     ]
    },
    {
     "name": "stderr",
     "output_type": "stream",
     "text": [
      "Epoch 1/20 [Train]: 100%|██████████| 86/86 [00:31<00:00,  2.77it/s]\n",
      "Epoch 1/20 [Val]: 100%|██████████| 11/11 [00:08<00:00,  1.28it/s]\n"
     ]
    },
    {
     "name": "stdout",
     "output_type": "stream",
     "text": [
      "Epoch 1/20: Train Loss=2.4411, Train Acc=0.0830, Val Loss=2.4659, Val Acc=0.0880, LR=0.001000\n",
      "✓ Best model saved in d:\\Uni\\Master\\1 Bimestre\\Foundations\\Assignments\\Weather-Clasification\\notebooks\\experiments\\models\\best_model_CNN_V3_reg_v2_Momentum.pth (val_acc=0.0880)\n"
     ]
    },
    {
     "name": "stderr",
     "output_type": "stream",
     "text": [
      "Epoch 2/20 [Train]: 100%|██████████| 86/86 [00:33<00:00,  2.53it/s]\n",
      "Epoch 2/20 [Val]: 100%|██████████| 11/11 [00:08<00:00,  1.28it/s]\n"
     ]
    },
    {
     "name": "stdout",
     "output_type": "stream",
     "text": [
      "Epoch 2/20: Train Loss=2.4391, Train Acc=0.0857, Val Loss=2.4650, Val Acc=0.0689, LR=0.001000\n"
     ]
    },
    {
     "name": "stderr",
     "output_type": "stream",
     "text": [
      "Epoch 3/20 [Train]: 100%|██████████| 86/86 [00:30<00:00,  2.81it/s]\n",
      "Epoch 3/20 [Val]: 100%|██████████| 11/11 [00:08<00:00,  1.32it/s]\n"
     ]
    },
    {
     "name": "stdout",
     "output_type": "stream",
     "text": [
      "Epoch 3/20: Train Loss=2.4362, Train Acc=0.0770, Val Loss=2.4632, Val Acc=0.0733, LR=0.001000\n"
     ]
    },
    {
     "name": "stderr",
     "output_type": "stream",
     "text": [
      "Epoch 4/20 [Train]: 100%|██████████| 86/86 [00:30<00:00,  2.83it/s]\n",
      "Epoch 4/20 [Val]: 100%|██████████| 11/11 [00:08<00:00,  1.33it/s]\n"
     ]
    },
    {
     "name": "stdout",
     "output_type": "stream",
     "text": [
      "Epoch 4/20: Train Loss=2.4321, Train Acc=0.0804, Val Loss=2.4580, Val Acc=0.0850, LR=0.001000\n"
     ]
    },
    {
     "name": "stderr",
     "output_type": "stream",
     "text": [
      "Epoch 5/20 [Train]: 100%|██████████| 86/86 [00:30<00:00,  2.86it/s]\n",
      "Epoch 5/20 [Val]: 100%|██████████| 11/11 [00:08<00:00,  1.33it/s]\n"
     ]
    },
    {
     "name": "stdout",
     "output_type": "stream",
     "text": [
      "Epoch 5/20: Train Loss=2.4180, Train Acc=0.0879, Val Loss=2.4395, Val Acc=0.0953, LR=0.001000\n",
      "✓ Best model saved in d:\\Uni\\Master\\1 Bimestre\\Foundations\\Assignments\\Weather-Clasification\\notebooks\\experiments\\models\\best_model_CNN_V3_reg_v2_Momentum.pth (val_acc=0.0953)\n"
     ]
    },
    {
     "name": "stderr",
     "output_type": "stream",
     "text": [
      "Epoch 6/20 [Train]: 100%|██████████| 86/86 [00:30<00:00,  2.83it/s]\n",
      "Epoch 6/20 [Val]: 100%|██████████| 11/11 [00:08<00:00,  1.32it/s]\n"
     ]
    },
    {
     "name": "stdout",
     "output_type": "stream",
     "text": [
      "Epoch 6/20: Train Loss=2.3860, Train Acc=0.1492, Val Loss=2.3998, Val Acc=0.2258, LR=0.001000\n",
      "✓ Best model saved in d:\\Uni\\Master\\1 Bimestre\\Foundations\\Assignments\\Weather-Clasification\\notebooks\\experiments\\models\\best_model_CNN_V3_reg_v2_Momentum.pth (val_acc=0.2258)\n"
     ]
    },
    {
     "name": "stderr",
     "output_type": "stream",
     "text": [
      "Epoch 7/20 [Train]: 100%|██████████| 86/86 [00:31<00:00,  2.75it/s]\n",
      "Epoch 7/20 [Val]: 100%|██████████| 11/11 [00:09<00:00,  1.17it/s]\n"
     ]
    },
    {
     "name": "stdout",
     "output_type": "stream",
     "text": [
      "Epoch 7/20: Train Loss=2.3594, Train Acc=0.1997, Val Loss=2.3681, Val Acc=0.2654, LR=0.001000\n",
      "✓ Best model saved in d:\\Uni\\Master\\1 Bimestre\\Foundations\\Assignments\\Weather-Clasification\\notebooks\\experiments\\models\\best_model_CNN_V3_reg_v2_Momentum.pth (val_acc=0.2654)\n"
     ]
    },
    {
     "name": "stderr",
     "output_type": "stream",
     "text": [
      "Epoch 8/20 [Train]: 100%|██████████| 86/86 [00:33<00:00,  2.53it/s]\n",
      "Epoch 8/20 [Val]: 100%|██████████| 11/11 [00:08<00:00,  1.22it/s]\n"
     ]
    },
    {
     "name": "stdout",
     "output_type": "stream",
     "text": [
      "Epoch 8/20: Train Loss=2.3319, Train Acc=0.2319, Val Loss=2.3489, Val Acc=0.3006, LR=0.001000\n",
      "✓ Best model saved in d:\\Uni\\Master\\1 Bimestre\\Foundations\\Assignments\\Weather-Clasification\\notebooks\\experiments\\models\\best_model_CNN_V3_reg_v2_Momentum.pth (val_acc=0.3006)\n"
     ]
    },
    {
     "name": "stderr",
     "output_type": "stream",
     "text": [
      "Epoch 9/20 [Train]: 100%|██████████| 86/86 [00:31<00:00,  2.76it/s]\n",
      "Epoch 9/20 [Val]: 100%|██████████| 11/11 [00:08<00:00,  1.31it/s]\n"
     ]
    },
    {
     "name": "stdout",
     "output_type": "stream",
     "text": [
      "Epoch 9/20: Train Loss=2.3099, Train Acc=0.2505, Val Loss=2.3267, Val Acc=0.3255, LR=0.001000\n",
      "✓ Best model saved in d:\\Uni\\Master\\1 Bimestre\\Foundations\\Assignments\\Weather-Clasification\\notebooks\\experiments\\models\\best_model_CNN_V3_reg_v2_Momentum.pth (val_acc=0.3255)\n"
     ]
    },
    {
     "name": "stderr",
     "output_type": "stream",
     "text": [
      "Epoch 10/20 [Train]: 100%|██████████| 86/86 [00:35<00:00,  2.42it/s]\n",
      "Epoch 10/20 [Val]: 100%|██████████| 11/11 [00:08<00:00,  1.23it/s]\n"
     ]
    },
    {
     "name": "stdout",
     "output_type": "stream",
     "text": [
      "Epoch 10/20: Train Loss=2.2776, Train Acc=0.2695, Val Loss=2.2971, Val Acc=0.3065, LR=0.001000\n"
     ]
    },
    {
     "name": "stderr",
     "output_type": "stream",
     "text": [
      "Epoch 11/20 [Train]: 100%|██████████| 86/86 [00:31<00:00,  2.76it/s]\n",
      "Epoch 11/20 [Val]: 100%|██████████| 11/11 [00:08<00:00,  1.31it/s]\n"
     ]
    },
    {
     "name": "stdout",
     "output_type": "stream",
     "text": [
      "Epoch 11/20: Train Loss=2.2546, Train Acc=0.2728, Val Loss=2.2784, Val Acc=0.3123, LR=0.001000\n"
     ]
    },
    {
     "name": "stderr",
     "output_type": "stream",
     "text": [
      "Epoch 12/20 [Train]: 100%|██████████| 86/86 [00:30<00:00,  2.84it/s]\n",
      "Epoch 12/20 [Val]: 100%|██████████| 11/11 [00:08<00:00,  1.32it/s]\n"
     ]
    },
    {
     "name": "stdout",
     "output_type": "stream",
     "text": [
      "Epoch 12/20: Train Loss=2.2170, Train Acc=0.2903, Val Loss=2.2391, Val Acc=0.3358, LR=0.001000\n",
      "✓ Best model saved in d:\\Uni\\Master\\1 Bimestre\\Foundations\\Assignments\\Weather-Clasification\\notebooks\\experiments\\models\\best_model_CNN_V3_reg_v2_Momentum.pth (val_acc=0.3358)\n"
     ]
    },
    {
     "name": "stderr",
     "output_type": "stream",
     "text": [
      "Epoch 13/20 [Train]: 100%|██████████| 86/86 [00:30<00:00,  2.82it/s]\n",
      "Epoch 13/20 [Val]: 100%|██████████| 11/11 [00:08<00:00,  1.32it/s]\n"
     ]
    },
    {
     "name": "stdout",
     "output_type": "stream",
     "text": [
      "Epoch 13/20: Train Loss=2.1972, Train Acc=0.2914, Val Loss=2.2213, Val Acc=0.3343, LR=0.001000\n"
     ]
    },
    {
     "name": "stderr",
     "output_type": "stream",
     "text": [
      "Epoch 14/20 [Train]: 100%|██████████| 86/86 [00:30<00:00,  2.82it/s]\n",
      "Epoch 14/20 [Val]: 100%|██████████| 11/11 [00:08<00:00,  1.33it/s]\n"
     ]
    },
    {
     "name": "stdout",
     "output_type": "stream",
     "text": [
      "Epoch 14/20: Train Loss=2.1790, Train Acc=0.2983, Val Loss=2.1971, Val Acc=0.3592, LR=0.001000\n",
      "✓ Best model saved in d:\\Uni\\Master\\1 Bimestre\\Foundations\\Assignments\\Weather-Clasification\\notebooks\\experiments\\models\\best_model_CNN_V3_reg_v2_Momentum.pth (val_acc=0.3592)\n"
     ]
    },
    {
     "name": "stderr",
     "output_type": "stream",
     "text": [
      "Epoch 15/20 [Train]: 100%|██████████| 86/86 [00:30<00:00,  2.84it/s]\n",
      "Epoch 15/20 [Val]: 100%|██████████| 11/11 [00:08<00:00,  1.28it/s]\n"
     ]
    },
    {
     "name": "stdout",
     "output_type": "stream",
     "text": [
      "Epoch 15/20: Train Loss=2.1571, Train Acc=0.3076, Val Loss=2.1827, Val Acc=0.3548, LR=0.001000\n"
     ]
    },
    {
     "name": "stderr",
     "output_type": "stream",
     "text": [
      "Epoch 16/20 [Train]: 100%|██████████| 86/86 [00:30<00:00,  2.81it/s]\n",
      "Epoch 16/20 [Val]: 100%|██████████| 11/11 [00:08<00:00,  1.35it/s]\n"
     ]
    },
    {
     "name": "stdout",
     "output_type": "stream",
     "text": [
      "Epoch 16/20: Train Loss=2.1402, Train Acc=0.3224, Val Loss=2.1726, Val Acc=0.3666, LR=0.001000\n",
      "✓ Best model saved in d:\\Uni\\Master\\1 Bimestre\\Foundations\\Assignments\\Weather-Clasification\\notebooks\\experiments\\models\\best_model_CNN_V3_reg_v2_Momentum.pth (val_acc=0.3666)\n"
     ]
    },
    {
     "name": "stderr",
     "output_type": "stream",
     "text": [
      "Epoch 17/20 [Train]: 100%|██████████| 86/86 [00:30<00:00,  2.85it/s]\n",
      "Epoch 17/20 [Val]: 100%|██████████| 11/11 [00:08<00:00,  1.28it/s]\n"
     ]
    },
    {
     "name": "stdout",
     "output_type": "stream",
     "text": [
      "Epoch 17/20: Train Loss=2.1277, Train Acc=0.3306, Val Loss=2.1557, Val Acc=0.3812, LR=0.001000\n",
      "✓ Best model saved in d:\\Uni\\Master\\1 Bimestre\\Foundations\\Assignments\\Weather-Clasification\\notebooks\\experiments\\models\\best_model_CNN_V3_reg_v2_Momentum.pth (val_acc=0.3812)\n"
     ]
    },
    {
     "name": "stderr",
     "output_type": "stream",
     "text": [
      "Epoch 18/20 [Train]: 100%|██████████| 86/86 [00:29<00:00,  2.89it/s]\n",
      "Epoch 18/20 [Val]: 100%|██████████| 11/11 [00:08<00:00,  1.32it/s]\n"
     ]
    },
    {
     "name": "stdout",
     "output_type": "stream",
     "text": [
      "Epoch 18/20: Train Loss=2.1154, Train Acc=0.3313, Val Loss=2.1534, Val Acc=0.3827, LR=0.001000\n",
      "✓ Best model saved in d:\\Uni\\Master\\1 Bimestre\\Foundations\\Assignments\\Weather-Clasification\\notebooks\\experiments\\models\\best_model_CNN_V3_reg_v2_Momentum.pth (val_acc=0.3827)\n"
     ]
    },
    {
     "name": "stderr",
     "output_type": "stream",
     "text": [
      "Epoch 19/20 [Train]: 100%|██████████| 86/86 [00:29<00:00,  2.88it/s]\n",
      "Epoch 19/20 [Val]: 100%|██████████| 11/11 [00:08<00:00,  1.34it/s]\n"
     ]
    },
    {
     "name": "stdout",
     "output_type": "stream",
     "text": [
      "Epoch 19/20: Train Loss=2.1002, Train Acc=0.3466, Val Loss=2.1371, Val Acc=0.4003, LR=0.001000\n",
      "✓ Best model saved in d:\\Uni\\Master\\1 Bimestre\\Foundations\\Assignments\\Weather-Clasification\\notebooks\\experiments\\models\\best_model_CNN_V3_reg_v2_Momentum.pth (val_acc=0.4003)\n"
     ]
    },
    {
     "name": "stderr",
     "output_type": "stream",
     "text": [
      "Epoch 20/20 [Train]: 100%|██████████| 86/86 [00:30<00:00,  2.86it/s]\n",
      "Epoch 20/20 [Val]: 100%|██████████| 11/11 [00:08<00:00,  1.34it/s]\n"
     ]
    },
    {
     "name": "stdout",
     "output_type": "stream",
     "text": [
      "Epoch 20/20: Train Loss=2.0958, Train Acc=0.3425, Val Loss=2.1346, Val Acc=0.4032, LR=0.001000\n",
      "✓ Best model saved in d:\\Uni\\Master\\1 Bimestre\\Foundations\\Assignments\\Weather-Clasification\\notebooks\\experiments\\models\\best_model_CNN_V3_reg_v2_Momentum.pth (val_acc=0.4032)\n",
      "\n",
      "Training complete!\n",
      "Best val_acc: 0.4032\n",
      "Best val_loss: 2.1346\n",
      "Metrics saved in d:\\Uni\\Master\\1 Bimestre\\Foundations\\Assignments\\Weather-Clasification\\notebooks\\experiments\\reports\\metrics\\metrics_CNN_V3_reg_v2_Momentum.pkl\n",
      "Model saved in d:\\Uni\\Master\\1 Bimestre\\Foundations\\Assignments\\Weather-Clasification\\notebooks\\experiments\\models\\best_model_CNN_V3_reg_v2_Momentum.pth\n",
      "\n",
      "===== Training with optimizer: RMSprop =====\n",
      "\n",
      "Class counts: Counter({8: 928, 1: 680, 0: 558, 9: 553, 3: 511, 10: 496, 4: 472, 6: 420, 2: 380, 5: 301, 7: 185})\n",
      "Class weights: {0: '9.828', 1: '8.065', 2: '14.432', 3: '10.732', 4: '11.619', 5: '18.219', 6: '13.057', 7: '29.643', 8: '5.909', 9: '9.917', 10: '11.056'}\n",
      "\n",
      "Model: CNN_V3_reg_v2\n",
      "Total parameters: 6,981,035\n",
      "Trainable parameters: 6,981,035\n",
      "\n"
     ]
    },
    {
     "name": "stderr",
     "output_type": "stream",
     "text": [
      "Epoch 1/20 [Train]: 100%|██████████| 86/86 [00:29<00:00,  2.88it/s]\n",
      "Epoch 1/20 [Val]: 100%|██████████| 11/11 [00:08<00:00,  1.35it/s]\n"
     ]
    },
    {
     "name": "stdout",
     "output_type": "stream",
     "text": [
      "Epoch 1/20: Train Loss=2.2410, Train Acc=0.2657, Val Loss=1.9297, Val Acc=0.4399, LR=0.001000\n",
      "✓ Best model saved in d:\\Uni\\Master\\1 Bimestre\\Foundations\\Assignments\\Weather-Clasification\\notebooks\\experiments\\models\\best_model_CNN_V3_reg_v2_RMSprop.pth (val_acc=0.4399)\n"
     ]
    },
    {
     "name": "stderr",
     "output_type": "stream",
     "text": [
      "Epoch 2/20 [Train]: 100%|██████████| 86/86 [00:30<00:00,  2.84it/s]\n",
      "Epoch 2/20 [Val]: 100%|██████████| 11/11 [00:08<00:00,  1.33it/s]\n"
     ]
    },
    {
     "name": "stdout",
     "output_type": "stream",
     "text": [
      "Epoch 2/20: Train Loss=1.8546, Train Acc=0.4508, Val Loss=1.7765, Val Acc=0.5440, LR=0.001000\n",
      "✓ Best model saved in d:\\Uni\\Master\\1 Bimestre\\Foundations\\Assignments\\Weather-Clasification\\notebooks\\experiments\\models\\best_model_CNN_V3_reg_v2_RMSprop.pth (val_acc=0.5440)\n"
     ]
    },
    {
     "name": "stderr",
     "output_type": "stream",
     "text": [
      "Epoch 3/20 [Train]: 100%|██████████| 86/86 [00:29<00:00,  2.88it/s]\n",
      "Epoch 3/20 [Val]: 100%|██████████| 11/11 [00:08<00:00,  1.36it/s]\n"
     ]
    },
    {
     "name": "stdout",
     "output_type": "stream",
     "text": [
      "Epoch 3/20: Train Loss=1.6878, Train Acc=0.5399, Val Loss=1.5735, Val Acc=0.6129, LR=0.001000\n",
      "✓ Best model saved in d:\\Uni\\Master\\1 Bimestre\\Foundations\\Assignments\\Weather-Clasification\\notebooks\\experiments\\models\\best_model_CNN_V3_reg_v2_RMSprop.pth (val_acc=0.6129)\n"
     ]
    },
    {
     "name": "stderr",
     "output_type": "stream",
     "text": [
      "Epoch 4/20 [Train]: 100%|██████████| 86/86 [00:30<00:00,  2.83it/s]\n",
      "Epoch 4/20 [Val]: 100%|██████████| 11/11 [00:08<00:00,  1.32it/s]\n"
     ]
    },
    {
     "name": "stdout",
     "output_type": "stream",
     "text": [
      "Epoch 4/20: Train Loss=1.5755, Train Acc=0.5965, Val Loss=1.5556, Val Acc=0.6525, LR=0.001000\n",
      "✓ Best model saved in d:\\Uni\\Master\\1 Bimestre\\Foundations\\Assignments\\Weather-Clasification\\notebooks\\experiments\\models\\best_model_CNN_V3_reg_v2_RMSprop.pth (val_acc=0.6525)\n"
     ]
    },
    {
     "name": "stderr",
     "output_type": "stream",
     "text": [
      "Epoch 5/20 [Train]: 100%|██████████| 86/86 [00:30<00:00,  2.79it/s]\n",
      "Epoch 5/20 [Val]: 100%|██████████| 11/11 [00:08<00:00,  1.30it/s]\n"
     ]
    },
    {
     "name": "stdout",
     "output_type": "stream",
     "text": [
      "Epoch 5/20: Train Loss=1.5128, Train Acc=0.6165, Val Loss=1.5364, Val Acc=0.6730, LR=0.001000\n",
      "✓ Best model saved in d:\\Uni\\Master\\1 Bimestre\\Foundations\\Assignments\\Weather-Clasification\\notebooks\\experiments\\models\\best_model_CNN_V3_reg_v2_RMSprop.pth (val_acc=0.6730)\n"
     ]
    },
    {
     "name": "stderr",
     "output_type": "stream",
     "text": [
      "Epoch 6/20 [Train]: 100%|██████████| 86/86 [00:30<00:00,  2.82it/s]\n",
      "Epoch 6/20 [Val]: 100%|██████████| 11/11 [00:08<00:00,  1.34it/s]\n"
     ]
    },
    {
     "name": "stdout",
     "output_type": "stream",
     "text": [
      "Epoch 6/20: Train Loss=1.4478, Train Acc=0.6490, Val Loss=1.5649, Val Acc=0.6598, LR=0.001000\n"
     ]
    },
    {
     "name": "stderr",
     "output_type": "stream",
     "text": [
      "Epoch 7/20 [Train]: 100%|██████████| 86/86 [00:30<00:00,  2.85it/s]\n",
      "Epoch 7/20 [Val]: 100%|██████████| 11/11 [00:08<00:00,  1.34it/s]\n"
     ]
    },
    {
     "name": "stdout",
     "output_type": "stream",
     "text": [
      "Epoch 7/20: Train Loss=1.3952, Train Acc=0.6721, Val Loss=1.4261, Val Acc=0.6906, LR=0.001000\n",
      "✓ Best model saved in d:\\Uni\\Master\\1 Bimestre\\Foundations\\Assignments\\Weather-Clasification\\notebooks\\experiments\\models\\best_model_CNN_V3_reg_v2_RMSprop.pth (val_acc=0.6906)\n"
     ]
    },
    {
     "name": "stderr",
     "output_type": "stream",
     "text": [
      "Epoch 8/20 [Train]: 100%|██████████| 86/86 [00:30<00:00,  2.85it/s]\n",
      "Epoch 8/20 [Val]: 100%|██████████| 11/11 [00:08<00:00,  1.35it/s]\n"
     ]
    },
    {
     "name": "stdout",
     "output_type": "stream",
     "text": [
      "Epoch 8/20: Train Loss=1.3493, Train Acc=0.6955, Val Loss=1.4508, Val Acc=0.6246, LR=0.001000\n"
     ]
    },
    {
     "name": "stderr",
     "output_type": "stream",
     "text": [
      "Epoch 9/20 [Train]: 100%|██████████| 86/86 [00:29<00:00,  2.90it/s]\n",
      "Epoch 9/20 [Val]: 100%|██████████| 11/11 [00:08<00:00,  1.35it/s]\n"
     ]
    },
    {
     "name": "stdout",
     "output_type": "stream",
     "text": [
      "Epoch 9/20: Train Loss=1.2993, Train Acc=0.7148, Val Loss=1.3896, Val Acc=0.6950, LR=0.001000\n",
      "✓ Best model saved in d:\\Uni\\Master\\1 Bimestre\\Foundations\\Assignments\\Weather-Clasification\\notebooks\\experiments\\models\\best_model_CNN_V3_reg_v2_RMSprop.pth (val_acc=0.6950)\n"
     ]
    },
    {
     "name": "stderr",
     "output_type": "stream",
     "text": [
      "Epoch 10/20 [Train]: 100%|██████████| 86/86 [00:30<00:00,  2.79it/s]\n",
      "Epoch 10/20 [Val]: 100%|██████████| 11/11 [00:08<00:00,  1.33it/s]\n"
     ]
    },
    {
     "name": "stdout",
     "output_type": "stream",
     "text": [
      "Epoch 10/20: Train Loss=1.2697, Train Acc=0.7323, Val Loss=1.3072, Val Acc=0.7229, LR=0.001000\n",
      "✓ Best model saved in d:\\Uni\\Master\\1 Bimestre\\Foundations\\Assignments\\Weather-Clasification\\notebooks\\experiments\\models\\best_model_CNN_V3_reg_v2_RMSprop.pth (val_acc=0.7229)\n"
     ]
    },
    {
     "name": "stderr",
     "output_type": "stream",
     "text": [
      "Epoch 11/20 [Train]: 100%|██████████| 86/86 [00:29<00:00,  2.88it/s]\n",
      "Epoch 11/20 [Val]: 100%|██████████| 11/11 [00:08<00:00,  1.32it/s]\n"
     ]
    },
    {
     "name": "stdout",
     "output_type": "stream",
     "text": [
      "Epoch 11/20: Train Loss=1.2138, Train Acc=0.7495, Val Loss=1.3039, Val Acc=0.7229, LR=0.001000\n"
     ]
    },
    {
     "name": "stderr",
     "output_type": "stream",
     "text": [
      "Epoch 12/20 [Train]: 100%|██████████| 86/86 [00:29<00:00,  2.88it/s]\n",
      "Epoch 12/20 [Val]: 100%|██████████| 11/11 [00:08<00:00,  1.32it/s]\n"
     ]
    },
    {
     "name": "stdout",
     "output_type": "stream",
     "text": [
      "Epoch 12/20: Train Loss=1.1845, Train Acc=0.7604, Val Loss=1.2483, Val Acc=0.7507, LR=0.001000\n",
      "✓ Best model saved in d:\\Uni\\Master\\1 Bimestre\\Foundations\\Assignments\\Weather-Clasification\\notebooks\\experiments\\models\\best_model_CNN_V3_reg_v2_RMSprop.pth (val_acc=0.7507)\n"
     ]
    },
    {
     "name": "stderr",
     "output_type": "stream",
     "text": [
      "Epoch 13/20 [Train]: 100%|██████████| 86/86 [00:30<00:00,  2.83it/s]\n",
      "Epoch 13/20 [Val]: 100%|██████████| 11/11 [00:08<00:00,  1.30it/s]\n"
     ]
    },
    {
     "name": "stdout",
     "output_type": "stream",
     "text": [
      "Epoch 13/20: Train Loss=1.1441, Train Acc=0.7837, Val Loss=1.2485, Val Acc=0.7757, LR=0.001000\n",
      "✓ Best model saved in d:\\Uni\\Master\\1 Bimestre\\Foundations\\Assignments\\Weather-Clasification\\notebooks\\experiments\\models\\best_model_CNN_V3_reg_v2_RMSprop.pth (val_acc=0.7757)\n"
     ]
    },
    {
     "name": "stderr",
     "output_type": "stream",
     "text": [
      "Epoch 14/20 [Train]: 100%|██████████| 86/86 [00:29<00:00,  2.87it/s]\n",
      "Epoch 14/20 [Val]: 100%|██████████| 11/11 [00:08<00:00,  1.31it/s]\n"
     ]
    },
    {
     "name": "stdout",
     "output_type": "stream",
     "text": [
      "Epoch 14/20: Train Loss=1.1126, Train Acc=0.7961, Val Loss=1.2160, Val Acc=0.7625, LR=0.001000\n"
     ]
    },
    {
     "name": "stderr",
     "output_type": "stream",
     "text": [
      "Epoch 15/20 [Train]: 100%|██████████| 86/86 [00:30<00:00,  2.86it/s]\n",
      "Epoch 15/20 [Val]: 100%|██████████| 11/11 [00:09<00:00,  1.21it/s]\n"
     ]
    },
    {
     "name": "stdout",
     "output_type": "stream",
     "text": [
      "Epoch 15/20: Train Loss=1.0765, Train Acc=0.8142, Val Loss=1.1978, Val Acc=0.7625, LR=0.001000\n"
     ]
    },
    {
     "name": "stderr",
     "output_type": "stream",
     "text": [
      "Epoch 16/20 [Train]: 100%|██████████| 86/86 [00:31<00:00,  2.76it/s]\n",
      "Epoch 16/20 [Val]: 100%|██████████| 11/11 [00:08<00:00,  1.23it/s]\n"
     ]
    },
    {
     "name": "stdout",
     "output_type": "stream",
     "text": [
      "Epoch 16/20: Train Loss=1.0480, Train Acc=0.8259, Val Loss=1.2392, Val Acc=0.7625, LR=0.001000\n"
     ]
    },
    {
     "name": "stderr",
     "output_type": "stream",
     "text": [
      "Epoch 17/20 [Train]: 100%|██████████| 86/86 [00:30<00:00,  2.81it/s]\n",
      "Epoch 17/20 [Val]: 100%|██████████| 11/11 [00:08<00:00,  1.28it/s]\n"
     ]
    },
    {
     "name": "stdout",
     "output_type": "stream",
     "text": [
      "Epoch 17/20: Train Loss=1.0002, Train Acc=0.8497, Val Loss=1.2480, Val Acc=0.7405, LR=0.001000\n"
     ]
    },
    {
     "name": "stderr",
     "output_type": "stream",
     "text": [
      "Epoch 18/20 [Train]: 100%|██████████| 86/86 [00:30<00:00,  2.84it/s]\n",
      "Epoch 18/20 [Val]: 100%|██████████| 11/11 [00:09<00:00,  1.22it/s]\n"
     ]
    },
    {
     "name": "stdout",
     "output_type": "stream",
     "text": [
      "Epoch 18/20: Train Loss=0.9851, Train Acc=0.8550, Val Loss=1.1813, Val Acc=0.7830, LR=0.001000\n",
      "✓ Best model saved in d:\\Uni\\Master\\1 Bimestre\\Foundations\\Assignments\\Weather-Clasification\\notebooks\\experiments\\models\\best_model_CNN_V3_reg_v2_RMSprop.pth (val_acc=0.7830)\n"
     ]
    },
    {
     "name": "stderr",
     "output_type": "stream",
     "text": [
      "Epoch 19/20 [Train]: 100%|██████████| 86/86 [00:30<00:00,  2.83it/s]\n",
      "Epoch 19/20 [Val]: 100%|██████████| 11/11 [00:08<00:00,  1.26it/s]\n"
     ]
    },
    {
     "name": "stdout",
     "output_type": "stream",
     "text": [
      "Epoch 19/20: Train Loss=0.9531, Train Acc=0.8638, Val Loss=1.1844, Val Acc=0.7610, LR=0.001000\n"
     ]
    },
    {
     "name": "stderr",
     "output_type": "stream",
     "text": [
      "Epoch 20/20 [Train]: 100%|██████████| 86/86 [00:30<00:00,  2.80it/s]\n",
      "Epoch 20/20 [Val]: 100%|██████████| 11/11 [00:09<00:00,  1.17it/s]"
     ]
    },
    {
     "name": "stdout",
     "output_type": "stream",
     "text": [
      "Epoch 20/20: Train Loss=0.9316, Train Acc=0.8747, Val Loss=1.1905, Val Acc=0.7801, LR=0.001000\n",
      "\n",
      "Training complete!\n",
      "Best val_acc: 0.7830\n",
      "Best val_loss: 1.1813\n",
      "Metrics saved in d:\\Uni\\Master\\1 Bimestre\\Foundations\\Assignments\\Weather-Clasification\\notebooks\\experiments\\reports\\metrics\\metrics_CNN_V3_reg_v2_RMSprop.pkl\n",
      "Model saved in d:\\Uni\\Master\\1 Bimestre\\Foundations\\Assignments\\Weather-Clasification\\notebooks\\experiments\\models\\best_model_CNN_V3_reg_v2_RMSprop.pth\n",
      "\n",
      "===== Optimizer Grid Search Results =====\n",
      "Adam: Best val_acc = 0.7683\n",
      "Momentum: Best val_acc = 0.4032\n",
      "RMSprop: Best val_acc = 0.7830\n"
     ]
    },
    {
     "name": "stderr",
     "output_type": "stream",
     "text": [
      "\n"
     ]
    }
   ],
   "source": [
    "input_dim = 224*224*3  # matches the Resize transform\n",
    "optimizers = [\"Adam\", \"Momentum\", \"RMSprop\"]\n",
    "results_optimizer = {}\n",
    "\n",
    "for opt in optimizers:\n",
    "    print(f\"\\n===== Training with optimizer: {opt} =====\\n\")\n",
    "    \n",
    "    model, history = train_model_improved(\n",
    "        model_class=CNN_V3_reg_v2,\n",
    "        train_dir=\"../../data/train\",\n",
    "        val_dir=\"../../data/val\",\n",
    "        input_dim=input_dim,\n",
    "        num_classes=11,\n",
    "        batch_size=64,\n",
    "        epochs=20,\n",
    "        lr=1e-3,\n",
    "        device=\"cuda\" if torch.cuda.is_available() else \"cpu\",\n",
    "        optimizer=opt\n",
    "    )\n",
    "    \n",
    "    results_optimizer[opt] = {\n",
    "        \"best_val_acc\": max(history[\"val_acc\"]),\n",
    "        \"history\": history\n",
    "    }\n",
    "\n",
    "# Optional: print summary\n",
    "print(\"\\n===== Optimizer Grid Search Results =====\")\n",
    "for opt, res in results_optimizer.items():\n",
    "    print(f\"{opt}: Best val_acc = {res['best_val_acc']:.4f}\")"
   ]
  },
  {
   "cell_type": "code",
   "execution_count": null,
   "id": "43f9da29",
   "metadata": {},
   "outputs": [],
   "source": [
    "reg_params = [\n",
    "    {\"p_conv\": 0.1, \"p_fc\": 0.3},\n",
    "    {\"p_conv\": 0.15, \"p_fc\": 0.4},\n",
    "    {\"p_conv\": 0.2, \"p_fc\": 0.5},\n",
    "]\n",
    "\n",
    "results_reg = {}\n",
    "\n",
    "for params in reg_params:\n",
    "    print(f\"\\n===== Training with p_conv={params['p_conv']}, p_fc={params['p_fc']} =====\\n\")\n",
    "    \n",
    "    # Use lambda to pass dropout params to constructor\n",
    "    model_class = lambda input_dim, num_classes=11: CNN_V3_reg_v2(\n",
    "        input_dim=input_dim, \n",
    "        num_classes=num_classes, \n",
    "        p_conv=params[\"p_conv\"], \n",
    "        p_fc=params[\"p_fc\"]\n",
    "    )\n",
    "    \n",
    "    model, history = train_model_improved(\n",
    "        model_class=model_class,\n",
    "        train_dir=\"../../data/train\",\n",
    "        val_dir=\"../../data/val\",\n",
    "        input_dim=input_dim,\n",
    "        num_classes=11,\n",
    "        batch_size=64,\n",
    "        epochs=5,\n",
    "        lr=1e-3,\n",
    "        device=\"cuda\" if torch.cuda.is_available() else \"cpu\",\n",
    "        optimizer=\"Adam\",\n",
    "        params = params\n",
    "    )\n",
    "    \n",
    "    results_reg[(params[\"p_conv\"], params[\"p_fc\"])] = {\n",
    "        \"best_val_acc\": max(history[\"val_acc\"]),\n",
    "        \"history\": history\n",
    "    }\n",
    "\n",
    "# Optional: print summary\n",
    "print(\"\\n===== Regularization Grid Search Results =====\")\n",
    "for (p_conv, p_fc), res in results_reg.items():\n",
    "    print(f\"p_conv={p_conv}, p_fc={p_fc}: Best val_acc = {res['best_val_acc']:.4f}\")"
   ]
  }
 ],
 "metadata": {
  "kernelspec": {
   "display_name": "py311ml",
   "language": "python",
   "name": "python3"
  },
  "language_info": {
   "codemirror_mode": {
    "name": "ipython",
    "version": 3
   },
   "file_extension": ".py",
   "mimetype": "text/x-python",
   "name": "python",
   "nbconvert_exporter": "python",
   "pygments_lexer": "ipython3",
   "version": "3.11.13"
  }
 },
 "nbformat": 4,
 "nbformat_minor": 5
}
