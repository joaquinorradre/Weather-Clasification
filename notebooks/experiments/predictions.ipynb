{
 "cells": [
  {
   "cell_type": "code",
   "execution_count": 1,
   "id": "0229b2a5",
   "metadata": {},
   "outputs": [],
   "source": [
    "import sys\n",
    "import pandas as pd\n",
    "import os\n",
    "\n",
    "# Add the root folder of your project\n",
    "root_path = os.path.abspath(os.path.join(\"..\", \"..\"))  # two levels up from experiments\n",
    "sys.path.append(root_path)\n",
    "\n",
    "from weather_classification.modeling.mlp import MLPClassifier\n",
    "from weather_classification.modeling.modern_lenet import LeNetModern\n",
    "from weather_classification.modeling.cnn import CNN_V1, CNN_V1_reg, CNN_V2, CNN_V2_reg\n",
    "from weather_classification.predict import predict\n",
    "from torchvision import transforms\n"
   ]
  },
  {
   "cell_type": "code",
   "execution_count": 3,
   "id": "9f686756",
   "metadata": {},
   "outputs": [
    {
     "name": "stderr",
     "output_type": "stream",
     "text": [
      "c:\\Users\\joaqu\\Desktop\\MASTER\\Foundations\\Entrega CNN\\Weather-Clasification\\weather_classification\\predict.py:15: FutureWarning: You are using `torch.load` with `weights_only=False` (the current default value), which uses the default pickle module implicitly. It is possible to construct malicious pickle data which will execute arbitrary code during unpickling (See https://github.com/pytorch/pytorch/blob/main/SECURITY.md#untrusted-models for more details). In a future release, the default value for `weights_only` will be flipped to `True`. This limits the functions that could be executed during unpickling. Arbitrary objects will no longer be allowed to be loaded via this mode unless they are explicitly allowlisted by the user via `torch.serialization.add_safe_globals`. We recommend you start setting `weights_only=True` for any use case where you don't have full control of the loaded file. Please open an issue on GitHub for any issues related to this experimental feature.\n",
      "  state_dict = torch.load(model_path, map_location=\"cpu\")\n"
     ]
    },
    {
     "name": "stdout",
     "output_type": "stream",
     "text": [
      "Validation accuracy: 0.49853372434017595\n",
      "✅ Results saved in ../../models/predictions\\preds_MLPClassifier.csv\n",
      "Global Accuracy: 0.4985\n"
     ]
    }
   ],
   "source": [
    "num_classes = 11\n",
    "model = MLPClassifier(input_dim=64*64*3, num_classes=num_classes)\n",
    "model_path = \"../../models/best_model_MLPClassifier.pth\"\n",
    "set_path = \"../../data/val\"\n",
    "\n",
    "transform = transforms.Compose([\n",
    "    transforms.Resize((64, 64)),   # Resize images\n",
    "    transforms.ToTensor(),         # Convert to tensor\n",
    "    transforms.Lambda(lambda x: x.view(-1))  # Flatten para MLP\n",
    "])\n",
    "acc, all_labels, all_preds, all_paths = predict(model, model_path, transform, set_path, batch_size=32)\n",
    "out_dir = \"../../models/predictions\"\n",
    "os.makedirs(out_dir, exist_ok=True)\n",
    "\n",
    "df = pd.DataFrame({\n",
    "    \"img_path\": all_paths,\n",
    "    \"true_label\": all_labels,\n",
    "    \"pred_label\": all_preds,\n",
    "    \"correct\": (pd.Series(all_labels) == pd.Series(all_preds)).astype(int)\n",
    "})\n",
    "\n",
    "out_path = os.path.join(out_dir, \"preds_MLPClassifier.csv\")\n",
    "df.to_csv(out_path, index=False)\n",
    "print(f\"✅ Results saved in {out_path}\")\n",
    "print(f\"Global Accuracy: {acc:.4f}\")"
   ]
  },
  {
   "cell_type": "code",
   "execution_count": 6,
   "id": "0223378d",
   "metadata": {},
   "outputs": [
    {
     "name": "stderr",
     "output_type": "stream",
     "text": [
      "c:\\Users\\joaqu\\Desktop\\MASTER\\Foundations\\Entrega CNN\\Weather-Clasification\\weather_classification\\predict.py:15: FutureWarning: You are using `torch.load` with `weights_only=False` (the current default value), which uses the default pickle module implicitly. It is possible to construct malicious pickle data which will execute arbitrary code during unpickling (See https://github.com/pytorch/pytorch/blob/main/SECURITY.md#untrusted-models for more details). In a future release, the default value for `weights_only` will be flipped to `True`. This limits the functions that could be executed during unpickling. Arbitrary objects will no longer be allowed to be loaded via this mode unless they are explicitly allowlisted by the user via `torch.serialization.add_safe_globals`. We recommend you start setting `weights_only=True` for any use case where you don't have full control of the loaded file. Please open an issue on GitHub for any issues related to this experimental feature.\n",
      "  state_dict = torch.load(model_path, map_location=\"cpu\")\n"
     ]
    },
    {
     "name": "stdout",
     "output_type": "stream",
     "text": [
      "Validation accuracy: 0.6847507331378299\n",
      "✅ Results saved in ../../models/predictions\\preds_LeNetModern.csv\n",
      "Global Accuracy: 0.6848\n"
     ]
    }
   ],
   "source": [
    "num_classes = 11\n",
    "model = LeNetModern(input_dim=64*64*3, num_classes=num_classes)\n",
    "model_path = \"../../models/best_model_LeNetModern.pth\"\n",
    "set_path = \"../../data/val\"\n",
    "\n",
    "transform = transforms.Compose([\n",
    "    transforms.Resize((64, 64)),\n",
    "    transforms.ToTensor(),\n",
    "])\n",
    "acc, all_labels, all_preds, all_paths = predict(model, model_path, transform, set_path, batch_size=32)\n",
    "out_dir = \"../../models/predictions\"\n",
    "os.makedirs(out_dir, exist_ok=True)\n",
    "\n",
    "df = pd.DataFrame({\n",
    "    \"img_path\": all_paths,\n",
    "    \"true_label\": all_labels,\n",
    "    \"pred_label\": all_preds,\n",
    "    \"correct\": (pd.Series(all_labels) == pd.Series(all_preds)).astype(int)\n",
    "})\n",
    "\n",
    "out_path = os.path.join(out_dir, \"preds_LeNetModern.csv\")\n",
    "df.to_csv(out_path, index=False)\n",
    "print(f\"✅ Results saved in {out_path}\")\n",
    "print(f\"Global Accuracy: {acc:.4f}\")"
   ]
  },
  {
   "cell_type": "code",
   "execution_count": 7,
   "id": "671355d2",
   "metadata": {},
   "outputs": [
    {
     "name": "stdout",
     "output_type": "stream",
     "text": [
      "Validation accuracy: 0.6803519061583577\n",
      "✅ Results saved in ../../models/predictions\\preds_CNN_V1.csv\n",
      "Global Accuracy: 0.6804\n"
     ]
    }
   ],
   "source": [
    "num_classes = 11\n",
    "model = CNN_V1(input_dim=64*64*3, num_classes=num_classes)\n",
    "model_path = \"../../models/best_model_CNN_V1.pth\"\n",
    "set_path = \"../../data/val\"\n",
    "\n",
    "transform = transforms.Compose([\n",
    "    transforms.Resize((64, 64)),\n",
    "    transforms.ToTensor(),\n",
    "])\n",
    "acc, all_labels, all_preds, all_paths = predict(model, model_path, transform, set_path, batch_size=32)\n",
    "out_dir = \"../../models/predictions\"\n",
    "os.makedirs(out_dir, exist_ok=True)\n",
    "\n",
    "df = pd.DataFrame({\n",
    "    \"img_path\": all_paths,\n",
    "    \"true_label\": all_labels,\n",
    "    \"pred_label\": all_preds,\n",
    "    \"correct\": (pd.Series(all_labels) == pd.Series(all_preds)).astype(int)\n",
    "})\n",
    "\n",
    "out_path = os.path.join(out_dir, \"preds_CNN_V1.csv\")\n",
    "df.to_csv(out_path, index=False)\n",
    "print(f\"✅ Results saved in {out_path}\")\n",
    "print(f\"Global Accuracy: {acc:.4f}\")"
   ]
  },
  {
   "cell_type": "code",
   "execution_count": 8,
   "id": "375b9f12",
   "metadata": {},
   "outputs": [
    {
     "name": "stdout",
     "output_type": "stream",
     "text": [
      "Validation accuracy: 0.6539589442815249\n",
      "✅ Results saved in ../../models/predictions\\preds_CNN_V1_reg.csv\n",
      "Global Accuracy: 0.6540\n"
     ]
    }
   ],
   "source": [
    "num_classes = 11\n",
    "model = CNN_V1_reg(input_dim=64*64*3, num_classes=num_classes)\n",
    "model_path = \"../../models/best_model_CNN_V1_reg.pth\"\n",
    "set_path = \"../../data/val\"\n",
    "\n",
    "transform = transforms.Compose([\n",
    "    transforms.Resize((64, 64)),\n",
    "    transforms.ToTensor(),\n",
    "])\n",
    "acc, all_labels, all_preds, all_paths = predict(model, model_path, transform, set_path, batch_size=32)\n",
    "out_dir = \"../../models/predictions\"\n",
    "os.makedirs(out_dir, exist_ok=True)\n",
    "\n",
    "df = pd.DataFrame({\n",
    "    \"img_path\": all_paths,\n",
    "    \"true_label\": all_labels,\n",
    "    \"pred_label\": all_preds,\n",
    "    \"correct\": (pd.Series(all_labels) == pd.Series(all_preds)).astype(int)\n",
    "})\n",
    "\n",
    "out_path = os.path.join(out_dir, \"preds_CNN_V1_reg.csv\")\n",
    "df.to_csv(out_path, index=False)\n",
    "print(f\"✅ Results saved in {out_path}\")\n",
    "print(f\"Global Accuracy: {acc:.4f}\")"
   ]
  },
  {
   "cell_type": "code",
   "execution_count": 10,
   "id": "8706fea3",
   "metadata": {},
   "outputs": [
    {
     "name": "stdout",
     "output_type": "stream",
     "text": [
      "Validation accuracy: 0.6920821114369502\n",
      "✅ Results saved in ../../models/predictions\\preds_CNN_V2.csv\n",
      "Global Accuracy: 0.6921\n"
     ]
    }
   ],
   "source": [
    "num_classes = 11\n",
    "model = CNN_V2(input_dim=64*64*3, num_classes=num_classes)\n",
    "model_path = \"../../models/best_model_CNN_V2.pth\"\n",
    "set_path = \"../../data/val\"\n",
    "\n",
    "transform = transforms.Compose([\n",
    "    transforms.Resize((64, 64)),\n",
    "    transforms.ToTensor(),\n",
    "])\n",
    "acc, all_labels, all_preds, all_paths = predict(model, model_path, transform, set_path, batch_size=32)\n",
    "out_dir = \"../../models/predictions\"\n",
    "os.makedirs(out_dir, exist_ok=True)\n",
    "\n",
    "df = pd.DataFrame({\n",
    "    \"img_path\": all_paths,\n",
    "    \"true_label\": all_labels,\n",
    "    \"pred_label\": all_preds,\n",
    "    \"correct\": (pd.Series(all_labels) == pd.Series(all_preds)).astype(int)\n",
    "})\n",
    "\n",
    "out_path = os.path.join(out_dir, \"preds_CNN_V2.csv\")\n",
    "df.to_csv(out_path, index=False)\n",
    "print(f\"✅ Results saved in {out_path}\")\n",
    "print(f\"Global Accuracy: {acc:.4f}\")"
   ]
  },
  {
   "cell_type": "code",
   "execution_count": 3,
   "id": "956cdddc",
   "metadata": {},
   "outputs": [
    {
     "name": "stdout",
     "output_type": "stream",
     "text": [
      "Validation accuracy: 0.6539589442815249\n",
      "✅ Results saved in ../../models/predictions\\preds_CNN_V2_reg.csv\n",
      "Global Accuracy: 0.6540\n"
     ]
    }
   ],
   "source": [
    "num_classes = 11\n",
    "model = CNN_V2_reg(input_dim=128*128*3, num_classes=num_classes)\n",
    "model_path = \"../../models/best_model_CNN_V2_reg.pth\"\n",
    "set_path = \"../../data/val\"\n",
    "\n",
    "transform = transforms.Compose([\n",
    "    transforms.Resize((128, 128)),\n",
    "    transforms.ToTensor(),\n",
    "])\n",
    "acc, all_labels, all_preds, all_paths = predict(model, model_path, transform, set_path, batch_size=32)\n",
    "out_dir = \"../../models/predictions\"\n",
    "os.makedirs(out_dir, exist_ok=True)\n",
    "\n",
    "df = pd.DataFrame({\n",
    "    \"img_path\": all_paths,\n",
    "    \"true_label\": all_labels,\n",
    "    \"pred_label\": all_preds,\n",
    "    \"correct\": (pd.Series(all_labels) == pd.Series(all_preds)).astype(int)\n",
    "})\n",
    "\n",
    "out_path = os.path.join(out_dir, \"preds_CNN_V2_reg.csv\")\n",
    "df.to_csv(out_path, index=False)\n",
    "print(f\"✅ Results saved in {out_path}\")\n",
    "print(f\"Global Accuracy: {acc:.4f}\")"
   ]
  }
 ],
 "metadata": {
  "kernelspec": {
   "display_name": "py311ml",
   "language": "python",
   "name": "python3"
  },
  "language_info": {
   "codemirror_mode": {
    "name": "ipython",
    "version": 3
   },
   "file_extension": ".py",
   "mimetype": "text/x-python",
   "name": "python",
   "nbconvert_exporter": "python",
   "pygments_lexer": "ipython3",
   "version": "3.11.13"
  }
 },
 "nbformat": 4,
 "nbformat_minor": 5
}
