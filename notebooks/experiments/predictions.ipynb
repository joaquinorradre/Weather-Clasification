{
 "cells": [
  {
   "cell_type": "code",
   "execution_count": null,
   "id": "0229b2a5",
   "metadata": {},
   "outputs": [],
   "source": [
    "import sys\n",
    "import pandas as pd\n",
    "import os\n",
    "\n",
    "# Add the root folder of your project\n",
    "root_path = os.path.abspath(os.path.join(\"..\", \"..\"))  # two levels up from experiments\n",
    "sys.path.append(root_path)\n",
    "\n",
    "from weather_classification.modeling.mlp import MLPClassifier\n",
    "from weather_classification.modeling.modern_lenet import LeNetModern\n",
    "from weather_classification.modeling.cnn import CNN_V1, CNN_V1_reg, CNN_V2, CNN_V2_reg, CNN_V3, CNN_V3_reg,CNN_V3_Improved\n",
    "from weather_classification.predict import predict\n",
    "from torchvision import transforms\n",
    "import torch\n",
    "from weather_classification.seed_utils import set_seed\n",
    "set_seed(1234)\n"
   ]
  },
  {
   "cell_type": "code",
   "execution_count": null,
   "id": "1c4ff79b",
   "metadata": {},
   "outputs": [],
   "source": [
    "mean = [0.5167, 0.5143, 0.5164]\n",
    "std = [0.2378, 0.2359, 0.2393]"
   ]
  },
  {
   "cell_type": "code",
   "execution_count": null,
   "id": "9f686756",
   "metadata": {},
   "outputs": [
    {
     "name": "stdout",
     "output_type": "stream",
     "text": [
      "../../data/val\n",
      "Validation accuracy: 0.5381231671554252\n",
      "✅ Results saved in ../../models/predictions\\preds_MLPClassifier.csv\n",
      "Global Accuracy: 0.5381\n"
     ]
    }
   ],
   "source": [
    "num_classes = 11\n",
    "model = MLPClassifier(input_dim=64*64*3, num_classes=num_classes)\n",
    "model_path = \"../../models/best_model_MLPClassifier.pth\"\n",
    "set_path = \"../../data/val\"\n",
    "\n",
    "transform = transforms.Compose([\n",
    "    transforms.Resize((64, 64)),   # Resize images\n",
    "    transforms.ToTensor(),         # Convert to tensor\n",
    "    transforms.Normalize(mean=mean, std=std),\n",
    "    transforms.Lambda(lambda x: x.view(-1))  # Flatten para MLP\n",
    "])\n",
    "acc, all_labels, all_preds, all_paths = predict(model, model_path, transform, set_path, batch_size=32)\n",
    "out_dir = \"../../models/predictions\"\n",
    "os.makedirs(out_dir, exist_ok=True)\n",
    "\n",
    "df = pd.DataFrame({\n",
    "    \"img_path\": all_paths,\n",
    "    \"true_label\": all_labels,\n",
    "    \"pred_label\": all_preds,\n",
    "    \"correct\": (pd.Series(all_labels) == pd.Series(all_preds)).astype(int)\n",
    "})\n",
    "\n",
    "out_path = os.path.join(out_dir, \"preds_MLPClassifier.csv\")\n",
    "df.to_csv(out_path, index=False)\n",
    "print(f\"✅ Results saved in {out_path}\")\n",
    "print(f\"Global Accuracy: {acc:.4f}\")"
   ]
  },
  {
   "cell_type": "code",
   "execution_count": null,
   "id": "0223378d",
   "metadata": {},
   "outputs": [
    {
     "name": "stdout",
     "output_type": "stream",
     "text": [
      "../../data/val\n",
      "Validation accuracy: 0.7052785923753666\n",
      "✅ Results saved in ../../models/predictions\\preds_LeNetModern.csv\n",
      "Global Accuracy: 0.7053\n"
     ]
    }
   ],
   "source": [
    "num_classes = 11\n",
    "model = LeNetModern(input_dim=64*64*3, num_classes=num_classes)\n",
    "model_path = \"../../models/best_model_LeNetModern.pth\"\n",
    "set_path = \"../../data/val\"\n",
    "\n",
    "transform = transforms.Compose([\n",
    "    transforms.Resize((64, 64)),\n",
    "    transforms.ToTensor(),\n",
    "    transforms.Normalize(mean=mean, std=std),\n",
    "])\n",
    "acc, all_labels, all_preds, all_paths = predict(model, model_path, transform, set_path, batch_size=32)\n",
    "out_dir = \"../../models/predictions\"\n",
    "os.makedirs(out_dir, exist_ok=True)\n",
    "\n",
    "df = pd.DataFrame({\n",
    "    \"img_path\": all_paths,\n",
    "    \"true_label\": all_labels,\n",
    "    \"pred_label\": all_preds,\n",
    "    \"correct\": (pd.Series(all_labels) == pd.Series(all_preds)).astype(int)\n",
    "})\n",
    "\n",
    "out_path = os.path.join(out_dir, \"preds_LeNetModern.csv\")\n",
    "df.to_csv(out_path, index=False)\n",
    "print(f\"✅ Results saved in {out_path}\")\n",
    "print(f\"Global Accuracy: {acc:.4f}\")"
   ]
  },
  {
   "cell_type": "code",
   "execution_count": null,
   "id": "671355d2",
   "metadata": {},
   "outputs": [
    {
     "name": "stdout",
     "output_type": "stream",
     "text": [
      "../../data/val\n",
      "Validation accuracy: 0.6979472140762464\n",
      "✅ Results saved in ../../models/predictions\\preds_CNN_V1.csv\n",
      "Global Accuracy: 0.6979\n"
     ]
    }
   ],
   "source": [
    "num_classes = 11\n",
    "model = CNN_V1(input_dim=64*64*3, num_classes=num_classes)\n",
    "model_path = \"../../models/best_model_CNN_V1.pth\"\n",
    "set_path = \"../../data/val\"\n",
    "\n",
    "transform = transforms.Compose([\n",
    "    transforms.Resize((64, 64)),\n",
    "    transforms.ToTensor(),\n",
    "    transforms.Normalize(mean=mean, std=std),\n",
    "])\n",
    "acc, all_labels, all_preds, all_paths = predict(model, model_path, transform, set_path, batch_size=32)\n",
    "out_dir = \"../../models/predictions\"\n",
    "os.makedirs(out_dir, exist_ok=True)\n",
    "\n",
    "df = pd.DataFrame({\n",
    "    \"img_path\": all_paths,\n",
    "    \"true_label\": all_labels,\n",
    "    \"pred_label\": all_preds,\n",
    "    \"correct\": (pd.Series(all_labels) == pd.Series(all_preds)).astype(int)\n",
    "})\n",
    "\n",
    "out_path = os.path.join(out_dir, \"preds_CNN_V1.csv\")\n",
    "df.to_csv(out_path, index=False)\n",
    "print(f\"✅ Results saved in {out_path}\")\n",
    "print(f\"Global Accuracy: {acc:.4f}\")"
   ]
  },
  {
   "cell_type": "code",
   "execution_count": null,
   "id": "375b9f12",
   "metadata": {},
   "outputs": [
    {
     "name": "stdout",
     "output_type": "stream",
     "text": [
      "../../data/val\n",
      "Validation accuracy: 0.6920821114369502\n",
      "✅ Results saved in ../../models/predictions\\preds_CNN_V1_reg.csv\n",
      "Global Accuracy: 0.6921\n"
     ]
    }
   ],
   "source": [
    "num_classes = 11\n",
    "model = CNN_V1_reg(input_dim=64*64*3, num_classes=num_classes)\n",
    "model_path = \"../../models/best_model_CNN_V1_reg.pth\"\n",
    "set_path = \"../../data/val\"\n",
    "\n",
    "transform = transforms.Compose([\n",
    "    transforms.Resize((64, 64)),\n",
    "    transforms.ToTensor(),\n",
    "    transforms.Normalize(mean=mean, std=std),\n",
    "])\n",
    "acc, all_labels, all_preds, all_paths = predict(model, model_path, transform, set_path, batch_size=32)\n",
    "out_dir = \"../../models/predictions\"\n",
    "os.makedirs(out_dir, exist_ok=True)\n",
    "\n",
    "df = pd.DataFrame({\n",
    "    \"img_path\": all_paths,\n",
    "    \"true_label\": all_labels,\n",
    "    \"pred_label\": all_preds,\n",
    "    \"correct\": (pd.Series(all_labels) == pd.Series(all_preds)).astype(int)\n",
    "})\n",
    "\n",
    "out_path = os.path.join(out_dir, \"preds_CNN_V1_reg.csv\")\n",
    "df.to_csv(out_path, index=False)\n",
    "print(f\"✅ Results saved in {out_path}\")\n",
    "print(f\"Global Accuracy: {acc:.4f}\")"
   ]
  },
  {
   "cell_type": "code",
   "execution_count": null,
   "id": "8706fea3",
   "metadata": {},
   "outputs": [
    {
     "name": "stdout",
     "output_type": "stream",
     "text": [
      "../../data/val\n",
      "Validation accuracy: 0.7008797653958945\n",
      "✅ Results saved in ../../models/predictions\\preds_CNN_V2.csv\n",
      "Global Accuracy: 0.7009\n"
     ]
    }
   ],
   "source": [
    "num_classes = 11\n",
    "model = CNN_V2(input_dim=128*128*3, num_classes=num_classes)\n",
    "model_path = \"../../models/best_model_CNN_V2.pth\"\n",
    "set_path = \"../../data/val\"\n",
    "\n",
    "transform = transforms.Compose([\n",
    "    transforms.Resize((128, 128)),\n",
    "    transforms.ToTensor(),\n",
    "    transforms.Normalize(mean=mean, std=std),\n",
    "])\n",
    "acc, all_labels, all_preds, all_paths = predict(model, model_path, transform, set_path, batch_size=32)\n",
    "out_dir = \"../../models/predictions\"\n",
    "os.makedirs(out_dir, exist_ok=True)\n",
    "\n",
    "df = pd.DataFrame({\n",
    "    \"img_path\": all_paths,\n",
    "    \"true_label\": all_labels,\n",
    "    \"pred_label\": all_preds,\n",
    "    \"correct\": (pd.Series(all_labels) == pd.Series(all_preds)).astype(int)\n",
    "})\n",
    "\n",
    "out_path = os.path.join(out_dir, \"preds_CNN_V2.csv\")\n",
    "df.to_csv(out_path, index=False)\n",
    "print(f\"✅ Results saved in {out_path}\")\n",
    "print(f\"Global Accuracy: {acc:.4f}\")"
   ]
  },
  {
   "cell_type": "code",
   "execution_count": null,
   "id": "956cdddc",
   "metadata": {},
   "outputs": [
    {
     "name": "stdout",
     "output_type": "stream",
     "text": [
      "../../data/val\n",
      "Validation accuracy: 0.658357771260997\n",
      "✅ Results saved in ../../models/predictions\\preds_CNN_V2_reg.csv\n",
      "Global Accuracy: 0.6584\n"
     ]
    }
   ],
   "source": [
    "num_classes = 11\n",
    "model = CNN_V2_reg(input_dim=128*128*3, num_classes=num_classes)\n",
    "model_path = \"../../models/best_model_CNN_V2_reg.pth\"\n",
    "set_path = \"../../data/val\"\n",
    "\n",
    "transform = transforms.Compose([\n",
    "    transforms.Resize((128, 128)),\n",
    "    transforms.ToTensor(),\n",
    "    transforms.Normalize(mean=mean, std=std),\n",
    "])\n",
    "acc, all_labels, all_preds, all_paths = predict(model, model_path, transform, set_path, batch_size=32)\n",
    "out_dir = \"../../models/predictions\"\n",
    "os.makedirs(out_dir, exist_ok=True)\n",
    "\n",
    "df = pd.DataFrame({\n",
    "    \"img_path\": all_paths,\n",
    "    \"true_label\": all_labels,\n",
    "    \"pred_label\": all_preds,\n",
    "    \"correct\": (pd.Series(all_labels) == pd.Series(all_preds)).astype(int)\n",
    "})\n",
    "\n",
    "out_path = os.path.join(out_dir, \"preds_CNN_V2_reg.csv\")\n",
    "df.to_csv(out_path, index=False)\n",
    "print(f\"✅ Results saved in {out_path}\")\n",
    "print(f\"Global Accuracy: {acc:.4f}\")"
   ]
  },
  {
   "cell_type": "code",
   "execution_count": null,
   "id": "d340159d",
   "metadata": {},
   "outputs": [
    {
     "name": "stdout",
     "output_type": "stream",
     "text": [
      "../../data/val\n",
      "Validation accuracy: 0.7243401759530792\n",
      "✅ Results saved in ../../models/predictions\\preds_CNN_V3.csv\n",
      "Global Accuracy: 0.7243\n"
     ]
    }
   ],
   "source": [
    "num_classes = 11\n",
    "model = CNN_V3(input_dim=224*224*3, num_classes=num_classes)\n",
    "model_path = \"../../models/best_model_CNN_V3.pth\"\n",
    "set_path = \"../../data/val\"\n",
    "\n",
    "transform = transforms.Compose([\n",
    "    transforms.Resize((224, 224)),\n",
    "    transforms.ToTensor(),\n",
    "    transforms.Normalize(mean=mean, std=std),\n",
    "])\n",
    "acc, all_labels, all_preds, all_paths = predict(model, model_path, transform, set_path, batch_size=32)\n",
    "out_dir = \"../../models/predictions\"\n",
    "os.makedirs(out_dir, exist_ok=True)\n",
    "\n",
    "df = pd.DataFrame({\n",
    "    \"img_path\": all_paths,\n",
    "    \"true_label\": all_labels,\n",
    "    \"pred_label\": all_preds,\n",
    "    \"correct\": (pd.Series(all_labels) == pd.Series(all_preds)).astype(int)\n",
    "})\n",
    "\n",
    "out_path = os.path.join(out_dir, \"preds_CNN_V3.csv\")\n",
    "df.to_csv(out_path, index=False)\n",
    "print(f\"✅ Results saved in {out_path}\")\n",
    "print(f\"Global Accuracy: {acc:.4f}\")"
   ]
  },
  {
   "cell_type": "code",
   "execution_count": null,
   "id": "8eb7c14f",
   "metadata": {},
   "outputs": [
    {
     "name": "stdout",
     "output_type": "stream",
     "text": [
      "../../data/val\n",
      "Validation accuracy: 0.6964809384164223\n",
      "✅ Results saved in ../../models/predictions\\preds_CNN_V3_reg.csv\n",
      "Global Accuracy: 0.6965\n"
     ]
    }
   ],
   "source": [
    "num_classes = 11\n",
    "model = CNN_V3_reg(input_dim=224*224*3, num_classes=num_classes)\n",
    "model_path = \"../../models/best_model_CNN_V3_reg.pth\"\n",
    "set_path = \"../../data/val\"\n",
    "\n",
    "transform = transforms.Compose([\n",
    "    transforms.Resize((224, 224)),\n",
    "    transforms.ToTensor(),\n",
    "    transforms.Normalize(mean=mean, std=std),\n",
    "])\n",
    "acc, all_labels, all_preds, all_paths = predict(model, model_path, transform, set_path, batch_size=32)\n",
    "out_dir = \"../../models/predictions\"\n",
    "os.makedirs(out_dir, exist_ok=True)\n",
    "\n",
    "df = pd.DataFrame({\n",
    "    \"img_path\": all_paths,\n",
    "    \"true_label\": all_labels,\n",
    "    \"pred_label\": all_preds,\n",
    "    \"correct\": (pd.Series(all_labels) == pd.Series(all_preds)).astype(int)\n",
    "})\n",
    "\n",
    "out_path = os.path.join(out_dir, \"preds_CNN_V3_reg.csv\")\n",
    "df.to_csv(out_path, index=False)\n",
    "print(f\"✅ Results saved in {out_path}\")\n",
    "print(f\"Global Accuracy: {acc:.4f}\")"
   ]
  },
  {
   "cell_type": "code",
   "execution_count": null,
   "id": "dd63ac94",
   "metadata": {},
   "outputs": [
    {
     "name": "stdout",
     "output_type": "stream",
     "text": [
      "../../data/val\n",
      "Detected checkpoint format (with optimizer/epoch info)\n",
      "Validation accuracy: 0.7859237536656891\n",
      "✅ Results saved in ../../models/predictions\\preds_CNN_V3_Improved.csv\n",
      "Global Accuracy: 0.7859\n"
     ]
    }
   ],
   "source": [
    "num_classes = 11\n",
    "model = CNN_V3_Improved(input_dim=224*224*3, num_classes=num_classes)\n",
    "model_path = \"../../models/best_model_CNN_V3_Improved.pth\"\n",
    "set_path = \"../../data/val\"\n",
    "\n",
    "transform = transforms.Compose([\n",
    "    transforms.Resize((224, 224)),\n",
    "    transforms.ToTensor(),\n",
    "    transforms.Normalize(mean=mean, std=std)\n",
    "])\n",
    "acc, all_labels, all_preds, all_paths = predict(model, model_path, transform, set_path, batch_size=32)\n",
    "out_dir = \"../../models/predictions\"\n",
    "os.makedirs(out_dir, exist_ok=True)\n",
    "\n",
    "df = pd.DataFrame({\n",
    "    \"img_path\": all_paths,\n",
    "    \"true_label\": all_labels,\n",
    "    \"pred_label\": all_preds,\n",
    "    \"correct\": (pd.Series(all_labels) == pd.Series(all_preds)).astype(int)\n",
    "})\n",
    "\n",
    "out_path = os.path.join(out_dir, \"preds_CNN_V3_Improved.csv\")\n",
    "df.to_csv(out_path, index=False)\n",
    "print(f\"✅ Results saved in {out_path}\")\n",
    "print(f\"Global Accuracy: {acc:.4f}\")"
   ]
  }
 ],
 "metadata": {
  "kernelspec": {
   "display_name": "py311ml",
   "language": "python",
   "name": "python3"
  },
  "language_info": {
   "codemirror_mode": {
    "name": "ipython",
    "version": 3
   },
   "file_extension": ".py",
   "mimetype": "text/x-python",
   "name": "python",
   "nbconvert_exporter": "python",
   "pygments_lexer": "ipython3",
   "version": "3.11.13"
  }
 },
 "nbformat": 4,
 "nbformat_minor": 5
}
