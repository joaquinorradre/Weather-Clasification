{
 "cells": [
  {
   "cell_type": "code",
   "execution_count": null,
   "id": "0229b2a5",
   "metadata": {},
   "outputs": [],
   "source": [
    "import sys\n",
    "import os\n",
    "\n",
    "# Add the root folder of your project\n",
    "root_path = os.path.abspath(os.path.join(\"..\", \"..\"))  # two levels up from experiments\n",
    "sys.path.append(root_path)\n",
    "\n",
    "from weather_classification.modeling.mlp import MLPClassifier\n",
    "from weather_classification.modeling.modern_lenet import LeNetModern\n",
    "from weather_classification.predict import predict\n",
    "from torchvision import transforms\n"
   ]
  },
  {
   "cell_type": "code",
   "execution_count": 4,
   "id": "9f686756",
   "metadata": {},
   "outputs": [
    {
     "name": "stdout",
     "output_type": "stream",
     "text": [
      "Validation accuracy: 0.6656891495601173\n"
     ]
    }
   ],
   "source": [
    "num_classes = 11\n",
    "model = LeNetModern(input_dim=64*64*3, num_classes=num_classes)\n",
    "model_path = \"best_model.pth\"\n",
    "set_path = \"../../data/val\"\n",
    "\n",
    "transform = transforms.Compose([\n",
    "    transforms.Resize((64, 64)),   # Resize images\n",
    "    transforms.ToTensor(),         # Convert to tensor\n",
    "])\n",
    "accuracy = predict(model, model_path, transform, set_path, batch_size=32)"
   ]
  }
 ],
 "metadata": {
  "kernelspec": {
   "display_name": "py311ml",
   "language": "python",
   "name": "python3"
  },
  "language_info": {
   "codemirror_mode": {
    "name": "ipython",
    "version": 3
   },
   "file_extension": ".py",
   "mimetype": "text/x-python",
   "name": "python",
   "nbconvert_exporter": "python",
   "pygments_lexer": "ipython3",
   "version": "3.11.13"
  }
 },
 "nbformat": 4,
 "nbformat_minor": 5
}
