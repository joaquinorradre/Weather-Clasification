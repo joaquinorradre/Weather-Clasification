{
 "cells": [
  {
   "cell_type": "code",
   "execution_count": 1,
   "id": "afd47991",
   "metadata": {},
   "outputs": [],
   "source": [
    "import os\n",
    "from PIL import Image\n",
    "from torch.utils.data import Dataset, DataLoader\n",
    "from torchvision import transforms"
   ]
  },
  {
   "cell_type": "code",
   "execution_count": 5,
   "id": "d7169c8d",
   "metadata": {},
   "outputs": [
    {
     "name": "stdout",
     "output_type": "stream",
     "text": [
      "Clases detectadas: ['dew', 'fogsmog', 'frost', 'glaze', 'hail', 'lightning', 'rain', 'rainbow', 'rime', 'sandstorm', 'snow']\n",
      "Mapping class_to_idx: {'dew': 0, 'fogsmog': 1, 'frost': 2, 'glaze': 3, 'hail': 4, 'lightning': 5, 'rain': 6, 'rainbow': 7, 'rime': 8, 'sandstorm': 9, 'snow': 10}\n",
      "Número de imágenes en train: 5484\n",
      "Número de imágenes en val: 682\n",
      "Número de imágenes en test: 696\n",
      "Shape de la imagen: torch.Size([3, 128, 128])\n",
      "Etiqueta (id): 1 -> Nombre de clase: fogsmog\n"
     ]
    }
   ],
   "source": [
    "class WeatherDataset(Dataset):\n",
    "    def __init__(self, root_dir, transform=None):\n",
    "        self.root_dir = root_dir\n",
    "        self.transform = transform\n",
    "\n",
    "        self.classes = sorted([d for d in os.listdir(root_dir) if os.path.isdir(os.path.join(root_dir, d))])\n",
    "        self.class_to_idx = {cls_name: idx for idx, cls_name in enumerate(self.classes)}\n",
    "\n",
    "        self.samples = []\n",
    "        for cls_name in self.classes:\n",
    "            cls_folder = os.path.join(root_dir, cls_name)\n",
    "            for fname in os.listdir(cls_folder):\n",
    "                fpath = os.path.join(cls_folder, fname)\n",
    "                if os.path.isfile(fpath):\n",
    "                    self.samples.append((fpath, self.class_to_idx[cls_name]))\n",
    "\n",
    "    def __len__(self):\n",
    "        return len(self.samples)\n",
    "\n",
    "    def __getitem__(self, idx):\n",
    "        img_path, label = self.samples[idx]\n",
    "        img = Image.open(img_path).convert(\"RGB\")\n",
    "        if self.transform:\n",
    "            img = self.transform(img)\n",
    "        return img, label\n",
    "\n",
    "train_transform = transforms.Compose([\n",
    "    transforms.Resize((128,128)),\n",
    "    transforms.RandomHorizontalFlip(),\n",
    "    transforms.ToTensor(),\n",
    "    transforms.Normalize(mean=[0.5,0.5,0.5], std=[0.5,0.5,0.5])\n",
    "])\n",
    "\n",
    "val_test_transform = transforms.Compose([\n",
    "    transforms.Resize((128,128)),\n",
    "    transforms.ToTensor(),\n",
    "    transforms.Normalize(mean=[0.5,0.5,0.5], std=[0.5,0.5,0.5])\n",
    "])\n",
    "\n",
    "train_dataset = WeatherDataset(\"../data/train\", transform=train_transform)\n",
    "val_dataset   = WeatherDataset(\"../data/val\", transform=val_test_transform)\n",
    "test_dataset  = WeatherDataset(\"../data/test\", transform=val_test_transform)\n",
    "\n",
    "train_loader = DataLoader(train_dataset, batch_size=32, shuffle=True, num_workers=4)\n",
    "val_loader   = DataLoader(val_dataset, batch_size=32, shuffle=False, num_workers=4)\n",
    "test_loader  = DataLoader(test_dataset, batch_size=32, shuffle=False, num_workers=4)\n",
    "\n",
    "print(\"Clases detectadas:\", train_dataset.classes)\n",
    "print(\"Mapping class_to_idx:\", train_dataset.class_to_idx)\n",
    "print(f\"Número de imágenes en train: {len(train_dataset)}\")\n",
    "print(f\"Número de imágenes en val: {len(val_dataset)}\")\n",
    "print(f\"Número de imágenes en test: {len(test_dataset)}\")\n",
    "\n",
    "img, label = train_dataset[587]\n",
    "print(\"Shape de la imagen:\", img.shape)\n",
    "print(\"Etiqueta (id):\", label, \"-> Nombre de clase:\", train_dataset.classes[label])"
   ]
  }
 ],
 "metadata": {
  "kernelspec": {
   "display_name": "Python 3",
   "language": "python",
   "name": "python3"
  },
  "language_info": {
   "codemirror_mode": {
    "name": "ipython",
    "version": 3
   },
   "file_extension": ".py",
   "mimetype": "text/x-python",
   "name": "python",
   "nbconvert_exporter": "python",
   "pygments_lexer": "ipython3",
   "version": "3.12.0"
  }
 },
 "nbformat": 4,
 "nbformat_minor": 5
}
