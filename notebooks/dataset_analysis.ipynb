{
 "cells": [
  {
   "cell_type": "markdown",
   "id": "1c2537ae",
   "metadata": {},
   "source": [
    "# Dataset analysis"
   ]
  },
  {
   "cell_type": "markdown",
   "id": "e1a145f5",
   "metadata": {},
   "source": [
    "### Visualization of content"
   ]
  },
  {
   "cell_type": "code",
   "execution_count": null,
   "id": "15d4edab",
   "metadata": {
    "vscode": {
     "languageId": "plaintext"
    }
   },
   "outputs": [],
   "source": []
  },
  {
   "cell_type": "markdown",
   "id": "5db17fb7",
   "metadata": {
    "vscode": {
     "languageId": "plaintext"
    }
   },
   "source": [
    "### Class distribution"
   ]
  },
  {
   "cell_type": "code",
   "execution_count": null,
   "id": "6b60dfad",
   "metadata": {},
   "outputs": [],
   "source": []
  },
  {
   "cell_type": "markdown",
   "id": "0fefe9f9",
   "metadata": {},
   "source": [
    "### Dimension overview"
   ]
  },
  {
   "cell_type": "code",
   "execution_count": null,
   "id": "ae654753",
   "metadata": {},
   "outputs": [],
   "source": []
  },
  {
   "cell_type": "markdown",
   "id": "4f0a3732",
   "metadata": {
    "vscode": {
     "languageId": "plaintext"
    }
   },
   "source": [
    "### Color analysis / Mean image"
   ]
  },
  {
   "cell_type": "code",
   "execution_count": null,
   "id": "7f512e1b",
   "metadata": {},
   "outputs": [],
   "source": []
  }
 ],
 "metadata": {
  "language_info": {
   "name": "python"
  }
 },
 "nbformat": 4,
 "nbformat_minor": 5
}
